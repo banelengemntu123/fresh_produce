{
 "cells": [
  {
   "cell_type": "code",
   "execution_count": 8,
   "metadata": {},
   "outputs": [
    {
     "name": "stderr",
     "output_type": "stream",
     "text": [
      "C:\\Users\\UtopianNinja\\Anaconda3\\lib\\site-packages\\flask_sqlalchemy\\__init__.py:834: FSADeprecationWarning: SQLALCHEMY_TRACK_MODIFICATIONS adds significant overhead and will be disabled by default in the future.  Set it to True or False to suppress this warning.\n",
      "  'SQLALCHEMY_TRACK_MODIFICATIONS adds significant overhead and '\n"
     ]
    }
   ],
   "source": [
    "import pandas as pd\n",
    "import urllib\n",
    "from sqlalchemy import create_engine, MetaData, select\n",
    "from sqlalchemy.orm import sessionmaker\n",
    "\n",
    "# Custom upload with connection string\n",
    "from engine_info import server_info\n",
    "# From normalized_tables.py\n",
    "from retailers_normalized_data import RetailerProducts, Retailers, Date, RetailerPrices, MasterDate, db\n",
    "\n",
    "import warnings\n",
    "warnings.filterwarnings('ignore')"
   ]
  },
  {
   "cell_type": "code",
   "execution_count": 9,
   "metadata": {},
   "outputs": [],
   "source": [
    "# Creating a connection to MS SQL SERVER\n",
    "params = urllib.parse.quote_plus(server_info)\n",
    "engine = create_engine('mssql+pyodbc:///?odbc_connect=%s' % params)\n",
    "connection = engine.connect()"
   ]
  },
  {
   "cell_type": "code",
   "execution_count": 10,
   "metadata": {},
   "outputs": [
    {
     "data": {
      "text/plain": [
       "['Capetown_Fresh_produce_market',\n",
       " 'Capetown_Fresh_produce_market_cleaned',\n",
       " 'container',\n",
       " 'Date',\n",
       " 'Durban_Fresh_produce_market',\n",
       " 'Durban_Fresh_produce_market_cleaned',\n",
       " 'inventory',\n",
       " 'Joburg_Fresh_produce_combined_cleaned',\n",
       " 'Joburg_Fresh_produce_commodity_cleaned',\n",
       " 'Joburg_Fresh_produce_commodity_raw',\n",
       " 'Joburg_Fresh_produce_container_cleaned',\n",
       " 'Joburg_Fresh_produce_container_raw',\n",
       " 'Joburg_Fresh_produce_product_combination_raw',\n",
       " 'Joburg_Fresh_produce_scrapping_date',\n",
       " 'master_date',\n",
       " 'PickNPay_Prices',\n",
       " 'PickNPay_Prices_cleaned',\n",
       " 'product',\n",
       " 'product_combination',\n",
       " 'Retailer_Products',\n",
       " 'RetailerPrices',\n",
       " 'RetailerProducts',\n",
       " 'Retailers',\n",
       " 'sales',\n",
       " 'Shoprite_Prices',\n",
       " 'Shoprite_Prices_cleaned',\n",
       " 'sysdiagrams',\n",
       " 'woolworths_Prices',\n",
       " 'Woolworths_Prices_cleaned']"
      ]
     },
     "execution_count": 10,
     "metadata": {},
     "output_type": "execute_result"
    }
   ],
   "source": [
    "# Check what is in the database\n",
    "engine.table_names()"
   ]
  },
  {
   "cell_type": "code",
   "execution_count": 11,
   "metadata": {},
   "outputs": [],
   "source": [
    "metadata = MetaData(bind=engine)"
   ]
  },
  {
   "cell_type": "markdown",
   "metadata": {},
   "source": [
    "## 1. Retailers"
   ]
  },
  {
   "cell_type": "code",
   "execution_count": 31,
   "metadata": {},
   "outputs": [],
   "source": [
    "retailers_df = pd.read_sql_table('Retailers', con=engine)"
   ]
  },
  {
   "cell_type": "code",
   "execution_count": 33,
   "metadata": {},
   "outputs": [],
   "source": [
    "retailers_df[\"RetailerID\"] = pd.Series([1,2,3])\n",
    "retailers_df[\"RetailerName\"] = pd.Series(['Shoprite',\"Pick 'n Pay'\",'Woolworths'])"
   ]
  },
  {
   "cell_type": "code",
   "execution_count": 34,
   "metadata": {
    "scrolled": true
   },
   "outputs": [
    {
     "data": {
      "text/html": [
       "<div>\n",
       "<style scoped>\n",
       "    .dataframe tbody tr th:only-of-type {\n",
       "        vertical-align: middle;\n",
       "    }\n",
       "\n",
       "    .dataframe tbody tr th {\n",
       "        vertical-align: top;\n",
       "    }\n",
       "\n",
       "    .dataframe thead th {\n",
       "        text-align: right;\n",
       "    }\n",
       "</style>\n",
       "<table border=\"1\" class=\"dataframe\">\n",
       "  <thead>\n",
       "    <tr style=\"text-align: right;\">\n",
       "      <th></th>\n",
       "      <th>RetailerName</th>\n",
       "      <th>RetailerID</th>\n",
       "    </tr>\n",
       "  </thead>\n",
       "  <tbody>\n",
       "    <tr>\n",
       "      <th>0</th>\n",
       "      <td>Shoprite</td>\n",
       "      <td>1</td>\n",
       "    </tr>\n",
       "    <tr>\n",
       "      <th>1</th>\n",
       "      <td>Pick 'n Pay'</td>\n",
       "      <td>2</td>\n",
       "    </tr>\n",
       "    <tr>\n",
       "      <th>2</th>\n",
       "      <td>Woolworths</td>\n",
       "      <td>3</td>\n",
       "    </tr>\n",
       "  </tbody>\n",
       "</table>\n",
       "</div>"
      ],
      "text/plain": [
       "   RetailerName  RetailerID\n",
       "0      Shoprite           1\n",
       "1  Pick 'n Pay'           2\n",
       "2    Woolworths           3"
      ]
     },
     "execution_count": 34,
     "metadata": {},
     "output_type": "execute_result"
    }
   ],
   "source": [
    "retailers_df.head()"
   ]
  },
  {
   "cell_type": "code",
   "execution_count": 35,
   "metadata": {
    "scrolled": true
   },
   "outputs": [
    {
     "name": "stdout",
     "output_type": "stream",
     "text": [
      "<class 'pandas.core.frame.DataFrame'>\n",
      "RangeIndex: 3 entries, 0 to 2\n",
      "Data columns (total 2 columns):\n",
      " #   Column        Non-Null Count  Dtype \n",
      "---  ------        --------------  ----- \n",
      " 0   RetailerName  3 non-null      object\n",
      " 1   RetailerID    3 non-null      int64 \n",
      "dtypes: int64(1), object(1)\n",
      "memory usage: 176.0+ bytes\n"
     ]
    }
   ],
   "source": [
    "# Check the data type so that it's suited to be inserted in a normalized database\n",
    "retailers_df.info()"
   ]
  },
  {
   "cell_type": "markdown",
   "metadata": {},
   "source": [
    "## 2. RetailerProducts (JHB)"
   ]
  },
  {
   "cell_type": "code",
   "execution_count": 36,
   "metadata": {},
   "outputs": [],
   "source": [
    "products_df = pd.read_sql_table('RetailerProducts', con=engine)"
   ]
  },
  {
   "cell_type": "code",
   "execution_count": 38,
   "metadata": {},
   "outputs": [],
   "source": [
    "pnp_df = pd.read_sql_table('PickNPay_Prices_cleaned', con=engine)\n",
    "shoprite_df = pd.read_sql_table('Shoprite_Prices_cleaned', con=engine)\n",
    "woolworths_df = pd.read_sql_table('Woolworths_Prices_cleaned', con=engine)"
   ]
  },
  {
   "cell_type": "code",
   "execution_count": null,
   "metadata": {},
   "outputs": [],
   "source": [
    "for index, row in pnp_df.iterrows():\n",
    "    \n",
    "    some_product = Product.query.filter_by(name=row['item']).first()\n",
    "    some_id = \n",
    "    \n",
    "    invoice = Sales(\n",
    "        sales_date=some_date,\n",
    "        quantity_sold=row['total_qty_sold'],\n",
    "        kg_sold=row['total_kg_sold'],\n",
    "        value=row['total_value_sold'],\n",
    "        average_price=row['average'],\n",
    "        highest_price=row['highest_price'],\n",
    "        combination_sale=some_combo,\n",
    "        container_sale=some_container,\n",
    "        product_sale=some_product\n",
    "    )\n",
    "    \n",
    "    db.session.add(invoice)\n",
    "    db.session.commit()"
   ]
  },
  {
   "cell_type": "code",
   "execution_count": 37,
   "metadata": {},
   "outputs": [
    {
     "data": {
      "text/html": [
       "<div>\n",
       "<style scoped>\n",
       "    .dataframe tbody tr th:only-of-type {\n",
       "        vertical-align: middle;\n",
       "    }\n",
       "\n",
       "    .dataframe tbody tr th {\n",
       "        vertical-align: top;\n",
       "    }\n",
       "\n",
       "    .dataframe thead th {\n",
       "        text-align: right;\n",
       "    }\n",
       "</style>\n",
       "<table border=\"1\" class=\"dataframe\">\n",
       "  <thead>\n",
       "    <tr style=\"text-align: right;\">\n",
       "      <th></th>\n",
       "      <th>RetailerProductID</th>\n",
       "      <th>RetailerProduct</th>\n",
       "    </tr>\n",
       "  </thead>\n",
       "  <tbody>\n",
       "  </tbody>\n",
       "</table>\n",
       "</div>"
      ],
      "text/plain": [
       "Empty DataFrame\n",
       "Columns: [RetailerProductID, RetailerProduct]\n",
       "Index: []"
      ]
     },
     "execution_count": 37,
     "metadata": {},
     "output_type": "execute_result"
    }
   ],
   "source": [
    "products_df.head()"
   ]
  },
  {
   "cell_type": "code",
   "execution_count": 13,
   "metadata": {},
   "outputs": [
    {
     "name": "stdout",
     "output_type": "stream",
     "text": [
      "<class 'pandas.core.frame.DataFrame'>\n",
      "RangeIndex: 3987 entries, 0 to 3986\n",
      "Data columns (total 13 columns):\n",
      " #   Column                    Non-Null Count  Dtype  \n",
      "---  ------                    --------------  -----  \n",
      " 0   index                     3987 non-null   int64  \n",
      " 1   rowid                     3987 non-null   int64  \n",
      " 2   date                      3987 non-null   object \n",
      " 3   commodity                 3987 non-null   object \n",
      " 4   container                 3987 non-null   object \n",
      " 5   qty_available             3987 non-null   int64  \n",
      " 6   average_price_per_kg      3987 non-null   float64\n",
      " 7   MTD_total_value_sold_(R)  3987 non-null   float64\n",
      " 8   total_value_sold_(R)      3987 non-null   float64\n",
      " 9   Total_quatity_sold        3987 non-null   float64\n",
      " 10  MTD_Total_quatity_sold    3987 non-null   float64\n",
      " 11  Total_kg_sold             3987 non-null   float64\n",
      " 12  MTD_total_kg_sold         3987 non-null   float64\n",
      "dtypes: float64(7), int64(3), object(3)\n",
      "memory usage: 405.1+ KB\n"
     ]
    }
   ],
   "source": [
    "container_df.info()"
   ]
  },
  {
   "cell_type": "code",
   "execution_count": 14,
   "metadata": {},
   "outputs": [],
   "source": [
    "# Change the quantity sold to int\n",
    "container_df[['Total_quatity_sold', 'MTD_Total_quatity_sold']] = container_df[['Total_quatity_sold', 'MTD_Total_quatity_sold']].astype('int64')"
   ]
  },
  {
   "cell_type": "code",
   "execution_count": 15,
   "metadata": {},
   "outputs": [],
   "source": [
    "# Convert date column from string to datetime\n",
    "container_df['date'] = pd.to_datetime(container_df['date'])"
   ]
  },
  {
   "cell_type": "code",
   "execution_count": 16,
   "metadata": {},
   "outputs": [
    {
     "name": "stdout",
     "output_type": "stream",
     "text": [
      "<class 'pandas.core.frame.DataFrame'>\n",
      "RangeIndex: 3987 entries, 0 to 3986\n",
      "Data columns (total 13 columns):\n",
      " #   Column                    Non-Null Count  Dtype         \n",
      "---  ------                    --------------  -----         \n",
      " 0   index                     3987 non-null   int64         \n",
      " 1   rowid                     3987 non-null   int64         \n",
      " 2   date                      3987 non-null   datetime64[ns]\n",
      " 3   commodity                 3987 non-null   object        \n",
      " 4   container                 3987 non-null   object        \n",
      " 5   qty_available             3987 non-null   int64         \n",
      " 6   average_price_per_kg      3987 non-null   float64       \n",
      " 7   MTD_total_value_sold_(R)  3987 non-null   float64       \n",
      " 8   total_value_sold_(R)      3987 non-null   float64       \n",
      " 9   Total_quatity_sold        3987 non-null   int64         \n",
      " 10  MTD_Total_quatity_sold    3987 non-null   int64         \n",
      " 11  Total_kg_sold             3987 non-null   float64       \n",
      " 12  MTD_total_kg_sold         3987 non-null   float64       \n",
      "dtypes: datetime64[ns](1), float64(5), int64(5), object(2)\n",
      "memory usage: 405.1+ KB\n"
     ]
    }
   ],
   "source": [
    "container_df.info()"
   ]
  },
  {
   "cell_type": "markdown",
   "metadata": {},
   "source": [
    "## 3. Combination (JHB)"
   ]
  },
  {
   "cell_type": "code",
   "execution_count": 17,
   "metadata": {},
   "outputs": [],
   "source": [
    "combo_df = pd.read_sql_table('Joburg_Fresh_produce_combined_cleaned', con=engine, index_col='rowid')"
   ]
  },
  {
   "cell_type": "code",
   "execution_count": 18,
   "metadata": {},
   "outputs": [
    {
     "data": {
      "text/html": [
       "<div>\n",
       "<style scoped>\n",
       "    .dataframe tbody tr th:only-of-type {\n",
       "        vertical-align: middle;\n",
       "    }\n",
       "\n",
       "    .dataframe tbody tr th {\n",
       "        vertical-align: top;\n",
       "    }\n",
       "\n",
       "    .dataframe thead th {\n",
       "        text-align: right;\n",
       "    }\n",
       "</style>\n",
       "<table border=\"1\" class=\"dataframe\">\n",
       "  <thead>\n",
       "    <tr style=\"text-align: right;\">\n",
       "      <th></th>\n",
       "      <th>index</th>\n",
       "      <th>date</th>\n",
       "      <th>commodity</th>\n",
       "      <th>container</th>\n",
       "      <th>unit_mass</th>\n",
       "      <th>product_combination</th>\n",
       "      <th>total_value_sold</th>\n",
       "      <th>total_qty_sold</th>\n",
       "      <th>total_kg_sold</th>\n",
       "      <th>average</th>\n",
       "      <th>highest_price</th>\n",
       "      <th>ave_per_kg</th>\n",
       "      <th>highest_price_per_kg</th>\n",
       "    </tr>\n",
       "    <tr>\n",
       "      <th>rowid</th>\n",
       "      <th></th>\n",
       "      <th></th>\n",
       "      <th></th>\n",
       "      <th></th>\n",
       "      <th></th>\n",
       "      <th></th>\n",
       "      <th></th>\n",
       "      <th></th>\n",
       "      <th></th>\n",
       "      <th></th>\n",
       "      <th></th>\n",
       "      <th></th>\n",
       "      <th></th>\n",
       "    </tr>\n",
       "  </thead>\n",
       "  <tbody>\n",
       "    <tr>\n",
       "      <th>13803</th>\n",
       "      <td>0</td>\n",
       "      <td>2020-08-31</td>\n",
       "      <td>ONIONS</td>\n",
       "      <td>2KG POCKET</td>\n",
       "      <td>2</td>\n",
       "      <td>SWEET,CL 1,L/M,*,NORTHERN CAPE</td>\n",
       "      <td>0.0</td>\n",
       "      <td>0</td>\n",
       "      <td>0.0</td>\n",
       "      <td>0.0</td>\n",
       "      <td>0.0</td>\n",
       "      <td>0.00</td>\n",
       "      <td>0.0</td>\n",
       "    </tr>\n",
       "    <tr>\n",
       "      <th>13804</th>\n",
       "      <td>1</td>\n",
       "      <td>2020-08-31</td>\n",
       "      <td>ONIONS</td>\n",
       "      <td>2KG POCKET</td>\n",
       "      <td>2</td>\n",
       "      <td>WHITE,CL 1,L/M,*,NORTHERN CAPE</td>\n",
       "      <td>0.0</td>\n",
       "      <td>0</td>\n",
       "      <td>0.0</td>\n",
       "      <td>0.0</td>\n",
       "      <td>0.0</td>\n",
       "      <td>0.00</td>\n",
       "      <td>0.0</td>\n",
       "    </tr>\n",
       "    <tr>\n",
       "      <th>13805</th>\n",
       "      <td>2</td>\n",
       "      <td>2020-08-31</td>\n",
       "      <td>ONIONS</td>\n",
       "      <td>2KG POCKET</td>\n",
       "      <td>2</td>\n",
       "      <td>WHITE,CL 1,M,*,NORTHERN CAPE</td>\n",
       "      <td>0.0</td>\n",
       "      <td>0</td>\n",
       "      <td>0.0</td>\n",
       "      <td>0.0</td>\n",
       "      <td>0.0</td>\n",
       "      <td>0.00</td>\n",
       "      <td>0.0</td>\n",
       "    </tr>\n",
       "    <tr>\n",
       "      <th>13806</th>\n",
       "      <td>3</td>\n",
       "      <td>2020-08-31</td>\n",
       "      <td>ONIONS</td>\n",
       "      <td>3KG POCKET</td>\n",
       "      <td>3</td>\n",
       "      <td>BROWN,CL 1,L/M,*,NORTHERN CAPE</td>\n",
       "      <td>6138.0</td>\n",
       "      <td>361</td>\n",
       "      <td>1083.0</td>\n",
       "      <td>17.0</td>\n",
       "      <td>18.0</td>\n",
       "      <td>5.67</td>\n",
       "      <td>6.0</td>\n",
       "    </tr>\n",
       "    <tr>\n",
       "      <th>13807</th>\n",
       "      <td>4</td>\n",
       "      <td>2020-08-31</td>\n",
       "      <td>ONIONS</td>\n",
       "      <td>3KG POCKET</td>\n",
       "      <td>3</td>\n",
       "      <td>BROWN,CL 1,L/M,*,WESTERN CAPE</td>\n",
       "      <td>0.0</td>\n",
       "      <td>0</td>\n",
       "      <td>0.0</td>\n",
       "      <td>0.0</td>\n",
       "      <td>0.0</td>\n",
       "      <td>0.00</td>\n",
       "      <td>0.0</td>\n",
       "    </tr>\n",
       "  </tbody>\n",
       "</table>\n",
       "</div>"
      ],
      "text/plain": [
       "       index       date commodity   container  unit_mass  \\\n",
       "rowid                                                      \n",
       "13803      0 2020-08-31    ONIONS  2KG POCKET          2   \n",
       "13804      1 2020-08-31    ONIONS  2KG POCKET          2   \n",
       "13805      2 2020-08-31    ONIONS  2KG POCKET          2   \n",
       "13806      3 2020-08-31    ONIONS  3KG POCKET          3   \n",
       "13807      4 2020-08-31    ONIONS  3KG POCKET          3   \n",
       "\n",
       "                  product_combination  total_value_sold  total_qty_sold  \\\n",
       "rowid                                                                     \n",
       "13803  SWEET,CL 1,L/M,*,NORTHERN CAPE               0.0               0   \n",
       "13804  WHITE,CL 1,L/M,*,NORTHERN CAPE               0.0               0   \n",
       "13805    WHITE,CL 1,M,*,NORTHERN CAPE               0.0               0   \n",
       "13806  BROWN,CL 1,L/M,*,NORTHERN CAPE            6138.0             361   \n",
       "13807   BROWN,CL 1,L/M,*,WESTERN CAPE               0.0               0   \n",
       "\n",
       "       total_kg_sold  average  highest_price  ave_per_kg  highest_price_per_kg  \n",
       "rowid                                                                           \n",
       "13803            0.0      0.0            0.0        0.00                   0.0  \n",
       "13804            0.0      0.0            0.0        0.00                   0.0  \n",
       "13805            0.0      0.0            0.0        0.00                   0.0  \n",
       "13806         1083.0     17.0           18.0        5.67                   6.0  \n",
       "13807            0.0      0.0            0.0        0.00                   0.0  "
      ]
     },
     "execution_count": 18,
     "metadata": {},
     "output_type": "execute_result"
    }
   ],
   "source": [
    "combo_df.head()"
   ]
  },
  {
   "cell_type": "code",
   "execution_count": 19,
   "metadata": {},
   "outputs": [
    {
     "name": "stdout",
     "output_type": "stream",
     "text": [
      "<class 'pandas.core.frame.DataFrame'>\n",
      "Int64Index: 14634 entries, 13803 to 13802\n",
      "Data columns (total 13 columns):\n",
      " #   Column                Non-Null Count  Dtype         \n",
      "---  ------                --------------  -----         \n",
      " 0   index                 14634 non-null  int64         \n",
      " 1   date                  14634 non-null  datetime64[ns]\n",
      " 2   commodity             14634 non-null  object        \n",
      " 3   container             14634 non-null  object        \n",
      " 4   unit_mass             14634 non-null  int64         \n",
      " 5   product_combination   14634 non-null  object        \n",
      " 6   total_value_sold      14634 non-null  float64       \n",
      " 7   total_qty_sold        14634 non-null  int64         \n",
      " 8   total_kg_sold         14634 non-null  float64       \n",
      " 9   average               14634 non-null  float64       \n",
      " 10  highest_price         14634 non-null  float64       \n",
      " 11  ave_per_kg            14634 non-null  float64       \n",
      " 12  highest_price_per_kg  14634 non-null  float64       \n",
      "dtypes: datetime64[ns](1), float64(6), int64(3), object(3)\n",
      "memory usage: 1.6+ MB\n"
     ]
    }
   ],
   "source": [
    "combo_df.info()"
   ]
  },
  {
   "cell_type": "code",
   "execution_count": 20,
   "metadata": {},
   "outputs": [
    {
     "data": {
      "text/plain": [
       "container\n",
       "200G PUNNET PACK BOX    37\n",
       "3KG POCKET              31\n",
       "500G PUNNET PACK BOX    29\n",
       "5KG BOX                 26\n",
       "4KG BOX                 26\n",
       "                        ..\n",
       "400G PACKET              1\n",
       "4.5KG TRAY               1\n",
       "4.50KG BOX               1\n",
       "3KG ECONO PACK           1\n",
       ".125G BOTTLE             1\n",
       "Name: commodity, Length: 216, dtype: int64"
      ]
     },
     "execution_count": 20,
     "metadata": {},
     "output_type": "execute_result"
    }
   ],
   "source": [
    "combo_df.groupby('container')['commodity'].nunique().sort_values(ascending=False)"
   ]
  },
  {
   "cell_type": "code",
   "execution_count": 21,
   "metadata": {},
   "outputs": [
    {
     "data": {
      "text/plain": [
       "array(['ONIONS', 'ORANGES', 'PAPRI', 'PEARS', 'PEAS', 'APPLES',\n",
       "       'AVOCADOS', 'BABY BUTTERNUT', 'BABY GEM SQUASH', 'BEANS'],\n",
       "      dtype=object)"
      ]
     },
     "execution_count": 21,
     "metadata": {},
     "output_type": "execute_result"
    }
   ],
   "source": [
    "combo_df[combo_df['container'] == '3KG POCKET']['commodity'].unique()[:10]"
   ]
  },
  {
   "cell_type": "markdown",
   "metadata": {},
   "source": [
    "There's a many to many relationship between commodity and containers, whereby one commodity can have multiple containers and one container can be of different products."
   ]
  },
  {
   "cell_type": "code",
   "execution_count": 22,
   "metadata": {},
   "outputs": [
    {
     "data": {
      "text/plain": [
       "product_combination\n",
       "*,*,*,*,*          93\n",
       "*,CL 1,L,*,*       23\n",
       "*,CL 1,M,*,*       19\n",
       "*,*,*,10,*         19\n",
       "*,CL 2,M,*,*       17\n",
       "                   ..\n",
       "ORRI,CL 2,2,*,*     1\n",
       "OYSTER,*,*,*,*      1\n",
       "OYSTER,*,*,16,*     1\n",
       "OYSTER,*,*,20,*     1\n",
       "*,*, 28,5,*         1\n",
       "Name: container, Length: 1970, dtype: int64"
      ]
     },
     "execution_count": 22,
     "metadata": {},
     "output_type": "execute_result"
    }
   ],
   "source": [
    "combo_df.groupby('product_combination')['container'].nunique().sort_values(ascending=False)"
   ]
  },
  {
   "cell_type": "code",
   "execution_count": 23,
   "metadata": {},
   "outputs": [
    {
     "data": {
      "text/plain": [
       "array(['11KG BOX', '2KG BOX', '4.5KG TRAY', '8KG BOX', 'EIGHT PACK',\n",
       "       'QUAD PACK', 'RAV-PACK', 'SIX PACK', 'TAKE-4 PACK', '3KG BOX'],\n",
       "      dtype=object)"
      ]
     },
     "execution_count": 23,
     "metadata": {},
     "output_type": "execute_result"
    }
   ],
   "source": [
    "combo_df[combo_df['product_combination'] == '*,*,*,*,*']['container'].unique()[:10]"
   ]
  },
  {
   "cell_type": "code",
   "execution_count": 24,
   "metadata": {},
   "outputs": [
    {
     "data": {
      "text/plain": [
       "array(['PAPINO', 'PAPRI', 'PARSLEY', 'PEANUTS RAW / UNSHELLED', 'PEAS',\n",
       "       'PECAN NUT (SHELL)', 'PKS BLUE QUEEN', 'POT PLANTS', 'ATCHARA',\n",
       "       'BABY BUTTERNUT'], dtype=object)"
      ]
     },
     "execution_count": 24,
     "metadata": {},
     "output_type": "execute_result"
    }
   ],
   "source": [
    "combo_df[combo_df['product_combination'] == '*,*,*,*,*']['commodity'].unique()[:10]"
   ]
  },
  {
   "cell_type": "markdown",
   "metadata": {},
   "source": [
    "Similarly, product combination can have multiple containers as well as multiple commodities."
   ]
  },
  {
   "cell_type": "markdown",
   "metadata": {},
   "source": [
    "## 4. Add data to normalized tables"
   ]
  },
  {
   "cell_type": "markdown",
   "metadata": {},
   "source": [
    "### 4.1 product"
   ]
  },
  {
   "cell_type": "code",
   "execution_count": 25,
   "metadata": {},
   "outputs": [],
   "source": [
    "# Different products in the database\n",
    "products = combo_df['commodity'].unique()"
   ]
  },
  {
   "cell_type": "code",
   "execution_count": 26,
   "metadata": {},
   "outputs": [],
   "source": [
    "# Add unique values of products to the product sql table\n",
    "for item in products:\n",
    "    \n",
    "    # Add commodity to database\n",
    "    commodity = Product(name=item)\n",
    "    db.session.add(commodity)\n",
    "    db.session.commit()"
   ]
  },
  {
   "cell_type": "markdown",
   "metadata": {},
   "source": [
    "### 4.2 container"
   ]
  },
  {
   "cell_type": "code",
   "execution_count": 27,
   "metadata": {},
   "outputs": [],
   "source": [
    "# Different containers in the database\n",
    "containers = container_df['container'].unique()"
   ]
  },
  {
   "cell_type": "code",
   "execution_count": 28,
   "metadata": {},
   "outputs": [],
   "source": [
    "# Add unique values of containers to the container sql table\n",
    "for package in containers:\n",
    "    \n",
    "    # Add commodity to database\n",
    "    container = Container(name=package)\n",
    "    db.session.add(container)\n",
    "    db.session.commit()"
   ]
  },
  {
   "cell_type": "markdown",
   "metadata": {},
   "source": [
    "### 4.3 product_combination"
   ]
  },
  {
   "cell_type": "code",
   "execution_count": 29,
   "metadata": {},
   "outputs": [],
   "source": [
    "# Different product combinations in the database\n",
    "combinations = combo_df['product_combination'].unique()"
   ]
  },
  {
   "cell_type": "code",
   "execution_count": 30,
   "metadata": {},
   "outputs": [],
   "source": [
    "# Add unique values of product combinations to the product combinations sql table\n",
    "for combo in combinations:\n",
    "    \n",
    "    # Add commodity to database\n",
    "    product_combo = ProductCombination(name=combo)\n",
    "    db.session.add(product_combo)\n",
    "    db.session.commit()"
   ]
  },
  {
   "cell_type": "markdown",
   "metadata": {},
   "source": [
    "### 4.4 master_date"
   ]
  },
  {
   "cell_type": "code",
   "execution_count": 39,
   "metadata": {},
   "outputs": [],
   "source": [
    "# Dates that are in the database\n",
    "dates = combo_df['date'].unique()"
   ]
  },
  {
   "cell_type": "code",
   "execution_count": 40,
   "metadata": {},
   "outputs": [],
   "source": [
    "mydates = pd.to_datetime(dates)"
   ]
  },
  {
   "cell_type": "code",
   "execution_count": 43,
   "metadata": {},
   "outputs": [],
   "source": [
    "for mydate in mydates:\n",
    "    \n",
    "    date_info = MasterDate(\n",
    "        date_key=mydate,\n",
    "        calendar_date=mydate.strftime('%Y-%m-%d'),\n",
    "        year=mydate.year,\n",
    "        half_of_year=1 if mydate.quarter < 3 else 2,\n",
    "        quarter=mydate.quarter,\n",
    "        month=mydate.month_name(),\n",
    "        week_of_year=mydate.weekofyear,\n",
    "        day=mydate.day_name()\n",
    "    )\n",
    "    db.session.add(date_info)\n",
    "    db.session.commit()"
   ]
  },
  {
   "cell_type": "markdown",
   "metadata": {},
   "source": [
    "### 4.5 inventory"
   ]
  },
  {
   "cell_type": "code",
   "execution_count": 44,
   "metadata": {},
   "outputs": [
    {
     "name": "stdout",
     "output_type": "stream",
     "text": [
      "<class 'pandas.core.frame.DataFrame'>\n",
      "RangeIndex: 3987 entries, 0 to 3986\n",
      "Data columns (total 13 columns):\n",
      " #   Column                    Non-Null Count  Dtype         \n",
      "---  ------                    --------------  -----         \n",
      " 0   index                     3987 non-null   int64         \n",
      " 1   rowid                     3987 non-null   int64         \n",
      " 2   date                      3987 non-null   datetime64[ns]\n",
      " 3   commodity                 3987 non-null   object        \n",
      " 4   container                 3987 non-null   object        \n",
      " 5   qty_available             3987 non-null   int64         \n",
      " 6   average_price_per_kg      3987 non-null   float64       \n",
      " 7   MTD_total_value_sold_(R)  3987 non-null   float64       \n",
      " 8   total_value_sold_(R)      3987 non-null   float64       \n",
      " 9   Total_quatity_sold        3987 non-null   int64         \n",
      " 10  MTD_Total_quatity_sold    3987 non-null   int64         \n",
      " 11  Total_kg_sold             3987 non-null   float64       \n",
      " 12  MTD_total_kg_sold         3987 non-null   float64       \n",
      "dtypes: datetime64[ns](1), float64(5), int64(5), object(2)\n",
      "memory usage: 405.1+ KB\n"
     ]
    }
   ],
   "source": [
    "# The inventory table will consist of the products not sold for that day\n",
    "container_df.info()"
   ]
  },
  {
   "cell_type": "code",
   "execution_count": null,
   "metadata": {},
   "outputs": [],
   "source": [
    "for index, row in container_df.iterrows():\n",
    "    \n",
    "    some_product = Product.query.filter_by(name=row['commodity']).first()\n",
    "    some_container = Container.query.filter_by(name=row['container']).first()\n",
    "    some_date = MasterDate.query.filter_by(date_key=row['date']).first()\n",
    "    \n",
    "    inventory = Inventory(\n",
    "        inventory_date=some_date,\n",
    "        available=row['qty_available'],\n",
    "        product_inventory=some_product,\n",
    "        container_inventory=some_container\n",
    "    )\n",
    "    db.session.add(inventory)\n",
    "    db.session.commit()"
   ]
  },
  {
   "cell_type": "markdown",
   "metadata": {},
   "source": [
    "### 4.6 sales"
   ]
  },
  {
   "cell_type": "code",
   "execution_count": null,
   "metadata": {},
   "outputs": [],
   "source": [
    "combo_df.info()"
   ]
  },
  {
   "cell_type": "code",
   "execution_count": null,
   "metadata": {},
   "outputs": [],
   "source": [
    "# Exclude products that were not sold\n",
    "filtered_df = combo_df[combo_df['total_qty_sold'] != 0]"
   ]
  },
  {
   "cell_type": "code",
   "execution_count": null,
   "metadata": {},
   "outputs": [],
   "source": [
    "for index, row in filtered_df.iterrows():\n",
    "    \n",
    "    some_product = Product.query.filter_by(name=row['commodity']).first()\n",
    "    some_container = Container.query.filter_by(name=row['container']).first()\n",
    "    some_combo = ProductCombination.query.filter_by(name=row['product_combination']).first()\n",
    "    some_date = MasterDate.query.filter_by(date_key=row['date']).first()\n",
    "    \n",
    "    invoice = Sales(\n",
    "        sales_date=some_date,\n",
    "        quantity_sold=row['total_qty_sold'],\n",
    "        kg_sold=row['total_kg_sold'],\n",
    "        value=row['total_value_sold'],\n",
    "        average_price=row['average'],\n",
    "        highest_price=row['highest_price'],\n",
    "        combination_sale=some_combo,\n",
    "        container_sale=some_container,\n",
    "        product_sale=some_product\n",
    "    )\n",
    "    \n",
    "    db.session.add(invoice)\n",
    "    db.session.commit()"
   ]
  },
  {
   "cell_type": "code",
   "execution_count": null,
   "metadata": {},
   "outputs": [],
   "source": [
    "db.session.close()"
   ]
  },
  {
   "cell_type": "code",
   "execution_count": null,
   "metadata": {},
   "outputs": [],
   "source": [
    "connection.close()"
   ]
  },
  {
   "cell_type": "code",
   "execution_count": null,
   "metadata": {},
   "outputs": [],
   "source": []
  }
 ],
 "metadata": {
  "kernelspec": {
   "display_name": "Python 3",
   "language": "python",
   "name": "python3"
  },
  "language_info": {
   "codemirror_mode": {
    "name": "ipython",
    "version": 3
   },
   "file_extension": ".py",
   "mimetype": "text/x-python",
   "name": "python",
   "nbconvert_exporter": "python",
   "pygments_lexer": "ipython3",
   "version": "3.7.3"
  },
  "toc": {
   "base_numbering": 1,
   "nav_menu": {},
   "number_sections": true,
   "sideBar": true,
   "skip_h1_title": false,
   "title_cell": "Table of Contents",
   "title_sidebar": "Contents",
   "toc_cell": false,
   "toc_position": {},
   "toc_section_display": true,
   "toc_window_display": false
  }
 },
 "nbformat": 4,
 "nbformat_minor": 4
}
