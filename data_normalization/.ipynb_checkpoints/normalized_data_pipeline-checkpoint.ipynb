{
 "cells": [
  {
   "cell_type": "code",
   "execution_count": 1,
   "metadata": {},
   "outputs": [],
   "source": [
    "import pandas as pd\n",
    "import urllib\n",
    "from sqlalchemy import create_engine, Table, MetaData\n",
    "\n",
    "# Custom upload with connection string\n",
    "from engine_info import server_info\n",
    "# From normalized_tables.py\n",
    "import normalized_tables\n",
    "\n",
    "import warnings\n",
    "warnings.filterwarnings('ignore')"
   ]
  },
  {
   "cell_type": "code",
   "execution_count": 2,
   "metadata": {},
   "outputs": [],
   "source": [
    "# Creating a connection to MS SQL SERVER\n",
    "params = urllib.parse.quote_plus(server_info)\n",
    "engine = create_engine('mssql+pyodbc:///?odbc_connect=%s' % params)\n",
    "connection = engine.connect()"
   ]
  },
  {
   "cell_type": "code",
   "execution_count": 3,
   "metadata": {},
   "outputs": [
    {
     "data": {
      "text/plain": [
       "['Capetown_Fresh_produce_market',\n",
       " 'Capetown_Fresh_produce_market_cleaned',\n",
       " 'Durban_Fresh_produce_market',\n",
       " 'Durban_Fresh_produce_market_cleaned',\n",
       " 'Joburg_Fresh_produce_combined_cleaned',\n",
       " 'Joburg_Fresh_produce_commodity_cleaned',\n",
       " 'Joburg_Fresh_produce_commodity_raw',\n",
       " 'Joburg_Fresh_produce_container_cleaned',\n",
       " 'Joburg_Fresh_produce_container_raw',\n",
       " 'Joburg_Fresh_produce_product_combination_raw',\n",
       " 'Joburg_Fresh_produce_scrapping_date',\n",
       " 'PickNPay_Prices',\n",
       " 'PickNPay_Prices_cleaned',\n",
       " 'Shoprite_Prices',\n",
       " 'Shoprite_Prices_cleaned',\n",
       " 'woolworths_Prices',\n",
       " 'Woolworths_Prices_cleaned']"
      ]
     },
     "execution_count": 3,
     "metadata": {},
     "output_type": "execute_result"
    }
   ],
   "source": [
    "# Check what is in the database\n",
    "engine.table_names()"
   ]
  },
  {
   "cell_type": "code",
   "execution_count": 4,
   "metadata": {},
   "outputs": [],
   "source": [
    "metadata = MetaData(bind=engine)"
   ]
  },
  {
   "cell_type": "markdown",
   "metadata": {},
   "source": [
    "### Commodity (JHB)"
   ]
  },
  {
   "cell_type": "code",
   "execution_count": 20,
   "metadata": {},
   "outputs": [],
   "source": [
    "commodity_df = pd.read_sql_table('Joburg_Fresh_produce_commodity_cleaned', con=engine)"
   ]
  },
  {
   "cell_type": "code",
   "execution_count": 22,
   "metadata": {},
   "outputs": [
    {
     "data": {
      "text/html": [
       "<div>\n",
       "<style scoped>\n",
       "    .dataframe tbody tr th:only-of-type {\n",
       "        vertical-align: middle;\n",
       "    }\n",
       "\n",
       "    .dataframe tbody tr th {\n",
       "        vertical-align: top;\n",
       "    }\n",
       "\n",
       "    .dataframe thead th {\n",
       "        text-align: right;\n",
       "    }\n",
       "</style>\n",
       "<table border=\"1\" class=\"dataframe\">\n",
       "  <thead>\n",
       "    <tr style=\"text-align: right;\">\n",
       "      <th></th>\n",
       "      <th>index</th>\n",
       "      <th>rowid</th>\n",
       "      <th>date</th>\n",
       "      <th>commodity</th>\n",
       "      <th>qty_available</th>\n",
       "      <th>MTD_total_value_sold_(R)</th>\n",
       "      <th>total_value_sold_(R)</th>\n",
       "      <th>Total_quatity_sold</th>\n",
       "      <th>MTD_Total_quatity_sold</th>\n",
       "      <th>Total_kg_sold</th>\n",
       "      <th>MTD_total_kg_sold</th>\n",
       "    </tr>\n",
       "  </thead>\n",
       "  <tbody>\n",
       "    <tr>\n",
       "      <th>0</th>\n",
       "      <td>0</td>\n",
       "      <td>1</td>\n",
       "      <td>20 August 2020</td>\n",
       "      <td>AMADUMBE</td>\n",
       "      <td>2</td>\n",
       "      <td>39870.0</td>\n",
       "      <td>0.0</td>\n",
       "      <td>0.0</td>\n",
       "      <td>97.0</td>\n",
       "      <td>0.0</td>\n",
       "      <td>1940.0</td>\n",
       "    </tr>\n",
       "    <tr>\n",
       "      <th>1</th>\n",
       "      <td>1</td>\n",
       "      <td>2</td>\n",
       "      <td>20 August 2020</td>\n",
       "      <td>APPLES</td>\n",
       "      <td>91755</td>\n",
       "      <td>22664221.0</td>\n",
       "      <td>1205932.0</td>\n",
       "      <td>13799.0</td>\n",
       "      <td>261296.0</td>\n",
       "      <td>157462.0</td>\n",
       "      <td>3163863.0</td>\n",
       "    </tr>\n",
       "    <tr>\n",
       "      <th>2</th>\n",
       "      <td>2</td>\n",
       "      <td>3</td>\n",
       "      <td>20 August 2020</td>\n",
       "      <td>ARTICHOKES</td>\n",
       "      <td>1</td>\n",
       "      <td>53100.0</td>\n",
       "      <td>600.0</td>\n",
       "      <td>4.0</td>\n",
       "      <td>439.0</td>\n",
       "      <td>3.0</td>\n",
       "      <td>522.0</td>\n",
       "    </tr>\n",
       "    <tr>\n",
       "      <th>3</th>\n",
       "      <td>3</td>\n",
       "      <td>4</td>\n",
       "      <td>20 August 2020</td>\n",
       "      <td>ASPARAGUS</td>\n",
       "      <td>8</td>\n",
       "      <td>258975.0</td>\n",
       "      <td>34000.0</td>\n",
       "      <td>50.0</td>\n",
       "      <td>359.0</td>\n",
       "      <td>250.0</td>\n",
       "      <td>1795.0</td>\n",
       "    </tr>\n",
       "    <tr>\n",
       "      <th>4</th>\n",
       "      <td>4</td>\n",
       "      <td>5</td>\n",
       "      <td>20 August 2020</td>\n",
       "      <td>ATCHARA</td>\n",
       "      <td>207</td>\n",
       "      <td>1351.2</td>\n",
       "      <td>0.0</td>\n",
       "      <td>0.0</td>\n",
       "      <td>23.0</td>\n",
       "      <td>0.0</td>\n",
       "      <td>65.0</td>\n",
       "    </tr>\n",
       "  </tbody>\n",
       "</table>\n",
       "</div>"
      ],
      "text/plain": [
       "   index  rowid            date   commodity  qty_available  \\\n",
       "0      0      1  20 August 2020    AMADUMBE              2   \n",
       "1      1      2  20 August 2020      APPLES          91755   \n",
       "2      2      3  20 August 2020  ARTICHOKES              1   \n",
       "3      3      4  20 August 2020   ASPARAGUS              8   \n",
       "4      4      5  20 August 2020     ATCHARA            207   \n",
       "\n",
       "   MTD_total_value_sold_(R)  total_value_sold_(R)  Total_quatity_sold  \\\n",
       "0                   39870.0                   0.0                 0.0   \n",
       "1                22664221.0             1205932.0             13799.0   \n",
       "2                   53100.0                 600.0                 4.0   \n",
       "3                  258975.0               34000.0                50.0   \n",
       "4                    1351.2                   0.0                 0.0   \n",
       "\n",
       "   MTD_Total_quatity_sold  Total_kg_sold  MTD_total_kg_sold  \n",
       "0                    97.0            0.0             1940.0  \n",
       "1                261296.0       157462.0          3163863.0  \n",
       "2                   439.0            3.0              522.0  \n",
       "3                   359.0          250.0             1795.0  \n",
       "4                    23.0            0.0               65.0  "
      ]
     },
     "execution_count": 22,
     "metadata": {},
     "output_type": "execute_result"
    }
   ],
   "source": [
    "commodity_df.head()"
   ]
  },
  {
   "cell_type": "code",
   "execution_count": 23,
   "metadata": {},
   "outputs": [
    {
     "name": "stdout",
     "output_type": "stream",
     "text": [
      "<class 'pandas.core.frame.DataFrame'>\n",
      "RangeIndex: 1133 entries, 0 to 1132\n",
      "Data columns (total 11 columns):\n",
      " #   Column                    Non-Null Count  Dtype  \n",
      "---  ------                    --------------  -----  \n",
      " 0   index                     1133 non-null   int64  \n",
      " 1   rowid                     1133 non-null   int64  \n",
      " 2   date                      1133 non-null   object \n",
      " 3   commodity                 1133 non-null   object \n",
      " 4   qty_available             1133 non-null   int64  \n",
      " 5   MTD_total_value_sold_(R)  1133 non-null   float64\n",
      " 6   total_value_sold_(R)      1133 non-null   float64\n",
      " 7   Total_quatity_sold        1133 non-null   float64\n",
      " 8   MTD_Total_quatity_sold    1133 non-null   float64\n",
      " 9   Total_kg_sold             1133 non-null   float64\n",
      " 10  MTD_total_kg_sold         1133 non-null   float64\n",
      "dtypes: float64(6), int64(3), object(2)\n",
      "memory usage: 97.5+ KB\n"
     ]
    }
   ],
   "source": [
    "# Check the data type so that it's suited to be inserted in a normalized database\n",
    "commodity_df.info()"
   ]
  },
  {
   "cell_type": "code",
   "execution_count": 29,
   "metadata": {},
   "outputs": [],
   "source": [
    "# Change the quantity sold to int\n",
    "commodity_df[['Total_quatity_sold', 'MTD_Total_quatity_sold']] = commodity_df[['Total_quatity_sold', 'MTD_Total_quatity_sold']].astype('int64')"
   ]
  },
  {
   "cell_type": "code",
   "execution_count": 30,
   "metadata": {},
   "outputs": [
    {
     "name": "stdout",
     "output_type": "stream",
     "text": [
      "<class 'pandas.core.frame.DataFrame'>\n",
      "RangeIndex: 1133 entries, 0 to 1132\n",
      "Data columns (total 11 columns):\n",
      " #   Column                    Non-Null Count  Dtype  \n",
      "---  ------                    --------------  -----  \n",
      " 0   index                     1133 non-null   int64  \n",
      " 1   rowid                     1133 non-null   int64  \n",
      " 2   date                      1133 non-null   object \n",
      " 3   commodity                 1133 non-null   object \n",
      " 4   qty_available             1133 non-null   int64  \n",
      " 5   MTD_total_value_sold_(R)  1133 non-null   float64\n",
      " 6   total_value_sold_(R)      1133 non-null   float64\n",
      " 7   Total_quatity_sold        1133 non-null   int64  \n",
      " 8   MTD_Total_quatity_sold    1133 non-null   int64  \n",
      " 9   Total_kg_sold             1133 non-null   float64\n",
      " 10  MTD_total_kg_sold         1133 non-null   float64\n",
      "dtypes: float64(4), int64(5), object(2)\n",
      "memory usage: 97.5+ KB\n"
     ]
    }
   ],
   "source": [
    "commodity_df.info()"
   ]
  },
  {
   "cell_type": "markdown",
   "metadata": {},
   "source": [
    "## Container (JHB)"
   ]
  },
  {
   "cell_type": "code",
   "execution_count": null,
   "metadata": {},
   "outputs": [],
   "source": [
    "container_df = pd.read_sql_table('Joburg_Fresh_produce_container_cleaned', con=engine)"
   ]
  },
  {
   "cell_type": "code",
   "execution_count": null,
   "metadata": {},
   "outputs": [],
   "source": []
  },
  {
   "cell_type": "code",
   "execution_count": null,
   "metadata": {},
   "outputs": [],
   "source": []
  },
  {
   "cell_type": "code",
   "execution_count": null,
   "metadata": {},
   "outputs": [],
   "source": []
  },
  {
   "cell_type": "markdown",
   "metadata": {},
   "source": [
    "## Combination"
   ]
  },
  {
   "cell_type": "code",
   "execution_count": null,
   "metadata": {},
   "outputs": [],
   "source": [
    "combo_df = pd.read_sql_table('Joburg_Fresh_produce_combined_cleaned', con=engine)"
   ]
  },
  {
   "cell_type": "code",
   "execution_count": null,
   "metadata": {},
   "outputs": [],
   "source": []
  },
  {
   "cell_type": "code",
   "execution_count": null,
   "metadata": {},
   "outputs": [],
   "source": []
  },
  {
   "cell_type": "code",
   "execution_count": null,
   "metadata": {},
   "outputs": [],
   "source": [
    "connection.close()"
   ]
  }
 ],
 "metadata": {
  "kernelspec": {
   "display_name": "Python 3",
   "language": "python",
   "name": "python3"
  },
  "language_info": {
   "codemirror_mode": {
    "name": "ipython",
    "version": 3
   },
   "file_extension": ".py",
   "mimetype": "text/x-python",
   "name": "python",
   "nbconvert_exporter": "python",
   "pygments_lexer": "ipython3",
   "version": "3.7.6"
  }
 },
 "nbformat": 4,
 "nbformat_minor": 4
}
