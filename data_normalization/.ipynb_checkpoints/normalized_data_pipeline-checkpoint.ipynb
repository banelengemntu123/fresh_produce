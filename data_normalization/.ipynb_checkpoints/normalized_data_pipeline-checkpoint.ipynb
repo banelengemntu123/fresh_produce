{
 "cells": [
  {
   "cell_type": "code",
   "execution_count": 1,
   "metadata": {},
   "outputs": [
    {
     "name": "stderr",
     "output_type": "stream",
     "text": [
      "C:\\Users\\Selebogo\\anaconda3\\lib\\site-packages\\flask_sqlalchemy\\__init__.py:834: FSADeprecationWarning: SQLALCHEMY_TRACK_MODIFICATIONS adds significant overhead and will be disabled by default in the future.  Set it to True or False to suppress this warning.\n",
      "  'SQLALCHEMY_TRACK_MODIFICATIONS adds significant overhead and '\n"
     ]
    }
   ],
   "source": [
    "import pandas as pd\n",
    "import urllib\n",
    "from sqlalchemy import create_engine, MetaData, select, exc\n",
    "from sqlalchemy.orm import sessionmaker\n",
    "\n",
    "# Custom upload with connection string\n",
    "from engine_info import server_info\n",
    "# From normalized_tables.py\n",
    "from normalized_tables import Product, Container, Inventory, Sales, ProductCombination, MasterDate, db\n",
    "\n",
    "import warnings\n",
    "warnings.filterwarnings('ignore')"
   ]
  },
  {
   "cell_type": "code",
   "execution_count": 2,
   "metadata": {},
   "outputs": [],
   "source": [
    "# Creating a connection to MS SQL SERVER\n",
    "params = urllib.parse.quote_plus(server_info)\n",
    "engine = create_engine('mssql+pyodbc:///?odbc_connect=%s' % params)\n",
    "connection = engine.connect()"
   ]
  },
  {
   "cell_type": "code",
   "execution_count": 3,
   "metadata": {},
   "outputs": [
    {
     "data": {
      "text/plain": [
       "['Capetown_Fresh_produce_market',\n",
       " 'container',\n",
       " 'Durban_Fresh_produce_market',\n",
       " 'inventory',\n",
       " 'Joburg_Fresh_produce_combined_cleaned',\n",
       " 'Joburg_Fresh_produce_commodity_cleaned',\n",
       " 'Joburg_Fresh_produce_commodity_raw',\n",
       " 'Joburg_Fresh_produce_container_cleaned',\n",
       " 'Joburg_Fresh_produce_container_raw',\n",
       " 'Joburg_Fresh_produce_product_combination_raw',\n",
       " 'Joburg_Fresh_produce_scrapping_date',\n",
       " 'master_date',\n",
       " 'PickNPay_Prices',\n",
       " 'product',\n",
       " 'product_combination',\n",
       " 'sales',\n",
       " 'Shoprite_Prices',\n",
       " 'sysdiagrams',\n",
       " 'woolworths_Prices']"
      ]
     },
     "execution_count": 3,
     "metadata": {},
     "output_type": "execute_result"
    }
   ],
   "source": [
    "# Check what is in the database\n",
    "engine.table_names()"
   ]
  },
  {
   "cell_type": "code",
   "execution_count": 4,
   "metadata": {},
   "outputs": [],
   "source": [
    "metadata = MetaData(bind=engine)"
   ]
  },
  {
   "cell_type": "markdown",
   "metadata": {},
   "source": [
    "## 1. Commodity (JHB)"
   ]
  },
  {
   "cell_type": "code",
   "execution_count": 5,
   "metadata": {},
   "outputs": [],
   "source": [
    "commodity_df = pd.read_sql_table('Joburg_Fresh_produce_commodity_cleaned', con=engine)"
   ]
  },
  {
   "cell_type": "code",
   "execution_count": 6,
   "metadata": {},
   "outputs": [
    {
     "data": {
      "text/html": [
       "<div>\n",
       "<style scoped>\n",
       "    .dataframe tbody tr th:only-of-type {\n",
       "        vertical-align: middle;\n",
       "    }\n",
       "\n",
       "    .dataframe tbody tr th {\n",
       "        vertical-align: top;\n",
       "    }\n",
       "\n",
       "    .dataframe thead th {\n",
       "        text-align: right;\n",
       "    }\n",
       "</style>\n",
       "<table border=\"1\" class=\"dataframe\">\n",
       "  <thead>\n",
       "    <tr style=\"text-align: right;\">\n",
       "      <th></th>\n",
       "      <th>rowid</th>\n",
       "      <th>date</th>\n",
       "      <th>commodity</th>\n",
       "      <th>qty_available</th>\n",
       "      <th>MTD_total_value_sold_(R)</th>\n",
       "      <th>total_value_sold_(R)</th>\n",
       "      <th>Total_quatity_sold</th>\n",
       "      <th>MTD_Total_quatity_sold</th>\n",
       "      <th>Total_kg_sold</th>\n",
       "      <th>MTD_total_kg_sold</th>\n",
       "    </tr>\n",
       "  </thead>\n",
       "  <tbody>\n",
       "    <tr>\n",
       "      <th>0</th>\n",
       "      <td>1</td>\n",
       "      <td>20 August 2020</td>\n",
       "      <td>AMADUMBE</td>\n",
       "      <td>2</td>\n",
       "      <td>39870.0</td>\n",
       "      <td>0.0</td>\n",
       "      <td>0.0</td>\n",
       "      <td>97.0</td>\n",
       "      <td>0.0</td>\n",
       "      <td>1940.0</td>\n",
       "    </tr>\n",
       "    <tr>\n",
       "      <th>1</th>\n",
       "      <td>2</td>\n",
       "      <td>20 August 2020</td>\n",
       "      <td>APPLES</td>\n",
       "      <td>91755</td>\n",
       "      <td>22664221.0</td>\n",
       "      <td>1205932.0</td>\n",
       "      <td>13799.0</td>\n",
       "      <td>261296.0</td>\n",
       "      <td>157462.0</td>\n",
       "      <td>3163863.0</td>\n",
       "    </tr>\n",
       "    <tr>\n",
       "      <th>2</th>\n",
       "      <td>3</td>\n",
       "      <td>20 August 2020</td>\n",
       "      <td>ARTICHOKES</td>\n",
       "      <td>1</td>\n",
       "      <td>53100.0</td>\n",
       "      <td>600.0</td>\n",
       "      <td>4.0</td>\n",
       "      <td>439.0</td>\n",
       "      <td>3.0</td>\n",
       "      <td>522.0</td>\n",
       "    </tr>\n",
       "    <tr>\n",
       "      <th>3</th>\n",
       "      <td>4</td>\n",
       "      <td>20 August 2020</td>\n",
       "      <td>ASPARAGUS</td>\n",
       "      <td>8</td>\n",
       "      <td>258975.0</td>\n",
       "      <td>34000.0</td>\n",
       "      <td>50.0</td>\n",
       "      <td>359.0</td>\n",
       "      <td>250.0</td>\n",
       "      <td>1795.0</td>\n",
       "    </tr>\n",
       "    <tr>\n",
       "      <th>4</th>\n",
       "      <td>5</td>\n",
       "      <td>20 August 2020</td>\n",
       "      <td>ATCHARA</td>\n",
       "      <td>207</td>\n",
       "      <td>1351.2</td>\n",
       "      <td>0.0</td>\n",
       "      <td>0.0</td>\n",
       "      <td>23.0</td>\n",
       "      <td>0.0</td>\n",
       "      <td>65.0</td>\n",
       "    </tr>\n",
       "  </tbody>\n",
       "</table>\n",
       "</div>"
      ],
      "text/plain": [
       "   rowid            date   commodity  qty_available  MTD_total_value_sold_(R)  \\\n",
       "0      1  20 August 2020    AMADUMBE              2                   39870.0   \n",
       "1      2  20 August 2020      APPLES          91755                22664221.0   \n",
       "2      3  20 August 2020  ARTICHOKES              1                   53100.0   \n",
       "3      4  20 August 2020   ASPARAGUS              8                  258975.0   \n",
       "4      5  20 August 2020     ATCHARA            207                    1351.2   \n",
       "\n",
       "   total_value_sold_(R)  Total_quatity_sold  MTD_Total_quatity_sold  \\\n",
       "0                   0.0                 0.0                    97.0   \n",
       "1             1205932.0             13799.0                261296.0   \n",
       "2                 600.0                 4.0                   439.0   \n",
       "3               34000.0                50.0                   359.0   \n",
       "4                   0.0                 0.0                    23.0   \n",
       "\n",
       "   Total_kg_sold  MTD_total_kg_sold  \n",
       "0            0.0             1940.0  \n",
       "1       157462.0          3163863.0  \n",
       "2            3.0              522.0  \n",
       "3          250.0             1795.0  \n",
       "4            0.0               65.0  "
      ]
     },
     "execution_count": 6,
     "metadata": {},
     "output_type": "execute_result"
    }
   ],
   "source": [
    "commodity_df.head()"
   ]
  },
  {
   "cell_type": "code",
   "execution_count": 7,
   "metadata": {},
   "outputs": [
    {
     "name": "stdout",
     "output_type": "stream",
     "text": [
      "<class 'pandas.core.frame.DataFrame'>\n",
      "RangeIndex: 4433 entries, 0 to 4432\n",
      "Data columns (total 10 columns):\n",
      " #   Column                    Non-Null Count  Dtype  \n",
      "---  ------                    --------------  -----  \n",
      " 0   rowid                     4433 non-null   int64  \n",
      " 1   date                      4433 non-null   object \n",
      " 2   commodity                 4433 non-null   object \n",
      " 3   qty_available             4433 non-null   int64  \n",
      " 4   MTD_total_value_sold_(R)  4433 non-null   float64\n",
      " 5   total_value_sold_(R)      4433 non-null   float64\n",
      " 6   Total_quatity_sold        4433 non-null   float64\n",
      " 7   MTD_Total_quatity_sold    4433 non-null   float64\n",
      " 8   Total_kg_sold             4433 non-null   float64\n",
      " 9   MTD_total_kg_sold         4433 non-null   float64\n",
      "dtypes: float64(6), int64(2), object(2)\n",
      "memory usage: 346.5+ KB\n"
     ]
    }
   ],
   "source": [
    "# Check the data type so that it's suited to be inserted in a normalized database\n",
    "commodity_df.info()"
   ]
  },
  {
   "cell_type": "code",
   "execution_count": 8,
   "metadata": {},
   "outputs": [],
   "source": [
    "# Change the quantity sold to int\n",
    "commodity_df[['Total_quatity_sold', 'MTD_Total_quatity_sold']] = commodity_df[['Total_quatity_sold', 'MTD_Total_quatity_sold']].astype('int64')"
   ]
  },
  {
   "cell_type": "code",
   "execution_count": 9,
   "metadata": {},
   "outputs": [],
   "source": [
    "# Convert date column from string to datetime\n",
    "commodity_df['date'] = pd.to_datetime(commodity_df['date'])"
   ]
  },
  {
   "cell_type": "code",
   "execution_count": 10,
   "metadata": {},
   "outputs": [
    {
     "name": "stdout",
     "output_type": "stream",
     "text": [
      "<class 'pandas.core.frame.DataFrame'>\n",
      "RangeIndex: 4433 entries, 0 to 4432\n",
      "Data columns (total 10 columns):\n",
      " #   Column                    Non-Null Count  Dtype         \n",
      "---  ------                    --------------  -----         \n",
      " 0   rowid                     4433 non-null   int64         \n",
      " 1   date                      4433 non-null   datetime64[ns]\n",
      " 2   commodity                 4433 non-null   object        \n",
      " 3   qty_available             4433 non-null   int64         \n",
      " 4   MTD_total_value_sold_(R)  4433 non-null   float64       \n",
      " 5   total_value_sold_(R)      4433 non-null   float64       \n",
      " 6   Total_quatity_sold        4433 non-null   int64         \n",
      " 7   MTD_Total_quatity_sold    4433 non-null   int64         \n",
      " 8   Total_kg_sold             4433 non-null   float64       \n",
      " 9   MTD_total_kg_sold         4433 non-null   float64       \n",
      "dtypes: datetime64[ns](1), float64(4), int64(4), object(1)\n",
      "memory usage: 346.5+ KB\n"
     ]
    }
   ],
   "source": [
    "commodity_df.info()"
   ]
  },
  {
   "cell_type": "markdown",
   "metadata": {},
   "source": [
    "## 2. Container (JHB)"
   ]
  },
  {
   "cell_type": "code",
   "execution_count": 11,
   "metadata": {},
   "outputs": [],
   "source": [
    "container_df = pd.read_sql_table('Joburg_Fresh_produce_container_cleaned', con=engine)"
   ]
  },
  {
   "cell_type": "code",
   "execution_count": 12,
   "metadata": {},
   "outputs": [
    {
     "data": {
      "text/html": [
       "<div>\n",
       "<style scoped>\n",
       "    .dataframe tbody tr th:only-of-type {\n",
       "        vertical-align: middle;\n",
       "    }\n",
       "\n",
       "    .dataframe tbody tr th {\n",
       "        vertical-align: top;\n",
       "    }\n",
       "\n",
       "    .dataframe thead th {\n",
       "        text-align: right;\n",
       "    }\n",
       "</style>\n",
       "<table border=\"1\" class=\"dataframe\">\n",
       "  <thead>\n",
       "    <tr style=\"text-align: right;\">\n",
       "      <th></th>\n",
       "      <th>rowid</th>\n",
       "      <th>date</th>\n",
       "      <th>commodity</th>\n",
       "      <th>container</th>\n",
       "      <th>qty_available</th>\n",
       "      <th>average_price_per_kg</th>\n",
       "      <th>MTD_total_value_sold_(R)</th>\n",
       "      <th>total_value_sold_(R)</th>\n",
       "      <th>Total_quatity_sold</th>\n",
       "      <th>MTD_Total_quatity_sold</th>\n",
       "      <th>Total_kg_sold</th>\n",
       "      <th>MTD_total_kg_sold</th>\n",
       "    </tr>\n",
       "  </thead>\n",
       "  <tbody>\n",
       "    <tr>\n",
       "      <th>0</th>\n",
       "      <td>1</td>\n",
       "      <td>20 August 2020</td>\n",
       "      <td>AMADUMBE</td>\n",
       "      <td>20KG POCKET</td>\n",
       "      <td>2</td>\n",
       "      <td>0.00</td>\n",
       "      <td>39870.0</td>\n",
       "      <td>0.0</td>\n",
       "      <td>0.0</td>\n",
       "      <td>97.0</td>\n",
       "      <td>0.0</td>\n",
       "      <td>1940.0</td>\n",
       "    </tr>\n",
       "    <tr>\n",
       "      <th>1</th>\n",
       "      <td>2</td>\n",
       "      <td>20 August 2020</td>\n",
       "      <td>APPLES</td>\n",
       "      <td>10 X 1KG ECONO PACK CARTON</td>\n",
       "      <td>17</td>\n",
       "      <td>10.00</td>\n",
       "      <td>41932.0</td>\n",
       "      <td>100.0</td>\n",
       "      <td>1.0</td>\n",
       "      <td>547.0</td>\n",
       "      <td>10.0</td>\n",
       "      <td>5470.0</td>\n",
       "    </tr>\n",
       "    <tr>\n",
       "      <th>2</th>\n",
       "      <td>3</td>\n",
       "      <td>20 August 2020</td>\n",
       "      <td>APPLES</td>\n",
       "      <td>11KG JUMBLE CARTON</td>\n",
       "      <td>343</td>\n",
       "      <td>6.36</td>\n",
       "      <td>218914.0</td>\n",
       "      <td>1190.0</td>\n",
       "      <td>17.0</td>\n",
       "      <td>3170.0</td>\n",
       "      <td>187.0</td>\n",
       "      <td>34870.0</td>\n",
       "    </tr>\n",
       "    <tr>\n",
       "      <th>3</th>\n",
       "      <td>4</td>\n",
       "      <td>20 August 2020</td>\n",
       "      <td>APPLES</td>\n",
       "      <td>12 X 1KG ECONO PACK CARTON</td>\n",
       "      <td>3233</td>\n",
       "      <td>7.86</td>\n",
       "      <td>1454572.0</td>\n",
       "      <td>40738.0</td>\n",
       "      <td>432.0</td>\n",
       "      <td>17353.0</td>\n",
       "      <td>5184.0</td>\n",
       "      <td>208236.0</td>\n",
       "    </tr>\n",
       "    <tr>\n",
       "      <th>4</th>\n",
       "      <td>5</td>\n",
       "      <td>20 August 2020</td>\n",
       "      <td>APPLES</td>\n",
       "      <td>12.5KG M6 CARTON</td>\n",
       "      <td>12</td>\n",
       "      <td>0.00</td>\n",
       "      <td>16903.0</td>\n",
       "      <td>0.0</td>\n",
       "      <td>0.0</td>\n",
       "      <td>286.0</td>\n",
       "      <td>0.0</td>\n",
       "      <td>3575.0</td>\n",
       "    </tr>\n",
       "  </tbody>\n",
       "</table>\n",
       "</div>"
      ],
      "text/plain": [
       "   rowid            date commodity                   container  qty_available  \\\n",
       "0      1  20 August 2020  AMADUMBE                 20KG POCKET              2   \n",
       "1      2  20 August 2020    APPLES  10 X 1KG ECONO PACK CARTON             17   \n",
       "2      3  20 August 2020    APPLES          11KG JUMBLE CARTON            343   \n",
       "3      4  20 August 2020    APPLES  12 X 1KG ECONO PACK CARTON           3233   \n",
       "4      5  20 August 2020    APPLES            12.5KG M6 CARTON             12   \n",
       "\n",
       "   average_price_per_kg  MTD_total_value_sold_(R)  total_value_sold_(R)  \\\n",
       "0                  0.00                   39870.0                   0.0   \n",
       "1                 10.00                   41932.0                 100.0   \n",
       "2                  6.36                  218914.0                1190.0   \n",
       "3                  7.86                 1454572.0               40738.0   \n",
       "4                  0.00                   16903.0                   0.0   \n",
       "\n",
       "   Total_quatity_sold  MTD_Total_quatity_sold  Total_kg_sold  \\\n",
       "0                 0.0                    97.0            0.0   \n",
       "1                 1.0                   547.0           10.0   \n",
       "2                17.0                  3170.0          187.0   \n",
       "3               432.0                 17353.0         5184.0   \n",
       "4                 0.0                   286.0            0.0   \n",
       "\n",
       "   MTD_total_kg_sold  \n",
       "0             1940.0  \n",
       "1             5470.0  \n",
       "2            34870.0  \n",
       "3           208236.0  \n",
       "4             3575.0  "
      ]
     },
     "execution_count": 12,
     "metadata": {},
     "output_type": "execute_result"
    }
   ],
   "source": [
    "container_df.head()"
   ]
  },
  {
   "cell_type": "code",
   "execution_count": 13,
   "metadata": {},
   "outputs": [
    {
     "name": "stdout",
     "output_type": "stream",
     "text": [
      "<class 'pandas.core.frame.DataFrame'>\n",
      "RangeIndex: 15173 entries, 0 to 15172\n",
      "Data columns (total 12 columns):\n",
      " #   Column                    Non-Null Count  Dtype  \n",
      "---  ------                    --------------  -----  \n",
      " 0   rowid                     15173 non-null  int64  \n",
      " 1   date                      15173 non-null  object \n",
      " 2   commodity                 15173 non-null  object \n",
      " 3   container                 15173 non-null  object \n",
      " 4   qty_available             15173 non-null  int64  \n",
      " 5   average_price_per_kg      15173 non-null  float64\n",
      " 6   MTD_total_value_sold_(R)  15173 non-null  float64\n",
      " 7   total_value_sold_(R)      15173 non-null  float64\n",
      " 8   Total_quatity_sold        15173 non-null  float64\n",
      " 9   MTD_Total_quatity_sold    15173 non-null  float64\n",
      " 10  Total_kg_sold             15173 non-null  float64\n",
      " 11  MTD_total_kg_sold         15173 non-null  float64\n",
      "dtypes: float64(7), int64(2), object(3)\n",
      "memory usage: 1.4+ MB\n"
     ]
    }
   ],
   "source": [
    "container_df.info()"
   ]
  },
  {
   "cell_type": "code",
   "execution_count": 14,
   "metadata": {},
   "outputs": [],
   "source": [
    "# Change the quantity sold to int\n",
    "container_df[['Total_quatity_sold', 'MTD_Total_quatity_sold']] = container_df[['Total_quatity_sold', 'MTD_Total_quatity_sold']].astype('int64')"
   ]
  },
  {
   "cell_type": "code",
   "execution_count": 15,
   "metadata": {},
   "outputs": [],
   "source": [
    "# Convert date column from string to datetime\n",
    "container_df['date'] = pd.to_datetime(container_df['date'])"
   ]
  },
  {
   "cell_type": "code",
   "execution_count": 16,
   "metadata": {},
   "outputs": [
    {
     "name": "stdout",
     "output_type": "stream",
     "text": [
      "<class 'pandas.core.frame.DataFrame'>\n",
      "RangeIndex: 15173 entries, 0 to 15172\n",
      "Data columns (total 12 columns):\n",
      " #   Column                    Non-Null Count  Dtype         \n",
      "---  ------                    --------------  -----         \n",
      " 0   rowid                     15173 non-null  int64         \n",
      " 1   date                      15173 non-null  datetime64[ns]\n",
      " 2   commodity                 15173 non-null  object        \n",
      " 3   container                 15173 non-null  object        \n",
      " 4   qty_available             15173 non-null  int64         \n",
      " 5   average_price_per_kg      15173 non-null  float64       \n",
      " 6   MTD_total_value_sold_(R)  15173 non-null  float64       \n",
      " 7   total_value_sold_(R)      15173 non-null  float64       \n",
      " 8   Total_quatity_sold        15173 non-null  int64         \n",
      " 9   MTD_Total_quatity_sold    15173 non-null  int64         \n",
      " 10  Total_kg_sold             15173 non-null  float64       \n",
      " 11  MTD_total_kg_sold         15173 non-null  float64       \n",
      "dtypes: datetime64[ns](1), float64(5), int64(4), object(2)\n",
      "memory usage: 1.4+ MB\n"
     ]
    }
   ],
   "source": [
    "container_df.info()"
   ]
  },
  {
   "cell_type": "markdown",
   "metadata": {},
   "source": [
    "## 3. Combination (JHB)"
   ]
  },
  {
   "cell_type": "code",
   "execution_count": 17,
   "metadata": {},
   "outputs": [],
   "source": [
    "combo_df = pd.read_sql_table('Joburg_Fresh_produce_combined_cleaned', con=engine, index_col='rowid')"
   ]
  },
  {
   "cell_type": "code",
   "execution_count": 18,
   "metadata": {},
   "outputs": [
    {
     "data": {
      "text/html": [
       "<div>\n",
       "<style scoped>\n",
       "    .dataframe tbody tr th:only-of-type {\n",
       "        vertical-align: middle;\n",
       "    }\n",
       "\n",
       "    .dataframe tbody tr th {\n",
       "        vertical-align: top;\n",
       "    }\n",
       "\n",
       "    .dataframe thead th {\n",
       "        text-align: right;\n",
       "    }\n",
       "</style>\n",
       "<table border=\"1\" class=\"dataframe\">\n",
       "  <thead>\n",
       "    <tr style=\"text-align: right;\">\n",
       "      <th></th>\n",
       "      <th>date</th>\n",
       "      <th>commodity</th>\n",
       "      <th>container</th>\n",
       "      <th>unit_mass</th>\n",
       "      <th>product_combination</th>\n",
       "      <th>total_value_sold</th>\n",
       "      <th>total_qty_sold</th>\n",
       "      <th>total_kg_sold</th>\n",
       "      <th>average</th>\n",
       "      <th>highest_price</th>\n",
       "      <th>ave_per_kg</th>\n",
       "      <th>highest_price_per_kg</th>\n",
       "    </tr>\n",
       "    <tr>\n",
       "      <th>rowid</th>\n",
       "      <th></th>\n",
       "      <th></th>\n",
       "      <th></th>\n",
       "      <th></th>\n",
       "      <th></th>\n",
       "      <th></th>\n",
       "      <th></th>\n",
       "      <th></th>\n",
       "      <th></th>\n",
       "      <th></th>\n",
       "      <th></th>\n",
       "      <th></th>\n",
       "    </tr>\n",
       "  </thead>\n",
       "  <tbody>\n",
       "    <tr>\n",
       "      <th>1</th>\n",
       "      <td>2020-08-20</td>\n",
       "      <td>AMADUMBE</td>\n",
       "      <td>20KG POCKET</td>\n",
       "      <td>20</td>\n",
       "      <td>*,*,L,*,*</td>\n",
       "      <td>0.0</td>\n",
       "      <td>0</td>\n",
       "      <td>0.0</td>\n",
       "      <td>0.0</td>\n",
       "      <td>0.0</td>\n",
       "      <td>0.0</td>\n",
       "      <td>0.0</td>\n",
       "    </tr>\n",
       "    <tr>\n",
       "      <th>2</th>\n",
       "      <td>2020-08-20</td>\n",
       "      <td>APPLES</td>\n",
       "      <td>10 X 1KG ECONO PACK CARTON</td>\n",
       "      <td>10</td>\n",
       "      <td>GOLDEN DELICIOUS,CL 1,*,*,*</td>\n",
       "      <td>100.0</td>\n",
       "      <td>1</td>\n",
       "      <td>10.0</td>\n",
       "      <td>100.0</td>\n",
       "      <td>100.0</td>\n",
       "      <td>10.0</td>\n",
       "      <td>10.0</td>\n",
       "    </tr>\n",
       "    <tr>\n",
       "      <th>3</th>\n",
       "      <td>2020-08-20</td>\n",
       "      <td>APPLES</td>\n",
       "      <td>10 X 1KG ECONO PACK CARTON</td>\n",
       "      <td>10</td>\n",
       "      <td>ROYAL GALA,CL 1,*,*,*</td>\n",
       "      <td>0.0</td>\n",
       "      <td>0</td>\n",
       "      <td>0.0</td>\n",
       "      <td>0.0</td>\n",
       "      <td>0.0</td>\n",
       "      <td>0.0</td>\n",
       "      <td>0.0</td>\n",
       "    </tr>\n",
       "    <tr>\n",
       "      <th>4</th>\n",
       "      <td>2020-08-20</td>\n",
       "      <td>APPLES</td>\n",
       "      <td>11KG JUMBLE CARTON</td>\n",
       "      <td>11</td>\n",
       "      <td>GOLDEN DELICIOUS,CL 2,L,*,*</td>\n",
       "      <td>0.0</td>\n",
       "      <td>0</td>\n",
       "      <td>0.0</td>\n",
       "      <td>0.0</td>\n",
       "      <td>0.0</td>\n",
       "      <td>0.0</td>\n",
       "      <td>0.0</td>\n",
       "    </tr>\n",
       "    <tr>\n",
       "      <th>5</th>\n",
       "      <td>2020-08-20</td>\n",
       "      <td>APPLES</td>\n",
       "      <td>11KG JUMBLE CARTON</td>\n",
       "      <td>11</td>\n",
       "      <td>TOPRED,CL 2,L,*,*</td>\n",
       "      <td>0.0</td>\n",
       "      <td>0</td>\n",
       "      <td>0.0</td>\n",
       "      <td>0.0</td>\n",
       "      <td>0.0</td>\n",
       "      <td>0.0</td>\n",
       "      <td>0.0</td>\n",
       "    </tr>\n",
       "  </tbody>\n",
       "</table>\n",
       "</div>"
      ],
      "text/plain": [
       "            date commodity                   container  unit_mass  \\\n",
       "rowid                                                               \n",
       "1     2020-08-20  AMADUMBE                 20KG POCKET         20   \n",
       "2     2020-08-20    APPLES  10 X 1KG ECONO PACK CARTON         10   \n",
       "3     2020-08-20    APPLES  10 X 1KG ECONO PACK CARTON         10   \n",
       "4     2020-08-20    APPLES          11KG JUMBLE CARTON         11   \n",
       "5     2020-08-20    APPLES          11KG JUMBLE CARTON         11   \n",
       "\n",
       "               product_combination  total_value_sold  total_qty_sold  \\\n",
       "rowid                                                                  \n",
       "1                        *,*,L,*,*               0.0               0   \n",
       "2      GOLDEN DELICIOUS,CL 1,*,*,*             100.0               1   \n",
       "3            ROYAL GALA,CL 1,*,*,*               0.0               0   \n",
       "4      GOLDEN DELICIOUS,CL 2,L,*,*               0.0               0   \n",
       "5                TOPRED,CL 2,L,*,*               0.0               0   \n",
       "\n",
       "       total_kg_sold  average  highest_price  ave_per_kg  highest_price_per_kg  \n",
       "rowid                                                                           \n",
       "1                0.0      0.0            0.0         0.0                   0.0  \n",
       "2               10.0    100.0          100.0        10.0                  10.0  \n",
       "3                0.0      0.0            0.0         0.0                   0.0  \n",
       "4                0.0      0.0            0.0         0.0                   0.0  \n",
       "5                0.0      0.0            0.0         0.0                   0.0  "
      ]
     },
     "execution_count": 18,
     "metadata": {},
     "output_type": "execute_result"
    }
   ],
   "source": [
    "combo_df.head()"
   ]
  },
  {
   "cell_type": "code",
   "execution_count": 19,
   "metadata": {},
   "outputs": [
    {
     "name": "stdout",
     "output_type": "stream",
     "text": [
      "<class 'pandas.core.frame.DataFrame'>\n",
      "Int64Index: 55423 entries, 1 to 27305\n",
      "Data columns (total 12 columns):\n",
      " #   Column                Non-Null Count  Dtype         \n",
      "---  ------                --------------  -----         \n",
      " 0   date                  55423 non-null  datetime64[ns]\n",
      " 1   commodity             55423 non-null  object        \n",
      " 2   container             55423 non-null  object        \n",
      " 3   unit_mass             55423 non-null  int64         \n",
      " 4   product_combination   55423 non-null  object        \n",
      " 5   total_value_sold      55423 non-null  float64       \n",
      " 6   total_qty_sold        55423 non-null  int64         \n",
      " 7   total_kg_sold         55423 non-null  float64       \n",
      " 8   average               55423 non-null  float64       \n",
      " 9   highest_price         55423 non-null  float64       \n",
      " 10  ave_per_kg            55423 non-null  float64       \n",
      " 11  highest_price_per_kg  55423 non-null  float64       \n",
      "dtypes: datetime64[ns](1), float64(6), int64(2), object(3)\n",
      "memory usage: 5.5+ MB\n"
     ]
    }
   ],
   "source": [
    "combo_df.info()"
   ]
  },
  {
   "cell_type": "code",
   "execution_count": 20,
   "metadata": {},
   "outputs": [
    {
     "data": {
      "text/plain": [
       "container\n",
       "200G PUNNET PACK BOX    45\n",
       "4KG BOX                 34\n",
       "3KG POCKET              33\n",
       "5KG BOX                 32\n",
       "500G PUNNET PACK BOX    30\n",
       "                        ..\n",
       "4.5KG POCKET             1\n",
       "4.50KG BOX               1\n",
       "3KG ECONO PACK           1\n",
       "3KG BOX 6\"MASONITE       1\n",
       ".125G BOTTLE             1\n",
       "Name: commodity, Length: 255, dtype: int64"
      ]
     },
     "execution_count": 20,
     "metadata": {},
     "output_type": "execute_result"
    }
   ],
   "source": [
    "combo_df.groupby('container')['commodity'].nunique().sort_values(ascending=False)"
   ]
  },
  {
   "cell_type": "code",
   "execution_count": 21,
   "metadata": {},
   "outputs": [
    {
     "data": {
      "text/plain": [
       "array(['APPLES', 'AVOCADOS', 'BABY BUTTERNUT', 'BABY GEM SQUASH', 'BEANS',\n",
       "       'BRINJALS', 'CARROTS', 'CHILLIES', 'GARLIC', 'GEELORA'],\n",
       "      dtype=object)"
      ]
     },
     "execution_count": 21,
     "metadata": {},
     "output_type": "execute_result"
    }
   ],
   "source": [
    "combo_df[combo_df['container'] == '3KG POCKET']['commodity'].unique()[:10]"
   ]
  },
  {
   "cell_type": "markdown",
   "metadata": {},
   "source": [
    "There's a many to many relationship between commodity and containers, whereby one commodity can have multiple containers and one container can be of different products."
   ]
  },
  {
   "cell_type": "code",
   "execution_count": 22,
   "metadata": {},
   "outputs": [
    {
     "data": {
      "text/plain": [
       "product_combination\n",
       "*,*,*,*,*                        110\n",
       "*,CL 1,L,*,*                      28\n",
       "*,*,*,10,*                        24\n",
       "*,CL 1,M,*,*                      24\n",
       "*,CL 1,S,*,*                      20\n",
       "                                ... \n",
       "PACKHAM'S TRIUMPH,CL 1,*,38,*      1\n",
       "PACKHAM'S TRIUMPH,CL 1,*,10,*      1\n",
       "PACKHAM'S TRIUMPH,*,*,*,*          1\n",
       "OYSTER,*,*,8,*                     1\n",
       "*,*, 28,5,*                        1\n",
       "Name: container, Length: 2730, dtype: int64"
      ]
     },
     "execution_count": 22,
     "metadata": {},
     "output_type": "execute_result"
    }
   ],
   "source": [
    "combo_df.groupby('product_combination')['container'].nunique().sort_values(ascending=False)"
   ]
  },
  {
   "cell_type": "code",
   "execution_count": 23,
   "metadata": {},
   "outputs": [
    {
     "data": {
      "text/plain": [
       "array(['2KG TUB', '4KG TUB', '3KG POCKET', '8KG BOX', '5KG BOX',\n",
       "       '100G PACKET', '4KG BOX', '2KG POCKET', 'BANANA BOX',\n",
       "       '5KG BANANA BOX'], dtype=object)"
      ]
     },
     "execution_count": 23,
     "metadata": {},
     "output_type": "execute_result"
    }
   ],
   "source": [
    "combo_df[combo_df['product_combination'] == '*,*,*,*,*']['container'].unique()[:10]"
   ]
  },
  {
   "cell_type": "code",
   "execution_count": 24,
   "metadata": {},
   "outputs": [
    {
     "data": {
      "text/plain": [
       "array(['ATCHARA', 'BABY BUTTERNUT', 'BABY ENGLISH CUCUMBER',\n",
       "       'BABY GEM SQUASH', 'BASIL', 'BEAN SPROUTS', 'BEETROOT',\n",
       "       'BOK CHOY PAK-CHOI', 'BRINJALS', 'BROCCOLI'], dtype=object)"
      ]
     },
     "execution_count": 24,
     "metadata": {},
     "output_type": "execute_result"
    }
   ],
   "source": [
    "combo_df[combo_df['product_combination'] == '*,*,*,*,*']['commodity'].unique()[:10]"
   ]
  },
  {
   "cell_type": "markdown",
   "metadata": {},
   "source": [
    "Similarly, product combination can have multiple containers as well as multiple commodities."
   ]
  },
  {
   "cell_type": "markdown",
   "metadata": {},
   "source": [
    "## 4. Add data to normalized tables"
   ]
  },
  {
   "cell_type": "markdown",
   "metadata": {},
   "source": [
    "### 4.1 product"
   ]
  },
  {
   "cell_type": "code",
   "execution_count": 25,
   "metadata": {},
   "outputs": [],
   "source": [
    "# Different products in the database\n",
    "products = combo_df['commodity'].unique()"
   ]
  },
  {
   "cell_type": "code",
   "execution_count": 26,
   "metadata": {},
   "outputs": [],
   "source": [
    "# Add unique values of products to the product sql table\n",
    "for item in products:\n",
    "    \n",
    "    try:\n",
    "        \n",
    "        # Add commodity to database\n",
    "        commodity = Product(name=item)\n",
    "        db.session.add(commodity)\n",
    "        db.session.commit()\n",
    "    \n",
    "    except exc.IntegrityError:\n",
    "        \n",
    "        db.session.rollback()"
   ]
  },
  {
   "cell_type": "markdown",
   "metadata": {},
   "source": [
    "### 4.2 container"
   ]
  },
  {
   "cell_type": "code",
   "execution_count": 27,
   "metadata": {},
   "outputs": [],
   "source": [
    "# Different containers in the database\n",
    "containers = container_df['container'].unique()"
   ]
  },
  {
   "cell_type": "code",
   "execution_count": 28,
   "metadata": {},
   "outputs": [],
   "source": [
    "# Add unique values of containers to the container sql table\n",
    "for package in containers:\n",
    "    \n",
    "    try:\n",
    "        \n",
    "        # Add commodity to database\n",
    "        container = Container(name=package)\n",
    "        db.session.add(container)\n",
    "        db.session.commit()\n",
    "    \n",
    "    except exc.IntegrityError:\n",
    "        \n",
    "        db.session.rollback()"
   ]
  },
  {
   "cell_type": "markdown",
   "metadata": {},
   "source": [
    "### 4.3 product_combination"
   ]
  },
  {
   "cell_type": "code",
   "execution_count": 29,
   "metadata": {},
   "outputs": [],
   "source": [
    "# Different product combinations in the database\n",
    "combinations = combo_df['product_combination'].unique()"
   ]
  },
  {
   "cell_type": "code",
   "execution_count": 30,
   "metadata": {},
   "outputs": [],
   "source": [
    "# Add unique values of product combinations to the product combinations sql table\n",
    "for combo in combinations:\n",
    "    \n",
    "    try:\n",
    "        \n",
    "        # Add commodity to database\n",
    "        product_combo = ProductCombination(name=combo)\n",
    "        db.session.add(product_combo)\n",
    "        db.session.commit()\n",
    "    \n",
    "    except exc.IntegrityError:\n",
    "        \n",
    "        db.session.rollback()"
   ]
  },
  {
   "cell_type": "markdown",
   "metadata": {},
   "source": [
    "### 4.4 master_date"
   ]
  },
  {
   "cell_type": "code",
   "execution_count": 31,
   "metadata": {},
   "outputs": [],
   "source": [
    "# Dates that are in the database\n",
    "dates = combo_df['date'].unique()"
   ]
  },
  {
   "cell_type": "code",
   "execution_count": 32,
   "metadata": {},
   "outputs": [],
   "source": [
    "mydates = pd.to_datetime(dates)"
   ]
  },
  {
   "cell_type": "code",
   "execution_count": 33,
   "metadata": {},
   "outputs": [],
   "source": [
    "for mydate in mydates:\n",
    "    \n",
    "    try:\n",
    "        \n",
    "        date_info = MasterDate(\n",
    "            date_key=mydate,\n",
    "            month=mydate.month_name(),\n",
    "            week_of_year=mydate.weekofyear,\n",
    "            day=mydate.day_name()\n",
    "        )\n",
    "        db.session.add(date_info)\n",
    "        db.session.commit()\n",
    "    \n",
    "    except exc.IntegrityError:\n",
    "        \n",
    "        db.session.rollback()"
   ]
  },
  {
   "cell_type": "markdown",
   "metadata": {},
   "source": [
    "### 4.5 inventory"
   ]
  },
  {
   "cell_type": "code",
   "execution_count": 34,
   "metadata": {},
   "outputs": [
    {
     "name": "stdout",
     "output_type": "stream",
     "text": [
      "<class 'pandas.core.frame.DataFrame'>\n",
      "RangeIndex: 15173 entries, 0 to 15172\n",
      "Data columns (total 12 columns):\n",
      " #   Column                    Non-Null Count  Dtype         \n",
      "---  ------                    --------------  -----         \n",
      " 0   rowid                     15173 non-null  int64         \n",
      " 1   date                      15173 non-null  datetime64[ns]\n",
      " 2   commodity                 15173 non-null  object        \n",
      " 3   container                 15173 non-null  object        \n",
      " 4   qty_available             15173 non-null  int64         \n",
      " 5   average_price_per_kg      15173 non-null  float64       \n",
      " 6   MTD_total_value_sold_(R)  15173 non-null  float64       \n",
      " 7   total_value_sold_(R)      15173 non-null  float64       \n",
      " 8   Total_quatity_sold        15173 non-null  int64         \n",
      " 9   MTD_Total_quatity_sold    15173 non-null  int64         \n",
      " 10  Total_kg_sold             15173 non-null  float64       \n",
      " 11  MTD_total_kg_sold         15173 non-null  float64       \n",
      "dtypes: datetime64[ns](1), float64(5), int64(4), object(2)\n",
      "memory usage: 1.4+ MB\n"
     ]
    }
   ],
   "source": [
    "# The inventory table will consist of the products not sold for that day\n",
    "container_df.info()"
   ]
  },
  {
   "cell_type": "code",
   "execution_count": 35,
   "metadata": {},
   "outputs": [],
   "source": [
    "for index, row in container_df.iterrows():\n",
    "    \n",
    "    some_product = Product.query.filter_by(name=row['commodity']).first()\n",
    "    some_container = Container.query.filter_by(name=row['container']).first()\n",
    "    some_date = MasterDate.query.filter_by(date_key=row['date']).first()\n",
    "    \n",
    "    try:\n",
    "        \n",
    "        inventory = Inventory(\n",
    "            inventory_date=some_date,\n",
    "            available=row['qty_available'],\n",
    "            product_inventory=some_product,\n",
    "            container_inventory=some_container\n",
    "        )\n",
    "        db.session.add(inventory)\n",
    "        db.session.commit()\n",
    "    \n",
    "    except exc.IntegrityError:\n",
    "        \n",
    "        db.session.rollback()"
   ]
  },
  {
   "cell_type": "markdown",
   "metadata": {},
   "source": [
    "### 4.6 sales"
   ]
  },
  {
   "cell_type": "code",
   "execution_count": 36,
   "metadata": {},
   "outputs": [
    {
     "name": "stdout",
     "output_type": "stream",
     "text": [
      "<class 'pandas.core.frame.DataFrame'>\n",
      "Int64Index: 55423 entries, 1 to 27305\n",
      "Data columns (total 12 columns):\n",
      " #   Column                Non-Null Count  Dtype         \n",
      "---  ------                --------------  -----         \n",
      " 0   date                  55423 non-null  datetime64[ns]\n",
      " 1   commodity             55423 non-null  object        \n",
      " 2   container             55423 non-null  object        \n",
      " 3   unit_mass             55423 non-null  int64         \n",
      " 4   product_combination   55423 non-null  object        \n",
      " 5   total_value_sold      55423 non-null  float64       \n",
      " 6   total_qty_sold        55423 non-null  int64         \n",
      " 7   total_kg_sold         55423 non-null  float64       \n",
      " 8   average               55423 non-null  float64       \n",
      " 9   highest_price         55423 non-null  float64       \n",
      " 10  ave_per_kg            55423 non-null  float64       \n",
      " 11  highest_price_per_kg  55423 non-null  float64       \n",
      "dtypes: datetime64[ns](1), float64(6), int64(2), object(3)\n",
      "memory usage: 5.5+ MB\n"
     ]
    }
   ],
   "source": [
    "combo_df.info()"
   ]
  },
  {
   "cell_type": "code",
   "execution_count": 37,
   "metadata": {},
   "outputs": [],
   "source": [
    "# Exclude products that were not sold\n",
    "filtered_df = combo_df[combo_df['total_qty_sold'] != 0]"
   ]
  },
  {
   "cell_type": "code",
   "execution_count": 38,
   "metadata": {},
   "outputs": [],
   "source": [
    "for index, row in filtered_df.iterrows():\n",
    "    \n",
    "    some_product = Product.query.filter_by(name=row['commodity']).first()\n",
    "    some_container = Container.query.filter_by(name=row['container']).first()\n",
    "    some_combo = ProductCombination.query.filter_by(name=row['product_combination']).first()\n",
    "    some_date = MasterDate.query.filter_by(date_key=row['date']).first()\n",
    "    \n",
    "    invoice = Sales(\n",
    "        sales_date=some_date,\n",
    "        quantity_sold=row['total_qty_sold'],\n",
    "        kg_sold=row['total_kg_sold'],\n",
    "        value=row['total_value_sold'],\n",
    "        average_price=row['average'],\n",
    "        highest_price=row['highest_price'],\n",
    "        combination_sale=some_combo,\n",
    "        container_sale=some_container,\n",
    "        product_sale=some_product\n",
    "    )\n",
    "    \n",
    "    db.session.add(invoice)\n",
    "    db.session.commit()"
   ]
  },
  {
   "cell_type": "code",
   "execution_count": 39,
   "metadata": {},
   "outputs": [],
   "source": [
    "db.session.close()"
   ]
  },
  {
   "cell_type": "code",
   "execution_count": 40,
   "metadata": {},
   "outputs": [],
   "source": [
    "connection.close()"
   ]
  },
  {
   "cell_type": "code",
   "execution_count": null,
   "metadata": {},
   "outputs": [],
   "source": []
  }
 ],
 "metadata": {
  "kernelspec": {
   "display_name": "Python 3",
   "language": "python",
   "name": "python3"
  },
  "language_info": {
   "codemirror_mode": {
    "name": "ipython",
    "version": 3
   },
   "file_extension": ".py",
   "mimetype": "text/x-python",
   "name": "python",
   "nbconvert_exporter": "python",
   "pygments_lexer": "ipython3",
   "version": "3.7.6"
  },
  "toc": {
   "base_numbering": 1,
   "nav_menu": {},
   "number_sections": true,
   "sideBar": true,
   "skip_h1_title": false,
   "title_cell": "Table of Contents",
   "title_sidebar": "Contents",
   "toc_cell": false,
   "toc_position": {},
   "toc_section_display": true,
   "toc_window_display": false
  }
 },
 "nbformat": 4,
 "nbformat_minor": 4
}
