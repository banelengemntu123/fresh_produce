{
 "cells": [
  {
   "cell_type": "code",
   "execution_count": 52,
   "metadata": {},
   "outputs": [],
   "source": [
    "import pandas as pd\n",
    "import urllib\n",
    "from sqlalchemy import create_engine, Table, MetaData\n",
    "from sqlalchemy.orm import sessionmaker\n",
    "\n",
    "# Custom upload with connection string\n",
    "from engine_info import server_info\n",
    "# From normalized_tables.py\n",
    "import normalized_tables\n",
    "\n",
    "import warnings\n",
    "warnings.filterwarnings('ignore')"
   ]
  },
  {
   "cell_type": "code",
   "execution_count": 2,
   "metadata": {},
   "outputs": [],
   "source": [
    "# Creating a connection to MS SQL SERVER\n",
    "params = urllib.parse.quote_plus(server_info)\n",
    "engine = create_engine('mssql+pyodbc:///?odbc_connect=%s' % params)\n",
    "connection = engine.connect()"
   ]
  },
  {
   "cell_type": "code",
   "execution_count": 3,
   "metadata": {},
   "outputs": [
    {
     "data": {
      "text/plain": [
       "['Capetown_Fresh_produce_market',\n",
       " 'Capetown_Fresh_produce_market_cleaned',\n",
       " 'Durban_Fresh_produce_market',\n",
       " 'Durban_Fresh_produce_market_cleaned',\n",
       " 'Joburg_Fresh_produce_combined_cleaned',\n",
       " 'Joburg_Fresh_produce_commodity_cleaned',\n",
       " 'Joburg_Fresh_produce_commodity_raw',\n",
       " 'Joburg_Fresh_produce_container_cleaned',\n",
       " 'Joburg_Fresh_produce_container_raw',\n",
       " 'Joburg_Fresh_produce_product_combination_raw',\n",
       " 'Joburg_Fresh_produce_scrapping_date',\n",
       " 'PickNPay_Prices',\n",
       " 'PickNPay_Prices_cleaned',\n",
       " 'Shoprite_Prices',\n",
       " 'Shoprite_Prices_cleaned',\n",
       " 'woolworths_Prices',\n",
       " 'Woolworths_Prices_cleaned']"
      ]
     },
     "execution_count": 3,
     "metadata": {},
     "output_type": "execute_result"
    }
   ],
   "source": [
    "# Check what is in the database\n",
    "engine.table_names()"
   ]
  },
  {
   "cell_type": "code",
   "execution_count": 4,
   "metadata": {},
   "outputs": [],
   "source": [
    "metadata = MetaData(bind=engine)"
   ]
  },
  {
   "cell_type": "markdown",
   "metadata": {},
   "source": [
    "## 1. Commodity (JHB)"
   ]
  },
  {
   "cell_type": "code",
   "execution_count": 20,
   "metadata": {},
   "outputs": [],
   "source": [
    "commodity_df = pd.read_sql_table('Joburg_Fresh_produce_commodity_cleaned', con=engine)"
   ]
  },
  {
   "cell_type": "code",
   "execution_count": 22,
   "metadata": {},
   "outputs": [
    {
     "data": {
      "text/html": [
       "<div>\n",
       "<style scoped>\n",
       "    .dataframe tbody tr th:only-of-type {\n",
       "        vertical-align: middle;\n",
       "    }\n",
       "\n",
       "    .dataframe tbody tr th {\n",
       "        vertical-align: top;\n",
       "    }\n",
       "\n",
       "    .dataframe thead th {\n",
       "        text-align: right;\n",
       "    }\n",
       "</style>\n",
       "<table border=\"1\" class=\"dataframe\">\n",
       "  <thead>\n",
       "    <tr style=\"text-align: right;\">\n",
       "      <th></th>\n",
       "      <th>index</th>\n",
       "      <th>rowid</th>\n",
       "      <th>date</th>\n",
       "      <th>commodity</th>\n",
       "      <th>qty_available</th>\n",
       "      <th>MTD_total_value_sold_(R)</th>\n",
       "      <th>total_value_sold_(R)</th>\n",
       "      <th>Total_quatity_sold</th>\n",
       "      <th>MTD_Total_quatity_sold</th>\n",
       "      <th>Total_kg_sold</th>\n",
       "      <th>MTD_total_kg_sold</th>\n",
       "    </tr>\n",
       "  </thead>\n",
       "  <tbody>\n",
       "    <tr>\n",
       "      <th>0</th>\n",
       "      <td>0</td>\n",
       "      <td>1</td>\n",
       "      <td>20 August 2020</td>\n",
       "      <td>AMADUMBE</td>\n",
       "      <td>2</td>\n",
       "      <td>39870.0</td>\n",
       "      <td>0.0</td>\n",
       "      <td>0.0</td>\n",
       "      <td>97.0</td>\n",
       "      <td>0.0</td>\n",
       "      <td>1940.0</td>\n",
       "    </tr>\n",
       "    <tr>\n",
       "      <th>1</th>\n",
       "      <td>1</td>\n",
       "      <td>2</td>\n",
       "      <td>20 August 2020</td>\n",
       "      <td>APPLES</td>\n",
       "      <td>91755</td>\n",
       "      <td>22664221.0</td>\n",
       "      <td>1205932.0</td>\n",
       "      <td>13799.0</td>\n",
       "      <td>261296.0</td>\n",
       "      <td>157462.0</td>\n",
       "      <td>3163863.0</td>\n",
       "    </tr>\n",
       "    <tr>\n",
       "      <th>2</th>\n",
       "      <td>2</td>\n",
       "      <td>3</td>\n",
       "      <td>20 August 2020</td>\n",
       "      <td>ARTICHOKES</td>\n",
       "      <td>1</td>\n",
       "      <td>53100.0</td>\n",
       "      <td>600.0</td>\n",
       "      <td>4.0</td>\n",
       "      <td>439.0</td>\n",
       "      <td>3.0</td>\n",
       "      <td>522.0</td>\n",
       "    </tr>\n",
       "    <tr>\n",
       "      <th>3</th>\n",
       "      <td>3</td>\n",
       "      <td>4</td>\n",
       "      <td>20 August 2020</td>\n",
       "      <td>ASPARAGUS</td>\n",
       "      <td>8</td>\n",
       "      <td>258975.0</td>\n",
       "      <td>34000.0</td>\n",
       "      <td>50.0</td>\n",
       "      <td>359.0</td>\n",
       "      <td>250.0</td>\n",
       "      <td>1795.0</td>\n",
       "    </tr>\n",
       "    <tr>\n",
       "      <th>4</th>\n",
       "      <td>4</td>\n",
       "      <td>5</td>\n",
       "      <td>20 August 2020</td>\n",
       "      <td>ATCHARA</td>\n",
       "      <td>207</td>\n",
       "      <td>1351.2</td>\n",
       "      <td>0.0</td>\n",
       "      <td>0.0</td>\n",
       "      <td>23.0</td>\n",
       "      <td>0.0</td>\n",
       "      <td>65.0</td>\n",
       "    </tr>\n",
       "  </tbody>\n",
       "</table>\n",
       "</div>"
      ],
      "text/plain": [
       "   index  rowid            date   commodity  qty_available  \\\n",
       "0      0      1  20 August 2020    AMADUMBE              2   \n",
       "1      1      2  20 August 2020      APPLES          91755   \n",
       "2      2      3  20 August 2020  ARTICHOKES              1   \n",
       "3      3      4  20 August 2020   ASPARAGUS              8   \n",
       "4      4      5  20 August 2020     ATCHARA            207   \n",
       "\n",
       "   MTD_total_value_sold_(R)  total_value_sold_(R)  Total_quatity_sold  \\\n",
       "0                   39870.0                   0.0                 0.0   \n",
       "1                22664221.0             1205932.0             13799.0   \n",
       "2                   53100.0                 600.0                 4.0   \n",
       "3                  258975.0               34000.0                50.0   \n",
       "4                    1351.2                   0.0                 0.0   \n",
       "\n",
       "   MTD_Total_quatity_sold  Total_kg_sold  MTD_total_kg_sold  \n",
       "0                    97.0            0.0             1940.0  \n",
       "1                261296.0       157462.0          3163863.0  \n",
       "2                   439.0            3.0              522.0  \n",
       "3                   359.0          250.0             1795.0  \n",
       "4                    23.0            0.0               65.0  "
      ]
     },
     "execution_count": 22,
     "metadata": {},
     "output_type": "execute_result"
    }
   ],
   "source": [
    "commodity_df.head()"
   ]
  },
  {
   "cell_type": "code",
   "execution_count": 23,
   "metadata": {},
   "outputs": [
    {
     "name": "stdout",
     "output_type": "stream",
     "text": [
      "<class 'pandas.core.frame.DataFrame'>\n",
      "RangeIndex: 1133 entries, 0 to 1132\n",
      "Data columns (total 11 columns):\n",
      " #   Column                    Non-Null Count  Dtype  \n",
      "---  ------                    --------------  -----  \n",
      " 0   index                     1133 non-null   int64  \n",
      " 1   rowid                     1133 non-null   int64  \n",
      " 2   date                      1133 non-null   object \n",
      " 3   commodity                 1133 non-null   object \n",
      " 4   qty_available             1133 non-null   int64  \n",
      " 5   MTD_total_value_sold_(R)  1133 non-null   float64\n",
      " 6   total_value_sold_(R)      1133 non-null   float64\n",
      " 7   Total_quatity_sold        1133 non-null   float64\n",
      " 8   MTD_Total_quatity_sold    1133 non-null   float64\n",
      " 9   Total_kg_sold             1133 non-null   float64\n",
      " 10  MTD_total_kg_sold         1133 non-null   float64\n",
      "dtypes: float64(6), int64(3), object(2)\n",
      "memory usage: 97.5+ KB\n"
     ]
    }
   ],
   "source": [
    "# Check the data type so that it's suited to be inserted in a normalized database\n",
    "commodity_df.info()"
   ]
  },
  {
   "cell_type": "code",
   "execution_count": 29,
   "metadata": {},
   "outputs": [],
   "source": [
    "# Change the quantity sold to int\n",
    "commodity_df[['Total_quatity_sold', 'MTD_Total_quatity_sold']] = commodity_df[['Total_quatity_sold', 'MTD_Total_quatity_sold']].astype('int64')"
   ]
  },
  {
   "cell_type": "code",
   "execution_count": 39,
   "metadata": {},
   "outputs": [],
   "source": [
    "# Convert date column from string to datetime\n",
    "commodity_df['date'] = pd.to_datetime(commodity_df['date'])"
   ]
  },
  {
   "cell_type": "code",
   "execution_count": 40,
   "metadata": {},
   "outputs": [
    {
     "name": "stdout",
     "output_type": "stream",
     "text": [
      "<class 'pandas.core.frame.DataFrame'>\n",
      "RangeIndex: 1133 entries, 0 to 1132\n",
      "Data columns (total 11 columns):\n",
      " #   Column                    Non-Null Count  Dtype         \n",
      "---  ------                    --------------  -----         \n",
      " 0   index                     1133 non-null   int64         \n",
      " 1   rowid                     1133 non-null   int64         \n",
      " 2   date                      1133 non-null   datetime64[ns]\n",
      " 3   commodity                 1133 non-null   object        \n",
      " 4   qty_available             1133 non-null   int64         \n",
      " 5   MTD_total_value_sold_(R)  1133 non-null   float64       \n",
      " 6   total_value_sold_(R)      1133 non-null   float64       \n",
      " 7   Total_quatity_sold        1133 non-null   int64         \n",
      " 8   MTD_Total_quatity_sold    1133 non-null   int64         \n",
      " 9   Total_kg_sold             1133 non-null   float64       \n",
      " 10  MTD_total_kg_sold         1133 non-null   float64       \n",
      "dtypes: datetime64[ns](1), float64(4), int64(5), object(1)\n",
      "memory usage: 97.5+ KB\n"
     ]
    }
   ],
   "source": [
    "commodity_df.info()"
   ]
  },
  {
   "cell_type": "markdown",
   "metadata": {},
   "source": [
    "## 2. Container (JHB)"
   ]
  },
  {
   "cell_type": "code",
   "execution_count": 31,
   "metadata": {},
   "outputs": [],
   "source": [
    "container_df = pd.read_sql_table('Joburg_Fresh_produce_container_cleaned', con=engine)"
   ]
  },
  {
   "cell_type": "code",
   "execution_count": 32,
   "metadata": {},
   "outputs": [
    {
     "data": {
      "text/html": [
       "<div>\n",
       "<style scoped>\n",
       "    .dataframe tbody tr th:only-of-type {\n",
       "        vertical-align: middle;\n",
       "    }\n",
       "\n",
       "    .dataframe tbody tr th {\n",
       "        vertical-align: top;\n",
       "    }\n",
       "\n",
       "    .dataframe thead th {\n",
       "        text-align: right;\n",
       "    }\n",
       "</style>\n",
       "<table border=\"1\" class=\"dataframe\">\n",
       "  <thead>\n",
       "    <tr style=\"text-align: right;\">\n",
       "      <th></th>\n",
       "      <th>index</th>\n",
       "      <th>rowid</th>\n",
       "      <th>date</th>\n",
       "      <th>commodity</th>\n",
       "      <th>container</th>\n",
       "      <th>qty_available</th>\n",
       "      <th>average_price_per_kg</th>\n",
       "      <th>MTD_total_value_sold_(R)</th>\n",
       "      <th>total_value_sold_(R)</th>\n",
       "      <th>Total_quatity_sold</th>\n",
       "      <th>MTD_Total_quatity_sold</th>\n",
       "      <th>Total_kg_sold</th>\n",
       "      <th>MTD_total_kg_sold</th>\n",
       "    </tr>\n",
       "  </thead>\n",
       "  <tbody>\n",
       "    <tr>\n",
       "      <th>0</th>\n",
       "      <td>0</td>\n",
       "      <td>1</td>\n",
       "      <td>20 August 2020</td>\n",
       "      <td>AMADUMBE</td>\n",
       "      <td>20KG POCKET</td>\n",
       "      <td>2</td>\n",
       "      <td>0.00</td>\n",
       "      <td>39870.0</td>\n",
       "      <td>0.0</td>\n",
       "      <td>0.0</td>\n",
       "      <td>97.0</td>\n",
       "      <td>0.0</td>\n",
       "      <td>1940.0</td>\n",
       "    </tr>\n",
       "    <tr>\n",
       "      <th>1</th>\n",
       "      <td>1</td>\n",
       "      <td>2</td>\n",
       "      <td>20 August 2020</td>\n",
       "      <td>APPLES</td>\n",
       "      <td>10 X 1KG ECONO PACK CARTON</td>\n",
       "      <td>17</td>\n",
       "      <td>10.00</td>\n",
       "      <td>41932.0</td>\n",
       "      <td>100.0</td>\n",
       "      <td>1.0</td>\n",
       "      <td>547.0</td>\n",
       "      <td>10.0</td>\n",
       "      <td>5470.0</td>\n",
       "    </tr>\n",
       "    <tr>\n",
       "      <th>2</th>\n",
       "      <td>2</td>\n",
       "      <td>3</td>\n",
       "      <td>20 August 2020</td>\n",
       "      <td>APPLES</td>\n",
       "      <td>11KG JUMBLE CARTON</td>\n",
       "      <td>343</td>\n",
       "      <td>6.36</td>\n",
       "      <td>218914.0</td>\n",
       "      <td>1190.0</td>\n",
       "      <td>17.0</td>\n",
       "      <td>3170.0</td>\n",
       "      <td>187.0</td>\n",
       "      <td>34870.0</td>\n",
       "    </tr>\n",
       "    <tr>\n",
       "      <th>3</th>\n",
       "      <td>3</td>\n",
       "      <td>4</td>\n",
       "      <td>20 August 2020</td>\n",
       "      <td>APPLES</td>\n",
       "      <td>12 X 1KG ECONO PACK CARTON</td>\n",
       "      <td>3233</td>\n",
       "      <td>7.86</td>\n",
       "      <td>1454572.0</td>\n",
       "      <td>40738.0</td>\n",
       "      <td>432.0</td>\n",
       "      <td>17353.0</td>\n",
       "      <td>5184.0</td>\n",
       "      <td>208236.0</td>\n",
       "    </tr>\n",
       "    <tr>\n",
       "      <th>4</th>\n",
       "      <td>4</td>\n",
       "      <td>5</td>\n",
       "      <td>20 August 2020</td>\n",
       "      <td>APPLES</td>\n",
       "      <td>12.5KG M6 CARTON</td>\n",
       "      <td>12</td>\n",
       "      <td>0.00</td>\n",
       "      <td>16903.0</td>\n",
       "      <td>0.0</td>\n",
       "      <td>0.0</td>\n",
       "      <td>286.0</td>\n",
       "      <td>0.0</td>\n",
       "      <td>3575.0</td>\n",
       "    </tr>\n",
       "  </tbody>\n",
       "</table>\n",
       "</div>"
      ],
      "text/plain": [
       "   index  rowid            date commodity                   container  \\\n",
       "0      0      1  20 August 2020  AMADUMBE                 20KG POCKET   \n",
       "1      1      2  20 August 2020    APPLES  10 X 1KG ECONO PACK CARTON   \n",
       "2      2      3  20 August 2020    APPLES          11KG JUMBLE CARTON   \n",
       "3      3      4  20 August 2020    APPLES  12 X 1KG ECONO PACK CARTON   \n",
       "4      4      5  20 August 2020    APPLES            12.5KG M6 CARTON   \n",
       "\n",
       "   qty_available  average_price_per_kg  MTD_total_value_sold_(R)  \\\n",
       "0              2                  0.00                   39870.0   \n",
       "1             17                 10.00                   41932.0   \n",
       "2            343                  6.36                  218914.0   \n",
       "3           3233                  7.86                 1454572.0   \n",
       "4             12                  0.00                   16903.0   \n",
       "\n",
       "   total_value_sold_(R)  Total_quatity_sold  MTD_Total_quatity_sold  \\\n",
       "0                   0.0                 0.0                    97.0   \n",
       "1                 100.0                 1.0                   547.0   \n",
       "2                1190.0                17.0                  3170.0   \n",
       "3               40738.0               432.0                 17353.0   \n",
       "4                   0.0                 0.0                   286.0   \n",
       "\n",
       "   Total_kg_sold  MTD_total_kg_sold  \n",
       "0            0.0             1940.0  \n",
       "1           10.0             5470.0  \n",
       "2          187.0            34870.0  \n",
       "3         5184.0           208236.0  \n",
       "4            0.0             3575.0  "
      ]
     },
     "execution_count": 32,
     "metadata": {},
     "output_type": "execute_result"
    }
   ],
   "source": [
    "container_df.head()"
   ]
  },
  {
   "cell_type": "code",
   "execution_count": 33,
   "metadata": {},
   "outputs": [
    {
     "name": "stdout",
     "output_type": "stream",
     "text": [
      "<class 'pandas.core.frame.DataFrame'>\n",
      "RangeIndex: 3987 entries, 0 to 3986\n",
      "Data columns (total 13 columns):\n",
      " #   Column                    Non-Null Count  Dtype  \n",
      "---  ------                    --------------  -----  \n",
      " 0   index                     3987 non-null   int64  \n",
      " 1   rowid                     3987 non-null   int64  \n",
      " 2   date                      3987 non-null   object \n",
      " 3   commodity                 3987 non-null   object \n",
      " 4   container                 3987 non-null   object \n",
      " 5   qty_available             3987 non-null   int64  \n",
      " 6   average_price_per_kg      3987 non-null   float64\n",
      " 7   MTD_total_value_sold_(R)  3987 non-null   float64\n",
      " 8   total_value_sold_(R)      3987 non-null   float64\n",
      " 9   Total_quatity_sold        3987 non-null   float64\n",
      " 10  MTD_Total_quatity_sold    3987 non-null   float64\n",
      " 11  Total_kg_sold             3987 non-null   float64\n",
      " 12  MTD_total_kg_sold         3987 non-null   float64\n",
      "dtypes: float64(7), int64(3), object(3)\n",
      "memory usage: 405.1+ KB\n"
     ]
    }
   ],
   "source": [
    "container_df.info()"
   ]
  },
  {
   "cell_type": "code",
   "execution_count": 34,
   "metadata": {},
   "outputs": [],
   "source": [
    "# Change the quantity sold to int\n",
    "container_df[['Total_quatity_sold', 'MTD_Total_quatity_sold']] = container_df[['Total_quatity_sold', 'MTD_Total_quatity_sold']].astype('int64')"
   ]
  },
  {
   "cell_type": "code",
   "execution_count": 42,
   "metadata": {},
   "outputs": [],
   "source": [
    "# Convert date column from string to datetime\n",
    "container_df['date'] = pd.to_datetime(container_df['date'])"
   ]
  },
  {
   "cell_type": "code",
   "execution_count": 43,
   "metadata": {},
   "outputs": [
    {
     "name": "stdout",
     "output_type": "stream",
     "text": [
      "<class 'pandas.core.frame.DataFrame'>\n",
      "RangeIndex: 3987 entries, 0 to 3986\n",
      "Data columns (total 13 columns):\n",
      " #   Column                    Non-Null Count  Dtype         \n",
      "---  ------                    --------------  -----         \n",
      " 0   index                     3987 non-null   int64         \n",
      " 1   rowid                     3987 non-null   int64         \n",
      " 2   date                      3987 non-null   datetime64[ns]\n",
      " 3   commodity                 3987 non-null   object        \n",
      " 4   container                 3987 non-null   object        \n",
      " 5   qty_available             3987 non-null   int64         \n",
      " 6   average_price_per_kg      3987 non-null   float64       \n",
      " 7   MTD_total_value_sold_(R)  3987 non-null   float64       \n",
      " 8   total_value_sold_(R)      3987 non-null   float64       \n",
      " 9   Total_quatity_sold        3987 non-null   int64         \n",
      " 10  MTD_Total_quatity_sold    3987 non-null   int64         \n",
      " 11  Total_kg_sold             3987 non-null   float64       \n",
      " 12  MTD_total_kg_sold         3987 non-null   float64       \n",
      "dtypes: datetime64[ns](1), float64(5), int64(5), object(2)\n",
      "memory usage: 405.1+ KB\n"
     ]
    }
   ],
   "source": [
    "container_df.info()"
   ]
  },
  {
   "cell_type": "markdown",
   "metadata": {},
   "source": [
    "## 3. Combination (JHB)"
   ]
  },
  {
   "cell_type": "code",
   "execution_count": 36,
   "metadata": {},
   "outputs": [],
   "source": [
    "combo_df = pd.read_sql_table('Joburg_Fresh_produce_combined_cleaned', con=engine, index_col='rowid')"
   ]
  },
  {
   "cell_type": "code",
   "execution_count": 37,
   "metadata": {},
   "outputs": [
    {
     "data": {
      "text/html": [
       "<div>\n",
       "<style scoped>\n",
       "    .dataframe tbody tr th:only-of-type {\n",
       "        vertical-align: middle;\n",
       "    }\n",
       "\n",
       "    .dataframe tbody tr th {\n",
       "        vertical-align: top;\n",
       "    }\n",
       "\n",
       "    .dataframe thead th {\n",
       "        text-align: right;\n",
       "    }\n",
       "</style>\n",
       "<table border=\"1\" class=\"dataframe\">\n",
       "  <thead>\n",
       "    <tr style=\"text-align: right;\">\n",
       "      <th></th>\n",
       "      <th>index</th>\n",
       "      <th>date</th>\n",
       "      <th>commodity</th>\n",
       "      <th>container</th>\n",
       "      <th>unit_mass</th>\n",
       "      <th>product_combination</th>\n",
       "      <th>total_value_sold</th>\n",
       "      <th>total_qty_sold</th>\n",
       "      <th>total_kg_sold</th>\n",
       "      <th>average</th>\n",
       "      <th>highest_price</th>\n",
       "      <th>ave_per_kg</th>\n",
       "      <th>highest_price_per_kg</th>\n",
       "    </tr>\n",
       "    <tr>\n",
       "      <th>rowid</th>\n",
       "      <th></th>\n",
       "      <th></th>\n",
       "      <th></th>\n",
       "      <th></th>\n",
       "      <th></th>\n",
       "      <th></th>\n",
       "      <th></th>\n",
       "      <th></th>\n",
       "      <th></th>\n",
       "      <th></th>\n",
       "      <th></th>\n",
       "      <th></th>\n",
       "      <th></th>\n",
       "    </tr>\n",
       "  </thead>\n",
       "  <tbody>\n",
       "    <tr>\n",
       "      <th>13803</th>\n",
       "      <td>0</td>\n",
       "      <td>2020-08-31</td>\n",
       "      <td>ONIONS</td>\n",
       "      <td>2KG POCKET</td>\n",
       "      <td>2</td>\n",
       "      <td>SWEET,CL 1,L/M,*,NORTHERN CAPE</td>\n",
       "      <td>0.0</td>\n",
       "      <td>0</td>\n",
       "      <td>0.0</td>\n",
       "      <td>0.0</td>\n",
       "      <td>0.0</td>\n",
       "      <td>0.00</td>\n",
       "      <td>0.0</td>\n",
       "    </tr>\n",
       "    <tr>\n",
       "      <th>13804</th>\n",
       "      <td>1</td>\n",
       "      <td>2020-08-31</td>\n",
       "      <td>ONIONS</td>\n",
       "      <td>2KG POCKET</td>\n",
       "      <td>2</td>\n",
       "      <td>WHITE,CL 1,L/M,*,NORTHERN CAPE</td>\n",
       "      <td>0.0</td>\n",
       "      <td>0</td>\n",
       "      <td>0.0</td>\n",
       "      <td>0.0</td>\n",
       "      <td>0.0</td>\n",
       "      <td>0.00</td>\n",
       "      <td>0.0</td>\n",
       "    </tr>\n",
       "    <tr>\n",
       "      <th>13805</th>\n",
       "      <td>2</td>\n",
       "      <td>2020-08-31</td>\n",
       "      <td>ONIONS</td>\n",
       "      <td>2KG POCKET</td>\n",
       "      <td>2</td>\n",
       "      <td>WHITE,CL 1,M,*,NORTHERN CAPE</td>\n",
       "      <td>0.0</td>\n",
       "      <td>0</td>\n",
       "      <td>0.0</td>\n",
       "      <td>0.0</td>\n",
       "      <td>0.0</td>\n",
       "      <td>0.00</td>\n",
       "      <td>0.0</td>\n",
       "    </tr>\n",
       "    <tr>\n",
       "      <th>13806</th>\n",
       "      <td>3</td>\n",
       "      <td>2020-08-31</td>\n",
       "      <td>ONIONS</td>\n",
       "      <td>3KG POCKET</td>\n",
       "      <td>3</td>\n",
       "      <td>BROWN,CL 1,L/M,*,NORTHERN CAPE</td>\n",
       "      <td>6138.0</td>\n",
       "      <td>361</td>\n",
       "      <td>1083.0</td>\n",
       "      <td>17.0</td>\n",
       "      <td>18.0</td>\n",
       "      <td>5.67</td>\n",
       "      <td>6.0</td>\n",
       "    </tr>\n",
       "    <tr>\n",
       "      <th>13807</th>\n",
       "      <td>4</td>\n",
       "      <td>2020-08-31</td>\n",
       "      <td>ONIONS</td>\n",
       "      <td>3KG POCKET</td>\n",
       "      <td>3</td>\n",
       "      <td>BROWN,CL 1,L/M,*,WESTERN CAPE</td>\n",
       "      <td>0.0</td>\n",
       "      <td>0</td>\n",
       "      <td>0.0</td>\n",
       "      <td>0.0</td>\n",
       "      <td>0.0</td>\n",
       "      <td>0.00</td>\n",
       "      <td>0.0</td>\n",
       "    </tr>\n",
       "  </tbody>\n",
       "</table>\n",
       "</div>"
      ],
      "text/plain": [
       "       index       date commodity   container  unit_mass  \\\n",
       "rowid                                                      \n",
       "13803      0 2020-08-31    ONIONS  2KG POCKET          2   \n",
       "13804      1 2020-08-31    ONIONS  2KG POCKET          2   \n",
       "13805      2 2020-08-31    ONIONS  2KG POCKET          2   \n",
       "13806      3 2020-08-31    ONIONS  3KG POCKET          3   \n",
       "13807      4 2020-08-31    ONIONS  3KG POCKET          3   \n",
       "\n",
       "                  product_combination  total_value_sold  total_qty_sold  \\\n",
       "rowid                                                                     \n",
       "13803  SWEET,CL 1,L/M,*,NORTHERN CAPE               0.0               0   \n",
       "13804  WHITE,CL 1,L/M,*,NORTHERN CAPE               0.0               0   \n",
       "13805    WHITE,CL 1,M,*,NORTHERN CAPE               0.0               0   \n",
       "13806  BROWN,CL 1,L/M,*,NORTHERN CAPE            6138.0             361   \n",
       "13807   BROWN,CL 1,L/M,*,WESTERN CAPE               0.0               0   \n",
       "\n",
       "       total_kg_sold  average  highest_price  ave_per_kg  highest_price_per_kg  \n",
       "rowid                                                                           \n",
       "13803            0.0      0.0            0.0        0.00                   0.0  \n",
       "13804            0.0      0.0            0.0        0.00                   0.0  \n",
       "13805            0.0      0.0            0.0        0.00                   0.0  \n",
       "13806         1083.0     17.0           18.0        5.67                   6.0  \n",
       "13807            0.0      0.0            0.0        0.00                   0.0  "
      ]
     },
     "execution_count": 37,
     "metadata": {},
     "output_type": "execute_result"
    }
   ],
   "source": [
    "combo_df.head()"
   ]
  },
  {
   "cell_type": "code",
   "execution_count": 38,
   "metadata": {},
   "outputs": [
    {
     "name": "stdout",
     "output_type": "stream",
     "text": [
      "<class 'pandas.core.frame.DataFrame'>\n",
      "Int64Index: 14634 entries, 13803 to 13802\n",
      "Data columns (total 13 columns):\n",
      " #   Column                Non-Null Count  Dtype         \n",
      "---  ------                --------------  -----         \n",
      " 0   index                 14634 non-null  int64         \n",
      " 1   date                  14634 non-null  datetime64[ns]\n",
      " 2   commodity             14634 non-null  object        \n",
      " 3   container             14634 non-null  object        \n",
      " 4   unit_mass             14634 non-null  int64         \n",
      " 5   product_combination   14634 non-null  object        \n",
      " 6   total_value_sold      14634 non-null  float64       \n",
      " 7   total_qty_sold        14634 non-null  int64         \n",
      " 8   total_kg_sold         14634 non-null  float64       \n",
      " 9   average               14634 non-null  float64       \n",
      " 10  highest_price         14634 non-null  float64       \n",
      " 11  ave_per_kg            14634 non-null  float64       \n",
      " 12  highest_price_per_kg  14634 non-null  float64       \n",
      "dtypes: datetime64[ns](1), float64(6), int64(3), object(3)\n",
      "memory usage: 1.6+ MB\n"
     ]
    }
   ],
   "source": [
    "combo_df.info()"
   ]
  },
  {
   "cell_type": "markdown",
   "metadata": {},
   "source": [
    "## 4. Add data to normalized tables"
   ]
  },
  {
   "cell_type": "code",
   "execution_count": 59,
   "metadata": {},
   "outputs": [],
   "source": [
    "Session = sessionmaker(bind=engine)"
   ]
  },
  {
   "cell_type": "code",
   "execution_count": 60,
   "metadata": {},
   "outputs": [],
   "source": [
    "session = Session()"
   ]
  },
  {
   "cell_type": "markdown",
   "metadata": {},
   "source": [
    "### 4.1 product"
   ]
  },
  {
   "cell_type": "code",
   "execution_count": 58,
   "metadata": {},
   "outputs": [],
   "source": [
    "products = commodity_df['commodity'].unique()"
   ]
  },
  {
   "cell_type": "code",
   "execution_count": 61,
   "metadata": {},
   "outputs": [],
   "source": [
    "# Add unique values of products to the product sql table\n",
    "for product in products:\n",
    "    commodity = normalized_tables.Product(name=product)\n",
    "    session.add(commodity)\n",
    "    session.commit()"
   ]
  },
  {
   "cell_type": "markdown",
   "metadata": {},
   "source": [
    "### 4.2 container"
   ]
  },
  {
   "cell_type": "code",
   "execution_count": 78,
   "metadata": {},
   "outputs": [
    {
     "ename": "AttributeError",
     "evalue": "'Series' object has no attribute 'duplicate'",
     "output_type": "error",
     "traceback": [
      "\u001b[1;31m---------------------------------------------------------------------------\u001b[0m",
      "\u001b[1;31mAttributeError\u001b[0m                            Traceback (most recent call last)",
      "\u001b[1;32m<ipython-input-78-11bc6e033c98>\u001b[0m in \u001b[0;36m<module>\u001b[1;34m\u001b[0m\n\u001b[0;32m      1\u001b[0m \u001b[1;31m# Check if different commodities can be packaged in similar container name\u001b[0m\u001b[1;33m\u001b[0m\u001b[1;33m\u001b[0m\u001b[1;33m\u001b[0m\u001b[0m\n\u001b[1;32m----> 2\u001b[1;33m \u001b[0mcontainer_df\u001b[0m\u001b[1;33m[\u001b[0m\u001b[1;33m(\u001b[0m\u001b[0mcontainer_df\u001b[0m\u001b[1;33m[\u001b[0m\u001b[1;34m'container'\u001b[0m\u001b[1;33m]\u001b[0m\u001b[1;33m.\u001b[0m\u001b[0mduplicate\u001b[0m\u001b[1;33m)\u001b[0m \u001b[1;33m&\u001b[0m \u001b[1;33m(\u001b[0m\u001b[0mcontainer_df\u001b[0m\u001b[1;33m[\u001b[0m\u001b[1;34m'commodity'\u001b[0m\u001b[1;33m]\u001b[0m \u001b[1;33m!=\u001b[0m \u001b[0mcontainer_df\u001b[0m\u001b[1;33m[\u001b[0m\u001b[1;34m'commodity'\u001b[0m\u001b[1;33m]\u001b[0m\u001b[1;33m)\u001b[0m\u001b[1;33m]\u001b[0m\u001b[1;33m\u001b[0m\u001b[1;33m\u001b[0m\u001b[0m\n\u001b[0m",
      "\u001b[1;32m~\\anaconda3\\lib\\site-packages\\pandas\\core\\generic.py\u001b[0m in \u001b[0;36m__getattr__\u001b[1;34m(self, name)\u001b[0m\n\u001b[0;32m   5272\u001b[0m             \u001b[1;32mif\u001b[0m \u001b[0mself\u001b[0m\u001b[1;33m.\u001b[0m\u001b[0m_info_axis\u001b[0m\u001b[1;33m.\u001b[0m\u001b[0m_can_hold_identifiers_and_holds_name\u001b[0m\u001b[1;33m(\u001b[0m\u001b[0mname\u001b[0m\u001b[1;33m)\u001b[0m\u001b[1;33m:\u001b[0m\u001b[1;33m\u001b[0m\u001b[1;33m\u001b[0m\u001b[0m\n\u001b[0;32m   5273\u001b[0m                 \u001b[1;32mreturn\u001b[0m \u001b[0mself\u001b[0m\u001b[1;33m[\u001b[0m\u001b[0mname\u001b[0m\u001b[1;33m]\u001b[0m\u001b[1;33m\u001b[0m\u001b[1;33m\u001b[0m\u001b[0m\n\u001b[1;32m-> 5274\u001b[1;33m             \u001b[1;32mreturn\u001b[0m \u001b[0mobject\u001b[0m\u001b[1;33m.\u001b[0m\u001b[0m__getattribute__\u001b[0m\u001b[1;33m(\u001b[0m\u001b[0mself\u001b[0m\u001b[1;33m,\u001b[0m \u001b[0mname\u001b[0m\u001b[1;33m)\u001b[0m\u001b[1;33m\u001b[0m\u001b[1;33m\u001b[0m\u001b[0m\n\u001b[0m\u001b[0;32m   5275\u001b[0m \u001b[1;33m\u001b[0m\u001b[0m\n\u001b[0;32m   5276\u001b[0m     \u001b[1;32mdef\u001b[0m \u001b[0m__setattr__\u001b[0m\u001b[1;33m(\u001b[0m\u001b[0mself\u001b[0m\u001b[1;33m,\u001b[0m \u001b[0mname\u001b[0m\u001b[1;33m:\u001b[0m \u001b[0mstr\u001b[0m\u001b[1;33m,\u001b[0m \u001b[0mvalue\u001b[0m\u001b[1;33m)\u001b[0m \u001b[1;33m->\u001b[0m \u001b[1;32mNone\u001b[0m\u001b[1;33m:\u001b[0m\u001b[1;33m\u001b[0m\u001b[1;33m\u001b[0m\u001b[0m\n",
      "\u001b[1;31mAttributeError\u001b[0m: 'Series' object has no attribute 'duplicate'"
     ]
    }
   ],
   "source": [
    "# Check if different commodities can be packaged in similar container name\n",
    "container_df[(container_df['container'].duplicate) & (container_df['commodity'] != container_df['commodity'])]"
   ]
  },
  {
   "cell_type": "code",
   "execution_count": 72,
   "metadata": {},
   "outputs": [],
   "source": [
    "containers = container_df['container'].unique()"
   ]
  },
  {
   "cell_type": "code",
   "execution_count": 75,
   "metadata": {},
   "outputs": [
    {
     "data": {
      "text/plain": [
       "array(['AMADUMBE', 'BUTTERNUT', 'SWEET POTATO', 'GREEN PEPPERS'],\n",
       "      dtype=object)"
      ]
     },
     "execution_count": 75,
     "metadata": {},
     "output_type": "execute_result"
    }
   ],
   "source": [
    "container_df[container_df['container'] == '20KG POCKET']['commodity'].unique()"
   ]
  },
  {
   "cell_type": "code",
   "execution_count": 73,
   "metadata": {},
   "outputs": [
    {
     "data": {
      "text/plain": [
       "array(['20KG POCKET', '10 X 1KG ECONO PACK CARTON', '11KG JUMBLE CARTON',\n",
       "       '12 X 1KG ECONO PACK CARTON', '12.5KG M6 CARTON',\n",
       "       '12.5KG M6 CONTAINER', '18.50KG CARTON', '3 KG ECONO PACK BOX',\n",
       "       '300KG BULK BIN', '3KG ECONO PACK'], dtype=object)"
      ]
     },
     "execution_count": 73,
     "metadata": {},
     "output_type": "execute_result"
    }
   ],
   "source": [
    "containers[:10]"
   ]
  },
  {
   "cell_type": "code",
   "execution_count": null,
   "metadata": {},
   "outputs": [],
   "source": []
  },
  {
   "cell_type": "markdown",
   "metadata": {},
   "source": [
    "### 4.3 inventory"
   ]
  },
  {
   "cell_type": "code",
   "execution_count": null,
   "metadata": {},
   "outputs": [],
   "source": []
  },
  {
   "cell_type": "code",
   "execution_count": null,
   "metadata": {},
   "outputs": [],
   "source": []
  },
  {
   "cell_type": "markdown",
   "metadata": {},
   "source": [
    "### 4.4 product_combination"
   ]
  },
  {
   "cell_type": "code",
   "execution_count": 69,
   "metadata": {},
   "outputs": [
    {
     "data": {
      "text/html": [
       "<div>\n",
       "<style scoped>\n",
       "    .dataframe tbody tr th:only-of-type {\n",
       "        vertical-align: middle;\n",
       "    }\n",
       "\n",
       "    .dataframe tbody tr th {\n",
       "        vertical-align: top;\n",
       "    }\n",
       "\n",
       "    .dataframe thead th {\n",
       "        text-align: right;\n",
       "    }\n",
       "</style>\n",
       "<table border=\"1\" class=\"dataframe\">\n",
       "  <thead>\n",
       "    <tr style=\"text-align: right;\">\n",
       "      <th></th>\n",
       "      <th>index</th>\n",
       "      <th>date</th>\n",
       "      <th>commodity</th>\n",
       "      <th>container</th>\n",
       "      <th>unit_mass</th>\n",
       "      <th>product_combination</th>\n",
       "      <th>total_value_sold</th>\n",
       "      <th>total_qty_sold</th>\n",
       "      <th>total_kg_sold</th>\n",
       "      <th>average</th>\n",
       "      <th>highest_price</th>\n",
       "      <th>ave_per_kg</th>\n",
       "      <th>highest_price_per_kg</th>\n",
       "    </tr>\n",
       "    <tr>\n",
       "      <th>rowid</th>\n",
       "      <th></th>\n",
       "      <th></th>\n",
       "      <th></th>\n",
       "      <th></th>\n",
       "      <th></th>\n",
       "      <th></th>\n",
       "      <th></th>\n",
       "      <th></th>\n",
       "      <th></th>\n",
       "      <th></th>\n",
       "      <th></th>\n",
       "      <th></th>\n",
       "      <th></th>\n",
       "    </tr>\n",
       "  </thead>\n",
       "  <tbody>\n",
       "  </tbody>\n",
       "</table>\n",
       "</div>"
      ],
      "text/plain": [
       "Empty DataFrame\n",
       "Columns: [index, date, commodity, container, unit_mass, product_combination, total_value_sold, total_qty_sold, total_kg_sold, average, highest_price, ave_per_kg, highest_price_per_kg]\n",
       "Index: []"
      ]
     },
     "execution_count": 69,
     "metadata": {},
     "output_type": "execute_result"
    }
   ],
   "source": [
    "# Check if product_combinations can have different containers, or commodity names\n",
    "combo_df[(combo_df['product_combination'] == combo_df['product_combination']) & (combo_df['container'] != combo_df['container']) | (combo_df['commodity'] != combo_df['commodity'])]"
   ]
  },
  {
   "cell_type": "code",
   "execution_count": null,
   "metadata": {},
   "outputs": [],
   "source": []
  },
  {
   "cell_type": "markdown",
   "metadata": {},
   "source": [
    "### 4.5 sales"
   ]
  },
  {
   "cell_type": "code",
   "execution_count": null,
   "metadata": {},
   "outputs": [],
   "source": []
  },
  {
   "cell_type": "code",
   "execution_count": 80,
   "metadata": {},
   "outputs": [],
   "source": [
    "session.close()"
   ]
  },
  {
   "cell_type": "code",
   "execution_count": 81,
   "metadata": {},
   "outputs": [],
   "source": [
    "connection.close()"
   ]
  },
  {
   "cell_type": "code",
   "execution_count": null,
   "metadata": {},
   "outputs": [],
   "source": []
  }
 ],
 "metadata": {
  "kernelspec": {
   "display_name": "Python 3",
   "language": "python",
   "name": "python3"
  },
  "language_info": {
   "codemirror_mode": {
    "name": "ipython",
    "version": 3
   },
   "file_extension": ".py",
   "mimetype": "text/x-python",
   "name": "python",
   "nbconvert_exporter": "python",
   "pygments_lexer": "ipython3",
   "version": "3.7.6"
  }
 },
 "nbformat": 4,
 "nbformat_minor": 4
}
