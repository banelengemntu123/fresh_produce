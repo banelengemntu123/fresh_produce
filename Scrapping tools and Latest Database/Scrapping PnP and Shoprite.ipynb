{
 "cells": [
  {
   "cell_type": "markdown",
   "metadata": {
    "colab_type": "text",
    "id": "l6ohesHO1noQ"
   },
   "source": [
    "# Scrapping PnP"
   ]
  },
  {
   "cell_type": "markdown",
   "metadata": {},
   "source": [
    "## Page 1"
   ]
  },
  {
   "cell_type": "code",
   "execution_count": 45,
   "metadata": {
    "colab": {},
    "colab_type": "code",
    "id": "roNFNG2W9tf5"
   },
   "outputs": [],
   "source": [
    "# importing libraries\n",
    "from bs4 import BeautifulSoup\n",
    "import requests\n",
    "import pandas as pd\n",
    "from datetime import date\n",
    "import re\n",
    "import pyodbc"
   ]
  },
  {
   "cell_type": "code",
   "execution_count": 17,
   "metadata": {
    "colab": {
     "base_uri": "https://localhost:8080/",
     "height": 1000
    },
    "colab_type": "code",
    "executionInfo": {
     "elapsed": 1439,
     "status": "ok",
     "timestamp": 1578482191044,
     "user": {
      "displayName": "Sicelukwanda Zwane",
      "photoUrl": "https://lh3.googleusercontent.com/a-/AAuE7mC-szhl9yzJzLq9yfNEveVZYI_zqcCdurYGXxC0PDCdOicKrXutXcgLbE-NtyM-dg0Dr_DkGCzyTfAHPRcdicFnL-lzcS-AwkA37XtzLeERyWljtpyqfP884KBtni3Zf2HjPpUkQ-mMzRqZgIziXk_3Ba5GUv1Nulc066XTfW6oCr6lZQ7v2qdOblWEr8EeuAWXL9hmV-QDTInxM7hAcPzc1x-_Hn4r3FWp5xxBfgQkHJ0Ysd5JdDemHtHuSPavjfwrZwFV8FbaJggpdUFb1runTZzWvh_M6aP4qMrQ9L4JL26-VcEnOzNB0khOTNRH3s2NLjVouceuq7y3DqbPz5u9zRp7w_DYd7OoOYM9mKUQua4zOpkjG00nS0HVEw6fApWrR05VQneGPI0hYyB-NqtXXiSOHenW7wHl0IFrQYG59fHrNqPLLP439zRfwOK05CW-AK_LeHMn9mVNHVdHRatiWm-ajBG_VcoT67gIUQuev9ASmLzR1z0z7Me6guiQn6_u2_VFXffNSkJ_Nrcs8_GDqVyDsLEI_0vUvyUrMBridJvadRUhD494Y4oJ516TTF-RKAm1cq26xuxEHrm4tzPP5oPHMebiy9FEGcoH8tIEPx7D3UL6szewQ__mbrQSJry-gTJWqeVg98m1EZcQkrv83K-G1AXCzJAqA0N5hH4YrRgfeW-Ei9HtzpiO1Jq7DAKObKX-E47kWprLfCVt6cWRY5UvxSvvWSR7eKMEzSMqLbB-ErAccwAEitnySDE=s64",
      "userId": "00847478997328791076"
     },
     "user_tz": -120
    },
    "id": "wxweFVnz-6TP",
    "outputId": "5a58683c-d68d-4652-cb1e-bd61a7c61edf",
    "scrolled": true
   },
   "outputs": [],
   "source": [
    "# Step 1: Sending a HTTP request to a URL\n",
    "url = 'https://www.pnp.co.za/pnpstorefront/pnp/en/All-Products/Fresh-Food/Fruit/c/fruit703655157'\n",
    "\n",
    "# Make a GET request to fetch the raw HTML content\n",
    "response = requests.get(url)\n",
    "\n",
    "# From the response, we need the text\n",
    "page = response.text\n",
    "\n",
    "# Step 2: Parse the html content\n",
    "# Parse the html content\n",
    "soup = BeautifulSoup(page, \"html.parser\")"
   ]
  },
  {
   "cell_type": "code",
   "execution_count": 18,
   "metadata": {},
   "outputs": [],
   "source": [
    "p1_items = [str(item)[23:-6] for item in list(soup.find_all('div',{'class':'item-name'})) ]"
   ]
  },
  {
   "cell_type": "code",
   "execution_count": 19,
   "metadata": {
    "colab": {
     "base_uri": "https://localhost:8080/",
     "height": 141
    },
    "colab_type": "code",
    "executionInfo": {
     "elapsed": 1059,
     "status": "ok",
     "timestamp": 1578488723995,
     "user": {
      "displayName": "Sicelukwanda Zwane",
      "photoUrl": "https://lh3.googleusercontent.com/a-/AAuE7mC-szhl9yzJzLq9yfNEveVZYI_zqcCdurYGXxC0PDCdOicKrXutXcgLbE-NtyM-dg0Dr_DkGCzyTfAHPRcdicFnL-lzcS-AwkA37XtzLeERyWljtpyqfP884KBtni3Zf2HjPpUkQ-mMzRqZgIziXk_3Ba5GUv1Nulc066XTfW6oCr6lZQ7v2qdOblWEr8EeuAWXL9hmV-QDTInxM7hAcPzc1x-_Hn4r3FWp5xxBfgQkHJ0Ysd5JdDemHtHuSPavjfwrZwFV8FbaJggpdUFb1runTZzWvh_M6aP4qMrQ9L4JL26-VcEnOzNB0khOTNRH3s2NLjVouceuq7y3DqbPz5u9zRp7w_DYd7OoOYM9mKUQua4zOpkjG00nS0HVEw6fApWrR05VQneGPI0hYyB-NqtXXiSOHenW7wHl0IFrQYG59fHrNqPLLP439zRfwOK05CW-AK_LeHMn9mVNHVdHRatiWm-ajBG_VcoT67gIUQuev9ASmLzR1z0z7Me6guiQn6_u2_VFXffNSkJ_Nrcs8_GDqVyDsLEI_0vUvyUrMBridJvadRUhD494Y4oJ516TTF-RKAm1cq26xuxEHrm4tzPP5oPHMebiy9FEGcoH8tIEPx7D3UL6szewQ__mbrQSJry-gTJWqeVg98m1EZcQkrv83K-G1AXCzJAqA0N5hH4YrRgfeW-Ei9HtzpiO1Jq7DAKObKX-E47kWprLfCVt6cWRY5UvxSvvWSR7eKMEzSMqLbB-ErAccwAEitnySDE=s64",
      "userId": "00847478997328791076"
     },
     "user_tz": -120
    },
    "id": "rsGTa4PZKPb2",
    "outputId": "ab23475d-92fc-4f93-c1df-afedb4c3da16",
    "scrolled": false
   },
   "outputs": [
    {
     "data": {
      "text/plain": [
       "'27<span>99'"
      ]
     },
     "execution_count": 19,
     "metadata": {},
     "output_type": "execute_result"
    }
   ],
   "source": [
    "str(soup.find_all('div',{'class':'currentPrice'})[0])[32:-13]"
   ]
  },
  {
   "cell_type": "code",
   "execution_count": 20,
   "metadata": {
    "scrolled": false
   },
   "outputs": [],
   "source": [
    "p1_prices = [price for price in soup.find_all('div',{'class':'currentPrice'})]"
   ]
  },
  {
   "cell_type": "code",
   "execution_count": 21,
   "metadata": {},
   "outputs": [],
   "source": [
    "p1_prices = [str(price) for price in p1_prices]\n",
    "p1_prices = [price[32:-13] for price in p1_prices]"
   ]
  },
  {
   "cell_type": "code",
   "execution_count": 22,
   "metadata": {
    "scrolled": true
   },
   "outputs": [],
   "source": [
    "p1_prices = [(price[:2]+'.'+price[-2:])for price in p1_prices]"
   ]
  },
  {
   "cell_type": "code",
   "execution_count": 23,
   "metadata": {},
   "outputs": [
    {
     "data": {
      "text/plain": [
       "['27.99',\n",
       " '29.99',\n",
       " '24.99',\n",
       " '34.99',\n",
       " '26.99',\n",
       " '26.99',\n",
       " '17.99',\n",
       " '34.99',\n",
       " '27.99',\n",
       " '17.99',\n",
       " '34.99',\n",
       " '24.99',\n",
       " '26.99',\n",
       " '25.99',\n",
       " '17.99',\n",
       " '29.99',\n",
       " '26.99',\n",
       " '34.99']"
      ]
     },
     "execution_count": 23,
     "metadata": {},
     "output_type": "execute_result"
    }
   ],
   "source": [
    "p1_prices"
   ]
  },
  {
   "cell_type": "markdown",
   "metadata": {},
   "source": [
    "## Page 2"
   ]
  },
  {
   "cell_type": "code",
   "execution_count": 25,
   "metadata": {
    "colab": {
     "base_uri": "https://localhost:8080/",
     "height": 1000
    },
    "colab_type": "code",
    "executionInfo": {
     "elapsed": 1439,
     "status": "ok",
     "timestamp": 1578482191044,
     "user": {
      "displayName": "Sicelukwanda Zwane",
      "photoUrl": "https://lh3.googleusercontent.com/a-/AAuE7mC-szhl9yzJzLq9yfNEveVZYI_zqcCdurYGXxC0PDCdOicKrXutXcgLbE-NtyM-dg0Dr_DkGCzyTfAHPRcdicFnL-lzcS-AwkA37XtzLeERyWljtpyqfP884KBtni3Zf2HjPpUkQ-mMzRqZgIziXk_3Ba5GUv1Nulc066XTfW6oCr6lZQ7v2qdOblWEr8EeuAWXL9hmV-QDTInxM7hAcPzc1x-_Hn4r3FWp5xxBfgQkHJ0Ysd5JdDemHtHuSPavjfwrZwFV8FbaJggpdUFb1runTZzWvh_M6aP4qMrQ9L4JL26-VcEnOzNB0khOTNRH3s2NLjVouceuq7y3DqbPz5u9zRp7w_DYd7OoOYM9mKUQua4zOpkjG00nS0HVEw6fApWrR05VQneGPI0hYyB-NqtXXiSOHenW7wHl0IFrQYG59fHrNqPLLP439zRfwOK05CW-AK_LeHMn9mVNHVdHRatiWm-ajBG_VcoT67gIUQuev9ASmLzR1z0z7Me6guiQn6_u2_VFXffNSkJ_Nrcs8_GDqVyDsLEI_0vUvyUrMBridJvadRUhD494Y4oJ516TTF-RKAm1cq26xuxEHrm4tzPP5oPHMebiy9FEGcoH8tIEPx7D3UL6szewQ__mbrQSJry-gTJWqeVg98m1EZcQkrv83K-G1AXCzJAqA0N5hH4YrRgfeW-Ei9HtzpiO1Jq7DAKObKX-E47kWprLfCVt6cWRY5UvxSvvWSR7eKMEzSMqLbB-ErAccwAEitnySDE=s64",
      "userId": "00847478997328791076"
     },
     "user_tz": -120
    },
    "id": "wxweFVnz-6TP",
    "outputId": "5a58683c-d68d-4652-cb1e-bd61a7c61edf",
    "scrolled": true
   },
   "outputs": [],
   "source": [
    "# Step 1: Sending a HTTP request to a URL\n",
    "url = 'https://www.pnp.co.za/pnpstorefront/pnp/en/All-Products/Fresh-Food/Fruit/c/fruit703655157?q=%3Arelevance&pageSize=18&page=1'\n",
    "\n",
    "# Make a GET request to fetch the raw HTML content\n",
    "response = requests.get(url)\n",
    "\n",
    "# From the response, we need the text\n",
    "page = response.text\n",
    "\n",
    "# Step 2: Parse the html content\n",
    "# Parse the html content\n",
    "soup = BeautifulSoup(page, \"html.parser\")"
   ]
  },
  {
   "cell_type": "code",
   "execution_count": 26,
   "metadata": {},
   "outputs": [],
   "source": [
    "p2_items = [str(item)[23:-6] for item in list(soup.find_all('div',{'class':'item-name'})) ]"
   ]
  },
  {
   "cell_type": "code",
   "execution_count": 27,
   "metadata": {
    "scrolled": false
   },
   "outputs": [],
   "source": [
    "p2_prices = [price for price in soup.find_all('div',{'class':'currentPrice'})]"
   ]
  },
  {
   "cell_type": "code",
   "execution_count": 29,
   "metadata": {},
   "outputs": [],
   "source": [
    "p2_prices = [str(price) for price in p2_prices]\n",
    "p2_prices = [price[32:-13] for price in p2_prices]"
   ]
  },
  {
   "cell_type": "code",
   "execution_count": 30,
   "metadata": {
    "scrolled": true
   },
   "outputs": [],
   "source": [
    "p2_prices = [(price[:2]+'.'+price[-2:])for price in p2_prices]"
   ]
  },
  {
   "cell_type": "code",
   "execution_count": 31,
   "metadata": {},
   "outputs": [
    {
     "data": {
      "text/plain": [
       "['17.99',\n",
       " '24.99',\n",
       " '26.99',\n",
       " '32.99',\n",
       " '24.99',\n",
       " '39.99',\n",
       " '29.99',\n",
       " '54.99',\n",
       " '37.99',\n",
       " '29.99',\n",
       " '29.99',\n",
       " '44.99']"
      ]
     },
     "execution_count": 31,
     "metadata": {},
     "output_type": "execute_result"
    }
   ],
   "source": [
    "p2_prices"
   ]
  },
  {
   "cell_type": "markdown",
   "metadata": {},
   "source": [
    "## Page 1 and 2 merged"
   ]
  },
  {
   "cell_type": "code",
   "execution_count": 32,
   "metadata": {},
   "outputs": [],
   "source": [
    "items = p1_items + p2_items\n",
    "prices = p1_prices + p2_prices"
   ]
  },
  {
   "cell_type": "code",
   "execution_count": 33,
   "metadata": {},
   "outputs": [
    {
     "data": {
      "text/plain": [
       "['27.99',\n",
       " '29.99',\n",
       " '24.99',\n",
       " '34.99',\n",
       " '26.99',\n",
       " '26.99',\n",
       " '17.99',\n",
       " '34.99',\n",
       " '27.99',\n",
       " '17.99',\n",
       " '34.99',\n",
       " '24.99',\n",
       " '26.99',\n",
       " '25.99',\n",
       " '17.99',\n",
       " '29.99',\n",
       " '26.99',\n",
       " '34.99',\n",
       " '17.99',\n",
       " '24.99',\n",
       " '26.99',\n",
       " '32.99',\n",
       " '24.99',\n",
       " '39.99',\n",
       " '29.99',\n",
       " '54.99',\n",
       " '37.99',\n",
       " '29.99',\n",
       " '29.99',\n",
       " '44.99']"
      ]
     },
     "execution_count": 33,
     "metadata": {},
     "output_type": "execute_result"
    }
   ],
   "source": [
    "prices"
   ]
  },
  {
   "cell_type": "code",
   "execution_count": 34,
   "metadata": {},
   "outputs": [
    {
     "data": {
      "text/plain": [
       "['PnP Royal Gala Apples 1.5kg',\n",
       " 'PnP Limes 350g',\n",
       " 'PnP Juicing Oranges 2kg',\n",
       " 'PnP Grapefruit 4s',\n",
       " 'PnP Golden Delicious Apples 1.5kg',\n",
       " 'PnP Packham Pears 1.5kg',\n",
       " 'PnP Kids Red Apples 1kg',\n",
       " 'PnP Grapefruit Carry Bag 2.5kg',\n",
       " 'PnP Lemons 4s',\n",
       " 'PnP Organic Bananas',\n",
       " 'PnP Kiwi Fruit 4s',\n",
       " 'PnP Oranges 4s',\n",
       " 'PnP Lemons 850g',\n",
       " 'PnP Pink Lady Apples 1 Kg',\n",
       " 'PnP Kids Yellow Apples 1kg',\n",
       " 'PnP Pineapples 2s',\n",
       " 'PnP Oranges Bag 2.5kg',\n",
       " 'PnP Bananas 1.5kg',\n",
       " 'PnP Bananas 750g',\n",
       " 'PnP Queen Pineapple',\n",
       " 'PnP Granny Smith Apples 1.5kg',\n",
       " 'PnP Top Red Apples 1.5kg',\n",
       " 'PnP Pears 1.5kg',\n",
       " 'PnP Seasonal Sharing 450g',\n",
       " 'PnP Medjool Dates 180g',\n",
       " 'PnP Mandarins Tray',\n",
       " 'PnP Breakfast Papaya',\n",
       " 'PnP Starking Apples 1.5kg',\n",
       " 'PnP Baby Papaya 2s',\n",
       " 'PnP Soft Citrus Half Tray 1.5kg']"
      ]
     },
     "execution_count": 34,
     "metadata": {},
     "output_type": "execute_result"
    }
   ],
   "source": [
    "items"
   ]
  },
  {
   "cell_type": "code",
   "execution_count": 35,
   "metadata": {},
   "outputs": [],
   "source": [
    "PnP_prices = pd.DataFrame()\n",
    "PnP_prices[\"Item\"] = pd.Series(items)\n",
    "PnP_prices[\"Price\"] = pd.Series(prices)"
   ]
  },
  {
   "cell_type": "code",
   "execution_count": 36,
   "metadata": {},
   "outputs": [],
   "source": [
    "n=0\n",
    "day = []\n",
    "while n < len(items):\n",
    "    day.append(date.today())\n",
    "    n+=1\n",
    "PnP_prices[\"Date\"] = pd.Series(day)"
   ]
  },
  {
   "cell_type": "code",
   "execution_count": 37,
   "metadata": {},
   "outputs": [
    {
     "data": {
      "text/html": [
       "<div>\n",
       "<style scoped>\n",
       "    .dataframe tbody tr th:only-of-type {\n",
       "        vertical-align: middle;\n",
       "    }\n",
       "\n",
       "    .dataframe tbody tr th {\n",
       "        vertical-align: top;\n",
       "    }\n",
       "\n",
       "    .dataframe thead th {\n",
       "        text-align: right;\n",
       "    }\n",
       "</style>\n",
       "<table border=\"1\" class=\"dataframe\">\n",
       "  <thead>\n",
       "    <tr style=\"text-align: right;\">\n",
       "      <th></th>\n",
       "      <th>Item</th>\n",
       "      <th>Price</th>\n",
       "      <th>Date</th>\n",
       "    </tr>\n",
       "  </thead>\n",
       "  <tbody>\n",
       "    <tr>\n",
       "      <th>0</th>\n",
       "      <td>PnP Royal Gala Apples 1.5kg</td>\n",
       "      <td>27.99</td>\n",
       "      <td>2020-08-25</td>\n",
       "    </tr>\n",
       "    <tr>\n",
       "      <th>1</th>\n",
       "      <td>PnP Limes 350g</td>\n",
       "      <td>29.99</td>\n",
       "      <td>2020-08-25</td>\n",
       "    </tr>\n",
       "    <tr>\n",
       "      <th>2</th>\n",
       "      <td>PnP Juicing Oranges 2kg</td>\n",
       "      <td>24.99</td>\n",
       "      <td>2020-08-25</td>\n",
       "    </tr>\n",
       "    <tr>\n",
       "      <th>3</th>\n",
       "      <td>PnP Grapefruit 4s</td>\n",
       "      <td>34.99</td>\n",
       "      <td>2020-08-25</td>\n",
       "    </tr>\n",
       "    <tr>\n",
       "      <th>4</th>\n",
       "      <td>PnP Golden Delicious Apples 1.5kg</td>\n",
       "      <td>26.99</td>\n",
       "      <td>2020-08-25</td>\n",
       "    </tr>\n",
       "    <tr>\n",
       "      <th>5</th>\n",
       "      <td>PnP Packham Pears 1.5kg</td>\n",
       "      <td>26.99</td>\n",
       "      <td>2020-08-25</td>\n",
       "    </tr>\n",
       "    <tr>\n",
       "      <th>6</th>\n",
       "      <td>PnP Kids Red Apples 1kg</td>\n",
       "      <td>17.99</td>\n",
       "      <td>2020-08-25</td>\n",
       "    </tr>\n",
       "    <tr>\n",
       "      <th>7</th>\n",
       "      <td>PnP Grapefruit Carry Bag 2.5kg</td>\n",
       "      <td>34.99</td>\n",
       "      <td>2020-08-25</td>\n",
       "    </tr>\n",
       "    <tr>\n",
       "      <th>8</th>\n",
       "      <td>PnP Lemons 4s</td>\n",
       "      <td>27.99</td>\n",
       "      <td>2020-08-25</td>\n",
       "    </tr>\n",
       "    <tr>\n",
       "      <th>9</th>\n",
       "      <td>PnP Organic Bananas</td>\n",
       "      <td>17.99</td>\n",
       "      <td>2020-08-25</td>\n",
       "    </tr>\n",
       "    <tr>\n",
       "      <th>10</th>\n",
       "      <td>PnP Kiwi Fruit 4s</td>\n",
       "      <td>34.99</td>\n",
       "      <td>2020-08-25</td>\n",
       "    </tr>\n",
       "    <tr>\n",
       "      <th>11</th>\n",
       "      <td>PnP Oranges 4s</td>\n",
       "      <td>24.99</td>\n",
       "      <td>2020-08-25</td>\n",
       "    </tr>\n",
       "    <tr>\n",
       "      <th>12</th>\n",
       "      <td>PnP Lemons 850g</td>\n",
       "      <td>26.99</td>\n",
       "      <td>2020-08-25</td>\n",
       "    </tr>\n",
       "    <tr>\n",
       "      <th>13</th>\n",
       "      <td>PnP Pink Lady Apples 1 Kg</td>\n",
       "      <td>25.99</td>\n",
       "      <td>2020-08-25</td>\n",
       "    </tr>\n",
       "    <tr>\n",
       "      <th>14</th>\n",
       "      <td>PnP Kids Yellow Apples 1kg</td>\n",
       "      <td>17.99</td>\n",
       "      <td>2020-08-25</td>\n",
       "    </tr>\n",
       "    <tr>\n",
       "      <th>15</th>\n",
       "      <td>PnP Pineapples 2s</td>\n",
       "      <td>29.99</td>\n",
       "      <td>2020-08-25</td>\n",
       "    </tr>\n",
       "    <tr>\n",
       "      <th>16</th>\n",
       "      <td>PnP Oranges Bag 2.5kg</td>\n",
       "      <td>26.99</td>\n",
       "      <td>2020-08-25</td>\n",
       "    </tr>\n",
       "    <tr>\n",
       "      <th>17</th>\n",
       "      <td>PnP Bananas 1.5kg</td>\n",
       "      <td>34.99</td>\n",
       "      <td>2020-08-25</td>\n",
       "    </tr>\n",
       "    <tr>\n",
       "      <th>18</th>\n",
       "      <td>PnP Bananas 750g</td>\n",
       "      <td>17.99</td>\n",
       "      <td>2020-08-25</td>\n",
       "    </tr>\n",
       "    <tr>\n",
       "      <th>19</th>\n",
       "      <td>PnP Queen Pineapple</td>\n",
       "      <td>24.99</td>\n",
       "      <td>2020-08-25</td>\n",
       "    </tr>\n",
       "    <tr>\n",
       "      <th>20</th>\n",
       "      <td>PnP Granny Smith Apples 1.5kg</td>\n",
       "      <td>26.99</td>\n",
       "      <td>2020-08-25</td>\n",
       "    </tr>\n",
       "    <tr>\n",
       "      <th>21</th>\n",
       "      <td>PnP Top Red Apples 1.5kg</td>\n",
       "      <td>32.99</td>\n",
       "      <td>2020-08-25</td>\n",
       "    </tr>\n",
       "    <tr>\n",
       "      <th>22</th>\n",
       "      <td>PnP Pears 1.5kg</td>\n",
       "      <td>24.99</td>\n",
       "      <td>2020-08-25</td>\n",
       "    </tr>\n",
       "    <tr>\n",
       "      <th>23</th>\n",
       "      <td>PnP Seasonal Sharing 450g</td>\n",
       "      <td>39.99</td>\n",
       "      <td>2020-08-25</td>\n",
       "    </tr>\n",
       "    <tr>\n",
       "      <th>24</th>\n",
       "      <td>PnP Medjool Dates 180g</td>\n",
       "      <td>29.99</td>\n",
       "      <td>2020-08-25</td>\n",
       "    </tr>\n",
       "    <tr>\n",
       "      <th>25</th>\n",
       "      <td>PnP Mandarins Tray</td>\n",
       "      <td>54.99</td>\n",
       "      <td>2020-08-25</td>\n",
       "    </tr>\n",
       "    <tr>\n",
       "      <th>26</th>\n",
       "      <td>PnP Breakfast Papaya</td>\n",
       "      <td>37.99</td>\n",
       "      <td>2020-08-25</td>\n",
       "    </tr>\n",
       "    <tr>\n",
       "      <th>27</th>\n",
       "      <td>PnP Starking Apples 1.5kg</td>\n",
       "      <td>29.99</td>\n",
       "      <td>2020-08-25</td>\n",
       "    </tr>\n",
       "    <tr>\n",
       "      <th>28</th>\n",
       "      <td>PnP Baby Papaya 2s</td>\n",
       "      <td>29.99</td>\n",
       "      <td>2020-08-25</td>\n",
       "    </tr>\n",
       "    <tr>\n",
       "      <th>29</th>\n",
       "      <td>PnP Soft Citrus Half Tray 1.5kg</td>\n",
       "      <td>44.99</td>\n",
       "      <td>2020-08-25</td>\n",
       "    </tr>\n",
       "  </tbody>\n",
       "</table>\n",
       "</div>"
      ],
      "text/plain": [
       "                                 Item  Price        Date\n",
       "0         PnP Royal Gala Apples 1.5kg  27.99  2020-08-25\n",
       "1                      PnP Limes 350g  29.99  2020-08-25\n",
       "2             PnP Juicing Oranges 2kg  24.99  2020-08-25\n",
       "3                   PnP Grapefruit 4s  34.99  2020-08-25\n",
       "4   PnP Golden Delicious Apples 1.5kg  26.99  2020-08-25\n",
       "5             PnP Packham Pears 1.5kg  26.99  2020-08-25\n",
       "6             PnP Kids Red Apples 1kg  17.99  2020-08-25\n",
       "7      PnP Grapefruit Carry Bag 2.5kg  34.99  2020-08-25\n",
       "8                       PnP Lemons 4s  27.99  2020-08-25\n",
       "9                 PnP Organic Bananas  17.99  2020-08-25\n",
       "10                  PnP Kiwi Fruit 4s  34.99  2020-08-25\n",
       "11                     PnP Oranges 4s  24.99  2020-08-25\n",
       "12                    PnP Lemons 850g  26.99  2020-08-25\n",
       "13          PnP Pink Lady Apples 1 Kg  25.99  2020-08-25\n",
       "14         PnP Kids Yellow Apples 1kg  17.99  2020-08-25\n",
       "15                  PnP Pineapples 2s  29.99  2020-08-25\n",
       "16              PnP Oranges Bag 2.5kg  26.99  2020-08-25\n",
       "17                  PnP Bananas 1.5kg  34.99  2020-08-25\n",
       "18                   PnP Bananas 750g  17.99  2020-08-25\n",
       "19                PnP Queen Pineapple  24.99  2020-08-25\n",
       "20      PnP Granny Smith Apples 1.5kg  26.99  2020-08-25\n",
       "21           PnP Top Red Apples 1.5kg  32.99  2020-08-25\n",
       "22                    PnP Pears 1.5kg  24.99  2020-08-25\n",
       "23          PnP Seasonal Sharing 450g  39.99  2020-08-25\n",
       "24             PnP Medjool Dates 180g  29.99  2020-08-25\n",
       "25                 PnP Mandarins Tray  54.99  2020-08-25\n",
       "26               PnP Breakfast Papaya  37.99  2020-08-25\n",
       "27          PnP Starking Apples 1.5kg  29.99  2020-08-25\n",
       "28                 PnP Baby Papaya 2s  29.99  2020-08-25\n",
       "29    PnP Soft Citrus Half Tray 1.5kg  44.99  2020-08-25"
      ]
     },
     "execution_count": 37,
     "metadata": {},
     "output_type": "execute_result"
    }
   ],
   "source": [
    "PnP_prices"
   ]
  },
  {
   "cell_type": "code",
   "execution_count": 38,
   "metadata": {
    "scrolled": true
   },
   "outputs": [],
   "source": [
    "PnP_prices['Date'] = PnP_prices['Date'].astype(str).str.replace('-','/')"
   ]
  },
  {
   "cell_type": "code",
   "execution_count": 39,
   "metadata": {},
   "outputs": [
    {
     "data": {
      "text/html": [
       "<div>\n",
       "<style scoped>\n",
       "    .dataframe tbody tr th:only-of-type {\n",
       "        vertical-align: middle;\n",
       "    }\n",
       "\n",
       "    .dataframe tbody tr th {\n",
       "        vertical-align: top;\n",
       "    }\n",
       "\n",
       "    .dataframe thead th {\n",
       "        text-align: right;\n",
       "    }\n",
       "</style>\n",
       "<table border=\"1\" class=\"dataframe\">\n",
       "  <thead>\n",
       "    <tr style=\"text-align: right;\">\n",
       "      <th></th>\n",
       "      <th>Item</th>\n",
       "      <th>Price</th>\n",
       "      <th>Date</th>\n",
       "    </tr>\n",
       "  </thead>\n",
       "  <tbody>\n",
       "    <tr>\n",
       "      <th>0</th>\n",
       "      <td>PnP Royal Gala Apples 1.5kg</td>\n",
       "      <td>27.99</td>\n",
       "      <td>2020/08/25</td>\n",
       "    </tr>\n",
       "    <tr>\n",
       "      <th>1</th>\n",
       "      <td>PnP Limes 350g</td>\n",
       "      <td>29.99</td>\n",
       "      <td>2020/08/25</td>\n",
       "    </tr>\n",
       "    <tr>\n",
       "      <th>2</th>\n",
       "      <td>PnP Juicing Oranges 2kg</td>\n",
       "      <td>24.99</td>\n",
       "      <td>2020/08/25</td>\n",
       "    </tr>\n",
       "    <tr>\n",
       "      <th>3</th>\n",
       "      <td>PnP Grapefruit 4s</td>\n",
       "      <td>34.99</td>\n",
       "      <td>2020/08/25</td>\n",
       "    </tr>\n",
       "    <tr>\n",
       "      <th>4</th>\n",
       "      <td>PnP Golden Delicious Apples 1.5kg</td>\n",
       "      <td>26.99</td>\n",
       "      <td>2020/08/25</td>\n",
       "    </tr>\n",
       "  </tbody>\n",
       "</table>\n",
       "</div>"
      ],
      "text/plain": [
       "                                Item  Price        Date\n",
       "0        PnP Royal Gala Apples 1.5kg  27.99  2020/08/25\n",
       "1                     PnP Limes 350g  29.99  2020/08/25\n",
       "2            PnP Juicing Oranges 2kg  24.99  2020/08/25\n",
       "3                  PnP Grapefruit 4s  34.99  2020/08/25\n",
       "4  PnP Golden Delicious Apples 1.5kg  26.99  2020/08/25"
      ]
     },
     "execution_count": 39,
     "metadata": {},
     "output_type": "execute_result"
    }
   ],
   "source": [
    "PnP_prices.head()"
   ]
  },
  {
   "cell_type": "markdown",
   "metadata": {},
   "source": [
    "# Scrapping Shoprite"
   ]
  },
  {
   "cell_type": "markdown",
   "metadata": {},
   "source": [
    "## Page 1"
   ]
  },
  {
   "cell_type": "code",
   "execution_count": 67,
   "metadata": {},
   "outputs": [],
   "source": [
    "# Step 1: Sending a HTTP request to a URL\n",
    "url = 'https://www.shoprite.co.za/c-66/All-Departments/Food/Fresh-Food/Fresh-Fruit'\n",
    "\n",
    "# Make a GET request to fetch the raw HTML content\n",
    "response = requests.get(url)\n",
    "\n",
    "# From the response, we need the text\n",
    "page = response.text\n",
    "\n",
    "# Step 2: Parse the html content\n",
    "# Parse the html content\n",
    "soup = BeautifulSoup(page, \"html.parser\")"
   ]
  },
  {
   "cell_type": "code",
   "execution_count": 68,
   "metadata": {},
   "outputs": [],
   "source": [
    "prods = str(soup.find_all('script')[6]).split()"
   ]
  },
  {
   "cell_type": "code",
   "execution_count": 69,
   "metadata": {},
   "outputs": [],
   "source": [
    "indices = []\n",
    "n = 0\n",
    "while n < len(prods):\n",
    "    if prods[n] == '\"price\":':\n",
    "        indices.append(n+1)\n",
    "    n+=1"
   ]
  },
  {
   "cell_type": "code",
   "execution_count": 70,
   "metadata": {},
   "outputs": [],
   "source": [
    "p1_prices = []\n",
    "for index in indices:\n",
    "    p1_prices.append(prods[index].replace(\"'\",'').replace(',',''))"
   ]
  },
  {
   "cell_type": "code",
   "execution_count": 71,
   "metadata": {},
   "outputs": [],
   "source": [
    "items = str(soup.find_all('script')[6]).replace('\\n','').replace(' ',',')"
   ]
  },
  {
   "cell_type": "code",
   "execution_count": 72,
   "metadata": {},
   "outputs": [
    {
     "data": {
      "text/plain": [
       "5981"
      ]
     },
     "execution_count": 72,
     "metadata": {},
     "output_type": "execute_result"
    }
   ],
   "source": [
    "len(items)"
   ]
  },
  {
   "cell_type": "code",
   "execution_count": 73,
   "metadata": {},
   "outputs": [],
   "source": [
    "n=0\n",
    "p1_prods = []\n",
    "while n < len(p1_prices):\n",
    "    items = items[items.index('\"name\"')+9:]\n",
    "    p1_prods.append(items[:items.index(\"\\'\")])\n",
    "    n+=1"
   ]
  },
  {
   "cell_type": "code",
   "execution_count": 74,
   "metadata": {},
   "outputs": [
    {
     "data": {
      "text/plain": [
       "['Grapefruit,In,Bag,2kg',\n",
       " 'Safari,Pitted,Dates,Pack,250g',\n",
       " 'Lemon,Per,kg',\n",
       " 'Naartjie,Per,kg',\n",
       " 'Grapefruit,Per,kg',\n",
       " 'Orange,Per,kg',\n",
       " 'Packham,Pears,Pack,1.5kg',\n",
       " 'Gala,Royal,Apples,Bag,1.5kg',\n",
       " 'Forelle,Pears,1.5kg',\n",
       " 'Delicious,Golden,Apples,Bag,1.5kg',\n",
       " 'Red,Top,Apples,1.5kg',\n",
       " 'Granny,Smith,Apples,1.5kg',\n",
       " 'Papaya,Loose,Per,kg',\n",
       " 'Packham&#039;s,Triumph,Pears,Per,kg',\n",
       " 'Bulk,Banana,Pack,1.2kg',\n",
       " 'Naartjies,Pack,1kg',\n",
       " 'Minneolas,Pack,1kg',\n",
       " 'Golden,Extra,Large,Apple,Single',\n",
       " 'Starking,Extra,Large,Apple,Single',\n",
       " 'Loose,Bananas,Per,kg']"
      ]
     },
     "execution_count": 74,
     "metadata": {},
     "output_type": "execute_result"
    }
   ],
   "source": [
    "p1_prods"
   ]
  },
  {
   "cell_type": "code",
   "execution_count": 75,
   "metadata": {},
   "outputs": [],
   "source": [
    "n = 0\n",
    "while n < len(p1_prices):\n",
    "    p1_prods[n] = p1_prods[n].replace(',',' ')\n",
    "    n+=1"
   ]
  },
  {
   "cell_type": "code",
   "execution_count": 76,
   "metadata": {},
   "outputs": [
    {
     "data": {
      "text/plain": [
       "['Grapefruit In Bag 2kg',\n",
       " 'Safari Pitted Dates Pack 250g',\n",
       " 'Lemon Per kg',\n",
       " 'Naartjie Per kg',\n",
       " 'Grapefruit Per kg',\n",
       " 'Orange Per kg',\n",
       " 'Packham Pears Pack 1.5kg',\n",
       " 'Gala Royal Apples Bag 1.5kg',\n",
       " 'Forelle Pears 1.5kg',\n",
       " 'Delicious Golden Apples Bag 1.5kg',\n",
       " 'Red Top Apples 1.5kg',\n",
       " 'Granny Smith Apples 1.5kg',\n",
       " 'Papaya Loose Per kg',\n",
       " 'Packham&#039;s Triumph Pears Per kg',\n",
       " 'Bulk Banana Pack 1.2kg',\n",
       " 'Naartjies Pack 1kg',\n",
       " 'Minneolas Pack 1kg',\n",
       " 'Golden Extra Large Apple Single',\n",
       " 'Starking Extra Large Apple Single',\n",
       " 'Loose Bananas Per kg']"
      ]
     },
     "execution_count": 76,
     "metadata": {},
     "output_type": "execute_result"
    }
   ],
   "source": [
    "p1_prods"
   ]
  },
  {
   "cell_type": "markdown",
   "metadata": {},
   "source": [
    "## Page 2"
   ]
  },
  {
   "cell_type": "code",
   "execution_count": 77,
   "metadata": {},
   "outputs": [],
   "source": [
    "# Step 1: Sending a HTTP request to a URL\n",
    "url = 'https://www.shoprite.co.za/c-66/All-Departments/Food/Fresh-Food/Fresh-Fruit?q=%3Anovelty%3AbrowseAllStoresFacetOff%3AbrowseAllStoresFacetOff&page=1'\n",
    "\n",
    "# Make a GET request to fetch the raw HTML content\n",
    "response = requests.get(url)\n",
    "\n",
    "# From the response, we need the text\n",
    "page = response.text\n",
    "\n",
    "# Step 2: Parse the html content\n",
    "# Parse the html content\n",
    "soup = BeautifulSoup(page, \"html.parser\")\n"
   ]
  },
  {
   "cell_type": "code",
   "execution_count": 78,
   "metadata": {},
   "outputs": [],
   "source": [
    "prods = str(soup.find_all('script')[6]).split()"
   ]
  },
  {
   "cell_type": "code",
   "execution_count": 79,
   "metadata": {},
   "outputs": [],
   "source": [
    "indices = []\n",
    "n = 0\n",
    "while n < len(prods):\n",
    "    if prods[n] == '\"price\":':\n",
    "        indices.append(n+1)\n",
    "    n+=1"
   ]
  },
  {
   "cell_type": "code",
   "execution_count": 80,
   "metadata": {},
   "outputs": [],
   "source": [
    "p2_prices = []\n",
    "for index in indices:\n",
    "    p2_prices.append(prods[index].replace(\"'\",'').replace(',',''))"
   ]
  },
  {
   "cell_type": "code",
   "execution_count": 81,
   "metadata": {},
   "outputs": [],
   "source": [
    "items = str(soup.find_all('script')[6]).replace('\\n','').replace(' ',',')"
   ]
  },
  {
   "cell_type": "code",
   "execution_count": 82,
   "metadata": {},
   "outputs": [
    {
     "data": {
      "text/plain": [
       "5671"
      ]
     },
     "execution_count": 82,
     "metadata": {},
     "output_type": "execute_result"
    }
   ],
   "source": [
    "len(items)"
   ]
  },
  {
   "cell_type": "code",
   "execution_count": 83,
   "metadata": {},
   "outputs": [],
   "source": [
    "n=0\n",
    "p2_prods = []\n",
    "while n < len(p2_prices):\n",
    "    items = items[items.index('\"name\"')+9:]\n",
    "    p2_prods.append(items[:items.index(\"\\'\")])\n",
    "    n+=1"
   ]
  },
  {
   "cell_type": "code",
   "execution_count": 84,
   "metadata": {},
   "outputs": [],
   "source": [
    "n = 0\n",
    "while n < len(p2_prices):\n",
    "    p2_prods[n] = p2_prods[n].replace(',',' ')\n",
    "    n+=1"
   ]
  },
  {
   "cell_type": "code",
   "execution_count": 85,
   "metadata": {},
   "outputs": [
    {
     "data": {
      "text/plain": [
       "['Kiwi Fruit Single',\n",
       " 'Single Extra Large Granny Smith Apple Single',\n",
       " 'Limes 4 Cavity Pack',\n",
       " 'Apples Pack 3kg',\n",
       " 'Econo Pak Standard Apples 1.5kg',\n",
       " 'Core Red Apples Pack 1kg',\n",
       " 'Orange Pack 3kg',\n",
       " 'Bananas Bag',\n",
       " 'Starking Apples Pack 1.5kg',\n",
       " 'Trumps Pitted Dates Bar 100g',\n",
       " 'Soft Citrus Karripoc',\n",
       " 'Oranges Pack 2kg',\n",
       " 'Pears Pack 1kg',\n",
       " 'Econo Pak Green Apples Pack 1kg',\n",
       " 'Large Orange Pocket',\n",
       " 'Guavas Pack 750g',\n",
       " 'Mandarins Pack 1kg',\n",
       " 'Red Apples Pack 3kg',\n",
       " 'Lemons In Bag']"
      ]
     },
     "execution_count": 85,
     "metadata": {},
     "output_type": "execute_result"
    }
   ],
   "source": [
    "p2_prods"
   ]
  },
  {
   "cell_type": "markdown",
   "metadata": {},
   "source": [
    "## Page 1 and 2 merged"
   ]
  },
  {
   "cell_type": "code",
   "execution_count": 86,
   "metadata": {},
   "outputs": [],
   "source": [
    "prods = p1_prods + p2_prods\n",
    "prices = p1_prices + p2_prices"
   ]
  },
  {
   "cell_type": "code",
   "execution_count": 87,
   "metadata": {},
   "outputs": [],
   "source": [
    "Shoprite_prices = pd.DataFrame()\n",
    "Shoprite_prices[\"Item\"] = pd.Series(prods)\n",
    "Shoprite_prices[\"Price\"] = pd.Series(prices)"
   ]
  },
  {
   "cell_type": "code",
   "execution_count": 88,
   "metadata": {},
   "outputs": [],
   "source": [
    "n=0\n",
    "day = []\n",
    "while n < len(prods):\n",
    "    day.append(date.today())\n",
    "    n+=1\n",
    "Shoprite_prices[\"Date\"] = pd.Series(day)"
   ]
  },
  {
   "cell_type": "code",
   "execution_count": 89,
   "metadata": {},
   "outputs": [],
   "source": [
    "Shoprite_prices['Date'] = Shoprite_prices['Date'].astype(str).str.replace('-','/')"
   ]
  },
  {
   "cell_type": "code",
   "execution_count": 92,
   "metadata": {},
   "outputs": [
    {
     "data": {
      "text/html": [
       "<div>\n",
       "<style scoped>\n",
       "    .dataframe tbody tr th:only-of-type {\n",
       "        vertical-align: middle;\n",
       "    }\n",
       "\n",
       "    .dataframe tbody tr th {\n",
       "        vertical-align: top;\n",
       "    }\n",
       "\n",
       "    .dataframe thead th {\n",
       "        text-align: right;\n",
       "    }\n",
       "</style>\n",
       "<table border=\"1\" class=\"dataframe\">\n",
       "  <thead>\n",
       "    <tr style=\"text-align: right;\">\n",
       "      <th></th>\n",
       "      <th>Item</th>\n",
       "      <th>Price</th>\n",
       "      <th>Date</th>\n",
       "    </tr>\n",
       "  </thead>\n",
       "  <tbody>\n",
       "    <tr>\n",
       "      <th>0</th>\n",
       "      <td>Grapefruit In Bag 2kg</td>\n",
       "      <td>24.99</td>\n",
       "      <td>2020/08/25</td>\n",
       "    </tr>\n",
       "    <tr>\n",
       "      <th>1</th>\n",
       "      <td>Safari Pitted Dates Pack 250g</td>\n",
       "      <td>16.99</td>\n",
       "      <td>2020/08/25</td>\n",
       "    </tr>\n",
       "    <tr>\n",
       "      <th>2</th>\n",
       "      <td>Lemon Per kg</td>\n",
       "      <td>18.99</td>\n",
       "      <td>2020/08/25</td>\n",
       "    </tr>\n",
       "    <tr>\n",
       "      <th>3</th>\n",
       "      <td>Naartjie Per kg</td>\n",
       "      <td>19.99</td>\n",
       "      <td>2020/08/25</td>\n",
       "    </tr>\n",
       "    <tr>\n",
       "      <th>4</th>\n",
       "      <td>Grapefruit Per kg</td>\n",
       "      <td>14.99</td>\n",
       "      <td>2020/08/25</td>\n",
       "    </tr>\n",
       "  </tbody>\n",
       "</table>\n",
       "</div>"
      ],
      "text/plain": [
       "                            Item  Price        Date\n",
       "0          Grapefruit In Bag 2kg  24.99  2020/08/25\n",
       "1  Safari Pitted Dates Pack 250g  16.99  2020/08/25\n",
       "2                   Lemon Per kg  18.99  2020/08/25\n",
       "3                Naartjie Per kg  19.99  2020/08/25\n",
       "4              Grapefruit Per kg  14.99  2020/08/25"
      ]
     },
     "execution_count": 92,
     "metadata": {},
     "output_type": "execute_result"
    }
   ],
   "source": [
    "Shoprite_prices.head()"
   ]
  },
  {
   "cell_type": "markdown",
   "metadata": {},
   "source": [
    "# Saving the data into an SQL Database"
   ]
  },
  {
   "cell_type": "code",
   "execution_count": 101,
   "metadata": {},
   "outputs": [],
   "source": [
    "#Creating a connection\n",
    "conn = pyodbc.connect(driver='{SQL Server}',\n",
    "                      host='DESKTOP-0SIPQ7F\\SQLEXPRESS',\n",
    "                      database='Fresh_Produce_Market_Data', #Database name\n",
    "                      trusted_connection='tcon',\n",
    "                      user='sa')"
   ]
  },
  {
   "cell_type": "code",
   "execution_count": 102,
   "metadata": {},
   "outputs": [],
   "source": [
    "# Return a new Cursor object using the connection.\n",
    "cur = conn.cursor()"
   ]
  },
  {
   "cell_type": "code",
   "execution_count": 103,
   "metadata": {},
   "outputs": [
    {
     "data": {
      "text/plain": [
       "<pyodbc.Cursor at 0x1c70a90c4e0>"
      ]
     },
     "execution_count": 103,
     "metadata": {},
     "output_type": "execute_result"
    }
   ],
   "source": [
    "# Creating a table for capetown fresh produce\n",
    "cur.execute(\n",
    "  \"\"\"\n",
    "  CREATE TABLE Shoprite_Prices (\n",
    "  item  VARCHAR(255),\n",
    "  Price  VARCHAR(255),\n",
    "  Date  VARCHAR(255));\n",
    "  \"\"\"\n",
    ")"
   ]
  },
  {
   "cell_type": "markdown",
   "metadata": {},
   "source": [
    "### Inserting Data into a table for PNP"
   ]
  },
  {
   "cell_type": "code",
   "execution_count": 104,
   "metadata": {},
   "outputs": [],
   "source": [
    "#Inserting data into an sql database\n",
    "for index,row in PnP_prices.iterrows():\n",
    "    cur.execute(\"INSERT INTO PickNPay_Prices(item, Price, Date) Values(?,?,?)\",\n",
    "                row['Item'],\n",
    "                row['Price'],\n",
    "                row['Date'])\n",
    "    \n",
    "    conn.commit()"
   ]
  },
  {
   "cell_type": "markdown",
   "metadata": {},
   "source": [
    "### Inserting Data into a table for Shoprite"
   ]
  },
  {
   "cell_type": "code",
   "execution_count": 105,
   "metadata": {},
   "outputs": [],
   "source": [
    "#Inserting data into an sql database\n",
    "for index,row in Shoprite_prices.iterrows():\n",
    "    cur.execute(\"INSERT INTO Shoprite_Prices(item, Price, Date) Values(?,?,?)\",\n",
    "                row['Item'],\n",
    "                row['Price'],\n",
    "                row['Date'])\n",
    "    \n",
    "    conn.commit()"
   ]
  },
  {
   "cell_type": "markdown",
   "metadata": {},
   "source": [
    "### Closing all mconnections"
   ]
  },
  {
   "cell_type": "code",
   "execution_count": 106,
   "metadata": {},
   "outputs": [],
   "source": [
    "cur.close()\n",
    "conn.close()"
   ]
  }
 ],
 "metadata": {
  "colab": {
   "collapsed_sections": [],
   "name": "intro_to_beautiful_soup.ipynb",
   "provenance": []
  },
  "kernelspec": {
   "display_name": "Python 3",
   "language": "python",
   "name": "python3"
  },
  "language_info": {
   "codemirror_mode": {
    "name": "ipython",
    "version": 3
   },
   "file_extension": ".py",
   "mimetype": "text/x-python",
   "name": "python",
   "nbconvert_exporter": "python",
   "pygments_lexer": "ipython3",
   "version": "3.6.10"
  },
  "toc": {
   "base_numbering": 1,
   "nav_menu": {},
   "number_sections": true,
   "sideBar": true,
   "skip_h1_title": false,
   "title_cell": "Table of Contents",
   "title_sidebar": "Contents",
   "toc_cell": false,
   "toc_position": {},
   "toc_section_display": true,
   "toc_window_display": false
  }
 },
 "nbformat": 4,
 "nbformat_minor": 1
}
