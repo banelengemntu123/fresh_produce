{
 "cells": [
  {
   "cell_type": "markdown",
   "metadata": {
    "colab_type": "text",
    "heading_collapsed": true,
    "id": "l6ohesHO1noQ"
   },
   "source": [
    "# Scrapping PnP"
   ]
  },
  {
   "cell_type": "markdown",
   "metadata": {
    "heading_collapsed": true,
    "hidden": true
   },
   "source": [
    "## Page 1"
   ]
  },
  {
   "cell_type": "code",
   "execution_count": 1,
   "metadata": {
    "colab": {},
    "colab_type": "code",
    "hidden": true,
    "id": "roNFNG2W9tf5"
   },
   "outputs": [],
   "source": [
    "# importing libraries\n",
    "from bs4 import BeautifulSoup\n",
    "import requests\n",
    "import pandas as pd\n",
    "from datetime import date\n",
    "from urllib.request import urlopen, URLError, Request\n",
    "from selenium import webdriver\n",
    "from selenium.webdriver.firefox.options import Options\n",
    "import re\n",
    "import pyodbc"
   ]
  },
  {
   "cell_type": "code",
   "execution_count": 2,
   "metadata": {
    "colab": {
     "base_uri": "https://localhost:8080/",
     "height": 1000
    },
    "colab_type": "code",
    "executionInfo": {
     "elapsed": 1439,
     "status": "ok",
     "timestamp": 1578482191044,
     "user": {
      "displayName": "Sicelukwanda Zwane",
      "photoUrl": "https://lh3.googleusercontent.com/a-/AAuE7mC-szhl9yzJzLq9yfNEveVZYI_zqcCdurYGXxC0PDCdOicKrXutXcgLbE-NtyM-dg0Dr_DkGCzyTfAHPRcdicFnL-lzcS-AwkA37XtzLeERyWljtpyqfP884KBtni3Zf2HjPpUkQ-mMzRqZgIziXk_3Ba5GUv1Nulc066XTfW6oCr6lZQ7v2qdOblWEr8EeuAWXL9hmV-QDTInxM7hAcPzc1x-_Hn4r3FWp5xxBfgQkHJ0Ysd5JdDemHtHuSPavjfwrZwFV8FbaJggpdUFb1runTZzWvh_M6aP4qMrQ9L4JL26-VcEnOzNB0khOTNRH3s2NLjVouceuq7y3DqbPz5u9zRp7w_DYd7OoOYM9mKUQua4zOpkjG00nS0HVEw6fApWrR05VQneGPI0hYyB-NqtXXiSOHenW7wHl0IFrQYG59fHrNqPLLP439zRfwOK05CW-AK_LeHMn9mVNHVdHRatiWm-ajBG_VcoT67gIUQuev9ASmLzR1z0z7Me6guiQn6_u2_VFXffNSkJ_Nrcs8_GDqVyDsLEI_0vUvyUrMBridJvadRUhD494Y4oJ516TTF-RKAm1cq26xuxEHrm4tzPP5oPHMebiy9FEGcoH8tIEPx7D3UL6szewQ__mbrQSJry-gTJWqeVg98m1EZcQkrv83K-G1AXCzJAqA0N5hH4YrRgfeW-Ei9HtzpiO1Jq7DAKObKX-E47kWprLfCVt6cWRY5UvxSvvWSR7eKMEzSMqLbB-ErAccwAEitnySDE=s64",
      "userId": "00847478997328791076"
     },
     "user_tz": -120
    },
    "hidden": true,
    "id": "wxweFVnz-6TP",
    "outputId": "5a58683c-d68d-4652-cb1e-bd61a7c61edf",
    "scrolled": true
   },
   "outputs": [],
   "source": [
    "# Step 1: Sending a HTTP request to a URL\n",
    "url = 'https://www.pnp.co.za/pnpstorefront/pnp/en/All-Products/Fresh-Food/Fruit/c/fruit703655157'\n",
    "\n",
    "# Make a GET request to fetch the raw HTML content\n",
    "response = requests.get(url)\n",
    "\n",
    "# From the response, we need the text\n",
    "page = response.text\n",
    "\n",
    "# Step 2: Parse the html content\n",
    "# Parse the html content\n",
    "soup = BeautifulSoup(page, \"html.parser\")"
   ]
  },
  {
   "cell_type": "code",
   "execution_count": 3,
   "metadata": {
    "hidden": true
   },
   "outputs": [],
   "source": [
    "p1_items = [str(item)[23:-6] for item in list(soup.find_all('div',{'class':'item-name'})) ]"
   ]
  },
  {
   "cell_type": "code",
   "execution_count": 4,
   "metadata": {
    "colab": {
     "base_uri": "https://localhost:8080/",
     "height": 141
    },
    "colab_type": "code",
    "executionInfo": {
     "elapsed": 1059,
     "status": "ok",
     "timestamp": 1578488723995,
     "user": {
      "displayName": "Sicelukwanda Zwane",
      "photoUrl": "https://lh3.googleusercontent.com/a-/AAuE7mC-szhl9yzJzLq9yfNEveVZYI_zqcCdurYGXxC0PDCdOicKrXutXcgLbE-NtyM-dg0Dr_DkGCzyTfAHPRcdicFnL-lzcS-AwkA37XtzLeERyWljtpyqfP884KBtni3Zf2HjPpUkQ-mMzRqZgIziXk_3Ba5GUv1Nulc066XTfW6oCr6lZQ7v2qdOblWEr8EeuAWXL9hmV-QDTInxM7hAcPzc1x-_Hn4r3FWp5xxBfgQkHJ0Ysd5JdDemHtHuSPavjfwrZwFV8FbaJggpdUFb1runTZzWvh_M6aP4qMrQ9L4JL26-VcEnOzNB0khOTNRH3s2NLjVouceuq7y3DqbPz5u9zRp7w_DYd7OoOYM9mKUQua4zOpkjG00nS0HVEw6fApWrR05VQneGPI0hYyB-NqtXXiSOHenW7wHl0IFrQYG59fHrNqPLLP439zRfwOK05CW-AK_LeHMn9mVNHVdHRatiWm-ajBG_VcoT67gIUQuev9ASmLzR1z0z7Me6guiQn6_u2_VFXffNSkJ_Nrcs8_GDqVyDsLEI_0vUvyUrMBridJvadRUhD494Y4oJ516TTF-RKAm1cq26xuxEHrm4tzPP5oPHMebiy9FEGcoH8tIEPx7D3UL6szewQ__mbrQSJry-gTJWqeVg98m1EZcQkrv83K-G1AXCzJAqA0N5hH4YrRgfeW-Ei9HtzpiO1Jq7DAKObKX-E47kWprLfCVt6cWRY5UvxSvvWSR7eKMEzSMqLbB-ErAccwAEitnySDE=s64",
      "userId": "00847478997328791076"
     },
     "user_tz": -120
    },
    "hidden": true,
    "id": "rsGTa4PZKPb2",
    "outputId": "ab23475d-92fc-4f93-c1df-afedb4c3da16",
    "scrolled": false
   },
   "outputs": [
    {
     "data": {
      "text/plain": [
       "'24<span>99'"
      ]
     },
     "execution_count": 4,
     "metadata": {},
     "output_type": "execute_result"
    }
   ],
   "source": [
    "str(soup.find_all('div',{'class':'currentPrice'})[0])[32:-13]"
   ]
  },
  {
   "cell_type": "code",
   "execution_count": 5,
   "metadata": {
    "hidden": true,
    "scrolled": false
   },
   "outputs": [],
   "source": [
    "p1_prices = [price for price in soup.find_all('div',{'class':'currentPrice'})]"
   ]
  },
  {
   "cell_type": "code",
   "execution_count": 6,
   "metadata": {
    "hidden": true
   },
   "outputs": [],
   "source": [
    "p1_prices = [str(price) for price in p1_prices]\n",
    "p1_prices = [price[32:-13] for price in p1_prices]"
   ]
  },
  {
   "cell_type": "code",
   "execution_count": 7,
   "metadata": {
    "hidden": true,
    "scrolled": true
   },
   "outputs": [],
   "source": [
    "p1_prices = [(price[:2]+'.'+price[-2:])for price in p1_prices]"
   ]
  },
  {
   "cell_type": "code",
   "execution_count": 8,
   "metadata": {
    "hidden": true
   },
   "outputs": [
    {
     "data": {
      "text/plain": [
       "['24.99',\n",
       " '24.99',\n",
       " '34.99',\n",
       " '29.99',\n",
       " '32.99',\n",
       " '26.99',\n",
       " '39.99',\n",
       " '29.99',\n",
       " '54.99',\n",
       " '17.99',\n",
       " '27.99',\n",
       " '36.99',\n",
       " 'ng.00',\n",
       " '29.99',\n",
       " '25.99',\n",
       " '44.99',\n",
       " '34.99',\n",
       " '17.99']"
      ]
     },
     "execution_count": 8,
     "metadata": {},
     "output_type": "execute_result"
    }
   ],
   "source": [
    "p1_prices"
   ]
  },
  {
   "cell_type": "markdown",
   "metadata": {
    "heading_collapsed": true,
    "hidden": true
   },
   "source": [
    "## Page 2"
   ]
  },
  {
   "cell_type": "code",
   "execution_count": 9,
   "metadata": {
    "colab": {
     "base_uri": "https://localhost:8080/",
     "height": 1000
    },
    "colab_type": "code",
    "executionInfo": {
     "elapsed": 1439,
     "status": "ok",
     "timestamp": 1578482191044,
     "user": {
      "displayName": "Sicelukwanda Zwane",
      "photoUrl": "https://lh3.googleusercontent.com/a-/AAuE7mC-szhl9yzJzLq9yfNEveVZYI_zqcCdurYGXxC0PDCdOicKrXutXcgLbE-NtyM-dg0Dr_DkGCzyTfAHPRcdicFnL-lzcS-AwkA37XtzLeERyWljtpyqfP884KBtni3Zf2HjPpUkQ-mMzRqZgIziXk_3Ba5GUv1Nulc066XTfW6oCr6lZQ7v2qdOblWEr8EeuAWXL9hmV-QDTInxM7hAcPzc1x-_Hn4r3FWp5xxBfgQkHJ0Ysd5JdDemHtHuSPavjfwrZwFV8FbaJggpdUFb1runTZzWvh_M6aP4qMrQ9L4JL26-VcEnOzNB0khOTNRH3s2NLjVouceuq7y3DqbPz5u9zRp7w_DYd7OoOYM9mKUQua4zOpkjG00nS0HVEw6fApWrR05VQneGPI0hYyB-NqtXXiSOHenW7wHl0IFrQYG59fHrNqPLLP439zRfwOK05CW-AK_LeHMn9mVNHVdHRatiWm-ajBG_VcoT67gIUQuev9ASmLzR1z0z7Me6guiQn6_u2_VFXffNSkJ_Nrcs8_GDqVyDsLEI_0vUvyUrMBridJvadRUhD494Y4oJ516TTF-RKAm1cq26xuxEHrm4tzPP5oPHMebiy9FEGcoH8tIEPx7D3UL6szewQ__mbrQSJry-gTJWqeVg98m1EZcQkrv83K-G1AXCzJAqA0N5hH4YrRgfeW-Ei9HtzpiO1Jq7DAKObKX-E47kWprLfCVt6cWRY5UvxSvvWSR7eKMEzSMqLbB-ErAccwAEitnySDE=s64",
      "userId": "00847478997328791076"
     },
     "user_tz": -120
    },
    "hidden": true,
    "id": "wxweFVnz-6TP",
    "outputId": "5a58683c-d68d-4652-cb1e-bd61a7c61edf",
    "scrolled": true
   },
   "outputs": [],
   "source": [
    "# Step 1: Sending a HTTP request to a URL\n",
    "url = 'https://www.pnp.co.za/pnpstorefront/pnp/en/All-Products/Fresh-Food/Fruit/c/fruit703655157?q=%3Arelevance&pageSize=18&page=1'\n",
    "\n",
    "# Make a GET request to fetch the raw HTML content\n",
    "response = requests.get(url)\n",
    "\n",
    "# From the response, we need the text\n",
    "page = response.text\n",
    "\n",
    "# Step 2: Parse the html content\n",
    "# Parse the html content\n",
    "soup = BeautifulSoup(page, \"html.parser\")"
   ]
  },
  {
   "cell_type": "code",
   "execution_count": 10,
   "metadata": {
    "hidden": true
   },
   "outputs": [],
   "source": [
    "p2_items = [str(item)[23:-6] for item in list(soup.find_all('div',{'class':'item-name'})) ]"
   ]
  },
  {
   "cell_type": "code",
   "execution_count": 11,
   "metadata": {
    "hidden": true,
    "scrolled": false
   },
   "outputs": [],
   "source": [
    "p2_prices = [price for price in soup.find_all('div',{'class':'currentPrice'})]"
   ]
  },
  {
   "cell_type": "code",
   "execution_count": 12,
   "metadata": {
    "hidden": true
   },
   "outputs": [],
   "source": [
    "p2_prices = [str(price) for price in p2_prices]\n",
    "p2_prices = [price[32:-13] for price in p2_prices]"
   ]
  },
  {
   "cell_type": "code",
   "execution_count": 13,
   "metadata": {
    "hidden": true,
    "scrolled": true
   },
   "outputs": [],
   "source": [
    "p2_prices = [(price[:2]+'.'+price[-2:])for price in p2_prices]"
   ]
  },
  {
   "cell_type": "code",
   "execution_count": 14,
   "metadata": {
    "hidden": true
   },
   "outputs": [
    {
     "data": {
      "text/plain": [
       "['14.99',\n",
       " '29.99',\n",
       " '26.99',\n",
       " 'ng.49',\n",
       " '44.99',\n",
       " '26.99',\n",
       " '26.99',\n",
       " '17.99',\n",
       " '17.99',\n",
       " '34.99',\n",
       " '19.99',\n",
       " '24.99',\n",
       " '26.99',\n",
       " '49.99',\n",
       " '49.99']"
      ]
     },
     "execution_count": 14,
     "metadata": {},
     "output_type": "execute_result"
    }
   ],
   "source": [
    "p2_prices"
   ]
  },
  {
   "cell_type": "markdown",
   "metadata": {
    "heading_collapsed": true,
    "hidden": true
   },
   "source": [
    "## Page 1 and 2 merged"
   ]
  },
  {
   "cell_type": "code",
   "execution_count": 15,
   "metadata": {
    "hidden": true
   },
   "outputs": [],
   "source": [
    "items = p1_items + p2_items\n",
    "prices = p1_prices + p2_prices"
   ]
  },
  {
   "cell_type": "code",
   "execution_count": 16,
   "metadata": {
    "hidden": true
   },
   "outputs": [
    {
     "data": {
      "text/plain": [
       "['24.99',\n",
       " '24.99',\n",
       " '34.99',\n",
       " '29.99',\n",
       " '32.99',\n",
       " '26.99',\n",
       " '39.99',\n",
       " '29.99',\n",
       " '54.99',\n",
       " '17.99',\n",
       " '27.99',\n",
       " '36.99',\n",
       " 'ng.00',\n",
       " '29.99',\n",
       " '25.99',\n",
       " '44.99',\n",
       " '34.99',\n",
       " '17.99',\n",
       " '14.99',\n",
       " '29.99',\n",
       " '26.99',\n",
       " 'ng.49',\n",
       " '44.99',\n",
       " '26.99',\n",
       " '26.99',\n",
       " '17.99',\n",
       " '17.99',\n",
       " '34.99',\n",
       " '19.99',\n",
       " '24.99',\n",
       " '26.99',\n",
       " '49.99',\n",
       " '49.99']"
      ]
     },
     "execution_count": 16,
     "metadata": {},
     "output_type": "execute_result"
    }
   ],
   "source": [
    "prices"
   ]
  },
  {
   "cell_type": "code",
   "execution_count": 17,
   "metadata": {
    "hidden": true
   },
   "outputs": [
    {
     "data": {
      "text/plain": [
       "['PnP Oranges 4s',\n",
       " 'PnP Juicing Oranges 2kg',\n",
       " 'PnP Grapefruit Carry Bag 2.5kg',\n",
       " 'PnP Limes 350g',\n",
       " 'PnP Top Red Apples 1.5kg',\n",
       " 'PnP Packham Pears 1.5kg',\n",
       " 'PnP Imported Plums Pp',\n",
       " 'PnP Medjool Dates 180g',\n",
       " 'PnP Mandarins Tray',\n",
       " 'PnP Organic Bananas',\n",
       " 'PnP Lemons 4s',\n",
       " 'PnP Grapefruit 4s',\n",
       " 'PnP Breakfast Papaya',\n",
       " 'PnP Starking Apples 1.5kg',\n",
       " 'PnP Pink Lady Apples 1 Kg',\n",
       " 'PnP No Name Avocados 1kg',\n",
       " 'PnP Kiwi Fruit 4s',\n",
       " 'PnP Bananas 750g',\n",
       " 'PnP Small Bananas Packet',\n",
       " 'PnP Baby Papaya 2s',\n",
       " 'PnP Lemons 850g',\n",
       " 'PnP Seasonal Sharing 450g',\n",
       " 'PnP Soft Citrus Half Tray 1.5kg',\n",
       " 'PnP Golden Delicious Apples 1.5kg',\n",
       " 'PnP Granny Smith Apples 1.5kg',\n",
       " 'PnP Kids Yellow Apples 1kg',\n",
       " 'PnP Kids Red Apples 1kg',\n",
       " 'PnP Bananas 1.5kg',\n",
       " 'PnP Queen Pineapple',\n",
       " 'PnP Pineapples 2s',\n",
       " 'PnP Oranges Bag 2.5kg',\n",
       " 'PnP Imported Grapes Red Seedless 500g',\n",
       " 'PnP Imported Seedless White Grapes 500g']"
      ]
     },
     "execution_count": 17,
     "metadata": {},
     "output_type": "execute_result"
    }
   ],
   "source": [
    "items"
   ]
  },
  {
   "cell_type": "code",
   "execution_count": 18,
   "metadata": {
    "hidden": true
   },
   "outputs": [],
   "source": [
    "PnP_prices = pd.DataFrame()\n",
    "PnP_prices[\"Item\"] = pd.Series(items)\n",
    "PnP_prices[\"Price\"] = pd.Series(prices)"
   ]
  },
  {
   "cell_type": "code",
   "execution_count": 19,
   "metadata": {
    "hidden": true
   },
   "outputs": [],
   "source": [
    "n=0\n",
    "day = []\n",
    "while n < len(items):\n",
    "    day.append(date.today())\n",
    "    n+=1\n",
    "PnP_prices[\"Date\"] = pd.Series(day)"
   ]
  },
  {
   "cell_type": "code",
   "execution_count": 20,
   "metadata": {
    "hidden": true
   },
   "outputs": [
    {
     "data": {
      "text/html": [
       "<div>\n",
       "<style scoped>\n",
       "    .dataframe tbody tr th:only-of-type {\n",
       "        vertical-align: middle;\n",
       "    }\n",
       "\n",
       "    .dataframe tbody tr th {\n",
       "        vertical-align: top;\n",
       "    }\n",
       "\n",
       "    .dataframe thead th {\n",
       "        text-align: right;\n",
       "    }\n",
       "</style>\n",
       "<table border=\"1\" class=\"dataframe\">\n",
       "  <thead>\n",
       "    <tr style=\"text-align: right;\">\n",
       "      <th></th>\n",
       "      <th>Item</th>\n",
       "      <th>Price</th>\n",
       "      <th>Date</th>\n",
       "    </tr>\n",
       "  </thead>\n",
       "  <tbody>\n",
       "    <tr>\n",
       "      <th>0</th>\n",
       "      <td>PnP Oranges 4s</td>\n",
       "      <td>24.99</td>\n",
       "      <td>2020-09-14</td>\n",
       "    </tr>\n",
       "    <tr>\n",
       "      <th>1</th>\n",
       "      <td>PnP Juicing Oranges 2kg</td>\n",
       "      <td>24.99</td>\n",
       "      <td>2020-09-14</td>\n",
       "    </tr>\n",
       "    <tr>\n",
       "      <th>2</th>\n",
       "      <td>PnP Grapefruit Carry Bag 2.5kg</td>\n",
       "      <td>34.99</td>\n",
       "      <td>2020-09-14</td>\n",
       "    </tr>\n",
       "    <tr>\n",
       "      <th>3</th>\n",
       "      <td>PnP Limes 350g</td>\n",
       "      <td>29.99</td>\n",
       "      <td>2020-09-14</td>\n",
       "    </tr>\n",
       "    <tr>\n",
       "      <th>4</th>\n",
       "      <td>PnP Top Red Apples 1.5kg</td>\n",
       "      <td>32.99</td>\n",
       "      <td>2020-09-14</td>\n",
       "    </tr>\n",
       "    <tr>\n",
       "      <th>5</th>\n",
       "      <td>PnP Packham Pears 1.5kg</td>\n",
       "      <td>26.99</td>\n",
       "      <td>2020-09-14</td>\n",
       "    </tr>\n",
       "    <tr>\n",
       "      <th>6</th>\n",
       "      <td>PnP Imported Plums Pp</td>\n",
       "      <td>39.99</td>\n",
       "      <td>2020-09-14</td>\n",
       "    </tr>\n",
       "    <tr>\n",
       "      <th>7</th>\n",
       "      <td>PnP Medjool Dates 180g</td>\n",
       "      <td>29.99</td>\n",
       "      <td>2020-09-14</td>\n",
       "    </tr>\n",
       "    <tr>\n",
       "      <th>8</th>\n",
       "      <td>PnP Mandarins Tray</td>\n",
       "      <td>54.99</td>\n",
       "      <td>2020-09-14</td>\n",
       "    </tr>\n",
       "    <tr>\n",
       "      <th>9</th>\n",
       "      <td>PnP Organic Bananas</td>\n",
       "      <td>17.99</td>\n",
       "      <td>2020-09-14</td>\n",
       "    </tr>\n",
       "    <tr>\n",
       "      <th>10</th>\n",
       "      <td>PnP Lemons 4s</td>\n",
       "      <td>27.99</td>\n",
       "      <td>2020-09-14</td>\n",
       "    </tr>\n",
       "    <tr>\n",
       "      <th>11</th>\n",
       "      <td>PnP Grapefruit 4s</td>\n",
       "      <td>36.99</td>\n",
       "      <td>2020-09-14</td>\n",
       "    </tr>\n",
       "    <tr>\n",
       "      <th>12</th>\n",
       "      <td>PnP Breakfast Papaya</td>\n",
       "      <td>ng.00</td>\n",
       "      <td>2020-09-14</td>\n",
       "    </tr>\n",
       "    <tr>\n",
       "      <th>13</th>\n",
       "      <td>PnP Starking Apples 1.5kg</td>\n",
       "      <td>29.99</td>\n",
       "      <td>2020-09-14</td>\n",
       "    </tr>\n",
       "    <tr>\n",
       "      <th>14</th>\n",
       "      <td>PnP Pink Lady Apples 1 Kg</td>\n",
       "      <td>25.99</td>\n",
       "      <td>2020-09-14</td>\n",
       "    </tr>\n",
       "    <tr>\n",
       "      <th>15</th>\n",
       "      <td>PnP No Name Avocados 1kg</td>\n",
       "      <td>44.99</td>\n",
       "      <td>2020-09-14</td>\n",
       "    </tr>\n",
       "    <tr>\n",
       "      <th>16</th>\n",
       "      <td>PnP Kiwi Fruit 4s</td>\n",
       "      <td>34.99</td>\n",
       "      <td>2020-09-14</td>\n",
       "    </tr>\n",
       "    <tr>\n",
       "      <th>17</th>\n",
       "      <td>PnP Bananas 750g</td>\n",
       "      <td>17.99</td>\n",
       "      <td>2020-09-14</td>\n",
       "    </tr>\n",
       "    <tr>\n",
       "      <th>18</th>\n",
       "      <td>PnP Small Bananas Packet</td>\n",
       "      <td>14.99</td>\n",
       "      <td>2020-09-14</td>\n",
       "    </tr>\n",
       "    <tr>\n",
       "      <th>19</th>\n",
       "      <td>PnP Baby Papaya 2s</td>\n",
       "      <td>29.99</td>\n",
       "      <td>2020-09-14</td>\n",
       "    </tr>\n",
       "    <tr>\n",
       "      <th>20</th>\n",
       "      <td>PnP Lemons 850g</td>\n",
       "      <td>26.99</td>\n",
       "      <td>2020-09-14</td>\n",
       "    </tr>\n",
       "    <tr>\n",
       "      <th>21</th>\n",
       "      <td>PnP Seasonal Sharing 450g</td>\n",
       "      <td>ng.49</td>\n",
       "      <td>2020-09-14</td>\n",
       "    </tr>\n",
       "    <tr>\n",
       "      <th>22</th>\n",
       "      <td>PnP Soft Citrus Half Tray 1.5kg</td>\n",
       "      <td>44.99</td>\n",
       "      <td>2020-09-14</td>\n",
       "    </tr>\n",
       "    <tr>\n",
       "      <th>23</th>\n",
       "      <td>PnP Golden Delicious Apples 1.5kg</td>\n",
       "      <td>26.99</td>\n",
       "      <td>2020-09-14</td>\n",
       "    </tr>\n",
       "    <tr>\n",
       "      <th>24</th>\n",
       "      <td>PnP Granny Smith Apples 1.5kg</td>\n",
       "      <td>26.99</td>\n",
       "      <td>2020-09-14</td>\n",
       "    </tr>\n",
       "    <tr>\n",
       "      <th>25</th>\n",
       "      <td>PnP Kids Yellow Apples 1kg</td>\n",
       "      <td>17.99</td>\n",
       "      <td>2020-09-14</td>\n",
       "    </tr>\n",
       "    <tr>\n",
       "      <th>26</th>\n",
       "      <td>PnP Kids Red Apples 1kg</td>\n",
       "      <td>17.99</td>\n",
       "      <td>2020-09-14</td>\n",
       "    </tr>\n",
       "    <tr>\n",
       "      <th>27</th>\n",
       "      <td>PnP Bananas 1.5kg</td>\n",
       "      <td>34.99</td>\n",
       "      <td>2020-09-14</td>\n",
       "    </tr>\n",
       "    <tr>\n",
       "      <th>28</th>\n",
       "      <td>PnP Queen Pineapple</td>\n",
       "      <td>19.99</td>\n",
       "      <td>2020-09-14</td>\n",
       "    </tr>\n",
       "    <tr>\n",
       "      <th>29</th>\n",
       "      <td>PnP Pineapples 2s</td>\n",
       "      <td>24.99</td>\n",
       "      <td>2020-09-14</td>\n",
       "    </tr>\n",
       "    <tr>\n",
       "      <th>30</th>\n",
       "      <td>PnP Oranges Bag 2.5kg</td>\n",
       "      <td>26.99</td>\n",
       "      <td>2020-09-14</td>\n",
       "    </tr>\n",
       "    <tr>\n",
       "      <th>31</th>\n",
       "      <td>PnP Imported Grapes Red Seedless 500g</td>\n",
       "      <td>49.99</td>\n",
       "      <td>2020-09-14</td>\n",
       "    </tr>\n",
       "    <tr>\n",
       "      <th>32</th>\n",
       "      <td>PnP Imported Seedless White Grapes 500g</td>\n",
       "      <td>49.99</td>\n",
       "      <td>2020-09-14</td>\n",
       "    </tr>\n",
       "  </tbody>\n",
       "</table>\n",
       "</div>"
      ],
      "text/plain": [
       "                                       Item  Price        Date\n",
       "0                            PnP Oranges 4s  24.99  2020-09-14\n",
       "1                   PnP Juicing Oranges 2kg  24.99  2020-09-14\n",
       "2            PnP Grapefruit Carry Bag 2.5kg  34.99  2020-09-14\n",
       "3                            PnP Limes 350g  29.99  2020-09-14\n",
       "4                  PnP Top Red Apples 1.5kg  32.99  2020-09-14\n",
       "5                   PnP Packham Pears 1.5kg  26.99  2020-09-14\n",
       "6                     PnP Imported Plums Pp  39.99  2020-09-14\n",
       "7                    PnP Medjool Dates 180g  29.99  2020-09-14\n",
       "8                        PnP Mandarins Tray  54.99  2020-09-14\n",
       "9                       PnP Organic Bananas  17.99  2020-09-14\n",
       "10                            PnP Lemons 4s  27.99  2020-09-14\n",
       "11                        PnP Grapefruit 4s  36.99  2020-09-14\n",
       "12                     PnP Breakfast Papaya  ng.00  2020-09-14\n",
       "13                PnP Starking Apples 1.5kg  29.99  2020-09-14\n",
       "14                PnP Pink Lady Apples 1 Kg  25.99  2020-09-14\n",
       "15                 PnP No Name Avocados 1kg  44.99  2020-09-14\n",
       "16                        PnP Kiwi Fruit 4s  34.99  2020-09-14\n",
       "17                         PnP Bananas 750g  17.99  2020-09-14\n",
       "18                 PnP Small Bananas Packet  14.99  2020-09-14\n",
       "19                       PnP Baby Papaya 2s  29.99  2020-09-14\n",
       "20                          PnP Lemons 850g  26.99  2020-09-14\n",
       "21                PnP Seasonal Sharing 450g  ng.49  2020-09-14\n",
       "22          PnP Soft Citrus Half Tray 1.5kg  44.99  2020-09-14\n",
       "23        PnP Golden Delicious Apples 1.5kg  26.99  2020-09-14\n",
       "24            PnP Granny Smith Apples 1.5kg  26.99  2020-09-14\n",
       "25               PnP Kids Yellow Apples 1kg  17.99  2020-09-14\n",
       "26                  PnP Kids Red Apples 1kg  17.99  2020-09-14\n",
       "27                        PnP Bananas 1.5kg  34.99  2020-09-14\n",
       "28                      PnP Queen Pineapple  19.99  2020-09-14\n",
       "29                        PnP Pineapples 2s  24.99  2020-09-14\n",
       "30                    PnP Oranges Bag 2.5kg  26.99  2020-09-14\n",
       "31    PnP Imported Grapes Red Seedless 500g  49.99  2020-09-14\n",
       "32  PnP Imported Seedless White Grapes 500g  49.99  2020-09-14"
      ]
     },
     "execution_count": 20,
     "metadata": {},
     "output_type": "execute_result"
    }
   ],
   "source": [
    "PnP_prices"
   ]
  },
  {
   "cell_type": "code",
   "execution_count": 21,
   "metadata": {
    "hidden": true,
    "scrolled": true
   },
   "outputs": [],
   "source": [
    "PnP_prices['Date'] = PnP_prices['Date'].astype(str).str.replace('-','/')"
   ]
  },
  {
   "cell_type": "code",
   "execution_count": 22,
   "metadata": {
    "hidden": true
   },
   "outputs": [
    {
     "data": {
      "text/html": [
       "<div>\n",
       "<style scoped>\n",
       "    .dataframe tbody tr th:only-of-type {\n",
       "        vertical-align: middle;\n",
       "    }\n",
       "\n",
       "    .dataframe tbody tr th {\n",
       "        vertical-align: top;\n",
       "    }\n",
       "\n",
       "    .dataframe thead th {\n",
       "        text-align: right;\n",
       "    }\n",
       "</style>\n",
       "<table border=\"1\" class=\"dataframe\">\n",
       "  <thead>\n",
       "    <tr style=\"text-align: right;\">\n",
       "      <th></th>\n",
       "      <th>Item</th>\n",
       "      <th>Price</th>\n",
       "      <th>Date</th>\n",
       "    </tr>\n",
       "  </thead>\n",
       "  <tbody>\n",
       "    <tr>\n",
       "      <th>0</th>\n",
       "      <td>PnP Oranges 4s</td>\n",
       "      <td>24.99</td>\n",
       "      <td>2020/09/14</td>\n",
       "    </tr>\n",
       "    <tr>\n",
       "      <th>1</th>\n",
       "      <td>PnP Juicing Oranges 2kg</td>\n",
       "      <td>24.99</td>\n",
       "      <td>2020/09/14</td>\n",
       "    </tr>\n",
       "    <tr>\n",
       "      <th>2</th>\n",
       "      <td>PnP Grapefruit Carry Bag 2.5kg</td>\n",
       "      <td>34.99</td>\n",
       "      <td>2020/09/14</td>\n",
       "    </tr>\n",
       "    <tr>\n",
       "      <th>3</th>\n",
       "      <td>PnP Limes 350g</td>\n",
       "      <td>29.99</td>\n",
       "      <td>2020/09/14</td>\n",
       "    </tr>\n",
       "    <tr>\n",
       "      <th>4</th>\n",
       "      <td>PnP Top Red Apples 1.5kg</td>\n",
       "      <td>32.99</td>\n",
       "      <td>2020/09/14</td>\n",
       "    </tr>\n",
       "  </tbody>\n",
       "</table>\n",
       "</div>"
      ],
      "text/plain": [
       "                             Item  Price        Date\n",
       "0                  PnP Oranges 4s  24.99  2020/09/14\n",
       "1         PnP Juicing Oranges 2kg  24.99  2020/09/14\n",
       "2  PnP Grapefruit Carry Bag 2.5kg  34.99  2020/09/14\n",
       "3                  PnP Limes 350g  29.99  2020/09/14\n",
       "4        PnP Top Red Apples 1.5kg  32.99  2020/09/14"
      ]
     },
     "execution_count": 22,
     "metadata": {},
     "output_type": "execute_result"
    }
   ],
   "source": [
    "PnP_prices.head()"
   ]
  },
  {
   "cell_type": "markdown",
   "metadata": {},
   "source": [
    "# Scrapping Shoprite"
   ]
  },
  {
   "cell_type": "markdown",
   "metadata": {
    "heading_collapsed": true
   },
   "source": [
    "## Page 1"
   ]
  },
  {
   "cell_type": "code",
   "execution_count": 23,
   "metadata": {
    "hidden": true
   },
   "outputs": [],
   "source": [
    "# Step 1: Sending a HTTP request to a URL\n",
    "url = 'https://www.shoprite.co.za/c-66/All-Departments/Food/Fresh-Food/Fresh-Fruit'\n",
    "\n",
    "# Make a GET request to fetch the raw HTML content\n",
    "response = requests.get(url)\n",
    "\n",
    "# From the response, we need the text\n",
    "page = response.text\n",
    "\n",
    "# Step 2: Parse the html content\n",
    "# Parse the html content\n",
    "soup = BeautifulSoup(page, \"html.parser\")"
   ]
  },
  {
   "cell_type": "code",
   "execution_count": 24,
   "metadata": {
    "hidden": true
   },
   "outputs": [],
   "source": [
    "prods = str(soup.find_all('script')[7]).split()"
   ]
  },
  {
   "cell_type": "code",
   "execution_count": 25,
   "metadata": {
    "hidden": true
   },
   "outputs": [],
   "source": [
    "indices = []\n",
    "n = 0\n",
    "while n < len(prods):\n",
    "    if prods[n] == '\"price\":':\n",
    "        indices.append(n+1)\n",
    "    n+=1"
   ]
  },
  {
   "cell_type": "code",
   "execution_count": 26,
   "metadata": {
    "hidden": true
   },
   "outputs": [],
   "source": [
    "p1_prices = []\n",
    "for index in indices:\n",
    "    p1_prices.append(prods[index].replace(\"'\",'').replace(',',''))"
   ]
  },
  {
   "cell_type": "code",
   "execution_count": 27,
   "metadata": {
    "hidden": true
   },
   "outputs": [],
   "source": [
    "items = str(soup.find_all('script')[7]).replace('\\n','').replace(' ',',')"
   ]
  },
  {
   "cell_type": "code",
   "execution_count": 28,
   "metadata": {
    "hidden": true
   },
   "outputs": [
    {
     "data": {
      "text/plain": [
       "5975"
      ]
     },
     "execution_count": 28,
     "metadata": {},
     "output_type": "execute_result"
    }
   ],
   "source": [
    "len(items)"
   ]
  },
  {
   "cell_type": "code",
   "execution_count": 29,
   "metadata": {
    "hidden": true
   },
   "outputs": [],
   "source": [
    "n=0\n",
    "p1_prods = []\n",
    "while n < len(p1_prices):\n",
    "    items = items[items.index('\"name\"')+9:]\n",
    "    p1_prods.append(items[:items.index(\"\\'\")])\n",
    "    n+=1"
   ]
  },
  {
   "cell_type": "code",
   "execution_count": 30,
   "metadata": {
    "hidden": true
   },
   "outputs": [
    {
     "data": {
      "text/plain": [
       "['Packham,Pears,Pack,1.5kg',\n",
       " 'Gala,Royal,Apples,Bag,1.5kg',\n",
       " 'Forelle,Pears,1.5kg',\n",
       " 'Delicious,Golden,Apples,Bag,1.5kg',\n",
       " 'Fuji,Apples,Bag,1.5kg',\n",
       " 'Red,Top,Apples,1.5kg',\n",
       " 'Cripps,Pink,Apples,Pack,1.5kg',\n",
       " 'Granny,Smith,Apples,1.5kg',\n",
       " 'Grapefruit,Per,kg',\n",
       " 'Orange,Per,kg',\n",
       " 'Lemon,Per,kg',\n",
       " 'Orange,Pack,3kg',\n",
       " 'Naartjies,Bag,1kg',\n",
       " 'Golden,Extra,Large,Apple,Single',\n",
       " 'Starking,Extra,Large,Apple,Single',\n",
       " 'Loose,Bananas,Per,kg',\n",
       " 'Grapefruit,In,Bag,2kg',\n",
       " 'Papaya,Single',\n",
       " 'Limes,4,Pack',\n",
       " 'Single,Extra,Large,Granny,Smith,Apple,Single']"
      ]
     },
     "execution_count": 30,
     "metadata": {},
     "output_type": "execute_result"
    }
   ],
   "source": [
    "p1_prods"
   ]
  },
  {
   "cell_type": "code",
   "execution_count": 31,
   "metadata": {
    "hidden": true
   },
   "outputs": [],
   "source": [
    "n = 0\n",
    "while n < len(p1_prices):\n",
    "    p1_prods[n] = p1_prods[n].replace(',',' ')\n",
    "    n+=1"
   ]
  },
  {
   "cell_type": "code",
   "execution_count": 32,
   "metadata": {
    "hidden": true
   },
   "outputs": [
    {
     "data": {
      "text/plain": [
       "['Packham Pears Pack 1.5kg',\n",
       " 'Gala Royal Apples Bag 1.5kg',\n",
       " 'Forelle Pears 1.5kg',\n",
       " 'Delicious Golden Apples Bag 1.5kg',\n",
       " 'Fuji Apples Bag 1.5kg',\n",
       " 'Red Top Apples 1.5kg',\n",
       " 'Cripps Pink Apples Pack 1.5kg',\n",
       " 'Granny Smith Apples 1.5kg',\n",
       " 'Grapefruit Per kg',\n",
       " 'Orange Per kg',\n",
       " 'Lemon Per kg',\n",
       " 'Orange Pack 3kg',\n",
       " 'Naartjies Bag 1kg',\n",
       " 'Golden Extra Large Apple Single',\n",
       " 'Starking Extra Large Apple Single',\n",
       " 'Loose Bananas Per kg',\n",
       " 'Grapefruit In Bag 2kg',\n",
       " 'Papaya Single',\n",
       " 'Limes 4 Pack',\n",
       " 'Single Extra Large Granny Smith Apple Single']"
      ]
     },
     "execution_count": 32,
     "metadata": {},
     "output_type": "execute_result"
    }
   ],
   "source": [
    "p1_prods"
   ]
  },
  {
   "cell_type": "markdown",
   "metadata": {
    "heading_collapsed": true
   },
   "source": [
    "## Page 2"
   ]
  },
  {
   "cell_type": "code",
   "execution_count": 33,
   "metadata": {
    "hidden": true
   },
   "outputs": [],
   "source": [
    "# Step 1: Sending a HTTP request to a URL\n",
    "url = 'https://www.shoprite.co.za/c-66/All-Departments/Food/Fresh-Food/Fresh-Fruit?q=%3Anovelty%3AbrowseAllStoresFacetOff%3AbrowseAllStoresFacetOff&page=1'\n",
    "\n",
    "# Make a GET request to fetch the raw HTML content\n",
    "response = requests.get(url)\n",
    "\n",
    "# From the response, we need the text\n",
    "page = response.text\n",
    "\n",
    "# Step 2: Parse the html content\n",
    "# Parse the html content\n",
    "soup = BeautifulSoup(page, \"html.parser\")\n"
   ]
  },
  {
   "cell_type": "code",
   "execution_count": 34,
   "metadata": {
    "hidden": true
   },
   "outputs": [],
   "source": [
    "prods = str(soup.find_all('script')[7]).split()"
   ]
  },
  {
   "cell_type": "code",
   "execution_count": 35,
   "metadata": {
    "hidden": true
   },
   "outputs": [],
   "source": [
    "indices = []\n",
    "n = 0\n",
    "while n < len(prods):\n",
    "    if prods[n] == '\"price\":':\n",
    "        indices.append(n+1)\n",
    "    n+=1"
   ]
  },
  {
   "cell_type": "code",
   "execution_count": 36,
   "metadata": {
    "hidden": true
   },
   "outputs": [],
   "source": [
    "p2_prices = []\n",
    "for index in indices:\n",
    "    p2_prices.append(prods[index].replace(\"'\",'').replace(',',''))"
   ]
  },
  {
   "cell_type": "code",
   "execution_count": 37,
   "metadata": {
    "hidden": true
   },
   "outputs": [],
   "source": [
    "items = str(soup.find_all('script')[7]).replace('\\n','').replace(' ',',')"
   ]
  },
  {
   "cell_type": "code",
   "execution_count": 38,
   "metadata": {
    "hidden": true
   },
   "outputs": [
    {
     "data": {
      "text/plain": [
       "5968"
      ]
     },
     "execution_count": 38,
     "metadata": {},
     "output_type": "execute_result"
    }
   ],
   "source": [
    "len(items)"
   ]
  },
  {
   "cell_type": "code",
   "execution_count": 39,
   "metadata": {
    "hidden": true
   },
   "outputs": [],
   "source": [
    "n=0\n",
    "p2_prods = []\n",
    "while n < len(p2_prices):\n",
    "    items = items[items.index('\"name\"')+9:]\n",
    "    p2_prods.append(items[:items.index(\"\\'\")])\n",
    "    n+=1"
   ]
  },
  {
   "cell_type": "code",
   "execution_count": 40,
   "metadata": {
    "hidden": true
   },
   "outputs": [],
   "source": [
    "n = 0\n",
    "while n < len(p2_prices):\n",
    "    p2_prods[n] = p2_prods[n].replace(',',' ')\n",
    "    n+=1"
   ]
  },
  {
   "cell_type": "code",
   "execution_count": 41,
   "metadata": {
    "hidden": true
   },
   "outputs": [
    {
     "data": {
      "text/plain": [
       "['Medium Queen Pineapple Half',\n",
       " 'Medium Queen Pineapple Single',\n",
       " 'Red Globe Grapes 500g',\n",
       " 'Bananas In Bag',\n",
       " 'Lemons In Bag',\n",
       " 'Packham&#039;s Triumph Pears Per kg',\n",
       " 'Bulk Banana Pack 1.2kg',\n",
       " 'Kiwi Fruit Single',\n",
       " 'Safari Pitted Dates Pack 250g',\n",
       " 'Mandarins Pack 1kg',\n",
       " 'Apples Pack 3kg',\n",
       " 'Naartjie Per kg',\n",
       " 'Papaya Single',\n",
       " 'Oranges Pack 2kg',\n",
       " 'Trumps Pitted Dates Bar 100g',\n",
       " 'Delicious Standard Gold Apples 1.5kg',\n",
       " 'Standard Granny Smith Apple 1.5kg',\n",
       " 'Guavas Pack 750g',\n",
       " 'Freshmark Strawberries 250g',\n",
       " 'Pears Pack 1kg']"
      ]
     },
     "execution_count": 41,
     "metadata": {},
     "output_type": "execute_result"
    }
   ],
   "source": [
    "p2_prods"
   ]
  },
  {
   "cell_type": "markdown",
   "metadata": {},
   "source": [
    "## Page 1 and 2 merged"
   ]
  },
  {
   "cell_type": "code",
   "execution_count": 42,
   "metadata": {},
   "outputs": [],
   "source": [
    "prods = p1_prods + p2_prods\n",
    "prices = p1_prices + p2_prices"
   ]
  },
  {
   "cell_type": "code",
   "execution_count": 43,
   "metadata": {},
   "outputs": [],
   "source": [
    "Shoprite_prices = pd.DataFrame()\n",
    "Shoprite_prices[\"Item\"] = pd.Series(prods)\n",
    "Shoprite_prices[\"Price\"] = pd.Series(prices)"
   ]
  },
  {
   "cell_type": "code",
   "execution_count": 44,
   "metadata": {},
   "outputs": [],
   "source": [
    "n=0\n",
    "day = []\n",
    "while n < len(prods):\n",
    "    day.append(date.today())\n",
    "    n+=1\n",
    "Shoprite_prices[\"Date\"] = pd.Series(day)"
   ]
  },
  {
   "cell_type": "code",
   "execution_count": 45,
   "metadata": {},
   "outputs": [],
   "source": [
    "Shoprite_prices['Date'] = Shoprite_prices['Date'].astype(str).str.replace('-','/')"
   ]
  },
  {
   "cell_type": "code",
   "execution_count": 46,
   "metadata": {},
   "outputs": [
    {
     "data": {
      "text/html": [
       "<div>\n",
       "<style scoped>\n",
       "    .dataframe tbody tr th:only-of-type {\n",
       "        vertical-align: middle;\n",
       "    }\n",
       "\n",
       "    .dataframe tbody tr th {\n",
       "        vertical-align: top;\n",
       "    }\n",
       "\n",
       "    .dataframe thead th {\n",
       "        text-align: right;\n",
       "    }\n",
       "</style>\n",
       "<table border=\"1\" class=\"dataframe\">\n",
       "  <thead>\n",
       "    <tr style=\"text-align: right;\">\n",
       "      <th></th>\n",
       "      <th>Item</th>\n",
       "      <th>Price</th>\n",
       "      <th>Date</th>\n",
       "    </tr>\n",
       "  </thead>\n",
       "  <tbody>\n",
       "    <tr>\n",
       "      <th>0</th>\n",
       "      <td>Packham Pears Pack 1.5kg</td>\n",
       "      <td>19.99</td>\n",
       "      <td>2020/09/14</td>\n",
       "    </tr>\n",
       "    <tr>\n",
       "      <th>1</th>\n",
       "      <td>Gala Royal Apples Bag 1.5kg</td>\n",
       "      <td>23.99</td>\n",
       "      <td>2020/09/14</td>\n",
       "    </tr>\n",
       "    <tr>\n",
       "      <th>2</th>\n",
       "      <td>Forelle Pears 1.5kg</td>\n",
       "      <td>26.99</td>\n",
       "      <td>2020/09/14</td>\n",
       "    </tr>\n",
       "    <tr>\n",
       "      <th>3</th>\n",
       "      <td>Delicious Golden Apples Bag 1.5kg</td>\n",
       "      <td>18.99</td>\n",
       "      <td>2020/09/14</td>\n",
       "    </tr>\n",
       "    <tr>\n",
       "      <th>4</th>\n",
       "      <td>Fuji Apples Bag 1.5kg</td>\n",
       "      <td>16.99</td>\n",
       "      <td>2020/09/14</td>\n",
       "    </tr>\n",
       "  </tbody>\n",
       "</table>\n",
       "</div>"
      ],
      "text/plain": [
       "                                Item  Price        Date\n",
       "0           Packham Pears Pack 1.5kg  19.99  2020/09/14\n",
       "1        Gala Royal Apples Bag 1.5kg  23.99  2020/09/14\n",
       "2                Forelle Pears 1.5kg  26.99  2020/09/14\n",
       "3  Delicious Golden Apples Bag 1.5kg  18.99  2020/09/14\n",
       "4              Fuji Apples Bag 1.5kg  16.99  2020/09/14"
      ]
     },
     "execution_count": 46,
     "metadata": {},
     "output_type": "execute_result"
    }
   ],
   "source": [
    "Shoprite_prices.head()"
   ]
  },
  {
   "cell_type": "markdown",
   "metadata": {},
   "source": [
    "# Scrapping woolworths"
   ]
  },
  {
   "cell_type": "code",
   "execution_count": 47,
   "metadata": {},
   "outputs": [],
   "source": [
    "url = 'https://www.woolworths.co.za/cat/Food/Fruit-Vegetables-Salads/_/N-lllnam?Easy=Eats-Deal'\n",
    "\n",
    "response = urlopen(url)\n",
    "page = response.read()\n",
    "\n",
    "woolworths_soup = BeautifulSoup(page, 'html.parser')"
   ]
  },
  {
   "cell_type": "code",
   "execution_count": 48,
   "metadata": {},
   "outputs": [
    {
     "ename": "NameError",
     "evalue": "name 'options' is not defined",
     "output_type": "error",
     "traceback": [
      "\u001b[1;31m---------------------------------------------------------------------------\u001b[0m",
      "\u001b[1;31mNameError\u001b[0m                                 Traceback (most recent call last)",
      "\u001b[1;32m<ipython-input-48-db4fea27e4ef>\u001b[0m in \u001b[0;36m<module>\u001b[1;34m\u001b[0m\n\u001b[0;32m      2\u001b[0m \u001b[1;31m#options = Options()\u001b[0m\u001b[1;33m\u001b[0m\u001b[1;33m\u001b[0m\u001b[1;33m\u001b[0m\u001b[0m\n\u001b[0;32m      3\u001b[0m \u001b[1;31m# Set headless=True to cut on compute time\u001b[0m\u001b[1;33m\u001b[0m\u001b[1;33m\u001b[0m\u001b[1;33m\u001b[0m\u001b[0m\n\u001b[1;32m----> 4\u001b[1;33m \u001b[0moptions\u001b[0m\u001b[1;33m.\u001b[0m\u001b[0mheadless\u001b[0m \u001b[1;33m=\u001b[0m \u001b[1;32mTrue\u001b[0m\u001b[1;33m\u001b[0m\u001b[1;33m\u001b[0m\u001b[0m\n\u001b[0m\u001b[0;32m      5\u001b[0m \u001b[0mdriver\u001b[0m \u001b[1;33m=\u001b[0m \u001b[0mwebdriver\u001b[0m\u001b[1;33m.\u001b[0m\u001b[0mFirefox\u001b[0m\u001b[1;33m(\u001b[0m\u001b[0moptions\u001b[0m\u001b[1;33m=\u001b[0m\u001b[0moptions\u001b[0m\u001b[1;33m)\u001b[0m\u001b[1;33m\u001b[0m\u001b[1;33m\u001b[0m\u001b[0m\n\u001b[0;32m      6\u001b[0m \u001b[1;31m# Pass URL\u001b[0m\u001b[1;33m\u001b[0m\u001b[1;33m\u001b[0m\u001b[1;33m\u001b[0m\u001b[0m\n",
      "\u001b[1;31mNameError\u001b[0m: name 'options' is not defined"
     ]
    }
   ],
   "source": [
    "# please ensure you install geckodriver and change your path as shown here (https://towardsdatascience.com/data-science-skills-web-scraping-javascript-using-python-97a29738353f)\n",
    "#options = Options()\n",
    "# Set headless=True to cut on compute time\n",
    "options.headless = True\n",
    "driver = webdriver.Firefox(options=options)\n",
    "# Pass URL\n",
    "driver.get(url)\n",
    "# assign page to html\n",
    "html = driver.page_source\n",
    "driver.quit()\n",
    "# apply BeautifulSoup to html\n",
    "soup = BeautifulSoup(html, 'html.parser')"
   ]
  },
  {
   "cell_type": "code",
   "execution_count": null,
   "metadata": {},
   "outputs": [],
   "source": [
    "products = soup.find_all('article', {'class':'product-card'})"
   ]
  },
  {
   "cell_type": "code",
   "execution_count": null,
   "metadata": {},
   "outputs": [],
   "source": [
    "# to scrape the relevant data from the link \n",
    "def woolworths_web_scraper(link):\n",
    "    \"\"\"\n",
    "    \n",
    "    \"\"\"\n",
    "    \n",
    "    options = Options()\n",
    "    options.headless = True\n",
    "    driver = webdriver.Firefox(options=options)\n",
    "    driver.get(link)\n",
    "    html = driver.page_source\n",
    "    driver.quit()\n",
    "    soup = BeautifulSoup(html, 'lxml')\n",
    "    \n",
    "    products = soup.find_all('article', {'class':'product-card'})\n",
    "    item_woolworths = []\n",
    "    price_woolworths = []\n",
    "\n",
    "    for product in products:\n",
    "        item_woolworths.append(product.find('a', {'class':'range--title'}).text.strip())\n",
    "        price_woolworths.append(product.find('strong', {'class':'price'}).text.strip('R '))\n",
    "\n",
    "\n",
    "    woolworths_fresh_produce = pd.DataFrame({'Item':item_woolworths, 'Price':price_woolworths}, columns=['Item', 'Price'])\n",
    "    \n",
    "    woolworths_fresh_produce['Date'] = [date.today() for k in range(len(woolworths_fresh_produce))] \n",
    "\n",
    "    return woolworths_fresh_produce"
   ]
  },
  {
   "cell_type": "code",
   "execution_count": null,
   "metadata": {},
   "outputs": [],
   "source": [
    "woolworths_fresh_produce = woolworths_web_scraper(url)"
   ]
  },
  {
   "cell_type": "code",
   "execution_count": null,
   "metadata": {},
   "outputs": [],
   "source": [
    "woolworths_fresh_produce.head()"
   ]
  },
  {
   "cell_type": "code",
   "execution_count": null,
   "metadata": {},
   "outputs": [],
   "source": [
    "# identifying the link to subsequent pages\n",
    "pages = soup.find_all('li', {'class':'pagination__page'})\n",
    "links = []\n",
    "for i in range(len(pages)):\n",
    "    if i > 0:\n",
    "        link = soup.find_all('li', {'class':'pagination__page'})[i]\n",
    "        links.append(link.find('a')['href']) \n",
    "\n",
    "for i in range(len(links)):\n",
    "    prelink = 'https://www.woolworths.co.za'\n",
    "    links[i] = prelink + links[i] \n",
    "\n",
    "links"
   ]
  },
  {
   "cell_type": "code",
   "execution_count": null,
   "metadata": {},
   "outputs": [],
   "source": [
    "# concatenates information scrapped from all pages into one dataframe\n",
    "for link in links:\n",
    "    df = woolworths_web_scraper(link)\n",
    "    woolworths_fresh_produce = pd.concat([woolworths_fresh_produce, df])\n",
    "\n",
    "woolworths_fresh_produce.reset_index(drop=True, inplace=True)    \n",
    "woolworths_fresh_produce.tail(5)"
   ]
  },
  {
   "cell_type": "code",
   "execution_count": null,
   "metadata": {},
   "outputs": [],
   "source": [
    "woolworths_fresh_produce['Date'] = woolworths_fresh_produce['Date'].astype(str).str.replace('-','/')"
   ]
  },
  {
   "cell_type": "code",
   "execution_count": null,
   "metadata": {
    "scrolled": false
   },
   "outputs": [],
   "source": [
    "woolworths_fresh_produce.head()"
   ]
  },
  {
   "cell_type": "markdown",
   "metadata": {},
   "source": [
    "# Merging into a single DataFrame"
   ]
  },
  {
   "cell_type": "code",
   "execution_count": 50,
   "metadata": {},
   "outputs": [],
   "source": [
    "woolworths_fresh_produce[\"Retailer\"] = 'Woolworths'\n",
    "PnP_prices[\"Retailer\"] = \"Pick 'n Pay\"\n",
    "Shoprite_prices[\"Retailer\"] = \"Shoprite\""
   ]
  },
  {
   "cell_type": "code",
   "execution_count": null,
   "metadata": {},
   "outputs": [],
   "source": [
    "retailers_df = woolworths_fresh_produce.append(PnP_prices).append(Shoprite_prices)"
   ]
  },
  {
   "cell_type": "markdown",
   "metadata": {},
   "source": [
    "# Saving the data into an SQL Database"
   ]
  },
  {
   "cell_type": "code",
   "execution_count": null,
   "metadata": {},
   "outputs": [],
   "source": [
    "#Creating a connection\n",
    "conn = pyodbc.connect(driver='{SQL Server}',\n",
    "                      host='DESKTOP-0SIPQ7F\\SQLEXPRESS',\n",
    "                      database='Fresh_Produce_Market_Data', #Database name\n",
    "                      trusted_connection='tcon',\n",
    "                      user='sa')"
   ]
  },
  {
   "cell_type": "code",
   "execution_count": null,
   "metadata": {},
   "outputs": [],
   "source": [
    "# Return a new Cursor object using the connection.\n",
    "cur = conn.cursor()"
   ]
  },
  {
   "cell_type": "markdown",
   "metadata": {},
   "source": [
    "### Inserting Data into a table for Woolworths"
   ]
  },
  {
   "cell_type": "code",
   "execution_count": null,
   "metadata": {},
   "outputs": [],
   "source": [
    "#Inserting data into an sql database\n",
    "for index,row in woolworths_fresh_produce.iterrows():\n",
    "    cur.execute(\"INSERT INTO woolworths_Prices(item, Price, Date) Values(?,?,?)\",\n",
    "                row['Item'],\n",
    "                row['Price'],\n",
    "                row['Date'])\n",
    "    \n",
    "    conn.commit()"
   ]
  },
  {
   "cell_type": "markdown",
   "metadata": {},
   "source": [
    "### Inserting Data into a table for PNP"
   ]
  },
  {
   "cell_type": "code",
   "execution_count": null,
   "metadata": {},
   "outputs": [],
   "source": [
    "#Inserting data into an sql database\n",
    "for index,row in PnP_prices.iterrows():\n",
    "    cur.execute(\"INSERT INTO PickNPay_Prices(item, Price, Date) Values(?,?,?)\",\n",
    "                row['Item'],\n",
    "                row['Price'],\n",
    "                row['Date'])\n",
    "    \n",
    "    conn.commit()"
   ]
  },
  {
   "cell_type": "markdown",
   "metadata": {},
   "source": [
    "### Inserting Data into a table for Shoprite"
   ]
  },
  {
   "cell_type": "code",
   "execution_count": null,
   "metadata": {},
   "outputs": [],
   "source": [
    "#Inserting data into an sql database\n",
    "for index,row in Shoprite_prices.iterrows():\n",
    "    cur.execute(\"INSERT INTO Shoprite_Prices(item, Price, Date) Values(?,?,?)\",\n",
    "                row['Item'],\n",
    "                row['Price'],\n",
    "                row['Date'])\n",
    "    \n",
    "    conn.commit()"
   ]
  },
  {
   "cell_type": "markdown",
   "metadata": {},
   "source": [
    "### Closing all connections"
   ]
  },
  {
   "cell_type": "code",
   "execution_count": null,
   "metadata": {},
   "outputs": [],
   "source": [
    "cur.close()\n",
    "conn.close()"
   ]
  }
 ],
 "metadata": {
  "colab": {
   "collapsed_sections": [],
   "name": "intro_to_beautiful_soup.ipynb",
   "provenance": []
  },
  "kernelspec": {
   "display_name": "Python 3",
   "language": "python",
   "name": "python3"
  },
  "language_info": {
   "codemirror_mode": {
    "name": "ipython",
    "version": 3
   },
   "file_extension": ".py",
   "mimetype": "text/x-python",
   "name": "python",
   "nbconvert_exporter": "python",
   "pygments_lexer": "ipython3",
   "version": "3.7.3"
  },
  "toc": {
   "base_numbering": 1,
   "nav_menu": {},
   "number_sections": true,
   "sideBar": true,
   "skip_h1_title": false,
   "title_cell": "Table of Contents",
   "title_sidebar": "Contents",
   "toc_cell": false,
   "toc_position": {},
   "toc_section_display": true,
   "toc_window_display": false
  }
 },
 "nbformat": 4,
 "nbformat_minor": 1
}
