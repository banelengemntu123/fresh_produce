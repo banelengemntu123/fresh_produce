{
 "cells": [
  {
   "cell_type": "code",
   "execution_count": 1,
   "metadata": {},
   "outputs": [],
   "source": [
    "import pandas as pd\n",
    "import numpy as np\n",
    "import requests\n",
    "import urllib\n",
    "\n",
    "from sqlalchemy import create_engine\n",
    "\n",
    "# Custom upload with connection string\n",
    "from engine_info import server_info\n",
    "\n",
    "import warnings\n",
    "warnings.filterwarnings('ignore')\n",
    "\n",
    "from matplotlib import rcParams"
   ]
  },
  {
   "cell_type": "code",
   "execution_count": 2,
   "metadata": {},
   "outputs": [],
   "source": [
    "rcParams['figure.figsize'] = 12,8"
   ]
  },
  {
   "cell_type": "code",
   "execution_count": 3,
   "metadata": {},
   "outputs": [],
   "source": [
    "from statsmodels.tsa.seasonal import seasonal_decompose"
   ]
  },
  {
   "cell_type": "code",
   "execution_count": 4,
   "metadata": {},
   "outputs": [],
   "source": [
    "# Creating a connection to MS SQL SERVER\n",
    "params = urllib.parse.quote_plus(server_info)\n",
    "engine = create_engine('mssql+pyodbc:///?odbc_connect=%s' % params)\n",
    "connection = engine.connect()"
   ]
  },
  {
   "cell_type": "code",
   "execution_count": 19,
   "metadata": {},
   "outputs": [],
   "source": [
    "# Upload sales data\n",
    "sales = pd.read_sql_table(\n",
    "    table_name='Durban_Fresh_produce_market',\n",
    "    con=connection,\n",
    "    parse_dates=['Date']\n",
    ")"
   ]
  },
  {
   "cell_type": "markdown",
   "metadata": {},
   "source": [
    "## Data preparation"
   ]
  },
  {
   "cell_type": "code",
   "execution_count": 20,
   "metadata": {},
   "outputs": [
    {
     "data": {
      "text/html": [
       "<div>\n",
       "<style scoped>\n",
       "    .dataframe tbody tr th:only-of-type {\n",
       "        vertical-align: middle;\n",
       "    }\n",
       "\n",
       "    .dataframe tbody tr th {\n",
       "        vertical-align: top;\n",
       "    }\n",
       "\n",
       "    .dataframe thead th {\n",
       "        text-align: right;\n",
       "    }\n",
       "</style>\n",
       "<table border=\"1\" class=\"dataframe\">\n",
       "  <thead>\n",
       "    <tr style=\"text-align: right;\">\n",
       "      <th></th>\n",
       "      <th>Commodities</th>\n",
       "      <th>Weight_Kg</th>\n",
       "      <th>Size_Grade</th>\n",
       "      <th>Container</th>\n",
       "      <th>Province</th>\n",
       "      <th>Low_Price</th>\n",
       "      <th>High_Price</th>\n",
       "      <th>Average_Price</th>\n",
       "      <th>Sales_Total</th>\n",
       "      <th>Total_Qty_Sold</th>\n",
       "      <th>Total_Kg_Sold</th>\n",
       "      <th>Stock_On_Hand</th>\n",
       "      <th>Date</th>\n",
       "    </tr>\n",
       "  </thead>\n",
       "  <tbody>\n",
       "    <tr>\n",
       "      <th>0</th>\n",
       "      <td>APPLE GOLDEN DELICIOUS</td>\n",
       "      <td>9.00</td>\n",
       "      <td>2S</td>\n",
       "      <td>JE090</td>\n",
       "      <td>CAPE</td>\n",
       "      <td>50.00</td>\n",
       "      <td>100.00</td>\n",
       "      <td>51.39</td>\n",
       "      <td>9250</td>\n",
       "      <td>180</td>\n",
       "      <td>1620</td>\n",
       "      <td>1397</td>\n",
       "      <td>2020-02-26</td>\n",
       "    </tr>\n",
       "    <tr>\n",
       "      <th>1</th>\n",
       "      <td>APPLE GOLDEN DELICIOUS</td>\n",
       "      <td>9.00</td>\n",
       "      <td>2S</td>\n",
       "      <td>JE090</td>\n",
       "      <td>ORANGE FREE STATE</td>\n",
       "      <td>0.00</td>\n",
       "      <td>0.00</td>\n",
       "      <td>0.00</td>\n",
       "      <td>0</td>\n",
       "      <td>0</td>\n",
       "      <td>0</td>\n",
       "      <td>80</td>\n",
       "      <td>2020-02-26</td>\n",
       "    </tr>\n",
       "    <tr>\n",
       "      <th>2</th>\n",
       "      <td>APPLE GOLDEN DELICIOUS</td>\n",
       "      <td>9.00</td>\n",
       "      <td>2S</td>\n",
       "      <td>JE090</td>\n",
       "      <td>NATAL</td>\n",
       "      <td>10.00</td>\n",
       "      <td>10.00</td>\n",
       "      <td>10.00</td>\n",
       "      <td>30</td>\n",
       "      <td>3</td>\n",
       "      <td>27</td>\n",
       "      <td>6</td>\n",
       "      <td>2020-02-26</td>\n",
       "    </tr>\n",
       "    <tr>\n",
       "      <th>3</th>\n",
       "      <td>APPLE GOLDEN DELICIOUS</td>\n",
       "      <td>9.00</td>\n",
       "      <td>2U</td>\n",
       "      <td>JE090</td>\n",
       "      <td>CAPE</td>\n",
       "      <td>50.00</td>\n",
       "      <td>50.00</td>\n",
       "      <td>50.00</td>\n",
       "      <td>9000</td>\n",
       "      <td>180</td>\n",
       "      <td>1620</td>\n",
       "      <td>0</td>\n",
       "      <td>2020-02-26</td>\n",
       "    </tr>\n",
       "    <tr>\n",
       "      <th>4</th>\n",
       "      <td>APPLE GOLDEN DELICIOUS</td>\n",
       "      <td>18.30</td>\n",
       "      <td>2X</td>\n",
       "      <td>M4183</td>\n",
       "      <td>CAPE</td>\n",
       "      <td>0.00</td>\n",
       "      <td>0.00</td>\n",
       "      <td>0.00</td>\n",
       "      <td>0</td>\n",
       "      <td>0</td>\n",
       "      <td>0</td>\n",
       "      <td>1</td>\n",
       "      <td>2020-02-26</td>\n",
       "    </tr>\n",
       "  </tbody>\n",
       "</table>\n",
       "</div>"
      ],
      "text/plain": [
       "              Commodities Weight_Kg Size_Grade Container           Province  \\\n",
       "0  APPLE GOLDEN DELICIOUS      9.00         2S     JE090               CAPE   \n",
       "1  APPLE GOLDEN DELICIOUS      9.00         2S     JE090  ORANGE FREE STATE   \n",
       "2  APPLE GOLDEN DELICIOUS      9.00         2S     JE090              NATAL   \n",
       "3  APPLE GOLDEN DELICIOUS      9.00         2U     JE090               CAPE   \n",
       "4  APPLE GOLDEN DELICIOUS     18.30         2X     M4183               CAPE   \n",
       "\n",
       "  Low_Price High_Price Average_Price Sales_Total Total_Qty_Sold Total_Kg_Sold  \\\n",
       "0     50.00     100.00         51.39        9250            180          1620   \n",
       "1      0.00       0.00          0.00           0              0             0   \n",
       "2     10.00      10.00         10.00          30              3            27   \n",
       "3     50.00      50.00         50.00        9000            180          1620   \n",
       "4      0.00       0.00          0.00           0              0             0   \n",
       "\n",
       "  Stock_On_Hand       Date  \n",
       "0          1397 2020-02-26  \n",
       "1            80 2020-02-26  \n",
       "2             6 2020-02-26  \n",
       "3             0 2020-02-26  \n",
       "4             1 2020-02-26  "
      ]
     },
     "execution_count": 20,
     "metadata": {},
     "output_type": "execute_result"
    }
   ],
   "source": [
    "sales.head()"
   ]
  },
  {
   "cell_type": "code",
   "execution_count": 21,
   "metadata": {},
   "outputs": [
    {
     "name": "stdout",
     "output_type": "stream",
     "text": [
      "<class 'pandas.core.frame.DataFrame'>\n",
      "RangeIndex: 151571 entries, 0 to 151570\n",
      "Data columns (total 13 columns):\n",
      " #   Column          Non-Null Count   Dtype         \n",
      "---  ------          --------------   -----         \n",
      " 0   Commodities     151571 non-null  object        \n",
      " 1   Weight_Kg       151571 non-null  object        \n",
      " 2   Size_Grade      151571 non-null  object        \n",
      " 3   Container       151571 non-null  object        \n",
      " 4   Province        151571 non-null  object        \n",
      " 5   Low_Price       151571 non-null  object        \n",
      " 6   High_Price      151571 non-null  object        \n",
      " 7   Average_Price   151571 non-null  object        \n",
      " 8   Sales_Total     151571 non-null  object        \n",
      " 9   Total_Qty_Sold  151571 non-null  object        \n",
      " 10  Total_Kg_Sold   151571 non-null  object        \n",
      " 11  Stock_On_Hand   151571 non-null  object        \n",
      " 12  Date            151571 non-null  datetime64[ns]\n",
      "dtypes: datetime64[ns](1), object(12)\n",
      "memory usage: 15.0+ MB\n"
     ]
    }
   ],
   "source": [
    "sales.info()"
   ]
  },
  {
   "cell_type": "code",
   "execution_count": 22,
   "metadata": {},
   "outputs": [],
   "source": [
    "# Convert some of the columns to their appropriate data type\n",
    "float_columns = ['Weight_Kg', 'Low_Price', 'High_Price', 'Average_Price', \n",
    "                 'Sales_Total', 'Total_Kg_Sold', 'Total_Qty_Sold', 'Stock_On_Hand']\n",
    "\n",
    "\n",
    "# Convert the columns to numeric\n",
    "for col in float_columns:\n",
    "    # sales[col] = sales[col].astype(float)\n",
    "    sales[col] = pd.to_numeric(sales[col])"
   ]
  },
  {
   "cell_type": "code",
   "execution_count": 23,
   "metadata": {},
   "outputs": [
    {
     "name": "stdout",
     "output_type": "stream",
     "text": [
      "<class 'pandas.core.frame.DataFrame'>\n",
      "RangeIndex: 151571 entries, 0 to 151570\n",
      "Data columns (total 13 columns):\n",
      " #   Column          Non-Null Count   Dtype         \n",
      "---  ------          --------------   -----         \n",
      " 0   Commodities     151571 non-null  object        \n",
      " 1   Weight_Kg       151571 non-null  float64       \n",
      " 2   Size_Grade      151571 non-null  object        \n",
      " 3   Container       151571 non-null  object        \n",
      " 4   Province        151571 non-null  object        \n",
      " 5   Low_Price       151571 non-null  float64       \n",
      " 6   High_Price      151571 non-null  float64       \n",
      " 7   Average_Price   151571 non-null  float64       \n",
      " 8   Sales_Total     151570 non-null  float64       \n",
      " 9   Total_Qty_Sold  151570 non-null  float64       \n",
      " 10  Total_Kg_Sold   151571 non-null  float64       \n",
      " 11  Stock_On_Hand   151570 non-null  float64       \n",
      " 12  Date            151571 non-null  datetime64[ns]\n",
      "dtypes: datetime64[ns](1), float64(8), object(4)\n",
      "memory usage: 15.0+ MB\n"
     ]
    }
   ],
   "source": [
    "sales.info()"
   ]
  },
  {
   "cell_type": "code",
   "execution_count": 24,
   "metadata": {},
   "outputs": [
    {
     "data": {
      "text/html": [
       "<div>\n",
       "<style scoped>\n",
       "    .dataframe tbody tr th:only-of-type {\n",
       "        vertical-align: middle;\n",
       "    }\n",
       "\n",
       "    .dataframe tbody tr th {\n",
       "        vertical-align: top;\n",
       "    }\n",
       "\n",
       "    .dataframe thead th {\n",
       "        text-align: right;\n",
       "    }\n",
       "</style>\n",
       "<table border=\"1\" class=\"dataframe\">\n",
       "  <thead>\n",
       "    <tr style=\"text-align: right;\">\n",
       "      <th></th>\n",
       "      <th>Commodities</th>\n",
       "      <th>Weight_Kg</th>\n",
       "      <th>Size_Grade</th>\n",
       "      <th>Container</th>\n",
       "      <th>Province</th>\n",
       "      <th>Low_Price</th>\n",
       "      <th>High_Price</th>\n",
       "      <th>Average_Price</th>\n",
       "      <th>Sales_Total</th>\n",
       "      <th>Total_Qty_Sold</th>\n",
       "      <th>Total_Kg_Sold</th>\n",
       "      <th>Stock_On_Hand</th>\n",
       "      <th>Date</th>\n",
       "    </tr>\n",
       "  </thead>\n",
       "  <tbody>\n",
       "    <tr>\n",
       "      <th>0</th>\n",
       "      <td>APPLE GOLDEN DELICIOUS</td>\n",
       "      <td>9.0</td>\n",
       "      <td>2S</td>\n",
       "      <td>JE090</td>\n",
       "      <td>CAPE</td>\n",
       "      <td>50.0</td>\n",
       "      <td>100.0</td>\n",
       "      <td>51.39</td>\n",
       "      <td>9250.0</td>\n",
       "      <td>180.0</td>\n",
       "      <td>1620.0</td>\n",
       "      <td>1397.0</td>\n",
       "      <td>2020-02-26</td>\n",
       "    </tr>\n",
       "    <tr>\n",
       "      <th>1</th>\n",
       "      <td>APPLE GOLDEN DELICIOUS</td>\n",
       "      <td>9.0</td>\n",
       "      <td>2S</td>\n",
       "      <td>JE090</td>\n",
       "      <td>ORANGE FREE STATE</td>\n",
       "      <td>0.0</td>\n",
       "      <td>0.0</td>\n",
       "      <td>0.00</td>\n",
       "      <td>0.0</td>\n",
       "      <td>0.0</td>\n",
       "      <td>0.0</td>\n",
       "      <td>80.0</td>\n",
       "      <td>2020-02-26</td>\n",
       "    </tr>\n",
       "    <tr>\n",
       "      <th>2</th>\n",
       "      <td>APPLE GOLDEN DELICIOUS</td>\n",
       "      <td>9.0</td>\n",
       "      <td>2S</td>\n",
       "      <td>JE090</td>\n",
       "      <td>NATAL</td>\n",
       "      <td>10.0</td>\n",
       "      <td>10.0</td>\n",
       "      <td>10.00</td>\n",
       "      <td>30.0</td>\n",
       "      <td>3.0</td>\n",
       "      <td>27.0</td>\n",
       "      <td>6.0</td>\n",
       "      <td>2020-02-26</td>\n",
       "    </tr>\n",
       "    <tr>\n",
       "      <th>3</th>\n",
       "      <td>APPLE GOLDEN DELICIOUS</td>\n",
       "      <td>9.0</td>\n",
       "      <td>2U</td>\n",
       "      <td>JE090</td>\n",
       "      <td>CAPE</td>\n",
       "      <td>50.0</td>\n",
       "      <td>50.0</td>\n",
       "      <td>50.00</td>\n",
       "      <td>9000.0</td>\n",
       "      <td>180.0</td>\n",
       "      <td>1620.0</td>\n",
       "      <td>0.0</td>\n",
       "      <td>2020-02-26</td>\n",
       "    </tr>\n",
       "    <tr>\n",
       "      <th>4</th>\n",
       "      <td>APPLE GOLDEN DELICIOUS</td>\n",
       "      <td>18.3</td>\n",
       "      <td>2X</td>\n",
       "      <td>M4183</td>\n",
       "      <td>CAPE</td>\n",
       "      <td>0.0</td>\n",
       "      <td>0.0</td>\n",
       "      <td>0.00</td>\n",
       "      <td>0.0</td>\n",
       "      <td>0.0</td>\n",
       "      <td>0.0</td>\n",
       "      <td>1.0</td>\n",
       "      <td>2020-02-26</td>\n",
       "    </tr>\n",
       "  </tbody>\n",
       "</table>\n",
       "</div>"
      ],
      "text/plain": [
       "              Commodities  Weight_Kg Size_Grade Container           Province  \\\n",
       "0  APPLE GOLDEN DELICIOUS        9.0         2S     JE090               CAPE   \n",
       "1  APPLE GOLDEN DELICIOUS        9.0         2S     JE090  ORANGE FREE STATE   \n",
       "2  APPLE GOLDEN DELICIOUS        9.0         2S     JE090              NATAL   \n",
       "3  APPLE GOLDEN DELICIOUS        9.0         2U     JE090               CAPE   \n",
       "4  APPLE GOLDEN DELICIOUS       18.3         2X     M4183               CAPE   \n",
       "\n",
       "   Low_Price  High_Price  Average_Price  Sales_Total  Total_Qty_Sold  \\\n",
       "0       50.0       100.0          51.39       9250.0           180.0   \n",
       "1        0.0         0.0           0.00          0.0             0.0   \n",
       "2       10.0        10.0          10.00         30.0             3.0   \n",
       "3       50.0        50.0          50.00       9000.0           180.0   \n",
       "4        0.0         0.0           0.00          0.0             0.0   \n",
       "\n",
       "   Total_Kg_Sold  Stock_On_Hand       Date  \n",
       "0         1620.0         1397.0 2020-02-26  \n",
       "1            0.0           80.0 2020-02-26  \n",
       "2           27.0            6.0 2020-02-26  \n",
       "3         1620.0            0.0 2020-02-26  \n",
       "4            0.0            1.0 2020-02-26  "
      ]
     },
     "execution_count": 24,
     "metadata": {},
     "output_type": "execute_result"
    }
   ],
   "source": [
    "sales.head()"
   ]
  },
  {
   "cell_type": "code",
   "execution_count": 27,
   "metadata": {},
   "outputs": [
    {
     "name": "stdout",
     "output_type": "stream",
     "text": [
      "147 days recorded in the database\n"
     ]
    }
   ],
   "source": [
    "# Check for the number of days in the database\n",
    "print(f\"{sales['Date'].nunique()} days recorded in the database\")"
   ]
  },
  {
   "cell_type": "code",
   "execution_count": 28,
   "metadata": {},
   "outputs": [],
   "source": [
    "# Remove days whereby total sales equal 0 because it registers average_price as zero.\n",
    "filtered_sales = sales[sales['Sales_Total'] != 0]"
   ]
  },
  {
   "cell_type": "code",
   "execution_count": 29,
   "metadata": {},
   "outputs": [
    {
     "name": "stdout",
     "output_type": "stream",
     "text": [
      "147 days recorded in the database\n"
     ]
    }
   ],
   "source": [
    "print(f\"{filtered_sales['Date'].nunique()} days recorded in the database\")"
   ]
  },
  {
   "cell_type": "markdown",
   "metadata": {},
   "source": [
    "Therefore no days were lost due to filtering by 'Sales_Total'"
   ]
  },
  {
   "cell_type": "code",
   "execution_count": 31,
   "metadata": {},
   "outputs": [
    {
     "data": {
      "text/html": [
       "<div>\n",
       "<style scoped>\n",
       "    .dataframe tbody tr th:only-of-type {\n",
       "        vertical-align: middle;\n",
       "    }\n",
       "\n",
       "    .dataframe tbody tr th {\n",
       "        vertical-align: top;\n",
       "    }\n",
       "\n",
       "    .dataframe thead th {\n",
       "        text-align: right;\n",
       "    }\n",
       "</style>\n",
       "<table border=\"1\" class=\"dataframe\">\n",
       "  <thead>\n",
       "    <tr style=\"text-align: right;\">\n",
       "      <th></th>\n",
       "      <th>Commodities</th>\n",
       "      <th>Weight_Kg</th>\n",
       "      <th>Size_Grade</th>\n",
       "      <th>Container</th>\n",
       "      <th>Province</th>\n",
       "      <th>Low_Price</th>\n",
       "      <th>High_Price</th>\n",
       "      <th>Average_Price</th>\n",
       "      <th>Sales_Total</th>\n",
       "      <th>Total_Qty_Sold</th>\n",
       "      <th>Total_Kg_Sold</th>\n",
       "      <th>Stock_On_Hand</th>\n",
       "      <th>Date</th>\n",
       "    </tr>\n",
       "  </thead>\n",
       "  <tbody>\n",
       "    <tr>\n",
       "      <th>0</th>\n",
       "      <td>APPLE GOLDEN DELICIOUS</td>\n",
       "      <td>9.0</td>\n",
       "      <td>2S</td>\n",
       "      <td>JE090</td>\n",
       "      <td>CAPE</td>\n",
       "      <td>50.0</td>\n",
       "      <td>100.0</td>\n",
       "      <td>51.39</td>\n",
       "      <td>9250.0</td>\n",
       "      <td>180.0</td>\n",
       "      <td>1620.0</td>\n",
       "      <td>1397.0</td>\n",
       "      <td>2020-02-26</td>\n",
       "    </tr>\n",
       "    <tr>\n",
       "      <th>2</th>\n",
       "      <td>APPLE GOLDEN DELICIOUS</td>\n",
       "      <td>9.0</td>\n",
       "      <td>2S</td>\n",
       "      <td>JE090</td>\n",
       "      <td>NATAL</td>\n",
       "      <td>10.0</td>\n",
       "      <td>10.0</td>\n",
       "      <td>10.00</td>\n",
       "      <td>30.0</td>\n",
       "      <td>3.0</td>\n",
       "      <td>27.0</td>\n",
       "      <td>6.0</td>\n",
       "      <td>2020-02-26</td>\n",
       "    </tr>\n",
       "    <tr>\n",
       "      <th>3</th>\n",
       "      <td>APPLE GOLDEN DELICIOUS</td>\n",
       "      <td>9.0</td>\n",
       "      <td>2U</td>\n",
       "      <td>JE090</td>\n",
       "      <td>CAPE</td>\n",
       "      <td>50.0</td>\n",
       "      <td>50.0</td>\n",
       "      <td>50.00</td>\n",
       "      <td>9000.0</td>\n",
       "      <td>180.0</td>\n",
       "      <td>1620.0</td>\n",
       "      <td>0.0</td>\n",
       "      <td>2020-02-26</td>\n",
       "    </tr>\n",
       "    <tr>\n",
       "      <th>7</th>\n",
       "      <td>APPLE GRANNY SMITH</td>\n",
       "      <td>12.0</td>\n",
       "      <td>1S</td>\n",
       "      <td>EC120</td>\n",
       "      <td>CAPE</td>\n",
       "      <td>60.0</td>\n",
       "      <td>60.0</td>\n",
       "      <td>60.00</td>\n",
       "      <td>6000.0</td>\n",
       "      <td>100.0</td>\n",
       "      <td>1200.0</td>\n",
       "      <td>164.0</td>\n",
       "      <td>2020-02-26</td>\n",
       "    </tr>\n",
       "    <tr>\n",
       "      <th>8</th>\n",
       "      <td>APPLE GRANNY SMITH</td>\n",
       "      <td>12.0</td>\n",
       "      <td>1S</td>\n",
       "      <td>EC120</td>\n",
       "      <td>CAPE</td>\n",
       "      <td>60.0</td>\n",
       "      <td>96.0</td>\n",
       "      <td>62.30</td>\n",
       "      <td>13020.0</td>\n",
       "      <td>209.0</td>\n",
       "      <td>2508.0</td>\n",
       "      <td>0.0</td>\n",
       "      <td>2020-02-26</td>\n",
       "    </tr>\n",
       "  </tbody>\n",
       "</table>\n",
       "</div>"
      ],
      "text/plain": [
       "              Commodities  Weight_Kg Size_Grade Container Province  Low_Price  \\\n",
       "0  APPLE GOLDEN DELICIOUS        9.0         2S     JE090     CAPE       50.0   \n",
       "2  APPLE GOLDEN DELICIOUS        9.0         2S     JE090    NATAL       10.0   \n",
       "3  APPLE GOLDEN DELICIOUS        9.0         2U     JE090     CAPE       50.0   \n",
       "7      APPLE GRANNY SMITH       12.0         1S     EC120     CAPE       60.0   \n",
       "8      APPLE GRANNY SMITH       12.0         1S     EC120     CAPE       60.0   \n",
       "\n",
       "   High_Price  Average_Price  Sales_Total  Total_Qty_Sold  Total_Kg_Sold  \\\n",
       "0       100.0          51.39       9250.0           180.0         1620.0   \n",
       "2        10.0          10.00         30.0             3.0           27.0   \n",
       "3        50.0          50.00       9000.0           180.0         1620.0   \n",
       "7        60.0          60.00       6000.0           100.0         1200.0   \n",
       "8        96.0          62.30      13020.0           209.0         2508.0   \n",
       "\n",
       "   Stock_On_Hand       Date  \n",
       "0         1397.0 2020-02-26  \n",
       "2            6.0 2020-02-26  \n",
       "3            0.0 2020-02-26  \n",
       "7          164.0 2020-02-26  \n",
       "8            0.0 2020-02-26  "
      ]
     },
     "execution_count": 31,
     "metadata": {},
     "output_type": "execute_result"
    }
   ],
   "source": [
    "filtered_sales.head()"
   ]
  },
  {
   "cell_type": "code",
   "execution_count": 53,
   "metadata": {},
   "outputs": [
    {
     "data": {
      "text/html": [
       "<div>\n",
       "<style scoped>\n",
       "    .dataframe tbody tr th:only-of-type {\n",
       "        vertical-align: middle;\n",
       "    }\n",
       "\n",
       "    .dataframe tbody tr th {\n",
       "        vertical-align: top;\n",
       "    }\n",
       "\n",
       "    .dataframe thead th {\n",
       "        text-align: right;\n",
       "    }\n",
       "</style>\n",
       "<table border=\"1\" class=\"dataframe\">\n",
       "  <thead>\n",
       "    <tr style=\"text-align: right;\">\n",
       "      <th></th>\n",
       "      <th>Commodities</th>\n",
       "      <th>Weight_Kg</th>\n",
       "      <th>Size_Grade</th>\n",
       "      <th>Container</th>\n",
       "      <th>Province</th>\n",
       "      <th>Low_Price</th>\n",
       "      <th>High_Price</th>\n",
       "      <th>Average_Price</th>\n",
       "      <th>Sales_Total</th>\n",
       "      <th>Total_Qty_Sold</th>\n",
       "      <th>Total_Kg_Sold</th>\n",
       "      <th>Stock_On_Hand</th>\n",
       "      <th>Date</th>\n",
       "    </tr>\n",
       "  </thead>\n",
       "  <tbody>\n",
       "    <tr>\n",
       "      <th>791</th>\n",
       "      <td>PINEAPPLE QUEEN VICTORIA</td>\n",
       "      <td>8.0</td>\n",
       "      <td></td>\n",
       "      <td>LM080</td>\n",
       "      <td>NATAL</td>\n",
       "      <td>60.0</td>\n",
       "      <td>120.0</td>\n",
       "      <td>113.82</td>\n",
       "      <td>18780.0</td>\n",
       "      <td>165.0</td>\n",
       "      <td>1320.0</td>\n",
       "      <td>149.0</td>\n",
       "      <td>2020-04-07</td>\n",
       "    </tr>\n",
       "    <tr>\n",
       "      <th>792</th>\n",
       "      <td>PINEAPPLE QUEEN VICTORIA</td>\n",
       "      <td>8.0</td>\n",
       "      <td></td>\n",
       "      <td>LM080</td>\n",
       "      <td>NATAL</td>\n",
       "      <td>50.0</td>\n",
       "      <td>100.0</td>\n",
       "      <td>92.00</td>\n",
       "      <td>65410.0</td>\n",
       "      <td>711.0</td>\n",
       "      <td>5688.0</td>\n",
       "      <td>430.0</td>\n",
       "      <td>2020-04-07</td>\n",
       "    </tr>\n",
       "    <tr>\n",
       "      <th>793</th>\n",
       "      <td>PINEAPPLE QUEEN VICTORIA</td>\n",
       "      <td>8.0</td>\n",
       "      <td></td>\n",
       "      <td>LM080</td>\n",
       "      <td>NATAL</td>\n",
       "      <td>40.0</td>\n",
       "      <td>90.0</td>\n",
       "      <td>83.25</td>\n",
       "      <td>44290.0</td>\n",
       "      <td>532.0</td>\n",
       "      <td>4256.0</td>\n",
       "      <td>44.0</td>\n",
       "      <td>2020-04-07</td>\n",
       "    </tr>\n",
       "    <tr>\n",
       "      <th>794</th>\n",
       "      <td>PINEAPPLE QUEEN VICTORIA</td>\n",
       "      <td>8.0</td>\n",
       "      <td></td>\n",
       "      <td>LM080</td>\n",
       "      <td>NATAL</td>\n",
       "      <td>15.0</td>\n",
       "      <td>70.0</td>\n",
       "      <td>57.78</td>\n",
       "      <td>9765.0</td>\n",
       "      <td>169.0</td>\n",
       "      <td>1352.0</td>\n",
       "      <td>46.0</td>\n",
       "      <td>2020-04-07</td>\n",
       "    </tr>\n",
       "    <tr>\n",
       "      <th>795</th>\n",
       "      <td>PINEAPPLE QUEEN VICTORIA</td>\n",
       "      <td>8.0</td>\n",
       "      <td></td>\n",
       "      <td>LM080</td>\n",
       "      <td>NATAL</td>\n",
       "      <td>15.0</td>\n",
       "      <td>120.0</td>\n",
       "      <td>120.00</td>\n",
       "      <td>840.0</td>\n",
       "      <td>7.0</td>\n",
       "      <td>56.0</td>\n",
       "      <td>5.0</td>\n",
       "      <td>2020-04-07</td>\n",
       "    </tr>\n",
       "    <tr>\n",
       "      <th>1892</th>\n",
       "      <td>PINEAPPLE QUEEN VICTORIA</td>\n",
       "      <td>8.0</td>\n",
       "      <td></td>\n",
       "      <td>LM080</td>\n",
       "      <td>NATAL</td>\n",
       "      <td>225.0</td>\n",
       "      <td>225.0</td>\n",
       "      <td>225.00</td>\n",
       "      <td>80775.0</td>\n",
       "      <td>359.0</td>\n",
       "      <td>2872.0</td>\n",
       "      <td>6.0</td>\n",
       "      <td>2020-05-19</td>\n",
       "    </tr>\n",
       "    <tr>\n",
       "      <th>1893</th>\n",
       "      <td>PINEAPPLE QUEEN VICTORIA</td>\n",
       "      <td>8.0</td>\n",
       "      <td></td>\n",
       "      <td>LM080</td>\n",
       "      <td>NATAL</td>\n",
       "      <td>200.0</td>\n",
       "      <td>200.0</td>\n",
       "      <td>200.00</td>\n",
       "      <td>224800.0</td>\n",
       "      <td>1124.0</td>\n",
       "      <td>8992.0</td>\n",
       "      <td>100.0</td>\n",
       "      <td>2020-05-19</td>\n",
       "    </tr>\n",
       "    <tr>\n",
       "      <th>1894</th>\n",
       "      <td>PINEAPPLE QUEEN VICTORIA</td>\n",
       "      <td>8.0</td>\n",
       "      <td></td>\n",
       "      <td>LM080</td>\n",
       "      <td>NATAL</td>\n",
       "      <td>200.0</td>\n",
       "      <td>200.0</td>\n",
       "      <td>200.00</td>\n",
       "      <td>88600.0</td>\n",
       "      <td>443.0</td>\n",
       "      <td>3544.0</td>\n",
       "      <td>2.0</td>\n",
       "      <td>2020-05-19</td>\n",
       "    </tr>\n",
       "    <tr>\n",
       "      <th>1895</th>\n",
       "      <td>PINEAPPLE QUEEN VICTORIA</td>\n",
       "      <td>8.0</td>\n",
       "      <td></td>\n",
       "      <td>LM080</td>\n",
       "      <td>NATAL</td>\n",
       "      <td>180.0</td>\n",
       "      <td>180.0</td>\n",
       "      <td>180.00</td>\n",
       "      <td>13140.0</td>\n",
       "      <td>73.0</td>\n",
       "      <td>584.0</td>\n",
       "      <td>0.0</td>\n",
       "      <td>2020-05-19</td>\n",
       "    </tr>\n",
       "    <tr>\n",
       "      <th>1896</th>\n",
       "      <td>PINEAPPLE QUEEN VICTORIA</td>\n",
       "      <td>8.0</td>\n",
       "      <td></td>\n",
       "      <td>LM080</td>\n",
       "      <td>NATAL</td>\n",
       "      <td>160.0</td>\n",
       "      <td>160.0</td>\n",
       "      <td>160.00</td>\n",
       "      <td>2400.0</td>\n",
       "      <td>15.0</td>\n",
       "      <td>120.0</td>\n",
       "      <td>5.0</td>\n",
       "      <td>2020-05-19</td>\n",
       "    </tr>\n",
       "    <tr>\n",
       "      <th>1897</th>\n",
       "      <td>PINEAPPLE QUEEN VICTORIA</td>\n",
       "      <td>8.0</td>\n",
       "      <td></td>\n",
       "      <td>LM080</td>\n",
       "      <td>NATAL</td>\n",
       "      <td>200.0</td>\n",
       "      <td>200.0</td>\n",
       "      <td>200.00</td>\n",
       "      <td>2800.0</td>\n",
       "      <td>14.0</td>\n",
       "      <td>112.0</td>\n",
       "      <td>18.0</td>\n",
       "      <td>2020-05-19</td>\n",
       "    </tr>\n",
       "    <tr>\n",
       "      <th>3309</th>\n",
       "      <td>PINEAPPLE QUEEN VICTORIA</td>\n",
       "      <td>8.0</td>\n",
       "      <td></td>\n",
       "      <td>LM080</td>\n",
       "      <td>NATAL</td>\n",
       "      <td>150.0</td>\n",
       "      <td>150.0</td>\n",
       "      <td>150.00</td>\n",
       "      <td>80550.0</td>\n",
       "      <td>537.0</td>\n",
       "      <td>4296.0</td>\n",
       "      <td>43.0</td>\n",
       "      <td>2020-03-16</td>\n",
       "    </tr>\n",
       "    <tr>\n",
       "      <th>3310</th>\n",
       "      <td>PINEAPPLE QUEEN VICTORIA</td>\n",
       "      <td>8.0</td>\n",
       "      <td></td>\n",
       "      <td>LM080</td>\n",
       "      <td>NATAL</td>\n",
       "      <td>40.0</td>\n",
       "      <td>140.0</td>\n",
       "      <td>140.00</td>\n",
       "      <td>21980.0</td>\n",
       "      <td>157.0</td>\n",
       "      <td>1256.0</td>\n",
       "      <td>0.0</td>\n",
       "      <td>2020-03-16</td>\n",
       "    </tr>\n",
       "    <tr>\n",
       "      <th>3311</th>\n",
       "      <td>PINEAPPLE QUEEN VICTORIA</td>\n",
       "      <td>8.0</td>\n",
       "      <td></td>\n",
       "      <td>LM080</td>\n",
       "      <td>NATAL</td>\n",
       "      <td>110.0</td>\n",
       "      <td>110.0</td>\n",
       "      <td>110.00</td>\n",
       "      <td>57200.0</td>\n",
       "      <td>520.0</td>\n",
       "      <td>4160.0</td>\n",
       "      <td>0.0</td>\n",
       "      <td>2020-03-16</td>\n",
       "    </tr>\n",
       "    <tr>\n",
       "      <th>3312</th>\n",
       "      <td>PINEAPPLE QUEEN VICTORIA</td>\n",
       "      <td>8.0</td>\n",
       "      <td></td>\n",
       "      <td>LM080</td>\n",
       "      <td>NATAL</td>\n",
       "      <td>100.0</td>\n",
       "      <td>100.0</td>\n",
       "      <td>100.00</td>\n",
       "      <td>15200.0</td>\n",
       "      <td>152.0</td>\n",
       "      <td>1216.0</td>\n",
       "      <td>86.0</td>\n",
       "      <td>2020-03-16</td>\n",
       "    </tr>\n",
       "    <tr>\n",
       "      <th>3313</th>\n",
       "      <td>PINEAPPLE QUEEN VICTORIA</td>\n",
       "      <td>8.0</td>\n",
       "      <td></td>\n",
       "      <td>LM080</td>\n",
       "      <td>NATAL</td>\n",
       "      <td>130.0</td>\n",
       "      <td>130.0</td>\n",
       "      <td>130.00</td>\n",
       "      <td>2470.0</td>\n",
       "      <td>19.0</td>\n",
       "      <td>152.0</td>\n",
       "      <td>17.0</td>\n",
       "      <td>2020-03-16</td>\n",
       "    </tr>\n",
       "    <tr>\n",
       "      <th>4452</th>\n",
       "      <td>PINEAPPLE QUEEN VICTORIA</td>\n",
       "      <td>8.0</td>\n",
       "      <td></td>\n",
       "      <td>LM080</td>\n",
       "      <td>NATAL</td>\n",
       "      <td>180.0</td>\n",
       "      <td>180.0</td>\n",
       "      <td>180.00</td>\n",
       "      <td>1080.0</td>\n",
       "      <td>6.0</td>\n",
       "      <td>48.0</td>\n",
       "      <td>752.0</td>\n",
       "      <td>2020-07-30</td>\n",
       "    </tr>\n",
       "    <tr>\n",
       "      <th>4453</th>\n",
       "      <td>PINEAPPLE QUEEN VICTORIA</td>\n",
       "      <td>8.0</td>\n",
       "      <td></td>\n",
       "      <td>LM080</td>\n",
       "      <td>NATAL</td>\n",
       "      <td>160.0</td>\n",
       "      <td>160.0</td>\n",
       "      <td>160.00</td>\n",
       "      <td>132960.0</td>\n",
       "      <td>831.0</td>\n",
       "      <td>6648.0</td>\n",
       "      <td>612.0</td>\n",
       "      <td>2020-07-30</td>\n",
       "    </tr>\n",
       "    <tr>\n",
       "      <th>4454</th>\n",
       "      <td>PINEAPPLE QUEEN VICTORIA</td>\n",
       "      <td>8.0</td>\n",
       "      <td></td>\n",
       "      <td>LM080</td>\n",
       "      <td>NATAL</td>\n",
       "      <td>135.0</td>\n",
       "      <td>150.0</td>\n",
       "      <td>145.47</td>\n",
       "      <td>38695.0</td>\n",
       "      <td>266.0</td>\n",
       "      <td>2128.0</td>\n",
       "      <td>1663.0</td>\n",
       "      <td>2020-07-30</td>\n",
       "    </tr>\n",
       "    <tr>\n",
       "      <th>4455</th>\n",
       "      <td>PINEAPPLE QUEEN VICTORIA</td>\n",
       "      <td>8.0</td>\n",
       "      <td></td>\n",
       "      <td>LM080</td>\n",
       "      <td>NATAL</td>\n",
       "      <td>100.0</td>\n",
       "      <td>120.0</td>\n",
       "      <td>103.90</td>\n",
       "      <td>17040.0</td>\n",
       "      <td>164.0</td>\n",
       "      <td>1312.0</td>\n",
       "      <td>914.0</td>\n",
       "      <td>2020-07-30</td>\n",
       "    </tr>\n",
       "  </tbody>\n",
       "</table>\n",
       "</div>"
      ],
      "text/plain": [
       "                   Commodities  Weight_Kg Size_Grade Container Province  \\\n",
       "791   PINEAPPLE QUEEN VICTORIA        8.0                LM080    NATAL   \n",
       "792   PINEAPPLE QUEEN VICTORIA        8.0                LM080    NATAL   \n",
       "793   PINEAPPLE QUEEN VICTORIA        8.0                LM080    NATAL   \n",
       "794   PINEAPPLE QUEEN VICTORIA        8.0                LM080    NATAL   \n",
       "795   PINEAPPLE QUEEN VICTORIA        8.0                LM080    NATAL   \n",
       "1892  PINEAPPLE QUEEN VICTORIA        8.0                LM080    NATAL   \n",
       "1893  PINEAPPLE QUEEN VICTORIA        8.0                LM080    NATAL   \n",
       "1894  PINEAPPLE QUEEN VICTORIA        8.0                LM080    NATAL   \n",
       "1895  PINEAPPLE QUEEN VICTORIA        8.0                LM080    NATAL   \n",
       "1896  PINEAPPLE QUEEN VICTORIA        8.0                LM080    NATAL   \n",
       "1897  PINEAPPLE QUEEN VICTORIA        8.0                LM080    NATAL   \n",
       "3309  PINEAPPLE QUEEN VICTORIA        8.0                LM080    NATAL   \n",
       "3310  PINEAPPLE QUEEN VICTORIA        8.0                LM080    NATAL   \n",
       "3311  PINEAPPLE QUEEN VICTORIA        8.0                LM080    NATAL   \n",
       "3312  PINEAPPLE QUEEN VICTORIA        8.0                LM080    NATAL   \n",
       "3313  PINEAPPLE QUEEN VICTORIA        8.0                LM080    NATAL   \n",
       "4452  PINEAPPLE QUEEN VICTORIA        8.0                LM080    NATAL   \n",
       "4453  PINEAPPLE QUEEN VICTORIA        8.0                LM080    NATAL   \n",
       "4454  PINEAPPLE QUEEN VICTORIA        8.0                LM080    NATAL   \n",
       "4455  PINEAPPLE QUEEN VICTORIA        8.0                LM080    NATAL   \n",
       "\n",
       "      Low_Price  High_Price  Average_Price  Sales_Total  Total_Qty_Sold  \\\n",
       "791        60.0       120.0         113.82      18780.0           165.0   \n",
       "792        50.0       100.0          92.00      65410.0           711.0   \n",
       "793        40.0        90.0          83.25      44290.0           532.0   \n",
       "794        15.0        70.0          57.78       9765.0           169.0   \n",
       "795        15.0       120.0         120.00        840.0             7.0   \n",
       "1892      225.0       225.0         225.00      80775.0           359.0   \n",
       "1893      200.0       200.0         200.00     224800.0          1124.0   \n",
       "1894      200.0       200.0         200.00      88600.0           443.0   \n",
       "1895      180.0       180.0         180.00      13140.0            73.0   \n",
       "1896      160.0       160.0         160.00       2400.0            15.0   \n",
       "1897      200.0       200.0         200.00       2800.0            14.0   \n",
       "3309      150.0       150.0         150.00      80550.0           537.0   \n",
       "3310       40.0       140.0         140.00      21980.0           157.0   \n",
       "3311      110.0       110.0         110.00      57200.0           520.0   \n",
       "3312      100.0       100.0         100.00      15200.0           152.0   \n",
       "3313      130.0       130.0         130.00       2470.0            19.0   \n",
       "4452      180.0       180.0         180.00       1080.0             6.0   \n",
       "4453      160.0       160.0         160.00     132960.0           831.0   \n",
       "4454      135.0       150.0         145.47      38695.0           266.0   \n",
       "4455      100.0       120.0         103.90      17040.0           164.0   \n",
       "\n",
       "      Total_Kg_Sold  Stock_On_Hand       Date  \n",
       "791          1320.0          149.0 2020-04-07  \n",
       "792          5688.0          430.0 2020-04-07  \n",
       "793          4256.0           44.0 2020-04-07  \n",
       "794          1352.0           46.0 2020-04-07  \n",
       "795            56.0            5.0 2020-04-07  \n",
       "1892         2872.0            6.0 2020-05-19  \n",
       "1893         8992.0          100.0 2020-05-19  \n",
       "1894         3544.0            2.0 2020-05-19  \n",
       "1895          584.0            0.0 2020-05-19  \n",
       "1896          120.0            5.0 2020-05-19  \n",
       "1897          112.0           18.0 2020-05-19  \n",
       "3309         4296.0           43.0 2020-03-16  \n",
       "3310         1256.0            0.0 2020-03-16  \n",
       "3311         4160.0            0.0 2020-03-16  \n",
       "3312         1216.0           86.0 2020-03-16  \n",
       "3313          152.0           17.0 2020-03-16  \n",
       "4452           48.0          752.0 2020-07-30  \n",
       "4453         6648.0          612.0 2020-07-30  \n",
       "4454         2128.0         1663.0 2020-07-30  \n",
       "4455         1312.0          914.0 2020-07-30  "
      ]
     },
     "execution_count": 53,
     "metadata": {},
     "output_type": "execute_result"
    }
   ],
   "source": [
    "sales[(sales['Commodities'] == 'PINEAPPLE QUEEN VICTORIA') & (sales['Container'] == 'LM080') & (sales['Province'] == 'NATAL')].head(20)"
   ]
  },
  {
   "cell_type": "code",
   "execution_count": 64,
   "metadata": {},
   "outputs": [],
   "source": [
    "df = filtered_sales.groupby(['Province', 'Container', 'Size_Grade', 'Weight_Kg', 'Commodities', 'Date']\n",
    "    )[['Low_Price', 'High_Price', 'Sales_Total', 'Total_Qty_Sold', 'Total_Kg_Sold', 'Stock_On_Hand']].agg(\n",
    "        {\n",
    "            'Low_Price':min,\n",
    "            'High_Price':max,\n",
    "            'Sales_Total':sum,\n",
    "            'Total_Qty_Sold':sum,\n",
    "            'Total_Kg_Sold':sum,\n",
    "            'Stock_On_Hand':sum\n",
    "        }\n",
    ")"
   ]
  },
  {
   "cell_type": "code",
   "execution_count": 65,
   "metadata": {},
   "outputs": [
    {
     "data": {
      "text/html": [
       "<div>\n",
       "<style scoped>\n",
       "    .dataframe tbody tr th:only-of-type {\n",
       "        vertical-align: middle;\n",
       "    }\n",
       "\n",
       "    .dataframe tbody tr th {\n",
       "        vertical-align: top;\n",
       "    }\n",
       "\n",
       "    .dataframe thead th {\n",
       "        text-align: right;\n",
       "    }\n",
       "</style>\n",
       "<table border=\"1\" class=\"dataframe\">\n",
       "  <thead>\n",
       "    <tr style=\"text-align: right;\">\n",
       "      <th></th>\n",
       "      <th></th>\n",
       "      <th></th>\n",
       "      <th></th>\n",
       "      <th></th>\n",
       "      <th></th>\n",
       "      <th>Low_Price</th>\n",
       "      <th>High_Price</th>\n",
       "      <th>Sales_Total</th>\n",
       "      <th>Total_Qty_Sold</th>\n",
       "      <th>Total_Kg_Sold</th>\n",
       "      <th>Stock_On_Hand</th>\n",
       "    </tr>\n",
       "    <tr>\n",
       "      <th>Province</th>\n",
       "      <th>Container</th>\n",
       "      <th>Size_Grade</th>\n",
       "      <th>Weight_Kg</th>\n",
       "      <th>Commodities</th>\n",
       "      <th>Date</th>\n",
       "      <th></th>\n",
       "      <th></th>\n",
       "      <th></th>\n",
       "      <th></th>\n",
       "      <th></th>\n",
       "      <th></th>\n",
       "    </tr>\n",
       "  </thead>\n",
       "  <tbody>\n",
       "    <tr>\n",
       "      <th rowspan=\"5\" valign=\"top\"></th>\n",
       "      <th rowspan=\"5\" valign=\"top\">A8075</th>\n",
       "      <th rowspan=\"5\" valign=\"top\"></th>\n",
       "      <th rowspan=\"5\" valign=\"top\">7.5</th>\n",
       "      <th rowspan=\"5\" valign=\"top\">HABANERO YELLOW</th>\n",
       "      <th>2020-07-01</th>\n",
       "      <td>350.0</td>\n",
       "      <td>350.0</td>\n",
       "      <td>700.0</td>\n",
       "      <td>2.0</td>\n",
       "      <td>15.0</td>\n",
       "      <td>6.0</td>\n",
       "    </tr>\n",
       "    <tr>\n",
       "      <th>2020-07-08</th>\n",
       "      <td>350.0</td>\n",
       "      <td>350.0</td>\n",
       "      <td>1400.0</td>\n",
       "      <td>4.0</td>\n",
       "      <td>30.0</td>\n",
       "      <td>12.0</td>\n",
       "    </tr>\n",
       "    <tr>\n",
       "      <th>2020-07-09</th>\n",
       "      <td>350.0</td>\n",
       "      <td>350.0</td>\n",
       "      <td>1400.0</td>\n",
       "      <td>4.0</td>\n",
       "      <td>30.0</td>\n",
       "      <td>12.0</td>\n",
       "    </tr>\n",
       "    <tr>\n",
       "      <th>2020-07-14</th>\n",
       "      <td>350.0</td>\n",
       "      <td>350.0</td>\n",
       "      <td>1050.0</td>\n",
       "      <td>3.0</td>\n",
       "      <td>22.5</td>\n",
       "      <td>2.0</td>\n",
       "    </tr>\n",
       "    <tr>\n",
       "      <th>2020-07-20</th>\n",
       "      <td>300.0</td>\n",
       "      <td>320.0</td>\n",
       "      <td>620.0</td>\n",
       "      <td>2.0</td>\n",
       "      <td>15.0</td>\n",
       "      <td>0.0</td>\n",
       "    </tr>\n",
       "    <tr>\n",
       "      <th>...</th>\n",
       "      <th>...</th>\n",
       "      <th>...</th>\n",
       "      <th>...</th>\n",
       "      <th>...</th>\n",
       "      <th>...</th>\n",
       "      <td>...</td>\n",
       "      <td>...</td>\n",
       "      <td>...</td>\n",
       "      <td>...</td>\n",
       "      <td>...</td>\n",
       "      <td>...</td>\n",
       "    </tr>\n",
       "    <tr>\n",
       "      <th rowspan=\"5\" valign=\"top\">WESTERN FREESTATE</th>\n",
       "      <th rowspan=\"5\" valign=\"top\">PP100</th>\n",
       "      <th>4M</th>\n",
       "      <th>10.0</th>\n",
       "      <th>POTATO LANORMA (WASHED)</th>\n",
       "      <th>2020-03-10</th>\n",
       "      <td>8.0</td>\n",
       "      <td>10.0</td>\n",
       "      <td>1080.0</td>\n",
       "      <td>130.0</td>\n",
       "      <td>1300.0</td>\n",
       "      <td>0.0</td>\n",
       "    </tr>\n",
       "    <tr>\n",
       "      <th>4R</th>\n",
       "      <th>10.0</th>\n",
       "      <th>POTATO (WASHED) MONDIAL</th>\n",
       "      <th>2020-01-23</th>\n",
       "      <td>5.0</td>\n",
       "      <td>10.0</td>\n",
       "      <td>5470.0</td>\n",
       "      <td>1049.0</td>\n",
       "      <td>10490.0</td>\n",
       "      <td>0.0</td>\n",
       "    </tr>\n",
       "    <tr>\n",
       "      <th rowspan=\"2\" valign=\"top\">4S</th>\n",
       "      <th rowspan=\"2\" valign=\"top\">10.0</th>\n",
       "      <th rowspan=\"2\" valign=\"top\">POTATO (WASHED) MONDIAL</th>\n",
       "      <th>2020-01-23</th>\n",
       "      <td>5.0</td>\n",
       "      <td>5.0</td>\n",
       "      <td>1440.0</td>\n",
       "      <td>288.0</td>\n",
       "      <td>2880.0</td>\n",
       "      <td>0.0</td>\n",
       "    </tr>\n",
       "    <tr>\n",
       "      <th>2020-06-19</th>\n",
       "      <td>5.0</td>\n",
       "      <td>5.0</td>\n",
       "      <td>835.0</td>\n",
       "      <td>167.0</td>\n",
       "      <td>1670.0</td>\n",
       "      <td>0.0</td>\n",
       "    </tr>\n",
       "    <tr>\n",
       "      <th>4Z</th>\n",
       "      <th>10.0</th>\n",
       "      <th>POTATO (WASHED) MONDIAL</th>\n",
       "      <th>2020-06-19</th>\n",
       "      <td>20.0</td>\n",
       "      <td>20.0</td>\n",
       "      <td>20.0</td>\n",
       "      <td>1.0</td>\n",
       "      <td>10.0</td>\n",
       "      <td>103.0</td>\n",
       "    </tr>\n",
       "  </tbody>\n",
       "</table>\n",
       "<p>90560 rows × 6 columns</p>\n",
       "</div>"
      ],
      "text/plain": [
       "                                                                                     Low_Price  \\\n",
       "Province          Container Size_Grade Weight_Kg Commodities             Date                    \n",
       "                  A8075                7.5       HABANERO YELLOW         2020-07-01      350.0   \n",
       "                                                                         2020-07-08      350.0   \n",
       "                                                                         2020-07-09      350.0   \n",
       "                                                                         2020-07-14      350.0   \n",
       "                                                                         2020-07-20      300.0   \n",
       "...                                                                                        ...   \n",
       "WESTERN FREESTATE PP100     4M         10.0      POTATO LANORMA (WASHED) 2020-03-10        8.0   \n",
       "                            4R         10.0      POTATO (WASHED) MONDIAL 2020-01-23        5.0   \n",
       "                            4S         10.0      POTATO (WASHED) MONDIAL 2020-01-23        5.0   \n",
       "                                                                         2020-06-19        5.0   \n",
       "                            4Z         10.0      POTATO (WASHED) MONDIAL 2020-06-19       20.0   \n",
       "\n",
       "                                                                                     High_Price  \\\n",
       "Province          Container Size_Grade Weight_Kg Commodities             Date                     \n",
       "                  A8075                7.5       HABANERO YELLOW         2020-07-01       350.0   \n",
       "                                                                         2020-07-08       350.0   \n",
       "                                                                         2020-07-09       350.0   \n",
       "                                                                         2020-07-14       350.0   \n",
       "                                                                         2020-07-20       320.0   \n",
       "...                                                                                         ...   \n",
       "WESTERN FREESTATE PP100     4M         10.0      POTATO LANORMA (WASHED) 2020-03-10        10.0   \n",
       "                            4R         10.0      POTATO (WASHED) MONDIAL 2020-01-23        10.0   \n",
       "                            4S         10.0      POTATO (WASHED) MONDIAL 2020-01-23         5.0   \n",
       "                                                                         2020-06-19         5.0   \n",
       "                            4Z         10.0      POTATO (WASHED) MONDIAL 2020-06-19        20.0   \n",
       "\n",
       "                                                                                     Sales_Total  \\\n",
       "Province          Container Size_Grade Weight_Kg Commodities             Date                      \n",
       "                  A8075                7.5       HABANERO YELLOW         2020-07-01        700.0   \n",
       "                                                                         2020-07-08       1400.0   \n",
       "                                                                         2020-07-09       1400.0   \n",
       "                                                                         2020-07-14       1050.0   \n",
       "                                                                         2020-07-20        620.0   \n",
       "...                                                                                          ...   \n",
       "WESTERN FREESTATE PP100     4M         10.0      POTATO LANORMA (WASHED) 2020-03-10       1080.0   \n",
       "                            4R         10.0      POTATO (WASHED) MONDIAL 2020-01-23       5470.0   \n",
       "                            4S         10.0      POTATO (WASHED) MONDIAL 2020-01-23       1440.0   \n",
       "                                                                         2020-06-19        835.0   \n",
       "                            4Z         10.0      POTATO (WASHED) MONDIAL 2020-06-19         20.0   \n",
       "\n",
       "                                                                                     Total_Qty_Sold  \\\n",
       "Province          Container Size_Grade Weight_Kg Commodities             Date                         \n",
       "                  A8075                7.5       HABANERO YELLOW         2020-07-01             2.0   \n",
       "                                                                         2020-07-08             4.0   \n",
       "                                                                         2020-07-09             4.0   \n",
       "                                                                         2020-07-14             3.0   \n",
       "                                                                         2020-07-20             2.0   \n",
       "...                                                                                             ...   \n",
       "WESTERN FREESTATE PP100     4M         10.0      POTATO LANORMA (WASHED) 2020-03-10           130.0   \n",
       "                            4R         10.0      POTATO (WASHED) MONDIAL 2020-01-23          1049.0   \n",
       "                            4S         10.0      POTATO (WASHED) MONDIAL 2020-01-23           288.0   \n",
       "                                                                         2020-06-19           167.0   \n",
       "                            4Z         10.0      POTATO (WASHED) MONDIAL 2020-06-19             1.0   \n",
       "\n",
       "                                                                                     Total_Kg_Sold  \\\n",
       "Province          Container Size_Grade Weight_Kg Commodities             Date                        \n",
       "                  A8075                7.5       HABANERO YELLOW         2020-07-01           15.0   \n",
       "                                                                         2020-07-08           30.0   \n",
       "                                                                         2020-07-09           30.0   \n",
       "                                                                         2020-07-14           22.5   \n",
       "                                                                         2020-07-20           15.0   \n",
       "...                                                                                            ...   \n",
       "WESTERN FREESTATE PP100     4M         10.0      POTATO LANORMA (WASHED) 2020-03-10         1300.0   \n",
       "                            4R         10.0      POTATO (WASHED) MONDIAL 2020-01-23        10490.0   \n",
       "                            4S         10.0      POTATO (WASHED) MONDIAL 2020-01-23         2880.0   \n",
       "                                                                         2020-06-19         1670.0   \n",
       "                            4Z         10.0      POTATO (WASHED) MONDIAL 2020-06-19           10.0   \n",
       "\n",
       "                                                                                     Stock_On_Hand  \n",
       "Province          Container Size_Grade Weight_Kg Commodities             Date                       \n",
       "                  A8075                7.5       HABANERO YELLOW         2020-07-01            6.0  \n",
       "                                                                         2020-07-08           12.0  \n",
       "                                                                         2020-07-09           12.0  \n",
       "                                                                         2020-07-14            2.0  \n",
       "                                                                         2020-07-20            0.0  \n",
       "...                                                                                            ...  \n",
       "WESTERN FREESTATE PP100     4M         10.0      POTATO LANORMA (WASHED) 2020-03-10            0.0  \n",
       "                            4R         10.0      POTATO (WASHED) MONDIAL 2020-01-23            0.0  \n",
       "                            4S         10.0      POTATO (WASHED) MONDIAL 2020-01-23            0.0  \n",
       "                                                                         2020-06-19            0.0  \n",
       "                            4Z         10.0      POTATO (WASHED) MONDIAL 2020-06-19          103.0  \n",
       "\n",
       "[90560 rows x 6 columns]"
      ]
     },
     "execution_count": 65,
     "metadata": {},
     "output_type": "execute_result"
    }
   ],
   "source": [
    "df"
   ]
  },
  {
   "cell_type": "code",
   "execution_count": 68,
   "metadata": {},
   "outputs": [],
   "source": [
    "df.reset_index(['Province', 'Container', 'Size_Grade', 'Weight_Kg', 'Commodities'], inplace=True)"
   ]
  },
  {
   "cell_type": "code",
   "execution_count": 70,
   "metadata": {},
   "outputs": [
    {
     "data": {
      "text/html": [
       "<div>\n",
       "<style scoped>\n",
       "    .dataframe tbody tr th:only-of-type {\n",
       "        vertical-align: middle;\n",
       "    }\n",
       "\n",
       "    .dataframe tbody tr th {\n",
       "        vertical-align: top;\n",
       "    }\n",
       "\n",
       "    .dataframe thead th {\n",
       "        text-align: right;\n",
       "    }\n",
       "</style>\n",
       "<table border=\"1\" class=\"dataframe\">\n",
       "  <thead>\n",
       "    <tr style=\"text-align: right;\">\n",
       "      <th></th>\n",
       "      <th>Province</th>\n",
       "      <th>Container</th>\n",
       "      <th>Size_Grade</th>\n",
       "      <th>Weight_Kg</th>\n",
       "      <th>Commodities</th>\n",
       "      <th>Low_Price</th>\n",
       "      <th>High_Price</th>\n",
       "      <th>Sales_Total</th>\n",
       "      <th>Total_Qty_Sold</th>\n",
       "      <th>Total_Kg_Sold</th>\n",
       "      <th>Stock_On_Hand</th>\n",
       "    </tr>\n",
       "    <tr>\n",
       "      <th>Date</th>\n",
       "      <th></th>\n",
       "      <th></th>\n",
       "      <th></th>\n",
       "      <th></th>\n",
       "      <th></th>\n",
       "      <th></th>\n",
       "      <th></th>\n",
       "      <th></th>\n",
       "      <th></th>\n",
       "      <th></th>\n",
       "      <th></th>\n",
       "    </tr>\n",
       "  </thead>\n",
       "  <tbody>\n",
       "    <tr>\n",
       "      <th>2020-07-01</th>\n",
       "      <td></td>\n",
       "      <td>A8075</td>\n",
       "      <td></td>\n",
       "      <td>7.5</td>\n",
       "      <td>HABANERO YELLOW</td>\n",
       "      <td>350.0</td>\n",
       "      <td>350.0</td>\n",
       "      <td>700.0</td>\n",
       "      <td>2.0</td>\n",
       "      <td>15.0</td>\n",
       "      <td>6.0</td>\n",
       "    </tr>\n",
       "    <tr>\n",
       "      <th>2020-07-08</th>\n",
       "      <td></td>\n",
       "      <td>A8075</td>\n",
       "      <td></td>\n",
       "      <td>7.5</td>\n",
       "      <td>HABANERO YELLOW</td>\n",
       "      <td>350.0</td>\n",
       "      <td>350.0</td>\n",
       "      <td>1400.0</td>\n",
       "      <td>4.0</td>\n",
       "      <td>30.0</td>\n",
       "      <td>12.0</td>\n",
       "    </tr>\n",
       "    <tr>\n",
       "      <th>2020-07-09</th>\n",
       "      <td></td>\n",
       "      <td>A8075</td>\n",
       "      <td></td>\n",
       "      <td>7.5</td>\n",
       "      <td>HABANERO YELLOW</td>\n",
       "      <td>350.0</td>\n",
       "      <td>350.0</td>\n",
       "      <td>1400.0</td>\n",
       "      <td>4.0</td>\n",
       "      <td>30.0</td>\n",
       "      <td>12.0</td>\n",
       "    </tr>\n",
       "    <tr>\n",
       "      <th>2020-07-14</th>\n",
       "      <td></td>\n",
       "      <td>A8075</td>\n",
       "      <td></td>\n",
       "      <td>7.5</td>\n",
       "      <td>HABANERO YELLOW</td>\n",
       "      <td>350.0</td>\n",
       "      <td>350.0</td>\n",
       "      <td>1050.0</td>\n",
       "      <td>3.0</td>\n",
       "      <td>22.5</td>\n",
       "      <td>2.0</td>\n",
       "    </tr>\n",
       "    <tr>\n",
       "      <th>2020-07-20</th>\n",
       "      <td></td>\n",
       "      <td>A8075</td>\n",
       "      <td></td>\n",
       "      <td>7.5</td>\n",
       "      <td>HABANERO YELLOW</td>\n",
       "      <td>300.0</td>\n",
       "      <td>320.0</td>\n",
       "      <td>620.0</td>\n",
       "      <td>2.0</td>\n",
       "      <td>15.0</td>\n",
       "      <td>0.0</td>\n",
       "    </tr>\n",
       "  </tbody>\n",
       "</table>\n",
       "</div>"
      ],
      "text/plain": [
       "           Province Container Size_Grade  Weight_Kg      Commodities  \\\n",
       "Date                                                                   \n",
       "2020-07-01              A8075                   7.5  HABANERO YELLOW   \n",
       "2020-07-08              A8075                   7.5  HABANERO YELLOW   \n",
       "2020-07-09              A8075                   7.5  HABANERO YELLOW   \n",
       "2020-07-14              A8075                   7.5  HABANERO YELLOW   \n",
       "2020-07-20              A8075                   7.5  HABANERO YELLOW   \n",
       "\n",
       "            Low_Price  High_Price  Sales_Total  Total_Qty_Sold  Total_Kg_Sold  \\\n",
       "Date                                                                            \n",
       "2020-07-01      350.0       350.0        700.0             2.0           15.0   \n",
       "2020-07-08      350.0       350.0       1400.0             4.0           30.0   \n",
       "2020-07-09      350.0       350.0       1400.0             4.0           30.0   \n",
       "2020-07-14      350.0       350.0       1050.0             3.0           22.5   \n",
       "2020-07-20      300.0       320.0        620.0             2.0           15.0   \n",
       "\n",
       "            Stock_On_Hand  \n",
       "Date                       \n",
       "2020-07-01            6.0  \n",
       "2020-07-08           12.0  \n",
       "2020-07-09           12.0  \n",
       "2020-07-14            2.0  \n",
       "2020-07-20            0.0  "
      ]
     },
     "execution_count": 70,
     "metadata": {},
     "output_type": "execute_result"
    }
   ],
   "source": [
    "df.head()"
   ]
  },
  {
   "cell_type": "code",
   "execution_count": null,
   "metadata": {},
   "outputs": [],
   "source": [
    "df['avg_per_kg'] = df['']"
   ]
  },
  {
   "cell_type": "code",
   "execution_count": null,
   "metadata": {},
   "outputs": [],
   "source": [
    "# Check which product is sold on a daily basis\n",
    "day_count = filtered_sales['Date'].nunique()\n"
   ]
  },
  {
   "cell_type": "code",
   "execution_count": null,
   "metadata": {},
   "outputs": [],
   "source": []
  },
  {
   "cell_type": "code",
   "execution_count": null,
   "metadata": {},
   "outputs": [],
   "source": []
  },
  {
   "cell_type": "code",
   "execution_count": null,
   "metadata": {},
   "outputs": [],
   "source": [
    "# Check which product is sold on a daily basis\n",
    "day_count = filtered_sales['Date'].nunique()\n",
    "filtered_sales.groupby(['Province', 'Container', 'Size_Grade', 'Weight_Kg', 'Commodities'])['Commodities'].value_counts().apply(lambda x: x / day_count).sort_values(ascending=False)"
   ]
  },
  {
   "cell_type": "code",
   "execution_count": null,
   "metadata": {},
   "outputs": [],
   "source": []
  },
  {
   "cell_type": "code",
   "execution_count": null,
   "metadata": {},
   "outputs": [],
   "source": []
  },
  {
   "cell_type": "code",
   "execution_count": null,
   "metadata": {},
   "outputs": [],
   "source": [
    "inventory = inventory[inventory['commodity'] == 'APPLES']\n",
    "sales = sales[sales['commodity'] == 'APPLES']"
   ]
  },
  {
   "cell_type": "code",
   "execution_count": null,
   "metadata": {},
   "outputs": [],
   "source": [
    "df = sales[sales['total_value_sold'] > 0]"
   ]
  },
  {
   "cell_type": "code",
   "execution_count": null,
   "metadata": {},
   "outputs": [],
   "source": [
    "df['container'].value_counts()"
   ]
  },
  {
   "cell_type": "code",
   "execution_count": null,
   "metadata": {},
   "outputs": [],
   "source": [
    "df[df['container'] == '18.50KG CARTON']['product_combination'].value_counts()"
   ]
  },
  {
   "cell_type": "code",
   "execution_count": null,
   "metadata": {},
   "outputs": [],
   "source": [
    "# 10KG POCKET will be the focus of this notebook since it's the most active\n",
    "len(df)"
   ]
  },
  {
   "cell_type": "code",
   "execution_count": null,
   "metadata": {},
   "outputs": [],
   "source": [
    "filtered_df = df[(df['container'] == '18.50KG CARTON') & (df['product_combination'] == 'GOLDEN DELICIOUS,CL 1,*,100,*')]"
   ]
  },
  {
   "cell_type": "code",
   "execution_count": null,
   "metadata": {},
   "outputs": [],
   "source": [
    "filtered_df.head()"
   ]
  },
  {
   "cell_type": "code",
   "execution_count": null,
   "metadata": {},
   "outputs": [],
   "source": [
    "price = filtered_df[['date', 'ave_per_kg']]"
   ]
  },
  {
   "cell_type": "code",
   "execution_count": null,
   "metadata": {},
   "outputs": [],
   "source": [
    "price.set_index('date', inplace=True)"
   ]
  },
  {
   "cell_type": "code",
   "execution_count": null,
   "metadata": {},
   "outputs": [],
   "source": [
    "price.head()"
   ]
  },
  {
   "cell_type": "code",
   "execution_count": null,
   "metadata": {},
   "outputs": [],
   "source": [
    "price.sort_index(inplace=True)"
   ]
  },
  {
   "cell_type": "code",
   "execution_count": null,
   "metadata": {},
   "outputs": [],
   "source": [
    "price.index"
   ]
  },
  {
   "cell_type": "markdown",
   "metadata": {},
   "source": [
    "The freq of the index is currently set to None, this will need to be changed to daily, since the frequency of the data is daily. Furthermore, since there is no data available for weekends, the freq has to be set to Business day (Mon-Fri), with a backfill method to account for those days when it is a holiday and no data updated. "
   ]
  },
  {
   "cell_type": "code",
   "execution_count": null,
   "metadata": {},
   "outputs": [],
   "source": [
    "price = price.asfreq('B', method='backfill')"
   ]
  },
  {
   "cell_type": "code",
   "execution_count": null,
   "metadata": {},
   "outputs": [],
   "source": [
    "price.index"
   ]
  },
  {
   "cell_type": "markdown",
   "metadata": {},
   "source": [
    "The index freq has been set to 'B' for business day with additional dates included like '2020-08-24' which the data was filled with the backfill method."
   ]
  },
  {
   "cell_type": "code",
   "execution_count": null,
   "metadata": {},
   "outputs": [],
   "source": [
    "ax = price.plot(figsize=(8,5), title=\"Average R/kg of GOLDEN DELICIOUS Class 1 Apples\")\n",
    "ax.set(ylabel='R/kg');"
   ]
  },
  {
   "cell_type": "markdown",
   "metadata": {},
   "source": [
    "## Introduction"
   ]
  },
  {
   "cell_type": "markdown",
   "metadata": {},
   "source": [
    "Due to competition, retailers aim to increase profits and reduce costs, increasing the profit margin for perishable food products. This means that avoiding costs due to lost sales, and because of the short-shelf life of their products, ensuring that there is no build up of inventory. Effecient forecasting system can result in reduced inventory, be flexible to changes and increase profits. \n",
    "\n",
    "Time series forecasting uses past observations of the same variable to develop a model describing the underlying relationship. The model is then used to extrapolate time series into the future. This approach is useful when there are no other explanatory variables influencing the generation of the underlying data. "
   ]
  },
  {
   "cell_type": "markdown",
   "metadata": {},
   "source": [
    "### Trend"
   ]
  },
  {
   "cell_type": "markdown",
   "metadata": {},
   "source": [
    "The Hodrick-Prescott filter is used to get the trend of the data. This approach separates the time-series into a trend component and a cyclical component."
   ]
  },
  {
   "cell_type": "code",
   "execution_count": null,
   "metadata": {},
   "outputs": [],
   "source": [
    "from statsmodels.tsa.filters.hp_filter import hpfilter"
   ]
  },
  {
   "cell_type": "code",
   "execution_count": null,
   "metadata": {},
   "outputs": [],
   "source": [
    "# Tuple unpacking\n",
    "price_cycle, price_trend = hpfilter(price)"
   ]
  },
  {
   "cell_type": "code",
   "execution_count": null,
   "metadata": {},
   "outputs": [],
   "source": [
    "price['trend'] = price_trend"
   ]
  },
  {
   "cell_type": "code",
   "execution_count": null,
   "metadata": {},
   "outputs": [],
   "source": [
    "ax = price[['trend','ave_per_kg']].plot()\n",
    "ax.autoscale(axis='x',tight=True);"
   ]
  },
  {
   "cell_type": "markdown",
   "metadata": {},
   "source": [
    "Method will probably work better once data is viewed on a monthly basis. For now the approach is acknowledged."
   ]
  },
  {
   "cell_type": "code",
   "execution_count": null,
   "metadata": {},
   "outputs": [],
   "source": [
    "del price['trend']"
   ]
  },
  {
   "cell_type": "markdown",
   "metadata": {},
   "source": [
    "### Seasonal Decomposition"
   ]
  },
  {
   "cell_type": "markdown",
   "metadata": {},
   "source": [
    "Time series decomposition involves the deconstruction of the time series data into the trend, seasonal and noise component."
   ]
  },
  {
   "cell_type": "code",
   "execution_count": null,
   "metadata": {},
   "outputs": [],
   "source": [
    "result = seasonal_decompose(price['ave_per_kg'], model='additive')  # model='mul' also works\n",
    "result.plot();"
   ]
  },
  {
   "cell_type": "markdown",
   "metadata": {},
   "source": [
    "From above, it can be seen that the trend component is much better than when using the Hodrick-Prescott filter. This might be due to the data having a daily frequency."
   ]
  },
  {
   "cell_type": "markdown",
   "metadata": {},
   "source": [
    "## Holt - Winters method"
   ]
  },
  {
   "cell_type": "markdown",
   "metadata": {},
   "source": [
    "Holt - Winters method is a generalized exponential smooothing method that incorporates **trend** and **seasonal** variation in the model. The model makes use of exponential weighting of the coefficients of past observations in order to give more weight to the most recent observations. "
   ]
  },
  {
   "cell_type": "code",
   "execution_count": null,
   "metadata": {},
   "outputs": [],
   "source": [
    "from statsmodels.tsa.holtwinters import ExponentialSmoothing"
   ]
  },
  {
   "cell_type": "code",
   "execution_count": null,
   "metadata": {},
   "outputs": [],
   "source": [
    "train_data = price.iloc[:-15]\n",
    "test_data = price.iloc[-15:]"
   ]
  },
  {
   "cell_type": "code",
   "execution_count": null,
   "metadata": {},
   "outputs": [],
   "source": [
    "model = ExponentialSmoothing(train_data['ave_per_kg'], trend='add',seasonal='add',seasonal_periods=7) \n",
    "fitted_model = model.fit()"
   ]
  },
  {
   "cell_type": "code",
   "execution_count": null,
   "metadata": {},
   "outputs": [],
   "source": [
    "test_predictions = fitted_model.forecast(15).rename('Forecast')"
   ]
  },
  {
   "cell_type": "code",
   "execution_count": null,
   "metadata": {},
   "outputs": [],
   "source": [
    "train_data['ave_per_kg'].plot(legend=True, label='TRAIN')\n",
    "test_data['ave_per_kg'].plot(legend=True, label='TEST')\n",
    "test_predictions.plot(legend=True, label='PREDICTION');"
   ]
  },
  {
   "cell_type": "code",
   "execution_count": null,
   "metadata": {},
   "outputs": [],
   "source": [
    "from sklearn.metrics import mean_squared_error"
   ]
  },
  {
   "cell_type": "code",
   "execution_count": null,
   "metadata": {},
   "outputs": [],
   "source": [
    "hw_pred = np.sqrt(mean_squared_error(test_data, test_predictions))"
   ]
  },
  {
   "cell_type": "code",
   "execution_count": null,
   "metadata": {},
   "outputs": [],
   "source": [
    "hw_pred"
   ]
  },
  {
   "cell_type": "markdown",
   "metadata": {},
   "source": [
    "## Autoregressive (AR) model"
   ]
  },
  {
   "cell_type": "markdown",
   "metadata": {},
   "source": [
    "The Holt-Winters method forecasts the variable of interest using a linear combination of predictors. These predictors are the set of level, trend and seasonal predictors. \n",
    "\n",
    "The autoregression model uses a linear combination of past values of the variable. This is a regression equation whereby the variable of interest is regressed against a set of it's lagged values of order $p$.\n",
    "\n",
    "### $y_{t} = c + \\phi_{1}y_{t-1} + \\phi_{2}y_{t-2} + \\dots + \\phi_{p}y_{t-p} + \\varepsilon_{t}$\n",
    "\n",
    "where $c$ is a constant, $\\phi_{1}$ and $\\phi_{2}$ are lag coefficients up to order $p$, and $\\varepsilon_{t}$ is white noise.\n",
    "\n",
    "For example, an <strong>AR(1)</strong> model would follow the formula\n",
    "\n",
    "&nbsp;&nbsp;&nbsp;&nbsp;$y_{t} = c + \\phi_{1}y_{t-1} + \\varepsilon_{t}$\n",
    "\n",
    "whereas an <strong>AR(2)</strong> model would follow the formula\n",
    "\n",
    "&nbsp;&nbsp;&nbsp;&nbsp;$y_{t} = c + \\phi_{1}y_{t-1} + \\phi_{2}y_{t-2} + \\varepsilon_{t}$\n",
    "\n",
    "and so on."
   ]
  },
  {
   "cell_type": "code",
   "execution_count": null,
   "metadata": {},
   "outputs": [],
   "source": [
    "# Import AR model\n",
    "from statsmodels.tsa.ar_model import AR"
   ]
  },
  {
   "cell_type": "code",
   "execution_count": null,
   "metadata": {},
   "outputs": [],
   "source": [
    "model = AR(train_data['ave_per_kg'])"
   ]
  },
  {
   "cell_type": "markdown",
   "metadata": {},
   "source": [
    "### AR(1) model"
   ]
  },
  {
   "cell_type": "code",
   "execution_count": null,
   "metadata": {},
   "outputs": [],
   "source": [
    "ar1 = model.fit(maxlag=1)"
   ]
  },
  {
   "cell_type": "code",
   "execution_count": null,
   "metadata": {},
   "outputs": [],
   "source": [
    "# This is the general format for obtaining predictions\n",
    "start=len(train_data)\n",
    "end=len(train_data)+len(test_data)-1\n",
    "predictions1 = ar1.predict(start=start, end=end, dynamic=False).rename('AR(1) Predictions')"
   ]
  },
  {
   "cell_type": "markdown",
   "metadata": {},
   "source": [
    "### AR(2) model"
   ]
  },
  {
   "cell_type": "code",
   "execution_count": null,
   "metadata": {},
   "outputs": [],
   "source": [
    "model = AR(train_data['ave_per_kg'])\n",
    "ar2 = model.fit(maxlag=2)\n",
    "predictions2 = ar2.predict(start=start, end=end, dynamic=False).rename('AR(2) Predictions')"
   ]
  },
  {
   "cell_type": "code",
   "execution_count": null,
   "metadata": {},
   "outputs": [],
   "source": [
    "test_data['ave_per_kg'].plot(legend=True)\n",
    "predictions1.plot(legend=True)\n",
    "predictions2.plot(legend=True);"
   ]
  },
  {
   "cell_type": "markdown",
   "metadata": {},
   "source": [
    "### AR(5) model"
   ]
  },
  {
   "cell_type": "code",
   "execution_count": null,
   "metadata": {},
   "outputs": [],
   "source": [
    "model = AR(train_data['ave_per_kg'])\n",
    "ar5 = model.fit(maxlag=5)\n",
    "predictions5 = ar5.predict(start=start, end=end, dynamic=False).rename('AR(5) Predictions')"
   ]
  },
  {
   "cell_type": "code",
   "execution_count": null,
   "metadata": {},
   "outputs": [],
   "source": [
    "test_data['ave_per_kg'].plot(legend=True)\n",
    "predictions1.plot(legend=True)\n",
    "predictions2.plot(legend=True)\n",
    "predictions5.plot(legend=True);"
   ]
  },
  {
   "cell_type": "code",
   "execution_count": null,
   "metadata": {},
   "outputs": [],
   "source": [
    "# Identify the best AR() model to use for forecasting\n",
    "model = AR(train_data['ave_per_kg'])\n",
    "arfit = model.fit()"
   ]
  },
  {
   "cell_type": "code",
   "execution_count": null,
   "metadata": {},
   "outputs": [],
   "source": [
    "arfit.params"
   ]
  },
  {
   "cell_type": "markdown",
   "metadata": {},
   "source": [
    "### AR(7) model"
   ]
  },
  {
   "cell_type": "code",
   "execution_count": null,
   "metadata": {},
   "outputs": [],
   "source": [
    "model = AR(train_data['ave_per_kg'])\n",
    "ar7 = model.fit(maxlag=7)\n",
    "predictions7 = ar7.predict(start=start, end=end, dynamic=False).rename('AR(7) Predictions')"
   ]
  },
  {
   "cell_type": "code",
   "execution_count": null,
   "metadata": {},
   "outputs": [],
   "source": [
    "test_data['ave_per_kg'].plot(legend=True)\n",
    "predictions5.plot(legend=True)\n",
    "predictions7.plot(legend=True);"
   ]
  },
  {
   "cell_type": "markdown",
   "metadata": {},
   "source": [
    "## Autoregressive Moving Average (ARMA) model"
   ]
  },
  {
   "cell_type": "markdown",
   "metadata": {},
   "source": [
    "ARMA model is a combination of two models, the AR model utilizing past values of the time series data, and the Moving Average (MA) model, which uses past values of the forecast errors. As seen earlier, this models can be also be used separately, or in this section, combined."
   ]
  },
  {
   "cell_type": "code",
   "execution_count": null,
   "metadata": {},
   "outputs": [],
   "source": []
  },
  {
   "cell_type": "code",
   "execution_count": null,
   "metadata": {},
   "outputs": [],
   "source": []
  },
  {
   "cell_type": "code",
   "execution_count": null,
   "metadata": {},
   "outputs": [],
   "source": []
  },
  {
   "cell_type": "markdown",
   "metadata": {},
   "source": [
    "## Autoregressive Integrated Moing Average (ARIMA) model"
   ]
  },
  {
   "cell_type": "code",
   "execution_count": null,
   "metadata": {},
   "outputs": [],
   "source": []
  },
  {
   "cell_type": "code",
   "execution_count": null,
   "metadata": {},
   "outputs": [],
   "source": []
  },
  {
   "cell_type": "code",
   "execution_count": null,
   "metadata": {},
   "outputs": [],
   "source": []
  }
 ],
 "metadata": {
  "kernelspec": {
   "display_name": "Python 3",
   "language": "python",
   "name": "python3"
  },
  "language_info": {
   "codemirror_mode": {
    "name": "ipython",
    "version": 3
   },
   "file_extension": ".py",
   "mimetype": "text/x-python",
   "name": "python",
   "nbconvert_exporter": "python",
   "pygments_lexer": "ipython3",
   "version": "3.7.6"
  }
 },
 "nbformat": 4,
 "nbformat_minor": 4
}
