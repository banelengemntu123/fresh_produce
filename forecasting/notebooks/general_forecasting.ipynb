{
 "cells": [
  {
   "cell_type": "code",
   "execution_count": 41,
   "metadata": {},
   "outputs": [],
   "source": [
    "import pandas as pd\n",
    "import numpy as np\n",
    "import requests\n",
    "import urllib\n",
    "\n",
    "from sqlalchemy import create_engine\n",
    "\n",
    "# Custom upload with connection string\n",
    "from engine_info import server_info\n",
    "\n",
    "import warnings\n",
    "warnings.filterwarnings('ignore')\n",
    "\n",
    "from matplotlib import rcParams"
   ]
  },
  {
   "cell_type": "code",
   "execution_count": 65,
   "metadata": {},
   "outputs": [],
   "source": [
    "rcParams['figure.figsize'] = 12,8"
   ]
  },
  {
   "cell_type": "code",
   "execution_count": 43,
   "metadata": {},
   "outputs": [],
   "source": [
    "from statsmodels.tsa.seasonal import seasonal_decompose"
   ]
  },
  {
   "cell_type": "code",
   "execution_count": 44,
   "metadata": {},
   "outputs": [],
   "source": [
    "# Creating a connection to MS SQL SERVER\n",
    "params = urllib.parse.quote_plus(server_info)\n",
    "engine = create_engine('mssql+pyodbc:///?odbc_connect=%s' % params)\n",
    "connection = engine.connect()"
   ]
  },
  {
   "cell_type": "code",
   "execution_count": 45,
   "metadata": {},
   "outputs": [],
   "source": [
    "# Upload sales data\n",
    "sales = pd.read_sql_table('Joburg_Fresh_produce_combined_cleaned', connection)"
   ]
  },
  {
   "cell_type": "markdown",
   "metadata": {},
   "source": [
    "## Data preparation"
   ]
  },
  {
   "cell_type": "code",
   "execution_count": 46,
   "metadata": {},
   "outputs": [
    {
     "data": {
      "text/html": [
       "<div>\n",
       "<style scoped>\n",
       "    .dataframe tbody tr th:only-of-type {\n",
       "        vertical-align: middle;\n",
       "    }\n",
       "\n",
       "    .dataframe tbody tr th {\n",
       "        vertical-align: top;\n",
       "    }\n",
       "\n",
       "    .dataframe thead th {\n",
       "        text-align: right;\n",
       "    }\n",
       "</style>\n",
       "<table border=\"1\" class=\"dataframe\">\n",
       "  <thead>\n",
       "    <tr style=\"text-align: right;\">\n",
       "      <th></th>\n",
       "      <th>rowid</th>\n",
       "      <th>date</th>\n",
       "      <th>commodity</th>\n",
       "      <th>container</th>\n",
       "      <th>unit_mass</th>\n",
       "      <th>product_combination</th>\n",
       "      <th>total_value_sold</th>\n",
       "      <th>total_qty_sold</th>\n",
       "      <th>total_kg_sold</th>\n",
       "      <th>average</th>\n",
       "      <th>highest_price</th>\n",
       "      <th>ave_per_kg</th>\n",
       "      <th>highest_price_per_kg</th>\n",
       "    </tr>\n",
       "  </thead>\n",
       "  <tbody>\n",
       "    <tr>\n",
       "      <th>0</th>\n",
       "      <td>1</td>\n",
       "      <td>2020-08-20</td>\n",
       "      <td>AMADUMBE</td>\n",
       "      <td>20KG POCKET</td>\n",
       "      <td>20</td>\n",
       "      <td>*,*,L,*,*</td>\n",
       "      <td>0.0</td>\n",
       "      <td>0</td>\n",
       "      <td>0.0</td>\n",
       "      <td>0.0</td>\n",
       "      <td>0.0</td>\n",
       "      <td>0.0</td>\n",
       "      <td>0.0</td>\n",
       "    </tr>\n",
       "    <tr>\n",
       "      <th>1</th>\n",
       "      <td>2</td>\n",
       "      <td>2020-08-20</td>\n",
       "      <td>APPLES</td>\n",
       "      <td>10 X 1KG ECONO PACK CARTON</td>\n",
       "      <td>10</td>\n",
       "      <td>GOLDEN DELICIOUS,CL 1,*,*,*</td>\n",
       "      <td>100.0</td>\n",
       "      <td>1</td>\n",
       "      <td>10.0</td>\n",
       "      <td>100.0</td>\n",
       "      <td>100.0</td>\n",
       "      <td>10.0</td>\n",
       "      <td>10.0</td>\n",
       "    </tr>\n",
       "    <tr>\n",
       "      <th>2</th>\n",
       "      <td>3</td>\n",
       "      <td>2020-08-20</td>\n",
       "      <td>APPLES</td>\n",
       "      <td>10 X 1KG ECONO PACK CARTON</td>\n",
       "      <td>10</td>\n",
       "      <td>ROYAL GALA,CL 1,*,*,*</td>\n",
       "      <td>0.0</td>\n",
       "      <td>0</td>\n",
       "      <td>0.0</td>\n",
       "      <td>0.0</td>\n",
       "      <td>0.0</td>\n",
       "      <td>0.0</td>\n",
       "      <td>0.0</td>\n",
       "    </tr>\n",
       "    <tr>\n",
       "      <th>3</th>\n",
       "      <td>4</td>\n",
       "      <td>2020-08-20</td>\n",
       "      <td>APPLES</td>\n",
       "      <td>11KG JUMBLE CARTON</td>\n",
       "      <td>11</td>\n",
       "      <td>GOLDEN DELICIOUS,CL 2,L,*,*</td>\n",
       "      <td>0.0</td>\n",
       "      <td>0</td>\n",
       "      <td>0.0</td>\n",
       "      <td>0.0</td>\n",
       "      <td>0.0</td>\n",
       "      <td>0.0</td>\n",
       "      <td>0.0</td>\n",
       "    </tr>\n",
       "    <tr>\n",
       "      <th>4</th>\n",
       "      <td>5</td>\n",
       "      <td>2020-08-20</td>\n",
       "      <td>APPLES</td>\n",
       "      <td>11KG JUMBLE CARTON</td>\n",
       "      <td>11</td>\n",
       "      <td>TOPRED,CL 2,L,*,*</td>\n",
       "      <td>0.0</td>\n",
       "      <td>0</td>\n",
       "      <td>0.0</td>\n",
       "      <td>0.0</td>\n",
       "      <td>0.0</td>\n",
       "      <td>0.0</td>\n",
       "      <td>0.0</td>\n",
       "    </tr>\n",
       "  </tbody>\n",
       "</table>\n",
       "</div>"
      ],
      "text/plain": [
       "   rowid       date commodity                   container  unit_mass  \\\n",
       "0      1 2020-08-20  AMADUMBE                 20KG POCKET         20   \n",
       "1      2 2020-08-20    APPLES  10 X 1KG ECONO PACK CARTON         10   \n",
       "2      3 2020-08-20    APPLES  10 X 1KG ECONO PACK CARTON         10   \n",
       "3      4 2020-08-20    APPLES          11KG JUMBLE CARTON         11   \n",
       "4      5 2020-08-20    APPLES          11KG JUMBLE CARTON         11   \n",
       "\n",
       "           product_combination  total_value_sold  total_qty_sold  \\\n",
       "0                    *,*,L,*,*               0.0               0   \n",
       "1  GOLDEN DELICIOUS,CL 1,*,*,*             100.0               1   \n",
       "2        ROYAL GALA,CL 1,*,*,*               0.0               0   \n",
       "3  GOLDEN DELICIOUS,CL 2,L,*,*               0.0               0   \n",
       "4            TOPRED,CL 2,L,*,*               0.0               0   \n",
       "\n",
       "   total_kg_sold  average  highest_price  ave_per_kg  highest_price_per_kg  \n",
       "0            0.0      0.0            0.0         0.0                   0.0  \n",
       "1           10.0    100.0          100.0        10.0                  10.0  \n",
       "2            0.0      0.0            0.0         0.0                   0.0  \n",
       "3            0.0      0.0            0.0         0.0                   0.0  \n",
       "4            0.0      0.0            0.0         0.0                   0.0  "
      ]
     },
     "execution_count": 46,
     "metadata": {},
     "output_type": "execute_result"
    }
   ],
   "source": [
    "sales.head()"
   ]
  },
  {
   "cell_type": "code",
   "execution_count": 47,
   "metadata": {},
   "outputs": [
    {
     "data": {
      "text/plain": [
       "55423"
      ]
     },
     "execution_count": 47,
     "metadata": {},
     "output_type": "execute_result"
    }
   ],
   "source": [
    "len(sales)"
   ]
  },
  {
   "cell_type": "code",
   "execution_count": 48,
   "metadata": {},
   "outputs": [],
   "source": [
    "# Upload inventory data\n",
    "inventory = pd.read_sql_table('Joburg_Fresh_produce_container_cleaned', connection)"
   ]
  },
  {
   "cell_type": "code",
   "execution_count": 49,
   "metadata": {},
   "outputs": [
    {
     "data": {
      "text/html": [
       "<div>\n",
       "<style scoped>\n",
       "    .dataframe tbody tr th:only-of-type {\n",
       "        vertical-align: middle;\n",
       "    }\n",
       "\n",
       "    .dataframe tbody tr th {\n",
       "        vertical-align: top;\n",
       "    }\n",
       "\n",
       "    .dataframe thead th {\n",
       "        text-align: right;\n",
       "    }\n",
       "</style>\n",
       "<table border=\"1\" class=\"dataframe\">\n",
       "  <thead>\n",
       "    <tr style=\"text-align: right;\">\n",
       "      <th></th>\n",
       "      <th>rowid</th>\n",
       "      <th>date</th>\n",
       "      <th>commodity</th>\n",
       "      <th>container</th>\n",
       "      <th>qty_available</th>\n",
       "      <th>average_price_per_kg</th>\n",
       "      <th>MTD_total_value_sold_(R)</th>\n",
       "      <th>total_value_sold_(R)</th>\n",
       "      <th>Total_quatity_sold</th>\n",
       "      <th>MTD_Total_quatity_sold</th>\n",
       "      <th>Total_kg_sold</th>\n",
       "      <th>MTD_total_kg_sold</th>\n",
       "    </tr>\n",
       "  </thead>\n",
       "  <tbody>\n",
       "    <tr>\n",
       "      <th>0</th>\n",
       "      <td>1</td>\n",
       "      <td>20 August 2020</td>\n",
       "      <td>AMADUMBE</td>\n",
       "      <td>20KG POCKET</td>\n",
       "      <td>2</td>\n",
       "      <td>0.00</td>\n",
       "      <td>39870.0</td>\n",
       "      <td>0.0</td>\n",
       "      <td>0.0</td>\n",
       "      <td>97.0</td>\n",
       "      <td>0.0</td>\n",
       "      <td>1940.0</td>\n",
       "    </tr>\n",
       "    <tr>\n",
       "      <th>1</th>\n",
       "      <td>2</td>\n",
       "      <td>20 August 2020</td>\n",
       "      <td>APPLES</td>\n",
       "      <td>10 X 1KG ECONO PACK CARTON</td>\n",
       "      <td>17</td>\n",
       "      <td>10.00</td>\n",
       "      <td>41932.0</td>\n",
       "      <td>100.0</td>\n",
       "      <td>1.0</td>\n",
       "      <td>547.0</td>\n",
       "      <td>10.0</td>\n",
       "      <td>5470.0</td>\n",
       "    </tr>\n",
       "    <tr>\n",
       "      <th>2</th>\n",
       "      <td>3</td>\n",
       "      <td>20 August 2020</td>\n",
       "      <td>APPLES</td>\n",
       "      <td>11KG JUMBLE CARTON</td>\n",
       "      <td>343</td>\n",
       "      <td>6.36</td>\n",
       "      <td>218914.0</td>\n",
       "      <td>1190.0</td>\n",
       "      <td>17.0</td>\n",
       "      <td>3170.0</td>\n",
       "      <td>187.0</td>\n",
       "      <td>34870.0</td>\n",
       "    </tr>\n",
       "    <tr>\n",
       "      <th>3</th>\n",
       "      <td>4</td>\n",
       "      <td>20 August 2020</td>\n",
       "      <td>APPLES</td>\n",
       "      <td>12 X 1KG ECONO PACK CARTON</td>\n",
       "      <td>3233</td>\n",
       "      <td>7.86</td>\n",
       "      <td>1454572.0</td>\n",
       "      <td>40738.0</td>\n",
       "      <td>432.0</td>\n",
       "      <td>17353.0</td>\n",
       "      <td>5184.0</td>\n",
       "      <td>208236.0</td>\n",
       "    </tr>\n",
       "    <tr>\n",
       "      <th>4</th>\n",
       "      <td>5</td>\n",
       "      <td>20 August 2020</td>\n",
       "      <td>APPLES</td>\n",
       "      <td>12.5KG M6 CARTON</td>\n",
       "      <td>12</td>\n",
       "      <td>0.00</td>\n",
       "      <td>16903.0</td>\n",
       "      <td>0.0</td>\n",
       "      <td>0.0</td>\n",
       "      <td>286.0</td>\n",
       "      <td>0.0</td>\n",
       "      <td>3575.0</td>\n",
       "    </tr>\n",
       "  </tbody>\n",
       "</table>\n",
       "</div>"
      ],
      "text/plain": [
       "   rowid            date commodity                   container  qty_available  \\\n",
       "0      1  20 August 2020  AMADUMBE                 20KG POCKET              2   \n",
       "1      2  20 August 2020    APPLES  10 X 1KG ECONO PACK CARTON             17   \n",
       "2      3  20 August 2020    APPLES          11KG JUMBLE CARTON            343   \n",
       "3      4  20 August 2020    APPLES  12 X 1KG ECONO PACK CARTON           3233   \n",
       "4      5  20 August 2020    APPLES            12.5KG M6 CARTON             12   \n",
       "\n",
       "   average_price_per_kg  MTD_total_value_sold_(R)  total_value_sold_(R)  \\\n",
       "0                  0.00                   39870.0                   0.0   \n",
       "1                 10.00                   41932.0                 100.0   \n",
       "2                  6.36                  218914.0                1190.0   \n",
       "3                  7.86                 1454572.0               40738.0   \n",
       "4                  0.00                   16903.0                   0.0   \n",
       "\n",
       "   Total_quatity_sold  MTD_Total_quatity_sold  Total_kg_sold  \\\n",
       "0                 0.0                    97.0            0.0   \n",
       "1                 1.0                   547.0           10.0   \n",
       "2                17.0                  3170.0          187.0   \n",
       "3               432.0                 17353.0         5184.0   \n",
       "4                 0.0                   286.0            0.0   \n",
       "\n",
       "   MTD_total_kg_sold  \n",
       "0             1940.0  \n",
       "1             5470.0  \n",
       "2            34870.0  \n",
       "3           208236.0  \n",
       "4             3575.0  "
      ]
     },
     "execution_count": 49,
     "metadata": {},
     "output_type": "execute_result"
    }
   ],
   "source": [
    "inventory.head()"
   ]
  },
  {
   "cell_type": "markdown",
   "metadata": {},
   "source": [
    "For the purpose of this notebook, analysis will focus on potatoes."
   ]
  },
  {
   "cell_type": "code",
   "execution_count": 50,
   "metadata": {},
   "outputs": [],
   "source": [
    "inventory = inventory[inventory['commodity'] == 'APPLES']\n",
    "sales = sales[sales['commodity'] == 'APPLES']"
   ]
  },
  {
   "cell_type": "code",
   "execution_count": 51,
   "metadata": {},
   "outputs": [],
   "source": [
    "df = sales[sales['total_value_sold'] > 0]"
   ]
  },
  {
   "cell_type": "code",
   "execution_count": 52,
   "metadata": {},
   "outputs": [
    {
     "data": {
      "text/plain": [
       "18.50KG CARTON                  1560\n",
       "8 X 1.5KG ECONO PACK CARTON      798\n",
       "9KG JUMBLE CARTON                713\n",
       "12 X 1KG ECONO PACK CARTON       140\n",
       "11KG JUMBLE CARTON               137\n",
       "300KG BULK BIN                   100\n",
       "3KG POCKET                        75\n",
       "3 KG ECONO PACK BOX               22\n",
       "6 X 1.5KG ECONO PACK CARTON       17\n",
       "500G PUNNET PACK BOX               9\n",
       "1.5KG ECONO PACK                   9\n",
       "3KG ECONO PACK                     8\n",
       "7 X 1.5 KG ECONO PACK CARTON       7\n",
       "10 X 1KG ECONO PACK CARTON         7\n",
       "11KG DOUBLE LAYER                  7\n",
       "8 X 1 KG ECONO PACK CARTON         4\n",
       "12.5KG M6 CARTON                   3\n",
       "12.50KG MARK 9                     2\n",
       "8KG BOX                            1\n",
       "12.5KG M6 CONTAINER                1\n",
       "5KG JUMBLE CARTON                  1\n",
       "18 X 1KG ECONO PACK CARTON         1\n",
       "18KG CARTON                        1\n",
       "Name: container, dtype: int64"
      ]
     },
     "execution_count": 52,
     "metadata": {},
     "output_type": "execute_result"
    }
   ],
   "source": [
    "df['container'].value_counts()"
   ]
  },
  {
   "cell_type": "code",
   "execution_count": 53,
   "metadata": {},
   "outputs": [
    {
     "data": {
      "text/plain": [
       "GOLDEN DELICIOUS,CL 1,*,100,*    27\n",
       "GOLDEN DELICIOUS,CL 1,*,80,*     26\n",
       "FUJI,CL 1,*,80,*                 26\n",
       "STARKING,CL 1,*,80,*             26\n",
       "GOLDEN DELICIOUS,CL 1,*,90,*     26\n",
       "                                 ..\n",
       "AFRICAN CARMINE,CL 1,*,110,*      1\n",
       "PINK LADY,CL 1,*,90,*             1\n",
       "GRANNY SMITH,CL 2,*,70,*          1\n",
       "GRANNY SMITH,CL 1,*,165,*         1\n",
       "TOPRED,CL 2,*,100,*               1\n",
       "Name: product_combination, Length: 151, dtype: int64"
      ]
     },
     "execution_count": 53,
     "metadata": {},
     "output_type": "execute_result"
    }
   ],
   "source": [
    "df[df['container'] == '18.50KG CARTON']['product_combination'].value_counts()"
   ]
  },
  {
   "cell_type": "code",
   "execution_count": 54,
   "metadata": {},
   "outputs": [
    {
     "data": {
      "text/plain": [
       "3623"
      ]
     },
     "execution_count": 54,
     "metadata": {},
     "output_type": "execute_result"
    }
   ],
   "source": [
    "# 10KG POCKET will be the focus of this notebook since it's the most active\n",
    "len(df)"
   ]
  },
  {
   "cell_type": "code",
   "execution_count": 55,
   "metadata": {},
   "outputs": [],
   "source": [
    "filtered_df = df[(df['container'] == '18.50KG CARTON') & (df['product_combination'] == 'GOLDEN DELICIOUS,CL 1,*,100,*')]"
   ]
  },
  {
   "cell_type": "code",
   "execution_count": 56,
   "metadata": {},
   "outputs": [
    {
     "data": {
      "text/html": [
       "<div>\n",
       "<style scoped>\n",
       "    .dataframe tbody tr th:only-of-type {\n",
       "        vertical-align: middle;\n",
       "    }\n",
       "\n",
       "    .dataframe tbody tr th {\n",
       "        vertical-align: top;\n",
       "    }\n",
       "\n",
       "    .dataframe thead th {\n",
       "        text-align: right;\n",
       "    }\n",
       "</style>\n",
       "<table border=\"1\" class=\"dataframe\">\n",
       "  <thead>\n",
       "    <tr style=\"text-align: right;\">\n",
       "      <th></th>\n",
       "      <th>rowid</th>\n",
       "      <th>date</th>\n",
       "      <th>commodity</th>\n",
       "      <th>container</th>\n",
       "      <th>unit_mass</th>\n",
       "      <th>product_combination</th>\n",
       "      <th>total_value_sold</th>\n",
       "      <th>total_qty_sold</th>\n",
       "      <th>total_kg_sold</th>\n",
       "      <th>average</th>\n",
       "      <th>highest_price</th>\n",
       "      <th>ave_per_kg</th>\n",
       "      <th>highest_price_per_kg</th>\n",
       "    </tr>\n",
       "  </thead>\n",
       "  <tbody>\n",
       "    <tr>\n",
       "      <th>76</th>\n",
       "      <td>77</td>\n",
       "      <td>2020-08-20</td>\n",
       "      <td>APPLES</td>\n",
       "      <td>18.50KG CARTON</td>\n",
       "      <td>18</td>\n",
       "      <td>GOLDEN DELICIOUS,CL 1,*,100,*</td>\n",
       "      <td>18270.0</td>\n",
       "      <td>104</td>\n",
       "      <td>1924.0</td>\n",
       "      <td>175.67</td>\n",
       "      <td>200.0</td>\n",
       "      <td>9.50</td>\n",
       "      <td>10.81</td>\n",
       "    </tr>\n",
       "    <tr>\n",
       "      <th>2240</th>\n",
       "      <td>2241</td>\n",
       "      <td>2020-08-21</td>\n",
       "      <td>APPLES</td>\n",
       "      <td>18.50KG CARTON</td>\n",
       "      <td>18</td>\n",
       "      <td>GOLDEN DELICIOUS,CL 1,*,100,*</td>\n",
       "      <td>7998.0</td>\n",
       "      <td>43</td>\n",
       "      <td>795.5</td>\n",
       "      <td>186.00</td>\n",
       "      <td>200.0</td>\n",
       "      <td>10.05</td>\n",
       "      <td>10.81</td>\n",
       "    </tr>\n",
       "    <tr>\n",
       "      <th>4315</th>\n",
       "      <td>4316</td>\n",
       "      <td>2020-08-25</td>\n",
       "      <td>APPLES</td>\n",
       "      <td>18.50KG CARTON</td>\n",
       "      <td>18</td>\n",
       "      <td>GOLDEN DELICIOUS,CL 1,*,100,*</td>\n",
       "      <td>17350.0</td>\n",
       "      <td>101</td>\n",
       "      <td>1868.5</td>\n",
       "      <td>171.78</td>\n",
       "      <td>190.0</td>\n",
       "      <td>9.29</td>\n",
       "      <td>10.27</td>\n",
       "    </tr>\n",
       "    <tr>\n",
       "      <th>5860</th>\n",
       "      <td>51428</td>\n",
       "      <td>2020-09-26</td>\n",
       "      <td>APPLES</td>\n",
       "      <td>18.50KG CARTON</td>\n",
       "      <td>18</td>\n",
       "      <td>GOLDEN DELICIOUS,CL 1,*,100,*</td>\n",
       "      <td>4000.0</td>\n",
       "      <td>22</td>\n",
       "      <td>407.0</td>\n",
       "      <td>181.82</td>\n",
       "      <td>190.0</td>\n",
       "      <td>9.83</td>\n",
       "      <td>10.27</td>\n",
       "    </tr>\n",
       "    <tr>\n",
       "      <th>7810</th>\n",
       "      <td>53378</td>\n",
       "      <td>2020-09-28</td>\n",
       "      <td>APPLES</td>\n",
       "      <td>18.50KG CARTON</td>\n",
       "      <td>18</td>\n",
       "      <td>GOLDEN DELICIOUS,CL 1,*,100,*</td>\n",
       "      <td>8100.0</td>\n",
       "      <td>45</td>\n",
       "      <td>832.5</td>\n",
       "      <td>180.00</td>\n",
       "      <td>200.0</td>\n",
       "      <td>9.73</td>\n",
       "      <td>10.81</td>\n",
       "    </tr>\n",
       "  </tbody>\n",
       "</table>\n",
       "</div>"
      ],
      "text/plain": [
       "      rowid       date commodity       container  unit_mass  \\\n",
       "76       77 2020-08-20    APPLES  18.50KG CARTON         18   \n",
       "2240   2241 2020-08-21    APPLES  18.50KG CARTON         18   \n",
       "4315   4316 2020-08-25    APPLES  18.50KG CARTON         18   \n",
       "5860  51428 2020-09-26    APPLES  18.50KG CARTON         18   \n",
       "7810  53378 2020-09-28    APPLES  18.50KG CARTON         18   \n",
       "\n",
       "                product_combination  total_value_sold  total_qty_sold  \\\n",
       "76    GOLDEN DELICIOUS,CL 1,*,100,*           18270.0             104   \n",
       "2240  GOLDEN DELICIOUS,CL 1,*,100,*            7998.0              43   \n",
       "4315  GOLDEN DELICIOUS,CL 1,*,100,*           17350.0             101   \n",
       "5860  GOLDEN DELICIOUS,CL 1,*,100,*            4000.0              22   \n",
       "7810  GOLDEN DELICIOUS,CL 1,*,100,*            8100.0              45   \n",
       "\n",
       "      total_kg_sold  average  highest_price  ave_per_kg  highest_price_per_kg  \n",
       "76           1924.0   175.67          200.0        9.50                 10.81  \n",
       "2240          795.5   186.00          200.0       10.05                 10.81  \n",
       "4315         1868.5   171.78          190.0        9.29                 10.27  \n",
       "5860          407.0   181.82          190.0        9.83                 10.27  \n",
       "7810          832.5   180.00          200.0        9.73                 10.81  "
      ]
     },
     "execution_count": 56,
     "metadata": {},
     "output_type": "execute_result"
    }
   ],
   "source": [
    "filtered_df.head()"
   ]
  },
  {
   "cell_type": "code",
   "execution_count": 57,
   "metadata": {},
   "outputs": [],
   "source": [
    "price = filtered_df[['date', 'ave_per_kg']]"
   ]
  },
  {
   "cell_type": "code",
   "execution_count": 58,
   "metadata": {},
   "outputs": [],
   "source": [
    "price.set_index('date', inplace=True)"
   ]
  },
  {
   "cell_type": "code",
   "execution_count": 59,
   "metadata": {},
   "outputs": [
    {
     "data": {
      "text/html": [
       "<div>\n",
       "<style scoped>\n",
       "    .dataframe tbody tr th:only-of-type {\n",
       "        vertical-align: middle;\n",
       "    }\n",
       "\n",
       "    .dataframe tbody tr th {\n",
       "        vertical-align: top;\n",
       "    }\n",
       "\n",
       "    .dataframe thead th {\n",
       "        text-align: right;\n",
       "    }\n",
       "</style>\n",
       "<table border=\"1\" class=\"dataframe\">\n",
       "  <thead>\n",
       "    <tr style=\"text-align: right;\">\n",
       "      <th></th>\n",
       "      <th>ave_per_kg</th>\n",
       "    </tr>\n",
       "    <tr>\n",
       "      <th>date</th>\n",
       "      <th></th>\n",
       "    </tr>\n",
       "  </thead>\n",
       "  <tbody>\n",
       "    <tr>\n",
       "      <th>2020-08-20</th>\n",
       "      <td>9.50</td>\n",
       "    </tr>\n",
       "    <tr>\n",
       "      <th>2020-08-21</th>\n",
       "      <td>10.05</td>\n",
       "    </tr>\n",
       "    <tr>\n",
       "      <th>2020-08-25</th>\n",
       "      <td>9.29</td>\n",
       "    </tr>\n",
       "    <tr>\n",
       "      <th>2020-09-26</th>\n",
       "      <td>9.83</td>\n",
       "    </tr>\n",
       "    <tr>\n",
       "      <th>2020-09-28</th>\n",
       "      <td>9.73</td>\n",
       "    </tr>\n",
       "  </tbody>\n",
       "</table>\n",
       "</div>"
      ],
      "text/plain": [
       "            ave_per_kg\n",
       "date                  \n",
       "2020-08-20        9.50\n",
       "2020-08-21       10.05\n",
       "2020-08-25        9.29\n",
       "2020-09-26        9.83\n",
       "2020-09-28        9.73"
      ]
     },
     "execution_count": 59,
     "metadata": {},
     "output_type": "execute_result"
    }
   ],
   "source": [
    "price.head()"
   ]
  },
  {
   "cell_type": "code",
   "execution_count": 60,
   "metadata": {},
   "outputs": [],
   "source": [
    "price.sort_index(inplace=True)"
   ]
  },
  {
   "cell_type": "code",
   "execution_count": 61,
   "metadata": {},
   "outputs": [
    {
     "data": {
      "text/plain": [
       "DatetimeIndex(['2020-08-20', '2020-08-21', '2020-08-25', '2020-08-26',\n",
       "               '2020-08-27', '2020-08-28', '2020-08-31', '2020-09-01',\n",
       "               '2020-09-02', '2020-09-03', '2020-09-04', '2020-09-08',\n",
       "               '2020-09-09', '2020-09-10', '2020-09-11', '2020-09-14',\n",
       "               '2020-09-15', '2020-09-16', '2020-09-17', '2020-09-19',\n",
       "               '2020-09-21', '2020-09-22', '2020-09-23', '2020-09-24',\n",
       "               '2020-09-26', '2020-09-28', '2020-09-29'],\n",
       "              dtype='datetime64[ns]', name='date', freq=None)"
      ]
     },
     "execution_count": 61,
     "metadata": {},
     "output_type": "execute_result"
    }
   ],
   "source": [
    "price.index"
   ]
  },
  {
   "cell_type": "markdown",
   "metadata": {},
   "source": [
    "The freq of the index is currently set to None, this will need to be changed to daily, since the frequency of the data is daily. Furthermore, since there is no data available for weekends, the freq has to be set to Business day (Mon-Fri), with a backfill method to account for those days when it is a holiday and no data updated. "
   ]
  },
  {
   "cell_type": "code",
   "execution_count": 62,
   "metadata": {},
   "outputs": [],
   "source": [
    "price = price.asfreq('B', method='backfill')"
   ]
  },
  {
   "cell_type": "code",
   "execution_count": 63,
   "metadata": {},
   "outputs": [
    {
     "data": {
      "text/plain": [
       "DatetimeIndex(['2020-08-20', '2020-08-21', '2020-08-24', '2020-08-25',\n",
       "               '2020-08-26', '2020-08-27', '2020-08-28', '2020-08-31',\n",
       "               '2020-09-01', '2020-09-02', '2020-09-03', '2020-09-04',\n",
       "               '2020-09-07', '2020-09-08', '2020-09-09', '2020-09-10',\n",
       "               '2020-09-11', '2020-09-14', '2020-09-15', '2020-09-16',\n",
       "               '2020-09-17', '2020-09-18', '2020-09-21', '2020-09-22',\n",
       "               '2020-09-23', '2020-09-24', '2020-09-25', '2020-09-28',\n",
       "               '2020-09-29'],\n",
       "              dtype='datetime64[ns]', name='date', freq='B')"
      ]
     },
     "execution_count": 63,
     "metadata": {},
     "output_type": "execute_result"
    }
   ],
   "source": [
    "price.index"
   ]
  },
  {
   "cell_type": "markdown",
   "metadata": {},
   "source": [
    "The index freq has been set to 'B' for business day with additional dates included like '2020-08-24' which the data was filled with the backfill method."
   ]
  },
  {
   "cell_type": "code",
   "execution_count": 64,
   "metadata": {},
   "outputs": [
    {
     "data": {
      "image/png": "[encoded data removed]",
      "text/plain": [
       "<Figure size 576x360 with 1 Axes>"
      ]
     },
     "metadata": {
      "needs_background": "light"
     },
     "output_type": "display_data"
    }
   ],
   "source": [
    "ax = price.plot(figsize=(8,5), title=\"Average R/kg of GOLDEN DELICIOUS Class 1 Apples\")\n",
    "ax.set(ylabel='R/kg');"
   ]
  },
  {
   "cell_type": "markdown",
   "metadata": {},
   "source": [
    "## Introduction"
   ]
  },
  {
   "cell_type": "markdown",
   "metadata": {},
   "source": [
    "Due to competition, retailers aim to increase profits and reduce costs, increasing the profit margin for perishable food products. This means that avoiding costs due to lost sales, and because of the short-shelf life of their products, ensuring that there is no build up of inventory. Effecient forecasting system can result in reduced inventory, be flexible to changes and increase profits. \n",
    "\n",
    "Time series forecasting uses past observations of the same variable to develop a model describing the underlying relationship. The model is then used to extrapolate time series into the future. This approach is useful when there are no other explanatory variables influencing the generation of the underlying data. "
   ]
  },
  {
   "cell_type": "markdown",
   "metadata": {},
   "source": [
    "### Trend"
   ]
  },
  {
   "cell_type": "markdown",
   "metadata": {},
   "source": [
    "The Hodrick-Prescott filter is used to get the trend of the data. This approach separates the time-series into a trend component and a cyclical component."
   ]
  },
  {
   "cell_type": "code",
   "execution_count": 66,
   "metadata": {},
   "outputs": [],
   "source": [
    "from statsmodels.tsa.filters.hp_filter import hpfilter"
   ]
  },
  {
   "cell_type": "code",
   "execution_count": 67,
   "metadata": {},
   "outputs": [],
   "source": [
    "# Tuple unpacking\n",
    "price_cycle, price_trend = hpfilter(price)"
   ]
  },
  {
   "cell_type": "code",
   "execution_count": 68,
   "metadata": {},
   "outputs": [],
   "source": [
    "price['trend'] = price_trend"
   ]
  },
  {
   "cell_type": "code",
   "execution_count": 69,
   "metadata": {},
   "outputs": [
    {
     "data": {
      "image/png": "[encoded data removed]",
      "text/plain": [
       "<Figure size 864x576 with 1 Axes>"
      ]
     },
     "metadata": {
      "needs_background": "light"
     },
     "output_type": "display_data"
    }
   ],
   "source": [
    "ax = price[['trend','ave_per_kg']].plot()\n",
    "ax.autoscale(axis='x',tight=True);"
   ]
  },
  {
   "cell_type": "markdown",
   "metadata": {},
   "source": [
    "Method will probably work better once data is viewed on a monthly basis. For now the approach is acknowledged."
   ]
  },
  {
   "cell_type": "code",
   "execution_count": 70,
   "metadata": {},
   "outputs": [],
   "source": [
    "del price['trend']"
   ]
  },
  {
   "cell_type": "markdown",
   "metadata": {},
   "source": [
    "### Seasonal Decomposition"
   ]
  },
  {
   "cell_type": "markdown",
   "metadata": {},
   "source": [
    "Time series decomposition involves the deconstruction of the time series data into the trend, seasonal and noise component."
   ]
  },
  {
   "cell_type": "code",
   "execution_count": 71,
   "metadata": {},
   "outputs": [
    {
     "data": {
      "image/png": "[encoded data removed]",
      "text/plain": [
       "<Figure size 864x576 with 4 Axes>"
      ]
     },
     "metadata": {
      "needs_background": "light"
     },
     "output_type": "display_data"
    }
   ],
   "source": [
    "result = seasonal_decompose(price['ave_per_kg'], model='additive')  # model='mul' also works\n",
    "result.plot();"
   ]
  },
  {
   "cell_type": "markdown",
   "metadata": {},
   "source": [
    "From above, it can be seen that the trend component is much better than when using the Hodrick-Prescott filter. This might be due to the data having a daily frequency."
   ]
  },
  {
   "cell_type": "markdown",
   "metadata": {},
   "source": [
    "## Holt - Winters method"
   ]
  },
  {
   "cell_type": "markdown",
   "metadata": {},
   "source": [
    "Holt - Winters method is a generalized exponential smooothing method that incorporates **trend** and **seasonal** variation in the model. The model makes use of exponential weighting of the coefficients of past observations in order to give more weight to the most recent observations. "
   ]
  },
  {
   "cell_type": "code",
   "execution_count": 72,
   "metadata": {},
   "outputs": [],
   "source": [
    "from statsmodels.tsa.holtwinters import ExponentialSmoothing"
   ]
  },
  {
   "cell_type": "code",
   "execution_count": 73,
   "metadata": {},
   "outputs": [],
   "source": [
    "train_data = price.iloc[:-15]\n",
    "test_data = price.iloc[-15:]"
   ]
  },
  {
   "cell_type": "code",
   "execution_count": 74,
   "metadata": {},
   "outputs": [],
   "source": [
    "model = ExponentialSmoothing(train_data['ave_per_kg'], trend='add',seasonal='add',seasonal_periods=7) \n",
    "fitted_model = model.fit()"
   ]
  },
  {
   "cell_type": "code",
   "execution_count": 75,
   "metadata": {},
   "outputs": [],
   "source": [
    "test_predictions = fitted_model.forecast(15).rename('Forecast')"
   ]
  },
  {
   "cell_type": "code",
   "execution_count": 83,
   "metadata": {},
   "outputs": [
    {
     "data": {
      "image/png": "[encoded data removed]",
      "text/plain": [
       "<Figure size 864x576 with 1 Axes>"
      ]
     },
     "metadata": {
      "needs_background": "light"
     },
     "output_type": "display_data"
    }
   ],
   "source": [
    "train_data['ave_per_kg'].plot(legend=True, label='TRAIN')\n",
    "test_data['ave_per_kg'].plot(legend=True, label='TEST')\n",
    "test_predictions.plot(legend=True, label='PREDICTION');"
   ]
  },
  {
   "cell_type": "code",
   "execution_count": 77,
   "metadata": {},
   "outputs": [],
   "source": [
    "from sklearn.metrics import mean_squared_error"
   ]
  },
  {
   "cell_type": "code",
   "execution_count": 78,
   "metadata": {},
   "outputs": [],
   "source": [
    "hw_pred = np.sqrt(mean_squared_error(test_data, test_predictions))"
   ]
  },
  {
   "cell_type": "code",
   "execution_count": 79,
   "metadata": {},
   "outputs": [
    {
     "data": {
      "text/plain": [
       "0.7784460552212608"
      ]
     },
     "execution_count": 79,
     "metadata": {},
     "output_type": "execute_result"
    }
   ],
   "source": [
    "hw_pred"
   ]
  },
  {
   "cell_type": "markdown",
   "metadata": {},
   "source": [
    "## Autoregressive (AR) model"
   ]
  },
  {
   "cell_type": "markdown",
   "metadata": {},
   "source": [
    "The Holt-Winters method forecasts the variable of interest using a linear combination of predictors. These predictors are the set of level, trend and seasonal predictors. \n",
    "\n",
    "The autoregression model uses a linear combination of past values of the variable. This is a regression equation whereby the variable of interest is regressed against a set of it's lagged values of order $p$.\n",
    "\n",
    "### $y_{t} = c + \\phi_{1}y_{t-1} + \\phi_{2}y_{t-2} + \\dots + \\phi_{p}y_{t-p} + \\varepsilon_{t}$\n",
    "\n",
    "where $c$ is a constant, $\\phi_{1}$ and $\\phi_{2}$ are lag coefficients up to order $p$, and $\\varepsilon_{t}$ is white noise.\n",
    "\n",
    "For example, an <strong>AR(1)</strong> model would follow the formula\n",
    "\n",
    "&nbsp;&nbsp;&nbsp;&nbsp;$y_{t} = c + \\phi_{1}y_{t-1} + \\varepsilon_{t}$\n",
    "\n",
    "whereas an <strong>AR(2)</strong> model would follow the formula\n",
    "\n",
    "&nbsp;&nbsp;&nbsp;&nbsp;$y_{t} = c + \\phi_{1}y_{t-1} + \\phi_{2}y_{t-2} + \\varepsilon_{t}$\n",
    "\n",
    "and so on."
   ]
  },
  {
   "cell_type": "code",
   "execution_count": 80,
   "metadata": {},
   "outputs": [],
   "source": [
    "# Import AR model\n",
    "from statsmodels.tsa.ar_model import AR"
   ]
  },
  {
   "cell_type": "code",
   "execution_count": 81,
   "metadata": {},
   "outputs": [],
   "source": [
    "model = AR(train_data['ave_per_kg'])"
   ]
  },
  {
   "cell_type": "code",
   "execution_count": 82,
   "metadata": {},
   "outputs": [],
   "source": [
    "ar1 = model.fit(maxlag=1, method='mle')"
   ]
  },
  {
   "cell_type": "code",
   "execution_count": null,
   "metadata": {},
   "outputs": [],
   "source": []
  },
  {
   "cell_type": "markdown",
   "metadata": {},
   "source": [
    "## Autoregressive Moving Average (ARMA) model"
   ]
  },
  {
   "cell_type": "markdown",
   "metadata": {},
   "source": [
    "ARMA model is a combination of two models, the AR model utilizing past values of the time series data, and the Moving Average (MA) model, which uses past values of the forecast errors. As seen earlier, this models can be also be used separately, or in this section, combined."
   ]
  },
  {
   "cell_type": "code",
   "execution_count": null,
   "metadata": {},
   "outputs": [],
   "source": []
  },
  {
   "cell_type": "code",
   "execution_count": null,
   "metadata": {},
   "outputs": [],
   "source": []
  },
  {
   "cell_type": "code",
   "execution_count": null,
   "metadata": {},
   "outputs": [],
   "source": []
  },
  {
   "cell_type": "markdown",
   "metadata": {},
   "source": [
    "## Autoregressive Integrated Moing Average (ARIMA) model"
   ]
  },
  {
   "cell_type": "code",
   "execution_count": null,
   "metadata": {},
   "outputs": [],
   "source": []
  },
  {
   "cell_type": "code",
   "execution_count": null,
   "metadata": {},
   "outputs": [],
   "source": []
  },
  {
   "cell_type": "code",
   "execution_count": null,
   "metadata": {},
   "outputs": [],
   "source": []
  }
 ],
 "metadata": {
  "kernelspec": {
   "display_name": "Python 3",
   "language": "python",
   "name": "python3"
  },
  "language_info": {
   "codemirror_mode": {
    "name": "ipython",
    "version": 3
   },
   "file_extension": ".py",
   "mimetype": "text/x-python",
   "name": "python",
   "nbconvert_exporter": "python",
   "pygments_lexer": "ipython3",
   "version": "3.7.6"
  }
 },
 "nbformat": 4,
 "nbformat_minor": 4
}
