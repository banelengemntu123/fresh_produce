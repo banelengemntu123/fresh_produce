{
 "cells": [
  {
   "cell_type": "code",
   "execution_count": 1,
   "metadata": {},
   "outputs": [],
   "source": [
    "import pandas as pd\n",
    "import requests\n",
    "import urllib\n",
    "\n",
    "from sqlalchemy import create_engine\n",
    "\n",
    "# Custom upload with connection string\n",
    "from engine_info import server_info\n",
    "\n",
    "import warnings\n",
    "warnings.filterwarnings('ignore')"
   ]
  },
  {
   "cell_type": "code",
   "execution_count": 31,
   "metadata": {},
   "outputs": [],
   "source": [
    "from statsmodels.tsa.seasonal import seasonal_decompose"
   ]
  },
  {
   "cell_type": "code",
   "execution_count": 2,
   "metadata": {},
   "outputs": [],
   "source": [
    "# Creating a connection to MS SQL SERVER\n",
    "params = urllib.parse.quote_plus(server_info)\n",
    "engine = create_engine('mssql+pyodbc:///?odbc_connect=%s' % params)\n",
    "connection = engine.connect()"
   ]
  },
  {
   "cell_type": "code",
   "execution_count": 3,
   "metadata": {},
   "outputs": [],
   "source": [
    "# Upload sales data\n",
    "sales = pd.read_sql_table('Joburg_Fresh_produce_combined_cleaned', connection)"
   ]
  },
  {
   "cell_type": "code",
   "execution_count": 4,
   "metadata": {},
   "outputs": [
    {
     "data": {
      "text/html": [
       "<div>\n",
       "<style scoped>\n",
       "    .dataframe tbody tr th:only-of-type {\n",
       "        vertical-align: middle;\n",
       "    }\n",
       "\n",
       "    .dataframe tbody tr th {\n",
       "        vertical-align: top;\n",
       "    }\n",
       "\n",
       "    .dataframe thead th {\n",
       "        text-align: right;\n",
       "    }\n",
       "</style>\n",
       "<table border=\"1\" class=\"dataframe\">\n",
       "  <thead>\n",
       "    <tr style=\"text-align: right;\">\n",
       "      <th></th>\n",
       "      <th>rowid</th>\n",
       "      <th>date</th>\n",
       "      <th>commodity</th>\n",
       "      <th>container</th>\n",
       "      <th>unit_mass</th>\n",
       "      <th>product_combination</th>\n",
       "      <th>total_value_sold</th>\n",
       "      <th>total_qty_sold</th>\n",
       "      <th>total_kg_sold</th>\n",
       "      <th>average</th>\n",
       "      <th>highest_price</th>\n",
       "      <th>ave_per_kg</th>\n",
       "      <th>highest_price_per_kg</th>\n",
       "    </tr>\n",
       "  </thead>\n",
       "  <tbody>\n",
       "    <tr>\n",
       "      <th>0</th>\n",
       "      <td>1</td>\n",
       "      <td>2020-08-20</td>\n",
       "      <td>AMADUMBE</td>\n",
       "      <td>20KG POCKET</td>\n",
       "      <td>20</td>\n",
       "      <td>*,*,L,*,*</td>\n",
       "      <td>0.0</td>\n",
       "      <td>0</td>\n",
       "      <td>0.0</td>\n",
       "      <td>0.0</td>\n",
       "      <td>0.0</td>\n",
       "      <td>0.0</td>\n",
       "      <td>0.0</td>\n",
       "    </tr>\n",
       "    <tr>\n",
       "      <th>1</th>\n",
       "      <td>2</td>\n",
       "      <td>2020-08-20</td>\n",
       "      <td>APPLES</td>\n",
       "      <td>10 X 1KG ECONO PACK CARTON</td>\n",
       "      <td>10</td>\n",
       "      <td>GOLDEN DELICIOUS,CL 1,*,*,*</td>\n",
       "      <td>100.0</td>\n",
       "      <td>1</td>\n",
       "      <td>10.0</td>\n",
       "      <td>100.0</td>\n",
       "      <td>100.0</td>\n",
       "      <td>10.0</td>\n",
       "      <td>10.0</td>\n",
       "    </tr>\n",
       "    <tr>\n",
       "      <th>2</th>\n",
       "      <td>3</td>\n",
       "      <td>2020-08-20</td>\n",
       "      <td>APPLES</td>\n",
       "      <td>10 X 1KG ECONO PACK CARTON</td>\n",
       "      <td>10</td>\n",
       "      <td>ROYAL GALA,CL 1,*,*,*</td>\n",
       "      <td>0.0</td>\n",
       "      <td>0</td>\n",
       "      <td>0.0</td>\n",
       "      <td>0.0</td>\n",
       "      <td>0.0</td>\n",
       "      <td>0.0</td>\n",
       "      <td>0.0</td>\n",
       "    </tr>\n",
       "    <tr>\n",
       "      <th>3</th>\n",
       "      <td>4</td>\n",
       "      <td>2020-08-20</td>\n",
       "      <td>APPLES</td>\n",
       "      <td>11KG JUMBLE CARTON</td>\n",
       "      <td>11</td>\n",
       "      <td>GOLDEN DELICIOUS,CL 2,L,*,*</td>\n",
       "      <td>0.0</td>\n",
       "      <td>0</td>\n",
       "      <td>0.0</td>\n",
       "      <td>0.0</td>\n",
       "      <td>0.0</td>\n",
       "      <td>0.0</td>\n",
       "      <td>0.0</td>\n",
       "    </tr>\n",
       "    <tr>\n",
       "      <th>4</th>\n",
       "      <td>5</td>\n",
       "      <td>2020-08-20</td>\n",
       "      <td>APPLES</td>\n",
       "      <td>11KG JUMBLE CARTON</td>\n",
       "      <td>11</td>\n",
       "      <td>TOPRED,CL 2,L,*,*</td>\n",
       "      <td>0.0</td>\n",
       "      <td>0</td>\n",
       "      <td>0.0</td>\n",
       "      <td>0.0</td>\n",
       "      <td>0.0</td>\n",
       "      <td>0.0</td>\n",
       "      <td>0.0</td>\n",
       "    </tr>\n",
       "  </tbody>\n",
       "</table>\n",
       "</div>"
      ],
      "text/plain": [
       "   rowid       date commodity                   container  unit_mass  \\\n",
       "0      1 2020-08-20  AMADUMBE                 20KG POCKET         20   \n",
       "1      2 2020-08-20    APPLES  10 X 1KG ECONO PACK CARTON         10   \n",
       "2      3 2020-08-20    APPLES  10 X 1KG ECONO PACK CARTON         10   \n",
       "3      4 2020-08-20    APPLES          11KG JUMBLE CARTON         11   \n",
       "4      5 2020-08-20    APPLES          11KG JUMBLE CARTON         11   \n",
       "\n",
       "           product_combination  total_value_sold  total_qty_sold  \\\n",
       "0                    *,*,L,*,*               0.0               0   \n",
       "1  GOLDEN DELICIOUS,CL 1,*,*,*             100.0               1   \n",
       "2        ROYAL GALA,CL 1,*,*,*               0.0               0   \n",
       "3  GOLDEN DELICIOUS,CL 2,L,*,*               0.0               0   \n",
       "4            TOPRED,CL 2,L,*,*               0.0               0   \n",
       "\n",
       "   total_kg_sold  average  highest_price  ave_per_kg  highest_price_per_kg  \n",
       "0            0.0      0.0            0.0         0.0                   0.0  \n",
       "1           10.0    100.0          100.0        10.0                  10.0  \n",
       "2            0.0      0.0            0.0         0.0                   0.0  \n",
       "3            0.0      0.0            0.0         0.0                   0.0  \n",
       "4            0.0      0.0            0.0         0.0                   0.0  "
      ]
     },
     "execution_count": 4,
     "metadata": {},
     "output_type": "execute_result"
    }
   ],
   "source": [
    "sales.head()"
   ]
  },
  {
   "cell_type": "code",
   "execution_count": 5,
   "metadata": {},
   "outputs": [
    {
     "data": {
      "text/plain": [
       "55423"
      ]
     },
     "execution_count": 5,
     "metadata": {},
     "output_type": "execute_result"
    }
   ],
   "source": [
    "len(sales)"
   ]
  },
  {
   "cell_type": "code",
   "execution_count": 6,
   "metadata": {},
   "outputs": [],
   "source": [
    "# Upload inventory data\n",
    "inventory = pd.read_sql_table('Joburg_Fresh_produce_container_cleaned', connection)"
   ]
  },
  {
   "cell_type": "code",
   "execution_count": 7,
   "metadata": {},
   "outputs": [
    {
     "data": {
      "text/html": [
       "<div>\n",
       "<style scoped>\n",
       "    .dataframe tbody tr th:only-of-type {\n",
       "        vertical-align: middle;\n",
       "    }\n",
       "\n",
       "    .dataframe tbody tr th {\n",
       "        vertical-align: top;\n",
       "    }\n",
       "\n",
       "    .dataframe thead th {\n",
       "        text-align: right;\n",
       "    }\n",
       "</style>\n",
       "<table border=\"1\" class=\"dataframe\">\n",
       "  <thead>\n",
       "    <tr style=\"text-align: right;\">\n",
       "      <th></th>\n",
       "      <th>rowid</th>\n",
       "      <th>date</th>\n",
       "      <th>commodity</th>\n",
       "      <th>container</th>\n",
       "      <th>qty_available</th>\n",
       "      <th>average_price_per_kg</th>\n",
       "      <th>MTD_total_value_sold_(R)</th>\n",
       "      <th>total_value_sold_(R)</th>\n",
       "      <th>Total_quatity_sold</th>\n",
       "      <th>MTD_Total_quatity_sold</th>\n",
       "      <th>Total_kg_sold</th>\n",
       "      <th>MTD_total_kg_sold</th>\n",
       "    </tr>\n",
       "  </thead>\n",
       "  <tbody>\n",
       "    <tr>\n",
       "      <th>0</th>\n",
       "      <td>1</td>\n",
       "      <td>20 August 2020</td>\n",
       "      <td>AMADUMBE</td>\n",
       "      <td>20KG POCKET</td>\n",
       "      <td>2</td>\n",
       "      <td>0.00</td>\n",
       "      <td>39870.0</td>\n",
       "      <td>0.0</td>\n",
       "      <td>0.0</td>\n",
       "      <td>97.0</td>\n",
       "      <td>0.0</td>\n",
       "      <td>1940.0</td>\n",
       "    </tr>\n",
       "    <tr>\n",
       "      <th>1</th>\n",
       "      <td>2</td>\n",
       "      <td>20 August 2020</td>\n",
       "      <td>APPLES</td>\n",
       "      <td>10 X 1KG ECONO PACK CARTON</td>\n",
       "      <td>17</td>\n",
       "      <td>10.00</td>\n",
       "      <td>41932.0</td>\n",
       "      <td>100.0</td>\n",
       "      <td>1.0</td>\n",
       "      <td>547.0</td>\n",
       "      <td>10.0</td>\n",
       "      <td>5470.0</td>\n",
       "    </tr>\n",
       "    <tr>\n",
       "      <th>2</th>\n",
       "      <td>3</td>\n",
       "      <td>20 August 2020</td>\n",
       "      <td>APPLES</td>\n",
       "      <td>11KG JUMBLE CARTON</td>\n",
       "      <td>343</td>\n",
       "      <td>6.36</td>\n",
       "      <td>218914.0</td>\n",
       "      <td>1190.0</td>\n",
       "      <td>17.0</td>\n",
       "      <td>3170.0</td>\n",
       "      <td>187.0</td>\n",
       "      <td>34870.0</td>\n",
       "    </tr>\n",
       "    <tr>\n",
       "      <th>3</th>\n",
       "      <td>4</td>\n",
       "      <td>20 August 2020</td>\n",
       "      <td>APPLES</td>\n",
       "      <td>12 X 1KG ECONO PACK CARTON</td>\n",
       "      <td>3233</td>\n",
       "      <td>7.86</td>\n",
       "      <td>1454572.0</td>\n",
       "      <td>40738.0</td>\n",
       "      <td>432.0</td>\n",
       "      <td>17353.0</td>\n",
       "      <td>5184.0</td>\n",
       "      <td>208236.0</td>\n",
       "    </tr>\n",
       "    <tr>\n",
       "      <th>4</th>\n",
       "      <td>5</td>\n",
       "      <td>20 August 2020</td>\n",
       "      <td>APPLES</td>\n",
       "      <td>12.5KG M6 CARTON</td>\n",
       "      <td>12</td>\n",
       "      <td>0.00</td>\n",
       "      <td>16903.0</td>\n",
       "      <td>0.0</td>\n",
       "      <td>0.0</td>\n",
       "      <td>286.0</td>\n",
       "      <td>0.0</td>\n",
       "      <td>3575.0</td>\n",
       "    </tr>\n",
       "  </tbody>\n",
       "</table>\n",
       "</div>"
      ],
      "text/plain": [
       "   rowid            date commodity                   container  qty_available  \\\n",
       "0      1  20 August 2020  AMADUMBE                 20KG POCKET              2   \n",
       "1      2  20 August 2020    APPLES  10 X 1KG ECONO PACK CARTON             17   \n",
       "2      3  20 August 2020    APPLES          11KG JUMBLE CARTON            343   \n",
       "3      4  20 August 2020    APPLES  12 X 1KG ECONO PACK CARTON           3233   \n",
       "4      5  20 August 2020    APPLES            12.5KG M6 CARTON             12   \n",
       "\n",
       "   average_price_per_kg  MTD_total_value_sold_(R)  total_value_sold_(R)  \\\n",
       "0                  0.00                   39870.0                   0.0   \n",
       "1                 10.00                   41932.0                 100.0   \n",
       "2                  6.36                  218914.0                1190.0   \n",
       "3                  7.86                 1454572.0               40738.0   \n",
       "4                  0.00                   16903.0                   0.0   \n",
       "\n",
       "   Total_quatity_sold  MTD_Total_quatity_sold  Total_kg_sold  \\\n",
       "0                 0.0                    97.0            0.0   \n",
       "1                 1.0                   547.0           10.0   \n",
       "2                17.0                  3170.0          187.0   \n",
       "3               432.0                 17353.0         5184.0   \n",
       "4                 0.0                   286.0            0.0   \n",
       "\n",
       "   MTD_total_kg_sold  \n",
       "0             1940.0  \n",
       "1             5470.0  \n",
       "2            34870.0  \n",
       "3           208236.0  \n",
       "4             3575.0  "
      ]
     },
     "execution_count": 7,
     "metadata": {},
     "output_type": "execute_result"
    }
   ],
   "source": [
    "inventory.head()"
   ]
  },
  {
   "cell_type": "markdown",
   "metadata": {},
   "source": [
    "For the purpose of this notebook, analysis will focus on potatoes."
   ]
  },
  {
   "cell_type": "code",
   "execution_count": 8,
   "metadata": {},
   "outputs": [],
   "source": [
    "inventory = inventory[inventory['commodity'] == 'POTATOES']\n",
    "sales = sales[sales['commodity'] == 'POTATOES']"
   ]
  },
  {
   "cell_type": "code",
   "execution_count": 127,
   "metadata": {},
   "outputs": [],
   "source": [
    "df = sales[sales['total_value_sold'] > 0]"
   ]
  },
  {
   "cell_type": "code",
   "execution_count": 128,
   "metadata": {},
   "outputs": [
    {
     "data": {
      "text/plain": [
       "10KG POCKET    6144\n",
       "7KG POCKET      553\n",
       "2KG POCKET        6\n",
       "3KG POCKET        6\n",
       "4KG POCKET        2\n",
       "Name: container, dtype: int64"
      ]
     },
     "execution_count": 128,
     "metadata": {},
     "output_type": "execute_result"
    }
   ],
   "source": [
    "df['container'].value_counts()"
   ]
  },
  {
   "cell_type": "code",
   "execution_count": 129,
   "metadata": {},
   "outputs": [
    {
     "data": {
      "text/plain": [
       "6711"
      ]
     },
     "execution_count": 129,
     "metadata": {},
     "output_type": "execute_result"
    }
   ],
   "source": [
    "# 10KG POCKET will be the focus of this notebook since it's the most active\n",
    "len(df)"
   ]
  },
  {
   "cell_type": "code",
   "execution_count": 156,
   "metadata": {},
   "outputs": [],
   "source": [
    "price = df[['date', 'ave_per_kg']]"
   ]
  },
  {
   "cell_type": "code",
   "execution_count": 157,
   "metadata": {},
   "outputs": [
    {
     "data": {
      "text/html": [
       "<div>\n",
       "<style scoped>\n",
       "    .dataframe tbody tr th:only-of-type {\n",
       "        vertical-align: middle;\n",
       "    }\n",
       "\n",
       "    .dataframe tbody tr th {\n",
       "        vertical-align: top;\n",
       "    }\n",
       "\n",
       "    .dataframe thead th {\n",
       "        text-align: right;\n",
       "    }\n",
       "</style>\n",
       "<table border=\"1\" class=\"dataframe\">\n",
       "  <thead>\n",
       "    <tr style=\"text-align: right;\">\n",
       "      <th></th>\n",
       "      <th>date</th>\n",
       "      <th>ave_per_kg</th>\n",
       "    </tr>\n",
       "  </thead>\n",
       "  <tbody>\n",
       "    <tr>\n",
       "      <th>1532</th>\n",
       "      <td>2020-08-20</td>\n",
       "      <td>6.0</td>\n",
       "    </tr>\n",
       "    <tr>\n",
       "      <th>1533</th>\n",
       "      <td>2020-08-20</td>\n",
       "      <td>6.4</td>\n",
       "    </tr>\n",
       "    <tr>\n",
       "      <th>1535</th>\n",
       "      <td>2020-08-20</td>\n",
       "      <td>5.8</td>\n",
       "    </tr>\n",
       "    <tr>\n",
       "      <th>1536</th>\n",
       "      <td>2020-08-20</td>\n",
       "      <td>5.8</td>\n",
       "    </tr>\n",
       "    <tr>\n",
       "      <th>1538</th>\n",
       "      <td>2020-08-20</td>\n",
       "      <td>5.2</td>\n",
       "    </tr>\n",
       "  </tbody>\n",
       "</table>\n",
       "</div>"
      ],
      "text/plain": [
       "           date  ave_per_kg\n",
       "1532 2020-08-20         6.0\n",
       "1533 2020-08-20         6.4\n",
       "1535 2020-08-20         5.8\n",
       "1536 2020-08-20         5.8\n",
       "1538 2020-08-20         5.2"
      ]
     },
     "execution_count": 157,
     "metadata": {},
     "output_type": "execute_result"
    }
   ],
   "source": [
    "price.head()"
   ]
  },
  {
   "cell_type": "code",
   "execution_count": 158,
   "metadata": {},
   "outputs": [],
   "source": [
    "price = price.groupby('date')['ave_per_kg'].mean()"
   ]
  },
  {
   "cell_type": "code",
   "execution_count": 159,
   "metadata": {},
   "outputs": [],
   "source": [
    "price = pd.DataFrame(price)"
   ]
  },
  {
   "cell_type": "code",
   "execution_count": 160,
   "metadata": {},
   "outputs": [
    {
     "data": {
      "image/png": "[encoded data removed]",
      "text/plain": [
       "<Figure size 576x360 with 1 Axes>"
      ]
     },
     "metadata": {
      "needs_background": "light"
     },
     "output_type": "display_data"
    }
   ],
   "source": [
    "ax = price.plot(figsize=(8,5), title=\"Average prices of potatoes\")\n",
    "ax.set(ylabel='R/kg');"
   ]
  },
  {
   "cell_type": "markdown",
   "metadata": {},
   "source": [
    "### Seasonal Decomposition"
   ]
  },
  {
   "cell_type": "markdown",
   "metadata": {},
   "source": [
    "Time series decomposition involves the deconstruction of the time series data into the trend, seasonal and noise component."
   ]
  },
  {
   "cell_type": "code",
   "execution_count": 161,
   "metadata": {},
   "outputs": [
    {
     "data": {
      "text/plain": [
       "DatetimeIndex(['2020-08-20', '2020-08-21', '2020-08-25', '2020-08-26',\n",
       "               '2020-08-27', '2020-08-28', '2020-08-31', '2020-09-01',\n",
       "               '2020-09-02', '2020-09-03', '2020-09-04', '2020-09-08',\n",
       "               '2020-09-09', '2020-09-10', '2020-09-11', '2020-09-14',\n",
       "               '2020-09-15', '2020-09-16', '2020-09-17', '2020-09-19',\n",
       "               '2020-09-21', '2020-09-22', '2020-09-23', '2020-09-24',\n",
       "               '2020-09-26', '2020-09-28', '2020-09-29'],\n",
       "              dtype='datetime64[ns]', name='date', freq=None)"
      ]
     },
     "execution_count": 161,
     "metadata": {},
     "output_type": "execute_result"
    }
   ],
   "source": [
    "price.index"
   ]
  },
  {
   "cell_type": "code",
   "execution_count": 162,
   "metadata": {},
   "outputs": [],
   "source": [
    "price = price.asfreq('B', method='backfill')"
   ]
  },
  {
   "cell_type": "code",
   "execution_count": 163,
   "metadata": {},
   "outputs": [
    {
     "data": {
      "text/plain": [
       "DatetimeIndex(['2020-08-20', '2020-08-21', '2020-08-24', '2020-08-25',\n",
       "               '2020-08-26', '2020-08-27', '2020-08-28', '2020-08-31',\n",
       "               '2020-09-01', '2020-09-02', '2020-09-03', '2020-09-04',\n",
       "               '2020-09-07', '2020-09-08', '2020-09-09', '2020-09-10',\n",
       "               '2020-09-11', '2020-09-14', '2020-09-15', '2020-09-16',\n",
       "               '2020-09-17', '2020-09-18', '2020-09-21', '2020-09-22',\n",
       "               '2020-09-23', '2020-09-24', '2020-09-25', '2020-09-28',\n",
       "               '2020-09-29'],\n",
       "              dtype='datetime64[ns]', name='date', freq='B')"
      ]
     },
     "execution_count": 163,
     "metadata": {},
     "output_type": "execute_result"
    }
   ],
   "source": [
    "price.index"
   ]
  },
  {
   "cell_type": "code",
   "execution_count": 164,
   "metadata": {},
   "outputs": [
    {
     "data": {
      "text/html": [
       "<div>\n",
       "<style scoped>\n",
       "    .dataframe tbody tr th:only-of-type {\n",
       "        vertical-align: middle;\n",
       "    }\n",
       "\n",
       "    .dataframe tbody tr th {\n",
       "        vertical-align: top;\n",
       "    }\n",
       "\n",
       "    .dataframe thead th {\n",
       "        text-align: right;\n",
       "    }\n",
       "</style>\n",
       "<table border=\"1\" class=\"dataframe\">\n",
       "  <thead>\n",
       "    <tr style=\"text-align: right;\">\n",
       "      <th></th>\n",
       "      <th>ave_per_kg</th>\n",
       "    </tr>\n",
       "    <tr>\n",
       "      <th>date</th>\n",
       "      <th></th>\n",
       "    </tr>\n",
       "  </thead>\n",
       "  <tbody>\n",
       "    <tr>\n",
       "      <th>2020-08-20</th>\n",
       "      <td>5.412214</td>\n",
       "    </tr>\n",
       "    <tr>\n",
       "      <th>2020-08-21</th>\n",
       "      <td>5.607088</td>\n",
       "    </tr>\n",
       "    <tr>\n",
       "      <th>2020-08-24</th>\n",
       "      <td>5.975543</td>\n",
       "    </tr>\n",
       "    <tr>\n",
       "      <th>2020-08-25</th>\n",
       "      <td>5.975543</td>\n",
       "    </tr>\n",
       "    <tr>\n",
       "      <th>2020-08-26</th>\n",
       "      <td>5.655556</td>\n",
       "    </tr>\n",
       "    <tr>\n",
       "      <th>2020-08-27</th>\n",
       "      <td>5.659358</td>\n",
       "    </tr>\n",
       "    <tr>\n",
       "      <th>2020-08-28</th>\n",
       "      <td>5.501912</td>\n",
       "    </tr>\n",
       "    <tr>\n",
       "      <th>2020-08-31</th>\n",
       "      <td>5.584049</td>\n",
       "    </tr>\n",
       "    <tr>\n",
       "      <th>2020-09-01</th>\n",
       "      <td>5.811263</td>\n",
       "    </tr>\n",
       "    <tr>\n",
       "      <th>2020-09-02</th>\n",
       "      <td>5.837074</td>\n",
       "    </tr>\n",
       "    <tr>\n",
       "      <th>2020-09-03</th>\n",
       "      <td>5.805987</td>\n",
       "    </tr>\n",
       "    <tr>\n",
       "      <th>2020-09-04</th>\n",
       "      <td>6.000141</td>\n",
       "    </tr>\n",
       "    <tr>\n",
       "      <th>2020-09-07</th>\n",
       "      <td>6.197636</td>\n",
       "    </tr>\n",
       "    <tr>\n",
       "      <th>2020-09-08</th>\n",
       "      <td>6.197636</td>\n",
       "    </tr>\n",
       "    <tr>\n",
       "      <th>2020-09-09</th>\n",
       "      <td>6.290038</td>\n",
       "    </tr>\n",
       "    <tr>\n",
       "      <th>2020-09-10</th>\n",
       "      <td>6.342567</td>\n",
       "    </tr>\n",
       "    <tr>\n",
       "      <th>2020-09-11</th>\n",
       "      <td>6.672640</td>\n",
       "    </tr>\n",
       "    <tr>\n",
       "      <th>2020-09-14</th>\n",
       "      <td>6.630105</td>\n",
       "    </tr>\n",
       "    <tr>\n",
       "      <th>2020-09-15</th>\n",
       "      <td>6.382330</td>\n",
       "    </tr>\n",
       "    <tr>\n",
       "      <th>2020-09-16</th>\n",
       "      <td>6.337390</td>\n",
       "    </tr>\n",
       "    <tr>\n",
       "      <th>2020-09-17</th>\n",
       "      <td>6.008627</td>\n",
       "    </tr>\n",
       "    <tr>\n",
       "      <th>2020-09-18</th>\n",
       "      <td>5.956654</td>\n",
       "    </tr>\n",
       "    <tr>\n",
       "      <th>2020-09-21</th>\n",
       "      <td>5.365388</td>\n",
       "    </tr>\n",
       "    <tr>\n",
       "      <th>2020-09-22</th>\n",
       "      <td>5.658807</td>\n",
       "    </tr>\n",
       "    <tr>\n",
       "      <th>2020-09-23</th>\n",
       "      <td>5.803396</td>\n",
       "    </tr>\n",
       "    <tr>\n",
       "      <th>2020-09-24</th>\n",
       "      <td>5.500000</td>\n",
       "    </tr>\n",
       "    <tr>\n",
       "      <th>2020-09-25</th>\n",
       "      <td>5.739709</td>\n",
       "    </tr>\n",
       "    <tr>\n",
       "      <th>2020-09-28</th>\n",
       "      <td>5.326216</td>\n",
       "    </tr>\n",
       "    <tr>\n",
       "      <th>2020-09-29</th>\n",
       "      <td>7.312060</td>\n",
       "    </tr>\n",
       "  </tbody>\n",
       "</table>\n",
       "</div>"
      ],
      "text/plain": [
       "            ave_per_kg\n",
       "date                  \n",
       "2020-08-20    5.412214\n",
       "2020-08-21    5.607088\n",
       "2020-08-24    5.975543\n",
       "2020-08-25    5.975543\n",
       "2020-08-26    5.655556\n",
       "2020-08-27    5.659358\n",
       "2020-08-28    5.501912\n",
       "2020-08-31    5.584049\n",
       "2020-09-01    5.811263\n",
       "2020-09-02    5.837074\n",
       "2020-09-03    5.805987\n",
       "2020-09-04    6.000141\n",
       "2020-09-07    6.197636\n",
       "2020-09-08    6.197636\n",
       "2020-09-09    6.290038\n",
       "2020-09-10    6.342567\n",
       "2020-09-11    6.672640\n",
       "2020-09-14    6.630105\n",
       "2020-09-15    6.382330\n",
       "2020-09-16    6.337390\n",
       "2020-09-17    6.008627\n",
       "2020-09-18    5.956654\n",
       "2020-09-21    5.365388\n",
       "2020-09-22    5.658807\n",
       "2020-09-23    5.803396\n",
       "2020-09-24    5.500000\n",
       "2020-09-25    5.739709\n",
       "2020-09-28    5.326216\n",
       "2020-09-29    7.312060"
      ]
     },
     "execution_count": 164,
     "metadata": {},
     "output_type": "execute_result"
    }
   ],
   "source": [
    "price"
   ]
  },
  {
   "cell_type": "code",
   "execution_count": 167,
   "metadata": {},
   "outputs": [
    {
     "data": {
      "image/png": "[encoded data removed]",
      "text/plain": [
       "<Figure size 432x288 with 4 Axes>"
      ]
     },
     "metadata": {
      "needs_background": "light"
     },
     "output_type": "display_data"
    }
   ],
   "source": [
    "result = seasonal_decompose(price['ave_per_kg'], model='additive')  # model='mul' also works\n",
    "result.plot();"
   ]
  },
  {
   "cell_type": "code",
   "execution_count": 46,
   "metadata": {},
   "outputs": [
    {
     "name": "stdout",
     "output_type": "stream",
     "text": [
      "None\n"
     ]
    }
   ],
   "source": [
    "print(price.index.freq)"
   ]
  },
  {
   "cell_type": "code",
   "execution_count": 64,
   "metadata": {},
   "outputs": [
    {
     "ename": "ValueError",
     "evalue": "Inferred frequency None from passed values does not conform to passed frequency D",
     "output_type": "error",
     "traceback": [
      "\u001b[1;31m---------------------------------------------------------------------------\u001b[0m",
      "\u001b[1;31mValueError\u001b[0m                                Traceback (most recent call last)",
      "\u001b[1;32m~\\anaconda3\\lib\\site-packages\\pandas\\core\\arrays\\datetimelike.py\u001b[0m in \u001b[0;36m_validate_frequency\u001b[1;34m(cls, index, freq, **kwargs)\u001b[0m\n\u001b[0;32m   1156\u001b[0m             \u001b[1;32mif\u001b[0m \u001b[1;32mnot\u001b[0m \u001b[0mnp\u001b[0m\u001b[1;33m.\u001b[0m\u001b[0marray_equal\u001b[0m\u001b[1;33m(\u001b[0m\u001b[0mindex\u001b[0m\u001b[1;33m.\u001b[0m\u001b[0masi8\u001b[0m\u001b[1;33m,\u001b[0m \u001b[0mon_freq\u001b[0m\u001b[1;33m.\u001b[0m\u001b[0masi8\u001b[0m\u001b[1;33m)\u001b[0m\u001b[1;33m:\u001b[0m\u001b[1;33m\u001b[0m\u001b[1;33m\u001b[0m\u001b[0m\n\u001b[1;32m-> 1157\u001b[1;33m                 \u001b[1;32mraise\u001b[0m \u001b[0mValueError\u001b[0m\u001b[1;33m\u001b[0m\u001b[1;33m\u001b[0m\u001b[0m\n\u001b[0m\u001b[0;32m   1158\u001b[0m         \u001b[1;32mexcept\u001b[0m \u001b[0mValueError\u001b[0m \u001b[1;32mas\u001b[0m \u001b[0me\u001b[0m\u001b[1;33m:\u001b[0m\u001b[1;33m\u001b[0m\u001b[1;33m\u001b[0m\u001b[0m\n",
      "\u001b[1;31mValueError\u001b[0m: ",
      "\nThe above exception was the direct cause of the following exception:\n",
      "\u001b[1;31mValueError\u001b[0m                                Traceback (most recent call last)",
      "\u001b[1;32m<ipython-input-64-deebceb0ee1a>\u001b[0m in \u001b[0;36m<module>\u001b[1;34m\u001b[0m\n\u001b[1;32m----> 1\u001b[1;33m \u001b[0mprice\u001b[0m\u001b[1;33m.\u001b[0m\u001b[0mindex\u001b[0m\u001b[1;33m.\u001b[0m\u001b[0mfreq\u001b[0m \u001b[1;33m=\u001b[0m \u001b[0mpd\u001b[0m\u001b[1;33m.\u001b[0m\u001b[0mtseries\u001b[0m\u001b[1;33m.\u001b[0m\u001b[0mfrequencies\u001b[0m\u001b[1;33m.\u001b[0m\u001b[0mto_offset\u001b[0m\u001b[1;33m(\u001b[0m\u001b[1;34m'D'\u001b[0m\u001b[1;33m)\u001b[0m\u001b[1;33m\u001b[0m\u001b[1;33m\u001b[0m\u001b[0m\n\u001b[0m",
      "\u001b[1;32m~\\anaconda3\\lib\\site-packages\\pandas\\core\\indexes\\extension.py\u001b[0m in \u001b[0;36mfset\u001b[1;34m(self, value)\u001b[0m\n\u001b[0;32m     62\u001b[0m \u001b[1;33m\u001b[0m\u001b[0m\n\u001b[0;32m     63\u001b[0m             \u001b[1;32mdef\u001b[0m \u001b[0mfset\u001b[0m\u001b[1;33m(\u001b[0m\u001b[0mself\u001b[0m\u001b[1;33m,\u001b[0m \u001b[0mvalue\u001b[0m\u001b[1;33m)\u001b[0m\u001b[1;33m:\u001b[0m\u001b[1;33m\u001b[0m\u001b[1;33m\u001b[0m\u001b[0m\n\u001b[1;32m---> 64\u001b[1;33m                 \u001b[0msetattr\u001b[0m\u001b[1;33m(\u001b[0m\u001b[0mself\u001b[0m\u001b[1;33m.\u001b[0m\u001b[0m_data\u001b[0m\u001b[1;33m,\u001b[0m \u001b[0mname\u001b[0m\u001b[1;33m,\u001b[0m \u001b[0mvalue\u001b[0m\u001b[1;33m)\u001b[0m\u001b[1;33m\u001b[0m\u001b[1;33m\u001b[0m\u001b[0m\n\u001b[0m\u001b[0;32m     65\u001b[0m \u001b[1;33m\u001b[0m\u001b[0m\n\u001b[0;32m     66\u001b[0m             \u001b[0mfget\u001b[0m\u001b[1;33m.\u001b[0m\u001b[0m__name__\u001b[0m \u001b[1;33m=\u001b[0m \u001b[0mname\u001b[0m\u001b[1;33m\u001b[0m\u001b[1;33m\u001b[0m\u001b[0m\n",
      "\u001b[1;32m~\\anaconda3\\lib\\site-packages\\pandas\\core\\arrays\\datetimelike.py\u001b[0m in \u001b[0;36mfreq\u001b[1;34m(self, value)\u001b[0m\n\u001b[0;32m   1091\u001b[0m         \u001b[1;32mif\u001b[0m \u001b[0mvalue\u001b[0m \u001b[1;32mis\u001b[0m \u001b[1;32mnot\u001b[0m \u001b[1;32mNone\u001b[0m\u001b[1;33m:\u001b[0m\u001b[1;33m\u001b[0m\u001b[1;33m\u001b[0m\u001b[0m\n\u001b[0;32m   1092\u001b[0m             \u001b[0mvalue\u001b[0m \u001b[1;33m=\u001b[0m \u001b[0mto_offset\u001b[0m\u001b[1;33m(\u001b[0m\u001b[0mvalue\u001b[0m\u001b[1;33m)\u001b[0m\u001b[1;33m\u001b[0m\u001b[1;33m\u001b[0m\u001b[0m\n\u001b[1;32m-> 1093\u001b[1;33m             \u001b[0mself\u001b[0m\u001b[1;33m.\u001b[0m\u001b[0m_validate_frequency\u001b[0m\u001b[1;33m(\u001b[0m\u001b[0mself\u001b[0m\u001b[1;33m,\u001b[0m \u001b[0mvalue\u001b[0m\u001b[1;33m)\u001b[0m\u001b[1;33m\u001b[0m\u001b[1;33m\u001b[0m\u001b[0m\n\u001b[0m\u001b[0;32m   1094\u001b[0m \u001b[1;33m\u001b[0m\u001b[0m\n\u001b[0;32m   1095\u001b[0m         \u001b[0mself\u001b[0m\u001b[1;33m.\u001b[0m\u001b[0m_freq\u001b[0m \u001b[1;33m=\u001b[0m \u001b[0mvalue\u001b[0m\u001b[1;33m\u001b[0m\u001b[1;33m\u001b[0m\u001b[0m\n",
      "\u001b[1;32m~\\anaconda3\\lib\\site-packages\\pandas\\core\\arrays\\datetimelike.py\u001b[0m in \u001b[0;36m_validate_frequency\u001b[1;34m(cls, index, freq, **kwargs)\u001b[0m\n\u001b[0;32m   1169\u001b[0m                 \u001b[1;34mf\"Inferred frequency {inferred} from passed values \"\u001b[0m\u001b[1;33m\u001b[0m\u001b[1;33m\u001b[0m\u001b[0m\n\u001b[0;32m   1170\u001b[0m                 \u001b[1;34mf\"does not conform to passed frequency {freq.freqstr}\"\u001b[0m\u001b[1;33m\u001b[0m\u001b[1;33m\u001b[0m\u001b[0m\n\u001b[1;32m-> 1171\u001b[1;33m             ) from e\n\u001b[0m\u001b[0;32m   1172\u001b[0m \u001b[1;33m\u001b[0m\u001b[0m\n\u001b[0;32m   1173\u001b[0m     \u001b[1;31m# monotonicity/uniqueness properties are called via frequencies.infer_freq,\u001b[0m\u001b[1;33m\u001b[0m\u001b[1;33m\u001b[0m\u001b[1;33m\u001b[0m\u001b[0m\n",
      "\u001b[1;31mValueError\u001b[0m: Inferred frequency None from passed values does not conform to passed frequency D"
     ]
    }
   ],
   "source": [
    "price.index.freq = pd.tseries.frequencies.to_offset('D')"
   ]
  },
  {
   "cell_type": "code",
   "execution_count": null,
   "metadata": {},
   "outputs": [],
   "source": []
  }
 ],
 "metadata": {
  "kernelspec": {
   "display_name": "Python 3",
   "language": "python",
   "name": "python3"
  },
  "language_info": {
   "codemirror_mode": {
    "name": "ipython",
    "version": 3
   },
   "file_extension": ".py",
   "mimetype": "text/x-python",
   "name": "python",
   "nbconvert_exporter": "python",
   "pygments_lexer": "ipython3",
   "version": "3.7.6"
  }
 },
 "nbformat": 4,
 "nbformat_minor": 4
}
