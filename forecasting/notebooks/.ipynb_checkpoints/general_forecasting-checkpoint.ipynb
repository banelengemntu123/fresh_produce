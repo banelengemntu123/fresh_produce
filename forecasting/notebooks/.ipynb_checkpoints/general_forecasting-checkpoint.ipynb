{
 "cells": [
  {
   "cell_type": "code",
   "execution_count": 1,
   "metadata": {},
   "outputs": [],
   "source": [
    "import pandas as pd\n",
    "import numpy as np\n",
    "import requests\n",
    "import urllib\n",
    "\n",
    "from sqlalchemy import create_engine\n",
    "\n",
    "# Custom upload with connection string\n",
    "from engine_info import server_info\n",
    "\n",
    "import warnings\n",
    "warnings.filterwarnings('ignore')\n",
    "\n",
    "from matplotlib import rcParams"
   ]
  },
  {
   "cell_type": "code",
   "execution_count": 3,
   "metadata": {},
   "outputs": [],
   "source": [
    "from statsmodels.tsa.seasonal import seasonal_decompose"
   ]
  },
  {
   "cell_type": "code",
   "execution_count": 4,
   "metadata": {},
   "outputs": [],
   "source": [
    "# Creating a connection to MS SQL SERVER\n",
    "params = urllib.parse.quote_plus(server_info)\n",
    "engine = create_engine('mssql+pyodbc:///?odbc_connect=%s' % params)\n",
    "connection = engine.connect()"
   ]
  },
  {
   "cell_type": "code",
   "execution_count": 19,
   "metadata": {},
   "outputs": [],
   "source": [
    "# Upload sales data\n",
    "sales = pd.read_sql_table(\n",
    "    table_name='Durban_Fresh_produce_market',\n",
    "    con=connection,\n",
    "    parse_dates=['Date']\n",
    ")"
   ]
  },
  {
   "cell_type": "markdown",
   "metadata": {},
   "source": [
    "## Data preparation"
   ]
  },
  {
   "cell_type": "code",
   "execution_count": 20,
   "metadata": {},
   "outputs": [
    {
     "data": {
      "text/html": [
       "<div>\n",
       "<style scoped>\n",
       "    .dataframe tbody tr th:only-of-type {\n",
       "        vertical-align: middle;\n",
       "    }\n",
       "\n",
       "    .dataframe tbody tr th {\n",
       "        vertical-align: top;\n",
       "    }\n",
       "\n",
       "    .dataframe thead th {\n",
       "        text-align: right;\n",
       "    }\n",
       "</style>\n",
       "<table border=\"1\" class=\"dataframe\">\n",
       "  <thead>\n",
       "    <tr style=\"text-align: right;\">\n",
       "      <th></th>\n",
       "      <th>Commodities</th>\n",
       "      <th>Weight_Kg</th>\n",
       "      <th>Size_Grade</th>\n",
       "      <th>Container</th>\n",
       "      <th>Province</th>\n",
       "      <th>Low_Price</th>\n",
       "      <th>High_Price</th>\n",
       "      <th>Average_Price</th>\n",
       "      <th>Sales_Total</th>\n",
       "      <th>Total_Qty_Sold</th>\n",
       "      <th>Total_Kg_Sold</th>\n",
       "      <th>Stock_On_Hand</th>\n",
       "      <th>Date</th>\n",
       "    </tr>\n",
       "  </thead>\n",
       "  <tbody>\n",
       "    <tr>\n",
       "      <th>0</th>\n",
       "      <td>APPLE GOLDEN DELICIOUS</td>\n",
       "      <td>9.00</td>\n",
       "      <td>2S</td>\n",
       "      <td>JE090</td>\n",
       "      <td>CAPE</td>\n",
       "      <td>50.00</td>\n",
       "      <td>100.00</td>\n",
       "      <td>51.39</td>\n",
       "      <td>9250</td>\n",
       "      <td>180</td>\n",
       "      <td>1620</td>\n",
       "      <td>1397</td>\n",
       "      <td>2020-02-26</td>\n",
       "    </tr>\n",
       "    <tr>\n",
       "      <th>1</th>\n",
       "      <td>APPLE GOLDEN DELICIOUS</td>\n",
       "      <td>9.00</td>\n",
       "      <td>2S</td>\n",
       "      <td>JE090</td>\n",
       "      <td>ORANGE FREE STATE</td>\n",
       "      <td>0.00</td>\n",
       "      <td>0.00</td>\n",
       "      <td>0.00</td>\n",
       "      <td>0</td>\n",
       "      <td>0</td>\n",
       "      <td>0</td>\n",
       "      <td>80</td>\n",
       "      <td>2020-02-26</td>\n",
       "    </tr>\n",
       "    <tr>\n",
       "      <th>2</th>\n",
       "      <td>APPLE GOLDEN DELICIOUS</td>\n",
       "      <td>9.00</td>\n",
       "      <td>2S</td>\n",
       "      <td>JE090</td>\n",
       "      <td>NATAL</td>\n",
       "      <td>10.00</td>\n",
       "      <td>10.00</td>\n",
       "      <td>10.00</td>\n",
       "      <td>30</td>\n",
       "      <td>3</td>\n",
       "      <td>27</td>\n",
       "      <td>6</td>\n",
       "      <td>2020-02-26</td>\n",
       "    </tr>\n",
       "    <tr>\n",
       "      <th>3</th>\n",
       "      <td>APPLE GOLDEN DELICIOUS</td>\n",
       "      <td>9.00</td>\n",
       "      <td>2U</td>\n",
       "      <td>JE090</td>\n",
       "      <td>CAPE</td>\n",
       "      <td>50.00</td>\n",
       "      <td>50.00</td>\n",
       "      <td>50.00</td>\n",
       "      <td>9000</td>\n",
       "      <td>180</td>\n",
       "      <td>1620</td>\n",
       "      <td>0</td>\n",
       "      <td>2020-02-26</td>\n",
       "    </tr>\n",
       "    <tr>\n",
       "      <th>4</th>\n",
       "      <td>APPLE GOLDEN DELICIOUS</td>\n",
       "      <td>18.30</td>\n",
       "      <td>2X</td>\n",
       "      <td>M4183</td>\n",
       "      <td>CAPE</td>\n",
       "      <td>0.00</td>\n",
       "      <td>0.00</td>\n",
       "      <td>0.00</td>\n",
       "      <td>0</td>\n",
       "      <td>0</td>\n",
       "      <td>0</td>\n",
       "      <td>1</td>\n",
       "      <td>2020-02-26</td>\n",
       "    </tr>\n",
       "  </tbody>\n",
       "</table>\n",
       "</div>"
      ],
      "text/plain": [
       "              Commodities Weight_Kg Size_Grade Container           Province  \\\n",
       "0  APPLE GOLDEN DELICIOUS      9.00         2S     JE090               CAPE   \n",
       "1  APPLE GOLDEN DELICIOUS      9.00         2S     JE090  ORANGE FREE STATE   \n",
       "2  APPLE GOLDEN DELICIOUS      9.00         2S     JE090              NATAL   \n",
       "3  APPLE GOLDEN DELICIOUS      9.00         2U     JE090               CAPE   \n",
       "4  APPLE GOLDEN DELICIOUS     18.30         2X     M4183               CAPE   \n",
       "\n",
       "  Low_Price High_Price Average_Price Sales_Total Total_Qty_Sold Total_Kg_Sold  \\\n",
       "0     50.00     100.00         51.39        9250            180          1620   \n",
       "1      0.00       0.00          0.00           0              0             0   \n",
       "2     10.00      10.00         10.00          30              3            27   \n",
       "3     50.00      50.00         50.00        9000            180          1620   \n",
       "4      0.00       0.00          0.00           0              0             0   \n",
       "\n",
       "  Stock_On_Hand       Date  \n",
       "0          1397 2020-02-26  \n",
       "1            80 2020-02-26  \n",
       "2             6 2020-02-26  \n",
       "3             0 2020-02-26  \n",
       "4             1 2020-02-26  "
      ]
     },
     "execution_count": 20,
     "metadata": {},
     "output_type": "execute_result"
    }
   ],
   "source": [
    "# Check the first five rows\n",
    "sales.head()"
   ]
  },
  {
   "cell_type": "code",
   "execution_count": 21,
   "metadata": {},
   "outputs": [
    {
     "name": "stdout",
     "output_type": "stream",
     "text": [
      "<class 'pandas.core.frame.DataFrame'>\n",
      "RangeIndex: 151571 entries, 0 to 151570\n",
      "Data columns (total 13 columns):\n",
      " #   Column          Non-Null Count   Dtype         \n",
      "---  ------          --------------   -----         \n",
      " 0   Commodities     151571 non-null  object        \n",
      " 1   Weight_Kg       151571 non-null  object        \n",
      " 2   Size_Grade      151571 non-null  object        \n",
      " 3   Container       151571 non-null  object        \n",
      " 4   Province        151571 non-null  object        \n",
      " 5   Low_Price       151571 non-null  object        \n",
      " 6   High_Price      151571 non-null  object        \n",
      " 7   Average_Price   151571 non-null  object        \n",
      " 8   Sales_Total     151571 non-null  object        \n",
      " 9   Total_Qty_Sold  151571 non-null  object        \n",
      " 10  Total_Kg_Sold   151571 non-null  object        \n",
      " 11  Stock_On_Hand   151571 non-null  object        \n",
      " 12  Date            151571 non-null  datetime64[ns]\n",
      "dtypes: datetime64[ns](1), object(12)\n",
      "memory usage: 15.0+ MB\n"
     ]
    }
   ],
   "source": [
    "# View datatype of each column\n",
    "sales.info()"
   ]
  },
  {
   "cell_type": "code",
   "execution_count": 22,
   "metadata": {},
   "outputs": [],
   "source": [
    "# Convert some of the columns to their appropriate data type\n",
    "float_columns = ['Weight_Kg', 'Low_Price', 'High_Price', 'Average_Price', \n",
    "                 'Sales_Total', 'Total_Kg_Sold', 'Total_Qty_Sold', 'Stock_On_Hand']\n",
    "\n",
    "\n",
    "# Convert the columns to numeric\n",
    "for col in float_columns:\n",
    "    # sales[col] = sales[col].astype(float)\n",
    "    sales[col] = pd.to_numeric(sales[col])"
   ]
  },
  {
   "cell_type": "code",
   "execution_count": 23,
   "metadata": {},
   "outputs": [
    {
     "name": "stdout",
     "output_type": "stream",
     "text": [
      "<class 'pandas.core.frame.DataFrame'>\n",
      "RangeIndex: 151571 entries, 0 to 151570\n",
      "Data columns (total 13 columns):\n",
      " #   Column          Non-Null Count   Dtype         \n",
      "---  ------          --------------   -----         \n",
      " 0   Commodities     151571 non-null  object        \n",
      " 1   Weight_Kg       151571 non-null  float64       \n",
      " 2   Size_Grade      151571 non-null  object        \n",
      " 3   Container       151571 non-null  object        \n",
      " 4   Province        151571 non-null  object        \n",
      " 5   Low_Price       151571 non-null  float64       \n",
      " 6   High_Price      151571 non-null  float64       \n",
      " 7   Average_Price   151571 non-null  float64       \n",
      " 8   Sales_Total     151570 non-null  float64       \n",
      " 9   Total_Qty_Sold  151570 non-null  float64       \n",
      " 10  Total_Kg_Sold   151571 non-null  float64       \n",
      " 11  Stock_On_Hand   151570 non-null  float64       \n",
      " 12  Date            151571 non-null  datetime64[ns]\n",
      "dtypes: datetime64[ns](1), float64(8), object(4)\n",
      "memory usage: 15.0+ MB\n"
     ]
    }
   ],
   "source": [
    "sales.info()"
   ]
  },
  {
   "cell_type": "code",
   "execution_count": 24,
   "metadata": {},
   "outputs": [
    {
     "data": {
      "text/html": [
       "<div>\n",
       "<style scoped>\n",
       "    .dataframe tbody tr th:only-of-type {\n",
       "        vertical-align: middle;\n",
       "    }\n",
       "\n",
       "    .dataframe tbody tr th {\n",
       "        vertical-align: top;\n",
       "    }\n",
       "\n",
       "    .dataframe thead th {\n",
       "        text-align: right;\n",
       "    }\n",
       "</style>\n",
       "<table border=\"1\" class=\"dataframe\">\n",
       "  <thead>\n",
       "    <tr style=\"text-align: right;\">\n",
       "      <th></th>\n",
       "      <th>Commodities</th>\n",
       "      <th>Weight_Kg</th>\n",
       "      <th>Size_Grade</th>\n",
       "      <th>Container</th>\n",
       "      <th>Province</th>\n",
       "      <th>Low_Price</th>\n",
       "      <th>High_Price</th>\n",
       "      <th>Average_Price</th>\n",
       "      <th>Sales_Total</th>\n",
       "      <th>Total_Qty_Sold</th>\n",
       "      <th>Total_Kg_Sold</th>\n",
       "      <th>Stock_On_Hand</th>\n",
       "      <th>Date</th>\n",
       "    </tr>\n",
       "  </thead>\n",
       "  <tbody>\n",
       "    <tr>\n",
       "      <th>0</th>\n",
       "      <td>APPLE GOLDEN DELICIOUS</td>\n",
       "      <td>9.0</td>\n",
       "      <td>2S</td>\n",
       "      <td>JE090</td>\n",
       "      <td>CAPE</td>\n",
       "      <td>50.0</td>\n",
       "      <td>100.0</td>\n",
       "      <td>51.39</td>\n",
       "      <td>9250.0</td>\n",
       "      <td>180.0</td>\n",
       "      <td>1620.0</td>\n",
       "      <td>1397.0</td>\n",
       "      <td>2020-02-26</td>\n",
       "    </tr>\n",
       "    <tr>\n",
       "      <th>1</th>\n",
       "      <td>APPLE GOLDEN DELICIOUS</td>\n",
       "      <td>9.0</td>\n",
       "      <td>2S</td>\n",
       "      <td>JE090</td>\n",
       "      <td>ORANGE FREE STATE</td>\n",
       "      <td>0.0</td>\n",
       "      <td>0.0</td>\n",
       "      <td>0.00</td>\n",
       "      <td>0.0</td>\n",
       "      <td>0.0</td>\n",
       "      <td>0.0</td>\n",
       "      <td>80.0</td>\n",
       "      <td>2020-02-26</td>\n",
       "    </tr>\n",
       "    <tr>\n",
       "      <th>2</th>\n",
       "      <td>APPLE GOLDEN DELICIOUS</td>\n",
       "      <td>9.0</td>\n",
       "      <td>2S</td>\n",
       "      <td>JE090</td>\n",
       "      <td>NATAL</td>\n",
       "      <td>10.0</td>\n",
       "      <td>10.0</td>\n",
       "      <td>10.00</td>\n",
       "      <td>30.0</td>\n",
       "      <td>3.0</td>\n",
       "      <td>27.0</td>\n",
       "      <td>6.0</td>\n",
       "      <td>2020-02-26</td>\n",
       "    </tr>\n",
       "    <tr>\n",
       "      <th>3</th>\n",
       "      <td>APPLE GOLDEN DELICIOUS</td>\n",
       "      <td>9.0</td>\n",
       "      <td>2U</td>\n",
       "      <td>JE090</td>\n",
       "      <td>CAPE</td>\n",
       "      <td>50.0</td>\n",
       "      <td>50.0</td>\n",
       "      <td>50.00</td>\n",
       "      <td>9000.0</td>\n",
       "      <td>180.0</td>\n",
       "      <td>1620.0</td>\n",
       "      <td>0.0</td>\n",
       "      <td>2020-02-26</td>\n",
       "    </tr>\n",
       "    <tr>\n",
       "      <th>4</th>\n",
       "      <td>APPLE GOLDEN DELICIOUS</td>\n",
       "      <td>18.3</td>\n",
       "      <td>2X</td>\n",
       "      <td>M4183</td>\n",
       "      <td>CAPE</td>\n",
       "      <td>0.0</td>\n",
       "      <td>0.0</td>\n",
       "      <td>0.00</td>\n",
       "      <td>0.0</td>\n",
       "      <td>0.0</td>\n",
       "      <td>0.0</td>\n",
       "      <td>1.0</td>\n",
       "      <td>2020-02-26</td>\n",
       "    </tr>\n",
       "  </tbody>\n",
       "</table>\n",
       "</div>"
      ],
      "text/plain": [
       "              Commodities  Weight_Kg Size_Grade Container           Province  \\\n",
       "0  APPLE GOLDEN DELICIOUS        9.0         2S     JE090               CAPE   \n",
       "1  APPLE GOLDEN DELICIOUS        9.0         2S     JE090  ORANGE FREE STATE   \n",
       "2  APPLE GOLDEN DELICIOUS        9.0         2S     JE090              NATAL   \n",
       "3  APPLE GOLDEN DELICIOUS        9.0         2U     JE090               CAPE   \n",
       "4  APPLE GOLDEN DELICIOUS       18.3         2X     M4183               CAPE   \n",
       "\n",
       "   Low_Price  High_Price  Average_Price  Sales_Total  Total_Qty_Sold  \\\n",
       "0       50.0       100.0          51.39       9250.0           180.0   \n",
       "1        0.0         0.0           0.00          0.0             0.0   \n",
       "2       10.0        10.0          10.00         30.0             3.0   \n",
       "3       50.0        50.0          50.00       9000.0           180.0   \n",
       "4        0.0         0.0           0.00          0.0             0.0   \n",
       "\n",
       "   Total_Kg_Sold  Stock_On_Hand       Date  \n",
       "0         1620.0         1397.0 2020-02-26  \n",
       "1            0.0           80.0 2020-02-26  \n",
       "2           27.0            6.0 2020-02-26  \n",
       "3         1620.0            0.0 2020-02-26  \n",
       "4            0.0            1.0 2020-02-26  "
      ]
     },
     "execution_count": 24,
     "metadata": {},
     "output_type": "execute_result"
    }
   ],
   "source": [
    "sales.head()"
   ]
  },
  {
   "cell_type": "code",
   "execution_count": 27,
   "metadata": {},
   "outputs": [
    {
     "name": "stdout",
     "output_type": "stream",
     "text": [
      "147 days recorded in the database\n"
     ]
    }
   ],
   "source": [
    "# Check for the number of days in the database\n",
    "print(f\"{sales['Date'].nunique()} days recorded in the database\")"
   ]
  },
  {
   "cell_type": "code",
   "execution_count": 28,
   "metadata": {},
   "outputs": [],
   "source": [
    "# Remove days whereby total sales equal 0 because it registers average_price as zero.\n",
    "filtered_sales = sales[sales['Sales_Total'] != 0]"
   ]
  },
  {
   "cell_type": "code",
   "execution_count": 29,
   "metadata": {},
   "outputs": [
    {
     "name": "stdout",
     "output_type": "stream",
     "text": [
      "147 days recorded in the database\n"
     ]
    }
   ],
   "source": [
    "print(f\"{filtered_sales['Date'].nunique()} days recorded in the database\")"
   ]
  },
  {
   "cell_type": "markdown",
   "metadata": {},
   "source": [
    "Therefore no days were lost due to filtering by 'Sales_Total'"
   ]
  },
  {
   "cell_type": "code",
   "execution_count": 31,
   "metadata": {},
   "outputs": [
    {
     "data": {
      "text/html": [
       "<div>\n",
       "<style scoped>\n",
       "    .dataframe tbody tr th:only-of-type {\n",
       "        vertical-align: middle;\n",
       "    }\n",
       "\n",
       "    .dataframe tbody tr th {\n",
       "        vertical-align: top;\n",
       "    }\n",
       "\n",
       "    .dataframe thead th {\n",
       "        text-align: right;\n",
       "    }\n",
       "</style>\n",
       "<table border=\"1\" class=\"dataframe\">\n",
       "  <thead>\n",
       "    <tr style=\"text-align: right;\">\n",
       "      <th></th>\n",
       "      <th>Commodities</th>\n",
       "      <th>Weight_Kg</th>\n",
       "      <th>Size_Grade</th>\n",
       "      <th>Container</th>\n",
       "      <th>Province</th>\n",
       "      <th>Low_Price</th>\n",
       "      <th>High_Price</th>\n",
       "      <th>Average_Price</th>\n",
       "      <th>Sales_Total</th>\n",
       "      <th>Total_Qty_Sold</th>\n",
       "      <th>Total_Kg_Sold</th>\n",
       "      <th>Stock_On_Hand</th>\n",
       "      <th>Date</th>\n",
       "    </tr>\n",
       "  </thead>\n",
       "  <tbody>\n",
       "    <tr>\n",
       "      <th>0</th>\n",
       "      <td>APPLE GOLDEN DELICIOUS</td>\n",
       "      <td>9.0</td>\n",
       "      <td>2S</td>\n",
       "      <td>JE090</td>\n",
       "      <td>CAPE</td>\n",
       "      <td>50.0</td>\n",
       "      <td>100.0</td>\n",
       "      <td>51.39</td>\n",
       "      <td>9250.0</td>\n",
       "      <td>180.0</td>\n",
       "      <td>1620.0</td>\n",
       "      <td>1397.0</td>\n",
       "      <td>2020-02-26</td>\n",
       "    </tr>\n",
       "    <tr>\n",
       "      <th>2</th>\n",
       "      <td>APPLE GOLDEN DELICIOUS</td>\n",
       "      <td>9.0</td>\n",
       "      <td>2S</td>\n",
       "      <td>JE090</td>\n",
       "      <td>NATAL</td>\n",
       "      <td>10.0</td>\n",
       "      <td>10.0</td>\n",
       "      <td>10.00</td>\n",
       "      <td>30.0</td>\n",
       "      <td>3.0</td>\n",
       "      <td>27.0</td>\n",
       "      <td>6.0</td>\n",
       "      <td>2020-02-26</td>\n",
       "    </tr>\n",
       "    <tr>\n",
       "      <th>3</th>\n",
       "      <td>APPLE GOLDEN DELICIOUS</td>\n",
       "      <td>9.0</td>\n",
       "      <td>2U</td>\n",
       "      <td>JE090</td>\n",
       "      <td>CAPE</td>\n",
       "      <td>50.0</td>\n",
       "      <td>50.0</td>\n",
       "      <td>50.00</td>\n",
       "      <td>9000.0</td>\n",
       "      <td>180.0</td>\n",
       "      <td>1620.0</td>\n",
       "      <td>0.0</td>\n",
       "      <td>2020-02-26</td>\n",
       "    </tr>\n",
       "    <tr>\n",
       "      <th>7</th>\n",
       "      <td>APPLE GRANNY SMITH</td>\n",
       "      <td>12.0</td>\n",
       "      <td>1S</td>\n",
       "      <td>EC120</td>\n",
       "      <td>CAPE</td>\n",
       "      <td>60.0</td>\n",
       "      <td>60.0</td>\n",
       "      <td>60.00</td>\n",
       "      <td>6000.0</td>\n",
       "      <td>100.0</td>\n",
       "      <td>1200.0</td>\n",
       "      <td>164.0</td>\n",
       "      <td>2020-02-26</td>\n",
       "    </tr>\n",
       "    <tr>\n",
       "      <th>8</th>\n",
       "      <td>APPLE GRANNY SMITH</td>\n",
       "      <td>12.0</td>\n",
       "      <td>1S</td>\n",
       "      <td>EC120</td>\n",
       "      <td>CAPE</td>\n",
       "      <td>60.0</td>\n",
       "      <td>96.0</td>\n",
       "      <td>62.30</td>\n",
       "      <td>13020.0</td>\n",
       "      <td>209.0</td>\n",
       "      <td>2508.0</td>\n",
       "      <td>0.0</td>\n",
       "      <td>2020-02-26</td>\n",
       "    </tr>\n",
       "  </tbody>\n",
       "</table>\n",
       "</div>"
      ],
      "text/plain": [
       "              Commodities  Weight_Kg Size_Grade Container Province  Low_Price  \\\n",
       "0  APPLE GOLDEN DELICIOUS        9.0         2S     JE090     CAPE       50.0   \n",
       "2  APPLE GOLDEN DELICIOUS        9.0         2S     JE090    NATAL       10.0   \n",
       "3  APPLE GOLDEN DELICIOUS        9.0         2U     JE090     CAPE       50.0   \n",
       "7      APPLE GRANNY SMITH       12.0         1S     EC120     CAPE       60.0   \n",
       "8      APPLE GRANNY SMITH       12.0         1S     EC120     CAPE       60.0   \n",
       "\n",
       "   High_Price  Average_Price  Sales_Total  Total_Qty_Sold  Total_Kg_Sold  \\\n",
       "0       100.0          51.39       9250.0           180.0         1620.0   \n",
       "2        10.0          10.00         30.0             3.0           27.0   \n",
       "3        50.0          50.00       9000.0           180.0         1620.0   \n",
       "7        60.0          60.00       6000.0           100.0         1200.0   \n",
       "8        96.0          62.30      13020.0           209.0         2508.0   \n",
       "\n",
       "   Stock_On_Hand       Date  \n",
       "0         1397.0 2020-02-26  \n",
       "2            6.0 2020-02-26  \n",
       "3            0.0 2020-02-26  \n",
       "7          164.0 2020-02-26  \n",
       "8            0.0 2020-02-26  "
      ]
     },
     "execution_count": 31,
     "metadata": {},
     "output_type": "execute_result"
    }
   ],
   "source": [
    "filtered_sales.head()"
   ]
  },
  {
   "cell_type": "code",
   "execution_count": 53,
   "metadata": {},
   "outputs": [
    {
     "data": {
      "text/html": [
       "<div>\n",
       "<style scoped>\n",
       "    .dataframe tbody tr th:only-of-type {\n",
       "        vertical-align: middle;\n",
       "    }\n",
       "\n",
       "    .dataframe tbody tr th {\n",
       "        vertical-align: top;\n",
       "    }\n",
       "\n",
       "    .dataframe thead th {\n",
       "        text-align: right;\n",
       "    }\n",
       "</style>\n",
       "<table border=\"1\" class=\"dataframe\">\n",
       "  <thead>\n",
       "    <tr style=\"text-align: right;\">\n",
       "      <th></th>\n",
       "      <th>Commodities</th>\n",
       "      <th>Weight_Kg</th>\n",
       "      <th>Size_Grade</th>\n",
       "      <th>Container</th>\n",
       "      <th>Province</th>\n",
       "      <th>Low_Price</th>\n",
       "      <th>High_Price</th>\n",
       "      <th>Average_Price</th>\n",
       "      <th>Sales_Total</th>\n",
       "      <th>Total_Qty_Sold</th>\n",
       "      <th>Total_Kg_Sold</th>\n",
       "      <th>Stock_On_Hand</th>\n",
       "      <th>Date</th>\n",
       "    </tr>\n",
       "  </thead>\n",
       "  <tbody>\n",
       "    <tr>\n",
       "      <th>791</th>\n",
       "      <td>PINEAPPLE QUEEN VICTORIA</td>\n",
       "      <td>8.0</td>\n",
       "      <td></td>\n",
       "      <td>LM080</td>\n",
       "      <td>NATAL</td>\n",
       "      <td>60.0</td>\n",
       "      <td>120.0</td>\n",
       "      <td>113.82</td>\n",
       "      <td>18780.0</td>\n",
       "      <td>165.0</td>\n",
       "      <td>1320.0</td>\n",
       "      <td>149.0</td>\n",
       "      <td>2020-04-07</td>\n",
       "    </tr>\n",
       "    <tr>\n",
       "      <th>792</th>\n",
       "      <td>PINEAPPLE QUEEN VICTORIA</td>\n",
       "      <td>8.0</td>\n",
       "      <td></td>\n",
       "      <td>LM080</td>\n",
       "      <td>NATAL</td>\n",
       "      <td>50.0</td>\n",
       "      <td>100.0</td>\n",
       "      <td>92.00</td>\n",
       "      <td>65410.0</td>\n",
       "      <td>711.0</td>\n",
       "      <td>5688.0</td>\n",
       "      <td>430.0</td>\n",
       "      <td>2020-04-07</td>\n",
       "    </tr>\n",
       "    <tr>\n",
       "      <th>793</th>\n",
       "      <td>PINEAPPLE QUEEN VICTORIA</td>\n",
       "      <td>8.0</td>\n",
       "      <td></td>\n",
       "      <td>LM080</td>\n",
       "      <td>NATAL</td>\n",
       "      <td>40.0</td>\n",
       "      <td>90.0</td>\n",
       "      <td>83.25</td>\n",
       "      <td>44290.0</td>\n",
       "      <td>532.0</td>\n",
       "      <td>4256.0</td>\n",
       "      <td>44.0</td>\n",
       "      <td>2020-04-07</td>\n",
       "    </tr>\n",
       "    <tr>\n",
       "      <th>794</th>\n",
       "      <td>PINEAPPLE QUEEN VICTORIA</td>\n",
       "      <td>8.0</td>\n",
       "      <td></td>\n",
       "      <td>LM080</td>\n",
       "      <td>NATAL</td>\n",
       "      <td>15.0</td>\n",
       "      <td>70.0</td>\n",
       "      <td>57.78</td>\n",
       "      <td>9765.0</td>\n",
       "      <td>169.0</td>\n",
       "      <td>1352.0</td>\n",
       "      <td>46.0</td>\n",
       "      <td>2020-04-07</td>\n",
       "    </tr>\n",
       "    <tr>\n",
       "      <th>795</th>\n",
       "      <td>PINEAPPLE QUEEN VICTORIA</td>\n",
       "      <td>8.0</td>\n",
       "      <td></td>\n",
       "      <td>LM080</td>\n",
       "      <td>NATAL</td>\n",
       "      <td>15.0</td>\n",
       "      <td>120.0</td>\n",
       "      <td>120.00</td>\n",
       "      <td>840.0</td>\n",
       "      <td>7.0</td>\n",
       "      <td>56.0</td>\n",
       "      <td>5.0</td>\n",
       "      <td>2020-04-07</td>\n",
       "    </tr>\n",
       "    <tr>\n",
       "      <th>1892</th>\n",
       "      <td>PINEAPPLE QUEEN VICTORIA</td>\n",
       "      <td>8.0</td>\n",
       "      <td></td>\n",
       "      <td>LM080</td>\n",
       "      <td>NATAL</td>\n",
       "      <td>225.0</td>\n",
       "      <td>225.0</td>\n",
       "      <td>225.00</td>\n",
       "      <td>80775.0</td>\n",
       "      <td>359.0</td>\n",
       "      <td>2872.0</td>\n",
       "      <td>6.0</td>\n",
       "      <td>2020-05-19</td>\n",
       "    </tr>\n",
       "    <tr>\n",
       "      <th>1893</th>\n",
       "      <td>PINEAPPLE QUEEN VICTORIA</td>\n",
       "      <td>8.0</td>\n",
       "      <td></td>\n",
       "      <td>LM080</td>\n",
       "      <td>NATAL</td>\n",
       "      <td>200.0</td>\n",
       "      <td>200.0</td>\n",
       "      <td>200.00</td>\n",
       "      <td>224800.0</td>\n",
       "      <td>1124.0</td>\n",
       "      <td>8992.0</td>\n",
       "      <td>100.0</td>\n",
       "      <td>2020-05-19</td>\n",
       "    </tr>\n",
       "    <tr>\n",
       "      <th>1894</th>\n",
       "      <td>PINEAPPLE QUEEN VICTORIA</td>\n",
       "      <td>8.0</td>\n",
       "      <td></td>\n",
       "      <td>LM080</td>\n",
       "      <td>NATAL</td>\n",
       "      <td>200.0</td>\n",
       "      <td>200.0</td>\n",
       "      <td>200.00</td>\n",
       "      <td>88600.0</td>\n",
       "      <td>443.0</td>\n",
       "      <td>3544.0</td>\n",
       "      <td>2.0</td>\n",
       "      <td>2020-05-19</td>\n",
       "    </tr>\n",
       "    <tr>\n",
       "      <th>1895</th>\n",
       "      <td>PINEAPPLE QUEEN VICTORIA</td>\n",
       "      <td>8.0</td>\n",
       "      <td></td>\n",
       "      <td>LM080</td>\n",
       "      <td>NATAL</td>\n",
       "      <td>180.0</td>\n",
       "      <td>180.0</td>\n",
       "      <td>180.00</td>\n",
       "      <td>13140.0</td>\n",
       "      <td>73.0</td>\n",
       "      <td>584.0</td>\n",
       "      <td>0.0</td>\n",
       "      <td>2020-05-19</td>\n",
       "    </tr>\n",
       "    <tr>\n",
       "      <th>1896</th>\n",
       "      <td>PINEAPPLE QUEEN VICTORIA</td>\n",
       "      <td>8.0</td>\n",
       "      <td></td>\n",
       "      <td>LM080</td>\n",
       "      <td>NATAL</td>\n",
       "      <td>160.0</td>\n",
       "      <td>160.0</td>\n",
       "      <td>160.00</td>\n",
       "      <td>2400.0</td>\n",
       "      <td>15.0</td>\n",
       "      <td>120.0</td>\n",
       "      <td>5.0</td>\n",
       "      <td>2020-05-19</td>\n",
       "    </tr>\n",
       "    <tr>\n",
       "      <th>1897</th>\n",
       "      <td>PINEAPPLE QUEEN VICTORIA</td>\n",
       "      <td>8.0</td>\n",
       "      <td></td>\n",
       "      <td>LM080</td>\n",
       "      <td>NATAL</td>\n",
       "      <td>200.0</td>\n",
       "      <td>200.0</td>\n",
       "      <td>200.00</td>\n",
       "      <td>2800.0</td>\n",
       "      <td>14.0</td>\n",
       "      <td>112.0</td>\n",
       "      <td>18.0</td>\n",
       "      <td>2020-05-19</td>\n",
       "    </tr>\n",
       "    <tr>\n",
       "      <th>3309</th>\n",
       "      <td>PINEAPPLE QUEEN VICTORIA</td>\n",
       "      <td>8.0</td>\n",
       "      <td></td>\n",
       "      <td>LM080</td>\n",
       "      <td>NATAL</td>\n",
       "      <td>150.0</td>\n",
       "      <td>150.0</td>\n",
       "      <td>150.00</td>\n",
       "      <td>80550.0</td>\n",
       "      <td>537.0</td>\n",
       "      <td>4296.0</td>\n",
       "      <td>43.0</td>\n",
       "      <td>2020-03-16</td>\n",
       "    </tr>\n",
       "    <tr>\n",
       "      <th>3310</th>\n",
       "      <td>PINEAPPLE QUEEN VICTORIA</td>\n",
       "      <td>8.0</td>\n",
       "      <td></td>\n",
       "      <td>LM080</td>\n",
       "      <td>NATAL</td>\n",
       "      <td>40.0</td>\n",
       "      <td>140.0</td>\n",
       "      <td>140.00</td>\n",
       "      <td>21980.0</td>\n",
       "      <td>157.0</td>\n",
       "      <td>1256.0</td>\n",
       "      <td>0.0</td>\n",
       "      <td>2020-03-16</td>\n",
       "    </tr>\n",
       "    <tr>\n",
       "      <th>3311</th>\n",
       "      <td>PINEAPPLE QUEEN VICTORIA</td>\n",
       "      <td>8.0</td>\n",
       "      <td></td>\n",
       "      <td>LM080</td>\n",
       "      <td>NATAL</td>\n",
       "      <td>110.0</td>\n",
       "      <td>110.0</td>\n",
       "      <td>110.00</td>\n",
       "      <td>57200.0</td>\n",
       "      <td>520.0</td>\n",
       "      <td>4160.0</td>\n",
       "      <td>0.0</td>\n",
       "      <td>2020-03-16</td>\n",
       "    </tr>\n",
       "    <tr>\n",
       "      <th>3312</th>\n",
       "      <td>PINEAPPLE QUEEN VICTORIA</td>\n",
       "      <td>8.0</td>\n",
       "      <td></td>\n",
       "      <td>LM080</td>\n",
       "      <td>NATAL</td>\n",
       "      <td>100.0</td>\n",
       "      <td>100.0</td>\n",
       "      <td>100.00</td>\n",
       "      <td>15200.0</td>\n",
       "      <td>152.0</td>\n",
       "      <td>1216.0</td>\n",
       "      <td>86.0</td>\n",
       "      <td>2020-03-16</td>\n",
       "    </tr>\n",
       "    <tr>\n",
       "      <th>3313</th>\n",
       "      <td>PINEAPPLE QUEEN VICTORIA</td>\n",
       "      <td>8.0</td>\n",
       "      <td></td>\n",
       "      <td>LM080</td>\n",
       "      <td>NATAL</td>\n",
       "      <td>130.0</td>\n",
       "      <td>130.0</td>\n",
       "      <td>130.00</td>\n",
       "      <td>2470.0</td>\n",
       "      <td>19.0</td>\n",
       "      <td>152.0</td>\n",
       "      <td>17.0</td>\n",
       "      <td>2020-03-16</td>\n",
       "    </tr>\n",
       "    <tr>\n",
       "      <th>4452</th>\n",
       "      <td>PINEAPPLE QUEEN VICTORIA</td>\n",
       "      <td>8.0</td>\n",
       "      <td></td>\n",
       "      <td>LM080</td>\n",
       "      <td>NATAL</td>\n",
       "      <td>180.0</td>\n",
       "      <td>180.0</td>\n",
       "      <td>180.00</td>\n",
       "      <td>1080.0</td>\n",
       "      <td>6.0</td>\n",
       "      <td>48.0</td>\n",
       "      <td>752.0</td>\n",
       "      <td>2020-07-30</td>\n",
       "    </tr>\n",
       "    <tr>\n",
       "      <th>4453</th>\n",
       "      <td>PINEAPPLE QUEEN VICTORIA</td>\n",
       "      <td>8.0</td>\n",
       "      <td></td>\n",
       "      <td>LM080</td>\n",
       "      <td>NATAL</td>\n",
       "      <td>160.0</td>\n",
       "      <td>160.0</td>\n",
       "      <td>160.00</td>\n",
       "      <td>132960.0</td>\n",
       "      <td>831.0</td>\n",
       "      <td>6648.0</td>\n",
       "      <td>612.0</td>\n",
       "      <td>2020-07-30</td>\n",
       "    </tr>\n",
       "    <tr>\n",
       "      <th>4454</th>\n",
       "      <td>PINEAPPLE QUEEN VICTORIA</td>\n",
       "      <td>8.0</td>\n",
       "      <td></td>\n",
       "      <td>LM080</td>\n",
       "      <td>NATAL</td>\n",
       "      <td>135.0</td>\n",
       "      <td>150.0</td>\n",
       "      <td>145.47</td>\n",
       "      <td>38695.0</td>\n",
       "      <td>266.0</td>\n",
       "      <td>2128.0</td>\n",
       "      <td>1663.0</td>\n",
       "      <td>2020-07-30</td>\n",
       "    </tr>\n",
       "    <tr>\n",
       "      <th>4455</th>\n",
       "      <td>PINEAPPLE QUEEN VICTORIA</td>\n",
       "      <td>8.0</td>\n",
       "      <td></td>\n",
       "      <td>LM080</td>\n",
       "      <td>NATAL</td>\n",
       "      <td>100.0</td>\n",
       "      <td>120.0</td>\n",
       "      <td>103.90</td>\n",
       "      <td>17040.0</td>\n",
       "      <td>164.0</td>\n",
       "      <td>1312.0</td>\n",
       "      <td>914.0</td>\n",
       "      <td>2020-07-30</td>\n",
       "    </tr>\n",
       "  </tbody>\n",
       "</table>\n",
       "</div>"
      ],
      "text/plain": [
       "                   Commodities  Weight_Kg Size_Grade Container Province  \\\n",
       "791   PINEAPPLE QUEEN VICTORIA        8.0                LM080    NATAL   \n",
       "792   PINEAPPLE QUEEN VICTORIA        8.0                LM080    NATAL   \n",
       "793   PINEAPPLE QUEEN VICTORIA        8.0                LM080    NATAL   \n",
       "794   PINEAPPLE QUEEN VICTORIA        8.0                LM080    NATAL   \n",
       "795   PINEAPPLE QUEEN VICTORIA        8.0                LM080    NATAL   \n",
       "1892  PINEAPPLE QUEEN VICTORIA        8.0                LM080    NATAL   \n",
       "1893  PINEAPPLE QUEEN VICTORIA        8.0                LM080    NATAL   \n",
       "1894  PINEAPPLE QUEEN VICTORIA        8.0                LM080    NATAL   \n",
       "1895  PINEAPPLE QUEEN VICTORIA        8.0                LM080    NATAL   \n",
       "1896  PINEAPPLE QUEEN VICTORIA        8.0                LM080    NATAL   \n",
       "1897  PINEAPPLE QUEEN VICTORIA        8.0                LM080    NATAL   \n",
       "3309  PINEAPPLE QUEEN VICTORIA        8.0                LM080    NATAL   \n",
       "3310  PINEAPPLE QUEEN VICTORIA        8.0                LM080    NATAL   \n",
       "3311  PINEAPPLE QUEEN VICTORIA        8.0                LM080    NATAL   \n",
       "3312  PINEAPPLE QUEEN VICTORIA        8.0                LM080    NATAL   \n",
       "3313  PINEAPPLE QUEEN VICTORIA        8.0                LM080    NATAL   \n",
       "4452  PINEAPPLE QUEEN VICTORIA        8.0                LM080    NATAL   \n",
       "4453  PINEAPPLE QUEEN VICTORIA        8.0                LM080    NATAL   \n",
       "4454  PINEAPPLE QUEEN VICTORIA        8.0                LM080    NATAL   \n",
       "4455  PINEAPPLE QUEEN VICTORIA        8.0                LM080    NATAL   \n",
       "\n",
       "      Low_Price  High_Price  Average_Price  Sales_Total  Total_Qty_Sold  \\\n",
       "791        60.0       120.0         113.82      18780.0           165.0   \n",
       "792        50.0       100.0          92.00      65410.0           711.0   \n",
       "793        40.0        90.0          83.25      44290.0           532.0   \n",
       "794        15.0        70.0          57.78       9765.0           169.0   \n",
       "795        15.0       120.0         120.00        840.0             7.0   \n",
       "1892      225.0       225.0         225.00      80775.0           359.0   \n",
       "1893      200.0       200.0         200.00     224800.0          1124.0   \n",
       "1894      200.0       200.0         200.00      88600.0           443.0   \n",
       "1895      180.0       180.0         180.00      13140.0            73.0   \n",
       "1896      160.0       160.0         160.00       2400.0            15.0   \n",
       "1897      200.0       200.0         200.00       2800.0            14.0   \n",
       "3309      150.0       150.0         150.00      80550.0           537.0   \n",
       "3310       40.0       140.0         140.00      21980.0           157.0   \n",
       "3311      110.0       110.0         110.00      57200.0           520.0   \n",
       "3312      100.0       100.0         100.00      15200.0           152.0   \n",
       "3313      130.0       130.0         130.00       2470.0            19.0   \n",
       "4452      180.0       180.0         180.00       1080.0             6.0   \n",
       "4453      160.0       160.0         160.00     132960.0           831.0   \n",
       "4454      135.0       150.0         145.47      38695.0           266.0   \n",
       "4455      100.0       120.0         103.90      17040.0           164.0   \n",
       "\n",
       "      Total_Kg_Sold  Stock_On_Hand       Date  \n",
       "791          1320.0          149.0 2020-04-07  \n",
       "792          5688.0          430.0 2020-04-07  \n",
       "793          4256.0           44.0 2020-04-07  \n",
       "794          1352.0           46.0 2020-04-07  \n",
       "795            56.0            5.0 2020-04-07  \n",
       "1892         2872.0            6.0 2020-05-19  \n",
       "1893         8992.0          100.0 2020-05-19  \n",
       "1894         3544.0            2.0 2020-05-19  \n",
       "1895          584.0            0.0 2020-05-19  \n",
       "1896          120.0            5.0 2020-05-19  \n",
       "1897          112.0           18.0 2020-05-19  \n",
       "3309         4296.0           43.0 2020-03-16  \n",
       "3310         1256.0            0.0 2020-03-16  \n",
       "3311         4160.0            0.0 2020-03-16  \n",
       "3312         1216.0           86.0 2020-03-16  \n",
       "3313          152.0           17.0 2020-03-16  \n",
       "4452           48.0          752.0 2020-07-30  \n",
       "4453         6648.0          612.0 2020-07-30  \n",
       "4454         2128.0         1663.0 2020-07-30  \n",
       "4455         1312.0          914.0 2020-07-30  "
      ]
     },
     "execution_count": 53,
     "metadata": {},
     "output_type": "execute_result"
    }
   ],
   "source": [
    "# Check PINEAPPLE commodity to observe daily sales\n",
    "sales[(sales['Commodities'] == 'PINEAPPLE QUEEN VICTORIA') & (sales['Container'] == 'LM080') & (sales['Province'] == 'NATAL')].head(20)"
   ]
  },
  {
   "cell_type": "markdown",
   "metadata": {},
   "source": [
    "Based on the above table, it can be seen that multiple sales are taking place on the same day, which means that the data has to be consolidated to one day."
   ]
  },
  {
   "cell_type": "code",
   "execution_count": 80,
   "metadata": {},
   "outputs": [],
   "source": [
    "# Consolidation of repeated sales in a single day of the same product to one day\n",
    "df = filtered_sales.groupby(['Province', 'Container', 'Size_Grade', 'Weight_Kg', 'Commodities', 'Date']\n",
    "    )[['Low_Price', 'High_Price', 'Sales_Total', 'Total_Qty_Sold', 'Total_Kg_Sold', 'Stock_On_Hand']].agg(\n",
    "        {\n",
    "            'Low_Price':min,\n",
    "            'High_Price':max,\n",
    "            'Sales_Total':sum,\n",
    "            'Total_Qty_Sold':sum,\n",
    "            'Total_Kg_Sold':sum,\n",
    "            'Stock_On_Hand':sum\n",
    "        }\n",
    ")"
   ]
  },
  {
   "cell_type": "code",
   "execution_count": 81,
   "metadata": {},
   "outputs": [
    {
     "data": {
      "text/html": [
       "<div>\n",
       "<style scoped>\n",
       "    .dataframe tbody tr th:only-of-type {\n",
       "        vertical-align: middle;\n",
       "    }\n",
       "\n",
       "    .dataframe tbody tr th {\n",
       "        vertical-align: top;\n",
       "    }\n",
       "\n",
       "    .dataframe thead th {\n",
       "        text-align: right;\n",
       "    }\n",
       "</style>\n",
       "<table border=\"1\" class=\"dataframe\">\n",
       "  <thead>\n",
       "    <tr style=\"text-align: right;\">\n",
       "      <th></th>\n",
       "      <th></th>\n",
       "      <th></th>\n",
       "      <th></th>\n",
       "      <th></th>\n",
       "      <th></th>\n",
       "      <th>Low_Price</th>\n",
       "      <th>High_Price</th>\n",
       "      <th>Sales_Total</th>\n",
       "      <th>Total_Qty_Sold</th>\n",
       "      <th>Total_Kg_Sold</th>\n",
       "      <th>Stock_On_Hand</th>\n",
       "    </tr>\n",
       "    <tr>\n",
       "      <th>Province</th>\n",
       "      <th>Container</th>\n",
       "      <th>Size_Grade</th>\n",
       "      <th>Weight_Kg</th>\n",
       "      <th>Commodities</th>\n",
       "      <th>Date</th>\n",
       "      <th></th>\n",
       "      <th></th>\n",
       "      <th></th>\n",
       "      <th></th>\n",
       "      <th></th>\n",
       "      <th></th>\n",
       "    </tr>\n",
       "  </thead>\n",
       "  <tbody>\n",
       "    <tr>\n",
       "      <th rowspan=\"5\" valign=\"top\"></th>\n",
       "      <th rowspan=\"5\" valign=\"top\">A8075</th>\n",
       "      <th rowspan=\"5\" valign=\"top\"></th>\n",
       "      <th rowspan=\"5\" valign=\"top\">7.5</th>\n",
       "      <th rowspan=\"5\" valign=\"top\">HABANERO YELLOW</th>\n",
       "      <th>2020-07-01</th>\n",
       "      <td>350.0</td>\n",
       "      <td>350.0</td>\n",
       "      <td>700.0</td>\n",
       "      <td>2.0</td>\n",
       "      <td>15.0</td>\n",
       "      <td>6.0</td>\n",
       "    </tr>\n",
       "    <tr>\n",
       "      <th>2020-07-08</th>\n",
       "      <td>350.0</td>\n",
       "      <td>350.0</td>\n",
       "      <td>1400.0</td>\n",
       "      <td>4.0</td>\n",
       "      <td>30.0</td>\n",
       "      <td>12.0</td>\n",
       "    </tr>\n",
       "    <tr>\n",
       "      <th>2020-07-09</th>\n",
       "      <td>350.0</td>\n",
       "      <td>350.0</td>\n",
       "      <td>1400.0</td>\n",
       "      <td>4.0</td>\n",
       "      <td>30.0</td>\n",
       "      <td>12.0</td>\n",
       "    </tr>\n",
       "    <tr>\n",
       "      <th>2020-07-14</th>\n",
       "      <td>350.0</td>\n",
       "      <td>350.0</td>\n",
       "      <td>1050.0</td>\n",
       "      <td>3.0</td>\n",
       "      <td>22.5</td>\n",
       "      <td>2.0</td>\n",
       "    </tr>\n",
       "    <tr>\n",
       "      <th>2020-07-20</th>\n",
       "      <td>300.0</td>\n",
       "      <td>320.0</td>\n",
       "      <td>620.0</td>\n",
       "      <td>2.0</td>\n",
       "      <td>15.0</td>\n",
       "      <td>0.0</td>\n",
       "    </tr>\n",
       "    <tr>\n",
       "      <th>...</th>\n",
       "      <th>...</th>\n",
       "      <th>...</th>\n",
       "      <th>...</th>\n",
       "      <th>...</th>\n",
       "      <th>...</th>\n",
       "      <td>...</td>\n",
       "      <td>...</td>\n",
       "      <td>...</td>\n",
       "      <td>...</td>\n",
       "      <td>...</td>\n",
       "      <td>...</td>\n",
       "    </tr>\n",
       "    <tr>\n",
       "      <th rowspan=\"5\" valign=\"top\">WESTERN FREESTATE</th>\n",
       "      <th rowspan=\"5\" valign=\"top\">PP100</th>\n",
       "      <th>4M</th>\n",
       "      <th>10.0</th>\n",
       "      <th>POTATO LANORMA (WASHED)</th>\n",
       "      <th>2020-03-10</th>\n",
       "      <td>8.0</td>\n",
       "      <td>10.0</td>\n",
       "      <td>1080.0</td>\n",
       "      <td>130.0</td>\n",
       "      <td>1300.0</td>\n",
       "      <td>0.0</td>\n",
       "    </tr>\n",
       "    <tr>\n",
       "      <th>4R</th>\n",
       "      <th>10.0</th>\n",
       "      <th>POTATO (WASHED) MONDIAL</th>\n",
       "      <th>2020-01-23</th>\n",
       "      <td>5.0</td>\n",
       "      <td>10.0</td>\n",
       "      <td>5470.0</td>\n",
       "      <td>1049.0</td>\n",
       "      <td>10490.0</td>\n",
       "      <td>0.0</td>\n",
       "    </tr>\n",
       "    <tr>\n",
       "      <th rowspan=\"2\" valign=\"top\">4S</th>\n",
       "      <th rowspan=\"2\" valign=\"top\">10.0</th>\n",
       "      <th rowspan=\"2\" valign=\"top\">POTATO (WASHED) MONDIAL</th>\n",
       "      <th>2020-01-23</th>\n",
       "      <td>5.0</td>\n",
       "      <td>5.0</td>\n",
       "      <td>1440.0</td>\n",
       "      <td>288.0</td>\n",
       "      <td>2880.0</td>\n",
       "      <td>0.0</td>\n",
       "    </tr>\n",
       "    <tr>\n",
       "      <th>2020-06-19</th>\n",
       "      <td>5.0</td>\n",
       "      <td>5.0</td>\n",
       "      <td>835.0</td>\n",
       "      <td>167.0</td>\n",
       "      <td>1670.0</td>\n",
       "      <td>0.0</td>\n",
       "    </tr>\n",
       "    <tr>\n",
       "      <th>4Z</th>\n",
       "      <th>10.0</th>\n",
       "      <th>POTATO (WASHED) MONDIAL</th>\n",
       "      <th>2020-06-19</th>\n",
       "      <td>20.0</td>\n",
       "      <td>20.0</td>\n",
       "      <td>20.0</td>\n",
       "      <td>1.0</td>\n",
       "      <td>10.0</td>\n",
       "      <td>103.0</td>\n",
       "    </tr>\n",
       "  </tbody>\n",
       "</table>\n",
       "<p>90560 rows × 6 columns</p>\n",
       "</div>"
      ],
      "text/plain": [
       "                                                                                     Low_Price  \\\n",
       "Province          Container Size_Grade Weight_Kg Commodities             Date                    \n",
       "                  A8075                7.5       HABANERO YELLOW         2020-07-01      350.0   \n",
       "                                                                         2020-07-08      350.0   \n",
       "                                                                         2020-07-09      350.0   \n",
       "                                                                         2020-07-14      350.0   \n",
       "                                                                         2020-07-20      300.0   \n",
       "...                                                                                        ...   \n",
       "WESTERN FREESTATE PP100     4M         10.0      POTATO LANORMA (WASHED) 2020-03-10        8.0   \n",
       "                            4R         10.0      POTATO (WASHED) MONDIAL 2020-01-23        5.0   \n",
       "                            4S         10.0      POTATO (WASHED) MONDIAL 2020-01-23        5.0   \n",
       "                                                                         2020-06-19        5.0   \n",
       "                            4Z         10.0      POTATO (WASHED) MONDIAL 2020-06-19       20.0   \n",
       "\n",
       "                                                                                     High_Price  \\\n",
       "Province          Container Size_Grade Weight_Kg Commodities             Date                     \n",
       "                  A8075                7.5       HABANERO YELLOW         2020-07-01       350.0   \n",
       "                                                                         2020-07-08       350.0   \n",
       "                                                                         2020-07-09       350.0   \n",
       "                                                                         2020-07-14       350.0   \n",
       "                                                                         2020-07-20       320.0   \n",
       "...                                                                                         ...   \n",
       "WESTERN FREESTATE PP100     4M         10.0      POTATO LANORMA (WASHED) 2020-03-10        10.0   \n",
       "                            4R         10.0      POTATO (WASHED) MONDIAL 2020-01-23        10.0   \n",
       "                            4S         10.0      POTATO (WASHED) MONDIAL 2020-01-23         5.0   \n",
       "                                                                         2020-06-19         5.0   \n",
       "                            4Z         10.0      POTATO (WASHED) MONDIAL 2020-06-19        20.0   \n",
       "\n",
       "                                                                                     Sales_Total  \\\n",
       "Province          Container Size_Grade Weight_Kg Commodities             Date                      \n",
       "                  A8075                7.5       HABANERO YELLOW         2020-07-01        700.0   \n",
       "                                                                         2020-07-08       1400.0   \n",
       "                                                                         2020-07-09       1400.0   \n",
       "                                                                         2020-07-14       1050.0   \n",
       "                                                                         2020-07-20        620.0   \n",
       "...                                                                                          ...   \n",
       "WESTERN FREESTATE PP100     4M         10.0      POTATO LANORMA (WASHED) 2020-03-10       1080.0   \n",
       "                            4R         10.0      POTATO (WASHED) MONDIAL 2020-01-23       5470.0   \n",
       "                            4S         10.0      POTATO (WASHED) MONDIAL 2020-01-23       1440.0   \n",
       "                                                                         2020-06-19        835.0   \n",
       "                            4Z         10.0      POTATO (WASHED) MONDIAL 2020-06-19         20.0   \n",
       "\n",
       "                                                                                     Total_Qty_Sold  \\\n",
       "Province          Container Size_Grade Weight_Kg Commodities             Date                         \n",
       "                  A8075                7.5       HABANERO YELLOW         2020-07-01             2.0   \n",
       "                                                                         2020-07-08             4.0   \n",
       "                                                                         2020-07-09             4.0   \n",
       "                                                                         2020-07-14             3.0   \n",
       "                                                                         2020-07-20             2.0   \n",
       "...                                                                                             ...   \n",
       "WESTERN FREESTATE PP100     4M         10.0      POTATO LANORMA (WASHED) 2020-03-10           130.0   \n",
       "                            4R         10.0      POTATO (WASHED) MONDIAL 2020-01-23          1049.0   \n",
       "                            4S         10.0      POTATO (WASHED) MONDIAL 2020-01-23           288.0   \n",
       "                                                                         2020-06-19           167.0   \n",
       "                            4Z         10.0      POTATO (WASHED) MONDIAL 2020-06-19             1.0   \n",
       "\n",
       "                                                                                     Total_Kg_Sold  \\\n",
       "Province          Container Size_Grade Weight_Kg Commodities             Date                        \n",
       "                  A8075                7.5       HABANERO YELLOW         2020-07-01           15.0   \n",
       "                                                                         2020-07-08           30.0   \n",
       "                                                                         2020-07-09           30.0   \n",
       "                                                                         2020-07-14           22.5   \n",
       "                                                                         2020-07-20           15.0   \n",
       "...                                                                                            ...   \n",
       "WESTERN FREESTATE PP100     4M         10.0      POTATO LANORMA (WASHED) 2020-03-10         1300.0   \n",
       "                            4R         10.0      POTATO (WASHED) MONDIAL 2020-01-23        10490.0   \n",
       "                            4S         10.0      POTATO (WASHED) MONDIAL 2020-01-23         2880.0   \n",
       "                                                                         2020-06-19         1670.0   \n",
       "                            4Z         10.0      POTATO (WASHED) MONDIAL 2020-06-19           10.0   \n",
       "\n",
       "                                                                                     Stock_On_Hand  \n",
       "Province          Container Size_Grade Weight_Kg Commodities             Date                       \n",
       "                  A8075                7.5       HABANERO YELLOW         2020-07-01            6.0  \n",
       "                                                                         2020-07-08           12.0  \n",
       "                                                                         2020-07-09           12.0  \n",
       "                                                                         2020-07-14            2.0  \n",
       "                                                                         2020-07-20            0.0  \n",
       "...                                                                                            ...  \n",
       "WESTERN FREESTATE PP100     4M         10.0      POTATO LANORMA (WASHED) 2020-03-10            0.0  \n",
       "                            4R         10.0      POTATO (WASHED) MONDIAL 2020-01-23            0.0  \n",
       "                            4S         10.0      POTATO (WASHED) MONDIAL 2020-01-23            0.0  \n",
       "                                                                         2020-06-19            0.0  \n",
       "                            4Z         10.0      POTATO (WASHED) MONDIAL 2020-06-19          103.0  \n",
       "\n",
       "[90560 rows x 6 columns]"
      ]
     },
     "execution_count": 81,
     "metadata": {},
     "output_type": "execute_result"
    }
   ],
   "source": [
    "df"
   ]
  },
  {
   "cell_type": "code",
   "execution_count": 82,
   "metadata": {},
   "outputs": [],
   "source": [
    "df.reset_index(inplace=True)"
   ]
  },
  {
   "cell_type": "code",
   "execution_count": 83,
   "metadata": {},
   "outputs": [
    {
     "data": {
      "text/html": [
       "<div>\n",
       "<style scoped>\n",
       "    .dataframe tbody tr th:only-of-type {\n",
       "        vertical-align: middle;\n",
       "    }\n",
       "\n",
       "    .dataframe tbody tr th {\n",
       "        vertical-align: top;\n",
       "    }\n",
       "\n",
       "    .dataframe thead th {\n",
       "        text-align: right;\n",
       "    }\n",
       "</style>\n",
       "<table border=\"1\" class=\"dataframe\">\n",
       "  <thead>\n",
       "    <tr style=\"text-align: right;\">\n",
       "      <th></th>\n",
       "      <th>Province</th>\n",
       "      <th>Container</th>\n",
       "      <th>Size_Grade</th>\n",
       "      <th>Weight_Kg</th>\n",
       "      <th>Commodities</th>\n",
       "      <th>Date</th>\n",
       "      <th>Low_Price</th>\n",
       "      <th>High_Price</th>\n",
       "      <th>Sales_Total</th>\n",
       "      <th>Total_Qty_Sold</th>\n",
       "      <th>Total_Kg_Sold</th>\n",
       "      <th>Stock_On_Hand</th>\n",
       "    </tr>\n",
       "  </thead>\n",
       "  <tbody>\n",
       "    <tr>\n",
       "      <th>0</th>\n",
       "      <td></td>\n",
       "      <td>A8075</td>\n",
       "      <td></td>\n",
       "      <td>7.5</td>\n",
       "      <td>HABANERO YELLOW</td>\n",
       "      <td>2020-07-01</td>\n",
       "      <td>350.0</td>\n",
       "      <td>350.0</td>\n",
       "      <td>700.0</td>\n",
       "      <td>2.0</td>\n",
       "      <td>15.0</td>\n",
       "      <td>6.0</td>\n",
       "    </tr>\n",
       "    <tr>\n",
       "      <th>1</th>\n",
       "      <td></td>\n",
       "      <td>A8075</td>\n",
       "      <td></td>\n",
       "      <td>7.5</td>\n",
       "      <td>HABANERO YELLOW</td>\n",
       "      <td>2020-07-08</td>\n",
       "      <td>350.0</td>\n",
       "      <td>350.0</td>\n",
       "      <td>1400.0</td>\n",
       "      <td>4.0</td>\n",
       "      <td>30.0</td>\n",
       "      <td>12.0</td>\n",
       "    </tr>\n",
       "    <tr>\n",
       "      <th>2</th>\n",
       "      <td></td>\n",
       "      <td>A8075</td>\n",
       "      <td></td>\n",
       "      <td>7.5</td>\n",
       "      <td>HABANERO YELLOW</td>\n",
       "      <td>2020-07-09</td>\n",
       "      <td>350.0</td>\n",
       "      <td>350.0</td>\n",
       "      <td>1400.0</td>\n",
       "      <td>4.0</td>\n",
       "      <td>30.0</td>\n",
       "      <td>12.0</td>\n",
       "    </tr>\n",
       "    <tr>\n",
       "      <th>3</th>\n",
       "      <td></td>\n",
       "      <td>A8075</td>\n",
       "      <td></td>\n",
       "      <td>7.5</td>\n",
       "      <td>HABANERO YELLOW</td>\n",
       "      <td>2020-07-14</td>\n",
       "      <td>350.0</td>\n",
       "      <td>350.0</td>\n",
       "      <td>1050.0</td>\n",
       "      <td>3.0</td>\n",
       "      <td>22.5</td>\n",
       "      <td>2.0</td>\n",
       "    </tr>\n",
       "    <tr>\n",
       "      <th>4</th>\n",
       "      <td></td>\n",
       "      <td>A8075</td>\n",
       "      <td></td>\n",
       "      <td>7.5</td>\n",
       "      <td>HABANERO YELLOW</td>\n",
       "      <td>2020-07-20</td>\n",
       "      <td>300.0</td>\n",
       "      <td>320.0</td>\n",
       "      <td>620.0</td>\n",
       "      <td>2.0</td>\n",
       "      <td>15.0</td>\n",
       "      <td>0.0</td>\n",
       "    </tr>\n",
       "  </tbody>\n",
       "</table>\n",
       "</div>"
      ],
      "text/plain": [
       "  Province Container Size_Grade  Weight_Kg      Commodities       Date  \\\n",
       "0              A8075                   7.5  HABANERO YELLOW 2020-07-01   \n",
       "1              A8075                   7.5  HABANERO YELLOW 2020-07-08   \n",
       "2              A8075                   7.5  HABANERO YELLOW 2020-07-09   \n",
       "3              A8075                   7.5  HABANERO YELLOW 2020-07-14   \n",
       "4              A8075                   7.5  HABANERO YELLOW 2020-07-20   \n",
       "\n",
       "   Low_Price  High_Price  Sales_Total  Total_Qty_Sold  Total_Kg_Sold  \\\n",
       "0      350.0       350.0        700.0             2.0           15.0   \n",
       "1      350.0       350.0       1400.0             4.0           30.0   \n",
       "2      350.0       350.0       1400.0             4.0           30.0   \n",
       "3      350.0       350.0       1050.0             3.0           22.5   \n",
       "4      300.0       320.0        620.0             2.0           15.0   \n",
       "\n",
       "   Stock_On_Hand  \n",
       "0            6.0  \n",
       "1           12.0  \n",
       "2           12.0  \n",
       "3            2.0  \n",
       "4            0.0  "
      ]
     },
     "execution_count": 83,
     "metadata": {},
     "output_type": "execute_result"
    }
   ],
   "source": [
    "df.head()"
   ]
  },
  {
   "cell_type": "code",
   "execution_count": 84,
   "metadata": {},
   "outputs": [],
   "source": [
    "df['avg_per_kg'] = round(df['Sales_Total'] / df['Total_Kg_Sold'], 2)"
   ]
  },
  {
   "cell_type": "code",
   "execution_count": 85,
   "metadata": {},
   "outputs": [
    {
     "data": {
      "text/html": [
       "<div>\n",
       "<style scoped>\n",
       "    .dataframe tbody tr th:only-of-type {\n",
       "        vertical-align: middle;\n",
       "    }\n",
       "\n",
       "    .dataframe tbody tr th {\n",
       "        vertical-align: top;\n",
       "    }\n",
       "\n",
       "    .dataframe thead th {\n",
       "        text-align: right;\n",
       "    }\n",
       "</style>\n",
       "<table border=\"1\" class=\"dataframe\">\n",
       "  <thead>\n",
       "    <tr style=\"text-align: right;\">\n",
       "      <th></th>\n",
       "      <th>Province</th>\n",
       "      <th>Container</th>\n",
       "      <th>Size_Grade</th>\n",
       "      <th>Weight_Kg</th>\n",
       "      <th>Commodities</th>\n",
       "      <th>Date</th>\n",
       "      <th>Low_Price</th>\n",
       "      <th>High_Price</th>\n",
       "      <th>Sales_Total</th>\n",
       "      <th>Total_Qty_Sold</th>\n",
       "      <th>Total_Kg_Sold</th>\n",
       "      <th>Stock_On_Hand</th>\n",
       "      <th>avg_per_kg</th>\n",
       "    </tr>\n",
       "  </thead>\n",
       "  <tbody>\n",
       "    <tr>\n",
       "      <th>0</th>\n",
       "      <td></td>\n",
       "      <td>A8075</td>\n",
       "      <td></td>\n",
       "      <td>7.5</td>\n",
       "      <td>HABANERO YELLOW</td>\n",
       "      <td>2020-07-01</td>\n",
       "      <td>350.0</td>\n",
       "      <td>350.0</td>\n",
       "      <td>700.0</td>\n",
       "      <td>2.0</td>\n",
       "      <td>15.0</td>\n",
       "      <td>6.0</td>\n",
       "      <td>46.67</td>\n",
       "    </tr>\n",
       "    <tr>\n",
       "      <th>1</th>\n",
       "      <td></td>\n",
       "      <td>A8075</td>\n",
       "      <td></td>\n",
       "      <td>7.5</td>\n",
       "      <td>HABANERO YELLOW</td>\n",
       "      <td>2020-07-08</td>\n",
       "      <td>350.0</td>\n",
       "      <td>350.0</td>\n",
       "      <td>1400.0</td>\n",
       "      <td>4.0</td>\n",
       "      <td>30.0</td>\n",
       "      <td>12.0</td>\n",
       "      <td>46.67</td>\n",
       "    </tr>\n",
       "    <tr>\n",
       "      <th>2</th>\n",
       "      <td></td>\n",
       "      <td>A8075</td>\n",
       "      <td></td>\n",
       "      <td>7.5</td>\n",
       "      <td>HABANERO YELLOW</td>\n",
       "      <td>2020-07-09</td>\n",
       "      <td>350.0</td>\n",
       "      <td>350.0</td>\n",
       "      <td>1400.0</td>\n",
       "      <td>4.0</td>\n",
       "      <td>30.0</td>\n",
       "      <td>12.0</td>\n",
       "      <td>46.67</td>\n",
       "    </tr>\n",
       "    <tr>\n",
       "      <th>3</th>\n",
       "      <td></td>\n",
       "      <td>A8075</td>\n",
       "      <td></td>\n",
       "      <td>7.5</td>\n",
       "      <td>HABANERO YELLOW</td>\n",
       "      <td>2020-07-14</td>\n",
       "      <td>350.0</td>\n",
       "      <td>350.0</td>\n",
       "      <td>1050.0</td>\n",
       "      <td>3.0</td>\n",
       "      <td>22.5</td>\n",
       "      <td>2.0</td>\n",
       "      <td>46.67</td>\n",
       "    </tr>\n",
       "    <tr>\n",
       "      <th>4</th>\n",
       "      <td></td>\n",
       "      <td>A8075</td>\n",
       "      <td></td>\n",
       "      <td>7.5</td>\n",
       "      <td>HABANERO YELLOW</td>\n",
       "      <td>2020-07-20</td>\n",
       "      <td>300.0</td>\n",
       "      <td>320.0</td>\n",
       "      <td>620.0</td>\n",
       "      <td>2.0</td>\n",
       "      <td>15.0</td>\n",
       "      <td>0.0</td>\n",
       "      <td>41.33</td>\n",
       "    </tr>\n",
       "  </tbody>\n",
       "</table>\n",
       "</div>"
      ],
      "text/plain": [
       "  Province Container Size_Grade  Weight_Kg      Commodities       Date  \\\n",
       "0              A8075                   7.5  HABANERO YELLOW 2020-07-01   \n",
       "1              A8075                   7.5  HABANERO YELLOW 2020-07-08   \n",
       "2              A8075                   7.5  HABANERO YELLOW 2020-07-09   \n",
       "3              A8075                   7.5  HABANERO YELLOW 2020-07-14   \n",
       "4              A8075                   7.5  HABANERO YELLOW 2020-07-20   \n",
       "\n",
       "   Low_Price  High_Price  Sales_Total  Total_Qty_Sold  Total_Kg_Sold  \\\n",
       "0      350.0       350.0        700.0             2.0           15.0   \n",
       "1      350.0       350.0       1400.0             4.0           30.0   \n",
       "2      350.0       350.0       1400.0             4.0           30.0   \n",
       "3      350.0       350.0       1050.0             3.0           22.5   \n",
       "4      300.0       320.0        620.0             2.0           15.0   \n",
       "\n",
       "   Stock_On_Hand  avg_per_kg  \n",
       "0            6.0       46.67  \n",
       "1           12.0       46.67  \n",
       "2           12.0       46.67  \n",
       "3            2.0       46.67  \n",
       "4            0.0       41.33  "
      ]
     },
     "execution_count": 85,
     "metadata": {},
     "output_type": "execute_result"
    }
   ],
   "source": [
    "df.head()"
   ]
  },
  {
   "cell_type": "code",
   "execution_count": 98,
   "metadata": {},
   "outputs": [
    {
     "data": {
      "text/plain": [
       "Province  Container  Size_Grade  Weight_Kg  Commodities             Commodities           \n",
       "CAPE      EC120      1S          12.0       APPLE GOLDEN DELICIOUS  APPLE GOLDEN DELICIOUS    1.000000\n",
       "NATAL     ST170                  17.0       CHILLIES GREEN          CHILLIES GREEN            0.986395\n",
       "          NE005                  0.5        CURRY LEAVES            CURRY LEAVES              0.986395\n",
       "          BI100                  10.0       BRINJALS                BRINJALS                  0.986395\n",
       "          AT200                  20.0       CABBAGE                 CABBAGE                   0.986395\n",
       "                                                                                                ...   \n",
       "          BF070      1L          7.0        CUCUMBERS ENGLISH       CUCUMBERS ENGLISH         0.006803\n",
       "                                            LEMON                   LEMON                     0.006803\n",
       "                     1M          7.0        CUCUMBERS ENGLISH       CUCUMBERS ENGLISH         0.006803\n",
       "                     2L          7.0        LEMON                   LEMON                     0.006803\n",
       "          BV150      1S          15.0       SATSUMAS                SATSUMAS                  0.006803\n",
       "Name: Commodities, Length: 6026, dtype: float64"
      ]
     },
     "execution_count": 98,
     "metadata": {},
     "output_type": "execute_result"
    }
   ],
   "source": [
    "# Check which product is sold on a daily basis\n",
    "day_count = sales['Date'].nunique()\n",
    "df.groupby(['Province', 'Container', 'Size_Grade', 'Weight_Kg', 'Commodities'])['Commodities'].value_counts().apply(lambda x: x / day_count).sort_values(ascending=False)"
   ]
  },
  {
   "cell_type": "markdown",
   "metadata": {},
   "source": [
    "Based on the results above, **APPLE GOLDEN DELICIOUS** has been sold for every day that is recorded in the database. For this notebook, this product will be used as a template for developing a forecasting model."
   ]
  },
  {
   "cell_type": "code",
   "execution_count": 115,
   "metadata": {},
   "outputs": [],
   "source": [
    "price = df[\n",
    "    (df['Commodities'] == 'APPLE GOLDEN DELICIOUS') & \n",
    "    (df['Weight_Kg'] == 12.0) &\n",
    "    (df['Size_Grade'] == '1S') &\n",
    "    (df['Container'] == 'EC120') &\n",
    "    (df['Province'] == 'CAPE')\n",
    "]"
   ]
  },
  {
   "cell_type": "code",
   "execution_count": 116,
   "metadata": {},
   "outputs": [
    {
     "data": {
      "text/html": [
       "<div>\n",
       "<style scoped>\n",
       "    .dataframe tbody tr th:only-of-type {\n",
       "        vertical-align: middle;\n",
       "    }\n",
       "\n",
       "    .dataframe tbody tr th {\n",
       "        vertical-align: top;\n",
       "    }\n",
       "\n",
       "    .dataframe thead th {\n",
       "        text-align: right;\n",
       "    }\n",
       "</style>\n",
       "<table border=\"1\" class=\"dataframe\">\n",
       "  <thead>\n",
       "    <tr style=\"text-align: right;\">\n",
       "      <th></th>\n",
       "      <th>Province</th>\n",
       "      <th>Container</th>\n",
       "      <th>Size_Grade</th>\n",
       "      <th>Weight_Kg</th>\n",
       "      <th>Commodities</th>\n",
       "      <th>Date</th>\n",
       "      <th>Low_Price</th>\n",
       "      <th>High_Price</th>\n",
       "      <th>Sales_Total</th>\n",
       "      <th>Total_Qty_Sold</th>\n",
       "      <th>Total_Kg_Sold</th>\n",
       "      <th>Stock_On_Hand</th>\n",
       "      <th>avg_per_kg</th>\n",
       "    </tr>\n",
       "  </thead>\n",
       "  <tbody>\n",
       "    <tr>\n",
       "      <th>4350</th>\n",
       "      <td>CAPE</td>\n",
       "      <td>EC120</td>\n",
       "      <td>1S</td>\n",
       "      <td>12.0</td>\n",
       "      <td>APPLE GOLDEN DELICIOUS</td>\n",
       "      <td>2019-12-11</td>\n",
       "      <td>50.0</td>\n",
       "      <td>140.0</td>\n",
       "      <td>3840.0</td>\n",
       "      <td>33.0</td>\n",
       "      <td>396.0</td>\n",
       "      <td>1117.0</td>\n",
       "      <td>9.70</td>\n",
       "    </tr>\n",
       "    <tr>\n",
       "      <th>4351</th>\n",
       "      <td>CAPE</td>\n",
       "      <td>EC120</td>\n",
       "      <td>1S</td>\n",
       "      <td>12.0</td>\n",
       "      <td>APPLE GOLDEN DELICIOUS</td>\n",
       "      <td>2019-12-12</td>\n",
       "      <td>100.0</td>\n",
       "      <td>144.0</td>\n",
       "      <td>129546.0</td>\n",
       "      <td>1151.0</td>\n",
       "      <td>13812.0</td>\n",
       "      <td>2070.0</td>\n",
       "      <td>9.38</td>\n",
       "    </tr>\n",
       "    <tr>\n",
       "      <th>4352</th>\n",
       "      <td>CAPE</td>\n",
       "      <td>EC120</td>\n",
       "      <td>1S</td>\n",
       "      <td>12.0</td>\n",
       "      <td>APPLE GOLDEN DELICIOUS</td>\n",
       "      <td>2019-12-14</td>\n",
       "      <td>100.0</td>\n",
       "      <td>140.0</td>\n",
       "      <td>7734.0</td>\n",
       "      <td>63.0</td>\n",
       "      <td>756.0</td>\n",
       "      <td>2865.0</td>\n",
       "      <td>10.23</td>\n",
       "    </tr>\n",
       "    <tr>\n",
       "      <th>4353</th>\n",
       "      <td>CAPE</td>\n",
       "      <td>EC120</td>\n",
       "      <td>1S</td>\n",
       "      <td>12.0</td>\n",
       "      <td>APPLE GOLDEN DELICIOUS</td>\n",
       "      <td>2019-12-23</td>\n",
       "      <td>40.0</td>\n",
       "      <td>200.0</td>\n",
       "      <td>99673.0</td>\n",
       "      <td>1519.0</td>\n",
       "      <td>18228.0</td>\n",
       "      <td>6017.0</td>\n",
       "      <td>5.47</td>\n",
       "    </tr>\n",
       "    <tr>\n",
       "      <th>4354</th>\n",
       "      <td>CAPE</td>\n",
       "      <td>EC120</td>\n",
       "      <td>1S</td>\n",
       "      <td>12.0</td>\n",
       "      <td>APPLE GOLDEN DELICIOUS</td>\n",
       "      <td>2019-12-30</td>\n",
       "      <td>50.0</td>\n",
       "      <td>140.0</td>\n",
       "      <td>69874.0</td>\n",
       "      <td>892.0</td>\n",
       "      <td>10704.0</td>\n",
       "      <td>1272.0</td>\n",
       "      <td>6.53</td>\n",
       "    </tr>\n",
       "  </tbody>\n",
       "</table>\n",
       "</div>"
      ],
      "text/plain": [
       "     Province Container Size_Grade  Weight_Kg             Commodities  \\\n",
       "4350     CAPE     EC120         1S       12.0  APPLE GOLDEN DELICIOUS   \n",
       "4351     CAPE     EC120         1S       12.0  APPLE GOLDEN DELICIOUS   \n",
       "4352     CAPE     EC120         1S       12.0  APPLE GOLDEN DELICIOUS   \n",
       "4353     CAPE     EC120         1S       12.0  APPLE GOLDEN DELICIOUS   \n",
       "4354     CAPE     EC120         1S       12.0  APPLE GOLDEN DELICIOUS   \n",
       "\n",
       "           Date  Low_Price  High_Price  Sales_Total  Total_Qty_Sold  \\\n",
       "4350 2019-12-11       50.0       140.0       3840.0            33.0   \n",
       "4351 2019-12-12      100.0       144.0     129546.0          1151.0   \n",
       "4352 2019-12-14      100.0       140.0       7734.0            63.0   \n",
       "4353 2019-12-23       40.0       200.0      99673.0          1519.0   \n",
       "4354 2019-12-30       50.0       140.0      69874.0           892.0   \n",
       "\n",
       "      Total_Kg_Sold  Stock_On_Hand  avg_per_kg  \n",
       "4350          396.0         1117.0        9.70  \n",
       "4351        13812.0         2070.0        9.38  \n",
       "4352          756.0         2865.0       10.23  \n",
       "4353        18228.0         6017.0        5.47  \n",
       "4354        10704.0         1272.0        6.53  "
      ]
     },
     "execution_count": 116,
     "metadata": {},
     "output_type": "execute_result"
    }
   ],
   "source": [
    "price.head()"
   ]
  },
  {
   "cell_type": "code",
   "execution_count": 117,
   "metadata": {},
   "outputs": [],
   "source": [
    "price = price[['Date', 'avg_per_kg']]"
   ]
  },
  {
   "cell_type": "code",
   "execution_count": 118,
   "metadata": {},
   "outputs": [],
   "source": [
    "price.set_index('Date', inplace=True)"
   ]
  },
  {
   "cell_type": "code",
   "execution_count": 119,
   "metadata": {},
   "outputs": [
    {
     "data": {
      "text/html": [
       "<div>\n",
       "<style scoped>\n",
       "    .dataframe tbody tr th:only-of-type {\n",
       "        vertical-align: middle;\n",
       "    }\n",
       "\n",
       "    .dataframe tbody tr th {\n",
       "        vertical-align: top;\n",
       "    }\n",
       "\n",
       "    .dataframe thead th {\n",
       "        text-align: right;\n",
       "    }\n",
       "</style>\n",
       "<table border=\"1\" class=\"dataframe\">\n",
       "  <thead>\n",
       "    <tr style=\"text-align: right;\">\n",
       "      <th></th>\n",
       "      <th>avg_per_kg</th>\n",
       "    </tr>\n",
       "    <tr>\n",
       "      <th>Date</th>\n",
       "      <th></th>\n",
       "    </tr>\n",
       "  </thead>\n",
       "  <tbody>\n",
       "    <tr>\n",
       "      <th>2019-12-11</th>\n",
       "      <td>9.70</td>\n",
       "    </tr>\n",
       "    <tr>\n",
       "      <th>2019-12-12</th>\n",
       "      <td>9.38</td>\n",
       "    </tr>\n",
       "    <tr>\n",
       "      <th>2019-12-14</th>\n",
       "      <td>10.23</td>\n",
       "    </tr>\n",
       "    <tr>\n",
       "      <th>2019-12-23</th>\n",
       "      <td>5.47</td>\n",
       "    </tr>\n",
       "    <tr>\n",
       "      <th>2019-12-30</th>\n",
       "      <td>6.53</td>\n",
       "    </tr>\n",
       "  </tbody>\n",
       "</table>\n",
       "</div>"
      ],
      "text/plain": [
       "            avg_per_kg\n",
       "Date                  \n",
       "2019-12-11        9.70\n",
       "2019-12-12        9.38\n",
       "2019-12-14       10.23\n",
       "2019-12-23        5.47\n",
       "2019-12-30        6.53"
      ]
     },
     "execution_count": 119,
     "metadata": {},
     "output_type": "execute_result"
    }
   ],
   "source": [
    "price.head()"
   ]
  },
  {
   "cell_type": "code",
   "execution_count": 120,
   "metadata": {},
   "outputs": [],
   "source": [
    "price.sort_index(inplace=True)"
   ]
  },
  {
   "cell_type": "code",
   "execution_count": 131,
   "metadata": {},
   "outputs": [
    {
     "data": {
      "image/png": "[encoded data removed]",
      "text/plain": [
       "<Figure size 864x432 with 1 Axes>"
      ]
     },
     "metadata": {
      "needs_background": "light"
     },
     "output_type": "display_data"
    }
   ],
   "source": [
    "ax = price.plot(figsize=(12,6), title=\"APPLE GOLDEN DELICIOUS\")\n",
    "ax.set(ylabel='R/kg');"
   ]
  },
  {
   "cell_type": "code",
   "execution_count": 122,
   "metadata": {},
   "outputs": [
    {
     "data": {
      "text/plain": [
       "DatetimeIndex(['2019-12-11', '2019-12-12', '2019-12-14', '2019-12-23',\n",
       "               '2019-12-30', '2020-01-02', '2020-01-03', '2020-01-04',\n",
       "               '2020-01-06', '2020-01-08',\n",
       "               ...\n",
       "               '2020-09-07', '2020-09-09', '2020-09-16', '2020-09-17',\n",
       "               '2020-09-19', '2020-09-21', '2020-09-23', '2020-09-28',\n",
       "               '2020-10-01', '2020-10-03'],\n",
       "              dtype='datetime64[ns]', name='Date', length=147, freq=None)"
      ]
     },
     "execution_count": 122,
     "metadata": {},
     "output_type": "execute_result"
    }
   ],
   "source": [
    "price.index"
   ]
  },
  {
   "cell_type": "markdown",
   "metadata": {},
   "source": [
    "The freq of the index is currently set to None, this will need to be changed to daily, since the frequency of the data is daily. Furthermore, since there is no data available for weekends, the freq has to be set to Business day (Mon-Fri), with a backfill method to account for those days when it is a holiday and no data updated. "
   ]
  },
  {
   "cell_type": "code",
   "execution_count": 123,
   "metadata": {},
   "outputs": [],
   "source": [
    "price = price.asfreq('B', method='backfill')"
   ]
  },
  {
   "cell_type": "code",
   "execution_count": 124,
   "metadata": {},
   "outputs": [
    {
     "data": {
      "text/plain": [
       "DatetimeIndex(['2019-12-11', '2019-12-12', '2019-12-13', '2019-12-16',\n",
       "               '2019-12-17', '2019-12-18', '2019-12-19', '2019-12-20',\n",
       "               '2019-12-23', '2019-12-24',\n",
       "               ...\n",
       "               '2020-09-21', '2020-09-22', '2020-09-23', '2020-09-24',\n",
       "               '2020-09-25', '2020-09-28', '2020-09-29', '2020-09-30',\n",
       "               '2020-10-01', '2020-10-02'],\n",
       "              dtype='datetime64[ns]', name='Date', length=213, freq='B')"
      ]
     },
     "execution_count": 124,
     "metadata": {},
     "output_type": "execute_result"
    }
   ],
   "source": [
    "price.index"
   ]
  },
  {
   "cell_type": "markdown",
   "metadata": {},
   "source": [
    "## Introduction"
   ]
  },
  {
   "cell_type": "markdown",
   "metadata": {},
   "source": [
    "Due to competition, retailers aim to increase profits and reduce costs, increasing the profit margin for perishable food products. This means that avoiding costs due to lost sales, and because of the short-shelf life of their products, ensuring that there is no build up of inventory. Effecient forecasting system can result in reduced inventory, be flexible to changes and increase profits. \n",
    "\n",
    "Time series is a series of data points indexed by time typically in an ordered equally spaced manner. Time serves as the only feature in this format of data, and behavior of the data is analyzed through time. Time series forecasting uses past observations of the same variable to develop a model describing the underlying relationship. The model is then used to extrapolate time series into the future. This approach is useful when there are no other explanatory variables influencing the generation of the underlying data. "
   ]
  },
  {
   "cell_type": "markdown",
   "metadata": {},
   "source": [
    "### Trend"
   ]
  },
  {
   "cell_type": "markdown",
   "metadata": {},
   "source": [
    "The Hodrick-Prescott filter is used to get the trend of the data. This approach separates the time-series into a trend component and a cyclical component."
   ]
  },
  {
   "cell_type": "code",
   "execution_count": 125,
   "metadata": {},
   "outputs": [],
   "source": [
    "from statsmodels.tsa.filters.hp_filter import hpfilter"
   ]
  },
  {
   "cell_type": "code",
   "execution_count": 126,
   "metadata": {},
   "outputs": [],
   "source": [
    "# Tuple unpacking\n",
    "price_cycle, price_trend = hpfilter(price)"
   ]
  },
  {
   "cell_type": "code",
   "execution_count": 127,
   "metadata": {},
   "outputs": [],
   "source": [
    "price['trend'] = price_trend"
   ]
  },
  {
   "cell_type": "code",
   "execution_count": 130,
   "metadata": {},
   "outputs": [
    {
     "data": {
      "image/png": "[encoded data removed]",
      "text/plain": [
       "<Figure size 864x432 with 1 Axes>"
      ]
     },
     "metadata": {
      "needs_background": "light"
     },
     "output_type": "display_data"
    }
   ],
   "source": [
    "ax = price[['trend','avg_per_kg']].plot(figsize=(12,6))\n",
    "ax.autoscale(axis='x',tight=True);"
   ]
  },
  {
   "cell_type": "code",
   "execution_count": 132,
   "metadata": {},
   "outputs": [],
   "source": [
    "del price['trend']"
   ]
  },
  {
   "cell_type": "markdown",
   "metadata": {},
   "source": [
    "### Seasonal Decomposition"
   ]
  },
  {
   "cell_type": "markdown",
   "metadata": {},
   "source": [
    "Time series decomposition involves the deconstruction of the time series data into the trend, seasonal and noise component."
   ]
  },
  {
   "cell_type": "code",
   "execution_count": 136,
   "metadata": {},
   "outputs": [],
   "source": [
    "rcParams['figure.figsize'] = 12,8"
   ]
  },
  {
   "cell_type": "code",
   "execution_count": 137,
   "metadata": {
    "scrolled": false
   },
   "outputs": [
    {
     "data": {
      "image/png": "[encoded data removed]",
      "text/plain": [
       "<Figure size 864x576 with 4 Axes>"
      ]
     },
     "metadata": {
      "needs_background": "light"
     },
     "output_type": "display_data"
    }
   ],
   "source": [
    "result = seasonal_decompose(price['avg_per_kg'], model='additive')  # model='mul' also works\n",
    "result.plot();"
   ]
  },
  {
   "cell_type": "markdown",
   "metadata": {},
   "source": [
    "From above, it can be seen that the trend component is much better than when using the Hodrick-Prescott filter. This might be due to the data having a daily frequency."
   ]
  },
  {
   "cell_type": "markdown",
   "metadata": {},
   "source": [
    "## Holt - Winters method"
   ]
  },
  {
   "cell_type": "markdown",
   "metadata": {},
   "source": [
    "Holt - Winters method is a generalized exponential smooothing method that incorporates **trend** and **seasonal** variation in the model. The model makes use of exponential weighting of the coefficients of past observations in order to give more weight to the most recent observations. "
   ]
  },
  {
   "cell_type": "code",
   "execution_count": 138,
   "metadata": {},
   "outputs": [],
   "source": [
    "from statsmodels.tsa.holtwinters import ExponentialSmoothing"
   ]
  },
  {
   "cell_type": "code",
   "execution_count": 151,
   "metadata": {},
   "outputs": [],
   "source": [
    "train_data = price.iloc[:-30]\n",
    "test_data = price.iloc[-30:]"
   ]
  },
  {
   "cell_type": "code",
   "execution_count": 152,
   "metadata": {},
   "outputs": [],
   "source": [
    "model = ExponentialSmoothing(train_data['avg_per_kg'], trend='add',seasonal='add',seasonal_periods=7) \n",
    "fitted_model = model.fit()"
   ]
  },
  {
   "cell_type": "code",
   "execution_count": 153,
   "metadata": {},
   "outputs": [],
   "source": [
    "test_predictions = fitted_model.forecast(30).rename('Forecast')"
   ]
  },
  {
   "cell_type": "code",
   "execution_count": 154,
   "metadata": {},
   "outputs": [
    {
     "data": {
      "image/png": "[encoded data removed]",
      "text/plain": [
       "<Figure size 864x576 with 1 Axes>"
      ]
     },
     "metadata": {
      "needs_background": "light"
     },
     "output_type": "display_data"
    }
   ],
   "source": [
    "train_data['avg_per_kg'].plot(legend=True, label='TRAIN')\n",
    "test_data['avg_per_kg'].plot(legend=True, label='TEST')\n",
    "test_predictions.plot(legend=True, label='PREDICTION');"
   ]
  },
  {
   "cell_type": "code",
   "execution_count": 155,
   "metadata": {},
   "outputs": [],
   "source": [
    "from sklearn.metrics import mean_squared_error"
   ]
  },
  {
   "cell_type": "code",
   "execution_count": 156,
   "metadata": {},
   "outputs": [],
   "source": [
    "hw_pred = np.sqrt(mean_squared_error(test_data, test_predictions))"
   ]
  },
  {
   "cell_type": "code",
   "execution_count": 157,
   "metadata": {},
   "outputs": [
    {
     "data": {
      "text/plain": [
       "0.46032820502827554"
      ]
     },
     "execution_count": 157,
     "metadata": {},
     "output_type": "execute_result"
    }
   ],
   "source": [
    "hw_pred"
   ]
  },
  {
   "cell_type": "markdown",
   "metadata": {},
   "source": [
    "## Autoregressive (AR) model"
   ]
  },
  {
   "cell_type": "markdown",
   "metadata": {},
   "source": [
    "The Holt-Winters method forecasts the variable of interest using a linear combination of predictors. These predictors are the set of level, trend and seasonal predictors. \n",
    "\n",
    "The autoregression model uses a linear combination of past values of the variable. This is a regression equation whereby the variable of interest is regressed against a set of it's lagged values of order $p$.\n",
    "\n",
    "### $y_{t} = c + \\phi_{1}y_{t-1} + \\phi_{2}y_{t-2} + \\dots + \\phi_{p}y_{t-p} + \\varepsilon_{t}$\n",
    "\n",
    "where $c$ is a constant, $\\phi_{1}$ and $\\phi_{2}$ are lag coefficients up to order $p$, and $\\varepsilon_{t}$ is white noise.\n",
    "\n",
    "For example, an <strong>AR(1)</strong> model would follow the formula\n",
    "\n",
    "&nbsp;&nbsp;&nbsp;&nbsp;$y_{t} = c + \\phi_{1}y_{t-1} + \\varepsilon_{t}$\n",
    "\n",
    "whereas an <strong>AR(2)</strong> model would follow the formula\n",
    "\n",
    "&nbsp;&nbsp;&nbsp;&nbsp;$y_{t} = c + \\phi_{1}y_{t-1} + \\phi_{2}y_{t-2} + \\varepsilon_{t}$\n",
    "\n",
    "and so on."
   ]
  },
  {
   "cell_type": "code",
   "execution_count": 158,
   "metadata": {},
   "outputs": [],
   "source": [
    "# Import AR model\n",
    "from statsmodels.tsa.ar_model import AR"
   ]
  },
  {
   "cell_type": "code",
   "execution_count": 166,
   "metadata": {},
   "outputs": [],
   "source": [
    "model = AR(train_data['avg_per_kg'])"
   ]
  },
  {
   "cell_type": "markdown",
   "metadata": {},
   "source": [
    "### AR(1) model"
   ]
  },
  {
   "cell_type": "code",
   "execution_count": 167,
   "metadata": {},
   "outputs": [],
   "source": [
    "ar1 = model.fit(maxlag=1)"
   ]
  },
  {
   "cell_type": "code",
   "execution_count": 168,
   "metadata": {},
   "outputs": [],
   "source": [
    "# This is the general format for obtaining predictions\n",
    "start=len(train_data)\n",
    "end=len(train_data)+len(test_data)-1\n",
    "predictions1 = ar1.predict(start=start, end=end, dynamic=False).rename('AR(1) Predictions')"
   ]
  },
  {
   "cell_type": "markdown",
   "metadata": {},
   "source": [
    "### AR(2) model"
   ]
  },
  {
   "cell_type": "code",
   "execution_count": 169,
   "metadata": {},
   "outputs": [],
   "source": [
    "model = AR(train_data['avg_per_kg'])\n",
    "ar2 = model.fit(maxlag=2)\n",
    "predictions2 = ar2.predict(start=start, end=end, dynamic=False).rename('AR(2) Predictions')"
   ]
  },
  {
   "cell_type": "code",
   "execution_count": 170,
   "metadata": {},
   "outputs": [
    {
     "data": {
      "image/png": "[encoded data removed]",
      "text/plain": [
       "<Figure size 864x576 with 1 Axes>"
      ]
     },
     "metadata": {
      "needs_background": "light"
     },
     "output_type": "display_data"
    }
   ],
   "source": [
    "test_data['avg_per_kg'].plot(legend=True)\n",
    "predictions1.plot(legend=True)\n",
    "predictions2.plot(legend=True);"
   ]
  },
  {
   "cell_type": "markdown",
   "metadata": {},
   "source": [
    "### AR(5) model"
   ]
  },
  {
   "cell_type": "code",
   "execution_count": 171,
   "metadata": {},
   "outputs": [],
   "source": [
    "model = AR(train_data['avg_per_kg'])\n",
    "ar5 = model.fit(maxlag=5)\n",
    "predictions5 = ar5.predict(start=start, end=end, dynamic=False).rename('AR(5) Predictions')"
   ]
  },
  {
   "cell_type": "code",
   "execution_count": 172,
   "metadata": {},
   "outputs": [
    {
     "data": {
      "image/png": "[encoded data removed]",
      "text/plain": [
       "<Figure size 864x576 with 1 Axes>"
      ]
     },
     "metadata": {
      "needs_background": "light"
     },
     "output_type": "display_data"
    }
   ],
   "source": [
    "test_data['avg_per_kg'].plot(legend=True)\n",
    "predictions1.plot(legend=True)\n",
    "predictions2.plot(legend=True)\n",
    "predictions5.plot(legend=True);"
   ]
  },
  {
   "cell_type": "code",
   "execution_count": 173,
   "metadata": {},
   "outputs": [],
   "source": [
    "# Identify the best AR() model to use for forecasting\n",
    "model = AR(train_data['avg_per_kg'])\n",
    "arfit = model.fit()"
   ]
  },
  {
   "cell_type": "code",
   "execution_count": 174,
   "metadata": {},
   "outputs": [
    {
     "data": {
      "text/plain": [
       "const             1.596795\n",
       "L1.avg_per_kg     0.418476\n",
       "L2.avg_per_kg     0.154755\n",
       "L3.avg_per_kg     0.004047\n",
       "L4.avg_per_kg     0.042746\n",
       "L5.avg_per_kg     0.124350\n",
       "L6.avg_per_kg     0.047907\n",
       "L7.avg_per_kg     0.060190\n",
       "L8.avg_per_kg    -0.100266\n",
       "L9.avg_per_kg     0.114718\n",
       "L10.avg_per_kg   -0.139039\n",
       "L11.avg_per_kg    0.008470\n",
       "L12.avg_per_kg    0.026933\n",
       "L13.avg_per_kg    0.003974\n",
       "L14.avg_per_kg    0.027926\n",
       "dtype: float64"
      ]
     },
     "execution_count": 174,
     "metadata": {},
     "output_type": "execute_result"
    }
   ],
   "source": [
    "arfit.params"
   ]
  },
  {
   "cell_type": "markdown",
   "metadata": {},
   "source": [
    "### AR(14) model"
   ]
  },
  {
   "cell_type": "code",
   "execution_count": 175,
   "metadata": {},
   "outputs": [],
   "source": [
    "model = AR(train_data['avg_per_kg'])\n",
    "ar7 = model.fit(maxlag=14)\n",
    "predictions7 = ar7.predict(start=start, end=end, dynamic=False).rename('AR(14) Predictions')"
   ]
  },
  {
   "cell_type": "code",
   "execution_count": 176,
   "metadata": {},
   "outputs": [
    {
     "data": {
      "image/png": "[encoded data removed]",
      "text/plain": [
       "<Figure size 864x576 with 1 Axes>"
      ]
     },
     "metadata": {
      "needs_background": "light"
     },
     "output_type": "display_data"
    }
   ],
   "source": [
    "test_data['avg_per_kg'].plot(legend=True)\n",
    "predictions5.plot(legend=True)\n",
    "predictions7.plot(legend=True);"
   ]
  },
  {
   "cell_type": "markdown",
   "metadata": {},
   "source": [
    "## Stationarity tests"
   ]
  },
  {
   "cell_type": "code",
   "execution_count": null,
   "metadata": {},
   "outputs": [],
   "source": []
  },
  {
   "cell_type": "code",
   "execution_count": null,
   "metadata": {},
   "outputs": [],
   "source": []
  },
  {
   "cell_type": "code",
   "execution_count": null,
   "metadata": {},
   "outputs": [],
   "source": []
  },
  {
   "cell_type": "code",
   "execution_count": null,
   "metadata": {},
   "outputs": [],
   "source": []
  },
  {
   "cell_type": "code",
   "execution_count": null,
   "metadata": {},
   "outputs": [],
   "source": []
  },
  {
   "cell_type": "markdown",
   "metadata": {},
   "source": [
    "## Autoregressive Moving Average (ARMA) model"
   ]
  },
  {
   "cell_type": "markdown",
   "metadata": {},
   "source": [
    "ARMA model is a combination of two models, the AR model utilizing past values of the time series data, and the Moving Average (MA) model, which uses past values of the forecast errors. \n",
    "\n",
    "### $$ y_{t} = c + \\sum^p_{i=1} \\phi_{i} y_{t-i} + \\sum^q_{j=1} \\theta_{j} \\varepsilon_{t-j} + \\varepsilon_{t} $$\n",
    "\n",
    "As seen earlier, this models can be also be used separately, or in this section, combined. The fitting process returns estimated coefficients, $\\phi_{i}$ and $\\theta_{i}$, but prior to this process, the order ($p,q$) of the model needs to be determined."
   ]
  },
  {
   "cell_type": "code",
   "execution_count": null,
   "metadata": {},
   "outputs": [],
   "source": []
  },
  {
   "cell_type": "code",
   "execution_count": null,
   "metadata": {},
   "outputs": [],
   "source": []
  },
  {
   "cell_type": "code",
   "execution_count": null,
   "metadata": {},
   "outputs": [],
   "source": []
  },
  {
   "cell_type": "markdown",
   "metadata": {},
   "source": [
    "## Autoregressive Integrated Moing Average (ARIMA) model"
   ]
  },
  {
   "cell_type": "code",
   "execution_count": 180,
   "metadata": {},
   "outputs": [],
   "source": [
    "from pmdarima import auto_arima"
   ]
  },
  {
   "cell_type": "code",
   "execution_count": 181,
   "metadata": {},
   "outputs": [
    {
     "name": "stderr",
     "output_type": "stream",
     "text": [
      "C:\\Users\\Selebogo\\anaconda3\\lib\\site-packages\\statsmodels\\base\\model.py:568: ConvergenceWarning: Maximum Likelihood optimization failed to converge. Check mle_retvals\n",
      "  \"Check mle_retvals\", ConvergenceWarning)\n"
     ]
    },
    {
     "data": {
      "text/html": [
       "<table class=\"simpletable\">\n",
       "<caption>SARIMAX Results</caption>\n",
       "<tr>\n",
       "  <th>Dep. Variable:</th>           <td>y</td>        <th>  No. Observations:  </th>    <td>183</td>  \n",
       "</tr>\n",
       "<tr>\n",
       "  <th>Model:</th>           <td>SARIMAX(1, 0, 1)</td> <th>  Log Likelihood     </th> <td>-239.863</td>\n",
       "</tr>\n",
       "<tr>\n",
       "  <th>Date:</th>            <td>Thu, 08 Oct 2020</td> <th>  AIC                </th>  <td>487.726</td>\n",
       "</tr>\n",
       "<tr>\n",
       "  <th>Time:</th>                <td>14:01:46</td>     <th>  BIC                </th>  <td>500.564</td>\n",
       "</tr>\n",
       "<tr>\n",
       "  <th>Sample:</th>                  <td>0</td>        <th>  HQIC               </th>  <td>492.930</td>\n",
       "</tr>\n",
       "<tr>\n",
       "  <th></th>                      <td> - 183</td>      <th>                     </th>     <td> </td>   \n",
       "</tr>\n",
       "<tr>\n",
       "  <th>Covariance Type:</th>        <td>opg</td>       <th>                     </th>     <td> </td>   \n",
       "</tr>\n",
       "</table>\n",
       "<table class=\"simpletable\">\n",
       "<tr>\n",
       "      <td></td>         <th>coef</th>     <th>std err</th>      <th>z</th>      <th>P>|z|</th>  <th>[0.025</th>    <th>0.975]</th>  \n",
       "</tr>\n",
       "<tr>\n",
       "  <th>intercept</th> <td>    1.3075</td> <td>    0.499</td> <td>    2.618</td> <td> 0.009</td> <td>    0.328</td> <td>    2.286</td>\n",
       "</tr>\n",
       "<tr>\n",
       "  <th>ar.L1</th>     <td>    0.8308</td> <td>    0.062</td> <td>   13.399</td> <td> 0.000</td> <td>    0.709</td> <td>    0.952</td>\n",
       "</tr>\n",
       "<tr>\n",
       "  <th>ma.L1</th>     <td>   -0.3570</td> <td>    0.082</td> <td>   -4.359</td> <td> 0.000</td> <td>   -0.518</td> <td>   -0.196</td>\n",
       "</tr>\n",
       "<tr>\n",
       "  <th>sigma2</th>    <td>    0.8027</td> <td>    0.058</td> <td>   13.764</td> <td> 0.000</td> <td>    0.688</td> <td>    0.917</td>\n",
       "</tr>\n",
       "</table>\n",
       "<table class=\"simpletable\">\n",
       "<tr>\n",
       "  <th>Ljung-Box (Q):</th>          <td>30.79</td> <th>  Jarque-Bera (JB):  </th> <td>139.02</td>\n",
       "</tr>\n",
       "<tr>\n",
       "  <th>Prob(Q):</th>                <td>0.85</td>  <th>  Prob(JB):          </th>  <td>0.00</td> \n",
       "</tr>\n",
       "<tr>\n",
       "  <th>Heteroskedasticity (H):</th> <td>0.34</td>  <th>  Skew:              </th>  <td>-0.69</td>\n",
       "</tr>\n",
       "<tr>\n",
       "  <th>Prob(H) (two-sided):</th>    <td>0.00</td>  <th>  Kurtosis:          </th>  <td>7.04</td> \n",
       "</tr>\n",
       "</table><br/><br/>Warnings:<br/>[1] Covariance matrix calculated using the outer product of gradients (complex-step)."
      ],
      "text/plain": [
       "<class 'statsmodels.iolib.summary.Summary'>\n",
       "\"\"\"\n",
       "                               SARIMAX Results                                \n",
       "==============================================================================\n",
       "Dep. Variable:                      y   No. Observations:                  183\n",
       "Model:               SARIMAX(1, 0, 1)   Log Likelihood                -239.863\n",
       "Date:                Thu, 08 Oct 2020   AIC                            487.726\n",
       "Time:                        14:01:46   BIC                            500.564\n",
       "Sample:                             0   HQIC                           492.930\n",
       "                                - 183                                         \n",
       "Covariance Type:                  opg                                         \n",
       "==============================================================================\n",
       "                 coef    std err          z      P>|z|      [0.025      0.975]\n",
       "------------------------------------------------------------------------------\n",
       "intercept      1.3075      0.499      2.618      0.009       0.328       2.286\n",
       "ar.L1          0.8308      0.062     13.399      0.000       0.709       0.952\n",
       "ma.L1         -0.3570      0.082     -4.359      0.000      -0.518      -0.196\n",
       "sigma2         0.8027      0.058     13.764      0.000       0.688       0.917\n",
       "===================================================================================\n",
       "Ljung-Box (Q):                       30.79   Jarque-Bera (JB):               139.02\n",
       "Prob(Q):                              0.85   Prob(JB):                         0.00\n",
       "Heteroskedasticity (H):               0.34   Skew:                            -0.69\n",
       "Prob(H) (two-sided):                  0.00   Kurtosis:                         7.04\n",
       "===================================================================================\n",
       "\n",
       "Warnings:\n",
       "[1] Covariance matrix calculated using the outer product of gradients (complex-step).\n",
       "\"\"\""
      ]
     },
     "execution_count": 181,
     "metadata": {},
     "output_type": "execute_result"
    }
   ],
   "source": [
    "auto_arima(train_data['avg_per_kg'],error_action='ignore').summary()"
   ]
  },
  {
   "cell_type": "code",
   "execution_count": null,
   "metadata": {},
   "outputs": [],
   "source": []
  }
 ],
 "metadata": {
  "kernelspec": {
   "display_name": "Python 3",
   "language": "python",
   "name": "python3"
  },
  "language_info": {
   "codemirror_mode": {
    "name": "ipython",
    "version": 3
   },
   "file_extension": ".py",
   "mimetype": "text/x-python",
   "name": "python",
   "nbconvert_exporter": "python",
   "pygments_lexer": "ipython3",
   "version": "3.7.6"
  }
 },
 "nbformat": 4,
 "nbformat_minor": 4
}
