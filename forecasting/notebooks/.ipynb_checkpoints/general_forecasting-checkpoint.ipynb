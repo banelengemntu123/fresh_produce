{
 "cells": [
  {
   "cell_type": "code",
   "execution_count": 1,
   "metadata": {},
   "outputs": [],
   "source": [
    "import pandas as pd\n",
    "import numpy as np\n",
    "import requests\n",
    "import urllib\n",
    "\n",
    "from sqlalchemy import create_engine\n",
    "\n",
    "# Custom upload with connection string\n",
    "from engine_info import server_info\n",
    "\n",
    "import warnings\n",
    "warnings.filterwarnings('ignore')\n",
    "\n",
    "from matplotlib import rcParams"
   ]
  },
  {
   "cell_type": "code",
   "execution_count": 2,
   "metadata": {},
   "outputs": [],
   "source": [
    "rcParams['figure.figsize'] = 12,8"
   ]
  },
  {
   "cell_type": "code",
   "execution_count": 3,
   "metadata": {},
   "outputs": [],
   "source": [
    "from statsmodels.tsa.seasonal import seasonal_decompose"
   ]
  },
  {
   "cell_type": "code",
   "execution_count": 4,
   "metadata": {},
   "outputs": [],
   "source": [
    "Username = server_info['Username']\n",
    "Password = server_info['Password']\n",
    "Host = server_info['Host']\n",
    "Port = server_info['Port']\n",
    "Database = server_info['Database']"
   ]
  },
  {
   "cell_type": "code",
   "execution_count": 5,
   "metadata": {},
   "outputs": [],
   "source": [
    "conn = create_engine(\n",
    "    'mssql+pymssql://' +\n",
    "    Username + ':' + Password + '@' + Host + ':' + Port + '/' + Database\n",
    ")"
   ]
  },
  {
   "cell_type": "code",
   "execution_count": null,
   "metadata": {},
   "outputs": [],
   "source": []
  },
  {
   "cell_type": "code",
   "execution_count": null,
   "metadata": {},
   "outputs": [],
   "source": [
    "# # Creating a connection to MS SQL SERVER\n",
    "# params = urllib.parse.quote_plus(server_info)\n",
    "# engine = create_engine('mssql+pyodbc:///?odbc_connect=%s' % params)\n",
    "# connection = engine.connect()"
   ]
  },
  {
   "cell_type": "code",
   "execution_count": 8,
   "metadata": {},
   "outputs": [],
   "source": [
    "# Upload sales data\n",
    "sales = pd.read_sql_table('Joburg_Fresh_produce_combined_cleaned', conn)"
   ]
  },
  {
   "cell_type": "markdown",
   "metadata": {},
   "source": [
    "## Data preparation"
   ]
  },
  {
   "cell_type": "code",
   "execution_count": 9,
   "metadata": {},
   "outputs": [
    {
     "data": {
      "text/html": [
       "<div>\n",
       "<style scoped>\n",
       "    .dataframe tbody tr th:only-of-type {\n",
       "        vertical-align: middle;\n",
       "    }\n",
       "\n",
       "    .dataframe tbody tr th {\n",
       "        vertical-align: top;\n",
       "    }\n",
       "\n",
       "    .dataframe thead th {\n",
       "        text-align: right;\n",
       "    }\n",
       "</style>\n",
       "<table border=\"1\" class=\"dataframe\">\n",
       "  <thead>\n",
       "    <tr style=\"text-align: right;\">\n",
       "      <th></th>\n",
       "      <th>rowid</th>\n",
       "      <th>date</th>\n",
       "      <th>commodity</th>\n",
       "      <th>container</th>\n",
       "      <th>unit_mass</th>\n",
       "      <th>product_combination</th>\n",
       "      <th>total_value_sold</th>\n",
       "      <th>total_qty_sold</th>\n",
       "      <th>total_kg_sold</th>\n",
       "      <th>average</th>\n",
       "      <th>highest_price</th>\n",
       "      <th>ave_per_kg</th>\n",
       "      <th>highest_price_per_kg</th>\n",
       "    </tr>\n",
       "  </thead>\n",
       "  <tbody>\n",
       "    <tr>\n",
       "      <th>0</th>\n",
       "      <td>17577</td>\n",
       "      <td>2020-09-02</td>\n",
       "      <td>JUICE</td>\n",
       "      <td>10 X 330ML</td>\n",
       "      <td>3</td>\n",
       "      <td>PINEAPPLE,*,*,10,*</td>\n",
       "      <td>391.32</td>\n",
       "      <td>6</td>\n",
       "      <td>19.8</td>\n",
       "      <td>65.22</td>\n",
       "      <td>65.22</td>\n",
       "      <td>19.76</td>\n",
       "      <td>19.76</td>\n",
       "    </tr>\n",
       "    <tr>\n",
       "      <th>1</th>\n",
       "      <td>17578</td>\n",
       "      <td>2020-09-02</td>\n",
       "      <td>JUICE</td>\n",
       "      <td>10 X 330ML</td>\n",
       "      <td>3</td>\n",
       "      <td>TOMATO,*,*,10,*</td>\n",
       "      <td>326.10</td>\n",
       "      <td>5</td>\n",
       "      <td>16.5</td>\n",
       "      <td>65.22</td>\n",
       "      <td>65.22</td>\n",
       "      <td>19.76</td>\n",
       "      <td>19.76</td>\n",
       "    </tr>\n",
       "    <tr>\n",
       "      <th>2</th>\n",
       "      <td>17579</td>\n",
       "      <td>2020-09-02</td>\n",
       "      <td>JUICE</td>\n",
       "      <td>10 X 330ML</td>\n",
       "      <td>3</td>\n",
       "      <td>Z0BO &amp; BEETROOT,*,*,10,*</td>\n",
       "      <td>260.88</td>\n",
       "      <td>4</td>\n",
       "      <td>13.2</td>\n",
       "      <td>65.22</td>\n",
       "      <td>65.22</td>\n",
       "      <td>19.76</td>\n",
       "      <td>19.76</td>\n",
       "    </tr>\n",
       "    <tr>\n",
       "      <th>3</th>\n",
       "      <td>17580</td>\n",
       "      <td>2020-09-02</td>\n",
       "      <td>JUICE</td>\n",
       "      <td>10 X 750ML</td>\n",
       "      <td>7</td>\n",
       "      <td>ABC,*,*,10,*</td>\n",
       "      <td>1168.72</td>\n",
       "      <td>8</td>\n",
       "      <td>60.0</td>\n",
       "      <td>146.09</td>\n",
       "      <td>146.96</td>\n",
       "      <td>19.48</td>\n",
       "      <td>19.59</td>\n",
       "    </tr>\n",
       "    <tr>\n",
       "      <th>4</th>\n",
       "      <td>17581</td>\n",
       "      <td>2020-09-02</td>\n",
       "      <td>JUICE</td>\n",
       "      <td>10 X 750ML</td>\n",
       "      <td>7</td>\n",
       "      <td>APPLE,*,*,10,*</td>\n",
       "      <td>1469.60</td>\n",
       "      <td>10</td>\n",
       "      <td>75.0</td>\n",
       "      <td>146.96</td>\n",
       "      <td>146.96</td>\n",
       "      <td>19.59</td>\n",
       "      <td>19.59</td>\n",
       "    </tr>\n",
       "  </tbody>\n",
       "</table>\n",
       "</div>"
      ],
      "text/plain": [
       "   rowid       date commodity   container  unit_mass  \\\n",
       "0  17577 2020-09-02     JUICE  10 X 330ML          3   \n",
       "1  17578 2020-09-02     JUICE  10 X 330ML          3   \n",
       "2  17579 2020-09-02     JUICE  10 X 330ML          3   \n",
       "3  17580 2020-09-02     JUICE  10 X 750ML          7   \n",
       "4  17581 2020-09-02     JUICE  10 X 750ML          7   \n",
       "\n",
       "        product_combination  total_value_sold  total_qty_sold  total_kg_sold  \\\n",
       "0        PINEAPPLE,*,*,10,*            391.32               6           19.8   \n",
       "1           TOMATO,*,*,10,*            326.10               5           16.5   \n",
       "2  Z0BO & BEETROOT,*,*,10,*            260.88               4           13.2   \n",
       "3              ABC,*,*,10,*           1168.72               8           60.0   \n",
       "4            APPLE,*,*,10,*           1469.60              10           75.0   \n",
       "\n",
       "   average  highest_price  ave_per_kg  highest_price_per_kg  \n",
       "0    65.22          65.22       19.76                 19.76  \n",
       "1    65.22          65.22       19.76                 19.76  \n",
       "2    65.22          65.22       19.76                 19.76  \n",
       "3   146.09         146.96       19.48                 19.59  \n",
       "4   146.96         146.96       19.59                 19.59  "
      ]
     },
     "execution_count": 9,
     "metadata": {},
     "output_type": "execute_result"
    }
   ],
   "source": [
    "sales.head()"
   ]
  },
  {
   "cell_type": "code",
   "execution_count": null,
   "metadata": {},
   "outputs": [],
   "source": [
    "len(sales)"
   ]
  },
  {
   "cell_type": "code",
   "execution_count": null,
   "metadata": {},
   "outputs": [],
   "source": [
    "# Upload inventory data\n",
    "inventory = pd.read_sql_table('Joburg_Fresh_produce_container_cleaned', connection)"
   ]
  },
  {
   "cell_type": "code",
   "execution_count": null,
   "metadata": {},
   "outputs": [],
   "source": [
    "inventory.head()"
   ]
  },
  {
   "cell_type": "markdown",
   "metadata": {},
   "source": [
    "For the purpose of this notebook, analysis will focus on potatoes."
   ]
  },
  {
   "cell_type": "code",
   "execution_count": null,
   "metadata": {},
   "outputs": [],
   "source": [
    "inventory = inventory[inventory['commodity'] == 'APPLES']\n",
    "sales = sales[sales['commodity'] == 'APPLES']"
   ]
  },
  {
   "cell_type": "code",
   "execution_count": null,
   "metadata": {},
   "outputs": [],
   "source": [
    "df = sales[sales['total_value_sold'] > 0]"
   ]
  },
  {
   "cell_type": "code",
   "execution_count": null,
   "metadata": {},
   "outputs": [],
   "source": [
    "df['container'].value_counts()"
   ]
  },
  {
   "cell_type": "code",
   "execution_count": null,
   "metadata": {},
   "outputs": [],
   "source": [
    "df[df['container'] == '18.50KG CARTON']['product_combination'].value_counts()"
   ]
  },
  {
   "cell_type": "code",
   "execution_count": null,
   "metadata": {},
   "outputs": [],
   "source": [
    "# 10KG POCKET will be the focus of this notebook since it's the most active\n",
    "len(df)"
   ]
  },
  {
   "cell_type": "code",
   "execution_count": null,
   "metadata": {},
   "outputs": [],
   "source": [
    "filtered_df = df[(df['container'] == '18.50KG CARTON') & (df['product_combination'] == 'GOLDEN DELICIOUS,CL 1,*,100,*')]"
   ]
  },
  {
   "cell_type": "code",
   "execution_count": null,
   "metadata": {},
   "outputs": [],
   "source": [
    "filtered_df.head()"
   ]
  },
  {
   "cell_type": "code",
   "execution_count": null,
   "metadata": {},
   "outputs": [],
   "source": [
    "price = filtered_df[['date', 'ave_per_kg']]"
   ]
  },
  {
   "cell_type": "code",
   "execution_count": null,
   "metadata": {},
   "outputs": [],
   "source": [
    "price.set_index('date', inplace=True)"
   ]
  },
  {
   "cell_type": "code",
   "execution_count": null,
   "metadata": {},
   "outputs": [],
   "source": [
    "price.head()"
   ]
  },
  {
   "cell_type": "code",
   "execution_count": null,
   "metadata": {},
   "outputs": [],
   "source": [
    "price.sort_index(inplace=True)"
   ]
  },
  {
   "cell_type": "code",
   "execution_count": null,
   "metadata": {},
   "outputs": [],
   "source": [
    "price.index"
   ]
  },
  {
   "cell_type": "markdown",
   "metadata": {},
   "source": [
    "The freq of the index is currently set to None, this will need to be changed to daily, since the frequency of the data is daily. Furthermore, since there is no data available for weekends, the freq has to be set to Business day (Mon-Fri), with a backfill method to account for those days when it is a holiday and no data updated. "
   ]
  },
  {
   "cell_type": "code",
   "execution_count": null,
   "metadata": {},
   "outputs": [],
   "source": [
    "price = price.asfreq('B', method='backfill')"
   ]
  },
  {
   "cell_type": "code",
   "execution_count": null,
   "metadata": {},
   "outputs": [],
   "source": [
    "price.index"
   ]
  },
  {
   "cell_type": "markdown",
   "metadata": {},
   "source": [
    "The index freq has been set to 'B' for business day with additional dates included like '2020-08-24' which the data was filled with the backfill method."
   ]
  },
  {
   "cell_type": "code",
   "execution_count": null,
   "metadata": {},
   "outputs": [],
   "source": [
    "ax = price.plot(figsize=(8,5), title=\"Average R/kg of GOLDEN DELICIOUS Class 1 Apples\")\n",
    "ax.set(ylabel='R/kg');"
   ]
  },
  {
   "cell_type": "markdown",
   "metadata": {},
   "source": [
    "## Introduction"
   ]
  },
  {
   "cell_type": "markdown",
   "metadata": {},
   "source": [
    "Due to competition, retailers aim to increase profits and reduce costs, increasing the profit margin for perishable food products. This means that avoiding costs due to lost sales, and because of the short-shelf life of their products, ensuring that there is no build up of inventory. Effecient forecasting system can result in reduced inventory, be flexible to changes and increase profits. \n",
    "\n",
    "Time series forecasting uses past observations of the same variable to develop a model describing the underlying relationship. The model is then used to extrapolate time series into the future. This approach is useful when there are no other explanatory variables influencing the generation of the underlying data. "
   ]
  },
  {
   "cell_type": "markdown",
   "metadata": {},
   "source": [
    "### Trend"
   ]
  },
  {
   "cell_type": "markdown",
   "metadata": {},
   "source": [
    "The Hodrick-Prescott filter is used to get the trend of the data. This approach separates the time-series into a trend component and a cyclical component."
   ]
  },
  {
   "cell_type": "code",
   "execution_count": null,
   "metadata": {},
   "outputs": [],
   "source": [
    "from statsmodels.tsa.filters.hp_filter import hpfilter"
   ]
  },
  {
   "cell_type": "code",
   "execution_count": null,
   "metadata": {},
   "outputs": [],
   "source": [
    "# Tuple unpacking\n",
    "price_cycle, price_trend = hpfilter(price)"
   ]
  },
  {
   "cell_type": "code",
   "execution_count": null,
   "metadata": {},
   "outputs": [],
   "source": [
    "price['trend'] = price_trend"
   ]
  },
  {
   "cell_type": "code",
   "execution_count": null,
   "metadata": {},
   "outputs": [],
   "source": [
    "ax = price[['trend','ave_per_kg']].plot()\n",
    "ax.autoscale(axis='x',tight=True);"
   ]
  },
  {
   "cell_type": "markdown",
   "metadata": {},
   "source": [
    "Method will probably work better once data is viewed on a monthly basis. For now the approach is acknowledged."
   ]
  },
  {
   "cell_type": "code",
   "execution_count": null,
   "metadata": {},
   "outputs": [],
   "source": [
    "del price['trend']"
   ]
  },
  {
   "cell_type": "markdown",
   "metadata": {},
   "source": [
    "### Seasonal Decomposition"
   ]
  },
  {
   "cell_type": "markdown",
   "metadata": {},
   "source": [
    "Time series decomposition involves the deconstruction of the time series data into the trend, seasonal and noise component."
   ]
  },
  {
   "cell_type": "code",
   "execution_count": null,
   "metadata": {},
   "outputs": [],
   "source": [
    "result = seasonal_decompose(price['ave_per_kg'], model='additive')  # model='mul' also works\n",
    "result.plot();"
   ]
  },
  {
   "cell_type": "markdown",
   "metadata": {},
   "source": [
    "From above, it can be seen that the trend component is much better than when using the Hodrick-Prescott filter. This might be due to the data having a daily frequency."
   ]
  },
  {
   "cell_type": "markdown",
   "metadata": {},
   "source": [
    "## Holt - Winters method"
   ]
  },
  {
   "cell_type": "markdown",
   "metadata": {},
   "source": [
    "Holt - Winters method is a generalized exponential smooothing method that incorporates **trend** and **seasonal** variation in the model. The model makes use of exponential weighting of the coefficients of past observations in order to give more weight to the most recent observations. "
   ]
  },
  {
   "cell_type": "code",
   "execution_count": null,
   "metadata": {},
   "outputs": [],
   "source": [
    "from statsmodels.tsa.holtwinters import ExponentialSmoothing"
   ]
  },
  {
   "cell_type": "code",
   "execution_count": null,
   "metadata": {},
   "outputs": [],
   "source": [
    "train_data = price.iloc[:-15]\n",
    "test_data = price.iloc[-15:]"
   ]
  },
  {
   "cell_type": "code",
   "execution_count": null,
   "metadata": {},
   "outputs": [],
   "source": [
    "model = ExponentialSmoothing(train_data['ave_per_kg'], trend='add',seasonal='add',seasonal_periods=7) \n",
    "fitted_model = model.fit()"
   ]
  },
  {
   "cell_type": "code",
   "execution_count": null,
   "metadata": {},
   "outputs": [],
   "source": [
    "test_predictions = fitted_model.forecast(15).rename('Forecast')"
   ]
  },
  {
   "cell_type": "code",
   "execution_count": null,
   "metadata": {},
   "outputs": [],
   "source": [
    "train_data['ave_per_kg'].plot(legend=True, label='TRAIN')\n",
    "test_data['ave_per_kg'].plot(legend=True, label='TEST')\n",
    "test_predictions.plot(legend=True, label='PREDICTION');"
   ]
  },
  {
   "cell_type": "code",
   "execution_count": null,
   "metadata": {},
   "outputs": [],
   "source": [
    "from sklearn.metrics import mean_squared_error"
   ]
  },
  {
   "cell_type": "code",
   "execution_count": null,
   "metadata": {},
   "outputs": [],
   "source": [
    "hw_pred = np.sqrt(mean_squared_error(test_data, test_predictions))"
   ]
  },
  {
   "cell_type": "code",
   "execution_count": null,
   "metadata": {},
   "outputs": [],
   "source": [
    "hw_pred"
   ]
  },
  {
   "cell_type": "markdown",
   "metadata": {},
   "source": [
    "## Autoregressive (AR) model"
   ]
  },
  {
   "cell_type": "markdown",
   "metadata": {},
   "source": [
    "The Holt-Winters method forecasts the variable of interest using a linear combination of predictors. These predictors are the set of level, trend and seasonal predictors. \n",
    "\n",
    "The autoregression model uses a linear combination of past values of the variable. This is a regression equation whereby the variable of interest is regressed against a set of it's lagged values of order $p$.\n",
    "\n",
    "### $y_{t} = c + \\phi_{1}y_{t-1} + \\phi_{2}y_{t-2} + \\dots + \\phi_{p}y_{t-p} + \\varepsilon_{t}$\n",
    "\n",
    "where $c$ is a constant, $\\phi_{1}$ and $\\phi_{2}$ are lag coefficients up to order $p$, and $\\varepsilon_{t}$ is white noise.\n",
    "\n",
    "For example, an <strong>AR(1)</strong> model would follow the formula\n",
    "\n",
    "&nbsp;&nbsp;&nbsp;&nbsp;$y_{t} = c + \\phi_{1}y_{t-1} + \\varepsilon_{t}$\n",
    "\n",
    "whereas an <strong>AR(2)</strong> model would follow the formula\n",
    "\n",
    "&nbsp;&nbsp;&nbsp;&nbsp;$y_{t} = c + \\phi_{1}y_{t-1} + \\phi_{2}y_{t-2} + \\varepsilon_{t}$\n",
    "\n",
    "and so on."
   ]
  },
  {
   "cell_type": "code",
   "execution_count": null,
   "metadata": {},
   "outputs": [],
   "source": [
    "# Import AR model\n",
    "from statsmodels.tsa.ar_model import AR"
   ]
  },
  {
   "cell_type": "code",
   "execution_count": null,
   "metadata": {},
   "outputs": [],
   "source": [
    "model = AR(train_data['ave_per_kg'])"
   ]
  },
  {
   "cell_type": "markdown",
   "metadata": {},
   "source": [
    "### AR(1) model"
   ]
  },
  {
   "cell_type": "code",
   "execution_count": null,
   "metadata": {},
   "outputs": [],
   "source": [
    "ar1 = model.fit(maxlag=1)"
   ]
  },
  {
   "cell_type": "code",
   "execution_count": null,
   "metadata": {},
   "outputs": [],
   "source": [
    "# This is the general format for obtaining predictions\n",
    "start=len(train_data)\n",
    "end=len(train_data)+len(test_data)-1\n",
    "predictions1 = ar1.predict(start=start, end=end, dynamic=False).rename('AR(1) Predictions')"
   ]
  },
  {
   "cell_type": "markdown",
   "metadata": {},
   "source": [
    "### AR(2) model"
   ]
  },
  {
   "cell_type": "code",
   "execution_count": null,
   "metadata": {},
   "outputs": [],
   "source": [
    "model = AR(train_data['ave_per_kg'])\n",
    "ar2 = model.fit(maxlag=2)\n",
    "predictions2 = ar2.predict(start=start, end=end, dynamic=False).rename('AR(2) Predictions')"
   ]
  },
  {
   "cell_type": "code",
   "execution_count": null,
   "metadata": {},
   "outputs": [],
   "source": [
    "test_data['ave_per_kg'].plot(legend=True)\n",
    "predictions1.plot(legend=True)\n",
    "predictions2.plot(legend=True);"
   ]
  },
  {
   "cell_type": "markdown",
   "metadata": {},
   "source": [
    "### AR(5) model"
   ]
  },
  {
   "cell_type": "code",
   "execution_count": null,
   "metadata": {},
   "outputs": [],
   "source": [
    "model = AR(train_data['ave_per_kg'])\n",
    "ar5 = model.fit(maxlag=5)\n",
    "predictions5 = ar5.predict(start=start, end=end, dynamic=False).rename('AR(5) Predictions')"
   ]
  },
  {
   "cell_type": "code",
   "execution_count": null,
   "metadata": {},
   "outputs": [],
   "source": [
    "test_data['ave_per_kg'].plot(legend=True)\n",
    "predictions1.plot(legend=True)\n",
    "predictions2.plot(legend=True)\n",
    "predictions5.plot(legend=True);"
   ]
  },
  {
   "cell_type": "code",
   "execution_count": null,
   "metadata": {},
   "outputs": [],
   "source": [
    "# Identify the best AR() model to use for forecasting\n",
    "model = AR(train_data['ave_per_kg'])\n",
    "arfit = model.fit()"
   ]
  },
  {
   "cell_type": "code",
   "execution_count": null,
   "metadata": {},
   "outputs": [],
   "source": [
    "arfit.params"
   ]
  },
  {
   "cell_type": "markdown",
   "metadata": {},
   "source": [
    "### AR(7) model"
   ]
  },
  {
   "cell_type": "code",
   "execution_count": null,
   "metadata": {},
   "outputs": [],
   "source": [
    "model = AR(train_data['ave_per_kg'])\n",
    "ar7 = model.fit(maxlag=7)\n",
    "predictions7 = ar7.predict(start=start, end=end, dynamic=False).rename('AR(7) Predictions')"
   ]
  },
  {
   "cell_type": "code",
   "execution_count": null,
   "metadata": {},
   "outputs": [],
   "source": [
    "test_data['ave_per_kg'].plot(legend=True)\n",
    "predictions5.plot(legend=True)\n",
    "predictions7.plot(legend=True);"
   ]
  },
  {
   "cell_type": "markdown",
   "metadata": {},
   "source": [
    "## Autoregressive Moving Average (ARMA) model"
   ]
  },
  {
   "cell_type": "markdown",
   "metadata": {},
   "source": [
    "ARMA model is a combination of two models, the AR model utilizing past values of the time series data, and the Moving Average (MA) model, which uses past values of the forecast errors. As seen earlier, this models can be also be used separately, or in this section, combined."
   ]
  },
  {
   "cell_type": "code",
   "execution_count": null,
   "metadata": {},
   "outputs": [],
   "source": []
  },
  {
   "cell_type": "code",
   "execution_count": null,
   "metadata": {},
   "outputs": [],
   "source": []
  },
  {
   "cell_type": "code",
   "execution_count": null,
   "metadata": {},
   "outputs": [],
   "source": []
  },
  {
   "cell_type": "markdown",
   "metadata": {},
   "source": [
    "## Autoregressive Integrated Moing Average (ARIMA) model"
   ]
  },
  {
   "cell_type": "code",
   "execution_count": null,
   "metadata": {},
   "outputs": [],
   "source": []
  },
  {
   "cell_type": "code",
   "execution_count": null,
   "metadata": {},
   "outputs": [],
   "source": []
  },
  {
   "cell_type": "code",
   "execution_count": null,
   "metadata": {},
   "outputs": [],
   "source": []
  }
 ],
 "metadata": {
  "kernelspec": {
   "display_name": "Python 3",
   "language": "python",
   "name": "python3"
  },
  "language_info": {
   "codemirror_mode": {
    "name": "ipython",
    "version": 3
   },
   "file_extension": ".py",
   "mimetype": "text/x-python",
   "name": "python",
   "nbconvert_exporter": "python",
   "pygments_lexer": "ipython3",
   "version": "3.7.6"
  }
 },
 "nbformat": 4,
 "nbformat_minor": 4
}
