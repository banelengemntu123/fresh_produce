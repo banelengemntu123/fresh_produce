{
 "cells": [
  {
   "cell_type": "code",
   "execution_count": 1,
   "metadata": {},
   "outputs": [],
   "source": [
    "import pandas as pd\n",
    "import requests\n",
    "from scrapy.http import HtmlResponse\n",
    "\n",
    "import warnings\n",
    "warnings.filterwarnings('ignore')\n",
    "import re"
   ]
  },
  {
   "cell_type": "code",
   "execution_count": 12,
   "metadata": {},
   "outputs": [],
   "source": [
    "url = 'http://www.joburgmarket.co.za/dailyprices.php'"
   ]
  },
  {
   "cell_type": "code",
   "execution_count": 3,
   "metadata": {},
   "outputs": [],
   "source": [
    "html = requests.get(url1).content"
   ]
  },
  {
   "cell_type": "code",
   "execution_count": null,
   "metadata": {},
   "outputs": [],
   "source": [
    "response = HtmlResponse(url=url, body=html)"
   ]
  },
  {
   "cell_type": "code",
   "execution_count": 5,
   "metadata": {},
   "outputs": [
    {
     "data": {
      "text/plain": [
       "['Daily Prices']"
      ]
     },
     "execution_count": 5,
     "metadata": {},
     "output_type": "execute_result"
    }
   ],
   "source": [
    "response.css('div#right2 > h1 ::text').extract()"
   ]
  },
  {
   "cell_type": "code",
   "execution_count": 6,
   "metadata": {},
   "outputs": [
    {
     "data": {
      "text/plain": [
       "['Daily Prices']"
      ]
     },
     "execution_count": 6,
     "metadata": {},
     "output_type": "execute_result"
    }
   ],
   "source": [
    "response.xpath('//div[@id=\"right2\"]/h1//text()').extract()"
   ]
  },
  {
   "cell_type": "code",
   "execution_count": 7,
   "metadata": {},
   "outputs": [
    {
     "data": {
      "text/plain": [
       "'Daily Prices'"
      ]
     },
     "execution_count": 7,
     "metadata": {},
     "output_type": "execute_result"
    }
   ],
   "source": [
    "response.xpath('//div[@id=\"right2\"]').css('h1 ::text').extract_first()"
   ]
  },
  {
   "cell_type": "code",
   "execution_count": 8,
   "metadata": {},
   "outputs": [
    {
     "data": {
      "text/plain": [
       "'5 May 2020'"
      ]
     },
     "execution_count": 8,
     "metadata": {},
     "output_type": "execute_result"
    }
   ],
   "source": [
    "response.xpath('//div[@id=\"right2\"]').css('p b ::text').extract_first()"
   ]
  },
  {
   "cell_type": "code",
   "execution_count": 9,
   "metadata": {},
   "outputs": [
    {
     "data": {
      "text/plain": [
       "'Daily Prices'"
      ]
     },
     "execution_count": 9,
     "metadata": {},
     "output_type": "execute_result"
    }
   ],
   "source": [
    "response.xpath('//div[@id=\"right2\"]/h1//text()').get()"
   ]
  },
  {
   "cell_type": "code",
   "execution_count": 10,
   "metadata": {},
   "outputs": [
    {
     "data": {
      "text/plain": [
       "'5 May 2020'"
      ]
     },
     "execution_count": 10,
     "metadata": {},
     "output_type": "execute_result"
    }
   ],
   "source": [
    "response.xpath('//div[@id=\"right2\"]').css('p b ::text').get()"
   ]
  },
  {
   "cell_type": "code",
   "execution_count": 34,
   "metadata": {},
   "outputs": [],
   "source": [
    "#response.css('select option ::text').getall()[1:]"
   ]
  },
  {
   "cell_type": "code",
   "execution_count": 40,
   "metadata": {},
   "outputs": [],
   "source": [
    "sample = response.xpath('//select/option[@value]').extract()[1:5]"
   ]
  },
  {
   "cell_type": "code",
   "execution_count": 41,
   "metadata": {},
   "outputs": [
    {
     "data": {
      "text/plain": [
       "['<option value=\"112\">AMADUMBE</option>',\n",
       " '<option value=\"90\">APPLES</option>',\n",
       " '<option value=\"113\">ARTICHOKES</option>',\n",
       " '<option value=\"272\">ASPARAGUS</option>']"
      ]
     },
     "execution_count": 41,
     "metadata": {},
     "output_type": "execute_result"
    }
   ],
   "source": [
    "sample"
   ]
  },
  {
   "cell_type": "code",
   "execution_count": 47,
   "metadata": {},
   "outputs": [
    {
     "name": "stdout",
     "output_type": "stream",
     "text": [
      "['112']\n",
      "['90']\n",
      "['113']\n",
      "['272']\n"
     ]
    }
   ],
   "source": [
    "for item in sample:\n",
    "    print(re.findall(r'\\d+', item))"
   ]
  },
  {
   "cell_type": "code",
   "execution_count": null,
   "metadata": {},
   "outputs": [],
   "source": [
    "#link?commodity={}"
   ]
  },
  {
   "cell_type": "code",
   "execution_count": 99,
   "metadata": {},
   "outputs": [],
   "source": [
    "col_headings = [\n",
    "    'Date',\n",
    "    'Commodity',\n",
    "    'Total Value Sold',\n",
    "    'Total Value Sold MTD',\n",
    "    'Total Qty Sold',\n",
    "    'Total Qty Sold MTD',\n",
    "    'Total Kg Sold',\n",
    "    'Total Kg Sold MTD',\n",
    "    'Qty Available'\n",
    "]"
   ]
  },
  {
   "cell_type": "code",
   "execution_count": 17,
   "metadata": {},
   "outputs": [],
   "source": [
    "product = response.xpath('//table[@class=\"alltable\"]').css('td.tleft2 ::text').extract()"
   ]
  },
  {
   "cell_type": "code",
   "execution_count": 18,
   "metadata": {},
   "outputs": [
    {
     "data": {
      "text/plain": [
       "['AMADUMBE',\n",
       " 'APPLES',\n",
       " 'ARTICHOKES',\n",
       " 'ASPARAGUS',\n",
       " 'ATCHARA',\n",
       " 'AVOCADOS',\n",
       " 'BABY BEET',\n",
       " 'BABY BRINJALS',\n",
       " 'BABY BUTTERNUT',\n",
       " 'BABY CABBAGE',\n",
       " 'BABY CARROTS',\n",
       " 'BABY ENGLISH CUCUMBER',\n",
       " 'BABY GEM SQUASH',\n",
       " 'BABY LEAF',\n",
       " 'BABY LEEKS',\n",
       " 'BABY MARROWS',\n",
       " 'BABY MIX',\n",
       " 'BABY SWEET CORN',\n",
       " 'BANANAS',\n",
       " 'BASIL',\n",
       " 'BEAN SPROUTS',\n",
       " 'BEANS',\n",
       " 'BEANS INDIAN',\n",
       " 'BEETROOT',\n",
       " 'BEETROOT PROCESSED',\n",
       " 'BLACKBERRIES',\n",
       " 'BLUEBERRIES',\n",
       " 'BOK CHOY PAK-CHOI',\n",
       " 'BRINJALS',\n",
       " 'BROCCOLI',\n",
       " 'BROCCOLI LEAVES',\n",
       " 'BUTTER LETTUCE',\n",
       " 'BUTTERNUT',\n",
       " 'CABBAGE',\n",
       " 'CABBAGE  SUGAR',\n",
       " 'CABBAGE RED',\n",
       " 'CALABASH',\n",
       " 'CARROTS',\n",
       " 'CAULI/BROC',\n",
       " 'CAULIFLOWER',\n",
       " 'CELERY',\n",
       " 'CHILLIES',\n",
       " 'CHINESE  VEGETABLES',\n",
       " 'CHIPS',\n",
       " 'CHIVES',\n",
       " 'CHORIE',\n",
       " 'CLEMENTINES',\n",
       " 'COCKTAIL TOMATOES',\n",
       " 'COCONUTS',\n",
       " 'CORIANDER/DHANYA',\n",
       " 'CRUSHED GINGER/GARLIC',\n",
       " 'CUCUMBER',\n",
       " 'CURRY LEAVES',\n",
       " 'DATES',\n",
       " 'DHANYA',\n",
       " 'DILL',\n",
       " 'DRAGON FRUIT',\n",
       " 'DRIED FRUIT',\n",
       " 'EDIBLE FLOWERS',\n",
       " 'EMPTY BOXES',\n",
       " 'ENDIVE/CHICORY',\n",
       " 'ENGLISH CUCUMBER',\n",
       " 'FENNEL/ANISE',\n",
       " 'FIGS',\n",
       " 'FIREWOOD',\n",
       " 'GARLIC',\n",
       " 'GARLIC PROCESSED',\n",
       " 'GEELORA',\n",
       " 'GEM SQUASHES',\n",
       " 'GHERKINS',\n",
       " 'GINGER PROCESSED',\n",
       " 'GINGER ROOT',\n",
       " 'GOOSEBERRIES',\n",
       " 'GOOVAAR',\n",
       " 'GRANADILLA',\n",
       " 'GRAPEFRUIT',\n",
       " 'GRAPES',\n",
       " 'GREEN MEALIES',\n",
       " 'GREEN PEPPERS',\n",
       " 'GUAVA',\n",
       " 'HONEY',\n",
       " 'HUBBARD SQUASHES',\n",
       " 'JACK BE LITTLE',\n",
       " 'JUICE',\n",
       " 'KALE',\n",
       " 'KARELA',\n",
       " 'KIWIFRUIT',\n",
       " 'KOHLRABI',\n",
       " 'KUMQUAT',\n",
       " 'LEEKS',\n",
       " 'LEMON GRASS',\n",
       " 'LEMONS',\n",
       " 'LETTUCE',\n",
       " 'LETTUCE LIVING',\n",
       " 'LIMES',\n",
       " 'LIQUIDS',\n",
       " 'MANGO',\n",
       " 'MARROWS',\n",
       " 'MELONS',\n",
       " 'MICRO HERBS',\n",
       " 'MINT',\n",
       " 'MITJI BUDGIE',\n",
       " 'MIXED',\n",
       " 'MIXED HERBS',\n",
       " 'MOROGO',\n",
       " 'MUSHROOMS',\n",
       " 'MUSK MELONS',\n",
       " 'MUSTARD LEAVE',\n",
       " 'NAARTJIES',\n",
       " 'NOVA',\n",
       " 'OKRA',\n",
       " 'OLIVES',\n",
       " 'ONIONS',\n",
       " 'ORANGES',\n",
       " 'OREGANO',\n",
       " 'PAMPALMOESE',\n",
       " 'PANTRA LEAVES',\n",
       " 'PAPINO',\n",
       " 'PAPRI',\n",
       " 'PAPRIKA',\n",
       " 'PARSLEY',\n",
       " 'PARSNIP',\n",
       " 'PATTY PANS',\n",
       " 'PEACHES',\n",
       " 'PEARS',\n",
       " 'PEAS',\n",
       " 'PERSIMMON/SHARON FRUIT',\n",
       " 'PINEAPPLES',\n",
       " 'PKS BLUE QUEEN',\n",
       " 'PLUMS',\n",
       " 'POMEGRANATE',\n",
       " 'POT PLANTS',\n",
       " 'POTATOES',\n",
       " 'PRICKLY PEAR',\n",
       " 'PUMPKINS',\n",
       " 'QUINCE',\n",
       " 'RADISH',\n",
       " 'RAINBOW PEPPERS',\n",
       " 'RASPBERRIES',\n",
       " 'RED BEANS',\n",
       " 'RED LETTUCE',\n",
       " 'RED PEPPERS',\n",
       " 'RHUBARB',\n",
       " 'ROCKET',\n",
       " 'ROSEMARY',\n",
       " 'SAGE',\n",
       " 'SATSUMAS',\n",
       " 'SHALLOTS',\n",
       " 'SOUP GREENS',\n",
       " 'SPEARMINT',\n",
       " 'SPINACH',\n",
       " 'SPRING ONIONS',\n",
       " 'SPROUTS',\n",
       " 'STRAWBERRIES',\n",
       " 'SUGAR CANE',\n",
       " 'SWEET BASIL',\n",
       " 'SWEET CORN',\n",
       " 'SWEET MELONS',\n",
       " 'SWEET POTATO',\n",
       " 'SWEETS',\n",
       " 'TABLE CELERY',\n",
       " 'TAMARILLO',\n",
       " 'THYME',\n",
       " 'TOMATOES',\n",
       " 'TOMATOES DRIED',\n",
       " 'TURIA',\n",
       " 'TURMERIC',\n",
       " 'TURNIP',\n",
       " 'VIRTUAL PRODUCT',\n",
       " 'WATERMELONS',\n",
       " 'WILD ROCKET',\n",
       " 'YELLOW PEPPERS']"
      ]
     },
     "execution_count": 18,
     "metadata": {},
     "output_type": "execute_result"
    }
   ],
   "source": [
    "product"
   ]
  },
  {
   "cell_type": "code",
   "execution_count": 94,
   "metadata": {},
   "outputs": [],
   "source": [
    "date = response.xpath('//div[@id=\"right2\"]').css('p b ::text').extract_first()"
   ]
  },
  {
   "cell_type": "code",
   "execution_count": 100,
   "metadata": {},
   "outputs": [],
   "source": [
    "purchases = []\n",
    "for i, fresh_produce in enumerate(product):\n",
    "    row = response.xpath('//table[@class=\"alltable\"]').css('td.tleft ::text').extract()[(i * 7):(i * 7) + 7]\n",
    "    modified_list = [] \n",
    "    for index, item in enumerate(row):\n",
    "        item = item.replace(\",\", \"\").replace(\"R\", \"\").replace(\"MTD:\", \"\") # i.e. converted e.g. R 1,234.56 --> 1234.56\n",
    "        item = item.lstrip()\n",
    "        modified_list.append(float(item))\n",
    "    purchases.append([date] + [fresh_produce] + modified_list)"
   ]
  },
  {
   "cell_type": "code",
   "execution_count": 101,
   "metadata": {},
   "outputs": [
    {
     "data": {
      "text/plain": [
       "['30 April 2020', 'AMADUMBE', 1330.0, 96510.0, 7.0, 226.0, 140.0, 4520.0, 0.0]"
      ]
     },
     "execution_count": 101,
     "metadata": {},
     "output_type": "execute_result"
    }
   ],
   "source": [
    "purchases[0]"
   ]
  },
  {
   "cell_type": "code",
   "execution_count": 106,
   "metadata": {},
   "outputs": [],
   "source": [
    "df = pd.DataFrame(data=purchases, columns=col_headings)"
   ]
  },
  {
   "cell_type": "code",
   "execution_count": 107,
   "metadata": {},
   "outputs": [
    {
     "data": {
      "text/html": [
       "<div>\n",
       "<style scoped>\n",
       "    .dataframe tbody tr th:only-of-type {\n",
       "        vertical-align: middle;\n",
       "    }\n",
       "\n",
       "    .dataframe tbody tr th {\n",
       "        vertical-align: top;\n",
       "    }\n",
       "\n",
       "    .dataframe thead th {\n",
       "        text-align: right;\n",
       "    }\n",
       "</style>\n",
       "<table border=\"1\" class=\"dataframe\">\n",
       "  <thead>\n",
       "    <tr style=\"text-align: right;\">\n",
       "      <th></th>\n",
       "      <th>Date</th>\n",
       "      <th>Commodity</th>\n",
       "      <th>Total Value Sold</th>\n",
       "      <th>Total Value Sold MTD</th>\n",
       "      <th>Total Qty Sold</th>\n",
       "      <th>Total Qty Sold MTD</th>\n",
       "      <th>Total Kg Sold</th>\n",
       "      <th>Total Kg Sold MTD</th>\n",
       "      <th>Qty Available</th>\n",
       "    </tr>\n",
       "  </thead>\n",
       "  <tbody>\n",
       "    <tr>\n",
       "      <th>0</th>\n",
       "      <td>30 April 2020</td>\n",
       "      <td>AMADUMBE</td>\n",
       "      <td>1330.00</td>\n",
       "      <td>96510.0</td>\n",
       "      <td>7.0</td>\n",
       "      <td>226.0</td>\n",
       "      <td>140.0</td>\n",
       "      <td>4520.0</td>\n",
       "      <td>0.0</td>\n",
       "    </tr>\n",
       "    <tr>\n",
       "      <th>1</th>\n",
       "      <td>30 April 2020</td>\n",
       "      <td>APPLES</td>\n",
       "      <td>1866501.00</td>\n",
       "      <td>28600166.3</td>\n",
       "      <td>23769.0</td>\n",
       "      <td>333449.0</td>\n",
       "      <td>303208.0</td>\n",
       "      <td>3969349.0</td>\n",
       "      <td>118915.0</td>\n",
       "    </tr>\n",
       "    <tr>\n",
       "      <th>2</th>\n",
       "      <td>30 April 2020</td>\n",
       "      <td>ASPARAGUS</td>\n",
       "      <td>32000.00</td>\n",
       "      <td>135806.0</td>\n",
       "      <td>32.0</td>\n",
       "      <td>382.0</td>\n",
       "      <td>160.0</td>\n",
       "      <td>1693.0</td>\n",
       "      <td>1.0</td>\n",
       "    </tr>\n",
       "    <tr>\n",
       "      <th>3</th>\n",
       "      <td>30 April 2020</td>\n",
       "      <td>ATCHARA</td>\n",
       "      <td>820.80</td>\n",
       "      <td>4551.8</td>\n",
       "      <td>29.0</td>\n",
       "      <td>122.0</td>\n",
       "      <td>38.0</td>\n",
       "      <td>215.0</td>\n",
       "      <td>196.0</td>\n",
       "    </tr>\n",
       "    <tr>\n",
       "      <th>4</th>\n",
       "      <td>30 April 2020</td>\n",
       "      <td>AVOCADOS</td>\n",
       "      <td>643910.82</td>\n",
       "      <td>10796817.8</td>\n",
       "      <td>7469.0</td>\n",
       "      <td>150080.0</td>\n",
       "      <td>61098.0</td>\n",
       "      <td>1002509.0</td>\n",
       "      <td>17553.0</td>\n",
       "    </tr>\n",
       "  </tbody>\n",
       "</table>\n",
       "</div>"
      ],
      "text/plain": [
       "            Date  Commodity  Total Value Sold  Total Value Sold MTD  \\\n",
       "0  30 April 2020   AMADUMBE           1330.00               96510.0   \n",
       "1  30 April 2020     APPLES        1866501.00            28600166.3   \n",
       "2  30 April 2020  ASPARAGUS          32000.00              135806.0   \n",
       "3  30 April 2020    ATCHARA            820.80                4551.8   \n",
       "4  30 April 2020   AVOCADOS         643910.82            10796817.8   \n",
       "\n",
       "   Total Qty Sold  Total Qty Sold MTD  Total Kg Sold  Total Kg Sold MTD  \\\n",
       "0             7.0               226.0          140.0             4520.0   \n",
       "1         23769.0            333449.0       303208.0          3969349.0   \n",
       "2            32.0               382.0          160.0             1693.0   \n",
       "3            29.0               122.0           38.0              215.0   \n",
       "4          7469.0            150080.0        61098.0          1002509.0   \n",
       "\n",
       "   Qty Available  \n",
       "0            0.0  \n",
       "1       118915.0  \n",
       "2            1.0  \n",
       "3          196.0  \n",
       "4        17553.0  "
      ]
     },
     "execution_count": 107,
     "metadata": {},
     "output_type": "execute_result"
    }
   ],
   "source": [
    "df.head()"
   ]
  },
  {
   "cell_type": "code",
   "execution_count": null,
   "metadata": {},
   "outputs": [],
   "source": []
  }
 ],
 "metadata": {
  "kernelspec": {
   "display_name": "Python 3",
   "language": "python",
   "name": "python3"
  },
  "language_info": {
   "codemirror_mode": {
    "name": "ipython",
    "version": 3
   },
   "file_extension": ".py",
   "mimetype": "text/x-python",
   "name": "python",
   "nbconvert_exporter": "python",
   "pygments_lexer": "ipython3",
   "version": "3.7.6"
  },
  "toc": {
   "base_numbering": 1,
   "nav_menu": {},
   "number_sections": true,
   "sideBar": true,
   "skip_h1_title": false,
   "title_cell": "Table of Contents",
   "title_sidebar": "Contents",
   "toc_cell": false,
   "toc_position": {},
   "toc_section_display": true,
   "toc_window_display": false
  }
 },
 "nbformat": 4,
 "nbformat_minor": 4
}
