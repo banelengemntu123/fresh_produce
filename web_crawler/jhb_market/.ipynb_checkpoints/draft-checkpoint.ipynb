{
 "cells": [
  {
   "cell_type": "markdown",
   "metadata": {},
   "source": [
    "**Note:**\n",
    "This data pipeline scrappes raw data from [joburgmarket](http://www.joburgmarket.co.za/dailyprices.php) to an SQL Database.\n"
   ]
  },
  {
   "cell_type": "code",
   "execution_count": 1,
   "metadata": {},
   "outputs": [],
   "source": [
    "import pandas as pd\n",
    "import requests\n",
    "import urllib\n",
    "from scrapy.http import HtmlResponse\n",
    "from sqlalchemy import create_engine, MetaData\n",
    "\n",
    "\n",
    "# Custom upload\n",
    "from engine_info import server_info\n",
    "\n",
    "import warnings\n",
    "warnings.filterwarnings('ignore')"
   ]
  },
  {
   "cell_type": "code",
   "execution_count": 2,
   "metadata": {},
   "outputs": [],
   "source": [
    "# Url where the data is going to be scrapped from\n",
    "url = 'http://www.joburgmarket.co.za/dailyprices.php'"
   ]
  },
  {
   "cell_type": "code",
   "execution_count": 13,
   "metadata": {},
   "outputs": [],
   "source": [
    "# Extracting html content of the url\n",
    "html = requests.get(url).content\n",
    "# Creating a response variable to enable web scrapping in the url \n",
    "response = HtmlResponse(url=url, body=html)"
   ]
  },
  {
   "cell_type": "code",
   "execution_count": 16,
   "metadata": {},
   "outputs": [
    {
     "name": "stdout",
     "output_type": "stream",
     "text": [
      "The information in the website is for 20 August 2020.\n"
     ]
    }
   ],
   "source": [
    "# Extracting the date for latest information displayed on the website\n",
    "date = response.xpath('//div[@id=\"right2\"]').css('p b ::text').get()\n",
    "print(f\"The information in the website is for {date}.\")"
   ]
  },
  {
   "cell_type": "code",
   "execution_count": 3,
   "metadata": {},
   "outputs": [],
   "source": [
    "# Creating a connection to MS SQL SERVER\n",
    "params = urllib.parse.quote_plus(server_info)\n",
    "engine = create_engine('mssql+pyodbc:///?odbc_connect=%s' % params)\n",
    "connection = engine.connect()"
   ]
  },
  {
   "cell_type": "code",
   "execution_count": 11,
   "metadata": {},
   "outputs": [
    {
     "data": {
      "text/plain": [
       "['container_raw', 'product_combination_raw', 'product_raw', 'scrapping_date']"
      ]
     },
     "execution_count": 11,
     "metadata": {},
     "output_type": "execute_result"
    }
   ],
   "source": [
    "# Check what is in the database\n",
    "engine.table_names()"
   ]
  },
  {
   "cell_type": "code",
   "execution_count": 9,
   "metadata": {},
   "outputs": [],
   "source": [
    "# Data scrapped comes in as a list, which must be converted to a Dataframe\n",
    "commodity_df = pd.read_html(url)[0]"
   ]
  },
  {
   "cell_type": "code",
   "execution_count": 10,
   "metadata": {},
   "outputs": [
    {
     "data": {
      "text/html": [
       "<div>\n",
       "<style scoped>\n",
       "    .dataframe tbody tr th:only-of-type {\n",
       "        vertical-align: middle;\n",
       "    }\n",
       "\n",
       "    .dataframe tbody tr th {\n",
       "        vertical-align: top;\n",
       "    }\n",
       "\n",
       "    .dataframe thead th {\n",
       "        text-align: right;\n",
       "    }\n",
       "</style>\n",
       "<table border=\"1\" class=\"dataframe\">\n",
       "  <thead>\n",
       "    <tr style=\"text-align: right;\">\n",
       "      <th></th>\n",
       "      <th>Commodity</th>\n",
       "      <th>Total Value Sold</th>\n",
       "      <th>Total Qty Sold</th>\n",
       "      <th>Total Kg Sold</th>\n",
       "      <th>Qty Available</th>\n",
       "    </tr>\n",
       "  </thead>\n",
       "  <tbody>\n",
       "    <tr>\n",
       "      <th>0</th>\n",
       "      <td>AMADUMBE</td>\n",
       "      <td>R0.00MTD: R39,870.00</td>\n",
       "      <td>0MTD: 97</td>\n",
       "      <td>0MTD: 1,940</td>\n",
       "      <td>2</td>\n",
       "    </tr>\n",
       "    <tr>\n",
       "      <th>1</th>\n",
       "      <td>APPLES</td>\n",
       "      <td>R1,205,932.00MTD: R22,664,221.00</td>\n",
       "      <td>13,799MTD: 261,296</td>\n",
       "      <td>157,462MTD: 3,163,863</td>\n",
       "      <td>91755</td>\n",
       "    </tr>\n",
       "    <tr>\n",
       "      <th>2</th>\n",
       "      <td>ARTICHOKES</td>\n",
       "      <td>R600.00MTD: R53,100.00</td>\n",
       "      <td>4MTD: 439</td>\n",
       "      <td>3MTD: 522</td>\n",
       "      <td>1</td>\n",
       "    </tr>\n",
       "    <tr>\n",
       "      <th>3</th>\n",
       "      <td>ASPARAGUS</td>\n",
       "      <td>R34,000.00MTD: R258,975.00</td>\n",
       "      <td>50MTD: 359</td>\n",
       "      <td>250MTD: 1,795</td>\n",
       "      <td>8</td>\n",
       "    </tr>\n",
       "    <tr>\n",
       "      <th>4</th>\n",
       "      <td>ATCHARA</td>\n",
       "      <td>R0.00MTD: R1,351.20</td>\n",
       "      <td>0MTD: 23</td>\n",
       "      <td>0MTD: 65</td>\n",
       "      <td>207</td>\n",
       "    </tr>\n",
       "  </tbody>\n",
       "</table>\n",
       "</div>"
      ],
      "text/plain": [
       "    Commodity                  Total Value Sold      Total Qty Sold  \\\n",
       "0    AMADUMBE              R0.00MTD: R39,870.00            0MTD: 97   \n",
       "1      APPLES  R1,205,932.00MTD: R22,664,221.00  13,799MTD: 261,296   \n",
       "2  ARTICHOKES            R600.00MTD: R53,100.00           4MTD: 439   \n",
       "3   ASPARAGUS        R34,000.00MTD: R258,975.00          50MTD: 359   \n",
       "4     ATCHARA               R0.00MTD: R1,351.20            0MTD: 23   \n",
       "\n",
       "           Total Kg Sold  Qty Available  \n",
       "0            0MTD: 1,940              2  \n",
       "1  157,462MTD: 3,163,863          91755  \n",
       "2              3MTD: 522              1  \n",
       "3          250MTD: 1,795              8  \n",
       "4               0MTD: 65            207  "
      ]
     },
     "execution_count": 10,
     "metadata": {},
     "output_type": "execute_result"
    }
   ],
   "source": [
    "commodity_df.head()"
   ]
  },
  {
   "cell_type": "code",
   "execution_count": 17,
   "metadata": {},
   "outputs": [],
   "source": [
    "# Attach the date column to the dataframe\n",
    "commodity_df.insert(loc=0, column='Date', value=date)"
   ]
  },
  {
   "cell_type": "code",
   "execution_count": 20,
   "metadata": {},
   "outputs": [
    {
     "data": {
      "text/html": [
       "<div>\n",
       "<style scoped>\n",
       "    .dataframe tbody tr th:only-of-type {\n",
       "        vertical-align: middle;\n",
       "    }\n",
       "\n",
       "    .dataframe tbody tr th {\n",
       "        vertical-align: top;\n",
       "    }\n",
       "\n",
       "    .dataframe thead th {\n",
       "        text-align: right;\n",
       "    }\n",
       "</style>\n",
       "<table border=\"1\" class=\"dataframe\">\n",
       "  <thead>\n",
       "    <tr style=\"text-align: right;\">\n",
       "      <th></th>\n",
       "      <th>Date</th>\n",
       "      <th>Commodity</th>\n",
       "      <th>Total Value Sold</th>\n",
       "      <th>Total Qty Sold</th>\n",
       "      <th>Total Kg Sold</th>\n",
       "      <th>Qty Available</th>\n",
       "    </tr>\n",
       "  </thead>\n",
       "  <tbody>\n",
       "    <tr>\n",
       "      <th>0</th>\n",
       "      <td>20 August 2020</td>\n",
       "      <td>AMADUMBE</td>\n",
       "      <td>R0.00MTD: R39,870.00</td>\n",
       "      <td>0MTD: 97</td>\n",
       "      <td>0MTD: 1,940</td>\n",
       "      <td>2</td>\n",
       "    </tr>\n",
       "    <tr>\n",
       "      <th>1</th>\n",
       "      <td>20 August 2020</td>\n",
       "      <td>APPLES</td>\n",
       "      <td>R1,205,932.00MTD: R22,664,221.00</td>\n",
       "      <td>13,799MTD: 261,296</td>\n",
       "      <td>157,462MTD: 3,163,863</td>\n",
       "      <td>91755</td>\n",
       "    </tr>\n",
       "    <tr>\n",
       "      <th>2</th>\n",
       "      <td>20 August 2020</td>\n",
       "      <td>ARTICHOKES</td>\n",
       "      <td>R600.00MTD: R53,100.00</td>\n",
       "      <td>4MTD: 439</td>\n",
       "      <td>3MTD: 522</td>\n",
       "      <td>1</td>\n",
       "    </tr>\n",
       "    <tr>\n",
       "      <th>3</th>\n",
       "      <td>20 August 2020</td>\n",
       "      <td>ASPARAGUS</td>\n",
       "      <td>R34,000.00MTD: R258,975.00</td>\n",
       "      <td>50MTD: 359</td>\n",
       "      <td>250MTD: 1,795</td>\n",
       "      <td>8</td>\n",
       "    </tr>\n",
       "    <tr>\n",
       "      <th>4</th>\n",
       "      <td>20 August 2020</td>\n",
       "      <td>ATCHARA</td>\n",
       "      <td>R0.00MTD: R1,351.20</td>\n",
       "      <td>0MTD: 23</td>\n",
       "      <td>0MTD: 65</td>\n",
       "      <td>207</td>\n",
       "    </tr>\n",
       "  </tbody>\n",
       "</table>\n",
       "</div>"
      ],
      "text/plain": [
       "             Date   Commodity                  Total Value Sold  \\\n",
       "0  20 August 2020    AMADUMBE              R0.00MTD: R39,870.00   \n",
       "1  20 August 2020      APPLES  R1,205,932.00MTD: R22,664,221.00   \n",
       "2  20 August 2020  ARTICHOKES            R600.00MTD: R53,100.00   \n",
       "3  20 August 2020   ASPARAGUS        R34,000.00MTD: R258,975.00   \n",
       "4  20 August 2020     ATCHARA               R0.00MTD: R1,351.20   \n",
       "\n",
       "       Total Qty Sold          Total Kg Sold  Qty Available  \n",
       "0            0MTD: 97            0MTD: 1,940              2  \n",
       "1  13,799MTD: 261,296  157,462MTD: 3,163,863          91755  \n",
       "2           4MTD: 439              3MTD: 522              1  \n",
       "3          50MTD: 359          250MTD: 1,795              8  \n",
       "4            0MTD: 23               0MTD: 65            207  "
      ]
     },
     "execution_count": 20,
     "metadata": {},
     "output_type": "execute_result"
    }
   ],
   "source": [
    "commodity_df.head()"
   ]
  },
  {
   "cell_type": "code",
   "execution_count": 6,
   "metadata": {},
   "outputs": [
    {
     "name": "stdout",
     "output_type": "stream",
     "text": [
      "<class 'pandas.core.frame.DataFrame'>\n",
      "RangeIndex: 169 entries, 0 to 168\n",
      "Data columns (total 5 columns):\n",
      " #   Column            Non-Null Count  Dtype \n",
      "---  ------            --------------  ----- \n",
      " 0   Commodity         169 non-null    object\n",
      " 1   Total Value Sold  169 non-null    object\n",
      " 2   Total Qty Sold    169 non-null    object\n",
      " 3   Total Kg Sold     169 non-null    object\n",
      " 4   Qty Available     169 non-null    int64 \n",
      "dtypes: int64(1), object(4)\n",
      "memory usage: 6.7+ KB\n"
     ]
    }
   ],
   "source": [
    "mydf[0].info()"
   ]
  },
  {
   "cell_type": "code",
   "execution_count": 95,
   "metadata": {},
   "outputs": [],
   "source": []
  },
  {
   "cell_type": "code",
   "execution_count": 96,
   "metadata": {},
   "outputs": [],
   "source": []
  },
  {
   "cell_type": "code",
   "execution_count": 97,
   "metadata": {},
   "outputs": [
    {
     "data": {
      "text/plain": [
       "['Daily Prices']"
      ]
     },
     "execution_count": 97,
     "metadata": {},
     "output_type": "execute_result"
    }
   ],
   "source": [
    "response.css('div#right2 > h1 ::text').extract()"
   ]
  },
  {
   "cell_type": "code",
   "execution_count": 98,
   "metadata": {},
   "outputs": [
    {
     "data": {
      "text/plain": [
       "['Daily Prices']"
      ]
     },
     "execution_count": 98,
     "metadata": {},
     "output_type": "execute_result"
    }
   ],
   "source": [
    "response.xpath('//div[@id=\"right2\"]/h1//text()').extract()"
   ]
  },
  {
   "cell_type": "code",
   "execution_count": 99,
   "metadata": {},
   "outputs": [
    {
     "data": {
      "text/plain": [
       "'Daily Prices'"
      ]
     },
     "execution_count": 99,
     "metadata": {},
     "output_type": "execute_result"
    }
   ],
   "source": [
    "response.xpath('//div[@id=\"right2\"]').css('h1 ::text').extract_first()"
   ]
  },
  {
   "cell_type": "code",
   "execution_count": 100,
   "metadata": {},
   "outputs": [
    {
     "data": {
      "text/plain": [
       "'19 August 2020'"
      ]
     },
     "execution_count": 100,
     "metadata": {},
     "output_type": "execute_result"
    }
   ],
   "source": [
    "response.xpath('//div[@id=\"right2\"]').css('p b ::text').extract_first()"
   ]
  },
  {
   "cell_type": "code",
   "execution_count": 101,
   "metadata": {},
   "outputs": [
    {
     "data": {
      "text/plain": [
       "'Daily Prices'"
      ]
     },
     "execution_count": 101,
     "metadata": {},
     "output_type": "execute_result"
    }
   ],
   "source": [
    "response.xpath('//div[@id=\"right2\"]/h1//text()').get()"
   ]
  },
  {
   "cell_type": "code",
   "execution_count": 102,
   "metadata": {},
   "outputs": [],
   "source": [
    "date = response.xpath('//div[@id=\"right2\"]').css('p b ::text').get()"
   ]
  },
  {
   "cell_type": "code",
   "execution_count": 103,
   "metadata": {},
   "outputs": [],
   "source": [
    "#response.css('select option ::text').getall()[1:]"
   ]
  },
  {
   "cell_type": "code",
   "execution_count": 141,
   "metadata": {},
   "outputs": [],
   "source": [
    "sample = response.xpath('//select/option/@value').extract()[1:5]"
   ]
  },
  {
   "cell_type": "code",
   "execution_count": 142,
   "metadata": {},
   "outputs": [
    {
     "data": {
      "text/plain": [
       "['112', '90', '113', '272']"
      ]
     },
     "execution_count": 142,
     "metadata": {},
     "output_type": "execute_result"
    }
   ],
   "source": [
    "sample"
   ]
  },
  {
   "cell_type": "code",
   "execution_count": 106,
   "metadata": {},
   "outputs": [
    {
     "name": "stdout",
     "output_type": "stream",
     "text": [
      "112\n",
      "90\n",
      "113\n",
      "272\n"
     ]
    }
   ],
   "source": [
    "for item in sample:\n",
    "    print(re.findall(r'\\d+', item)[0])"
   ]
  },
  {
   "cell_type": "code",
   "execution_count": 107,
   "metadata": {},
   "outputs": [],
   "source": [
    "#link?commodity={}"
   ]
  },
  {
   "cell_type": "code",
   "execution_count": 108,
   "metadata": {},
   "outputs": [],
   "source": [
    "col_headings = [\n",
    "    'Date',\n",
    "    'Commodity',\n",
    "    'Total Value Sold',\n",
    "    'Total Value Sold MTD',\n",
    "    'Total Qty Sold',\n",
    "    'Total Qty Sold MTD',\n",
    "    'Total Kg Sold',\n",
    "    'Total Kg Sold MTD',\n",
    "    'Qty Available'\n",
    "]"
   ]
  },
  {
   "cell_type": "code",
   "execution_count": 109,
   "metadata": {},
   "outputs": [],
   "source": [
    "product = response.xpath('//table[@class=\"alltable\"]').css('td.tleft2 ::text').extract()"
   ]
  },
  {
   "cell_type": "code",
   "execution_count": 110,
   "metadata": {},
   "outputs": [
    {
     "data": {
      "text/plain": [
       "['AMADUMBE', 'APPLES', 'ARTICHOKES', 'ASPARAGUS', 'ATCHARA']"
      ]
     },
     "execution_count": 110,
     "metadata": {},
     "output_type": "execute_result"
    }
   ],
   "source": [
    "product[:5]"
   ]
  },
  {
   "cell_type": "code",
   "execution_count": 111,
   "metadata": {},
   "outputs": [],
   "source": [
    "purchases = []\n",
    "for i, fresh_produce in enumerate(product):\n",
    "    row = response.xpath('//table[@class=\"alltable\"]').css('td.tleft ::text').extract()[(i * 7):(i * 7) + 7]\n",
    "    modified_list = [] \n",
    "    for index, item in enumerate(row):\n",
    "        item = item.replace(\",\", \"\").replace(\"R\", \"\").replace(\"MTD:\", \"\") # i.e. converted e.g. R 1,234.56 --> 1234.56\n",
    "        item = item.lstrip()\n",
    "        modified_list.append(float(item))\n",
    "    purchases.append([date] + [fresh_produce] + modified_list)"
   ]
  },
  {
   "cell_type": "code",
   "execution_count": 112,
   "metadata": {
    "scrolled": true
   },
   "outputs": [
    {
     "data": {
      "text/plain": [
       "['19 August 2020', 'AMADUMBE', 0.0, 39870.0, 0.0, 97.0, 0.0, 1940.0, 2.0]"
      ]
     },
     "execution_count": 112,
     "metadata": {},
     "output_type": "execute_result"
    }
   ],
   "source": [
    "purchases[0]"
   ]
  },
  {
   "cell_type": "code",
   "execution_count": 113,
   "metadata": {},
   "outputs": [],
   "source": [
    "df = pd.DataFrame(data=purchases, columns=col_headings)"
   ]
  },
  {
   "cell_type": "code",
   "execution_count": 114,
   "metadata": {},
   "outputs": [
    {
     "data": {
      "text/html": [
       "<div>\n",
       "<style scoped>\n",
       "    .dataframe tbody tr th:only-of-type {\n",
       "        vertical-align: middle;\n",
       "    }\n",
       "\n",
       "    .dataframe tbody tr th {\n",
       "        vertical-align: top;\n",
       "    }\n",
       "\n",
       "    .dataframe thead th {\n",
       "        text-align: right;\n",
       "    }\n",
       "</style>\n",
       "<table border=\"1\" class=\"dataframe\">\n",
       "  <thead>\n",
       "    <tr style=\"text-align: right;\">\n",
       "      <th></th>\n",
       "      <th>Date</th>\n",
       "      <th>Commodity</th>\n",
       "      <th>Total Value Sold</th>\n",
       "      <th>Total Value Sold MTD</th>\n",
       "      <th>Total Qty Sold</th>\n",
       "      <th>Total Qty Sold MTD</th>\n",
       "      <th>Total Kg Sold</th>\n",
       "      <th>Total Kg Sold MTD</th>\n",
       "      <th>Qty Available</th>\n",
       "    </tr>\n",
       "  </thead>\n",
       "  <tbody>\n",
       "    <tr>\n",
       "      <th>0</th>\n",
       "      <td>19 August 2020</td>\n",
       "      <td>AMADUMBE</td>\n",
       "      <td>0.0</td>\n",
       "      <td>39870.0</td>\n",
       "      <td>0.0</td>\n",
       "      <td>97.0</td>\n",
       "      <td>0.0</td>\n",
       "      <td>1940.0</td>\n",
       "      <td>2.0</td>\n",
       "    </tr>\n",
       "    <tr>\n",
       "      <th>1</th>\n",
       "      <td>19 August 2020</td>\n",
       "      <td>APPLES</td>\n",
       "      <td>1219191.0</td>\n",
       "      <td>21457329.0</td>\n",
       "      <td>12036.0</td>\n",
       "      <td>247471.0</td>\n",
       "      <td>163679.0</td>\n",
       "      <td>3005996.0</td>\n",
       "      <td>80452.0</td>\n",
       "    </tr>\n",
       "    <tr>\n",
       "      <th>2</th>\n",
       "      <td>19 August 2020</td>\n",
       "      <td>ARTICHOKES</td>\n",
       "      <td>2520.0</td>\n",
       "      <td>52500.0</td>\n",
       "      <td>21.0</td>\n",
       "      <td>435.0</td>\n",
       "      <td>25.0</td>\n",
       "      <td>518.0</td>\n",
       "      <td>1.0</td>\n",
       "    </tr>\n",
       "    <tr>\n",
       "      <th>3</th>\n",
       "      <td>19 August 2020</td>\n",
       "      <td>ASPARAGUS</td>\n",
       "      <td>2000.0</td>\n",
       "      <td>224975.0</td>\n",
       "      <td>3.0</td>\n",
       "      <td>309.0</td>\n",
       "      <td>15.0</td>\n",
       "      <td>1545.0</td>\n",
       "      <td>18.0</td>\n",
       "    </tr>\n",
       "    <tr>\n",
       "      <th>4</th>\n",
       "      <td>19 August 2020</td>\n",
       "      <td>ATCHARA</td>\n",
       "      <td>128.0</td>\n",
       "      <td>1351.2</td>\n",
       "      <td>3.0</td>\n",
       "      <td>23.0</td>\n",
       "      <td>6.0</td>\n",
       "      <td>65.0</td>\n",
       "      <td>207.0</td>\n",
       "    </tr>\n",
       "  </tbody>\n",
       "</table>\n",
       "</div>"
      ],
      "text/plain": [
       "             Date   Commodity  Total Value Sold  Total Value Sold MTD  \\\n",
       "0  19 August 2020    AMADUMBE               0.0               39870.0   \n",
       "1  19 August 2020      APPLES         1219191.0            21457329.0   \n",
       "2  19 August 2020  ARTICHOKES            2520.0               52500.0   \n",
       "3  19 August 2020   ASPARAGUS            2000.0              224975.0   \n",
       "4  19 August 2020     ATCHARA             128.0                1351.2   \n",
       "\n",
       "   Total Qty Sold  Total Qty Sold MTD  Total Kg Sold  Total Kg Sold MTD  \\\n",
       "0             0.0                97.0            0.0             1940.0   \n",
       "1         12036.0            247471.0       163679.0          3005996.0   \n",
       "2            21.0               435.0           25.0              518.0   \n",
       "3             3.0               309.0           15.0             1545.0   \n",
       "4             3.0                23.0            6.0               65.0   \n",
       "\n",
       "   Qty Available  \n",
       "0            2.0  \n",
       "1        80452.0  \n",
       "2            1.0  \n",
       "3           18.0  \n",
       "4          207.0  "
      ]
     },
     "execution_count": 114,
     "metadata": {},
     "output_type": "execute_result"
    }
   ],
   "source": [
    "df.head()"
   ]
  },
  {
   "cell_type": "code",
   "execution_count": 10,
   "metadata": {},
   "outputs": [],
   "source": []
  },
  {
   "cell_type": "code",
   "execution_count": 8,
   "metadata": {},
   "outputs": [],
   "source": [
    "import urllib"
   ]
  },
  {
   "cell_type": "code",
   "execution_count": 11,
   "metadata": {},
   "outputs": [
    {
     "name": "stdout",
     "output_type": "stream",
     "text": [
      "[]\n"
     ]
    }
   ],
   "source": [
    "#engine = create_engine('mssql+pyodbc://LAPTOP-7FR129DV/SQLEXPRESS/jhb_market/?driver=SQL Server?Trusted_Connection=yes')\n"
   ]
  },
  {
   "cell_type": "code",
   "execution_count": 17,
   "metadata": {},
   "outputs": [
    {
     "data": {
      "text/plain": [
       "[]"
      ]
     },
     "execution_count": 17,
     "metadata": {},
     "output_type": "execute_result"
    }
   ],
   "source": [
    "engine.table_names()"
   ]
  },
  {
   "cell_type": "code",
   "execution_count": 14,
   "metadata": {},
   "outputs": [
    {
     "ename": "NameError",
     "evalue": "name 'alert' is not defined",
     "output_type": "error",
     "traceback": [
      "\u001b[1;31m---------------------------------------------------------------------------\u001b[0m",
      "\u001b[1;31mNameError\u001b[0m                                 Traceback (most recent call last)",
      "\u001b[1;32m<ipython-input-14-a1b29d520a92>\u001b[0m in \u001b[0;36m<module>\u001b[1;34m\u001b[0m\n\u001b[0;32m      1\u001b[0m \u001b[1;32mif\u001b[0m \u001b[1;34m'product_raw'\u001b[0m \u001b[1;32min\u001b[0m \u001b[1;33m[\u001b[0m\u001b[1;34m'product_raw'\u001b[0m\u001b[1;33m]\u001b[0m\u001b[1;33m:\u001b[0m\u001b[1;33m\u001b[0m\u001b[1;33m\u001b[0m\u001b[0m\n\u001b[1;32m----> 2\u001b[1;33m     \u001b[0malert\u001b[0m\u001b[1;33m(\u001b[0m\u001b[1;34m'table in database'\u001b[0m\u001b[1;33m)\u001b[0m\u001b[1;33m\u001b[0m\u001b[1;33m\u001b[0m\u001b[0m\n\u001b[0m",
      "\u001b[1;31mNameError\u001b[0m: name 'alert' is not defined"
     ]
    }
   ],
   "source": [
    "if 'product_raw' in ['product_raw']:\n",
    "    alert('table in database')"
   ]
  },
  {
   "cell_type": "code",
   "execution_count": null,
   "metadata": {},
   "outputs": [],
   "source": []
  }
 ],
 "metadata": {
  "kernelspec": {
   "display_name": "Python 3",
   "language": "python",
   "name": "python3"
  },
  "language_info": {
   "codemirror_mode": {
    "name": "ipython",
    "version": 3
   },
   "file_extension": ".py",
   "mimetype": "text/x-python",
   "name": "python",
   "nbconvert_exporter": "python",
   "pygments_lexer": "ipython3",
   "version": "3.7.6"
  },
  "toc": {
   "base_numbering": 1,
   "nav_menu": {},
   "number_sections": true,
   "sideBar": true,
   "skip_h1_title": false,
   "title_cell": "Table of Contents",
   "title_sidebar": "Contents",
   "toc_cell": false,
   "toc_position": {},
   "toc_section_display": true,
   "toc_window_display": false
  }
 },
 "nbformat": 4,
 "nbformat_minor": 4
}
