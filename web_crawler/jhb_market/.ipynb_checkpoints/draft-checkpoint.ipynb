{
 "cells": [
  {
   "cell_type": "markdown",
   "metadata": {},
   "source": [
    "**Note:**\n",
    "This data pipeline scrappes raw data from [joburgmarket](http://www.joburgmarket.co.za/dailyprices.php) to an SQL Database.\n"
   ]
  },
  {
   "cell_type": "code",
   "execution_count": 57,
   "metadata": {},
   "outputs": [],
   "source": [
    "import pandas as pd\n",
    "import requests\n",
    "import urllib\n",
    "from scrapy.http import HtmlResponse\n",
    "from sqlalchemy import create_engine, insert\n",
    "\n",
    "\n",
    "# Custom upload with connection string\n",
    "from engine_info import server_info\n",
    "# From tables.py\n",
    "import tables\n",
    "\n",
    "import warnings\n",
    "warnings.filterwarnings('ignore')"
   ]
  },
  {
   "cell_type": "code",
   "execution_count": 58,
   "metadata": {},
   "outputs": [],
   "source": [
    "# Url where the data is going to be scrapped from\n",
    "url = 'http://www.joburgmarket.co.za/dailyprices.php'"
   ]
  },
  {
   "cell_type": "code",
   "execution_count": 59,
   "metadata": {},
   "outputs": [],
   "source": [
    "# Extracting html content of the url\n",
    "html = requests.get(url).content\n",
    "# Creating a response variable to enable web scrapping in the url \n",
    "response = HtmlResponse(url=url, body=html)"
   ]
  },
  {
   "cell_type": "code",
   "execution_count": 60,
   "metadata": {},
   "outputs": [
    {
     "name": "stdout",
     "output_type": "stream",
     "text": [
      "The information in the website is for 20 August 2020.\n"
     ]
    }
   ],
   "source": [
    "# Extracting the date for latest information displayed on the website\n",
    "date = response.xpath('//div[@id=\"right2\"]').css('p b ::text').get()\n",
    "print(f\"The information in the website is for {date}.\")"
   ]
  },
  {
   "cell_type": "code",
   "execution_count": 61,
   "metadata": {},
   "outputs": [],
   "source": [
    "# Creating a connection to MS SQL SERVER\n",
    "params = urllib.parse.quote_plus(server_info)\n",
    "engine = create_engine('mssql+pyodbc:///?odbc_connect=%s' % params)\n",
    "connection = engine.connect()"
   ]
  },
  {
   "cell_type": "code",
   "execution_count": 62,
   "metadata": {},
   "outputs": [
    {
     "data": {
      "text/plain": [
       "['commodity_raw', 'container_raw', 'product_combination_raw', 'scrapping_date']"
      ]
     },
     "execution_count": 62,
     "metadata": {},
     "output_type": "execute_result"
    }
   ],
   "source": [
    "# Check what is in the database\n",
    "engine.table_names()"
   ]
  },
  {
   "cell_type": "markdown",
   "metadata": {},
   "source": [
    "## commodity_raw update"
   ]
  },
  {
   "cell_type": "code",
   "execution_count": 63,
   "metadata": {},
   "outputs": [],
   "source": [
    "# Data scrapped comes in as a list, which must be converted to a Dataframe\n",
    "commodity_df = pd.read_html(url)[0]"
   ]
  },
  {
   "cell_type": "code",
   "execution_count": 64,
   "metadata": {},
   "outputs": [
    {
     "data": {
      "text/html": [
       "<div>\n",
       "<style scoped>\n",
       "    .dataframe tbody tr th:only-of-type {\n",
       "        vertical-align: middle;\n",
       "    }\n",
       "\n",
       "    .dataframe tbody tr th {\n",
       "        vertical-align: top;\n",
       "    }\n",
       "\n",
       "    .dataframe thead th {\n",
       "        text-align: right;\n",
       "    }\n",
       "</style>\n",
       "<table border=\"1\" class=\"dataframe\">\n",
       "  <thead>\n",
       "    <tr style=\"text-align: right;\">\n",
       "      <th></th>\n",
       "      <th>Commodity</th>\n",
       "      <th>Total Value Sold</th>\n",
       "      <th>Total Qty Sold</th>\n",
       "      <th>Total Kg Sold</th>\n",
       "      <th>Qty Available</th>\n",
       "    </tr>\n",
       "  </thead>\n",
       "  <tbody>\n",
       "    <tr>\n",
       "      <th>0</th>\n",
       "      <td>AMADUMBE</td>\n",
       "      <td>R0.00MTD: R39,870.00</td>\n",
       "      <td>0MTD: 97</td>\n",
       "      <td>0MTD: 1,940</td>\n",
       "      <td>2</td>\n",
       "    </tr>\n",
       "    <tr>\n",
       "      <th>1</th>\n",
       "      <td>APPLES</td>\n",
       "      <td>R1,205,932.00MTD: R22,664,221.00</td>\n",
       "      <td>13,799MTD: 261,296</td>\n",
       "      <td>157,462MTD: 3,163,863</td>\n",
       "      <td>91755</td>\n",
       "    </tr>\n",
       "    <tr>\n",
       "      <th>2</th>\n",
       "      <td>ARTICHOKES</td>\n",
       "      <td>R600.00MTD: R53,100.00</td>\n",
       "      <td>4MTD: 439</td>\n",
       "      <td>3MTD: 522</td>\n",
       "      <td>1</td>\n",
       "    </tr>\n",
       "    <tr>\n",
       "      <th>3</th>\n",
       "      <td>ASPARAGUS</td>\n",
       "      <td>R34,000.00MTD: R258,975.00</td>\n",
       "      <td>50MTD: 359</td>\n",
       "      <td>250MTD: 1,795</td>\n",
       "      <td>8</td>\n",
       "    </tr>\n",
       "    <tr>\n",
       "      <th>4</th>\n",
       "      <td>ATCHARA</td>\n",
       "      <td>R0.00MTD: R1,351.20</td>\n",
       "      <td>0MTD: 23</td>\n",
       "      <td>0MTD: 65</td>\n",
       "      <td>207</td>\n",
       "    </tr>\n",
       "  </tbody>\n",
       "</table>\n",
       "</div>"
      ],
      "text/plain": [
       "    Commodity                  Total Value Sold      Total Qty Sold  \\\n",
       "0    AMADUMBE              R0.00MTD: R39,870.00            0MTD: 97   \n",
       "1      APPLES  R1,205,932.00MTD: R22,664,221.00  13,799MTD: 261,296   \n",
       "2  ARTICHOKES            R600.00MTD: R53,100.00           4MTD: 439   \n",
       "3   ASPARAGUS        R34,000.00MTD: R258,975.00          50MTD: 359   \n",
       "4     ATCHARA               R0.00MTD: R1,351.20            0MTD: 23   \n",
       "\n",
       "           Total Kg Sold  Qty Available  \n",
       "0            0MTD: 1,940              2  \n",
       "1  157,462MTD: 3,163,863          91755  \n",
       "2              3MTD: 522              1  \n",
       "3          250MTD: 1,795              8  \n",
       "4               0MTD: 65            207  "
      ]
     },
     "execution_count": 64,
     "metadata": {},
     "output_type": "execute_result"
    }
   ],
   "source": [
    "commodity_df.head()"
   ]
  },
  {
   "cell_type": "code",
   "execution_count": 65,
   "metadata": {},
   "outputs": [],
   "source": [
    "# Attach the date column to the dataframe\n",
    "commodity_df.insert(loc=0, column='Date', value=date)"
   ]
  },
  {
   "cell_type": "code",
   "execution_count": 67,
   "metadata": {},
   "outputs": [
    {
     "data": {
      "text/html": [
       "<div>\n",
       "<style scoped>\n",
       "    .dataframe tbody tr th:only-of-type {\n",
       "        vertical-align: middle;\n",
       "    }\n",
       "\n",
       "    .dataframe tbody tr th {\n",
       "        vertical-align: top;\n",
       "    }\n",
       "\n",
       "    .dataframe thead th {\n",
       "        text-align: right;\n",
       "    }\n",
       "</style>\n",
       "<table border=\"1\" class=\"dataframe\">\n",
       "  <thead>\n",
       "    <tr style=\"text-align: right;\">\n",
       "      <th></th>\n",
       "      <th>Date</th>\n",
       "      <th>Commodity</th>\n",
       "      <th>Total Value Sold</th>\n",
       "      <th>Total Qty Sold</th>\n",
       "      <th>Total Kg Sold</th>\n",
       "      <th>Qty Available</th>\n",
       "    </tr>\n",
       "  </thead>\n",
       "  <tbody>\n",
       "    <tr>\n",
       "      <th>0</th>\n",
       "      <td>20 August 2020</td>\n",
       "      <td>AMADUMBE</td>\n",
       "      <td>R0.00MTD: R39,870.00</td>\n",
       "      <td>0MTD: 97</td>\n",
       "      <td>0MTD: 1,940</td>\n",
       "      <td>2</td>\n",
       "    </tr>\n",
       "    <tr>\n",
       "      <th>1</th>\n",
       "      <td>20 August 2020</td>\n",
       "      <td>APPLES</td>\n",
       "      <td>R1,205,932.00MTD: R22,664,221.00</td>\n",
       "      <td>13,799MTD: 261,296</td>\n",
       "      <td>157,462MTD: 3,163,863</td>\n",
       "      <td>91755</td>\n",
       "    </tr>\n",
       "    <tr>\n",
       "      <th>2</th>\n",
       "      <td>20 August 2020</td>\n",
       "      <td>ARTICHOKES</td>\n",
       "      <td>R600.00MTD: R53,100.00</td>\n",
       "      <td>4MTD: 439</td>\n",
       "      <td>3MTD: 522</td>\n",
       "      <td>1</td>\n",
       "    </tr>\n",
       "    <tr>\n",
       "      <th>3</th>\n",
       "      <td>20 August 2020</td>\n",
       "      <td>ASPARAGUS</td>\n",
       "      <td>R34,000.00MTD: R258,975.00</td>\n",
       "      <td>50MTD: 359</td>\n",
       "      <td>250MTD: 1,795</td>\n",
       "      <td>8</td>\n",
       "    </tr>\n",
       "    <tr>\n",
       "      <th>4</th>\n",
       "      <td>20 August 2020</td>\n",
       "      <td>ATCHARA</td>\n",
       "      <td>R0.00MTD: R1,351.20</td>\n",
       "      <td>0MTD: 23</td>\n",
       "      <td>0MTD: 65</td>\n",
       "      <td>207</td>\n",
       "    </tr>\n",
       "  </tbody>\n",
       "</table>\n",
       "</div>"
      ],
      "text/plain": [
       "             Date   Commodity                  Total Value Sold  \\\n",
       "0  20 August 2020    AMADUMBE              R0.00MTD: R39,870.00   \n",
       "1  20 August 2020      APPLES  R1,205,932.00MTD: R22,664,221.00   \n",
       "2  20 August 2020  ARTICHOKES            R600.00MTD: R53,100.00   \n",
       "3  20 August 2020   ASPARAGUS        R34,000.00MTD: R258,975.00   \n",
       "4  20 August 2020     ATCHARA               R0.00MTD: R1,351.20   \n",
       "\n",
       "       Total Qty Sold          Total Kg Sold  Qty Available  \n",
       "0            0MTD: 97            0MTD: 1,940              2  \n",
       "1  13,799MTD: 261,296  157,462MTD: 3,163,863          91755  \n",
       "2           4MTD: 439              3MTD: 522              1  \n",
       "3          50MTD: 359          250MTD: 1,795              8  \n",
       "4            0MTD: 23               0MTD: 65            207  "
      ]
     },
     "execution_count": 67,
     "metadata": {},
     "output_type": "execute_result"
    }
   ],
   "source": [
    "commodity_df.head()"
   ]
  },
  {
   "cell_type": "code",
   "execution_count": 68,
   "metadata": {},
   "outputs": [],
   "source": [
    "# The commodity_df must be transfered to commodity_raw sql database.\n",
    "# Rename the column names in DataFrame to match column names in SQL table\n",
    "commodity_df.columns = tables.Commodity.__table__.columns.keys()[1:] # Exclude the id column"
   ]
  },
  {
   "cell_type": "code",
   "execution_count": 69,
   "metadata": {},
   "outputs": [
    {
     "data": {
      "text/html": [
       "<div>\n",
       "<style scoped>\n",
       "    .dataframe tbody tr th:only-of-type {\n",
       "        vertical-align: middle;\n",
       "    }\n",
       "\n",
       "    .dataframe tbody tr th {\n",
       "        vertical-align: top;\n",
       "    }\n",
       "\n",
       "    .dataframe thead th {\n",
       "        text-align: right;\n",
       "    }\n",
       "</style>\n",
       "<table border=\"1\" class=\"dataframe\">\n",
       "  <thead>\n",
       "    <tr style=\"text-align: right;\">\n",
       "      <th></th>\n",
       "      <th>date</th>\n",
       "      <th>commodity</th>\n",
       "      <th>total_value_sold</th>\n",
       "      <th>total_qty_sold</th>\n",
       "      <th>total_kg_sold</th>\n",
       "      <th>qty_available</th>\n",
       "    </tr>\n",
       "  </thead>\n",
       "  <tbody>\n",
       "    <tr>\n",
       "      <th>0</th>\n",
       "      <td>20 August 2020</td>\n",
       "      <td>AMADUMBE</td>\n",
       "      <td>R0.00MTD: R39,870.00</td>\n",
       "      <td>0MTD: 97</td>\n",
       "      <td>0MTD: 1,940</td>\n",
       "      <td>2</td>\n",
       "    </tr>\n",
       "    <tr>\n",
       "      <th>1</th>\n",
       "      <td>20 August 2020</td>\n",
       "      <td>APPLES</td>\n",
       "      <td>R1,205,932.00MTD: R22,664,221.00</td>\n",
       "      <td>13,799MTD: 261,296</td>\n",
       "      <td>157,462MTD: 3,163,863</td>\n",
       "      <td>91755</td>\n",
       "    </tr>\n",
       "    <tr>\n",
       "      <th>2</th>\n",
       "      <td>20 August 2020</td>\n",
       "      <td>ARTICHOKES</td>\n",
       "      <td>R600.00MTD: R53,100.00</td>\n",
       "      <td>4MTD: 439</td>\n",
       "      <td>3MTD: 522</td>\n",
       "      <td>1</td>\n",
       "    </tr>\n",
       "    <tr>\n",
       "      <th>3</th>\n",
       "      <td>20 August 2020</td>\n",
       "      <td>ASPARAGUS</td>\n",
       "      <td>R34,000.00MTD: R258,975.00</td>\n",
       "      <td>50MTD: 359</td>\n",
       "      <td>250MTD: 1,795</td>\n",
       "      <td>8</td>\n",
       "    </tr>\n",
       "    <tr>\n",
       "      <th>4</th>\n",
       "      <td>20 August 2020</td>\n",
       "      <td>ATCHARA</td>\n",
       "      <td>R0.00MTD: R1,351.20</td>\n",
       "      <td>0MTD: 23</td>\n",
       "      <td>0MTD: 65</td>\n",
       "      <td>207</td>\n",
       "    </tr>\n",
       "  </tbody>\n",
       "</table>\n",
       "</div>"
      ],
      "text/plain": [
       "             date   commodity                  total_value_sold  \\\n",
       "0  20 August 2020    AMADUMBE              R0.00MTD: R39,870.00   \n",
       "1  20 August 2020      APPLES  R1,205,932.00MTD: R22,664,221.00   \n",
       "2  20 August 2020  ARTICHOKES            R600.00MTD: R53,100.00   \n",
       "3  20 August 2020   ASPARAGUS        R34,000.00MTD: R258,975.00   \n",
       "4  20 August 2020     ATCHARA               R0.00MTD: R1,351.20   \n",
       "\n",
       "       total_qty_sold          total_kg_sold  qty_available  \n",
       "0            0MTD: 97            0MTD: 1,940              2  \n",
       "1  13,799MTD: 261,296  157,462MTD: 3,163,863          91755  \n",
       "2           4MTD: 439              3MTD: 522              1  \n",
       "3          50MTD: 359          250MTD: 1,795              8  \n",
       "4            0MTD: 23               0MTD: 65            207  "
      ]
     },
     "execution_count": 69,
     "metadata": {},
     "output_type": "execute_result"
    }
   ],
   "source": [
    "commodity_df.head()"
   ]
  },
  {
   "cell_type": "code",
   "execution_count": 70,
   "metadata": {},
   "outputs": [],
   "source": [
    "# Transfer dataframe to sql table\n",
    "commodity_df.to_sql('commodity_raw', con=engine, index=False, if_exists='append')"
   ]
  },
  {
   "cell_type": "markdown",
   "metadata": {},
   "source": [
    "## container_raw update"
   ]
  },
  {
   "cell_type": "code",
   "execution_count": 87,
   "metadata": {},
   "outputs": [],
   "source": [
    "# Extract value that links it to the commodity website for a detailed stats\n",
    "commodity_values = response.xpath('//select/option/@value').extract()[1:] # Exclude 'All' option\n",
    "# Extract commodity name\n",
    "commodity_names = response.xpath('//table[@class=\"alltable\"]').css('td.tleft2 ::text').extract()"
   ]
  },
  {
   "cell_type": "code",
   "execution_count": null,
   "metadata": {},
   "outputs": [],
   "source": [
    "for index, (name, value) in enumerate(zip(commodity_names, commodity_values)):\n",
    "    # URL for container information which will update value for each commodity\n",
    "    url_one = f'http://www.joburgmarket.co.za/dailyprices.php?commodity={value}&containerall=1'\n",
    "    \n",
    "    # Initially create a DataFrame \n",
    "    if not index:\n",
    "        \n",
    "        container_df = pd.read_html(url_one)[0]\n",
    "        # Attach the commodity name column to the dataframe\n",
    "        commodity_df.insert(loc=0, column='commodity', value=name)\n",
    "        \n",
    "    else:\n",
    "        \n",
    "        # Create a temporary DataFrame\n",
    "        temp_df = pd.read_html(url_one)[0]\n",
    "        # Attach the commodity name column to the temporary dataframe\n",
    "        temp_df.insert(loc=0, column='commodity', value=name)\n",
    "        # Concatenate temporary DataFrame to the container DataFrame\n",
    "        container_df = pd.concat([container_df, temp_df])\n"
   ]
  },
  {
   "cell_type": "code",
   "execution_count": null,
   "metadata": {},
   "outputs": [],
   "source": [
    "# Attach the date column to the dataframe\n",
    "container_df.insert(loc=0, column='Date', value=date)"
   ]
  },
  {
   "cell_type": "code",
   "execution_count": null,
   "metadata": {},
   "outputs": [],
   "source": []
  },
  {
   "cell_type": "code",
   "execution_count": null,
   "metadata": {},
   "outputs": [],
   "source": []
  },
  {
   "cell_type": "code",
   "execution_count": null,
   "metadata": {},
   "outputs": [],
   "source": []
  },
  {
   "cell_type": "code",
   "execution_count": null,
   "metadata": {},
   "outputs": [],
   "source": []
  },
  {
   "cell_type": "code",
   "execution_count": null,
   "metadata": {},
   "outputs": [],
   "source": []
  },
  {
   "cell_type": "code",
   "execution_count": null,
   "metadata": {},
   "outputs": [],
   "source": []
  },
  {
   "cell_type": "code",
   "execution_count": null,
   "metadata": {},
   "outputs": [],
   "source": []
  },
  {
   "cell_type": "code",
   "execution_count": null,
   "metadata": {},
   "outputs": [],
   "source": []
  },
  {
   "cell_type": "code",
   "execution_count": null,
   "metadata": {},
   "outputs": [],
   "source": []
  },
  {
   "cell_type": "code",
   "execution_count": null,
   "metadata": {},
   "outputs": [],
   "source": []
  },
  {
   "cell_type": "code",
   "execution_count": null,
   "metadata": {},
   "outputs": [],
   "source": [
    "response.css('div#right2 > h1 ::text').extract()"
   ]
  },
  {
   "cell_type": "code",
   "execution_count": null,
   "metadata": {},
   "outputs": [],
   "source": [
    "response.xpath('//div[@id=\"right2\"]/h1//text()').extract()"
   ]
  },
  {
   "cell_type": "code",
   "execution_count": null,
   "metadata": {},
   "outputs": [],
   "source": [
    "response.xpath('//div[@id=\"right2\"]').css('h1 ::text').extract_first()"
   ]
  },
  {
   "cell_type": "code",
   "execution_count": null,
   "metadata": {},
   "outputs": [],
   "source": [
    "response.xpath('//div[@id=\"right2\"]').css('p b ::text').extract_first()"
   ]
  },
  {
   "cell_type": "code",
   "execution_count": null,
   "metadata": {},
   "outputs": [],
   "source": [
    "response.xpath('//div[@id=\"right2\"]/h1//text()').get()"
   ]
  },
  {
   "cell_type": "code",
   "execution_count": null,
   "metadata": {},
   "outputs": [],
   "source": [
    "date = response.xpath('//div[@id=\"right2\"]').css('p b ::text').get()"
   ]
  },
  {
   "cell_type": "code",
   "execution_count": null,
   "metadata": {},
   "outputs": [],
   "source": [
    "#response.css('select option ::text').getall()[1:]"
   ]
  },
  {
   "cell_type": "code",
   "execution_count": 73,
   "metadata": {},
   "outputs": [
    {
     "data": {
      "text/plain": [
       "['', '112', '90', '113', '272']"
      ]
     },
     "execution_count": 73,
     "metadata": {},
     "output_type": "execute_result"
    }
   ],
   "source": [
    "response.xpath('//select/option/@value').extract()[1:5]"
   ]
  },
  {
   "cell_type": "code",
   "execution_count": null,
   "metadata": {},
   "outputs": [],
   "source": [
    "sample"
   ]
  },
  {
   "cell_type": "code",
   "execution_count": null,
   "metadata": {},
   "outputs": [],
   "source": [
    "for item in sample:\n",
    "    print(re.findall(r'\\d+', item)[0])"
   ]
  },
  {
   "cell_type": "code",
   "execution_count": null,
   "metadata": {},
   "outputs": [],
   "source": [
    "#link?commodity={}"
   ]
  },
  {
   "cell_type": "code",
   "execution_count": null,
   "metadata": {},
   "outputs": [],
   "source": [
    "col_headings = [\n",
    "    'Date',\n",
    "    'Commodity',\n",
    "    'Total Value Sold',\n",
    "    'Total Value Sold MTD',\n",
    "    'Total Qty Sold',\n",
    "    'Total Qty Sold MTD',\n",
    "    'Total Kg Sold',\n",
    "    'Total Kg Sold MTD',\n",
    "    'Qty Available'\n",
    "]"
   ]
  },
  {
   "cell_type": "code",
   "execution_count": 75,
   "metadata": {},
   "outputs": [
    {
     "data": {
      "text/plain": [
       "['AMADUMBE', 'APPLES', 'ARTICHOKES', 'ASPARAGUS', 'ATCHARA']"
      ]
     },
     "execution_count": 75,
     "metadata": {},
     "output_type": "execute_result"
    }
   ],
   "source": [
    "response.xpath('//table[@class=\"alltable\"]').css('td.tleft2 ::text').extract()[:5]"
   ]
  },
  {
   "cell_type": "code",
   "execution_count": null,
   "metadata": {},
   "outputs": [],
   "source": [
    "product[:5]"
   ]
  },
  {
   "cell_type": "code",
   "execution_count": null,
   "metadata": {},
   "outputs": [],
   "source": [
    "purchases = []\n",
    "for i, fresh_produce in enumerate(product):\n",
    "    row = response.xpath('//table[@class=\"alltable\"]').css('td.tleft ::text').extract()[(i * 7):(i * 7) + 7]\n",
    "    modified_list = [] \n",
    "    for index, item in enumerate(row):\n",
    "        item = item.replace(\",\", \"\").replace(\"R\", \"\").replace(\"MTD:\", \"\") # i.e. converted e.g. R 1,234.56 --> 1234.56\n",
    "        item = item.lstrip()\n",
    "        modified_list.append(float(item))\n",
    "    purchases.append([date] + [fresh_produce] + modified_list)"
   ]
  },
  {
   "cell_type": "code",
   "execution_count": null,
   "metadata": {
    "scrolled": true
   },
   "outputs": [],
   "source": [
    "purchases[0]"
   ]
  },
  {
   "cell_type": "code",
   "execution_count": null,
   "metadata": {},
   "outputs": [],
   "source": [
    "df = pd.DataFrame(data=purchases, columns=col_headings)"
   ]
  },
  {
   "cell_type": "code",
   "execution_count": null,
   "metadata": {},
   "outputs": [],
   "source": [
    "df.head()"
   ]
  },
  {
   "cell_type": "code",
   "execution_count": null,
   "metadata": {},
   "outputs": [],
   "source": []
  },
  {
   "cell_type": "code",
   "execution_count": null,
   "metadata": {},
   "outputs": [],
   "source": [
    "import urllib"
   ]
  },
  {
   "cell_type": "code",
   "execution_count": null,
   "metadata": {},
   "outputs": [],
   "source": [
    "#engine = create_engine('mssql+pyodbc://LAPTOP-7FR129DV/SQLEXPRESS/jhb_market/?driver=SQL Server?Trusted_Connection=yes')\n"
   ]
  },
  {
   "cell_type": "code",
   "execution_count": null,
   "metadata": {},
   "outputs": [],
   "source": [
    "engine.table_names()"
   ]
  },
  {
   "cell_type": "code",
   "execution_count": null,
   "metadata": {},
   "outputs": [],
   "source": [
    "if 'product_raw' in ['product_raw']:\n",
    "    alert('table in database')"
   ]
  },
  {
   "cell_type": "code",
   "execution_count": null,
   "metadata": {},
   "outputs": [],
   "source": []
  }
 ],
 "metadata": {
  "kernelspec": {
   "display_name": "Python 3",
   "language": "python",
   "name": "python3"
  },
  "language_info": {
   "codemirror_mode": {
    "name": "ipython",
    "version": 3
   },
   "file_extension": ".py",
   "mimetype": "text/x-python",
   "name": "python",
   "nbconvert_exporter": "python",
   "pygments_lexer": "ipython3",
   "version": "3.7.6"
  },
  "toc": {
   "base_numbering": 1,
   "nav_menu": {},
   "number_sections": true,
   "sideBar": true,
   "skip_h1_title": false,
   "title_cell": "Table of Contents",
   "title_sidebar": "Contents",
   "toc_cell": false,
   "toc_position": {},
   "toc_section_display": true,
   "toc_window_display": false
  }
 },
 "nbformat": 4,
 "nbformat_minor": 4
}
