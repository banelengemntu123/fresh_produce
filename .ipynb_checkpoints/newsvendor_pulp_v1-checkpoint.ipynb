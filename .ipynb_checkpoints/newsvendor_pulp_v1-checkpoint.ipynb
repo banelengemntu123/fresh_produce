{
 "cells": [
  {
   "cell_type": "markdown",
   "metadata": {
    "colab_type": "text",
    "id": "view-in-github"
   },
   "source": [
    "<a href=\"https://colab.research.google.com/github/scmosoeu/fresh_produce/blob/master/newsvendor_pulp_v1.ipynb\" target=\"_parent\"><img src=\"https://colab.research.google.com/assets/colab-badge.svg\" alt=\"Open In Colab\"/></a>"
   ]
  },
  {
   "cell_type": "markdown",
   "metadata": {
    "id": "tNMtFtNFWVaK"
   },
   "source": [
    "### 1) GET LIBRARY"
   ]
  },
  {
   "cell_type": "code",
   "execution_count": 408,
   "metadata": {
    "id": "Ji4n0sxtWVaP"
   },
   "outputs": [],
   "source": [
    "import numpy as np\n",
    "import random\n",
    "import matplotlib.pyplot as plt\n",
    "import seaborn as sns\n",
    "from sklearn.model_selection import train_test_split\n",
    "from sklearn.ensemble import RandomForestRegressor\n",
    "from sklearn.linear_model import LinearRegression\n",
    "import pandas as pd"
   ]
  },
  {
   "cell_type": "markdown",
   "metadata": {
    "id": "DnuJUOOVWVa0"
   },
   "source": [
    "### 2) GENERATE DATA"
   ]
  },
  {
   "cell_type": "code",
   "execution_count": 409,
   "metadata": {
    "id": "PavoCVAOWVa3"
   },
   "outputs": [],
   "source": [
    "np.random.seed(123)"
   ]
  },
  {
   "cell_type": "code",
   "execution_count": 410,
   "metadata": {
    "id": "sjUWUr7EWVbA"
   },
   "outputs": [],
   "source": [
    "def generate_toy_data(n, lam, a, b):\n",
    "    '''Generate random number from poisson distribution.\n",
    "    Input:\n",
    "    n = number of data points to generate\n",
    "    lam = lambda of the poisson distribution\n",
    "    a, b = any positive coefficient (since we want to simulate demand) \n",
    "    \n",
    "    Output:\n",
    "    x = independent variable\n",
    "    y = demand for toy data that results from a*x + b, with x ~ poisson(lam)\n",
    "    '''\n",
    "    x = np.random.poisson(lam, n)\n",
    "    x = x.reshape((-1,1))\n",
    "    \n",
    "    y = a*x + b\n",
    "    y = y.reshape((-1,1))\n",
    "    y = y.astype(int)\n",
    "    \n",
    "    return x, y"
   ]
  },
  {
   "cell_type": "code",
   "execution_count": 446,
   "metadata": {
    "colab": {
     "base_uri": "https://localhost:8080/",
     "height": 317
    },
    "id": "TRMyeZSjWVbI",
    "outputId": "e12ff4d5-ef32-4b3d-a88f-6855c360c3dc"
   },
   "outputs": [
    {
     "name": "stderr",
     "output_type": "stream",
     "text": [
      "/usr/local/lib/python3.6/dist-packages/seaborn/distributions.py:2551: FutureWarning: `distplot` is a deprecated function and will be removed in a future version. Please adapt your code to use either `displot` (a figure-level function with similar flexibility) or `histplot` (an axes-level function for histograms).\n",
      "  warnings.warn(msg, FutureWarning)\n"
     ]
    },
    {
     "data": {
      "image/png": "[encoded data removed]",
      "text/plain": [
       "<Figure size 432x288 with 1 Axes>"
      ]
     },
     "metadata": {
      "needs_background": "light",
      "tags": []
     },
     "output_type": "display_data"
    }
   ],
   "source": [
    "# generate toy data\n",
    "low_demand=0.25\n",
    "medium_demand=0.50\n",
    "high_demand=0.75\n",
    "x, y = generate_toy_data(1000, 100, low_demand,2)\n",
    "\n",
    "# visualize toy data\n",
    "plt.figure()\n",
    "sns.distplot(y)\n",
    "plt.show()"
   ]
  },
  {
   "cell_type": "code",
   "execution_count": 447,
   "metadata": {
    "colab": {
     "base_uri": "https://localhost:8080/",
     "height": 265
    },
    "id": "PRkBzhNnWVbN",
    "outputId": "97204b4f-9280-4624-fbe0-b601de49d38b"
   },
   "outputs": [
    {
     "data": {
      "image/png": "[encoded data removed]",
      "text/plain": [
       "<Figure size 432x288 with 1 Axes>"
      ]
     },
     "metadata": {
      "needs_background": "light",
      "tags": []
     },
     "output_type": "display_data"
    }
   ],
   "source": [
    "plt.figure()\n",
    "plt.scatter(x, y)\n",
    "plt.show()"
   ]
  },
  {
   "cell_type": "markdown",
   "metadata": {
    "id": "74NZvs6HWVbR"
   },
   "source": [
    "### 3) IMPLEMENT SIMPLE PREDICTION"
   ]
  },
  {
   "cell_type": "code",
   "execution_count": 413,
   "metadata": {
    "id": "gnVWwvRWWVbS"
   },
   "outputs": [],
   "source": [
    "# split data to training and testing set\n",
    "train_x, test_x, train_y, test_y = train_test_split(x, y, test_size=0.2)"
   ]
  },
  {
   "cell_type": "code",
   "execution_count": 414,
   "metadata": {
    "id": "RCLNtn4kWVbW"
   },
   "outputs": [],
   "source": [
    "df_train = pd.DataFrame({'train_x': train_x.flatten(), 'train_y': train_y.flatten()})\n",
    "df_test = pd.DataFrame({'test_x': test_x.flatten(), 'test_y': test_y.flatten()})"
   ]
  },
  {
   "cell_type": "markdown",
   "metadata": {
    "id": "0R1ZyaYRWVbb"
   },
   "source": [
    "#### a) RANDOM FOREST"
   ]
  },
  {
   "cell_type": "code",
   "execution_count": 415,
   "metadata": {
    "colab": {
     "base_uri": "https://localhost:8080/",
     "height": 183
    },
    "id": "yL6wXPrtWVbc",
    "outputId": "9ae5d5ee-e986-4f2b-f721-b8c77a8ebb95"
   },
   "outputs": [
    {
     "name": "stderr",
     "output_type": "stream",
     "text": [
      "/usr/local/lib/python3.6/dist-packages/ipykernel_launcher.py:2: DataConversionWarning: A column-vector y was passed when a 1d array was expected. Please change the shape of y to (n_samples,), for example using ravel().\n",
      "  \n"
     ]
    },
    {
     "data": {
      "text/plain": [
       "RandomForestRegressor(bootstrap=True, ccp_alpha=0.0, criterion='mse',\n",
       "                      max_depth=None, max_features='auto', max_leaf_nodes=None,\n",
       "                      max_samples=None, min_impurity_decrease=0.0,\n",
       "                      min_impurity_split=None, min_samples_leaf=1,\n",
       "                      min_samples_split=2, min_weight_fraction_leaf=0.0,\n",
       "                      n_estimators=1000, n_jobs=None, oob_score=False,\n",
       "                      random_state=42, verbose=0, warm_start=False)"
      ]
     },
     "execution_count": 415,
     "metadata": {
      "tags": []
     },
     "output_type": "execute_result"
    }
   ],
   "source": [
    "rf = RandomForestRegressor(n_estimators = 1000, random_state = 42)\n",
    "rf.fit(train_x, train_y)"
   ]
  },
  {
   "cell_type": "code",
   "execution_count": 416,
   "metadata": {
    "colab": {
     "base_uri": "https://localhost:8080/",
     "height": 33
    },
    "id": "9tV1XQ8zWVbh",
    "outputId": "17945b21-d28d-4e1e-914a-8cdfc5964910"
   },
   "outputs": [
    {
     "name": "stdout",
     "output_type": "stream",
     "text": [
      "Mean Absolute Error: 8.64 degrees.\n"
     ]
    }
   ],
   "source": [
    "test_y_rfpred = (rf.predict(test_x)).astype(int)\n",
    "err_rf = abs(test_y_rfpred - test_y)\n",
    "print('Mean Absolute Error:', round(np.mean(err_rf), 2), 'degrees.')"
   ]
  },
  {
   "cell_type": "markdown",
   "metadata": {
    "id": "J-zXid7zWVbl"
   },
   "source": [
    "#### b) LINEAR REGRESSION"
   ]
  },
  {
   "cell_type": "code",
   "execution_count": 417,
   "metadata": {
    "colab": {
     "base_uri": "https://localhost:8080/",
     "height": 33
    },
    "id": "Q6JdjYLjWVbm",
    "outputId": "415b7d1c-c782-4e7f-aebb-d0b0392db4e3"
   },
   "outputs": [
    {
     "data": {
      "text/plain": [
       "LinearRegression(copy_X=True, fit_intercept=True, n_jobs=None, normalize=False)"
      ]
     },
     "execution_count": 417,
     "metadata": {
      "tags": []
     },
     "output_type": "execute_result"
    }
   ],
   "source": [
    "lr = LinearRegression()\n",
    "lr.fit(train_x, train_y)"
   ]
  },
  {
   "cell_type": "code",
   "execution_count": 418,
   "metadata": {
    "colab": {
     "base_uri": "https://localhost:8080/",
     "height": 33
    },
    "id": "sLpDA3m8WVbp",
    "outputId": "48983941-abc1-410b-bd7c-27a816cca2e3"
   },
   "outputs": [
    {
     "name": "stdout",
     "output_type": "stream",
     "text": [
      "Mean Absolute Error: 8.64 degrees.\n"
     ]
    }
   ],
   "source": [
    "test_y_lrpred = (rf.predict(test_x)).astype(int)\n",
    "err_lr = abs(test_y_lrpred - test_y)\n",
    "print('Mean Absolute Error:', round(np.mean(err_lr), 2), 'degrees.')"
   ]
  },
  {
   "cell_type": "code",
   "execution_count": 419,
   "metadata": {
    "colab": {
     "base_uri": "https://localhost:8080/",
     "height": 50
    },
    "id": "xxzhfsMRWVbt",
    "outputId": "45052e63-95e1-45f4-9a67-abcc1152ad84"
   },
   "outputs": [
    {
     "name": "stdout",
     "output_type": "stream",
     "text": [
      "[[0.74895191]]\n",
      "[1.72640408]\n"
     ]
    }
   ],
   "source": [
    "# check coefficient\n",
    "print(lr.coef_)\n",
    "print(lr.intercept_)"
   ]
  },
  {
   "cell_type": "markdown",
   "metadata": {
    "id": "fxvDYo-8WVbx"
   },
   "source": [
    "#### c) SUMMARIZE RESULT & CHECK GRAPH (RANDOM FOREST & LINREG)"
   ]
  },
  {
   "cell_type": "code",
   "execution_count": 420,
   "metadata": {
    "colab": {
     "base_uri": "https://localhost:8080/",
     "height": 622
    },
    "id": "tvvHAnWtWVbx",
    "outputId": "ebec1b58-6fa9-4a47-86f1-341aa486b39f"
   },
   "outputs": [
    {
     "data": {
      "text/html": [
       "<div>\n",
       "<style scoped>\n",
       "    .dataframe tbody tr th:only-of-type {\n",
       "        vertical-align: middle;\n",
       "    }\n",
       "\n",
       "    .dataframe tbody tr th {\n",
       "        vertical-align: top;\n",
       "    }\n",
       "\n",
       "    .dataframe thead th {\n",
       "        text-align: right;\n",
       "    }\n",
       "</style>\n",
       "<table border=\"1\" class=\"dataframe\">\n",
       "  <thead>\n",
       "    <tr style=\"text-align: right;\">\n",
       "      <th></th>\n",
       "      <th>test_x</th>\n",
       "      <th>test_y</th>\n",
       "      <th>test_y_rfpred</th>\n",
       "      <th>test_y_lrpred</th>\n",
       "      <th>diff_rf_actual</th>\n",
       "      <th>diff_lr_actual</th>\n",
       "    </tr>\n",
       "  </thead>\n",
       "  <tbody>\n",
       "    <tr>\n",
       "      <th>12</th>\n",
       "      <td>127</td>\n",
       "      <td>97</td>\n",
       "      <td>95</td>\n",
       "      <td>95</td>\n",
       "      <td>-2</td>\n",
       "      <td>-2</td>\n",
       "    </tr>\n",
       "    <tr>\n",
       "      <th>13</th>\n",
       "      <td>114</td>\n",
       "      <td>87</td>\n",
       "      <td>86</td>\n",
       "      <td>86</td>\n",
       "      <td>-1</td>\n",
       "      <td>-1</td>\n",
       "    </tr>\n",
       "    <tr>\n",
       "      <th>15</th>\n",
       "      <td>114</td>\n",
       "      <td>87</td>\n",
       "      <td>86</td>\n",
       "      <td>86</td>\n",
       "      <td>-1</td>\n",
       "      <td>-1</td>\n",
       "    </tr>\n",
       "    <tr>\n",
       "      <th>25</th>\n",
       "      <td>124</td>\n",
       "      <td>95</td>\n",
       "      <td>94</td>\n",
       "      <td>94</td>\n",
       "      <td>-1</td>\n",
       "      <td>-1</td>\n",
       "    </tr>\n",
       "    <tr>\n",
       "      <th>26</th>\n",
       "      <td>129</td>\n",
       "      <td>98</td>\n",
       "      <td>96</td>\n",
       "      <td>96</td>\n",
       "      <td>-2</td>\n",
       "      <td>-2</td>\n",
       "    </tr>\n",
       "    <tr>\n",
       "      <th>27</th>\n",
       "      <td>129</td>\n",
       "      <td>98</td>\n",
       "      <td>96</td>\n",
       "      <td>96</td>\n",
       "      <td>-2</td>\n",
       "      <td>-2</td>\n",
       "    </tr>\n",
       "    <tr>\n",
       "      <th>33</th>\n",
       "      <td>116</td>\n",
       "      <td>89</td>\n",
       "      <td>88</td>\n",
       "      <td>88</td>\n",
       "      <td>-1</td>\n",
       "      <td>-1</td>\n",
       "    </tr>\n",
       "    <tr>\n",
       "      <th>35</th>\n",
       "      <td>86</td>\n",
       "      <td>66</td>\n",
       "      <td>65</td>\n",
       "      <td>65</td>\n",
       "      <td>-1</td>\n",
       "      <td>-1</td>\n",
       "    </tr>\n",
       "    <tr>\n",
       "      <th>37</th>\n",
       "      <td>123</td>\n",
       "      <td>94</td>\n",
       "      <td>93</td>\n",
       "      <td>93</td>\n",
       "      <td>-1</td>\n",
       "      <td>-1</td>\n",
       "    </tr>\n",
       "    <tr>\n",
       "      <th>64</th>\n",
       "      <td>70</td>\n",
       "      <td>54</td>\n",
       "      <td>55</td>\n",
       "      <td>55</td>\n",
       "      <td>1</td>\n",
       "      <td>1</td>\n",
       "    </tr>\n",
       "    <tr>\n",
       "      <th>79</th>\n",
       "      <td>118</td>\n",
       "      <td>90</td>\n",
       "      <td>89</td>\n",
       "      <td>89</td>\n",
       "      <td>-1</td>\n",
       "      <td>-1</td>\n",
       "    </tr>\n",
       "    <tr>\n",
       "      <th>81</th>\n",
       "      <td>114</td>\n",
       "      <td>87</td>\n",
       "      <td>86</td>\n",
       "      <td>86</td>\n",
       "      <td>-1</td>\n",
       "      <td>-1</td>\n",
       "    </tr>\n",
       "    <tr>\n",
       "      <th>88</th>\n",
       "      <td>118</td>\n",
       "      <td>90</td>\n",
       "      <td>89</td>\n",
       "      <td>89</td>\n",
       "      <td>-1</td>\n",
       "      <td>-1</td>\n",
       "    </tr>\n",
       "    <tr>\n",
       "      <th>104</th>\n",
       "      <td>120</td>\n",
       "      <td>92</td>\n",
       "      <td>91</td>\n",
       "      <td>91</td>\n",
       "      <td>-1</td>\n",
       "      <td>-1</td>\n",
       "    </tr>\n",
       "    <tr>\n",
       "      <th>115</th>\n",
       "      <td>82</td>\n",
       "      <td>63</td>\n",
       "      <td>62</td>\n",
       "      <td>62</td>\n",
       "      <td>-1</td>\n",
       "      <td>-1</td>\n",
       "    </tr>\n",
       "    <tr>\n",
       "      <th>135</th>\n",
       "      <td>123</td>\n",
       "      <td>94</td>\n",
       "      <td>93</td>\n",
       "      <td>93</td>\n",
       "      <td>-1</td>\n",
       "      <td>-1</td>\n",
       "    </tr>\n",
       "    <tr>\n",
       "      <th>144</th>\n",
       "      <td>118</td>\n",
       "      <td>90</td>\n",
       "      <td>89</td>\n",
       "      <td>89</td>\n",
       "      <td>-1</td>\n",
       "      <td>-1</td>\n",
       "    </tr>\n",
       "    <tr>\n",
       "      <th>171</th>\n",
       "      <td>114</td>\n",
       "      <td>87</td>\n",
       "      <td>86</td>\n",
       "      <td>86</td>\n",
       "      <td>-1</td>\n",
       "      <td>-1</td>\n",
       "    </tr>\n",
       "    <tr>\n",
       "      <th>173</th>\n",
       "      <td>86</td>\n",
       "      <td>66</td>\n",
       "      <td>65</td>\n",
       "      <td>65</td>\n",
       "      <td>-1</td>\n",
       "      <td>-1</td>\n",
       "    </tr>\n",
       "    <tr>\n",
       "      <th>197</th>\n",
       "      <td>116</td>\n",
       "      <td>89</td>\n",
       "      <td>88</td>\n",
       "      <td>88</td>\n",
       "      <td>-1</td>\n",
       "      <td>-1</td>\n",
       "    </tr>\n",
       "  </tbody>\n",
       "</table>\n",
       "</div>"
      ],
      "text/plain": [
       "     test_x  test_y  ...  diff_rf_actual  diff_lr_actual\n",
       "12      127      97  ...              -2              -2\n",
       "13      114      87  ...              -1              -1\n",
       "15      114      87  ...              -1              -1\n",
       "25      124      95  ...              -1              -1\n",
       "26      129      98  ...              -2              -2\n",
       "27      129      98  ...              -2              -2\n",
       "33      116      89  ...              -1              -1\n",
       "35       86      66  ...              -1              -1\n",
       "37      123      94  ...              -1              -1\n",
       "64       70      54  ...               1               1\n",
       "79      118      90  ...              -1              -1\n",
       "81      114      87  ...              -1              -1\n",
       "88      118      90  ...              -1              -1\n",
       "104     120      92  ...              -1              -1\n",
       "115      82      63  ...              -1              -1\n",
       "135     123      94  ...              -1              -1\n",
       "144     118      90  ...              -1              -1\n",
       "171     114      87  ...              -1              -1\n",
       "173      86      66  ...              -1              -1\n",
       "197     116      89  ...              -1              -1\n",
       "\n",
       "[20 rows x 6 columns]"
      ]
     },
     "execution_count": 420,
     "metadata": {
      "tags": []
     },
     "output_type": "execute_result"
    }
   ],
   "source": [
    "df_summ = pd.DataFrame({'test_x': test_x.flatten(),\n",
    "                        'test_y': test_y.flatten(), \n",
    "                        'test_y_rfpred': test_y_rfpred.flatten(), \n",
    "                        'test_y_lrpred': test_y_lrpred.flatten()})\n",
    "df_summ['diff_rf_actual'] = df_summ['test_y_rfpred'] - df_summ['test_y']\n",
    "df_summ['diff_lr_actual'] = df_summ['test_y_lrpred'] - df_summ['test_y']\n",
    "\n",
    "# toy data is simple, hence prediction is rather powerful as we only have few missed prediction\n",
    "# even so, in this kind of cases:\n",
    "# --> we will lose potential profit if prediction < demand\n",
    "# --> we will incur unnecessary cost if prediction > demand as we cannot sell the remaining goods at selling price \n",
    "df_summ[(df_summ['diff_rf_actual'] != 0) | (df_summ['diff_lr_actual'] != 0)] "
   ]
  },
  {
   "cell_type": "code",
   "execution_count": 421,
   "metadata": {
    "colab": {
     "base_uri": "https://localhost:8080/",
     "height": 398
    },
    "id": "PqCzrdDvWVb1",
    "outputId": "cf4e26bd-d7bf-4c31-a9ac-31cf1d1c6a24"
   },
   "outputs": [
    {
     "name": "stderr",
     "output_type": "stream",
     "text": [
      "/usr/local/lib/python3.6/dist-packages/seaborn/distributions.py:2551: FutureWarning: `distplot` is a deprecated function and will be removed in a future version. Please adapt your code to use either `displot` (a figure-level function with similar flexibility) or `histplot` (an axes-level function for histograms).\n",
      "  warnings.warn(msg, FutureWarning)\n",
      "/usr/local/lib/python3.6/dist-packages/seaborn/distributions.py:2551: FutureWarning: `distplot` is a deprecated function and will be removed in a future version. Please adapt your code to use either `displot` (a figure-level function with similar flexibility) or `histplot` (an axes-level function for histograms).\n",
      "  warnings.warn(msg, FutureWarning)\n",
      "/usr/local/lib/python3.6/dist-packages/seaborn/distributions.py:2551: FutureWarning: `distplot` is a deprecated function and will be removed in a future version. Please adapt your code to use either `displot` (a figure-level function with similar flexibility) or `histplot` (an axes-level function for histograms).\n",
      "  warnings.warn(msg, FutureWarning)\n"
     ]
    },
    {
     "data": {
      "text/plain": [
       "<Figure size 432x288 with 0 Axes>"
      ]
     },
     "metadata": {
      "tags": []
     },
     "output_type": "display_data"
    },
    {
     "data": {
      "image/png": "[encoded data removed]",
      "text/plain": [
       "<Figure size 432x288 with 1 Axes>"
      ]
     },
     "metadata": {
      "needs_background": "light",
      "tags": []
     },
     "output_type": "display_data"
    }
   ],
   "source": [
    "plt.figure()\n",
    "\n",
    "components = [test_y, test_y_rfpred, test_y_lrpred]\n",
    "labels=['test_y', 'test_y_rfpred', 'test_y_lrpred']\n",
    "\n",
    "fig, axes = plt.subplots(1)\n",
    "for component in components:\n",
    "    sns.distplot(component)\n",
    "\n",
    "axes.legend(labels=labels)    \n",
    "plt.show()"
   ]
  },
  {
   "cell_type": "markdown",
   "metadata": {
    "id": "0O66xlDPWVb5"
   },
   "source": [
    "### 4) STOCHASTIC PROGRAMMING\n",
    "#### a) DISCRETIZING DEMAND: TO CAPTURE PROBABILITY OF EACH POSSIBLE SCENARIO"
   ]
  },
  {
   "cell_type": "code",
   "execution_count": 422,
   "metadata": {
    "id": "RV1j02AGWVb5"
   },
   "outputs": [],
   "source": [
    "# capturing probability of each possible scenario can be done in many ways, \n",
    "# ranging from simple descriptive analytics to more complicated things like\n",
    "# moment matching, monte carlo simulation, etc.\n",
    "# we do the easiest here: do clustering to generate scenario (max 100 scenario for now)\n",
    "\n",
    "from sklearn.cluster import KMeans"
   ]
  },
  {
   "cell_type": "code",
   "execution_count": 423,
   "metadata": {
    "id": "6teFDCaWWVb9"
   },
   "outputs": [],
   "source": [
    "def cluster_1d(df, max_cluster=100):\n",
    "    '''Cluster data into n different cluster where n is the minimum between unique scenario and max_cluster.\n",
    "    Input:\n",
    "    df = dataframe column containing scenario to cluster\n",
    "    max_cluster = number of maximum cluster we want to have (default=100)\n",
    "    \n",
    "    Output:\n",
    "    cluster_centers_df = mapping between cluster labels and its centers\n",
    "    cluster_labels_df = mapping between df and its cluster labels   \n",
    "    '''\n",
    "    km = KMeans(n_clusters=min(len(df.unique()),max_cluster))\n",
    "    km.fit(df.values.reshape(-1,1)) \n",
    "    \n",
    "    # get information about center\n",
    "    cluster_centers_df = pd.DataFrame(np.array(km.cluster_centers_.reshape(1,-1)[0].tolist()))\n",
    "    cluster_centers_df.columns = ['cluster_centers']\n",
    "    cluster_centers_df['labels'] = range(len(cluster_centers_df))\n",
    "    \n",
    "    # get information about labels and add information about center\n",
    "    cluster_labels_df = pd.DataFrame(np.array(km.labels_))\n",
    "    cluster_labels_df.columns = ['labels']\n",
    "    cluster_labels_df = pd.concat([df.reset_index(drop=True), cluster_labels_df], axis=1)\n",
    "    cluster_labels_df = pd.merge(cluster_labels_df, cluster_centers_df, on='labels', how='left')\n",
    "    \n",
    "    return cluster_centers_df, cluster_labels_df"
   ]
  },
  {
   "cell_type": "code",
   "execution_count": 424,
   "metadata": {
    "id": "Sp28m2xBWVcA"
   },
   "outputs": [],
   "source": [
    "def cluster_summ(df):\n",
    "    '''Summarize probability for each scenario by referring to result from cluster_1d.\n",
    "    Input:\n",
    "    df = dataframe column containing scenario to cluster\n",
    "    \n",
    "    Output:\n",
    "    cluster_proportion_df = dataframe containing complete information about probability for each scenario\n",
    "    demand = possible scenario to happen\n",
    "    weight = probability of the possible scenario to happen\n",
    "    scenarios = indexing for demand\n",
    "    '''\n",
    "    cluster_centers_df, cluster_labels_df = cluster_1d(df)\n",
    "\n",
    "    count_label = cluster_labels_df[['labels']].count().values[0]\n",
    "    cluster_proportion_df = cluster_labels_df[['cluster_centers', 'labels']].groupby('cluster_centers').count().reset_index(drop=False)\n",
    "    cluster_proportion_df['count_labels'] = count_label\n",
    "    cluster_proportion_df['proportion_labels'] = cluster_proportion_df['labels'] / cluster_proportion_df['count_labels']\n",
    "    cluster_proportion_df['index'] = range(1,cluster_proportion_df.shape[0] + 1)\n",
    "    cluster_proportion_df['cluster_centers'] = np.round(cluster_proportion_df['cluster_centers'], decimals=(3))\n",
    "    \n",
    "    demand = pd.Series(cluster_proportion_df['cluster_centers'].values, index=cluster_proportion_df['index'].values).to_dict()\n",
    "    weight = pd.Series(cluster_proportion_df['proportion_labels'].values, index=cluster_proportion_df['index'].values).to_dict()\n",
    "    scenarios = range(1,len(cluster_proportion_df.cluster_centers.values)+1)\n",
    "    \n",
    "    return cluster_proportion_df, demand, weight, scenarios"
   ]
  },
  {
   "cell_type": "code",
   "execution_count": 425,
   "metadata": {
    "colab": {
     "base_uri": "https://localhost:8080/",
     "height": 86
    },
    "id": "L13kfGoUWVcE",
    "outputId": "8e0dfce8-1a7e-4ca4-b58f-95269a4ada69"
   },
   "outputs": [
    {
     "name": "stdout",
     "output_type": "stream",
     "text": [
      "{1: 52.0, 2: 56.0, 3: 58.0, 4: 59.0, 5: 60.0, 6: 61.0, 7: 62.0, 8: 63.0, 9: 64.0, 10: 65.0, 11: 66.0, 12: 67.0, 13: 68.0, 14: 69.0, 15: 70.0, 16: 71.0, 17: 72.0, 18: 73.0, 19: 74.0, 20: 75.0, 21: 76.0, 22: 77.0, 23: 78.0, 24: 79.0, 25: 80.0, 26: 81.0, 27: 82.0, 28: 83.0, 29: 84.0, 30: 85.0, 31: 86.0, 32: 87.0, 33: 88.0, 34: 89.0, 35: 90.0, 36: 91.0, 37: 92.0, 38: 93.0, 39: 94.0, 40: 95.0, 41: 96.0, 42: 101.0, 43: 110.0}\n",
      "{1: 0.00125, 2: 0.00125, 3: 0.0025, 4: 0.00375, 5: 0.00625, 6: 0.00125, 7: 0.00875, 8: 0.00625, 9: 0.0125, 10: 0.03, 11: 0.00875, 12: 0.01875, 13: 0.03875, 14: 0.02375, 15: 0.035, 16: 0.0775, 17: 0.02875, 18: 0.04875, 19: 0.07625, 20: 0.03875, 21: 0.04375, 22: 0.065, 23: 0.04, 24: 0.04125, 25: 0.0725, 26: 0.02875, 27: 0.03125, 28: 0.04625, 29: 0.02125, 30: 0.02375, 31: 0.0325, 32: 0.0075, 33: 0.01375, 34: 0.0175, 35: 0.00625, 36: 0.01, 37: 0.01625, 38: 0.005, 39: 0.00375, 40: 0.00125, 41: 0.00125, 42: 0.00125, 43: 0.00125}\n",
      "range(1, 44)\n"
     ]
    }
   ],
   "source": [
    "cluster_proportion_df, demand, weight, scenarios = cluster_summ(df=df_train['train_y'])\n",
    "\n",
    "print(demand)\n",
    "print(weight)\n",
    "print(scenarios)"
   ]
  },
  {
   "cell_type": "markdown",
   "metadata": {
    "id": "uvx0Jt_GWVcJ"
   },
   "source": [
    "#### b) USING PULP TO SOLVE STOCHASTIC PROGRAMMING"
   ]
  },
  {
   "cell_type": "code",
   "execution_count": 426,
   "metadata": {
    "colab": {
     "base_uri": "https://localhost:8080/",
     "height": 82
    },
    "id": "4gv1Dfk7ms_f",
    "outputId": "bcebb471-306c-4657-9eee-e4507648ab57"
   },
   "outputs": [
    {
     "name": "stdout",
     "output_type": "stream",
     "text": [
      "Requirement already satisfied: pulp in /usr/local/lib/python3.6/dist-packages (2.3)\n",
      "Requirement already satisfied: amply>=0.1.2 in /usr/local/lib/python3.6/dist-packages (from pulp) (0.1.2)\n",
      "Requirement already satisfied: pyparsing in /usr/local/lib/python3.6/dist-packages (from amply>=0.1.2->pulp) (2.4.7)\n",
      "Requirement already satisfied: docutils>=0.3 in /usr/local/lib/python3.6/dist-packages (from amply>=0.1.2->pulp) (0.16)\n"
     ]
    }
   ],
   "source": [
    "!pip install pulp"
   ]
  },
  {
   "cell_type": "code",
   "execution_count": 427,
   "metadata": {
    "colab": {
     "base_uri": "https://localhost:8080/",
     "height": 66
    },
    "id": "ab6qs1t3WVcK",
    "outputId": "267be32f-0317-4fd1-f5d4-c78d698f3dbf"
   },
   "outputs": [
    {
     "name": "stdout",
     "output_type": "stream",
     "text": [
      "How many items are you able to purchase this week?1000\n",
      "Amount paid to the supplier for each item for this specific product type?85\n",
      "Amount paid by customer?120\n"
     ]
    }
   ],
   "source": [
    "from pulp import *\n",
    "\n",
    "N = int(input(\"How many items are you able to purchase this week?\"))         # maximum item to purchase\n",
    "cost_price = int(input(\"Amount paid to the supplier for each item for this specific product type?\")) # amount paid to the supplier\n",
    "sell_price = int(input(\"Amount paid by customer?\")) # amount paid by the customer\n",
    "waste_price = 0 # amount paid if we sell the remaining goods (ie. when we have more stock as prediction > demand)"
   ]
  },
  {
   "cell_type": "code",
   "execution_count": 428,
   "metadata": {
    "colab": {
     "base_uri": "https://localhost:8080/",
     "height": 1000
    },
    "id": "ORgbI_F1WVcN",
    "outputId": "33b4e8f6-dd67-43c8-cea2-b80265dd07de"
   },
   "outputs": [
    {
     "name": "stdout",
     "output_type": "stream",
     "text": [
      "52.0\n",
      "0.00125\n",
      "56.0\n",
      "0.00125\n",
      "58.0\n",
      "0.0025\n",
      "59.0\n",
      "0.00375\n",
      "60.0\n",
      "0.00625\n",
      "61.0\n",
      "0.00125\n",
      "62.0\n",
      "0.00875\n",
      "63.0\n",
      "0.00625\n",
      "64.0\n",
      "0.0125\n",
      "65.0\n",
      "0.03\n",
      "66.0\n",
      "0.00875\n",
      "67.0\n",
      "0.01875\n",
      "68.0\n",
      "0.03875\n",
      "69.0\n",
      "0.02375\n",
      "70.0\n",
      "0.035\n",
      "71.0\n",
      "0.0775\n",
      "72.0\n",
      "0.02875\n",
      "73.0\n",
      "0.04875\n",
      "74.0\n",
      "0.07625\n",
      "75.0\n",
      "0.03875\n",
      "76.0\n",
      "0.04375\n",
      "77.0\n",
      "0.065\n",
      "78.0\n",
      "0.04\n",
      "79.0\n",
      "0.04125\n",
      "80.0\n",
      "0.0725\n",
      "81.0\n",
      "0.02875\n",
      "82.0\n",
      "0.03125\n",
      "83.0\n",
      "0.04625\n",
      "84.0\n",
      "0.02125\n",
      "85.0\n",
      "0.02375\n",
      "86.0\n",
      "0.0325\n",
      "87.0\n",
      "0.0075\n",
      "88.0\n",
      "0.01375\n",
      "89.0\n",
      "0.0175\n",
      "90.0\n",
      "0.00625\n",
      "91.0\n",
      "0.01\n",
      "92.0\n",
      "0.01625\n",
      "93.0\n",
      "0.005\n",
      "94.0\n",
      "0.00375\n",
      "95.0\n",
      "0.00125\n",
      "96.0\n",
      "0.00125\n",
      "101.0\n",
      "0.00125\n",
      "110.0\n",
      "0.00125\n",
      "Status = Optimal\n",
      "x = 72.000000\n",
      "z_1 = 52.000000\n",
      "z_2 = 56.000000\n",
      "z_3 = 58.000000\n",
      "z_4 = 59.000000\n",
      "z_5 = 60.000000\n",
      "z_6 = 61.000000\n",
      "z_7 = 62.000000\n",
      "z_8 = 63.000000\n",
      "z_9 = 64.000000\n",
      "z_10 = 65.000000\n",
      "z_11 = 66.000000\n",
      "z_12 = 67.000000\n",
      "z_13 = 68.000000\n",
      "z_14 = 69.000000\n",
      "z_15 = 70.000000\n",
      "z_16 = 71.000000\n",
      "z_17 = 72.000000\n",
      "z_18 = 72.000000\n",
      "z_19 = 72.000000\n",
      "z_20 = 72.000000\n",
      "z_21 = 72.000000\n",
      "z_22 = 72.000000\n",
      "z_23 = 72.000000\n",
      "z_24 = 72.000000\n",
      "z_25 = 72.000000\n",
      "z_26 = 72.000000\n",
      "z_27 = 72.000000\n",
      "z_28 = 72.000000\n",
      "z_29 = 72.000000\n",
      "z_30 = 72.000000\n",
      "z_31 = 72.000000\n",
      "z_32 = 72.000000\n",
      "z_33 = 72.000000\n",
      "z_34 = 72.000000\n",
      "z_35 = 72.000000\n",
      "z_36 = 72.000000\n",
      "z_37 = 72.000000\n",
      "z_38 = 72.000000\n",
      "z_39 = 72.000000\n",
      "z_40 = 72.000000\n",
      "z_41 = 72.000000\n",
      "z_42 = 72.000000\n",
      "z_43 = 72.000000\n",
      "Objective = 2377.050000\n"
     ]
    }
   ],
   "source": [
    "##########################################\n",
    "# DEFINE VARIABLES\n",
    "##########################################\n",
    "\n",
    "M = LpProblem(\"Newsvendor1\", LpMaximize)\n",
    "\n",
    "x = LpVariable('x', lowBound=0)\n",
    "z = LpVariable.dicts('z', scenarios, 0)\n",
    "\n",
    "\n",
    "##########################################\n",
    "# DEFINE MODELS: CONSTRAINTS\n",
    "##########################################\n",
    "\n",
    "for i in scenarios:\n",
    "    print(demand[i])\n",
    "    print(weight[i])\n",
    "    M += x <= N\n",
    "    M += z[i] <= x\n",
    "    M += z[i] <= demand[i]\n",
    "\n",
    "    \n",
    "##########################################\n",
    "# DEFINE MODELS: OBJECTIVE\n",
    "##########################################\n",
    "\n",
    "M += sum(weight[i] * (sell_price * z[i] + waste_price * (x - z[i])) for i in scenarios) - (cost_price * x) \n",
    "M.solve()\n",
    "\n",
    "\n",
    "##########################################\n",
    "# PRINT RESULTS\n",
    "##########################################\n",
    "\n",
    "print(\"Status = %s\" % LpStatus[M.status])\n",
    "\n",
    "print(\"%s = %f\" % (x.name, x.varValue))\n",
    "for i in scenarios:\n",
    "    print(\"%s = %f\" % (z[i].name, z[i].varValue))\n",
    "print(\"Objective = %f\" % (M.objective.value()))\n",
    "\n"
   ]
  },
  {
   "cell_type": "markdown",
   "metadata": {
    "id": "4rOG7qzPWVcQ"
   },
   "source": [
    "#### c) CHECK AS TABLE (MANUAL CALCULATION): TO SEE CLEARLY WHAT HAPPENS"
   ]
  },
  {
   "cell_type": "code",
   "execution_count": 429,
   "metadata": {
    "id": "w_lQgFv2WVcQ"
   },
   "outputs": [],
   "source": [
    "def result_summ(cluster_proportion_df, demand, weight, sell_price, cost_price, waste_price):\n",
    "    '''Summarize result by comparing possible scenario (example_df) with its possible execution (purchase_df).\n",
    "    We want to look how much profit we can get given a pair of scenario and its execution, \n",
    "    weighted with the probability of each scenario to happen.\n",
    "    Input:\n",
    "    cluster_proportion_df = dataframe containing complete information about probability for each scenario\n",
    "    demand = possible scenario to happen\n",
    "    weight = probability of the possible scenario to happen\n",
    "    cost_price = amount paid to the supplier\n",
    "    sell_price = amount paid by the customer\n",
    "    waste_price = amount paid if we sell the remaining goods\n",
    "\n",
    "    Output:\n",
    "    example_df = dataframe after cross join between possible scenario and possible execution\n",
    "    example_df_summ = summary of example_df to obtain total expected profit per possible execution\n",
    "    '''\n",
    "    \n",
    "    # get the basic df: purchase_df for the demand and example_df for the possible scenario execution\n",
    "    purchase_df = pd.DataFrame({'key': 0, 'item_to_purchase': demand})\n",
    "    example_df = pd.DataFrame({'key': 0, 'item_to_sell': cluster_proportion_df['cluster_centers'], \n",
    "                               'probability': cluster_proportion_df['proportion_labels']})\n",
    "    example_df = example_df.merge(purchase_df, on='key', how='outer')\n",
    "    example_df = example_df.drop('key', axis=1).sort_values(['item_to_purchase', 'item_to_sell'])\n",
    "    \n",
    "    example_df['total_revenue'] = example_df[['item_to_sell', 'item_to_purchase']].min(axis=1) * sell_price\n",
    "    example_df['total_cost'] = example_df['item_to_purchase'] * cost_price\n",
    "    example_df['total_profit'] = (example_df['total_revenue'] - example_df['total_cost'])\n",
    "    \n",
    "    example_df['total_weighted_profit'] = example_df['probability'] * example_df['total_profit']\n",
    "    example_df['total_cumsum_profit'] = example_df.groupby('item_to_purchase')['total_weighted_profit'].cumsum()\n",
    "\n",
    "    example_df_summ = example_df.groupby('item_to_purchase', as_index=False)['total_weighted_profit'].sum()\n",
    "    \n",
    "    return example_df, example_df_summ"
   ]
  },
  {
   "cell_type": "code",
   "execution_count": 430,
   "metadata": {
    "colab": {
     "base_uri": "https://localhost:8080/",
     "height": 391
    },
    "id": "2_PJaTcMWVcT",
    "outputId": "1b8ae691-e107-406c-9b16-b1bbe744de37"
   },
   "outputs": [
    {
     "data": {
      "text/html": [
       "<div>\n",
       "<style scoped>\n",
       "    .dataframe tbody tr th:only-of-type {\n",
       "        vertical-align: middle;\n",
       "    }\n",
       "\n",
       "    .dataframe tbody tr th {\n",
       "        vertical-align: top;\n",
       "    }\n",
       "\n",
       "    .dataframe thead th {\n",
       "        text-align: right;\n",
       "    }\n",
       "</style>\n",
       "<table border=\"1\" class=\"dataframe\">\n",
       "  <thead>\n",
       "    <tr style=\"text-align: right;\">\n",
       "      <th></th>\n",
       "      <th>item_to_sell</th>\n",
       "      <th>probability</th>\n",
       "      <th>item_to_purchase</th>\n",
       "      <th>total_revenue</th>\n",
       "      <th>total_cost</th>\n",
       "      <th>total_profit</th>\n",
       "      <th>total_weighted_profit</th>\n",
       "      <th>total_cumsum_profit</th>\n",
       "    </tr>\n",
       "  </thead>\n",
       "  <tbody>\n",
       "    <tr>\n",
       "      <th>0</th>\n",
       "      <td>52.0</td>\n",
       "      <td>0.00125</td>\n",
       "      <td>52.0</td>\n",
       "      <td>6240.0</td>\n",
       "      <td>4420.0</td>\n",
       "      <td>1820.0</td>\n",
       "      <td>2.2750</td>\n",
       "      <td>2.2750</td>\n",
       "    </tr>\n",
       "    <tr>\n",
       "      <th>43</th>\n",
       "      <td>56.0</td>\n",
       "      <td>0.00125</td>\n",
       "      <td>52.0</td>\n",
       "      <td>6240.0</td>\n",
       "      <td>4420.0</td>\n",
       "      <td>1820.0</td>\n",
       "      <td>2.2750</td>\n",
       "      <td>4.5500</td>\n",
       "    </tr>\n",
       "    <tr>\n",
       "      <th>86</th>\n",
       "      <td>58.0</td>\n",
       "      <td>0.00250</td>\n",
       "      <td>52.0</td>\n",
       "      <td>6240.0</td>\n",
       "      <td>4420.0</td>\n",
       "      <td>1820.0</td>\n",
       "      <td>4.5500</td>\n",
       "      <td>9.1000</td>\n",
       "    </tr>\n",
       "    <tr>\n",
       "      <th>129</th>\n",
       "      <td>59.0</td>\n",
       "      <td>0.00375</td>\n",
       "      <td>52.0</td>\n",
       "      <td>6240.0</td>\n",
       "      <td>4420.0</td>\n",
       "      <td>1820.0</td>\n",
       "      <td>6.8250</td>\n",
       "      <td>15.9250</td>\n",
       "    </tr>\n",
       "    <tr>\n",
       "      <th>172</th>\n",
       "      <td>60.0</td>\n",
       "      <td>0.00625</td>\n",
       "      <td>52.0</td>\n",
       "      <td>6240.0</td>\n",
       "      <td>4420.0</td>\n",
       "      <td>1820.0</td>\n",
       "      <td>11.3750</td>\n",
       "      <td>27.3000</td>\n",
       "    </tr>\n",
       "    <tr>\n",
       "      <th>...</th>\n",
       "      <td>...</td>\n",
       "      <td>...</td>\n",
       "      <td>...</td>\n",
       "      <td>...</td>\n",
       "      <td>...</td>\n",
       "      <td>...</td>\n",
       "      <td>...</td>\n",
       "      <td>...</td>\n",
       "    </tr>\n",
       "    <tr>\n",
       "      <th>1676</th>\n",
       "      <td>94.0</td>\n",
       "      <td>0.00375</td>\n",
       "      <td>110.0</td>\n",
       "      <td>11280.0</td>\n",
       "      <td>9350.0</td>\n",
       "      <td>1930.0</td>\n",
       "      <td>7.2375</td>\n",
       "      <td>-193.0000</td>\n",
       "    </tr>\n",
       "    <tr>\n",
       "      <th>1719</th>\n",
       "      <td>95.0</td>\n",
       "      <td>0.00125</td>\n",
       "      <td>110.0</td>\n",
       "      <td>11400.0</td>\n",
       "      <td>9350.0</td>\n",
       "      <td>2050.0</td>\n",
       "      <td>2.5625</td>\n",
       "      <td>-190.4375</td>\n",
       "    </tr>\n",
       "    <tr>\n",
       "      <th>1762</th>\n",
       "      <td>96.0</td>\n",
       "      <td>0.00125</td>\n",
       "      <td>110.0</td>\n",
       "      <td>11520.0</td>\n",
       "      <td>9350.0</td>\n",
       "      <td>2170.0</td>\n",
       "      <td>2.7125</td>\n",
       "      <td>-187.7250</td>\n",
       "    </tr>\n",
       "    <tr>\n",
       "      <th>1805</th>\n",
       "      <td>101.0</td>\n",
       "      <td>0.00125</td>\n",
       "      <td>110.0</td>\n",
       "      <td>12120.0</td>\n",
       "      <td>9350.0</td>\n",
       "      <td>2770.0</td>\n",
       "      <td>3.4625</td>\n",
       "      <td>-184.2625</td>\n",
       "    </tr>\n",
       "    <tr>\n",
       "      <th>1848</th>\n",
       "      <td>110.0</td>\n",
       "      <td>0.00125</td>\n",
       "      <td>110.0</td>\n",
       "      <td>13200.0</td>\n",
       "      <td>9350.0</td>\n",
       "      <td>3850.0</td>\n",
       "      <td>4.8125</td>\n",
       "      <td>-179.4500</td>\n",
       "    </tr>\n",
       "  </tbody>\n",
       "</table>\n",
       "<p>1849 rows × 8 columns</p>\n",
       "</div>"
      ],
      "text/plain": [
       "      item_to_sell  probability  ...  total_weighted_profit  total_cumsum_profit\n",
       "0             52.0      0.00125  ...                 2.2750               2.2750\n",
       "43            56.0      0.00125  ...                 2.2750               4.5500\n",
       "86            58.0      0.00250  ...                 4.5500               9.1000\n",
       "129           59.0      0.00375  ...                 6.8250              15.9250\n",
       "172           60.0      0.00625  ...                11.3750              27.3000\n",
       "...            ...          ...  ...                    ...                  ...\n",
       "1676          94.0      0.00375  ...                 7.2375            -193.0000\n",
       "1719          95.0      0.00125  ...                 2.5625            -190.4375\n",
       "1762          96.0      0.00125  ...                 2.7125            -187.7250\n",
       "1805         101.0      0.00125  ...                 3.4625            -184.2625\n",
       "1848         110.0      0.00125  ...                 4.8125            -179.4500\n",
       "\n",
       "[1849 rows x 8 columns]"
      ]
     },
     "execution_count": 430,
     "metadata": {
      "tags": []
     },
     "output_type": "execute_result"
    }
   ],
   "source": [
    "example_df, example_df_summ = result_summ(cluster_proportion_df=cluster_proportion_df, demand=demand, weight=weight, \n",
    "                                          sell_price=sell_price, cost_price=cost_price, waste_price=waste_price)\n",
    "example_df"
   ]
  },
  {
   "cell_type": "markdown",
   "metadata": {
    "id": "742ZU5CRWVcY"
   },
   "source": [
    "#### d) VISUAL CHECK"
   ]
  },
  {
   "cell_type": "code",
   "execution_count": 431,
   "metadata": {
    "id": "6ihXXgUhWVcY"
   },
   "outputs": [],
   "source": [
    "# limit the table, we don't want to be overwhelmed\n",
    "temp = example_df[(example_df['item_to_purchase'] >= 20) & (example_df['item_to_purchase'] <= 25)]\n",
    "temp.loc[:,'item_to_purchase'] = temp['item_to_purchase'].astype('str')"
   ]
  },
  {
   "cell_type": "code",
   "execution_count": 432,
   "metadata": {
    "colab": {
     "base_uri": "https://localhost:8080/",
     "height": 257
    },
    "id": "i5N7xa9dWVcc",
    "outputId": "c253134f-9956-4700-8175-3f80664de20f"
   },
   "outputs": [
    {
     "data": {
      "image/png": "[encoded data removed]",
      "text/plain": [
       "<Figure size 432x288 with 1 Axes>"
      ]
     },
     "metadata": {
      "needs_background": "light",
      "tags": []
     },
     "output_type": "display_data"
    }
   ],
   "source": [
    "# check the weighted profit per possible scenario: \n",
    "# we can see how higher execution causes greater loss during weak demand and hence,\n",
    "# higher execution number has difficulty in bouncing the profit up \n",
    "\n",
    "fig, ax = plt.subplots()\n",
    "\n",
    "for i in temp['item_to_purchase'].unique():\n",
    "    temp[temp['item_to_purchase'] == i].plot.line(x='item_to_purchase', y='total_weighted_profit', ax=ax, label=str(i))\n",
    "plt.xticks(range(0,np.unique(temp['item_to_sell']).shape[0]),np.unique(temp['item_to_sell']),rotation=45)\n",
    "plt.show()"
   ]
  },
  {
   "cell_type": "code",
   "execution_count": 433,
   "metadata": {
    "colab": {
     "base_uri": "https://localhost:8080/",
     "height": 283
    },
    "id": "chpVwCqUWVcg",
    "outputId": "605b61c6-4a5e-476c-b8a4-8792150a9bbe"
   },
   "outputs": [
    {
     "data": {
      "image/png": "[encoded data removed]",
      "text/plain": [
       "<Figure size 432x288 with 1 Axes>"
      ]
     },
     "metadata": {
      "needs_background": "light",
      "tags": []
     },
     "output_type": "display_data"
    }
   ],
   "source": [
    "# check the total expected profit, which comes from all possible profit \n",
    "# and weighted by the probability of the scenario to happen\n",
    "plt.figure()\n",
    "sns.scatterplot(x='item_to_purchase', y='total_weighted_profit', data=example_df_summ)\n",
    "plt.show()"
   ]
  },
  {
   "cell_type": "markdown",
   "metadata": {
    "id": "T4W6GpH-WVck"
   },
   "source": [
    "### 5) PREDICTION + STOCHASTIC PROGRAMMING\n",
    "#### a) BOOTSTRAPPING"
   ]
  },
  {
   "cell_type": "code",
   "execution_count": 434,
   "metadata": {
    "colab": {
     "base_uri": "https://localhost:8080/",
     "height": 33
    },
    "id": "mf-f3IOu3I-m",
    "outputId": "de708380-f179-4f42-9f5f-bc1fad084ea6"
   },
   "outputs": [
    {
     "data": {
      "text/plain": [
       "1000"
      ]
     },
     "execution_count": 434,
     "metadata": {
      "tags": []
     },
     "output_type": "execute_result"
    }
   ],
   "source": [
    "N"
   ]
  },
  {
   "cell_type": "code",
   "execution_count": 445,
   "metadata": {
    "colab": {
     "base_uri": "https://localhost:8080/",
     "height": 223
    },
    "id": "3vkLLUUqWVck",
    "outputId": "e5465496-abed-41ce-deb6-4e8dc6772e31"
   },
   "outputs": [
    {
     "ename": "IndexError",
     "evalue": "ignored",
     "output_type": "error",
     "traceback": [
      "\u001b[0;31m---------------------------------------------------------------------------\u001b[0m",
      "\u001b[0;31mIndexError\u001b[0m                                Traceback (most recent call last)",
      "\u001b[0;32m<ipython-input-445-9e6db6ec0335>\u001b[0m in \u001b[0;36m<module>\u001b[0;34m()\u001b[0m\n\u001b[1;32m     25\u001b[0m     \u001b[0;31m# get result, only for intended index idx_check\u001b[0m\u001b[0;34m\u001b[0m\u001b[0;34m\u001b[0m\u001b[0;34m\u001b[0m\u001b[0m\n\u001b[1;32m     26\u001b[0m     \u001b[0;31m# test_y_bstrap.append((lr_bstrap.predict(test_x)[idx_check][0]).astype(int))\u001b[0m\u001b[0;34m\u001b[0m\u001b[0;34m\u001b[0m\u001b[0;34m\u001b[0m\u001b[0m\n\u001b[0;32m---> 27\u001b[0;31m     \u001b[0mresult_temp\u001b[0m \u001b[0;34m=\u001b[0m \u001b[0mnp\u001b[0m\u001b[0;34m.\u001b[0m\u001b[0mrint\u001b[0m\u001b[0;34m(\u001b[0m\u001b[0mlr_bstrap\u001b[0m\u001b[0;34m.\u001b[0m\u001b[0mintercept_\u001b[0m \u001b[0;34m+\u001b[0m \u001b[0mlr_bstrap\u001b[0m\u001b[0;34m.\u001b[0m\u001b[0mcoef_\u001b[0m \u001b[0;34m*\u001b[0m \u001b[0mtest_x\u001b[0m\u001b[0;34m[\u001b[0m\u001b[0midx_check\u001b[0m\u001b[0;34m]\u001b[0m\u001b[0;34m)\u001b[0m\u001b[0;34m[\u001b[0m\u001b[0;36m0\u001b[0m\u001b[0;34m,\u001b[0m\u001b[0;36m0\u001b[0m\u001b[0;34m]\u001b[0m\u001b[0;34m\u001b[0m\u001b[0;34m\u001b[0m\u001b[0m\n\u001b[0m\u001b[1;32m     28\u001b[0m     \u001b[0mtest_y_bstrap\u001b[0m\u001b[0;34m.\u001b[0m\u001b[0mappend\u001b[0m\u001b[0;34m(\u001b[0m\u001b[0mresult_temp\u001b[0m\u001b[0;34m)\u001b[0m\u001b[0;34m\u001b[0m\u001b[0;34m\u001b[0m\u001b[0m\n\u001b[1;32m     29\u001b[0m \u001b[0;34m\u001b[0m\u001b[0m\n",
      "\u001b[0;31mIndexError\u001b[0m: index 999 is out of bounds for axis 0 with size 200"
     ]
    }
   ],
   "source": [
    "import math\n",
    "\n",
    "size_bstrap = N\n",
    "iter = math.floor(N/2)\n",
    "idx_check = 172\n",
    "test_y_bstrap = []\n",
    "coef_bstrap = []\n",
    "intercept_bstrap = []\n",
    "\n",
    "for i in range(iter):\n",
    "    \n",
    "    # sampling with replacement\n",
    "    idx = np.random.choice(np.arange(0,train_x.shape[0]), size_bstrap, replace=True)\n",
    "    train_x_temp = train_x[idx]\n",
    "    train_y_temp = train_y[idx]\n",
    "    \n",
    "    # do linear regression\n",
    "    lr_bstrap = LinearRegression()\n",
    "    lr_bstrap.fit(train_x_temp, train_y_temp)\n",
    "    \n",
    "    # get coefficient and intercept\n",
    "    coef_bstrap.append(lr_bstrap.coef_)\n",
    "    intercept_bstrap.append(lr_bstrap.intercept_)\n",
    "    \n",
    "    # get result, only for intended index idx_check\n",
    "    # test_y_bstrap.append((lr_bstrap.predict(test_x)[idx_check][0]).astype(int))\n",
    "    result_temp = np.rint(lr_bstrap.intercept_ + lr_bstrap.coef_ * test_x[idx_check])[0,0]\n",
    "    test_y_bstrap.append(result_temp)\n",
    "    "
   ]
  },
  {
   "cell_type": "code",
   "execution_count": 436,
   "metadata": {
    "colab": {
     "base_uri": "https://localhost:8080/",
     "height": 391
    },
    "id": "ZqBCLx50WVco",
    "outputId": "3fea4d69-b821-4da0-fe4b-5d30429c4789"
   },
   "outputs": [
    {
     "data": {
      "text/html": [
       "<div>\n",
       "<style scoped>\n",
       "    .dataframe tbody tr th:only-of-type {\n",
       "        vertical-align: middle;\n",
       "    }\n",
       "\n",
       "    .dataframe tbody tr th {\n",
       "        vertical-align: top;\n",
       "    }\n",
       "\n",
       "    .dataframe thead th {\n",
       "        text-align: right;\n",
       "    }\n",
       "</style>\n",
       "<table border=\"1\" class=\"dataframe\">\n",
       "  <thead>\n",
       "    <tr style=\"text-align: right;\">\n",
       "      <th></th>\n",
       "      <th>test_y_bstrap</th>\n",
       "      <th>test_x_bstrap</th>\n",
       "    </tr>\n",
       "  </thead>\n",
       "  <tbody>\n",
       "    <tr>\n",
       "      <th>0</th>\n",
       "      <td>75.0</td>\n",
       "      <td>98</td>\n",
       "    </tr>\n",
       "    <tr>\n",
       "      <th>1</th>\n",
       "      <td>75.0</td>\n",
       "      <td>98</td>\n",
       "    </tr>\n",
       "    <tr>\n",
       "      <th>2</th>\n",
       "      <td>75.0</td>\n",
       "      <td>98</td>\n",
       "    </tr>\n",
       "    <tr>\n",
       "      <th>3</th>\n",
       "      <td>75.0</td>\n",
       "      <td>98</td>\n",
       "    </tr>\n",
       "    <tr>\n",
       "      <th>4</th>\n",
       "      <td>75.0</td>\n",
       "      <td>98</td>\n",
       "    </tr>\n",
       "    <tr>\n",
       "      <th>...</th>\n",
       "      <td>...</td>\n",
       "      <td>...</td>\n",
       "    </tr>\n",
       "    <tr>\n",
       "      <th>495</th>\n",
       "      <td>75.0</td>\n",
       "      <td>98</td>\n",
       "    </tr>\n",
       "    <tr>\n",
       "      <th>496</th>\n",
       "      <td>75.0</td>\n",
       "      <td>98</td>\n",
       "    </tr>\n",
       "    <tr>\n",
       "      <th>497</th>\n",
       "      <td>75.0</td>\n",
       "      <td>98</td>\n",
       "    </tr>\n",
       "    <tr>\n",
       "      <th>498</th>\n",
       "      <td>75.0</td>\n",
       "      <td>98</td>\n",
       "    </tr>\n",
       "    <tr>\n",
       "      <th>499</th>\n",
       "      <td>75.0</td>\n",
       "      <td>98</td>\n",
       "    </tr>\n",
       "  </tbody>\n",
       "</table>\n",
       "<p>500 rows × 2 columns</p>\n",
       "</div>"
      ],
      "text/plain": [
       "     test_y_bstrap  test_x_bstrap\n",
       "0             75.0             98\n",
       "1             75.0             98\n",
       "2             75.0             98\n",
       "3             75.0             98\n",
       "4             75.0             98\n",
       "..             ...            ...\n",
       "495           75.0             98\n",
       "496           75.0             98\n",
       "497           75.0             98\n",
       "498           75.0             98\n",
       "499           75.0             98\n",
       "\n",
       "[500 rows x 2 columns]"
      ]
     },
     "execution_count": 436,
     "metadata": {
      "tags": []
     },
     "output_type": "execute_result"
    }
   ],
   "source": [
    "result_bstrap = pd.DataFrame({'test_y_bstrap': test_y_bstrap})\n",
    "result_bstrap['test_x_bstrap'] = test_x[idx_check][0]\n",
    "result_bstrap"
   ]
  },
  {
   "cell_type": "code",
   "execution_count": 437,
   "metadata": {
    "colab": {
     "base_uri": "https://localhost:8080/",
     "height": 76
    },
    "id": "O5VyYY3JWVcr",
    "outputId": "75a6d0cf-bebf-40f0-aefe-57cee9bdc8ff"
   },
   "outputs": [
    {
     "data": {
      "text/html": [
       "<div>\n",
       "<style scoped>\n",
       "    .dataframe tbody tr th:only-of-type {\n",
       "        vertical-align: middle;\n",
       "    }\n",
       "\n",
       "    .dataframe tbody tr th {\n",
       "        vertical-align: top;\n",
       "    }\n",
       "\n",
       "    .dataframe thead th {\n",
       "        text-align: right;\n",
       "    }\n",
       "</style>\n",
       "<table border=\"1\" class=\"dataframe\">\n",
       "  <thead>\n",
       "    <tr style=\"text-align: right;\">\n",
       "      <th></th>\n",
       "      <th>test_y_bstrap</th>\n",
       "      <th>test_x_bstrap</th>\n",
       "    </tr>\n",
       "  </thead>\n",
       "  <tbody>\n",
       "    <tr>\n",
       "      <th>0</th>\n",
       "      <td>75.0</td>\n",
       "      <td>500</td>\n",
       "    </tr>\n",
       "  </tbody>\n",
       "</table>\n",
       "</div>"
      ],
      "text/plain": [
       "   test_y_bstrap  test_x_bstrap\n",
       "0           75.0            500"
      ]
     },
     "execution_count": 437,
     "metadata": {
      "tags": []
     },
     "output_type": "execute_result"
    }
   ],
   "source": [
    "result_bstrap_summ = result_bstrap.groupby('test_y_bstrap').count().reset_index(drop=False)\n",
    "result_bstrap_summ"
   ]
  },
  {
   "cell_type": "markdown",
   "metadata": {
    "id": "ugYPcjUZWVcu"
   },
   "source": [
    "#### b) DISCRETIZING DEMAND"
   ]
  },
  {
   "cell_type": "code",
   "execution_count": 438,
   "metadata": {
    "colab": {
     "base_uri": "https://localhost:8080/",
     "height": 66
    },
    "id": "D7guDBLfWVcw",
    "outputId": "6c33aba0-b24d-4afd-b795-db5ff699ce11"
   },
   "outputs": [
    {
     "name": "stdout",
     "output_type": "stream",
     "text": [
      "{1: 75.0}\n",
      "{1: 1.0}\n",
      "range(1, 2)\n"
     ]
    }
   ],
   "source": [
    "cluster_proportion_df_bstrap, demand_bstrap, weight_bstrap, scenarios_bstrap = cluster_summ(df=result_bstrap['test_y_bstrap'])\n",
    "\n",
    "print(demand_bstrap)\n",
    "print(weight_bstrap)\n",
    "print(scenarios_bstrap)"
   ]
  },
  {
   "cell_type": "markdown",
   "metadata": {
    "id": "7yT_Mq9KWVcz"
   },
   "source": [
    "#### c) USING PULP TO SOLVE STOCHASTIC PROGRAMMING"
   ]
  },
  {
   "cell_type": "code",
   "execution_count": 439,
   "metadata": {
    "colab": {
     "base_uri": "https://localhost:8080/",
     "height": 115
    },
    "id": "TjD5OPAHWVcz",
    "outputId": "8ba5ac77-e7f6-47c5-bb2b-cdd2612d7e5c"
   },
   "outputs": [
    {
     "name": "stdout",
     "output_type": "stream",
     "text": [
      "75.0\n",
      "1.0\n",
      "Status = Optimal\n",
      "x_bstrap = 75.000000\n",
      "z_bstrap_1 = 75.000000\n",
      "Objective = 2625.000000\n"
     ]
    }
   ],
   "source": [
    "##########################################\n",
    "# DEFINE VARIABLES\n",
    "##########################################\n",
    "\n",
    "M_bstrap = LpProblem(\"Newsvendor2\", LpMaximize)\n",
    "\n",
    "x_bstrap = LpVariable('x_bstrap', lowBound=0)\n",
    "z_bstrap = LpVariable.dicts('z_bstrap', scenarios_bstrap, 0)\n",
    "\n",
    "\n",
    "##########################################\n",
    "# DEFINE MODELS: CONSTRAINTS\n",
    "##########################################\n",
    "\n",
    "for i in scenarios_bstrap:\n",
    "    print(demand_bstrap[i])\n",
    "    print(weight_bstrap[i])\n",
    "    M_bstrap += x_bstrap <= N\n",
    "    M_bstrap += z_bstrap[i] <= x_bstrap\n",
    "    M_bstrap += z_bstrap[i] <= demand_bstrap[i]\n",
    "\n",
    "    \n",
    "##########################################\n",
    "# DEFINE MODELS: OBJECTIVE\n",
    "##########################################\n",
    "\n",
    "M_bstrap += sum(weight_bstrap[i] * (sell_price * z_bstrap[i] + waste_price * (x_bstrap - z_bstrap[i])) for i in scenarios_bstrap) - (cost_price * x_bstrap) \n",
    "M_bstrap.solve()\n",
    "\n",
    "\n",
    "##########################################\n",
    "# PRINT RESULTS\n",
    "##########################################\n",
    "\n",
    "print(\"Status = %s\" % LpStatus[M_bstrap.status])\n",
    "\n",
    "print(\"%s = %f\" % (x_bstrap.name, x_bstrap.varValue))\n",
    "for i in scenarios_bstrap:\n",
    "    print(\"%s = %f\" % (z_bstrap[i].name, z_bstrap[i].varValue))\n",
    "print(\"Objective = %f\" % (M_bstrap.objective.value()))\n",
    "\n"
   ]
  },
  {
   "cell_type": "markdown",
   "metadata": {
    "id": "pRdfCXcWWVc2"
   },
   "source": [
    "#### d) CHECK AS TABLE (MANUAL CALCULATION): TO SEE CLEARLY WHAT HAPPENS"
   ]
  },
  {
   "cell_type": "code",
   "execution_count": 440,
   "metadata": {
    "colab": {
     "base_uri": "https://localhost:8080/",
     "height": 76
    },
    "id": "cj7rCxD_WVc5",
    "outputId": "f8ca761d-1655-4ec7-f04a-b61c3ec90021"
   },
   "outputs": [
    {
     "data": {
      "text/html": [
       "<div>\n",
       "<style scoped>\n",
       "    .dataframe tbody tr th:only-of-type {\n",
       "        vertical-align: middle;\n",
       "    }\n",
       "\n",
       "    .dataframe tbody tr th {\n",
       "        vertical-align: top;\n",
       "    }\n",
       "\n",
       "    .dataframe thead th {\n",
       "        text-align: right;\n",
       "    }\n",
       "</style>\n",
       "<table border=\"1\" class=\"dataframe\">\n",
       "  <thead>\n",
       "    <tr style=\"text-align: right;\">\n",
       "      <th></th>\n",
       "      <th>item_to_sell</th>\n",
       "      <th>probability</th>\n",
       "      <th>item_to_purchase</th>\n",
       "      <th>total_revenue</th>\n",
       "      <th>total_cost</th>\n",
       "      <th>total_profit</th>\n",
       "      <th>total_weighted_profit</th>\n",
       "      <th>total_cumsum_profit</th>\n",
       "    </tr>\n",
       "  </thead>\n",
       "  <tbody>\n",
       "    <tr>\n",
       "      <th>0</th>\n",
       "      <td>75.0</td>\n",
       "      <td>1.0</td>\n",
       "      <td>75.0</td>\n",
       "      <td>9000.0</td>\n",
       "      <td>6375.0</td>\n",
       "      <td>2625.0</td>\n",
       "      <td>2625.0</td>\n",
       "      <td>2625.0</td>\n",
       "    </tr>\n",
       "  </tbody>\n",
       "</table>\n",
       "</div>"
      ],
      "text/plain": [
       "   item_to_sell  probability  ...  total_weighted_profit  total_cumsum_profit\n",
       "0          75.0          1.0  ...                 2625.0               2625.0\n",
       "\n",
       "[1 rows x 8 columns]"
      ]
     },
     "execution_count": 440,
     "metadata": {
      "tags": []
     },
     "output_type": "execute_result"
    }
   ],
   "source": [
    "example_df_bstrap, example_df_summ_bstrap = result_summ(cluster_proportion_df=cluster_proportion_df_bstrap, \n",
    "                                                        demand=demand_bstrap, weight=weight_bstrap, \n",
    "                                                        sell_price=sell_price, cost_price=cost_price, \n",
    "                                                        waste_price=waste_price)\n",
    "example_df_bstrap.head(n=5)"
   ]
  },
  {
   "cell_type": "code",
   "execution_count": 441,
   "metadata": {
    "colab": {
     "base_uri": "https://localhost:8080/",
     "height": 76
    },
    "id": "r-gJxWz-WVc8",
    "outputId": "b49b0fc9-949e-4330-b796-af63cd535faf"
   },
   "outputs": [
    {
     "data": {
      "text/html": [
       "<div>\n",
       "<style scoped>\n",
       "    .dataframe tbody tr th:only-of-type {\n",
       "        vertical-align: middle;\n",
       "    }\n",
       "\n",
       "    .dataframe tbody tr th {\n",
       "        vertical-align: top;\n",
       "    }\n",
       "\n",
       "    .dataframe thead th {\n",
       "        text-align: right;\n",
       "    }\n",
       "</style>\n",
       "<table border=\"1\" class=\"dataframe\">\n",
       "  <thead>\n",
       "    <tr style=\"text-align: right;\">\n",
       "      <th></th>\n",
       "      <th>item_to_sell</th>\n",
       "      <th>probability</th>\n",
       "      <th>item_to_purchase</th>\n",
       "      <th>total_revenue</th>\n",
       "      <th>total_cost</th>\n",
       "      <th>total_profit</th>\n",
       "      <th>total_weighted_profit</th>\n",
       "      <th>total_cumsum_profit</th>\n",
       "    </tr>\n",
       "  </thead>\n",
       "  <tbody>\n",
       "    <tr>\n",
       "      <th>0</th>\n",
       "      <td>75.0</td>\n",
       "      <td>1.0</td>\n",
       "      <td>75.0</td>\n",
       "      <td>9000.0</td>\n",
       "      <td>6375.0</td>\n",
       "      <td>2625.0</td>\n",
       "      <td>2625.0</td>\n",
       "      <td>2625.0</td>\n",
       "    </tr>\n",
       "  </tbody>\n",
       "</table>\n",
       "</div>"
      ],
      "text/plain": [
       "   item_to_sell  probability  ...  total_weighted_profit  total_cumsum_profit\n",
       "0          75.0          1.0  ...                 2625.0               2625.0\n",
       "\n",
       "[1 rows x 8 columns]"
      ]
     },
     "execution_count": 441,
     "metadata": {
      "tags": []
     },
     "output_type": "execute_result"
    }
   ],
   "source": [
    "# optimal decision will only change if we increase sales_price (eg. sales_price = 23)\n",
    "example_df_bstrap, example_df_summ_bstrap = result_summ(cluster_proportion_df=cluster_proportion_df_bstrap, \n",
    "                                                        demand=demand_bstrap, weight=weight_bstrap, \n",
    "                                                        sell_price=sell_price, cost_price=cost_price, \n",
    "                                                        waste_price=waste_price)\n",
    "example_df_bstrap.head(n=5)"
   ]
  },
  {
   "cell_type": "markdown",
   "metadata": {
    "id": "se173dd1WVc_"
   },
   "source": [
    "#### d) VISUAL CHECK"
   ]
  },
  {
   "cell_type": "code",
   "execution_count": 442,
   "metadata": {
    "id": "PMMBRF9IWVc_"
   },
   "outputs": [],
   "source": [
    "example_df_bstrap.loc[:,'item_to_purchase'] = example_df_bstrap['item_to_purchase'].astype('str')"
   ]
  },
  {
   "cell_type": "code",
   "execution_count": 443,
   "metadata": {
    "colab": {
     "base_uri": "https://localhost:8080/",
     "height": 292
    },
    "id": "1gMesSrnWVdC",
    "outputId": "7c64f28c-233b-462d-923a-076dbe57c7fa"
   },
   "outputs": [
    {
     "data": {
      "image/png": "[encoded data removed]",
      "text/plain": [
       "<Figure size 432x288 with 1 Axes>"
      ]
     },
     "metadata": {
      "needs_background": "light",
      "tags": []
     },
     "output_type": "display_data"
    }
   ],
   "source": [
    "# check the weighted profit per possible scenario: \n",
    "# we can see how higher execution causes greater loss during weak demand and hence,\n",
    "# higher execution number has difficulty in bouncing the profit up \n",
    "\n",
    "fig, ax = plt.subplots()\n",
    "\n",
    "for i in example_df_bstrap['item_to_purchase'].unique():\n",
    "    example_df_bstrap[example_df_bstrap['item_to_purchase'] == i].plot.line(x='item_to_purchase', y='total_weighted_profit', ax=ax, label=str(i))\n",
    "plt.xticks(range(0,np.unique(example_df_bstrap['item_to_sell']).shape[0]),np.unique(example_df_bstrap['item_to_sell']),rotation=45)\n",
    "plt.show()"
   ]
  },
  {
   "cell_type": "code",
   "execution_count": 444,
   "metadata": {
    "colab": {
     "base_uri": "https://localhost:8080/",
     "height": 280
    },
    "id": "Ym3jUJ7WWVdF",
    "outputId": "0c2605c7-d4e3-4aa0-da03-505dd6659c18"
   },
   "outputs": [
    {
     "data": {
      "image/png": "[encoded data removed]",
      "text/plain": [
       "<Figure size 432x288 with 1 Axes>"
      ]
     },
     "metadata": {
      "needs_background": "light",
      "tags": []
     },
     "output_type": "display_data"
    }
   ],
   "source": [
    "# check the total expected profit, which comes from all possible profit \n",
    "# and weighted by the probability of the scenario to happen\n",
    "plt.figure()\n",
    "sns.scatterplot(x='item_to_purchase', y='total_weighted_profit', data=example_df_summ_bstrap)\n",
    "plt.show()"
   ]
  }
 ],
 "metadata": {
  "colab": {
   "include_colab_link": true,
   "name": "newsvendor_pulp_v1.ipynb",
   "provenance": []
  },
  "hide_input": false,
  "kernelspec": {
   "display_name": "Python 3",
   "language": "python",
   "name": "python3"
  },
  "language_info": {
   "codemirror_mode": {
    "name": "ipython",
    "version": 3
   },
   "file_extension": ".py",
   "mimetype": "text/x-python",
   "name": "python",
   "nbconvert_exporter": "python",
   "pygments_lexer": "ipython3",
   "version": "3.7.6"
  },
  "toc": {
   "base_numbering": 1,
   "nav_menu": {},
   "number_sections": true,
   "sideBar": true,
   "skip_h1_title": false,
   "title_cell": "Table of Contents",
   "title_sidebar": "Contents",
   "toc_cell": false,
   "toc_position": {},
   "toc_section_display": true,
   "toc_window_display": false
  }
 },
 "nbformat": 4,
 "nbformat_minor": 1
}
