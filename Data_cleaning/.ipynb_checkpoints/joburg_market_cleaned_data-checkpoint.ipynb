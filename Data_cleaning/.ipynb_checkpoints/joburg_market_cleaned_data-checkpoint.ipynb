{
 "cells": [
  {
   "cell_type": "code",
   "execution_count": 1,
   "metadata": {},
   "outputs": [],
   "source": [
    "import pandas as pd\n",
    "import numpy as np\n",
    "import requests\n",
    "import urllib\n",
    "from scrapy.http import HtmlResponse\n",
    "from sqlalchemy import create_engine, insert, Table, MetaData, select\n",
    "\n",
    "# Custom upload with connection string\n",
    "from engine_info import server_info\n",
    "# From tables.py\n",
    "import tables\n",
    "\n",
    "import warnings\n",
    "warnings.filterwarnings('ignore')"
   ]
  },
  {
   "cell_type": "code",
   "execution_count": 2,
   "metadata": {},
   "outputs": [],
   "source": [
    "# Creating a connection to MS SQL SERVER\n",
    "params = urllib.parse.quote_plus(server_info)\n",
    "engine = create_engine('mssql+pyodbc:///?odbc_connect=%s' % params)\n",
    "connection = engine.connect()"
   ]
  },
  {
   "cell_type": "code",
   "execution_count": 3,
   "metadata": {},
   "outputs": [
    {
     "data": {
      "text/plain": [
       "['Capetown_Fresh_produce_market',\n",
       " 'container',\n",
       " 'Durban_Fresh_produce_market',\n",
       " 'inventory',\n",
       " 'Joburg_Fresh_produce_commodity_raw',\n",
       " 'Joburg_Fresh_produce_container_raw',\n",
       " 'Joburg_Fresh_produce_product_combination_raw',\n",
       " 'Joburg_Fresh_produce_scrapping_date',\n",
       " 'master_date',\n",
       " 'PickNPay_Prices',\n",
       " 'product',\n",
       " 'product_combination',\n",
       " 'sales',\n",
       " 'Shoprite_Prices',\n",
       " 'sysdiagrams',\n",
       " 'woolworths_Prices']"
      ]
     },
     "execution_count": 3,
     "metadata": {},
     "output_type": "execute_result"
    }
   ],
   "source": [
    "engine.table_names()"
   ]
  },
  {
   "cell_type": "code",
   "execution_count": 4,
   "metadata": {},
   "outputs": [],
   "source": [
    "jhb_comm_df = pd.read_sql_query('SELECT * FROM Joburg_Fresh_produce_commodity_raw',connection)\n",
    "jhb_con_df = pd.read_sql_query('SELECT * FROM Joburg_Fresh_produce_container_raw',connection)\n",
    "jhb_comb_df = pd.read_sql_query('SELECT * FROM Joburg_Fresh_produce_product_combination_raw',connection)"
   ]
  },
  {
   "cell_type": "code",
   "execution_count": 5,
   "metadata": {},
   "outputs": [],
   "source": [
    "def rand_value(df, column):\n",
    "    \"\"\"\n",
    "    Takes a dataframe and a column with rand value to be cleaned as arguments, \n",
    "    returns a dataframe, with two new columns with rand value for one day and\n",
    "    Month To Date rand value. The initial column that was added as argument is removed from the dataframe.\n",
    "    \"\"\" \n",
    "    \n",
    "    df[\"MTD_total_value_sold_(R)\"]=np.nan\n",
    "    df[\"total_value_sold_(R)\"]=np.nan\n",
    "    for i in range(len(df[column])):\n",
    "        df[\"MTD_total_value_sold_(R)\"][i]=round(float(df[column][i].split(\"R\")[-1].replace(',','')),2)\n",
    "        df[\"total_value_sold_(R)\"][i]=round(float(df[column][i].split(\"R\")[1].split(\"M\")[0].replace(\",\",\"\")),2)\n",
    "    \n",
    "    df1=df.copy()    \n",
    "    df1.drop(column,axis=1, inplace=True)\n",
    "    return df1"
   ]
  },
  {
   "cell_type": "code",
   "execution_count": 6,
   "metadata": {},
   "outputs": [],
   "source": [
    "# cleaning the rand value column of commodity table and storing it in a new dataframe\n",
    "jhb_comm_df_cleaned=rand_value(jhb_comm_df,\"total_value_sold\")\n",
    "# cleaning the rand value column of the container dataframe and storing\n",
    "jhb_con_df_cleaned=rand_value(jhb_con_df,\"value_sold\")"
   ]
  },
  {
   "cell_type": "code",
   "execution_count": 7,
   "metadata": {},
   "outputs": [
    {
     "data": {
      "text/html": [
       "<div>\n",
       "<style scoped>\n",
       "    .dataframe tbody tr th:only-of-type {\n",
       "        vertical-align: middle;\n",
       "    }\n",
       "\n",
       "    .dataframe tbody tr th {\n",
       "        vertical-align: top;\n",
       "    }\n",
       "\n",
       "    .dataframe thead th {\n",
       "        text-align: right;\n",
       "    }\n",
       "</style>\n",
       "<table border=\"1\" class=\"dataframe\">\n",
       "  <thead>\n",
       "    <tr style=\"text-align: right;\">\n",
       "      <th></th>\n",
       "      <th>rowid</th>\n",
       "      <th>date</th>\n",
       "      <th>commodity</th>\n",
       "      <th>total_qty_sold</th>\n",
       "      <th>total_kg_sold</th>\n",
       "      <th>qty_available</th>\n",
       "      <th>MTD_total_value_sold_(R)</th>\n",
       "      <th>total_value_sold_(R)</th>\n",
       "    </tr>\n",
       "  </thead>\n",
       "  <tbody>\n",
       "    <tr>\n",
       "      <th>0</th>\n",
       "      <td>1</td>\n",
       "      <td>20 August 2020</td>\n",
       "      <td>AMADUMBE</td>\n",
       "      <td>0MTD: 97</td>\n",
       "      <td>0MTD: 1,940</td>\n",
       "      <td>2</td>\n",
       "      <td>39870.0</td>\n",
       "      <td>0.0</td>\n",
       "    </tr>\n",
       "    <tr>\n",
       "      <th>1</th>\n",
       "      <td>2</td>\n",
       "      <td>20 August 2020</td>\n",
       "      <td>APPLES</td>\n",
       "      <td>13,799MTD: 261,296</td>\n",
       "      <td>157,462MTD: 3,163,863</td>\n",
       "      <td>91755</td>\n",
       "      <td>22664221.0</td>\n",
       "      <td>1205932.0</td>\n",
       "    </tr>\n",
       "    <tr>\n",
       "      <th>2</th>\n",
       "      <td>3</td>\n",
       "      <td>20 August 2020</td>\n",
       "      <td>ARTICHOKES</td>\n",
       "      <td>4MTD: 439</td>\n",
       "      <td>3MTD: 522</td>\n",
       "      <td>1</td>\n",
       "      <td>53100.0</td>\n",
       "      <td>600.0</td>\n",
       "    </tr>\n",
       "    <tr>\n",
       "      <th>3</th>\n",
       "      <td>4</td>\n",
       "      <td>20 August 2020</td>\n",
       "      <td>ASPARAGUS</td>\n",
       "      <td>50MTD: 359</td>\n",
       "      <td>250MTD: 1,795</td>\n",
       "      <td>8</td>\n",
       "      <td>258975.0</td>\n",
       "      <td>34000.0</td>\n",
       "    </tr>\n",
       "    <tr>\n",
       "      <th>4</th>\n",
       "      <td>5</td>\n",
       "      <td>20 August 2020</td>\n",
       "      <td>ATCHARA</td>\n",
       "      <td>0MTD: 23</td>\n",
       "      <td>0MTD: 65</td>\n",
       "      <td>207</td>\n",
       "      <td>1351.2</td>\n",
       "      <td>0.0</td>\n",
       "    </tr>\n",
       "  </tbody>\n",
       "</table>\n",
       "</div>"
      ],
      "text/plain": [
       "   rowid            date   commodity      total_qty_sold  \\\n",
       "0      1  20 August 2020    AMADUMBE            0MTD: 97   \n",
       "1      2  20 August 2020      APPLES  13,799MTD: 261,296   \n",
       "2      3  20 August 2020  ARTICHOKES           4MTD: 439   \n",
       "3      4  20 August 2020   ASPARAGUS          50MTD: 359   \n",
       "4      5  20 August 2020     ATCHARA            0MTD: 23   \n",
       "\n",
       "           total_kg_sold  qty_available  MTD_total_value_sold_(R)  \\\n",
       "0            0MTD: 1,940              2                   39870.0   \n",
       "1  157,462MTD: 3,163,863          91755                22664221.0   \n",
       "2              3MTD: 522              1                   53100.0   \n",
       "3          250MTD: 1,795              8                  258975.0   \n",
       "4               0MTD: 65            207                    1351.2   \n",
       "\n",
       "   total_value_sold_(R)  \n",
       "0                   0.0  \n",
       "1             1205932.0  \n",
       "2                 600.0  \n",
       "3               34000.0  \n",
       "4                   0.0  "
      ]
     },
     "execution_count": 7,
     "metadata": {},
     "output_type": "execute_result"
    }
   ],
   "source": [
    "#Visualising the new dataframes\n",
    "jhb_comm_df_cleaned.head()"
   ]
  },
  {
   "cell_type": "code",
   "execution_count": 8,
   "metadata": {},
   "outputs": [
    {
     "data": {
      "text/html": [
       "<div>\n",
       "<style scoped>\n",
       "    .dataframe tbody tr th:only-of-type {\n",
       "        vertical-align: middle;\n",
       "    }\n",
       "\n",
       "    .dataframe tbody tr th {\n",
       "        vertical-align: top;\n",
       "    }\n",
       "\n",
       "    .dataframe thead th {\n",
       "        text-align: right;\n",
       "    }\n",
       "</style>\n",
       "<table border=\"1\" class=\"dataframe\">\n",
       "  <thead>\n",
       "    <tr style=\"text-align: right;\">\n",
       "      <th></th>\n",
       "      <th>rowid</th>\n",
       "      <th>date</th>\n",
       "      <th>commodity</th>\n",
       "      <th>container</th>\n",
       "      <th>qty_available</th>\n",
       "      <th>qty_sold</th>\n",
       "      <th>kg_sold</th>\n",
       "      <th>average_price_per_kg</th>\n",
       "      <th>MTD_total_value_sold_(R)</th>\n",
       "      <th>total_value_sold_(R)</th>\n",
       "    </tr>\n",
       "  </thead>\n",
       "  <tbody>\n",
       "    <tr>\n",
       "      <th>0</th>\n",
       "      <td>1</td>\n",
       "      <td>20 August 2020</td>\n",
       "      <td>AMADUMBE</td>\n",
       "      <td>20KG POCKET</td>\n",
       "      <td>2</td>\n",
       "      <td>0MTD: 97</td>\n",
       "      <td>0MTD: 1,940</td>\n",
       "      <td>R0</td>\n",
       "      <td>39870.0</td>\n",
       "      <td>0.0</td>\n",
       "    </tr>\n",
       "    <tr>\n",
       "      <th>1</th>\n",
       "      <td>2</td>\n",
       "      <td>20 August 2020</td>\n",
       "      <td>APPLES</td>\n",
       "      <td>10 X 1KG ECONO PACK CARTON</td>\n",
       "      <td>17</td>\n",
       "      <td>1MTD: 547</td>\n",
       "      <td>10MTD: 5,470</td>\n",
       "      <td>R10</td>\n",
       "      <td>41932.0</td>\n",
       "      <td>100.0</td>\n",
       "    </tr>\n",
       "    <tr>\n",
       "      <th>2</th>\n",
       "      <td>3</td>\n",
       "      <td>20 August 2020</td>\n",
       "      <td>APPLES</td>\n",
       "      <td>11KG JUMBLE CARTON</td>\n",
       "      <td>343</td>\n",
       "      <td>17MTD: 3,170</td>\n",
       "      <td>187MTD: 34,870</td>\n",
       "      <td>R6.36</td>\n",
       "      <td>218914.0</td>\n",
       "      <td>1190.0</td>\n",
       "    </tr>\n",
       "    <tr>\n",
       "      <th>3</th>\n",
       "      <td>4</td>\n",
       "      <td>20 August 2020</td>\n",
       "      <td>APPLES</td>\n",
       "      <td>12 X 1KG ECONO PACK CARTON</td>\n",
       "      <td>3233</td>\n",
       "      <td>432MTD: 17,353</td>\n",
       "      <td>5184MTD: 208,236</td>\n",
       "      <td>R7.86</td>\n",
       "      <td>1454572.0</td>\n",
       "      <td>40738.0</td>\n",
       "    </tr>\n",
       "    <tr>\n",
       "      <th>4</th>\n",
       "      <td>5</td>\n",
       "      <td>20 August 2020</td>\n",
       "      <td>APPLES</td>\n",
       "      <td>12.5KG M6 CARTON</td>\n",
       "      <td>12</td>\n",
       "      <td>0MTD: 286</td>\n",
       "      <td>0MTD: 3,575</td>\n",
       "      <td>R0</td>\n",
       "      <td>16903.0</td>\n",
       "      <td>0.0</td>\n",
       "    </tr>\n",
       "  </tbody>\n",
       "</table>\n",
       "</div>"
      ],
      "text/plain": [
       "   rowid            date commodity                   container  qty_available  \\\n",
       "0      1  20 August 2020  AMADUMBE                 20KG POCKET              2   \n",
       "1      2  20 August 2020    APPLES  10 X 1KG ECONO PACK CARTON             17   \n",
       "2      3  20 August 2020    APPLES          11KG JUMBLE CARTON            343   \n",
       "3      4  20 August 2020    APPLES  12 X 1KG ECONO PACK CARTON           3233   \n",
       "4      5  20 August 2020    APPLES            12.5KG M6 CARTON             12   \n",
       "\n",
       "         qty_sold           kg_sold average_price_per_kg  \\\n",
       "0        0MTD: 97       0MTD: 1,940                   R0   \n",
       "1       1MTD: 547      10MTD: 5,470                  R10   \n",
       "2    17MTD: 3,170    187MTD: 34,870                R6.36   \n",
       "3  432MTD: 17,353  5184MTD: 208,236                R7.86   \n",
       "4       0MTD: 286       0MTD: 3,575                   R0   \n",
       "\n",
       "   MTD_total_value_sold_(R)  total_value_sold_(R)  \n",
       "0                   39870.0                   0.0  \n",
       "1                   41932.0                 100.0  \n",
       "2                  218914.0                1190.0  \n",
       "3                 1454572.0               40738.0  \n",
       "4                   16903.0                   0.0  "
      ]
     },
     "execution_count": 8,
     "metadata": {},
     "output_type": "execute_result"
    }
   ],
   "source": [
    "jhb_con_df_cleaned.head()"
   ]
  },
  {
   "cell_type": "code",
   "execution_count": 9,
   "metadata": {},
   "outputs": [],
   "source": [
    "def rand_value(df, column):\n",
    "    \"\"\"\n",
    "    Takes a dataframe and a column with rand value to be cleaned as arguments, \n",
    "    returns a dataframe, with two new columns with rand value for one day and\n",
    "    Month To Date rand value. The initial column that was added as argument is removed from the dataframe.\n",
    "    \"\"\" \n",
    "    \n",
    "    df[\"MTD_total_value_sold_(R)\"]=np.nan\n",
    "    df[\"total_value_sold_(R)\"]=np.nan\n",
    "    for i in range(len(df[column])):\n",
    "        df[\"MTD_total_value_sold_(R)\"][i]=round(float(df[column][i].split(\"R\")[-1].replace(',','')),2)\n",
    "        df[\"total_value_sold_(R)\"][i]=round(float(df[column][i].split(\"R\")[1].split(\"M\")[0].replace(\",\",\"\")),2)\n",
    "    \n",
    "    df1=df.copy()    \n",
    "    df1.drop(column,axis=1, inplace=True)\n",
    "    return df1"
   ]
  },
  {
   "cell_type": "code",
   "execution_count": 10,
   "metadata": {},
   "outputs": [],
   "source": [
    "# cleaning the rand value column of commodity table and storing it in a new dataframe\n",
    "jhb_comm_df_cleaned=rand_value(jhb_comm_df,\"total_value_sold\")\n",
    "# cleaning the rand value column of the container dataframe and storing\n",
    "jhb_con_df_cleaned=rand_value(jhb_con_df,\"value_sold\")"
   ]
  },
  {
   "cell_type": "code",
   "execution_count": 11,
   "metadata": {},
   "outputs": [],
   "source": [
    "def sold_qty_kg(df,quatity_sold, weight_sold):\n",
    "    \"\"\"\n",
    "    Takes a dataframe and a two column with quantity sold and weight sold to be cleaned as arguments. \n",
    "    Returns a dataframe, with four new columns with measurements for one day and month to date measurements,\n",
    "    of quantity sold and weight sold for one day and Month To Date. The initial columns that were added as argument \n",
    "    are removed from the new dataframe that is returned.\n",
    "    \"\"\" \n",
    "    \n",
    "    df[\"Total_quatity_sold\"]=np.nan\n",
    "    df[\"MTD_Total_quatity_sold\"]=np.nan\n",
    "    df[\"Total_kg_sold\"]=np.nan\n",
    "    df[\"MTD_total_kg_sold\"]=np.nan\n",
    "    for i in range(len(df[quatity_sold])):\n",
    "        df[\"Total_quatity_sold\"][i]=int(df[quatity_sold][i].split(\"M\")[0].replace(\",\",\"\"))\n",
    "        df[\"MTD_Total_quatity_sold\"][i]=int(df[quatity_sold][i].split(\":\")[-1].replace(',',''))\n",
    "        df[\"Total_kg_sold\"][i]=float(df[weight_sold][i].split(\"M\")[0].replace(\",\",\"\"))\n",
    "        df[\"MTD_total_kg_sold\"][i]=float(df[weight_sold][i].split(\":\")[-1].replace(',',''))\n",
    "    df1=df.copy()\n",
    "    df1.drop([quatity_sold,weight_sold],axis=1, inplace=True)\n",
    "    return df1"
   ]
  },
  {
   "cell_type": "code",
   "execution_count": 12,
   "metadata": {},
   "outputs": [],
   "source": [
    "jhb_comm_df_cleaned= sold_qty_kg(jhb_comm_df_cleaned, \"total_qty_sold\",\"total_kg_sold\")\n",
    "jhb_con_df_cleaned= sold_qty_kg(jhb_con_df_cleaned, \"qty_sold\",\"kg_sold\")"
   ]
  },
  {
   "cell_type": "code",
   "execution_count": 13,
   "metadata": {},
   "outputs": [],
   "source": [
    "def to_numeric(df,column):\n",
    "    \"\"\"\n",
    "    Takes a dataframe and one column that have numbers and a comma as a character.\n",
    "    Removes the comma and change the column to numeric.\n",
    "    Returns a dataframe with the column changed to be a numeric column\n",
    "    \"\"\" \n",
    "    for i in range(len(df[column])):\n",
    "        df[column][i]=df[column][i].replace(\"R\",\"\").replace(\",\",\"\")\n",
    "    df[column]= pd.to_numeric(df[column])\n",
    "    return  df"
   ]
  },
  {
   "cell_type": "code",
   "execution_count": 14,
   "metadata": {},
   "outputs": [],
   "source": [
    "# Cleaning Johannesburg Dataframe\n",
    "jhb_comb_df[\"date\"]=pd.to_datetime(jhb_comb_df[\"date\"])\n",
    "jhb_comb_df=to_numeric(jhb_comb_df, \"total_value_sold\")\n",
    "jhb_comb_df=to_numeric(jhb_comb_df, \"average\")\n",
    "jhb_comb_df=to_numeric(jhb_comb_df, \"highest_price\")\n",
    "jhb_comb_df=to_numeric(jhb_comb_df, \"ave_per_kg\")\n",
    "jhb_comb_df=to_numeric(jhb_comb_df, \"highest_price_per_kg\")"
   ]
  },
  {
   "cell_type": "code",
   "execution_count": 15,
   "metadata": {},
   "outputs": [],
   "source": [
    "jhb_con_df_cleaned=to_numeric(jhb_con_df_cleaned, \"average_price_per_kg\")"
   ]
  },
  {
   "cell_type": "code",
   "execution_count": 16,
   "metadata": {},
   "outputs": [],
   "source": [
    "jhb_comm_df_cleaned.to_sql('Joburg_Fresh_produce_commodity_cleaned',  con=engine, index=False, if_exists='append')"
   ]
  },
  {
   "cell_type": "code",
   "execution_count": 17,
   "metadata": {},
   "outputs": [],
   "source": [
    "jhb_con_df_cleaned.to_sql('Joburg_Fresh_produce_container_cleaned',  con=engine, index=False, if_exists='append')"
   ]
  },
  {
   "cell_type": "code",
   "execution_count": 18,
   "metadata": {},
   "outputs": [],
   "source": [
    "jhb_comb_df.to_sql('Joburg_Fresh_produce_combined_cleaned',  con=engine, index=False, if_exists='append')"
   ]
  },
  {
   "cell_type": "code",
   "execution_count": 19,
   "metadata": {},
   "outputs": [],
   "source": [
    "connection.close()"
   ]
  },
  {
   "cell_type": "code",
   "execution_count": null,
   "metadata": {},
   "outputs": [],
   "source": []
  }
 ],
 "metadata": {
  "kernelspec": {
   "display_name": "Python 3",
   "language": "python",
   "name": "python3"
  },
  "language_info": {
   "codemirror_mode": {
    "name": "ipython",
    "version": 3
   },
   "file_extension": ".py",
   "mimetype": "text/x-python",
   "name": "python",
   "nbconvert_exporter": "python",
   "pygments_lexer": "ipython3",
   "version": "3.7.6"
  }
 },
 "nbformat": 4,
 "nbformat_minor": 4
}
