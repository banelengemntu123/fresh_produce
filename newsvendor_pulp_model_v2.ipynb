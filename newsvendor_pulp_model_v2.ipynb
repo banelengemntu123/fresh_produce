{
  "nbformat": 4,
  "nbformat_minor": 0,
  "metadata": {
    "hide_input": false,
    "kernelspec": {
      "display_name": "Python 3",
      "language": "python",
      "name": "python3"
    },
    "toc": {
      "base_numbering": 1,
      "nav_menu": {},
      "number_sections": true,
      "sideBar": true,
      "skip_h1_title": false,
      "title_cell": "Table of Contents",
      "title_sidebar": "Contents",
      "toc_cell": false,
      "toc_position": {},
      "toc_section_display": true,
      "toc_window_display": false
    },
    "colab": {
      "name": "newsvendor_pulp_v2.ipynb",
      "provenance": [],
      "include_colab_link": true
    }
  },
  "cells": [
    {
      "cell_type": "markdown",
      "metadata": {
        "id": "view-in-github",
        "colab_type": "text"
      },
      "source": [
        "<a href=\"https://colab.research.google.com/github/scmosoeu/fresh_produce/blob/master/newsvendor_pulp_model_v2.ipynb\" target=\"_parent\"><img src=\"https://colab.research.google.com/assets/colab-badge.svg\" alt=\"Open In Colab\"/></a>"
      ]
    },
    {
      "cell_type": "markdown",
      "metadata": {
        "id": "tNMtFtNFWVaK"
      },
      "source": [
        "### 1) GET LIBRARY"
      ]
    },
    {
      "cell_type": "code",
      "metadata": {
        "id": "Ji4n0sxtWVaP"
      },
      "source": [
        "import numpy as np\n",
        "import random\n",
        "import matplotlib.pyplot as plt\n",
        "import seaborn as sns\n",
        "from sklearn.model_selection import train_test_split\n",
        "from sklearn.ensemble import RandomForestRegressor\n",
        "from sklearn.linear_model import LinearRegression\n",
        "import pandas as pd"
      ],
      "execution_count": 448,
      "outputs": []
    },
    {
      "cell_type": "markdown",
      "metadata": {
        "id": "DnuJUOOVWVa0"
      },
      "source": [
        "### 2) GENERATE DATA"
      ]
    },
    {
      "cell_type": "code",
      "metadata": {
        "id": "PavoCVAOWVa3"
      },
      "source": [
        "np.random.seed(123)"
      ],
      "execution_count": 449,
      "outputs": []
    },
    {
      "cell_type": "code",
      "metadata": {
        "id": "sjUWUr7EWVbA"
      },
      "source": [
        "def generate_toy_data(n, lam, a, b):\n",
        "    '''Generate random number from poisson distribution.\n",
        "    Input:\n",
        "    n = number of data points to generate\n",
        "    lam = lambda of the poisson distribution\n",
        "    a, b = any positive coefficient (since we want to simulate demand) \n",
        "    \n",
        "    Output:\n",
        "    x = independent variable\n",
        "    y = demand for toy data that results from a*x + b, with x ~ poisson(lam)\n",
        "    '''\n",
        "    x = np.random.poisson(lam, n)\n",
        "    x = x.reshape((-1,1))\n",
        "    \n",
        "    y = a*x + b\n",
        "    y = y.reshape((-1,1))\n",
        "    y = y.astype(int)\n",
        "    \n",
        "    return x, y"
      ],
      "execution_count": 450,
      "outputs": []
    },
    {
      "cell_type": "code",
      "metadata": {
        "id": "TRMyeZSjWVbI",
        "outputId": "6d475b4c-310c-44de-ab3a-9ef8e2865f6c",
        "colab": {
          "base_uri": "https://localhost:8080/",
          "height": 317
        }
      },
      "source": [
        "# generate toy data\n",
        "low_demand=0.25\n",
        "medium_demand=0.50\n",
        "high_demand=0.75\n",
        "x, y = generate_toy_data(1000, 100, low_demand,2)\n",
        "\n",
        "# visualize toy data\n",
        "plt.figure()\n",
        "sns.distplot(y)\n",
        "plt.show()"
      ],
      "execution_count": 451,
      "outputs": [
        {
          "output_type": "stream",
          "text": [
            "/usr/local/lib/python3.6/dist-packages/seaborn/distributions.py:2551: FutureWarning: `distplot` is a deprecated function and will be removed in a future version. Please adapt your code to use either `displot` (a figure-level function with similar flexibility) or `histplot` (an axes-level function for histograms).\n",
            "  warnings.warn(msg, FutureWarning)\n"
          ],
          "name": "stderr"
        },
        {
          "output_type": "display_data",
          "data": {
            "image/png": "[encoded data removed]",
            "text/plain": [
              "<Figure size 432x288 with 1 Axes>"
            ]
          },
          "metadata": {
            "tags": [],
            "needs_background": "light"
          }
        }
      ]
    },
    {
      "cell_type": "code",
      "metadata": {
        "id": "PRkBzhNnWVbN",
        "outputId": "a73be53c-a2f9-4721-fd89-8766e97544f8",
        "colab": {
          "base_uri": "https://localhost:8080/",
          "height": 265
        }
      },
      "source": [
        "plt.figure()\n",
        "plt.scatter(x, y)\n",
        "plt.show()"
      ],
      "execution_count": 452,
      "outputs": [
        {
          "output_type": "display_data",
          "data": {
            "image/png": "[encoded data removed]",
            "text/plain": [
              "<Figure size 432x288 with 1 Axes>"
            ]
          },
          "metadata": {
            "tags": [],
            "needs_background": "light"
          }
        }
      ]
    },
    {
      "cell_type": "markdown",
      "metadata": {
        "id": "74NZvs6HWVbR"
      },
      "source": [
        "### 3) IMPLEMENT SIMPLE PREDICTION"
      ]
    },
    {
      "cell_type": "code",
      "metadata": {
        "id": "gnVWwvRWWVbS"
      },
      "source": [
        "# split data to training and testing set\n",
        "train_x, test_x, train_y, test_y = train_test_split(x, y, test_size=0.2)"
      ],
      "execution_count": 453,
      "outputs": []
    },
    {
      "cell_type": "code",
      "metadata": {
        "id": "RCLNtn4kWVbW"
      },
      "source": [
        "df_train = pd.DataFrame({'train_x': train_x.flatten(), 'train_y': train_y.flatten()})\n",
        "df_test = pd.DataFrame({'test_x': test_x.flatten(), 'test_y': test_y.flatten()})"
      ],
      "execution_count": 454,
      "outputs": []
    },
    {
      "cell_type": "markdown",
      "metadata": {
        "id": "0R1ZyaYRWVbb"
      },
      "source": [
        "#### a) RANDOM FOREST"
      ]
    },
    {
      "cell_type": "code",
      "metadata": {
        "id": "yL6wXPrtWVbc",
        "outputId": "acc3f882-6e0c-4d49-e5fc-2ea26c6479d7",
        "colab": {
          "base_uri": "https://localhost:8080/",
          "height": 183
        }
      },
      "source": [
        "rf = RandomForestRegressor(n_estimators = 1000, random_state = 42)\n",
        "rf.fit(train_x, train_y)"
      ],
      "execution_count": 455,
      "outputs": [
        {
          "output_type": "stream",
          "text": [
            "/usr/local/lib/python3.6/dist-packages/ipykernel_launcher.py:2: DataConversionWarning: A column-vector y was passed when a 1d array was expected. Please change the shape of y to (n_samples,), for example using ravel().\n",
            "  \n"
          ],
          "name": "stderr"
        },
        {
          "output_type": "execute_result",
          "data": {
            "text/plain": [
              "RandomForestRegressor(bootstrap=True, ccp_alpha=0.0, criterion='mse',\n",
              "                      max_depth=None, max_features='auto', max_leaf_nodes=None,\n",
              "                      max_samples=None, min_impurity_decrease=0.0,\n",
              "                      min_impurity_split=None, min_samples_leaf=1,\n",
              "                      min_samples_split=2, min_weight_fraction_leaf=0.0,\n",
              "                      n_estimators=1000, n_jobs=None, oob_score=False,\n",
              "                      random_state=42, verbose=0, warm_start=False)"
            ]
          },
          "metadata": {
            "tags": []
          },
          "execution_count": 455
        }
      ]
    },
    {
      "cell_type": "code",
      "metadata": {
        "id": "9tV1XQ8zWVbh",
        "outputId": "8da2e1e6-5fde-46c7-c32f-e2536b1135e7",
        "colab": {
          "base_uri": "https://localhost:8080/",
          "height": 33
        }
      },
      "source": [
        "test_y_rfpred = (rf.predict(test_x)).astype(int)\n",
        "err_rf = abs(test_y_rfpred - test_y)\n",
        "print('Mean Absolute Error:', round(np.mean(err_rf), 2), 'degrees.')"
      ],
      "execution_count": 456,
      "outputs": [
        {
          "output_type": "stream",
          "text": [
            "Mean Absolute Error: 2.86 degrees.\n"
          ],
          "name": "stdout"
        }
      ]
    },
    {
      "cell_type": "markdown",
      "metadata": {
        "id": "J-zXid7zWVbl"
      },
      "source": [
        "#### b) LINEAR REGRESSION"
      ]
    },
    {
      "cell_type": "code",
      "metadata": {
        "id": "Q6JdjYLjWVbm",
        "outputId": "98a832aa-e4b0-4609-de2e-4dbcb3fed13f",
        "colab": {
          "base_uri": "https://localhost:8080/",
          "height": 33
        }
      },
      "source": [
        "lr = LinearRegression()\n",
        "lr.fit(train_x, train_y)"
      ],
      "execution_count": 457,
      "outputs": [
        {
          "output_type": "execute_result",
          "data": {
            "text/plain": [
              "LinearRegression(copy_X=True, fit_intercept=True, n_jobs=None, normalize=False)"
            ]
          },
          "metadata": {
            "tags": []
          },
          "execution_count": 457
        }
      ]
    },
    {
      "cell_type": "code",
      "metadata": {
        "id": "sLpDA3m8WVbp",
        "outputId": "6d53aea6-e80d-4514-8360-ddf7ac9153bb",
        "colab": {
          "base_uri": "https://localhost:8080/",
          "height": 33
        }
      },
      "source": [
        "test_y_lrpred = (rf.predict(test_x)).astype(int)\n",
        "err_lr = abs(test_y_lrpred - test_y)\n",
        "print('Mean Absolute Error:', round(np.mean(err_lr), 2), 'degrees.')"
      ],
      "execution_count": 458,
      "outputs": [
        {
          "output_type": "stream",
          "text": [
            "Mean Absolute Error: 2.86 degrees.\n"
          ],
          "name": "stdout"
        }
      ]
    },
    {
      "cell_type": "code",
      "metadata": {
        "id": "xxzhfsMRWVbt",
        "outputId": "f9a9ec7b-1228-4245-a5db-17afe22847a9",
        "colab": {
          "base_uri": "https://localhost:8080/",
          "height": 50
        }
      },
      "source": [
        "# check coefficient\n",
        "print(lr.coef_)\n",
        "print(lr.intercept_)"
      ],
      "execution_count": 459,
      "outputs": [
        {
          "output_type": "stream",
          "text": [
            "[[0.24974107]]\n",
            "[1.63394853]\n"
          ],
          "name": "stdout"
        }
      ]
    },
    {
      "cell_type": "markdown",
      "metadata": {
        "id": "fxvDYo-8WVbx"
      },
      "source": [
        "#### c) SUMMARIZE RESULT & CHECK GRAPH (RANDOM FOREST & LINREG)"
      ]
    },
    {
      "cell_type": "code",
      "metadata": {
        "id": "tvvHAnWtWVbx",
        "outputId": "96386ab5-da90-42f6-9307-af724ed1c739",
        "colab": {
          "base_uri": "https://localhost:8080/",
          "height": 277
        }
      },
      "source": [
        "df_summ = pd.DataFrame({'test_x': test_x.flatten(),\n",
        "                        'test_y': test_y.flatten(), \n",
        "                        'test_y_rfpred': test_y_rfpred.flatten(), \n",
        "                        'test_y_lrpred': test_y_lrpred.flatten()})\n",
        "df_summ['diff_rf_actual'] = df_summ['test_y_rfpred'] - df_summ['test_y']\n",
        "df_summ['diff_lr_actual'] = df_summ['test_y_lrpred'] - df_summ['test_y']\n",
        "\n",
        "# toy data is simple, hence prediction is rather powerful as we only have few missed prediction\n",
        "# even so, in this kind of cases:\n",
        "# --> we will lose potential profit if prediction < demand\n",
        "# --> we will incur unnecessary cost if prediction > demand as we cannot sell the remaining goods at selling price \n",
        "df_summ[(df_summ['diff_rf_actual'] != 0) | (df_summ['diff_lr_actual'] != 0)] "
      ],
      "execution_count": 460,
      "outputs": [
        {
          "output_type": "execute_result",
          "data": {
            "text/html": [
              "<div>\n",
              "<style scoped>\n",
              "    .dataframe tbody tr th:only-of-type {\n",
              "        vertical-align: middle;\n",
              "    }\n",
              "\n",
              "    .dataframe tbody tr th {\n",
              "        vertical-align: top;\n",
              "    }\n",
              "\n",
              "    .dataframe thead th {\n",
              "        text-align: right;\n",
              "    }\n",
              "</style>\n",
              "<table border=\"1\" class=\"dataframe\">\n",
              "  <thead>\n",
              "    <tr style=\"text-align: right;\">\n",
              "      <th></th>\n",
              "      <th>test_x</th>\n",
              "      <th>test_y</th>\n",
              "      <th>test_y_rfpred</th>\n",
              "      <th>test_y_lrpred</th>\n",
              "      <th>diff_rf_actual</th>\n",
              "      <th>diff_lr_actual</th>\n",
              "    </tr>\n",
              "  </thead>\n",
              "  <tbody>\n",
              "    <tr>\n",
              "      <th>8</th>\n",
              "      <td>125</td>\n",
              "      <td>33</td>\n",
              "      <td>32</td>\n",
              "      <td>32</td>\n",
              "      <td>-1</td>\n",
              "      <td>-1</td>\n",
              "    </tr>\n",
              "    <tr>\n",
              "      <th>12</th>\n",
              "      <td>127</td>\n",
              "      <td>33</td>\n",
              "      <td>32</td>\n",
              "      <td>32</td>\n",
              "      <td>-1</td>\n",
              "      <td>-1</td>\n",
              "    </tr>\n",
              "    <tr>\n",
              "      <th>25</th>\n",
              "      <td>124</td>\n",
              "      <td>33</td>\n",
              "      <td>32</td>\n",
              "      <td>32</td>\n",
              "      <td>-1</td>\n",
              "      <td>-1</td>\n",
              "    </tr>\n",
              "    <tr>\n",
              "      <th>26</th>\n",
              "      <td>129</td>\n",
              "      <td>34</td>\n",
              "      <td>33</td>\n",
              "      <td>33</td>\n",
              "      <td>-1</td>\n",
              "      <td>-1</td>\n",
              "    </tr>\n",
              "    <tr>\n",
              "      <th>27</th>\n",
              "      <td>129</td>\n",
              "      <td>34</td>\n",
              "      <td>33</td>\n",
              "      <td>33</td>\n",
              "      <td>-1</td>\n",
              "      <td>-1</td>\n",
              "    </tr>\n",
              "    <tr>\n",
              "      <th>33</th>\n",
              "      <td>116</td>\n",
              "      <td>31</td>\n",
              "      <td>30</td>\n",
              "      <td>30</td>\n",
              "      <td>-1</td>\n",
              "      <td>-1</td>\n",
              "    </tr>\n",
              "    <tr>\n",
              "      <th>104</th>\n",
              "      <td>120</td>\n",
              "      <td>32</td>\n",
              "      <td>31</td>\n",
              "      <td>31</td>\n",
              "      <td>-1</td>\n",
              "      <td>-1</td>\n",
              "    </tr>\n",
              "    <tr>\n",
              "      <th>197</th>\n",
              "      <td>116</td>\n",
              "      <td>31</td>\n",
              "      <td>30</td>\n",
              "      <td>30</td>\n",
              "      <td>-1</td>\n",
              "      <td>-1</td>\n",
              "    </tr>\n",
              "  </tbody>\n",
              "</table>\n",
              "</div>"
            ],
            "text/plain": [
              "     test_x  test_y  ...  diff_rf_actual  diff_lr_actual\n",
              "8       125      33  ...              -1              -1\n",
              "12      127      33  ...              -1              -1\n",
              "25      124      33  ...              -1              -1\n",
              "26      129      34  ...              -1              -1\n",
              "27      129      34  ...              -1              -1\n",
              "33      116      31  ...              -1              -1\n",
              "104     120      32  ...              -1              -1\n",
              "197     116      31  ...              -1              -1\n",
              "\n",
              "[8 rows x 6 columns]"
            ]
          },
          "metadata": {
            "tags": []
          },
          "execution_count": 460
        }
      ]
    },
    {
      "cell_type": "code",
      "metadata": {
        "id": "PqCzrdDvWVb1",
        "outputId": "111a33c4-d8fb-408b-8489-78ad2cdf029e",
        "colab": {
          "base_uri": "https://localhost:8080/",
          "height": 398
        }
      },
      "source": [
        "plt.figure()\n",
        "\n",
        "components = [test_y, test_y_rfpred, test_y_lrpred]\n",
        "labels=['test_y', 'test_y_rfpred', 'test_y_lrpred']\n",
        "\n",
        "fig, axes = plt.subplots(1)\n",
        "for component in components:\n",
        "    sns.distplot(component)\n",
        "\n",
        "axes.legend(labels=labels)    \n",
        "plt.show()"
      ],
      "execution_count": 461,
      "outputs": [
        {
          "output_type": "stream",
          "text": [
            "/usr/local/lib/python3.6/dist-packages/seaborn/distributions.py:2551: FutureWarning: `distplot` is a deprecated function and will be removed in a future version. Please adapt your code to use either `displot` (a figure-level function with similar flexibility) or `histplot` (an axes-level function for histograms).\n",
            "  warnings.warn(msg, FutureWarning)\n",
            "/usr/local/lib/python3.6/dist-packages/seaborn/distributions.py:2551: FutureWarning: `distplot` is a deprecated function and will be removed in a future version. Please adapt your code to use either `displot` (a figure-level function with similar flexibility) or `histplot` (an axes-level function for histograms).\n",
            "  warnings.warn(msg, FutureWarning)\n",
            "/usr/local/lib/python3.6/dist-packages/seaborn/distributions.py:2551: FutureWarning: `distplot` is a deprecated function and will be removed in a future version. Please adapt your code to use either `displot` (a figure-level function with similar flexibility) or `histplot` (an axes-level function for histograms).\n",
            "  warnings.warn(msg, FutureWarning)\n"
          ],
          "name": "stderr"
        },
        {
          "output_type": "display_data",
          "data": {
            "text/plain": [
              "<Figure size 432x288 with 0 Axes>"
            ]
          },
          "metadata": {
            "tags": []
          }
        },
        {
          "output_type": "display_data",
          "data": {
            "image/png": "[encoded data removed]",
            "text/plain": [
              "<Figure size 432x288 with 1 Axes>"
            ]
          },
          "metadata": {
            "tags": [],
            "needs_background": "light"
          }
        }
      ]
    },
    {
      "cell_type": "markdown",
      "metadata": {
        "id": "0O66xlDPWVb5"
      },
      "source": [
        "### 4) STOCHASTIC PROGRAMMING\n",
        "#### a) DISCRETIZING DEMAND: TO CAPTURE PROBABILITY OF EACH POSSIBLE SCENARIO"
      ]
    },
    {
      "cell_type": "code",
      "metadata": {
        "id": "RV1j02AGWVb5"
      },
      "source": [
        "# capturing probability of each possible scenario can be done in many ways, \n",
        "# ranging from simple descriptive analytics to more complicated things like\n",
        "# moment matching, monte carlo simulation, etc.\n",
        "# we do the easiest here: do clustering to generate scenario (max 100 scenario for now)\n",
        "\n",
        "from sklearn.cluster import KMeans"
      ],
      "execution_count": 462,
      "outputs": []
    },
    {
      "cell_type": "code",
      "metadata": {
        "id": "6teFDCaWWVb9"
      },
      "source": [
        "def cluster_1d(df, max_cluster=100):\n",
        "    '''Cluster data into n different cluster where n is the minimum between unique scenario and max_cluster.\n",
        "    Input:\n",
        "    df = dataframe column containing scenario to cluster\n",
        "    max_cluster = number of maximum cluster we want to have (default=100)\n",
        "    \n",
        "    Output:\n",
        "    cluster_centers_df = mapping between cluster labels and its centers\n",
        "    cluster_labels_df = mapping between df and its cluster labels   \n",
        "    '''\n",
        "    km = KMeans(n_clusters=min(len(df.unique()),max_cluster))\n",
        "    km.fit(df.values.reshape(-1,1)) \n",
        "    \n",
        "    # get information about center\n",
        "    cluster_centers_df = pd.DataFrame(np.array(km.cluster_centers_.reshape(1,-1)[0].tolist()))\n",
        "    cluster_centers_df.columns = ['cluster_centers']\n",
        "    cluster_centers_df['labels'] = range(len(cluster_centers_df))\n",
        "    \n",
        "    # get information about labels and add information about center\n",
        "    cluster_labels_df = pd.DataFrame(np.array(km.labels_))\n",
        "    cluster_labels_df.columns = ['labels']\n",
        "    cluster_labels_df = pd.concat([df.reset_index(drop=True), cluster_labels_df], axis=1)\n",
        "    cluster_labels_df = pd.merge(cluster_labels_df, cluster_centers_df, on='labels', how='left')\n",
        "    \n",
        "    return cluster_centers_df, cluster_labels_df"
      ],
      "execution_count": 463,
      "outputs": []
    },
    {
      "cell_type": "code",
      "metadata": {
        "id": "Sp28m2xBWVcA"
      },
      "source": [
        "def cluster_summ(df):\n",
        "    '''Summarize probability for each scenario by referring to result from cluster_1d.\n",
        "    Input:\n",
        "    df = dataframe column containing scenario to cluster\n",
        "    \n",
        "    Output:\n",
        "    cluster_proportion_df = dataframe containing complete information about probability for each scenario\n",
        "    demand = possible scenario to happen\n",
        "    weight = probability of the possible scenario to happen\n",
        "    scenarios = indexing for demand\n",
        "    '''\n",
        "    cluster_centers_df, cluster_labels_df = cluster_1d(df)\n",
        "\n",
        "    count_label = cluster_labels_df[['labels']].count().values[0]\n",
        "    cluster_proportion_df = cluster_labels_df[['cluster_centers', 'labels']].groupby('cluster_centers').count().reset_index(drop=False)\n",
        "    cluster_proportion_df['count_labels'] = count_label\n",
        "    cluster_proportion_df['proportion_labels'] = cluster_proportion_df['labels'] / cluster_proportion_df['count_labels']\n",
        "    cluster_proportion_df['index'] = range(1,cluster_proportion_df.shape[0] + 1)\n",
        "    cluster_proportion_df['cluster_centers'] = np.round(cluster_proportion_df['cluster_centers'], decimals=(3))\n",
        "    \n",
        "    demand = pd.Series(cluster_proportion_df['cluster_centers'].values, index=cluster_proportion_df['index'].values).to_dict()\n",
        "    weight = pd.Series(cluster_proportion_df['proportion_labels'].values, index=cluster_proportion_df['index'].values).to_dict()\n",
        "    scenarios = range(1,len(cluster_proportion_df.cluster_centers.values)+1)\n",
        "    \n",
        "    return cluster_proportion_df, demand, weight, scenarios"
      ],
      "execution_count": 464,
      "outputs": []
    },
    {
      "cell_type": "code",
      "metadata": {
        "id": "L13kfGoUWVcE",
        "outputId": "ece81912-ce07-4b7e-e443-95c463e0f3c3",
        "colab": {
          "base_uri": "https://localhost:8080/",
          "height": 86
        }
      },
      "source": [
        "cluster_proportion_df, demand, weight, scenarios = cluster_summ(df=df_train['train_y'])\n",
        "\n",
        "print(demand)\n",
        "print(weight)\n",
        "print(scenarios)"
      ],
      "execution_count": 465,
      "outputs": [
        {
          "output_type": "stream",
          "text": [
            "{1: 18.0, 2: 20.0, 3: 21.0, 4: 22.0, 5: 23.0, 6: 24.0, 7: 25.0, 8: 26.0, 9: 27.0, 10: 28.0, 11: 29.0, 12: 30.0, 13: 31.0, 14: 32.0, 15: 33.0, 16: 35.0, 17: 38.0}\n",
            "{1: 0.00125, 2: 0.00375, 3: 0.01125, 4: 0.0275, 5: 0.0575, 6: 0.0975, 7: 0.155, 8: 0.15875, 9: 0.14625, 10: 0.1325, 11: 0.09125, 12: 0.05375, 13: 0.03375, 14: 0.025, 15: 0.0025, 16: 0.00125, 17: 0.00125}\n",
            "range(1, 18)\n"
          ],
          "name": "stdout"
        }
      ]
    },
    {
      "cell_type": "markdown",
      "metadata": {
        "id": "uvx0Jt_GWVcJ"
      },
      "source": [
        "#### b) USING PULP TO SOLVE STOCHASTIC PROGRAMMING"
      ]
    },
    {
      "cell_type": "code",
      "metadata": {
        "id": "4gv1Dfk7ms_f",
        "outputId": "52c986cc-3f83-4bc4-8c8b-f833a14af4a4",
        "colab": {
          "base_uri": "https://localhost:8080/",
          "height": 82
        }
      },
      "source": [
        "!pip install pulp"
      ],
      "execution_count": 466,
      "outputs": [
        {
          "output_type": "stream",
          "text": [
            "Requirement already satisfied: pulp in /usr/local/lib/python3.6/dist-packages (2.3)\n",
            "Requirement already satisfied: amply>=0.1.2 in /usr/local/lib/python3.6/dist-packages (from pulp) (0.1.2)\n",
            "Requirement already satisfied: pyparsing in /usr/local/lib/python3.6/dist-packages (from amply>=0.1.2->pulp) (2.4.7)\n",
            "Requirement already satisfied: docutils>=0.3 in /usr/local/lib/python3.6/dist-packages (from amply>=0.1.2->pulp) (0.16)\n"
          ],
          "name": "stdout"
        }
      ]
    },
    {
      "cell_type": "code",
      "metadata": {
        "id": "ab6qs1t3WVcK",
        "outputId": "b9207644-2fe0-42b4-b26f-44be07583dbe",
        "colab": {
          "base_uri": "https://localhost:8080/",
          "height": 66
        }
      },
      "source": [
        "from pulp import *\n",
        "\n",
        "N = int(input(\"How many items are you able to purchase this week?\"))         # maximum item to purchase\n",
        "cost_price = int(input(\"Amount paid to the supplier for each item for this specific product type?\")) # amount paid to the supplier\n",
        "sell_price = int(input(\"Amount paid by customer?\")) # amount paid by the customer\n",
        "waste_price = 0 # amount paid if we sell the remaining goods (ie. when we have more stock as prediction > demand)"
      ],
      "execution_count": 467,
      "outputs": [
        {
          "output_type": "stream",
          "text": [
            "How many items are you able to purchase this week?100\n",
            "Amount paid to the supplier for each item for this specific product type?10\n",
            "Amount paid by customer?24\n"
          ],
          "name": "stdout"
        }
      ]
    },
    {
      "cell_type": "code",
      "metadata": {
        "id": "ORgbI_F1WVcN",
        "outputId": "bc521adc-d48e-4f08-81e1-4179cd5dfa03",
        "colab": {
          "base_uri": "https://localhost:8080/",
          "height": 895
        }
      },
      "source": [
        "##########################################\n",
        "# DEFINE VARIABLES\n",
        "##########################################\n",
        "\n",
        "M = LpProblem(\"Newsvendor1\", LpMaximize)\n",
        "\n",
        "x = LpVariable('x', lowBound=0)\n",
        "z = LpVariable.dicts('z', scenarios, 0)\n",
        "\n",
        "\n",
        "##########################################\n",
        "# DEFINE MODELS: CONSTRAINTS\n",
        "##########################################\n",
        "\n",
        "for i in scenarios:\n",
        "    print(demand[i])\n",
        "    print(weight[i])\n",
        "    M += x <= N\n",
        "    M += z[i] <= x\n",
        "    M += z[i] <= demand[i]\n",
        "\n",
        "    \n",
        "##########################################\n",
        "# DEFINE MODELS: OBJECTIVE\n",
        "##########################################\n",
        "\n",
        "M += sum(weight[i] * (sell_price * z[i] + waste_price * (x - z[i])) for i in scenarios) - (cost_price * x) \n",
        "M.solve()\n",
        "\n",
        "\n",
        "##########################################\n",
        "# PRINT RESULTS\n",
        "##########################################\n",
        "\n",
        "print(\"Status = %s\" % LpStatus[M.status])\n",
        "\n",
        "print(\"%s = %f\" % (x.name, x.varValue))\n",
        "for i in scenarios:\n",
        "    print(\"%s = %f\" % (z[i].name, z[i].varValue))\n",
        "print(\"Objective = %f\" % (M.objective.value()))\n",
        "\n"
      ],
      "execution_count": 468,
      "outputs": [
        {
          "output_type": "stream",
          "text": [
            "18.0\n",
            "0.00125\n",
            "20.0\n",
            "0.00375\n",
            "21.0\n",
            "0.01125\n",
            "22.0\n",
            "0.0275\n",
            "23.0\n",
            "0.0575\n",
            "24.0\n",
            "0.0975\n",
            "25.0\n",
            "0.155\n",
            "26.0\n",
            "0.15875\n",
            "27.0\n",
            "0.14625\n",
            "28.0\n",
            "0.1325\n",
            "29.0\n",
            "0.09125\n",
            "30.0\n",
            "0.05375\n",
            "31.0\n",
            "0.03375\n",
            "32.0\n",
            "0.025\n",
            "33.0\n",
            "0.0025\n",
            "35.0\n",
            "0.00125\n",
            "38.0\n",
            "0.00125\n",
            "Status = Optimal\n",
            "x = 27.000000\n",
            "z_1 = 18.000000\n",
            "z_2 = 20.000000\n",
            "z_3 = 21.000000\n",
            "z_4 = 22.000000\n",
            "z_5 = 23.000000\n",
            "z_6 = 24.000000\n",
            "z_7 = 25.000000\n",
            "z_8 = 26.000000\n",
            "z_9 = 27.000000\n",
            "z_10 = 27.000000\n",
            "z_11 = 27.000000\n",
            "z_12 = 27.000000\n",
            "z_13 = 27.000000\n",
            "z_14 = 27.000000\n",
            "z_15 = 27.000000\n",
            "z_16 = 27.000000\n",
            "z_17 = 27.000000\n",
            "Objective = 348.390000\n"
          ],
          "name": "stdout"
        }
      ]
    },
    {
      "cell_type": "markdown",
      "metadata": {
        "id": "4rOG7qzPWVcQ"
      },
      "source": [
        "#### c) CHECK AS TABLE (MANUAL CALCULATION): TO SEE CLEARLY WHAT HAPPENS"
      ]
    },
    {
      "cell_type": "code",
      "metadata": {
        "id": "w_lQgFv2WVcQ"
      },
      "source": [
        "def result_summ(cluster_proportion_df, demand, weight, sell_price, cost_price, waste_price):\n",
        "    '''Summarize result by comparing possible scenario (example_df) with its possible execution (purchase_df).\n",
        "    We want to look how much profit we can get given a pair of scenario and its execution, \n",
        "    weighted with the probability of each scenario to happen.\n",
        "    Input:\n",
        "    cluster_proportion_df = dataframe containing complete information about probability for each scenario\n",
        "    demand = possible scenario to happen\n",
        "    weight = probability of the possible scenario to happen\n",
        "    cost_price = amount paid to the supplier\n",
        "    sell_price = amount paid by the customer\n",
        "    waste_price = amount paid if we sell the remaining goods\n",
        "\n",
        "    Output:\n",
        "    example_df = dataframe after cross join between possible scenario and possible execution\n",
        "    example_df_summ = summary of example_df to obtain total expected profit per possible execution\n",
        "    '''\n",
        "    \n",
        "    # get the basic df: purchase_df for the demand and example_df for the possible scenario execution\n",
        "    purchase_df = pd.DataFrame({'key': 0, 'item_to_purchase': demand})\n",
        "    example_df = pd.DataFrame({'key': 0, 'item_to_sell': cluster_proportion_df['cluster_centers'], \n",
        "                               'probability': cluster_proportion_df['proportion_labels']})\n",
        "    example_df = example_df.merge(purchase_df, on='key', how='outer')\n",
        "    example_df = example_df.drop('key', axis=1).sort_values(['item_to_purchase', 'item_to_sell'])\n",
        "    \n",
        "    example_df['total_revenue'] = example_df[['item_to_sell', 'item_to_purchase']].min(axis=1) * sell_price\n",
        "    example_df['total_cost'] = example_df['item_to_purchase'] * cost_price\n",
        "    example_df['total_profit'] = (example_df['total_revenue'] - example_df['total_cost'])\n",
        "    \n",
        "    example_df['total_weighted_profit'] = example_df['probability'] * example_df['total_profit']\n",
        "    example_df['total_cumsum_profit'] = example_df.groupby('item_to_purchase')['total_weighted_profit'].cumsum()\n",
        "\n",
        "    example_df_summ = example_df.groupby('item_to_purchase', as_index=False)['total_weighted_profit'].sum()\n",
        "    \n",
        "    return example_df, example_df_summ"
      ],
      "execution_count": 469,
      "outputs": []
    },
    {
      "cell_type": "code",
      "metadata": {
        "id": "2_PJaTcMWVcT",
        "outputId": "9c7e578d-9b0b-4ff0-9211-9b14bd98aaeb",
        "colab": {
          "base_uri": "https://localhost:8080/",
          "height": 391
        }
      },
      "source": [
        "example_df, example_df_summ = result_summ(cluster_proportion_df=cluster_proportion_df, demand=demand, weight=weight, \n",
        "                                          sell_price=sell_price, cost_price=cost_price, waste_price=waste_price)\n",
        "example_df"
      ],
      "execution_count": 470,
      "outputs": [
        {
          "output_type": "execute_result",
          "data": {
            "text/html": [
              "<div>\n",
              "<style scoped>\n",
              "    .dataframe tbody tr th:only-of-type {\n",
              "        vertical-align: middle;\n",
              "    }\n",
              "\n",
              "    .dataframe tbody tr th {\n",
              "        vertical-align: top;\n",
              "    }\n",
              "\n",
              "    .dataframe thead th {\n",
              "        text-align: right;\n",
              "    }\n",
              "</style>\n",
              "<table border=\"1\" class=\"dataframe\">\n",
              "  <thead>\n",
              "    <tr style=\"text-align: right;\">\n",
              "      <th></th>\n",
              "      <th>item_to_sell</th>\n",
              "      <th>probability</th>\n",
              "      <th>item_to_purchase</th>\n",
              "      <th>total_revenue</th>\n",
              "      <th>total_cost</th>\n",
              "      <th>total_profit</th>\n",
              "      <th>total_weighted_profit</th>\n",
              "      <th>total_cumsum_profit</th>\n",
              "    </tr>\n",
              "  </thead>\n",
              "  <tbody>\n",
              "    <tr>\n",
              "      <th>0</th>\n",
              "      <td>18.0</td>\n",
              "      <td>0.00125</td>\n",
              "      <td>18.0</td>\n",
              "      <td>432.0</td>\n",
              "      <td>180.0</td>\n",
              "      <td>252.0</td>\n",
              "      <td>0.315</td>\n",
              "      <td>0.315</td>\n",
              "    </tr>\n",
              "    <tr>\n",
              "      <th>17</th>\n",
              "      <td>20.0</td>\n",
              "      <td>0.00375</td>\n",
              "      <td>18.0</td>\n",
              "      <td>432.0</td>\n",
              "      <td>180.0</td>\n",
              "      <td>252.0</td>\n",
              "      <td>0.945</td>\n",
              "      <td>1.260</td>\n",
              "    </tr>\n",
              "    <tr>\n",
              "      <th>34</th>\n",
              "      <td>21.0</td>\n",
              "      <td>0.01125</td>\n",
              "      <td>18.0</td>\n",
              "      <td>432.0</td>\n",
              "      <td>180.0</td>\n",
              "      <td>252.0</td>\n",
              "      <td>2.835</td>\n",
              "      <td>4.095</td>\n",
              "    </tr>\n",
              "    <tr>\n",
              "      <th>51</th>\n",
              "      <td>22.0</td>\n",
              "      <td>0.02750</td>\n",
              "      <td>18.0</td>\n",
              "      <td>432.0</td>\n",
              "      <td>180.0</td>\n",
              "      <td>252.0</td>\n",
              "      <td>6.930</td>\n",
              "      <td>11.025</td>\n",
              "    </tr>\n",
              "    <tr>\n",
              "      <th>68</th>\n",
              "      <td>23.0</td>\n",
              "      <td>0.05750</td>\n",
              "      <td>18.0</td>\n",
              "      <td>432.0</td>\n",
              "      <td>180.0</td>\n",
              "      <td>252.0</td>\n",
              "      <td>14.490</td>\n",
              "      <td>25.515</td>\n",
              "    </tr>\n",
              "    <tr>\n",
              "      <th>...</th>\n",
              "      <td>...</td>\n",
              "      <td>...</td>\n",
              "      <td>...</td>\n",
              "      <td>...</td>\n",
              "      <td>...</td>\n",
              "      <td>...</td>\n",
              "      <td>...</td>\n",
              "      <td>...</td>\n",
              "    </tr>\n",
              "    <tr>\n",
              "      <th>220</th>\n",
              "      <td>31.0</td>\n",
              "      <td>0.03375</td>\n",
              "      <td>38.0</td>\n",
              "      <td>744.0</td>\n",
              "      <td>380.0</td>\n",
              "      <td>364.0</td>\n",
              "      <td>12.285</td>\n",
              "      <td>245.020</td>\n",
              "    </tr>\n",
              "    <tr>\n",
              "      <th>237</th>\n",
              "      <td>32.0</td>\n",
              "      <td>0.02500</td>\n",
              "      <td>38.0</td>\n",
              "      <td>768.0</td>\n",
              "      <td>380.0</td>\n",
              "      <td>388.0</td>\n",
              "      <td>9.700</td>\n",
              "      <td>254.720</td>\n",
              "    </tr>\n",
              "    <tr>\n",
              "      <th>254</th>\n",
              "      <td>33.0</td>\n",
              "      <td>0.00250</td>\n",
              "      <td>38.0</td>\n",
              "      <td>792.0</td>\n",
              "      <td>380.0</td>\n",
              "      <td>412.0</td>\n",
              "      <td>1.030</td>\n",
              "      <td>255.750</td>\n",
              "    </tr>\n",
              "    <tr>\n",
              "      <th>271</th>\n",
              "      <td>35.0</td>\n",
              "      <td>0.00125</td>\n",
              "      <td>38.0</td>\n",
              "      <td>840.0</td>\n",
              "      <td>380.0</td>\n",
              "      <td>460.0</td>\n",
              "      <td>0.575</td>\n",
              "      <td>256.325</td>\n",
              "    </tr>\n",
              "    <tr>\n",
              "      <th>288</th>\n",
              "      <td>38.0</td>\n",
              "      <td>0.00125</td>\n",
              "      <td>38.0</td>\n",
              "      <td>912.0</td>\n",
              "      <td>380.0</td>\n",
              "      <td>532.0</td>\n",
              "      <td>0.665</td>\n",
              "      <td>256.990</td>\n",
              "    </tr>\n",
              "  </tbody>\n",
              "</table>\n",
              "<p>289 rows × 8 columns</p>\n",
              "</div>"
            ],
            "text/plain": [
              "     item_to_sell  probability  ...  total_weighted_profit  total_cumsum_profit\n",
              "0            18.0      0.00125  ...                  0.315                0.315\n",
              "17           20.0      0.00375  ...                  0.945                1.260\n",
              "34           21.0      0.01125  ...                  2.835                4.095\n",
              "51           22.0      0.02750  ...                  6.930               11.025\n",
              "68           23.0      0.05750  ...                 14.490               25.515\n",
              "..            ...          ...  ...                    ...                  ...\n",
              "220          31.0      0.03375  ...                 12.285              245.020\n",
              "237          32.0      0.02500  ...                  9.700              254.720\n",
              "254          33.0      0.00250  ...                  1.030              255.750\n",
              "271          35.0      0.00125  ...                  0.575              256.325\n",
              "288          38.0      0.00125  ...                  0.665              256.990\n",
              "\n",
              "[289 rows x 8 columns]"
            ]
          },
          "metadata": {
            "tags": []
          },
          "execution_count": 470
        }
      ]
    },
    {
      "cell_type": "markdown",
      "metadata": {
        "id": "742ZU5CRWVcY"
      },
      "source": [
        "#### d) VISUAL CHECK"
      ]
    },
    {
      "cell_type": "code",
      "metadata": {
        "id": "6ihXXgUhWVcY",
        "outputId": "fd4686c1-d1a4-4c5b-9465-d7b175bd7581",
        "colab": {
          "base_uri": "https://localhost:8080/",
          "height": 115
        }
      },
      "source": [
        "# limit the table, we don't want to be overwhelmed\n",
        "temp = example_df[(example_df['item_to_purchase'] >= 20) & (example_df['item_to_purchase'] <= 25)]\n",
        "temp.loc[:,'item_to_purchase'] = temp['item_to_purchase'].astype('str')"
      ],
      "execution_count": 471,
      "outputs": [
        {
          "output_type": "stream",
          "text": [
            "/usr/local/lib/python3.6/dist-packages/pandas/core/indexing.py:1745: SettingWithCopyWarning: \n",
            "A value is trying to be set on a copy of a slice from a DataFrame.\n",
            "Try using .loc[row_indexer,col_indexer] = value instead\n",
            "\n",
            "See the caveats in the documentation: https://pandas.pydata.org/pandas-docs/stable/user_guide/indexing.html#returning-a-view-versus-a-copy\n",
            "  isetter(ilocs[0], value)\n"
          ],
          "name": "stderr"
        }
      ]
    },
    {
      "cell_type": "code",
      "metadata": {
        "id": "i5N7xa9dWVcc",
        "outputId": "6390c77b-e703-4ed0-8f60-3220e6095f93",
        "colab": {
          "base_uri": "https://localhost:8080/",
          "height": 292
        }
      },
      "source": [
        "# check the weighted profit per possible scenario: \n",
        "# we can see how higher execution causes greater loss during weak demand and hence,\n",
        "# higher execution number has difficulty in bouncing the profit up \n",
        "\n",
        "fig, ax = plt.subplots()\n",
        "\n",
        "for i in temp['item_to_purchase'].unique():\n",
        "    temp[temp['item_to_purchase'] == i].plot.line(x='item_to_purchase', y='total_weighted_profit', ax=ax, label=str(i))\n",
        "plt.xticks(range(0,np.unique(temp['item_to_sell']).shape[0]),np.unique(temp['item_to_sell']),rotation=45)\n",
        "plt.show()"
      ],
      "execution_count": 472,
      "outputs": [
        {
          "output_type": "display_data",
          "data": {
            "image/png": "[encoded data removed]",
            "text/plain": [
              "<Figure size 432x288 with 1 Axes>"
            ]
          },
          "metadata": {
            "tags": [],
            "needs_background": "light"
          }
        }
      ]
    },
    {
      "cell_type": "code",
      "metadata": {
        "id": "chpVwCqUWVcg",
        "outputId": "d94b6959-d3a2-4e30-8a6a-9284a585dbf7",
        "colab": {
          "base_uri": "https://localhost:8080/",
          "height": 280
        }
      },
      "source": [
        "# check the total expected profit, which comes from all possible profit \n",
        "# and weighted by the probability of the scenario to happen\n",
        "plt.figure()\n",
        "sns.scatterplot(x='item_to_purchase', y='total_weighted_profit', data=example_df_summ)\n",
        "plt.show()"
      ],
      "execution_count": 473,
      "outputs": [
        {
          "output_type": "display_data",
          "data": {
            "image/png": "[encoded data removed]",
            "text/plain": [
              "<Figure size 432x288 with 1 Axes>"
            ]
          },
          "metadata": {
            "tags": [],
            "needs_background": "light"
          }
        }
      ]
    },
    {
      "cell_type": "markdown",
      "metadata": {
        "id": "T4W6GpH-WVck"
      },
      "source": [
        "### 5) PREDICTION + STOCHASTIC PROGRAMMING\n",
        "#### a) BOOTSTRAPPING"
      ]
    },
    {
      "cell_type": "code",
      "metadata": {
        "id": "mf-f3IOu3I-m",
        "outputId": "b08ae281-a250-45b4-e01e-442954a629a3",
        "colab": {
          "base_uri": "https://localhost:8080/",
          "height": 33
        }
      },
      "source": [
        "N"
      ],
      "execution_count": 474,
      "outputs": [
        {
          "output_type": "execute_result",
          "data": {
            "text/plain": [
              "100"
            ]
          },
          "metadata": {
            "tags": []
          },
          "execution_count": 474
        }
      ]
    },
    {
      "cell_type": "code",
      "metadata": {
        "id": "3vkLLUUqWVck"
      },
      "source": [
        "import math\n",
        "\n",
        "size_bstrap = N\n",
        "iter = math.floor(N/2)\n",
        "idx_check = 172\n",
        "test_y_bstrap = []\n",
        "coef_bstrap = []\n",
        "intercept_bstrap = []\n",
        "\n",
        "for i in range(iter):\n",
        "    \n",
        "    # sampling with replacement\n",
        "    idx = np.random.choice(np.arange(0,train_x.shape[0]), size_bstrap, replace=True)\n",
        "    train_x_temp = train_x[idx]\n",
        "    train_y_temp = train_y[idx]\n",
        "    \n",
        "    # do linear regression\n",
        "    lr_bstrap = LinearRegression()\n",
        "    lr_bstrap.fit(train_x_temp, train_y_temp)\n",
        "    \n",
        "    # get coefficient and intercept\n",
        "    coef_bstrap.append(lr_bstrap.coef_)\n",
        "    intercept_bstrap.append(lr_bstrap.intercept_)\n",
        "    \n",
        "    # get result, only for intended index idx_check\n",
        "    # test_y_bstrap.append((lr_bstrap.predict(test_x)[idx_check][0]).astype(int))\n",
        "    result_temp = np.rint(lr_bstrap.intercept_ + lr_bstrap.coef_ * test_x[idx_check])[0,0]\n",
        "    test_y_bstrap.append(result_temp)\n",
        "    "
      ],
      "execution_count": 475,
      "outputs": []
    },
    {
      "cell_type": "code",
      "metadata": {
        "id": "ZqBCLx50WVco",
        "outputId": "e94f7d13-9397-4e15-cbc1-099a0d95b7e3",
        "colab": {
          "base_uri": "https://localhost:8080/",
          "height": 1000
        }
      },
      "source": [
        "result_bstrap = pd.DataFrame({'test_y_bstrap': test_y_bstrap})\n",
        "result_bstrap['test_x_bstrap'] = test_x[idx_check][0]\n",
        "result_bstrap"
      ],
      "execution_count": 476,
      "outputs": [
        {
          "output_type": "execute_result",
          "data": {
            "text/html": [
              "<div>\n",
              "<style scoped>\n",
              "    .dataframe tbody tr th:only-of-type {\n",
              "        vertical-align: middle;\n",
              "    }\n",
              "\n",
              "    .dataframe tbody tr th {\n",
              "        vertical-align: top;\n",
              "    }\n",
              "\n",
              "    .dataframe thead th {\n",
              "        text-align: right;\n",
              "    }\n",
              "</style>\n",
              "<table border=\"1\" class=\"dataframe\">\n",
              "  <thead>\n",
              "    <tr style=\"text-align: right;\">\n",
              "      <th></th>\n",
              "      <th>test_y_bstrap</th>\n",
              "      <th>test_x_bstrap</th>\n",
              "    </tr>\n",
              "  </thead>\n",
              "  <tbody>\n",
              "    <tr>\n",
              "      <th>0</th>\n",
              "      <td>26.0</td>\n",
              "      <td>98</td>\n",
              "    </tr>\n",
              "    <tr>\n",
              "      <th>1</th>\n",
              "      <td>26.0</td>\n",
              "      <td>98</td>\n",
              "    </tr>\n",
              "    <tr>\n",
              "      <th>2</th>\n",
              "      <td>26.0</td>\n",
              "      <td>98</td>\n",
              "    </tr>\n",
              "    <tr>\n",
              "      <th>3</th>\n",
              "      <td>26.0</td>\n",
              "      <td>98</td>\n",
              "    </tr>\n",
              "    <tr>\n",
              "      <th>4</th>\n",
              "      <td>26.0</td>\n",
              "      <td>98</td>\n",
              "    </tr>\n",
              "    <tr>\n",
              "      <th>5</th>\n",
              "      <td>26.0</td>\n",
              "      <td>98</td>\n",
              "    </tr>\n",
              "    <tr>\n",
              "      <th>6</th>\n",
              "      <td>26.0</td>\n",
              "      <td>98</td>\n",
              "    </tr>\n",
              "    <tr>\n",
              "      <th>7</th>\n",
              "      <td>26.0</td>\n",
              "      <td>98</td>\n",
              "    </tr>\n",
              "    <tr>\n",
              "      <th>8</th>\n",
              "      <td>26.0</td>\n",
              "      <td>98</td>\n",
              "    </tr>\n",
              "    <tr>\n",
              "      <th>9</th>\n",
              "      <td>26.0</td>\n",
              "      <td>98</td>\n",
              "    </tr>\n",
              "    <tr>\n",
              "      <th>10</th>\n",
              "      <td>26.0</td>\n",
              "      <td>98</td>\n",
              "    </tr>\n",
              "    <tr>\n",
              "      <th>11</th>\n",
              "      <td>26.0</td>\n",
              "      <td>98</td>\n",
              "    </tr>\n",
              "    <tr>\n",
              "      <th>12</th>\n",
              "      <td>26.0</td>\n",
              "      <td>98</td>\n",
              "    </tr>\n",
              "    <tr>\n",
              "      <th>13</th>\n",
              "      <td>26.0</td>\n",
              "      <td>98</td>\n",
              "    </tr>\n",
              "    <tr>\n",
              "      <th>14</th>\n",
              "      <td>26.0</td>\n",
              "      <td>98</td>\n",
              "    </tr>\n",
              "    <tr>\n",
              "      <th>15</th>\n",
              "      <td>26.0</td>\n",
              "      <td>98</td>\n",
              "    </tr>\n",
              "    <tr>\n",
              "      <th>16</th>\n",
              "      <td>26.0</td>\n",
              "      <td>98</td>\n",
              "    </tr>\n",
              "    <tr>\n",
              "      <th>17</th>\n",
              "      <td>26.0</td>\n",
              "      <td>98</td>\n",
              "    </tr>\n",
              "    <tr>\n",
              "      <th>18</th>\n",
              "      <td>26.0</td>\n",
              "      <td>98</td>\n",
              "    </tr>\n",
              "    <tr>\n",
              "      <th>19</th>\n",
              "      <td>26.0</td>\n",
              "      <td>98</td>\n",
              "    </tr>\n",
              "    <tr>\n",
              "      <th>20</th>\n",
              "      <td>26.0</td>\n",
              "      <td>98</td>\n",
              "    </tr>\n",
              "    <tr>\n",
              "      <th>21</th>\n",
              "      <td>26.0</td>\n",
              "      <td>98</td>\n",
              "    </tr>\n",
              "    <tr>\n",
              "      <th>22</th>\n",
              "      <td>26.0</td>\n",
              "      <td>98</td>\n",
              "    </tr>\n",
              "    <tr>\n",
              "      <th>23</th>\n",
              "      <td>26.0</td>\n",
              "      <td>98</td>\n",
              "    </tr>\n",
              "    <tr>\n",
              "      <th>24</th>\n",
              "      <td>26.0</td>\n",
              "      <td>98</td>\n",
              "    </tr>\n",
              "    <tr>\n",
              "      <th>25</th>\n",
              "      <td>26.0</td>\n",
              "      <td>98</td>\n",
              "    </tr>\n",
              "    <tr>\n",
              "      <th>26</th>\n",
              "      <td>26.0</td>\n",
              "      <td>98</td>\n",
              "    </tr>\n",
              "    <tr>\n",
              "      <th>27</th>\n",
              "      <td>26.0</td>\n",
              "      <td>98</td>\n",
              "    </tr>\n",
              "    <tr>\n",
              "      <th>28</th>\n",
              "      <td>26.0</td>\n",
              "      <td>98</td>\n",
              "    </tr>\n",
              "    <tr>\n",
              "      <th>29</th>\n",
              "      <td>26.0</td>\n",
              "      <td>98</td>\n",
              "    </tr>\n",
              "    <tr>\n",
              "      <th>30</th>\n",
              "      <td>26.0</td>\n",
              "      <td>98</td>\n",
              "    </tr>\n",
              "    <tr>\n",
              "      <th>31</th>\n",
              "      <td>26.0</td>\n",
              "      <td>98</td>\n",
              "    </tr>\n",
              "    <tr>\n",
              "      <th>32</th>\n",
              "      <td>26.0</td>\n",
              "      <td>98</td>\n",
              "    </tr>\n",
              "    <tr>\n",
              "      <th>33</th>\n",
              "      <td>26.0</td>\n",
              "      <td>98</td>\n",
              "    </tr>\n",
              "    <tr>\n",
              "      <th>34</th>\n",
              "      <td>26.0</td>\n",
              "      <td>98</td>\n",
              "    </tr>\n",
              "    <tr>\n",
              "      <th>35</th>\n",
              "      <td>26.0</td>\n",
              "      <td>98</td>\n",
              "    </tr>\n",
              "    <tr>\n",
              "      <th>36</th>\n",
              "      <td>26.0</td>\n",
              "      <td>98</td>\n",
              "    </tr>\n",
              "    <tr>\n",
              "      <th>37</th>\n",
              "      <td>26.0</td>\n",
              "      <td>98</td>\n",
              "    </tr>\n",
              "    <tr>\n",
              "      <th>38</th>\n",
              "      <td>26.0</td>\n",
              "      <td>98</td>\n",
              "    </tr>\n",
              "    <tr>\n",
              "      <th>39</th>\n",
              "      <td>26.0</td>\n",
              "      <td>98</td>\n",
              "    </tr>\n",
              "    <tr>\n",
              "      <th>40</th>\n",
              "      <td>26.0</td>\n",
              "      <td>98</td>\n",
              "    </tr>\n",
              "    <tr>\n",
              "      <th>41</th>\n",
              "      <td>26.0</td>\n",
              "      <td>98</td>\n",
              "    </tr>\n",
              "    <tr>\n",
              "      <th>42</th>\n",
              "      <td>26.0</td>\n",
              "      <td>98</td>\n",
              "    </tr>\n",
              "    <tr>\n",
              "      <th>43</th>\n",
              "      <td>26.0</td>\n",
              "      <td>98</td>\n",
              "    </tr>\n",
              "    <tr>\n",
              "      <th>44</th>\n",
              "      <td>26.0</td>\n",
              "      <td>98</td>\n",
              "    </tr>\n",
              "    <tr>\n",
              "      <th>45</th>\n",
              "      <td>26.0</td>\n",
              "      <td>98</td>\n",
              "    </tr>\n",
              "    <tr>\n",
              "      <th>46</th>\n",
              "      <td>26.0</td>\n",
              "      <td>98</td>\n",
              "    </tr>\n",
              "    <tr>\n",
              "      <th>47</th>\n",
              "      <td>26.0</td>\n",
              "      <td>98</td>\n",
              "    </tr>\n",
              "    <tr>\n",
              "      <th>48</th>\n",
              "      <td>26.0</td>\n",
              "      <td>98</td>\n",
              "    </tr>\n",
              "    <tr>\n",
              "      <th>49</th>\n",
              "      <td>26.0</td>\n",
              "      <td>98</td>\n",
              "    </tr>\n",
              "  </tbody>\n",
              "</table>\n",
              "</div>"
            ],
            "text/plain": [
              "    test_y_bstrap  test_x_bstrap\n",
              "0            26.0             98\n",
              "1            26.0             98\n",
              "2            26.0             98\n",
              "3            26.0             98\n",
              "4            26.0             98\n",
              "5            26.0             98\n",
              "6            26.0             98\n",
              "7            26.0             98\n",
              "8            26.0             98\n",
              "9            26.0             98\n",
              "10           26.0             98\n",
              "11           26.0             98\n",
              "12           26.0             98\n",
              "13           26.0             98\n",
              "14           26.0             98\n",
              "15           26.0             98\n",
              "16           26.0             98\n",
              "17           26.0             98\n",
              "18           26.0             98\n",
              "19           26.0             98\n",
              "20           26.0             98\n",
              "21           26.0             98\n",
              "22           26.0             98\n",
              "23           26.0             98\n",
              "24           26.0             98\n",
              "25           26.0             98\n",
              "26           26.0             98\n",
              "27           26.0             98\n",
              "28           26.0             98\n",
              "29           26.0             98\n",
              "30           26.0             98\n",
              "31           26.0             98\n",
              "32           26.0             98\n",
              "33           26.0             98\n",
              "34           26.0             98\n",
              "35           26.0             98\n",
              "36           26.0             98\n",
              "37           26.0             98\n",
              "38           26.0             98\n",
              "39           26.0             98\n",
              "40           26.0             98\n",
              "41           26.0             98\n",
              "42           26.0             98\n",
              "43           26.0             98\n",
              "44           26.0             98\n",
              "45           26.0             98\n",
              "46           26.0             98\n",
              "47           26.0             98\n",
              "48           26.0             98\n",
              "49           26.0             98"
            ]
          },
          "metadata": {
            "tags": []
          },
          "execution_count": 476
        }
      ]
    },
    {
      "cell_type": "code",
      "metadata": {
        "id": "O5VyYY3JWVcr",
        "outputId": "29912db7-caad-4c2f-fc05-6d95431436bb",
        "colab": {
          "base_uri": "https://localhost:8080/",
          "height": 76
        }
      },
      "source": [
        "result_bstrap_summ = result_bstrap.groupby('test_y_bstrap').count().reset_index(drop=False)\n",
        "result_bstrap_summ"
      ],
      "execution_count": 477,
      "outputs": [
        {
          "output_type": "execute_result",
          "data": {
            "text/html": [
              "<div>\n",
              "<style scoped>\n",
              "    .dataframe tbody tr th:only-of-type {\n",
              "        vertical-align: middle;\n",
              "    }\n",
              "\n",
              "    .dataframe tbody tr th {\n",
              "        vertical-align: top;\n",
              "    }\n",
              "\n",
              "    .dataframe thead th {\n",
              "        text-align: right;\n",
              "    }\n",
              "</style>\n",
              "<table border=\"1\" class=\"dataframe\">\n",
              "  <thead>\n",
              "    <tr style=\"text-align: right;\">\n",
              "      <th></th>\n",
              "      <th>test_y_bstrap</th>\n",
              "      <th>test_x_bstrap</th>\n",
              "    </tr>\n",
              "  </thead>\n",
              "  <tbody>\n",
              "    <tr>\n",
              "      <th>0</th>\n",
              "      <td>26.0</td>\n",
              "      <td>50</td>\n",
              "    </tr>\n",
              "  </tbody>\n",
              "</table>\n",
              "</div>"
            ],
            "text/plain": [
              "   test_y_bstrap  test_x_bstrap\n",
              "0           26.0             50"
            ]
          },
          "metadata": {
            "tags": []
          },
          "execution_count": 477
        }
      ]
    },
    {
      "cell_type": "markdown",
      "metadata": {
        "id": "ugYPcjUZWVcu"
      },
      "source": [
        "#### b) DISCRETIZING DEMAND"
      ]
    },
    {
      "cell_type": "code",
      "metadata": {
        "id": "D7guDBLfWVcw",
        "outputId": "d03d8cd3-08c4-49f5-ac81-f78864da5fe0",
        "colab": {
          "base_uri": "https://localhost:8080/",
          "height": 66
        }
      },
      "source": [
        "cluster_proportion_df_bstrap, demand_bstrap, weight_bstrap, scenarios_bstrap = cluster_summ(df=result_bstrap['test_y_bstrap'])\n",
        "\n",
        "print(demand_bstrap)\n",
        "print(weight_bstrap)\n",
        "print(scenarios_bstrap)"
      ],
      "execution_count": 478,
      "outputs": [
        {
          "output_type": "stream",
          "text": [
            "{1: 26.0}\n",
            "{1: 1.0}\n",
            "range(1, 2)\n"
          ],
          "name": "stdout"
        }
      ]
    },
    {
      "cell_type": "markdown",
      "metadata": {
        "id": "7yT_Mq9KWVcz"
      },
      "source": [
        "#### c) USING PULP TO SOLVE STOCHASTIC PROGRAMMING"
      ]
    },
    {
      "cell_type": "code",
      "metadata": {
        "id": "TjD5OPAHWVcz",
        "outputId": "c5fe1c42-d9c2-4048-ed29-3a52d29bef70",
        "colab": {
          "base_uri": "https://localhost:8080/",
          "height": 115
        }
      },
      "source": [
        "##########################################\n",
        "# DEFINE VARIABLES\n",
        "##########################################\n",
        "\n",
        "M_bstrap = LpProblem(\"Newsvendor2\", LpMaximize)\n",
        "\n",
        "x_bstrap = LpVariable('x_bstrap', lowBound=0)\n",
        "z_bstrap = LpVariable.dicts('z_bstrap', scenarios_bstrap, 0)\n",
        "\n",
        "\n",
        "##########################################\n",
        "# DEFINE MODELS: CONSTRAINTS\n",
        "##########################################\n",
        "\n",
        "for i in scenarios_bstrap:\n",
        "    print(demand_bstrap[i])\n",
        "    print(weight_bstrap[i])\n",
        "    M_bstrap += x_bstrap <= N\n",
        "    M_bstrap += z_bstrap[i] <= x_bstrap\n",
        "    M_bstrap += z_bstrap[i] <= demand_bstrap[i]\n",
        "\n",
        "    \n",
        "##########################################\n",
        "# DEFINE MODELS: OBJECTIVE\n",
        "##########################################\n",
        "\n",
        "M_bstrap += sum(weight_bstrap[i] * (sell_price * z_bstrap[i] + waste_price * (x_bstrap - z_bstrap[i])) for i in scenarios_bstrap) - (cost_price * x_bstrap) \n",
        "M_bstrap.solve()\n",
        "\n",
        "\n",
        "##########################################\n",
        "# PRINT RESULTS\n",
        "##########################################\n",
        "\n",
        "print(\"Status = %s\" % LpStatus[M_bstrap.status])\n",
        "\n",
        "print(\"%s = %f\" % (x_bstrap.name, x_bstrap.varValue))\n",
        "for i in scenarios_bstrap:\n",
        "    print(\"%s = %f\" % (z_bstrap[i].name, z_bstrap[i].varValue))\n",
        "print(\"Objective = %f\" % (M_bstrap.objective.value()))\n",
        "\n"
      ],
      "execution_count": 479,
      "outputs": [
        {
          "output_type": "stream",
          "text": [
            "26.0\n",
            "1.0\n",
            "Status = Optimal\n",
            "x_bstrap = 26.000000\n",
            "z_bstrap_1 = 26.000000\n",
            "Objective = 364.000000\n"
          ],
          "name": "stdout"
        }
      ]
    },
    {
      "cell_type": "markdown",
      "metadata": {
        "id": "pRdfCXcWWVc2"
      },
      "source": [
        "#### d) CHECK AS TABLE (MANUAL CALCULATION): TO SEE CLEARLY WHAT HAPPENS"
      ]
    },
    {
      "cell_type": "code",
      "metadata": {
        "id": "cj7rCxD_WVc5",
        "outputId": "1edd76c5-3048-4199-a020-743e9e43ff32",
        "colab": {
          "base_uri": "https://localhost:8080/",
          "height": 76
        }
      },
      "source": [
        "example_df_bstrap, example_df_summ_bstrap = result_summ(cluster_proportion_df=cluster_proportion_df_bstrap, \n",
        "                                                        demand=demand_bstrap, weight=weight_bstrap, \n",
        "                                                        sell_price=sell_price, cost_price=cost_price, \n",
        "                                                        waste_price=waste_price)\n",
        "example_df_bstrap.head(n=5)"
      ],
      "execution_count": 480,
      "outputs": [
        {
          "output_type": "execute_result",
          "data": {
            "text/html": [
              "<div>\n",
              "<style scoped>\n",
              "    .dataframe tbody tr th:only-of-type {\n",
              "        vertical-align: middle;\n",
              "    }\n",
              "\n",
              "    .dataframe tbody tr th {\n",
              "        vertical-align: top;\n",
              "    }\n",
              "\n",
              "    .dataframe thead th {\n",
              "        text-align: right;\n",
              "    }\n",
              "</style>\n",
              "<table border=\"1\" class=\"dataframe\">\n",
              "  <thead>\n",
              "    <tr style=\"text-align: right;\">\n",
              "      <th></th>\n",
              "      <th>item_to_sell</th>\n",
              "      <th>probability</th>\n",
              "      <th>item_to_purchase</th>\n",
              "      <th>total_revenue</th>\n",
              "      <th>total_cost</th>\n",
              "      <th>total_profit</th>\n",
              "      <th>total_weighted_profit</th>\n",
              "      <th>total_cumsum_profit</th>\n",
              "    </tr>\n",
              "  </thead>\n",
              "  <tbody>\n",
              "    <tr>\n",
              "      <th>0</th>\n",
              "      <td>26.0</td>\n",
              "      <td>1.0</td>\n",
              "      <td>26.0</td>\n",
              "      <td>624.0</td>\n",
              "      <td>260.0</td>\n",
              "      <td>364.0</td>\n",
              "      <td>364.0</td>\n",
              "      <td>364.0</td>\n",
              "    </tr>\n",
              "  </tbody>\n",
              "</table>\n",
              "</div>"
            ],
            "text/plain": [
              "   item_to_sell  probability  ...  total_weighted_profit  total_cumsum_profit\n",
              "0          26.0          1.0  ...                  364.0                364.0\n",
              "\n",
              "[1 rows x 8 columns]"
            ]
          },
          "metadata": {
            "tags": []
          },
          "execution_count": 480
        }
      ]
    },
    {
      "cell_type": "code",
      "metadata": {
        "id": "r-gJxWz-WVc8",
        "outputId": "c508b781-8e58-4453-fa1f-ba6218538a22",
        "colab": {
          "base_uri": "https://localhost:8080/",
          "height": 76
        }
      },
      "source": [
        "# optimal decision will only change if we increase sales_price (eg. sales_price = 23)\n",
        "example_df_bstrap, example_df_summ_bstrap = result_summ(cluster_proportion_df=cluster_proportion_df_bstrap, \n",
        "                                                        demand=demand_bstrap, weight=weight_bstrap, \n",
        "                                                        sell_price=sell_price, cost_price=cost_price, \n",
        "                                                        waste_price=waste_price)\n",
        "example_df_bstrap.head(n=5)"
      ],
      "execution_count": 481,
      "outputs": [
        {
          "output_type": "execute_result",
          "data": {
            "text/html": [
              "<div>\n",
              "<style scoped>\n",
              "    .dataframe tbody tr th:only-of-type {\n",
              "        vertical-align: middle;\n",
              "    }\n",
              "\n",
              "    .dataframe tbody tr th {\n",
              "        vertical-align: top;\n",
              "    }\n",
              "\n",
              "    .dataframe thead th {\n",
              "        text-align: right;\n",
              "    }\n",
              "</style>\n",
              "<table border=\"1\" class=\"dataframe\">\n",
              "  <thead>\n",
              "    <tr style=\"text-align: right;\">\n",
              "      <th></th>\n",
              "      <th>item_to_sell</th>\n",
              "      <th>probability</th>\n",
              "      <th>item_to_purchase</th>\n",
              "      <th>total_revenue</th>\n",
              "      <th>total_cost</th>\n",
              "      <th>total_profit</th>\n",
              "      <th>total_weighted_profit</th>\n",
              "      <th>total_cumsum_profit</th>\n",
              "    </tr>\n",
              "  </thead>\n",
              "  <tbody>\n",
              "    <tr>\n",
              "      <th>0</th>\n",
              "      <td>26.0</td>\n",
              "      <td>1.0</td>\n",
              "      <td>26.0</td>\n",
              "      <td>624.0</td>\n",
              "      <td>260.0</td>\n",
              "      <td>364.0</td>\n",
              "      <td>364.0</td>\n",
              "      <td>364.0</td>\n",
              "    </tr>\n",
              "  </tbody>\n",
              "</table>\n",
              "</div>"
            ],
            "text/plain": [
              "   item_to_sell  probability  ...  total_weighted_profit  total_cumsum_profit\n",
              "0          26.0          1.0  ...                  364.0                364.0\n",
              "\n",
              "[1 rows x 8 columns]"
            ]
          },
          "metadata": {
            "tags": []
          },
          "execution_count": 481
        }
      ]
    },
    {
      "cell_type": "markdown",
      "metadata": {
        "id": "se173dd1WVc_"
      },
      "source": [
        "#### d) VISUAL CHECK"
      ]
    },
    {
      "cell_type": "code",
      "metadata": {
        "id": "PMMBRF9IWVc_"
      },
      "source": [
        "example_df_bstrap.loc[:,'item_to_purchase'] = example_df_bstrap['item_to_purchase'].astype('str')"
      ],
      "execution_count": 482,
      "outputs": []
    },
    {
      "cell_type": "code",
      "metadata": {
        "id": "1gMesSrnWVdC",
        "outputId": "0575135f-afcf-438f-caa8-b3ffadd7d676",
        "colab": {
          "base_uri": "https://localhost:8080/",
          "height": 292
        }
      },
      "source": [
        "# check the weighted profit per possible scenario: \n",
        "# we can see how higher execution causes greater loss during weak demand and hence,\n",
        "# higher execution number has difficulty in bouncing the profit up \n",
        "\n",
        "fig, ax = plt.subplots()\n",
        "\n",
        "for i in example_df_bstrap['item_to_purchase'].unique():\n",
        "    example_df_bstrap[example_df_bstrap['item_to_purchase'] == i].plot.line(x='item_to_purchase', y='total_weighted_profit', ax=ax, label=str(i))\n",
        "plt.xticks(range(0,np.unique(example_df_bstrap['item_to_sell']).shape[0]),np.unique(example_df_bstrap['item_to_sell']),rotation=45)\n",
        "plt.show()"
      ],
      "execution_count": 483,
      "outputs": [
        {
          "output_type": "display_data",
          "data": {
            "image/png": "[encoded data removed]",
            "text/plain": [
              "<Figure size 432x288 with 1 Axes>"
            ]
          },
          "metadata": {
            "tags": [],
            "needs_background": "light"
          }
        }
      ]
    },
    {
      "cell_type": "code",
      "metadata": {
        "id": "Ym3jUJ7WWVdF",
        "outputId": "e6e8a57c-a1cd-4252-c073-7cb9ba6fe117",
        "colab": {
          "base_uri": "https://localhost:8080/",
          "height": 280
        }
      },
      "source": [
        "# check the total expected profit, which comes from all possible profit \n",
        "# and weighted by the probability of the scenario to happen\n",
        "plt.figure()\n",
        "sns.scatterplot(x='item_to_purchase', y='total_weighted_profit', data=example_df_summ_bstrap)\n",
        "plt.show()"
      ],
      "execution_count": 484,
      "outputs": [
        {
          "output_type": "display_data",
          "data": {
            "image/png": "[encoded data removed]",
            "text/plain": [
              "<Figure size 432x288 with 1 Axes>"
            ]
          },
          "metadata": {
            "tags": [],
            "needs_background": "light"
          }
        }
      ]
    }
  ]
}