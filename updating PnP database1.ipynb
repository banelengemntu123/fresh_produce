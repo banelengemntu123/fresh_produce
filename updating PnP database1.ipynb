{
 "cells": [
  {
   "cell_type": "markdown",
   "metadata": {
    "colab_type": "text",
    "id": "l6ohesHO1noQ"
   },
   "source": [
    "# Web Scraping PnP with Beautiful Soup"
   ]
  },
  {
   "cell_type": "markdown",
   "metadata": {},
   "source": [
    "## Page 1"
   ]
  },
  {
   "cell_type": "code",
   "execution_count": 1,
   "metadata": {
    "colab": {},
    "colab_type": "code",
    "id": "roNFNG2W9tf5"
   },
   "outputs": [],
   "source": [
    "# importing libraries\n",
    "from bs4 import BeautifulSoup\n",
    "import requests\n",
    "import pandas as pd\n",
    "from datetime import date"
   ]
  },
  {
   "cell_type": "code",
   "execution_count": 2,
   "metadata": {
    "colab": {
     "base_uri": "https://localhost:8080/",
     "height": 1000
    },
    "colab_type": "code",
    "executionInfo": {
     "elapsed": 1439,
     "status": "ok",
     "timestamp": 1578482191044,
     "user": {
      "displayName": "Sicelukwanda Zwane",
      "photoUrl": "https://lh3.googleusercontent.com/a-/AAuE7mC-szhl9yzJzLq9yfNEveVZYI_zqcCdurYGXxC0PDCdOicKrXutXcgLbE-NtyM-dg0Dr_DkGCzyTfAHPRcdicFnL-lzcS-AwkA37XtzLeERyWljtpyqfP884KBtni3Zf2HjPpUkQ-mMzRqZgIziXk_3Ba5GUv1Nulc066XTfW6oCr6lZQ7v2qdOblWEr8EeuAWXL9hmV-QDTInxM7hAcPzc1x-_Hn4r3FWp5xxBfgQkHJ0Ysd5JdDemHtHuSPavjfwrZwFV8FbaJggpdUFb1runTZzWvh_M6aP4qMrQ9L4JL26-VcEnOzNB0khOTNRH3s2NLjVouceuq7y3DqbPz5u9zRp7w_DYd7OoOYM9mKUQua4zOpkjG00nS0HVEw6fApWrR05VQneGPI0hYyB-NqtXXiSOHenW7wHl0IFrQYG59fHrNqPLLP439zRfwOK05CW-AK_LeHMn9mVNHVdHRatiWm-ajBG_VcoT67gIUQuev9ASmLzR1z0z7Me6guiQn6_u2_VFXffNSkJ_Nrcs8_GDqVyDsLEI_0vUvyUrMBridJvadRUhD494Y4oJ516TTF-RKAm1cq26xuxEHrm4tzPP5oPHMebiy9FEGcoH8tIEPx7D3UL6szewQ__mbrQSJry-gTJWqeVg98m1EZcQkrv83K-G1AXCzJAqA0N5hH4YrRgfeW-Ei9HtzpiO1Jq7DAKObKX-E47kWprLfCVt6cWRY5UvxSvvWSR7eKMEzSMqLbB-ErAccwAEitnySDE=s64",
      "userId": "00847478997328791076"
     },
     "user_tz": -120
    },
    "id": "wxweFVnz-6TP",
    "outputId": "5a58683c-d68d-4652-cb1e-bd61a7c61edf",
    "scrolled": true
   },
   "outputs": [],
   "source": [
    "# Step 1: Sending a HTTP request to a URL\n",
    "url = 'https://www.pnp.co.za/pnpstorefront/pnp/en/All-Products/Fresh-Food/Fruit/c/fruit703655157'\n",
    "\n",
    "# Make a GET request to fetch the raw HTML content\n",
    "response = requests.get(url)\n",
    "\n",
    "# From the response, we need the text\n",
    "page = response.text\n",
    "\n",
    "# Step 2: Parse the html content\n",
    "# Parse the html content\n",
    "soup = BeautifulSoup(page, \"html.parser\")"
   ]
  },
  {
   "cell_type": "code",
   "execution_count": 3,
   "metadata": {
    "colab": {
     "base_uri": "https://localhost:8080/",
     "height": 141
    },
    "colab_type": "code",
    "executionInfo": {
     "elapsed": 1059,
     "status": "ok",
     "timestamp": 1578488723995,
     "user": {
      "displayName": "Sicelukwanda Zwane",
      "photoUrl": "https://lh3.googleusercontent.com/a-/AAuE7mC-szhl9yzJzLq9yfNEveVZYI_zqcCdurYGXxC0PDCdOicKrXutXcgLbE-NtyM-dg0Dr_DkGCzyTfAHPRcdicFnL-lzcS-AwkA37XtzLeERyWljtpyqfP884KBtni3Zf2HjPpUkQ-mMzRqZgIziXk_3Ba5GUv1Nulc066XTfW6oCr6lZQ7v2qdOblWEr8EeuAWXL9hmV-QDTInxM7hAcPzc1x-_Hn4r3FWp5xxBfgQkHJ0Ysd5JdDemHtHuSPavjfwrZwFV8FbaJggpdUFb1runTZzWvh_M6aP4qMrQ9L4JL26-VcEnOzNB0khOTNRH3s2NLjVouceuq7y3DqbPz5u9zRp7w_DYd7OoOYM9mKUQua4zOpkjG00nS0HVEw6fApWrR05VQneGPI0hYyB-NqtXXiSOHenW7wHl0IFrQYG59fHrNqPLLP439zRfwOK05CW-AK_LeHMn9mVNHVdHRatiWm-ajBG_VcoT67gIUQuev9ASmLzR1z0z7Me6guiQn6_u2_VFXffNSkJ_Nrcs8_GDqVyDsLEI_0vUvyUrMBridJvadRUhD494Y4oJ516TTF-RKAm1cq26xuxEHrm4tzPP5oPHMebiy9FEGcoH8tIEPx7D3UL6szewQ__mbrQSJry-gTJWqeVg98m1EZcQkrv83K-G1AXCzJAqA0N5hH4YrRgfeW-Ei9HtzpiO1Jq7DAKObKX-E47kWprLfCVt6cWRY5UvxSvvWSR7eKMEzSMqLbB-ErAccwAEitnySDE=s64",
      "userId": "00847478997328791076"
     },
     "user_tz": -120
    },
    "id": "rsGTa4PZKPb2",
    "outputId": "ab23475d-92fc-4f93-c1df-afedb4c3da16",
    "scrolled": false
   },
   "outputs": [
    {
     "data": {
      "text/plain": [
       "[<div class=\"item-name\">PnP Oranges 4s</div>,\n",
       " <div class=\"item-name\">PnP Plums 750g</div>,\n",
       " <div class=\"item-name\">PnP Starking Apples 1.5kg</div>,\n",
       " <div class=\"item-name\">PnP Queen Pineapple</div>,\n",
       " <div class=\"item-name\">PnP Juicing Oranges 2kg</div>,\n",
       " <div class=\"item-name\">PnP Grapefruit Carry Bag 2.5kg</div>,\n",
       " <div class=\"item-name\">PnP Medjool Dates 180g</div>,\n",
       " <div class=\"item-name\">PnP Lemons 4s</div>,\n",
       " <div class=\"item-name\">PnP Grapefruit 4s</div>,\n",
       " <div class=\"item-name\">PnP Pears 1.5kg</div>,\n",
       " <div class=\"item-name\">PnP Organic Bananas</div>,\n",
       " <div class=\"item-name\">PnP Oranges Bag 2.5kg</div>,\n",
       " <div class=\"item-name\">PnP Kiwi Fruit 4s</div>,\n",
       " <div class=\"item-name\">PnP Seasonal Sharing 450g</div>,\n",
       " <div class=\"item-name\">PnP Royal Gala Apples 1.5kg</div>,\n",
       " <div class=\"item-name\">PnP Kids Yellow Apples 1kg</div>,\n",
       " <div class=\"item-name\">PnP Mandarins Tray</div>,\n",
       " <div class=\"item-name\">PnP Limes 350g</div>]"
      ]
     },
     "execution_count": 3,
     "metadata": {},
     "output_type": "execute_result"
    }
   ],
   "source": [
    "soup.find_all('div',{'class':'item-name'})"
   ]
  },
  {
   "cell_type": "code",
   "execution_count": 4,
   "metadata": {
    "colab": {
     "base_uri": "https://localhost:8080/",
     "height": 141
    },
    "colab_type": "code",
    "executionInfo": {
     "elapsed": 1059,
     "status": "ok",
     "timestamp": 1578488723995,
     "user": {
      "displayName": "Sicelukwanda Zwane",
      "photoUrl": "https://lh3.googleusercontent.com/a-/AAuE7mC-szhl9yzJzLq9yfNEveVZYI_zqcCdurYGXxC0PDCdOicKrXutXcgLbE-NtyM-dg0Dr_DkGCzyTfAHPRcdicFnL-lzcS-AwkA37XtzLeERyWljtpyqfP884KBtni3Zf2HjPpUkQ-mMzRqZgIziXk_3Ba5GUv1Nulc066XTfW6oCr6lZQ7v2qdOblWEr8EeuAWXL9hmV-QDTInxM7hAcPzc1x-_Hn4r3FWp5xxBfgQkHJ0Ysd5JdDemHtHuSPavjfwrZwFV8FbaJggpdUFb1runTZzWvh_M6aP4qMrQ9L4JL26-VcEnOzNB0khOTNRH3s2NLjVouceuq7y3DqbPz5u9zRp7w_DYd7OoOYM9mKUQua4zOpkjG00nS0HVEw6fApWrR05VQneGPI0hYyB-NqtXXiSOHenW7wHl0IFrQYG59fHrNqPLLP439zRfwOK05CW-AK_LeHMn9mVNHVdHRatiWm-ajBG_VcoT67gIUQuev9ASmLzR1z0z7Me6guiQn6_u2_VFXffNSkJ_Nrcs8_GDqVyDsLEI_0vUvyUrMBridJvadRUhD494Y4oJ516TTF-RKAm1cq26xuxEHrm4tzPP5oPHMebiy9FEGcoH8tIEPx7D3UL6szewQ__mbrQSJry-gTJWqeVg98m1EZcQkrv83K-G1AXCzJAqA0N5hH4YrRgfeW-Ei9HtzpiO1Jq7DAKObKX-E47kWprLfCVt6cWRY5UvxSvvWSR7eKMEzSMqLbB-ErAccwAEitnySDE=s64",
      "userId": "00847478997328791076"
     },
     "user_tz": -120
    },
    "id": "rsGTa4PZKPb2",
    "outputId": "ab23475d-92fc-4f93-c1df-afedb4c3da16",
    "scrolled": true
   },
   "outputs": [
    {
     "data": {
      "text/plain": [
       "'PnP Oranges 4s'"
      ]
     },
     "execution_count": 4,
     "metadata": {},
     "output_type": "execute_result"
    }
   ],
   "source": [
    "str(soup.find_all('div',{'class':'item-name'})[0])[23:-6]"
   ]
  },
  {
   "cell_type": "code",
   "execution_count": 5,
   "metadata": {},
   "outputs": [],
   "source": [
    "p1_items = [str(item)[23:-6] for item in list(soup.find_all('div',{'class':'item-name'})) ]"
   ]
  },
  {
   "cell_type": "code",
   "execution_count": 6,
   "metadata": {},
   "outputs": [
    {
     "data": {
      "text/plain": [
       "['PnP Oranges 4s',\n",
       " 'PnP Plums 750g',\n",
       " 'PnP Starking Apples 1.5kg',\n",
       " 'PnP Queen Pineapple',\n",
       " 'PnP Juicing Oranges 2kg',\n",
       " 'PnP Grapefruit Carry Bag 2.5kg',\n",
       " 'PnP Medjool Dates 180g',\n",
       " 'PnP Lemons 4s',\n",
       " 'PnP Grapefruit 4s',\n",
       " 'PnP Pears 1.5kg',\n",
       " 'PnP Organic Bananas',\n",
       " 'PnP Oranges Bag 2.5kg',\n",
       " 'PnP Kiwi Fruit 4s',\n",
       " 'PnP Seasonal Sharing 450g',\n",
       " 'PnP Royal Gala Apples 1.5kg',\n",
       " 'PnP Kids Yellow Apples 1kg',\n",
       " 'PnP Mandarins Tray',\n",
       " 'PnP Limes 350g']"
      ]
     },
     "execution_count": 6,
     "metadata": {},
     "output_type": "execute_result"
    }
   ],
   "source": [
    "p1_items"
   ]
  },
  {
   "cell_type": "code",
   "execution_count": 7,
   "metadata": {
    "colab": {
     "base_uri": "https://localhost:8080/",
     "height": 141
    },
    "colab_type": "code",
    "executionInfo": {
     "elapsed": 1059,
     "status": "ok",
     "timestamp": 1578488723995,
     "user": {
      "displayName": "Sicelukwanda Zwane",
      "photoUrl": "https://lh3.googleusercontent.com/a-/AAuE7mC-szhl9yzJzLq9yfNEveVZYI_zqcCdurYGXxC0PDCdOicKrXutXcgLbE-NtyM-dg0Dr_DkGCzyTfAHPRcdicFnL-lzcS-AwkA37XtzLeERyWljtpyqfP884KBtni3Zf2HjPpUkQ-mMzRqZgIziXk_3Ba5GUv1Nulc066XTfW6oCr6lZQ7v2qdOblWEr8EeuAWXL9hmV-QDTInxM7hAcPzc1x-_Hn4r3FWp5xxBfgQkHJ0Ysd5JdDemHtHuSPavjfwrZwFV8FbaJggpdUFb1runTZzWvh_M6aP4qMrQ9L4JL26-VcEnOzNB0khOTNRH3s2NLjVouceuq7y3DqbPz5u9zRp7w_DYd7OoOYM9mKUQua4zOpkjG00nS0HVEw6fApWrR05VQneGPI0hYyB-NqtXXiSOHenW7wHl0IFrQYG59fHrNqPLLP439zRfwOK05CW-AK_LeHMn9mVNHVdHRatiWm-ajBG_VcoT67gIUQuev9ASmLzR1z0z7Me6guiQn6_u2_VFXffNSkJ_Nrcs8_GDqVyDsLEI_0vUvyUrMBridJvadRUhD494Y4oJ516TTF-RKAm1cq26xuxEHrm4tzPP5oPHMebiy9FEGcoH8tIEPx7D3UL6szewQ__mbrQSJry-gTJWqeVg98m1EZcQkrv83K-G1AXCzJAqA0N5hH4YrRgfeW-Ei9HtzpiO1Jq7DAKObKX-E47kWprLfCVt6cWRY5UvxSvvWSR7eKMEzSMqLbB-ErAccwAEitnySDE=s64",
      "userId": "00847478997328791076"
     },
     "user_tz": -120
    },
    "id": "rsGTa4PZKPb2",
    "outputId": "ab23475d-92fc-4f93-c1df-afedb4c3da16",
    "scrolled": false
   },
   "outputs": [
    {
     "data": {
      "text/plain": [
       "[<div class=\"currentPrice\">\n",
       " \t\t\tR24<span>99</span></div>, <div class=\"currentPrice\">\n",
       " \t\t\tR34<span>99</span></div>, <div class=\"currentPrice\">\n",
       " \t\t\tR29<span>99</span></div>, <div class=\"currentPrice\">\n",
       " \t\t\tR24<span>99</span></div>, <div class=\"currentPrice\">\n",
       " \t\t\tR24<span>99</span></div>, <div class=\"currentPrice\">\n",
       " \t\t\tR34<span>99</span></div>, <div class=\"currentPrice\">\n",
       " \t\t\tR29<span>99</span></div>, <div class=\"currentPrice\">\n",
       " \t\t\tR27<span>99</span></div>, <div class=\"currentPrice\">\n",
       " \t\t\tR34<span>99</span></div>, <div class=\"currentPrice\">\n",
       " \t\t\tR24<span>99</span></div>, <div class=\"currentPrice\">\n",
       " \t\t\tR17<span>99</span></div>, <div class=\"currentPrice\">\n",
       " \t\t\tR24<span>99</span></div>, <div class=\"currentPrice\">\n",
       " \t\t\tR34<span>99</span></div>, <div class=\"currentPrice\">\n",
       " \t\t\tR39<span>99</span></div>, <div class=\"currentPrice\">\n",
       " \t\t\tR27<span>99</span></div>, <div class=\"currentPrice\">\n",
       " \t\t\tR17<span>99</span></div>, <div class=\"currentPrice\">\n",
       " \t\t\tR54<span>99</span></div>, <div class=\"currentPrice\">\n",
       " \t\t\tR29<span>99</span></div>]"
      ]
     },
     "execution_count": 7,
     "metadata": {},
     "output_type": "execute_result"
    }
   ],
   "source": [
    "soup.find_all('div',{'class':'currentPrice'})"
   ]
  },
  {
   "cell_type": "code",
   "execution_count": 8,
   "metadata": {
    "colab": {
     "base_uri": "https://localhost:8080/",
     "height": 141
    },
    "colab_type": "code",
    "executionInfo": {
     "elapsed": 1059,
     "status": "ok",
     "timestamp": 1578488723995,
     "user": {
      "displayName": "Sicelukwanda Zwane",
      "photoUrl": "https://lh3.googleusercontent.com/a-/AAuE7mC-szhl9yzJzLq9yfNEveVZYI_zqcCdurYGXxC0PDCdOicKrXutXcgLbE-NtyM-dg0Dr_DkGCzyTfAHPRcdicFnL-lzcS-AwkA37XtzLeERyWljtpyqfP884KBtni3Zf2HjPpUkQ-mMzRqZgIziXk_3Ba5GUv1Nulc066XTfW6oCr6lZQ7v2qdOblWEr8EeuAWXL9hmV-QDTInxM7hAcPzc1x-_Hn4r3FWp5xxBfgQkHJ0Ysd5JdDemHtHuSPavjfwrZwFV8FbaJggpdUFb1runTZzWvh_M6aP4qMrQ9L4JL26-VcEnOzNB0khOTNRH3s2NLjVouceuq7y3DqbPz5u9zRp7w_DYd7OoOYM9mKUQua4zOpkjG00nS0HVEw6fApWrR05VQneGPI0hYyB-NqtXXiSOHenW7wHl0IFrQYG59fHrNqPLLP439zRfwOK05CW-AK_LeHMn9mVNHVdHRatiWm-ajBG_VcoT67gIUQuev9ASmLzR1z0z7Me6guiQn6_u2_VFXffNSkJ_Nrcs8_GDqVyDsLEI_0vUvyUrMBridJvadRUhD494Y4oJ516TTF-RKAm1cq26xuxEHrm4tzPP5oPHMebiy9FEGcoH8tIEPx7D3UL6szewQ__mbrQSJry-gTJWqeVg98m1EZcQkrv83K-G1AXCzJAqA0N5hH4YrRgfeW-Ei9HtzpiO1Jq7DAKObKX-E47kWprLfCVt6cWRY5UvxSvvWSR7eKMEzSMqLbB-ErAccwAEitnySDE=s64",
      "userId": "00847478997328791076"
     },
     "user_tz": -120
    },
    "id": "rsGTa4PZKPb2",
    "outputId": "ab23475d-92fc-4f93-c1df-afedb4c3da16",
    "scrolled": false
   },
   "outputs": [
    {
     "data": {
      "text/plain": [
       "'24<span>99'"
      ]
     },
     "execution_count": 8,
     "metadata": {},
     "output_type": "execute_result"
    }
   ],
   "source": [
    "str(soup.find_all('div',{'class':'currentPrice'})[0])[32:-13]"
   ]
  },
  {
   "cell_type": "code",
   "execution_count": 9,
   "metadata": {
    "scrolled": false
   },
   "outputs": [],
   "source": [
    "p1_prices = [price for price in soup.find_all('div',{'class':'currentPrice'})]"
   ]
  },
  {
   "cell_type": "code",
   "execution_count": 10,
   "metadata": {},
   "outputs": [
    {
     "data": {
      "text/plain": [
       "[<div class=\"currentPrice\">\n",
       " \t\t\tR24<span>99</span></div>, <div class=\"currentPrice\">\n",
       " \t\t\tR34<span>99</span></div>, <div class=\"currentPrice\">\n",
       " \t\t\tR29<span>99</span></div>, <div class=\"currentPrice\">\n",
       " \t\t\tR24<span>99</span></div>, <div class=\"currentPrice\">\n",
       " \t\t\tR24<span>99</span></div>, <div class=\"currentPrice\">\n",
       " \t\t\tR34<span>99</span></div>, <div class=\"currentPrice\">\n",
       " \t\t\tR29<span>99</span></div>, <div class=\"currentPrice\">\n",
       " \t\t\tR27<span>99</span></div>, <div class=\"currentPrice\">\n",
       " \t\t\tR34<span>99</span></div>, <div class=\"currentPrice\">\n",
       " \t\t\tR24<span>99</span></div>, <div class=\"currentPrice\">\n",
       " \t\t\tR17<span>99</span></div>, <div class=\"currentPrice\">\n",
       " \t\t\tR24<span>99</span></div>, <div class=\"currentPrice\">\n",
       " \t\t\tR34<span>99</span></div>, <div class=\"currentPrice\">\n",
       " \t\t\tR39<span>99</span></div>, <div class=\"currentPrice\">\n",
       " \t\t\tR27<span>99</span></div>, <div class=\"currentPrice\">\n",
       " \t\t\tR17<span>99</span></div>, <div class=\"currentPrice\">\n",
       " \t\t\tR54<span>99</span></div>, <div class=\"currentPrice\">\n",
       " \t\t\tR29<span>99</span></div>]"
      ]
     },
     "execution_count": 10,
     "metadata": {},
     "output_type": "execute_result"
    }
   ],
   "source": [
    "p1_prices"
   ]
  },
  {
   "cell_type": "code",
   "execution_count": 11,
   "metadata": {},
   "outputs": [],
   "source": [
    "p1_prices = [str(price) for price in p1_prices]\n",
    "p1_prices = [price[32:-13] for price in p1_prices]"
   ]
  },
  {
   "cell_type": "code",
   "execution_count": 12,
   "metadata": {
    "scrolled": true
   },
   "outputs": [],
   "source": [
    "p1_prices = [(price[:2]+'.'+price[-2:])for price in p1_prices]"
   ]
  },
  {
   "cell_type": "code",
   "execution_count": 13,
   "metadata": {},
   "outputs": [
    {
     "data": {
      "text/plain": [
       "['24.99',\n",
       " '34.99',\n",
       " '29.99',\n",
       " '24.99',\n",
       " '24.99',\n",
       " '34.99',\n",
       " '29.99',\n",
       " '27.99',\n",
       " '34.99',\n",
       " '24.99',\n",
       " '17.99',\n",
       " '24.99',\n",
       " '34.99',\n",
       " '39.99',\n",
       " '27.99',\n",
       " '17.99',\n",
       " '54.99',\n",
       " '29.99']"
      ]
     },
     "execution_count": 13,
     "metadata": {},
     "output_type": "execute_result"
    }
   ],
   "source": [
    "p1_prices"
   ]
  },
  {
   "cell_type": "markdown",
   "metadata": {},
   "source": [
    "## Page 2"
   ]
  },
  {
   "cell_type": "code",
   "execution_count": 14,
   "metadata": {
    "colab": {
     "base_uri": "https://localhost:8080/",
     "height": 1000
    },
    "colab_type": "code",
    "executionInfo": {
     "elapsed": 1439,
     "status": "ok",
     "timestamp": 1578482191044,
     "user": {
      "displayName": "Sicelukwanda Zwane",
      "photoUrl": "https://lh3.googleusercontent.com/a-/AAuE7mC-szhl9yzJzLq9yfNEveVZYI_zqcCdurYGXxC0PDCdOicKrXutXcgLbE-NtyM-dg0Dr_DkGCzyTfAHPRcdicFnL-lzcS-AwkA37XtzLeERyWljtpyqfP884KBtni3Zf2HjPpUkQ-mMzRqZgIziXk_3Ba5GUv1Nulc066XTfW6oCr6lZQ7v2qdOblWEr8EeuAWXL9hmV-QDTInxM7hAcPzc1x-_Hn4r3FWp5xxBfgQkHJ0Ysd5JdDemHtHuSPavjfwrZwFV8FbaJggpdUFb1runTZzWvh_M6aP4qMrQ9L4JL26-VcEnOzNB0khOTNRH3s2NLjVouceuq7y3DqbPz5u9zRp7w_DYd7OoOYM9mKUQua4zOpkjG00nS0HVEw6fApWrR05VQneGPI0hYyB-NqtXXiSOHenW7wHl0IFrQYG59fHrNqPLLP439zRfwOK05CW-AK_LeHMn9mVNHVdHRatiWm-ajBG_VcoT67gIUQuev9ASmLzR1z0z7Me6guiQn6_u2_VFXffNSkJ_Nrcs8_GDqVyDsLEI_0vUvyUrMBridJvadRUhD494Y4oJ516TTF-RKAm1cq26xuxEHrm4tzPP5oPHMebiy9FEGcoH8tIEPx7D3UL6szewQ__mbrQSJry-gTJWqeVg98m1EZcQkrv83K-G1AXCzJAqA0N5hH4YrRgfeW-Ei9HtzpiO1Jq7DAKObKX-E47kWprLfCVt6cWRY5UvxSvvWSR7eKMEzSMqLbB-ErAccwAEitnySDE=s64",
      "userId": "00847478997328791076"
     },
     "user_tz": -120
    },
    "id": "wxweFVnz-6TP",
    "outputId": "5a58683c-d68d-4652-cb1e-bd61a7c61edf",
    "scrolled": true
   },
   "outputs": [],
   "source": [
    "# Step 1: Sending a HTTP request to a URL\n",
    "url = 'https://www.pnp.co.za/pnpstorefront/pnp/en/All-Products/Fresh-Food/Fruit/c/fruit703655157?q=%3Arelevance&pageSize=18&page=1'\n",
    "\n",
    "# Make a GET request to fetch the raw HTML content\n",
    "response = requests.get(url)\n",
    "\n",
    "# From the response, we need the text\n",
    "page = response.text\n",
    "\n",
    "# Step 2: Parse the html content\n",
    "# Parse the html content\n",
    "soup = BeautifulSoup(page, \"html.parser\")"
   ]
  },
  {
   "cell_type": "code",
   "execution_count": 15,
   "metadata": {},
   "outputs": [],
   "source": [
    "p2_items = [str(item)[23:-6] for item in list(soup.find_all('div',{'class':'item-name'})) ]"
   ]
  },
  {
   "cell_type": "code",
   "execution_count": 16,
   "metadata": {
    "scrolled": true
   },
   "outputs": [
    {
     "data": {
      "text/plain": [
       "['PnP Lemons 850g',\n",
       " 'PnP Breakfast Papaya',\n",
       " 'PnP Pink Lady Apples 1 Kg',\n",
       " 'PnP Golden Delicious Apples 1.5kg',\n",
       " 'PnP Baby Papaya 2s',\n",
       " 'PnP Top Red Apples 1.5kg',\n",
       " 'PnP Packham Pears 1.5kg',\n",
       " 'PnP Kids Red Apples 1kg',\n",
       " 'PnP Bananas 750g',\n",
       " 'PnP Pineapples 2s',\n",
       " 'PnP Bananas 1.5kg',\n",
       " 'PnP Granny Smith Apples 1.5kg',\n",
       " 'PnP Soft Citrus Half Tray 1.5kg']"
      ]
     },
     "execution_count": 16,
     "metadata": {},
     "output_type": "execute_result"
    }
   ],
   "source": [
    "p2_items"
   ]
  },
  {
   "cell_type": "code",
   "execution_count": 17,
   "metadata": {
    "scrolled": false
   },
   "outputs": [],
   "source": [
    "p2_prices = [price for price in soup.find_all('div',{'class':'currentPrice'})]"
   ]
  },
  {
   "cell_type": "code",
   "execution_count": 18,
   "metadata": {},
   "outputs": [
    {
     "data": {
      "text/plain": [
       "[<div class=\"currentPrice\">\n",
       " \t\t\tR26<span>99</span></div>, <div class=\"currentPrice\">\n",
       " \t\t\tR37<span>99</span></div>, <div class=\"currentPrice\">\n",
       " \t\t\tR25<span>99</span></div>, <div class=\"currentPrice\">\n",
       " \t\t\tR26<span>99</span></div>, <div class=\"currentPrice\">\n",
       " \t\t\tR29<span>99</span></div>, <div class=\"currentPrice\">\n",
       " \t\t\tR32<span>99</span></div>, <div class=\"currentPrice\">\n",
       " \t\t\tR26<span>99</span></div>, <div class=\"currentPrice\">\n",
       " \t\t\tR17<span>99</span></div>, <div class=\"currentPrice\">\n",
       " \t\t\tR17<span>99</span></div>, <div class=\"currentPrice\">\n",
       " \t\t\tR29<span>99</span></div>, <div class=\"currentPrice\">\n",
       " \t\t\tR34<span>99</span></div>, <div class=\"currentPrice\">\n",
       " \t\t\tR26<span>99</span></div>, <div class=\"currentPrice\">\n",
       " \t\t\tR44<span>99</span></div>]"
      ]
     },
     "execution_count": 18,
     "metadata": {},
     "output_type": "execute_result"
    }
   ],
   "source": [
    "p2_prices"
   ]
  },
  {
   "cell_type": "code",
   "execution_count": 19,
   "metadata": {},
   "outputs": [],
   "source": [
    "p2_prices = [str(price) for price in p2_prices]\n",
    "p2_prices = [price[32:-13] for price in p2_prices]"
   ]
  },
  {
   "cell_type": "code",
   "execution_count": 20,
   "metadata": {
    "scrolled": true
   },
   "outputs": [],
   "source": [
    "p2_prices = [(price[:2]+'.'+price[-2:])for price in p2_prices]"
   ]
  },
  {
   "cell_type": "code",
   "execution_count": 21,
   "metadata": {},
   "outputs": [
    {
     "data": {
      "text/plain": [
       "['26.99',\n",
       " '37.99',\n",
       " '25.99',\n",
       " '26.99',\n",
       " '29.99',\n",
       " '32.99',\n",
       " '26.99',\n",
       " '17.99',\n",
       " '17.99',\n",
       " '29.99',\n",
       " '34.99',\n",
       " '26.99',\n",
       " '44.99']"
      ]
     },
     "execution_count": 21,
     "metadata": {},
     "output_type": "execute_result"
    }
   ],
   "source": [
    "p2_prices"
   ]
  },
  {
   "cell_type": "markdown",
   "metadata": {},
   "source": [
    "## Page 1 and 2 merged"
   ]
  },
  {
   "cell_type": "code",
   "execution_count": 22,
   "metadata": {},
   "outputs": [],
   "source": [
    "items = p1_items + p2_items\n",
    "prices = p1_prices + p2_prices"
   ]
  },
  {
   "cell_type": "code",
   "execution_count": 23,
   "metadata": {},
   "outputs": [
    {
     "data": {
      "text/plain": [
       "['24.99',\n",
       " '34.99',\n",
       " '29.99',\n",
       " '24.99',\n",
       " '24.99',\n",
       " '34.99',\n",
       " '29.99',\n",
       " '27.99',\n",
       " '34.99',\n",
       " '24.99',\n",
       " '17.99',\n",
       " '24.99',\n",
       " '34.99',\n",
       " '39.99',\n",
       " '27.99',\n",
       " '17.99',\n",
       " '54.99',\n",
       " '29.99',\n",
       " '26.99',\n",
       " '37.99',\n",
       " '25.99',\n",
       " '26.99',\n",
       " '29.99',\n",
       " '32.99',\n",
       " '26.99',\n",
       " '17.99',\n",
       " '17.99',\n",
       " '29.99',\n",
       " '34.99',\n",
       " '26.99',\n",
       " '44.99']"
      ]
     },
     "execution_count": 23,
     "metadata": {},
     "output_type": "execute_result"
    }
   ],
   "source": [
    "prices"
   ]
  },
  {
   "cell_type": "code",
   "execution_count": 24,
   "metadata": {},
   "outputs": [
    {
     "data": {
      "text/plain": [
       "['PnP Oranges 4s',\n",
       " 'PnP Plums 750g',\n",
       " 'PnP Starking Apples 1.5kg',\n",
       " 'PnP Queen Pineapple',\n",
       " 'PnP Juicing Oranges 2kg',\n",
       " 'PnP Grapefruit Carry Bag 2.5kg',\n",
       " 'PnP Medjool Dates 180g',\n",
       " 'PnP Lemons 4s',\n",
       " 'PnP Grapefruit 4s',\n",
       " 'PnP Pears 1.5kg',\n",
       " 'PnP Organic Bananas',\n",
       " 'PnP Oranges Bag 2.5kg',\n",
       " 'PnP Kiwi Fruit 4s',\n",
       " 'PnP Seasonal Sharing 450g',\n",
       " 'PnP Royal Gala Apples 1.5kg',\n",
       " 'PnP Kids Yellow Apples 1kg',\n",
       " 'PnP Mandarins Tray',\n",
       " 'PnP Limes 350g',\n",
       " 'PnP Lemons 850g',\n",
       " 'PnP Breakfast Papaya',\n",
       " 'PnP Pink Lady Apples 1 Kg',\n",
       " 'PnP Golden Delicious Apples 1.5kg',\n",
       " 'PnP Baby Papaya 2s',\n",
       " 'PnP Top Red Apples 1.5kg',\n",
       " 'PnP Packham Pears 1.5kg',\n",
       " 'PnP Kids Red Apples 1kg',\n",
       " 'PnP Bananas 750g',\n",
       " 'PnP Pineapples 2s',\n",
       " 'PnP Bananas 1.5kg',\n",
       " 'PnP Granny Smith Apples 1.5kg',\n",
       " 'PnP Soft Citrus Half Tray 1.5kg']"
      ]
     },
     "execution_count": 24,
     "metadata": {},
     "output_type": "execute_result"
    }
   ],
   "source": [
    "items"
   ]
  },
  {
   "cell_type": "code",
   "execution_count": 25,
   "metadata": {},
   "outputs": [],
   "source": [
    "PnP_prices = pd.DataFrame()\n",
    "PnP_prices[\"Item\"] = pd.Series(items)\n",
    "PnP_prices[\"Price\"] = pd.Series(prices)"
   ]
  },
  {
   "cell_type": "code",
   "execution_count": 26,
   "metadata": {},
   "outputs": [],
   "source": [
    "n=0\n",
    "day = []\n",
    "while n < len(items):\n",
    "    day.append(date.today())\n",
    "    n+=1\n",
    "PnP_prices[\"Date\"] = pd.Series(day)"
   ]
  },
  {
   "cell_type": "code",
   "execution_count": 27,
   "metadata": {},
   "outputs": [
    {
     "data": {
      "text/html": [
       "<div>\n",
       "<style scoped>\n",
       "    .dataframe tbody tr th:only-of-type {\n",
       "        vertical-align: middle;\n",
       "    }\n",
       "\n",
       "    .dataframe tbody tr th {\n",
       "        vertical-align: top;\n",
       "    }\n",
       "\n",
       "    .dataframe thead th {\n",
       "        text-align: right;\n",
       "    }\n",
       "</style>\n",
       "<table border=\"1\" class=\"dataframe\">\n",
       "  <thead>\n",
       "    <tr style=\"text-align: right;\">\n",
       "      <th></th>\n",
       "      <th>Item</th>\n",
       "      <th>Price</th>\n",
       "      <th>Date</th>\n",
       "    </tr>\n",
       "  </thead>\n",
       "  <tbody>\n",
       "    <tr>\n",
       "      <th>0</th>\n",
       "      <td>PnP Oranges 4s</td>\n",
       "      <td>24.99</td>\n",
       "      <td>2020-08-23</td>\n",
       "    </tr>\n",
       "    <tr>\n",
       "      <th>1</th>\n",
       "      <td>PnP Plums 750g</td>\n",
       "      <td>34.99</td>\n",
       "      <td>2020-08-23</td>\n",
       "    </tr>\n",
       "    <tr>\n",
       "      <th>2</th>\n",
       "      <td>PnP Starking Apples 1.5kg</td>\n",
       "      <td>29.99</td>\n",
       "      <td>2020-08-23</td>\n",
       "    </tr>\n",
       "    <tr>\n",
       "      <th>3</th>\n",
       "      <td>PnP Queen Pineapple</td>\n",
       "      <td>24.99</td>\n",
       "      <td>2020-08-23</td>\n",
       "    </tr>\n",
       "    <tr>\n",
       "      <th>4</th>\n",
       "      <td>PnP Juicing Oranges 2kg</td>\n",
       "      <td>24.99</td>\n",
       "      <td>2020-08-23</td>\n",
       "    </tr>\n",
       "    <tr>\n",
       "      <th>5</th>\n",
       "      <td>PnP Grapefruit Carry Bag 2.5kg</td>\n",
       "      <td>34.99</td>\n",
       "      <td>2020-08-23</td>\n",
       "    </tr>\n",
       "    <tr>\n",
       "      <th>6</th>\n",
       "      <td>PnP Medjool Dates 180g</td>\n",
       "      <td>29.99</td>\n",
       "      <td>2020-08-23</td>\n",
       "    </tr>\n",
       "    <tr>\n",
       "      <th>7</th>\n",
       "      <td>PnP Lemons 4s</td>\n",
       "      <td>27.99</td>\n",
       "      <td>2020-08-23</td>\n",
       "    </tr>\n",
       "    <tr>\n",
       "      <th>8</th>\n",
       "      <td>PnP Grapefruit 4s</td>\n",
       "      <td>34.99</td>\n",
       "      <td>2020-08-23</td>\n",
       "    </tr>\n",
       "    <tr>\n",
       "      <th>9</th>\n",
       "      <td>PnP Pears 1.5kg</td>\n",
       "      <td>24.99</td>\n",
       "      <td>2020-08-23</td>\n",
       "    </tr>\n",
       "    <tr>\n",
       "      <th>10</th>\n",
       "      <td>PnP Organic Bananas</td>\n",
       "      <td>17.99</td>\n",
       "      <td>2020-08-23</td>\n",
       "    </tr>\n",
       "    <tr>\n",
       "      <th>11</th>\n",
       "      <td>PnP Oranges Bag 2.5kg</td>\n",
       "      <td>24.99</td>\n",
       "      <td>2020-08-23</td>\n",
       "    </tr>\n",
       "    <tr>\n",
       "      <th>12</th>\n",
       "      <td>PnP Kiwi Fruit 4s</td>\n",
       "      <td>34.99</td>\n",
       "      <td>2020-08-23</td>\n",
       "    </tr>\n",
       "    <tr>\n",
       "      <th>13</th>\n",
       "      <td>PnP Seasonal Sharing 450g</td>\n",
       "      <td>39.99</td>\n",
       "      <td>2020-08-23</td>\n",
       "    </tr>\n",
       "    <tr>\n",
       "      <th>14</th>\n",
       "      <td>PnP Royal Gala Apples 1.5kg</td>\n",
       "      <td>27.99</td>\n",
       "      <td>2020-08-23</td>\n",
       "    </tr>\n",
       "    <tr>\n",
       "      <th>15</th>\n",
       "      <td>PnP Kids Yellow Apples 1kg</td>\n",
       "      <td>17.99</td>\n",
       "      <td>2020-08-23</td>\n",
       "    </tr>\n",
       "    <tr>\n",
       "      <th>16</th>\n",
       "      <td>PnP Mandarins Tray</td>\n",
       "      <td>54.99</td>\n",
       "      <td>2020-08-23</td>\n",
       "    </tr>\n",
       "    <tr>\n",
       "      <th>17</th>\n",
       "      <td>PnP Limes 350g</td>\n",
       "      <td>29.99</td>\n",
       "      <td>2020-08-23</td>\n",
       "    </tr>\n",
       "    <tr>\n",
       "      <th>18</th>\n",
       "      <td>PnP Lemons 850g</td>\n",
       "      <td>26.99</td>\n",
       "      <td>2020-08-23</td>\n",
       "    </tr>\n",
       "    <tr>\n",
       "      <th>19</th>\n",
       "      <td>PnP Breakfast Papaya</td>\n",
       "      <td>37.99</td>\n",
       "      <td>2020-08-23</td>\n",
       "    </tr>\n",
       "    <tr>\n",
       "      <th>20</th>\n",
       "      <td>PnP Pink Lady Apples 1 Kg</td>\n",
       "      <td>25.99</td>\n",
       "      <td>2020-08-23</td>\n",
       "    </tr>\n",
       "    <tr>\n",
       "      <th>21</th>\n",
       "      <td>PnP Golden Delicious Apples 1.5kg</td>\n",
       "      <td>26.99</td>\n",
       "      <td>2020-08-23</td>\n",
       "    </tr>\n",
       "    <tr>\n",
       "      <th>22</th>\n",
       "      <td>PnP Baby Papaya 2s</td>\n",
       "      <td>29.99</td>\n",
       "      <td>2020-08-23</td>\n",
       "    </tr>\n",
       "    <tr>\n",
       "      <th>23</th>\n",
       "      <td>PnP Top Red Apples 1.5kg</td>\n",
       "      <td>32.99</td>\n",
       "      <td>2020-08-23</td>\n",
       "    </tr>\n",
       "    <tr>\n",
       "      <th>24</th>\n",
       "      <td>PnP Packham Pears 1.5kg</td>\n",
       "      <td>26.99</td>\n",
       "      <td>2020-08-23</td>\n",
       "    </tr>\n",
       "    <tr>\n",
       "      <th>25</th>\n",
       "      <td>PnP Kids Red Apples 1kg</td>\n",
       "      <td>17.99</td>\n",
       "      <td>2020-08-23</td>\n",
       "    </tr>\n",
       "    <tr>\n",
       "      <th>26</th>\n",
       "      <td>PnP Bananas 750g</td>\n",
       "      <td>17.99</td>\n",
       "      <td>2020-08-23</td>\n",
       "    </tr>\n",
       "    <tr>\n",
       "      <th>27</th>\n",
       "      <td>PnP Pineapples 2s</td>\n",
       "      <td>29.99</td>\n",
       "      <td>2020-08-23</td>\n",
       "    </tr>\n",
       "    <tr>\n",
       "      <th>28</th>\n",
       "      <td>PnP Bananas 1.5kg</td>\n",
       "      <td>34.99</td>\n",
       "      <td>2020-08-23</td>\n",
       "    </tr>\n",
       "    <tr>\n",
       "      <th>29</th>\n",
       "      <td>PnP Granny Smith Apples 1.5kg</td>\n",
       "      <td>26.99</td>\n",
       "      <td>2020-08-23</td>\n",
       "    </tr>\n",
       "    <tr>\n",
       "      <th>30</th>\n",
       "      <td>PnP Soft Citrus Half Tray 1.5kg</td>\n",
       "      <td>44.99</td>\n",
       "      <td>2020-08-23</td>\n",
       "    </tr>\n",
       "  </tbody>\n",
       "</table>\n",
       "</div>"
      ],
      "text/plain": [
       "                                 Item  Price        Date\n",
       "0                      PnP Oranges 4s  24.99  2020-08-23\n",
       "1                      PnP Plums 750g  34.99  2020-08-23\n",
       "2           PnP Starking Apples 1.5kg  29.99  2020-08-23\n",
       "3                 PnP Queen Pineapple  24.99  2020-08-23\n",
       "4             PnP Juicing Oranges 2kg  24.99  2020-08-23\n",
       "5      PnP Grapefruit Carry Bag 2.5kg  34.99  2020-08-23\n",
       "6              PnP Medjool Dates 180g  29.99  2020-08-23\n",
       "7                       PnP Lemons 4s  27.99  2020-08-23\n",
       "8                   PnP Grapefruit 4s  34.99  2020-08-23\n",
       "9                     PnP Pears 1.5kg  24.99  2020-08-23\n",
       "10                PnP Organic Bananas  17.99  2020-08-23\n",
       "11              PnP Oranges Bag 2.5kg  24.99  2020-08-23\n",
       "12                  PnP Kiwi Fruit 4s  34.99  2020-08-23\n",
       "13          PnP Seasonal Sharing 450g  39.99  2020-08-23\n",
       "14        PnP Royal Gala Apples 1.5kg  27.99  2020-08-23\n",
       "15         PnP Kids Yellow Apples 1kg  17.99  2020-08-23\n",
       "16                 PnP Mandarins Tray  54.99  2020-08-23\n",
       "17                     PnP Limes 350g  29.99  2020-08-23\n",
       "18                    PnP Lemons 850g  26.99  2020-08-23\n",
       "19               PnP Breakfast Papaya  37.99  2020-08-23\n",
       "20          PnP Pink Lady Apples 1 Kg  25.99  2020-08-23\n",
       "21  PnP Golden Delicious Apples 1.5kg  26.99  2020-08-23\n",
       "22                 PnP Baby Papaya 2s  29.99  2020-08-23\n",
       "23           PnP Top Red Apples 1.5kg  32.99  2020-08-23\n",
       "24            PnP Packham Pears 1.5kg  26.99  2020-08-23\n",
       "25            PnP Kids Red Apples 1kg  17.99  2020-08-23\n",
       "26                   PnP Bananas 750g  17.99  2020-08-23\n",
       "27                  PnP Pineapples 2s  29.99  2020-08-23\n",
       "28                  PnP Bananas 1.5kg  34.99  2020-08-23\n",
       "29      PnP Granny Smith Apples 1.5kg  26.99  2020-08-23\n",
       "30    PnP Soft Citrus Half Tray 1.5kg  44.99  2020-08-23"
      ]
     },
     "execution_count": 27,
     "metadata": {},
     "output_type": "execute_result"
    }
   ],
   "source": [
    "PnP_prices"
   ]
  },
  {
   "cell_type": "code",
   "execution_count": 29,
   "metadata": {
    "scrolled": true
   },
   "outputs": [
    {
     "data": {
      "text/html": [
       "<div>\n",
       "<style scoped>\n",
       "    .dataframe tbody tr th:only-of-type {\n",
       "        vertical-align: middle;\n",
       "    }\n",
       "\n",
       "    .dataframe tbody tr th {\n",
       "        vertical-align: top;\n",
       "    }\n",
       "\n",
       "    .dataframe thead th {\n",
       "        text-align: right;\n",
       "    }\n",
       "</style>\n",
       "<table border=\"1\" class=\"dataframe\">\n",
       "  <thead>\n",
       "    <tr style=\"text-align: right;\">\n",
       "      <th></th>\n",
       "      <th>Item</th>\n",
       "      <th>Price</th>\n",
       "      <th>Date</th>\n",
       "    </tr>\n",
       "  </thead>\n",
       "  <tbody>\n",
       "    <tr>\n",
       "      <th>0</th>\n",
       "      <td>PnP Oranges 4s</td>\n",
       "      <td>24.99</td>\n",
       "      <td>2020-08-23</td>\n",
       "    </tr>\n",
       "    <tr>\n",
       "      <th>1</th>\n",
       "      <td>PnP Plums 750g</td>\n",
       "      <td>34.99</td>\n",
       "      <td>2020-08-23</td>\n",
       "    </tr>\n",
       "    <tr>\n",
       "      <th>2</th>\n",
       "      <td>PnP Starking Apples 1.5kg</td>\n",
       "      <td>29.99</td>\n",
       "      <td>2020-08-23</td>\n",
       "    </tr>\n",
       "    <tr>\n",
       "      <th>3</th>\n",
       "      <td>PnP Queen Pineapple</td>\n",
       "      <td>24.99</td>\n",
       "      <td>2020-08-23</td>\n",
       "    </tr>\n",
       "    <tr>\n",
       "      <th>4</th>\n",
       "      <td>PnP Juicing Oranges 2kg</td>\n",
       "      <td>24.99</td>\n",
       "      <td>2020-08-23</td>\n",
       "    </tr>\n",
       "    <tr>\n",
       "      <th>5</th>\n",
       "      <td>PnP Grapefruit Carry Bag 2.5kg</td>\n",
       "      <td>34.99</td>\n",
       "      <td>2020-08-23</td>\n",
       "    </tr>\n",
       "    <tr>\n",
       "      <th>6</th>\n",
       "      <td>PnP Medjool Dates 180g</td>\n",
       "      <td>29.99</td>\n",
       "      <td>2020-08-23</td>\n",
       "    </tr>\n",
       "    <tr>\n",
       "      <th>7</th>\n",
       "      <td>PnP Lemons 4s</td>\n",
       "      <td>27.99</td>\n",
       "      <td>2020-08-23</td>\n",
       "    </tr>\n",
       "    <tr>\n",
       "      <th>8</th>\n",
       "      <td>PnP Pineapples 2s</td>\n",
       "      <td>29.99</td>\n",
       "      <td>2020-08-23</td>\n",
       "    </tr>\n",
       "    <tr>\n",
       "      <th>9</th>\n",
       "      <td>PnP Grapefruit 4s</td>\n",
       "      <td>34.99</td>\n",
       "      <td>2020-08-23</td>\n",
       "    </tr>\n",
       "    <tr>\n",
       "      <th>10</th>\n",
       "      <td>PnP Soft Citrus Half Tray 1.5kg</td>\n",
       "      <td>44.99</td>\n",
       "      <td>2020-08-23</td>\n",
       "    </tr>\n",
       "    <tr>\n",
       "      <th>11</th>\n",
       "      <td>PnP Pears 1.5kg</td>\n",
       "      <td>24.99</td>\n",
       "      <td>2020-08-23</td>\n",
       "    </tr>\n",
       "    <tr>\n",
       "      <th>12</th>\n",
       "      <td>PnP Organic Bananas</td>\n",
       "      <td>17.99</td>\n",
       "      <td>2020-08-23</td>\n",
       "    </tr>\n",
       "    <tr>\n",
       "      <th>13</th>\n",
       "      <td>PnP Oranges Bag 2.5kg</td>\n",
       "      <td>24.99</td>\n",
       "      <td>2020-08-23</td>\n",
       "    </tr>\n",
       "    <tr>\n",
       "      <th>14</th>\n",
       "      <td>PnP Bananas 1.5kg</td>\n",
       "      <td>34.99</td>\n",
       "      <td>2020-08-23</td>\n",
       "    </tr>\n",
       "    <tr>\n",
       "      <th>15</th>\n",
       "      <td>PnP Bananas 750g</td>\n",
       "      <td>17.99</td>\n",
       "      <td>2020-08-23</td>\n",
       "    </tr>\n",
       "    <tr>\n",
       "      <th>16</th>\n",
       "      <td>PnP Kiwi Fruit 4s</td>\n",
       "      <td>34.99</td>\n",
       "      <td>2020-08-23</td>\n",
       "    </tr>\n",
       "    <tr>\n",
       "      <th>17</th>\n",
       "      <td>PnP Seasonal Sharing 450g</td>\n",
       "      <td>39.99</td>\n",
       "      <td>2020-08-23</td>\n",
       "    </tr>\n",
       "    <tr>\n",
       "      <th>18</th>\n",
       "      <td>PnP Royal Gala Apples 1.5kg</td>\n",
       "      <td>27.99</td>\n",
       "      <td>2020-08-23</td>\n",
       "    </tr>\n",
       "    <tr>\n",
       "      <th>19</th>\n",
       "      <td>PnP Kids Yellow Apples 1kg</td>\n",
       "      <td>17.99</td>\n",
       "      <td>2020-08-23</td>\n",
       "    </tr>\n",
       "    <tr>\n",
       "      <th>20</th>\n",
       "      <td>PnP Mandarins Tray</td>\n",
       "      <td>54.99</td>\n",
       "      <td>2020-08-23</td>\n",
       "    </tr>\n",
       "    <tr>\n",
       "      <th>21</th>\n",
       "      <td>PnP Limes 350g</td>\n",
       "      <td>29.99</td>\n",
       "      <td>2020-08-23</td>\n",
       "    </tr>\n",
       "    <tr>\n",
       "      <th>22</th>\n",
       "      <td>PnP Lemons 850g</td>\n",
       "      <td>26.99</td>\n",
       "      <td>2020-08-23</td>\n",
       "    </tr>\n",
       "    <tr>\n",
       "      <th>23</th>\n",
       "      <td>PnP Breakfast Papaya</td>\n",
       "      <td>37.99</td>\n",
       "      <td>2020-08-23</td>\n",
       "    </tr>\n",
       "    <tr>\n",
       "      <th>24</th>\n",
       "      <td>PnP Pink Lady Apples 1 Kg</td>\n",
       "      <td>25.99</td>\n",
       "      <td>2020-08-23</td>\n",
       "    </tr>\n",
       "    <tr>\n",
       "      <th>25</th>\n",
       "      <td>PnP Golden Delicious Apples 1.5kg</td>\n",
       "      <td>26.99</td>\n",
       "      <td>2020-08-23</td>\n",
       "    </tr>\n",
       "    <tr>\n",
       "      <th>26</th>\n",
       "      <td>PnP Baby Papaya 2s</td>\n",
       "      <td>29.99</td>\n",
       "      <td>2020-08-23</td>\n",
       "    </tr>\n",
       "    <tr>\n",
       "      <th>27</th>\n",
       "      <td>PnP Granny Smith Apples 1.5kg</td>\n",
       "      <td>26.99</td>\n",
       "      <td>2020-08-23</td>\n",
       "    </tr>\n",
       "    <tr>\n",
       "      <th>28</th>\n",
       "      <td>PnP Top Red Apples 1.5kg</td>\n",
       "      <td>32.99</td>\n",
       "      <td>2020-08-23</td>\n",
       "    </tr>\n",
       "    <tr>\n",
       "      <th>29</th>\n",
       "      <td>PnP Packham Pears 1.5kg</td>\n",
       "      <td>26.99</td>\n",
       "      <td>2020-08-23</td>\n",
       "    </tr>\n",
       "    <tr>\n",
       "      <th>30</th>\n",
       "      <td>PnP Kids Red Apples 1kg</td>\n",
       "      <td>17.99</td>\n",
       "      <td>2020-08-23</td>\n",
       "    </tr>\n",
       "  </tbody>\n",
       "</table>\n",
       "</div>"
      ],
      "text/plain": [
       "                                 Item  Price        Date\n",
       "0                      PnP Oranges 4s  24.99  2020-08-23\n",
       "1                      PnP Plums 750g  34.99  2020-08-23\n",
       "2           PnP Starking Apples 1.5kg  29.99  2020-08-23\n",
       "3                 PnP Queen Pineapple  24.99  2020-08-23\n",
       "4             PnP Juicing Oranges 2kg  24.99  2020-08-23\n",
       "5      PnP Grapefruit Carry Bag 2.5kg  34.99  2020-08-23\n",
       "6              PnP Medjool Dates 180g  29.99  2020-08-23\n",
       "7                       PnP Lemons 4s  27.99  2020-08-23\n",
       "8                   PnP Pineapples 2s  29.99  2020-08-23\n",
       "9                   PnP Grapefruit 4s  34.99  2020-08-23\n",
       "10    PnP Soft Citrus Half Tray 1.5kg  44.99  2020-08-23\n",
       "11                    PnP Pears 1.5kg  24.99  2020-08-23\n",
       "12                PnP Organic Bananas  17.99  2020-08-23\n",
       "13              PnP Oranges Bag 2.5kg  24.99  2020-08-23\n",
       "14                  PnP Bananas 1.5kg  34.99  2020-08-23\n",
       "15                   PnP Bananas 750g  17.99  2020-08-23\n",
       "16                  PnP Kiwi Fruit 4s  34.99  2020-08-23\n",
       "17          PnP Seasonal Sharing 450g  39.99  2020-08-23\n",
       "18        PnP Royal Gala Apples 1.5kg  27.99  2020-08-23\n",
       "19         PnP Kids Yellow Apples 1kg  17.99  2020-08-23\n",
       "20                 PnP Mandarins Tray  54.99  2020-08-23\n",
       "21                     PnP Limes 350g  29.99  2020-08-23\n",
       "22                    PnP Lemons 850g  26.99  2020-08-23\n",
       "23               PnP Breakfast Papaya  37.99  2020-08-23\n",
       "24          PnP Pink Lady Apples 1 Kg  25.99  2020-08-23\n",
       "25  PnP Golden Delicious Apples 1.5kg  26.99  2020-08-23\n",
       "26                 PnP Baby Papaya 2s  29.99  2020-08-23\n",
       "27      PnP Granny Smith Apples 1.5kg  26.99  2020-08-23\n",
       "28           PnP Top Red Apples 1.5kg  32.99  2020-08-23\n",
       "29            PnP Packham Pears 1.5kg  26.99  2020-08-23\n",
       "30            PnP Kids Red Apples 1kg  17.99  2020-08-23"
      ]
     },
     "execution_count": 29,
     "metadata": {},
     "output_type": "execute_result"
    }
   ],
   "source": [
    "prices = pd.read_csv('PnP_Prices.csv')\n",
    "prices"
   ]
  },
  {
   "cell_type": "code",
   "execution_count": 32,
   "metadata": {},
   "outputs": [],
   "source": [
    "prices = prices.append(PnP_prices)"
   ]
  },
  {
   "cell_type": "code",
   "execution_count": 33,
   "metadata": {},
   "outputs": [
    {
     "data": {
      "text/html": [
       "<div>\n",
       "<style scoped>\n",
       "    .dataframe tbody tr th:only-of-type {\n",
       "        vertical-align: middle;\n",
       "    }\n",
       "\n",
       "    .dataframe tbody tr th {\n",
       "        vertical-align: top;\n",
       "    }\n",
       "\n",
       "    .dataframe thead th {\n",
       "        text-align: right;\n",
       "    }\n",
       "</style>\n",
       "<table border=\"1\" class=\"dataframe\">\n",
       "  <thead>\n",
       "    <tr style=\"text-align: right;\">\n",
       "      <th></th>\n",
       "      <th>Item</th>\n",
       "      <th>Price</th>\n",
       "      <th>Date</th>\n",
       "    </tr>\n",
       "  </thead>\n",
       "  <tbody>\n",
       "    <tr>\n",
       "      <th>0</th>\n",
       "      <td>PnP Oranges 4s</td>\n",
       "      <td>24.99</td>\n",
       "      <td>2020-08-23</td>\n",
       "    </tr>\n",
       "    <tr>\n",
       "      <th>1</th>\n",
       "      <td>PnP Plums 750g</td>\n",
       "      <td>34.99</td>\n",
       "      <td>2020-08-23</td>\n",
       "    </tr>\n",
       "    <tr>\n",
       "      <th>2</th>\n",
       "      <td>PnP Starking Apples 1.5kg</td>\n",
       "      <td>29.99</td>\n",
       "      <td>2020-08-23</td>\n",
       "    </tr>\n",
       "    <tr>\n",
       "      <th>3</th>\n",
       "      <td>PnP Queen Pineapple</td>\n",
       "      <td>24.99</td>\n",
       "      <td>2020-08-23</td>\n",
       "    </tr>\n",
       "    <tr>\n",
       "      <th>4</th>\n",
       "      <td>PnP Juicing Oranges 2kg</td>\n",
       "      <td>24.99</td>\n",
       "      <td>2020-08-23</td>\n",
       "    </tr>\n",
       "    <tr>\n",
       "      <th>...</th>\n",
       "      <td>...</td>\n",
       "      <td>...</td>\n",
       "      <td>...</td>\n",
       "    </tr>\n",
       "    <tr>\n",
       "      <th>26</th>\n",
       "      <td>PnP Bananas 750g</td>\n",
       "      <td>17.99</td>\n",
       "      <td>2020-08-23</td>\n",
       "    </tr>\n",
       "    <tr>\n",
       "      <th>27</th>\n",
       "      <td>PnP Pineapples 2s</td>\n",
       "      <td>29.99</td>\n",
       "      <td>2020-08-23</td>\n",
       "    </tr>\n",
       "    <tr>\n",
       "      <th>28</th>\n",
       "      <td>PnP Bananas 1.5kg</td>\n",
       "      <td>34.99</td>\n",
       "      <td>2020-08-23</td>\n",
       "    </tr>\n",
       "    <tr>\n",
       "      <th>29</th>\n",
       "      <td>PnP Granny Smith Apples 1.5kg</td>\n",
       "      <td>26.99</td>\n",
       "      <td>2020-08-23</td>\n",
       "    </tr>\n",
       "    <tr>\n",
       "      <th>30</th>\n",
       "      <td>PnP Soft Citrus Half Tray 1.5kg</td>\n",
       "      <td>44.99</td>\n",
       "      <td>2020-08-23</td>\n",
       "    </tr>\n",
       "  </tbody>\n",
       "</table>\n",
       "<p>62 rows × 3 columns</p>\n",
       "</div>"
      ],
      "text/plain": [
       "                               Item  Price        Date\n",
       "0                    PnP Oranges 4s  24.99  2020-08-23\n",
       "1                    PnP Plums 750g  34.99  2020-08-23\n",
       "2         PnP Starking Apples 1.5kg  29.99  2020-08-23\n",
       "3               PnP Queen Pineapple  24.99  2020-08-23\n",
       "4           PnP Juicing Oranges 2kg  24.99  2020-08-23\n",
       "..                              ...    ...         ...\n",
       "26                 PnP Bananas 750g  17.99  2020-08-23\n",
       "27                PnP Pineapples 2s  29.99  2020-08-23\n",
       "28                PnP Bananas 1.5kg  34.99  2020-08-23\n",
       "29    PnP Granny Smith Apples 1.5kg  26.99  2020-08-23\n",
       "30  PnP Soft Citrus Half Tray 1.5kg  44.99  2020-08-23\n",
       "\n",
       "[62 rows x 3 columns]"
      ]
     },
     "execution_count": 33,
     "metadata": {},
     "output_type": "execute_result"
    }
   ],
   "source": [
    "prices"
   ]
  },
  {
   "cell_type": "code",
   "execution_count": null,
   "metadata": {},
   "outputs": [],
   "source": [
    "prices.to_csv('PnP_Prices.csv')"
   ]
  }
 ],
 "metadata": {
  "colab": {
   "collapsed_sections": [],
   "name": "intro_to_beautiful_soup.ipynb",
   "provenance": []
  },
  "kernelspec": {
   "display_name": "Python 3",
   "language": "python",
   "name": "python3"
  },
  "language_info": {
   "codemirror_mode": {
    "name": "ipython",
    "version": 3
   },
   "file_extension": ".py",
   "mimetype": "text/x-python",
   "name": "python",
   "nbconvert_exporter": "python",
   "pygments_lexer": "ipython3",
   "version": "3.7.3"
  },
  "toc": {
   "base_numbering": 1,
   "nav_menu": {},
   "number_sections": true,
   "sideBar": true,
   "skip_h1_title": false,
   "title_cell": "Table of Contents",
   "title_sidebar": "Contents",
   "toc_cell": false,
   "toc_position": {},
   "toc_section_display": true,
   "toc_window_display": false
  }
 },
 "nbformat": 4,
 "nbformat_minor": 1
}
