{
  "nbformat": 4,
  "nbformat_minor": 0,
  "metadata": {
    "colab": {
      "name": "colab-cleaning",
      "provenance": [],
      "authorship_tag": "ABX9TyO/WQh1Ijnh9gMl/iN8sLN0",
      "include_colab_link": true
    },
    "kernelspec": {
      "name": "python3",
      "display_name": "Python 3"
    }
  },
  "cells": [
    {
      "cell_type": "markdown",
      "metadata": {
        "id": "view-in-github",
        "colab_type": "text"
      },
      "source": [
        "<a href=\"https://colab.research.google.com/github/scmosoeu/fresh_produce/blob/master/colab_cleaning.ipynb\" target=\"_parent\"><img src=\"https://colab.research.google.com/assets/colab-badge.svg\" alt=\"Open In Colab\"/></a>"
      ]
    },
    {
      "cell_type": "markdown",
      "metadata": {
        "id": "Ny1uX5yzaSt_",
        "colab_type": "text"
      },
      "source": [
        "# 1. Introduction\n",
        "\n",
        "This notebook connects to the Fresh Produce Database on SQL, cleans the tables and save the cleaned tables in the database."
      ]
    },
    {
      "cell_type": "markdown",
      "metadata": {
        "id": "om7YkJ56aPLz",
        "colab_type": "text"
      },
      "source": [
        ""
      ]
    },
    {
      "cell_type": "code",
      "metadata": {
        "id": "ve-DtrumZ2vw",
        "colab_type": "code",
        "colab": {
          "base_uri": "https://localhost:8080/",
          "height": 232
        },
        "outputId": "3ae1fd0a-c67d-4232-a765-df940c8e6790"
      },
      "source": [
        "!pip install pyodbc "
      ],
      "execution_count": 2,
      "outputs": [
        {
          "output_type": "stream",
          "text": [
            "Collecting pyodbc\n",
            "\u001b[?25l  Downloading https://files.pythonhosted.org/packages/81/0d/bb08bb16c97765244791c73e49de9fd4c24bb3ef00313aed82e5640dee5d/pyodbc-4.0.30.tar.gz (266kB)\n",
            "\u001b[K     |████████████████████████████████| 276kB 3.4MB/s \n",
            "\u001b[?25hBuilding wheels for collected packages: pyodbc\n",
            "  Building wheel for pyodbc (setup.py) ... \u001b[?25lerror\n",
            "\u001b[31m  ERROR: Failed building wheel for pyodbc\u001b[0m\n",
            "\u001b[?25h  Running setup.py clean for pyodbc\n",
            "Failed to build pyodbc\n",
            "Installing collected packages: pyodbc\n",
            "    Running setup.py install for pyodbc ... \u001b[?25l\u001b[?25herror\n",
            "\u001b[31mERROR: Command errored out with exit status 1: /usr/bin/python3 -u -c 'import sys, setuptools, tokenize; sys.argv[0] = '\"'\"'/tmp/pip-install-jkjvy9e5/pyodbc/setup.py'\"'\"'; __file__='\"'\"'/tmp/pip-install-jkjvy9e5/pyodbc/setup.py'\"'\"';f=getattr(tokenize, '\"'\"'open'\"'\"', open)(__file__);code=f.read().replace('\"'\"'\\r\\n'\"'\"', '\"'\"'\\n'\"'\"');f.close();exec(compile(code, __file__, '\"'\"'exec'\"'\"'))' install --record /tmp/pip-record-jrnfurbj/install-record.txt --single-version-externally-managed --compile Check the logs for full command output.\u001b[0m\n"
          ],
          "name": "stdout"
        }
      ]
    },
    {
      "cell_type": "code",
      "metadata": {
        "id": "QZDpGnChZ7WE",
        "colab_type": "code",
        "colab": {}
      },
      "source": [
        "#servername: DESKTOP-TTAV4PQ\\SQLEXPRESS"
      ],
      "execution_count": 3,
      "outputs": []
    },
    {
      "cell_type": "code",
      "metadata": {
        "id": "i9yrF5CvZ_xZ",
        "colab_type": "code",
        "colab": {}
      },
      "source": [
        "#!pip install sqlalchemy\n",
        "#!conda install pymssql\n",
        "#apt-get -qq install python-pymssql python3-pymssql"
      ],
      "execution_count": 4,
      "outputs": []
    },
    {
      "cell_type": "code",
      "metadata": {
        "id": "AgEVh5L8aDmE",
        "colab_type": "code",
        "colab": {}
      },
      "source": [
        "#Importing modules\n",
        "import pandas as pd\n",
        "import numpy as np\n",
        "#import pyodbc"
      ],
      "execution_count": 9,
      "outputs": []
    },
    {
      "cell_type": "code",
      "metadata": {
        "id": "S7cG-J19aJDm",
        "colab_type": "code",
        "colab": {}
      },
      "source": [
        ""
      ],
      "execution_count": null,
      "outputs": []
    },
    {
      "cell_type": "markdown",
      "metadata": {
        "id": "oe_zQ6uhaup_",
        "colab_type": "text"
      },
      "source": [
        "## Local Connection SQL"
      ]
    },
    {
      "cell_type": "code",
      "metadata": {
        "id": "Uvyf5C-waxLs",
        "colab_type": "code",
        "colab": {}
      },
      "source": [
        ""
      ],
      "execution_count": null,
      "outputs": []
    },
    {
      "cell_type": "markdown",
      "metadata": {
        "id": "pAU-fEJSa3cT",
        "colab_type": "text"
      },
      "source": [
        "conn = pyodbc.connect('Driver={SQL Server};' 'Server=DESKTOP-TTAV4PQ\\SQLEXPRESS;' 'Database=Fresh_Produce_Market_Data;' 'Trusted_Connection=yes;')\n",
        "\n",
        "cursor = conn.cursor()\n",
        "\n",
        "cpt_df = pd.read_sql_query('SELECT * FROM Fresh_Produce_Market_Data.dbo.Capetown_Fresh_produce_market',conn) dbn_df = pd.read_sql_query('SELECT * FROM Fresh_Produce_Market_Data.dbo.Durban_Fresh_produce_market',conn) jhb_comm_df = pd.read_sql_query('SELECT * FROM Fresh_Produce_Market_Data.dbo.Joburg_Fresh_produce_commodity_raw',conn) jhb_con_df = pd.read_sql_query('SELECT * FROM Fresh_Produce_Market_Data.dbo.Joburg_Fresh_produce_container_raw',conn) jhb_comb_df = pd.read_sql_query('SELECT * FROM Fresh_Produce_Market_Data.dbo.Joburg_Fresh_produce_product_combination_raw',conn) woolworths_df = pd.read_sql_query('SELECT * FROM Fresh_Produce_Market_Data.dbo.woolworths_Prices',conn) pnp_df = pd.read_sql_query('SELECT * FROM Fresh_Produce_Market_Data.dbo.PickNPay_Prices',conn) shoprite_df = pd.read_sql_query('SELECT * FROM Fresh_Produce_Market_Data.dbo.Shoprite_Prices',conn)\n",
        "\n",
        "#print(sql_query)\n",
        "\n",
        "#print(type(sql_query))"
      ]
    },
    {
      "cell_type": "markdown",
      "metadata": {
        "id": "R2qTfV61a-e0",
        "colab_type": "text"
      },
      "source": [
        "## Remote Connection (RDS)"
      ]
    },
    {
      "cell_type": "code",
      "metadata": {
        "id": "Cs6iDcGnbAAh",
        "colab_type": "code",
        "colab": {
          "base_uri": "https://localhost:8080/",
          "height": 238
        },
        "outputId": "d0da6ecc-0d20-4056-b19a-5b2e428620ab"
      },
      "source": [
        "# creating a connection to the remote database (RDS)\n",
        "cnxn = pyodbc.connect(\n",
        "    DRIVER='{SQL Server}',\n",
        "    SERVER='incubate-inventory-management.cnzbp4ndrpos.eu-west-1.rds.amazonaws.com,1433',\n",
        "    DATABASE='Fresh_Produce_Market_Data',\n",
        "    uid='admin',\n",
        "    pwd='fXToh9AXt30Yi7dGdlI2') "
      ],
      "execution_count": 10,
      "outputs": [
        {
          "output_type": "error",
          "ename": "NameError",
          "evalue": "ignored",
          "traceback": [
            "\u001b[0;31m---------------------------------------------------------------------------\u001b[0m",
            "\u001b[0;31mNameError\u001b[0m                                 Traceback (most recent call last)",
            "\u001b[0;32m<ipython-input-10-f2727b38057c>\u001b[0m in \u001b[0;36m<module>\u001b[0;34m()\u001b[0m\n\u001b[1;32m      1\u001b[0m \u001b[0;31m# creating a connection to the remote database (RDS)\u001b[0m\u001b[0;34m\u001b[0m\u001b[0;34m\u001b[0m\u001b[0;34m\u001b[0m\u001b[0m\n\u001b[0;32m----> 2\u001b[0;31m cnxn = pyodbc.connect(\n\u001b[0m\u001b[1;32m      3\u001b[0m     \u001b[0mDRIVER\u001b[0m\u001b[0;34m=\u001b[0m\u001b[0;34m'{SQL Server}'\u001b[0m\u001b[0;34m,\u001b[0m\u001b[0;34m\u001b[0m\u001b[0;34m\u001b[0m\u001b[0m\n\u001b[1;32m      4\u001b[0m     \u001b[0mSERVER\u001b[0m\u001b[0;34m=\u001b[0m\u001b[0;34m'incubate-inventory-management.cnzbp4ndrpos.eu-west-1.rds.amazonaws.com,1433'\u001b[0m\u001b[0;34m,\u001b[0m\u001b[0;34m\u001b[0m\u001b[0;34m\u001b[0m\u001b[0m\n\u001b[1;32m      5\u001b[0m     \u001b[0mDATABASE\u001b[0m\u001b[0;34m=\u001b[0m\u001b[0;34m'Fresh_Produce_Market_Data'\u001b[0m\u001b[0;34m,\u001b[0m\u001b[0;34m\u001b[0m\u001b[0;34m\u001b[0m\u001b[0m\n",
            "\u001b[0;31mNameError\u001b[0m: name 'pyodbc' is not defined"
          ]
        }
      ]
    },
    {
      "cell_type": "code",
      "metadata": {
        "id": "quQq8-ONbFcl",
        "colab_type": "code",
        "colab": {
          "base_uri": "https://localhost:8080/",
          "height": 238
        },
        "outputId": "b7535dd0-0e18-486f-d704-e5280400b434"
      },
      "source": [
        "#Creating the pandas dataframe to store the data imported from RDS instance:\n",
        "cpt_df = pd.read_sql_query('SELECT * FROM Fresh_Produce_Market_Data.dbo.Capetown_Fresh_produce_market',cnxn)\n",
        "dbn_df = pd.read_sql_query('SELECT * FROM Fresh_Produce_Market_Data.dbo.Durban_Fresh_produce_market',cnxn)\n",
        "jhb_comm_df = pd.read_sql_query('SELECT * FROM Fresh_Produce_Market_Data.dbo.Joburg_Fresh_produce_commodity_raw',cnxn)\n",
        "jhb_con_df = pd.read_sql_query('SELECT * FROM Fresh_Produce_Market_Data.dbo.Joburg_Fresh_produce_container_raw',cnxn)\n",
        "jhb_comb_df = pd.read_sql_query('SELECT * FROM Fresh_Produce_Market_Data.dbo.Joburg_Fresh_produce_product_combination_raw',cnxn)\n",
        "woolworths_df = pd.read_sql_query('SELECT * FROM Fresh_Produce_Market_Data.dbo.woolworths_Prices',cnxn)\n",
        "pnp_df = pd.read_sql_query('SELECT * FROM Fresh_Produce_Market_Data.dbo.PickNPay_Prices',cnxn)\n",
        "shoprite_df = pd.read_sql_query('SELECT * FROM Fresh_Produce_Market_Data.dbo.Shoprite_Prices',cnxn)"
      ],
      "execution_count": 11,
      "outputs": [
        {
          "output_type": "error",
          "ename": "NameError",
          "evalue": "ignored",
          "traceback": [
            "\u001b[0;31m---------------------------------------------------------------------------\u001b[0m",
            "\u001b[0;31mNameError\u001b[0m                                 Traceback (most recent call last)",
            "\u001b[0;32m<ipython-input-11-45e00024adde>\u001b[0m in \u001b[0;36m<module>\u001b[0;34m()\u001b[0m\n\u001b[1;32m      1\u001b[0m \u001b[0;31m#Creating the pandas dataframe to store the data imported from RDS instance:\u001b[0m\u001b[0;34m\u001b[0m\u001b[0;34m\u001b[0m\u001b[0;34m\u001b[0m\u001b[0m\n\u001b[0;32m----> 2\u001b[0;31m \u001b[0mcpt_df\u001b[0m \u001b[0;34m=\u001b[0m \u001b[0mpd\u001b[0m\u001b[0;34m.\u001b[0m\u001b[0mread_sql_query\u001b[0m\u001b[0;34m(\u001b[0m\u001b[0;34m'SELECT * FROM Fresh_Produce_Market_Data.dbo.Capetown_Fresh_produce_market'\u001b[0m\u001b[0;34m,\u001b[0m\u001b[0mcnxn\u001b[0m\u001b[0;34m)\u001b[0m\u001b[0;34m\u001b[0m\u001b[0;34m\u001b[0m\u001b[0m\n\u001b[0m\u001b[1;32m      3\u001b[0m \u001b[0mdbn_df\u001b[0m \u001b[0;34m=\u001b[0m \u001b[0mpd\u001b[0m\u001b[0;34m.\u001b[0m\u001b[0mread_sql_query\u001b[0m\u001b[0;34m(\u001b[0m\u001b[0;34m'SELECT * FROM Fresh_Produce_Market_Data.dbo.Durban_Fresh_produce_market'\u001b[0m\u001b[0;34m,\u001b[0m\u001b[0mcnxn\u001b[0m\u001b[0;34m)\u001b[0m\u001b[0;34m\u001b[0m\u001b[0;34m\u001b[0m\u001b[0m\n\u001b[1;32m      4\u001b[0m \u001b[0mjhb_comm_df\u001b[0m \u001b[0;34m=\u001b[0m \u001b[0mpd\u001b[0m\u001b[0;34m.\u001b[0m\u001b[0mread_sql_query\u001b[0m\u001b[0;34m(\u001b[0m\u001b[0;34m'SELECT * FROM Fresh_Produce_Market_Data.dbo.Joburg_Fresh_produce_commodity_raw'\u001b[0m\u001b[0;34m,\u001b[0m\u001b[0mcnxn\u001b[0m\u001b[0;34m)\u001b[0m\u001b[0;34m\u001b[0m\u001b[0;34m\u001b[0m\u001b[0m\n\u001b[1;32m      5\u001b[0m \u001b[0mjhb_con_df\u001b[0m \u001b[0;34m=\u001b[0m \u001b[0mpd\u001b[0m\u001b[0;34m.\u001b[0m\u001b[0mread_sql_query\u001b[0m\u001b[0;34m(\u001b[0m\u001b[0;34m'SELECT * FROM Fresh_Produce_Market_Data.dbo.Joburg_Fresh_produce_container_raw'\u001b[0m\u001b[0;34m,\u001b[0m\u001b[0mcnxn\u001b[0m\u001b[0;34m)\u001b[0m\u001b[0;34m\u001b[0m\u001b[0;34m\u001b[0m\u001b[0m\n",
            "\u001b[0;31mNameError\u001b[0m: name 'cnxn' is not defined"
          ]
        }
      ]
    },
    {
      "cell_type": "code",
      "metadata": {
        "id": "X7CvaN12bK_A",
        "colab_type": "code",
        "colab": {
          "base_uri": "https://localhost:8080/",
          "height": 185
        },
        "outputId": "523ba42e-c03d-4cb1-bd3e-b2d98c822007"
      },
      "source": [
        "# Exploring the data\n",
        "cpt_df.info()"
      ],
      "execution_count": 12,
      "outputs": [
        {
          "output_type": "error",
          "ename": "NameError",
          "evalue": "ignored",
          "traceback": [
            "\u001b[0;31m---------------------------------------------------------------------------\u001b[0m",
            "\u001b[0;31mNameError\u001b[0m                                 Traceback (most recent call last)",
            "\u001b[0;32m<ipython-input-12-06f1c123a1c5>\u001b[0m in \u001b[0;36m<module>\u001b[0;34m()\u001b[0m\n\u001b[1;32m      1\u001b[0m \u001b[0;31m# Exploring the data\u001b[0m\u001b[0;34m\u001b[0m\u001b[0;34m\u001b[0m\u001b[0;34m\u001b[0m\u001b[0m\n\u001b[0;32m----> 2\u001b[0;31m \u001b[0mcpt_df\u001b[0m\u001b[0;34m.\u001b[0m\u001b[0minfo\u001b[0m\u001b[0;34m(\u001b[0m\u001b[0;34m)\u001b[0m\u001b[0;34m\u001b[0m\u001b[0;34m\u001b[0m\u001b[0m\n\u001b[0m",
            "\u001b[0;31mNameError\u001b[0m: name 'cpt_df' is not defined"
          ]
        }
      ]
    },
    {
      "cell_type": "code",
      "metadata": {
        "id": "Wm1pcF40bPOK",
        "colab_type": "code",
        "colab": {
          "base_uri": "https://localhost:8080/",
          "height": 203
        },
        "outputId": "a24fc2f8-5f06-4fcf-bb9f-84538c2920a2"
      },
      "source": [
        "#jhb_comm_df.head()\n",
        "#jhb_con_df.head()\n",
        "jhb_comb_df.info()"
      ],
      "execution_count": 13,
      "outputs": [
        {
          "output_type": "error",
          "ename": "NameError",
          "evalue": "ignored",
          "traceback": [
            "\u001b[0;31m---------------------------------------------------------------------------\u001b[0m",
            "\u001b[0;31mNameError\u001b[0m                                 Traceback (most recent call last)",
            "\u001b[0;32m<ipython-input-13-9fcb61c8b3bd>\u001b[0m in \u001b[0;36m<module>\u001b[0;34m()\u001b[0m\n\u001b[1;32m      1\u001b[0m \u001b[0;31m#jhb_comm_df.head()\u001b[0m\u001b[0;34m\u001b[0m\u001b[0;34m\u001b[0m\u001b[0;34m\u001b[0m\u001b[0m\n\u001b[1;32m      2\u001b[0m \u001b[0;31m#jhb_con_df.head()\u001b[0m\u001b[0;34m\u001b[0m\u001b[0;34m\u001b[0m\u001b[0;34m\u001b[0m\u001b[0m\n\u001b[0;32m----> 3\u001b[0;31m \u001b[0mjhb_comb_df\u001b[0m\u001b[0;34m.\u001b[0m\u001b[0minfo\u001b[0m\u001b[0;34m(\u001b[0m\u001b[0;34m)\u001b[0m\u001b[0;34m\u001b[0m\u001b[0;34m\u001b[0m\u001b[0m\n\u001b[0m",
            "\u001b[0;31mNameError\u001b[0m: name 'jhb_comb_df' is not defined"
          ]
        }
      ]
    },
    {
      "cell_type": "markdown",
      "metadata": {
        "id": "ZvJGEuBQbXu4",
        "colab_type": "text"
      },
      "source": [
        "# Creating Functions to clean the data\n"
      ]
    },
    {
      "cell_type": "markdown",
      "metadata": {
        "id": "Opw5AN2gbmNe",
        "colab_type": "text"
      },
      "source": [
        "## The function to clean Rand Value columns  and normalise them"
      ]
    },
    {
      "cell_type": "code",
      "metadata": {
        "id": "5ENX3aLAbp8E",
        "colab_type": "code",
        "colab": {}
      },
      "source": [
        "def rand_value(df, column):\n",
        "    \"\"\"\n",
        "    Takes a dataframe and a column with rand value to be cleaned as arguments, \n",
        "    returns a dataframe, with two new columns with rand value for one day and\n",
        "    Month To Date rand value. The initial column that was added as argument is removed from the dataframe.\n",
        "    \"\"\" \n",
        "    \n",
        "    df[\"MTD_total_value_sold_(R)\"]=np.nan\n",
        "    df[\"total_value_sold_(R)\"]=np.nan\n",
        "    for i in range(len(df[column])):\n",
        "        df[\"MTD_total_value_sold_(R)\"][i]=round(float(df[column][i].split(\"R\")[-1].replace(',','')),2)\n",
        "        df[\"total_value_sold_(R)\"][i]=round(float(df[column][i].split(\"R\")[1].split(\"M\")[0].replace(\",\",\"\")),2)\n",
        "    \n",
        "    df1=df.copy()    \n",
        "    df1.drop(column,axis=1, inplace=True)\n",
        "    return df1"
      ],
      "execution_count": 14,
      "outputs": []
    },
    {
      "cell_type": "code",
      "metadata": {
        "id": "yn7-YxIMb0ng",
        "colab_type": "code",
        "colab": {
          "base_uri": "https://localhost:8080/",
          "height": 185
        },
        "outputId": "1bb4362d-6bf4-4178-cb02-b0c8b4605700"
      },
      "source": [
        "jhb_comm_df_cleaned=rand_value(jhb_comm_df,\"total_value_sold\")\n",
        "jhb_con_df_cleaned=rand_value(jhb_con_df,\"value_sold\")"
      ],
      "execution_count": 15,
      "outputs": [
        {
          "output_type": "error",
          "ename": "NameError",
          "evalue": "ignored",
          "traceback": [
            "\u001b[0;31m---------------------------------------------------------------------------\u001b[0m",
            "\u001b[0;31mNameError\u001b[0m                                 Traceback (most recent call last)",
            "\u001b[0;32m<ipython-input-15-9bedcb8b3a0f>\u001b[0m in \u001b[0;36m<module>\u001b[0;34m()\u001b[0m\n\u001b[0;32m----> 1\u001b[0;31m \u001b[0mjhb_comm_df_cleaned\u001b[0m\u001b[0;34m=\u001b[0m\u001b[0mrand_value\u001b[0m\u001b[0;34m(\u001b[0m\u001b[0mjhb_comm_df\u001b[0m\u001b[0;34m,\u001b[0m\u001b[0;34m\"total_value_sold\"\u001b[0m\u001b[0;34m)\u001b[0m\u001b[0;34m\u001b[0m\u001b[0;34m\u001b[0m\u001b[0m\n\u001b[0m\u001b[1;32m      2\u001b[0m \u001b[0mjhb_con_df_cleaned\u001b[0m\u001b[0;34m=\u001b[0m\u001b[0mrand_value\u001b[0m\u001b[0;34m(\u001b[0m\u001b[0mjhb_con_df\u001b[0m\u001b[0;34m,\u001b[0m\u001b[0;34m\"value_sold\"\u001b[0m\u001b[0;34m)\u001b[0m\u001b[0;34m\u001b[0m\u001b[0;34m\u001b[0m\u001b[0m\n",
            "\u001b[0;31mNameError\u001b[0m: name 'jhb_comm_df' is not defined"
          ]
        }
      ]
    },
    {
      "cell_type": "code",
      "metadata": {
        "id": "fAV7jR59b5lg",
        "colab_type": "code",
        "colab": {
          "base_uri": "https://localhost:8080/",
          "height": 185
        },
        "outputId": "73587fab-2271-43df-d947-f64fd0a860c1"
      },
      "source": [
        "jhb_comm_df_cleaned.head()\n",
        "jhb_con_df_cleaned.head()"
      ],
      "execution_count": 16,
      "outputs": [
        {
          "output_type": "error",
          "ename": "NameError",
          "evalue": "ignored",
          "traceback": [
            "\u001b[0;31m---------------------------------------------------------------------------\u001b[0m",
            "\u001b[0;31mNameError\u001b[0m                                 Traceback (most recent call last)",
            "\u001b[0;32m<ipython-input-16-2115af0c683b>\u001b[0m in \u001b[0;36m<module>\u001b[0;34m()\u001b[0m\n\u001b[0;32m----> 1\u001b[0;31m \u001b[0mjhb_comm_df_cleaned\u001b[0m\u001b[0;34m.\u001b[0m\u001b[0mhead\u001b[0m\u001b[0;34m(\u001b[0m\u001b[0;34m)\u001b[0m\u001b[0;34m\u001b[0m\u001b[0;34m\u001b[0m\u001b[0m\n\u001b[0m\u001b[1;32m      2\u001b[0m \u001b[0mjhb_con_df_cleaned\u001b[0m\u001b[0;34m.\u001b[0m\u001b[0mhead\u001b[0m\u001b[0;34m(\u001b[0m\u001b[0;34m)\u001b[0m\u001b[0;34m\u001b[0m\u001b[0;34m\u001b[0m\u001b[0m\n",
            "\u001b[0;31mNameError\u001b[0m: name 'jhb_comm_df_cleaned' is not defined"
          ]
        }
      ]
    },
    {
      "cell_type": "markdown",
      "metadata": {
        "id": "jivms3QWcBQM",
        "colab_type": "text"
      },
      "source": [
        "## The function to clean quantities and weight columns simultaneuosly"
      ]
    },
    {
      "cell_type": "code",
      "metadata": {
        "id": "ld6y6E2PcCtr",
        "colab_type": "code",
        "colab": {}
      },
      "source": [
        "def sold_qty_kg(df,quatity_sold, weight_sold):\n",
        "    df[\"Total_quatity_sold\"]=np.nan\n",
        "    df[\"MTD_Total_quatity_sold\"]=np.nan\n",
        "    df[\"Total_kg_sold\"]=np.nan\n",
        "    df[\"MTD_total_kg_sold\"]=np.nan\n",
        "    for i in range(len(df[quatity_sold])):\n",
        "        df[\"Total_quatity_sold\"][i]=int(df[quatity_sold][i].split(\"M\")[0].replace(\",\",\"\"))\n",
        "        df[\"MTD_Total_quatity_sold\"][i]=int(df[quatity_sold][i].split(\":\")[-1].replace(',',''))\n",
        "        df[\"Total_kg_sold\"][i]=float(df[weight_sold][i].split(\"M\")[0].replace(\",\",\"\"))\n",
        "        df[\"MTD_total_kg_sold\"][i]=float(df[weight_sold][i].split(\":\")[-1].replace(',',''))\n",
        "    df1=df.copy()\n",
        "    df1.drop([quatity_sold,weight_sold],axis=1, inplace=True)\n",
        "    return df1"
      ],
      "execution_count": 17,
      "outputs": []
    },
    {
      "cell_type": "code",
      "metadata": {
        "id": "NE2YnhbIcIyf",
        "colab_type": "code",
        "colab": {
          "base_uri": "https://localhost:8080/",
          "height": 185
        },
        "outputId": "2964c700-11a9-459e-e425-38ddb9d30f78"
      },
      "source": [
        "jhb_comm_df_cleaned= sold_qty_kg(jhb_comm_df_cleaned, \"total_qty_sold\",\"total_kg_sold\")\n",
        "jhb_con_df_cleaned= sold_qty_kg(jhb_con_df_cleaned, \"qty_sold\",\"kg_sold\")"
      ],
      "execution_count": 18,
      "outputs": [
        {
          "output_type": "error",
          "ename": "NameError",
          "evalue": "ignored",
          "traceback": [
            "\u001b[0;31m---------------------------------------------------------------------------\u001b[0m",
            "\u001b[0;31mNameError\u001b[0m                                 Traceback (most recent call last)",
            "\u001b[0;32m<ipython-input-18-b33717b992eb>\u001b[0m in \u001b[0;36m<module>\u001b[0;34m()\u001b[0m\n\u001b[0;32m----> 1\u001b[0;31m \u001b[0mjhb_comm_df_cleaned\u001b[0m\u001b[0;34m=\u001b[0m \u001b[0msold_qty_kg\u001b[0m\u001b[0;34m(\u001b[0m\u001b[0mjhb_comm_df_cleaned\u001b[0m\u001b[0;34m,\u001b[0m \u001b[0;34m\"total_qty_sold\"\u001b[0m\u001b[0;34m,\u001b[0m\u001b[0;34m\"total_kg_sold\"\u001b[0m\u001b[0;34m)\u001b[0m\u001b[0;34m\u001b[0m\u001b[0;34m\u001b[0m\u001b[0m\n\u001b[0m\u001b[1;32m      2\u001b[0m \u001b[0mjhb_con_df_cleaned\u001b[0m\u001b[0;34m=\u001b[0m \u001b[0msold_qty_kg\u001b[0m\u001b[0;34m(\u001b[0m\u001b[0mjhb_con_df_cleaned\u001b[0m\u001b[0;34m,\u001b[0m \u001b[0;34m\"qty_sold\"\u001b[0m\u001b[0;34m,\u001b[0m\u001b[0;34m\"kg_sold\"\u001b[0m\u001b[0;34m)\u001b[0m\u001b[0;34m\u001b[0m\u001b[0;34m\u001b[0m\u001b[0m\n",
            "\u001b[0;31mNameError\u001b[0m: name 'jhb_comm_df_cleaned' is not defined"
          ]
        }
      ]
    },
    {
      "cell_type": "code",
      "metadata": {
        "id": "2l595NwLcNK5",
        "colab_type": "code",
        "colab": {
          "base_uri": "https://localhost:8080/",
          "height": 185
        },
        "outputId": "b48799fd-f00c-4b4f-fd8a-ea33fe6a0c30"
      },
      "source": [
        "jhb_comm_df_cleaned.head()\n",
        "#jhb_con_df_cleaned.head()\n"
      ],
      "execution_count": 19,
      "outputs": [
        {
          "output_type": "error",
          "ename": "NameError",
          "evalue": "ignored",
          "traceback": [
            "\u001b[0;31m---------------------------------------------------------------------------\u001b[0m",
            "\u001b[0;31mNameError\u001b[0m                                 Traceback (most recent call last)",
            "\u001b[0;32m<ipython-input-19-5a98d0f8bb8e>\u001b[0m in \u001b[0;36m<module>\u001b[0;34m()\u001b[0m\n\u001b[0;32m----> 1\u001b[0;31m \u001b[0mjhb_comm_df_cleaned\u001b[0m\u001b[0;34m.\u001b[0m\u001b[0mhead\u001b[0m\u001b[0;34m(\u001b[0m\u001b[0;34m)\u001b[0m\u001b[0;34m\u001b[0m\u001b[0;34m\u001b[0m\u001b[0m\n\u001b[0m\u001b[1;32m      2\u001b[0m \u001b[0;31m#jhb_con_df_cleaned.head()\u001b[0m\u001b[0;34m\u001b[0m\u001b[0;34m\u001b[0m\u001b[0;34m\u001b[0m\u001b[0m\n",
            "\u001b[0;31mNameError\u001b[0m: name 'jhb_comm_df_cleaned' is not defined"
          ]
        }
      ]
    },
    {
      "cell_type": "code",
      "metadata": {
        "id": "3SMVN8uAcQ8s",
        "colab_type": "code",
        "colab": {}
      },
      "source": [
        "def to_numeric(df,column):\n",
        "    for i in range(len(df[column])):\n",
        "        df[column][i]=df[column][i].replace(\",\",\"\")\n",
        "    df[column]= pd.to_numeric(df[column])\n",
        "    return  df"
      ],
      "execution_count": 20,
      "outputs": []
    },
    {
      "cell_type": "code",
      "metadata": {
        "id": "9_OTIM-XcUKN",
        "colab_type": "code",
        "colab": {
          "base_uri": "https://localhost:8080/",
          "height": 238
        },
        "outputId": "a05a6596-aa7e-440b-af46-a06a9d13fb70"
      },
      "source": [
        "cpt_df[\"date_updated\"]=pd.to_datetime(cpt_df[\"date_updated\"])\n",
        "cpt_df=to_numeric(cpt_df,\"mass\")\n",
        "cpt_df=to_numeric(cpt_df, \"low_price\")\n",
        "cpt_df=to_numeric(cpt_df,\"high_price\")\n",
        "cpt_df=to_numeric(cpt_df,\"avg_price\")"
      ],
      "execution_count": 21,
      "outputs": [
        {
          "output_type": "error",
          "ename": "NameError",
          "evalue": "ignored",
          "traceback": [
            "\u001b[0;31m---------------------------------------------------------------------------\u001b[0m",
            "\u001b[0;31mNameError\u001b[0m                                 Traceback (most recent call last)",
            "\u001b[0;32m<ipython-input-21-b554776a70db>\u001b[0m in \u001b[0;36m<module>\u001b[0;34m()\u001b[0m\n\u001b[0;32m----> 1\u001b[0;31m \u001b[0mcpt_df\u001b[0m\u001b[0;34m[\u001b[0m\u001b[0;34m\"date_updated\"\u001b[0m\u001b[0;34m]\u001b[0m\u001b[0;34m=\u001b[0m\u001b[0mpd\u001b[0m\u001b[0;34m.\u001b[0m\u001b[0mto_datetime\u001b[0m\u001b[0;34m(\u001b[0m\u001b[0mcpt_df\u001b[0m\u001b[0;34m[\u001b[0m\u001b[0;34m\"date_updated\"\u001b[0m\u001b[0;34m]\u001b[0m\u001b[0;34m)\u001b[0m\u001b[0;34m\u001b[0m\u001b[0;34m\u001b[0m\u001b[0m\n\u001b[0m\u001b[1;32m      2\u001b[0m \u001b[0mcpt_df\u001b[0m\u001b[0;34m=\u001b[0m\u001b[0mto_numeric\u001b[0m\u001b[0;34m(\u001b[0m\u001b[0mcpt_df\u001b[0m\u001b[0;34m,\u001b[0m\u001b[0;34m\"mass\"\u001b[0m\u001b[0;34m)\u001b[0m\u001b[0;34m\u001b[0m\u001b[0;34m\u001b[0m\u001b[0m\n\u001b[1;32m      3\u001b[0m \u001b[0mcpt_df\u001b[0m\u001b[0;34m=\u001b[0m\u001b[0mto_numeric\u001b[0m\u001b[0;34m(\u001b[0m\u001b[0mcpt_df\u001b[0m\u001b[0;34m,\u001b[0m \u001b[0;34m\"low_price\"\u001b[0m\u001b[0;34m)\u001b[0m\u001b[0;34m\u001b[0m\u001b[0;34m\u001b[0m\u001b[0m\n\u001b[1;32m      4\u001b[0m \u001b[0mcpt_df\u001b[0m\u001b[0;34m=\u001b[0m\u001b[0mto_numeric\u001b[0m\u001b[0;34m(\u001b[0m\u001b[0mcpt_df\u001b[0m\u001b[0;34m,\u001b[0m\u001b[0;34m\"high_price\"\u001b[0m\u001b[0;34m)\u001b[0m\u001b[0;34m\u001b[0m\u001b[0;34m\u001b[0m\u001b[0m\n\u001b[1;32m      5\u001b[0m \u001b[0mcpt_df\u001b[0m\u001b[0;34m=\u001b[0m\u001b[0mto_numeric\u001b[0m\u001b[0;34m(\u001b[0m\u001b[0mcpt_df\u001b[0m\u001b[0;34m,\u001b[0m\u001b[0;34m\"avg_price\"\u001b[0m\u001b[0;34m)\u001b[0m\u001b[0;34m\u001b[0m\u001b[0;34m\u001b[0m\u001b[0m\n",
            "\u001b[0;31mNameError\u001b[0m: name 'cpt_df' is not defined"
          ]
        }
      ]
    },
    {
      "cell_type": "code",
      "metadata": {
        "id": "XjrLMts8cXyx",
        "colab_type": "code",
        "colab": {
          "base_uri": "https://localhost:8080/",
          "height": 238
        },
        "outputId": "326bce7c-2d46-4bdf-de92-d6fb72994f7c"
      },
      "source": [
        "dbn_df[\"Date\"]=pd.to_datetime(dbn_df[\"Date\"])\n",
        "dbn_df=to_numeric(dbn_df,\"Weight_Kg\")\n",
        "dbn_df=to_numeric(dbn_df,\"Low_Price\")\n",
        "dbn_df=to_numeric(dbn_df,\"High_Price\")\n",
        "dbn_df=to_numeric(dbn_df,\"Average_Price\")\n",
        "dbn_df=to_numeric(dbn_df,\"Sales_Total\")\n",
        "dbn_df=to_numeric(dbn_df,\"Total_Qty_Sold\")\n",
        "dbn_df=to_numeric(dbn_df,\"Total_Kg_Sold\")\n",
        "dbn_df=to_numeric(dbn_df,\"Stock_On_Hand\")\n",
        "dbn_df.head()"
      ],
      "execution_count": 22,
      "outputs": [
        {
          "output_type": "error",
          "ename": "NameError",
          "evalue": "ignored",
          "traceback": [
            "\u001b[0;31m---------------------------------------------------------------------------\u001b[0m",
            "\u001b[0;31mNameError\u001b[0m                                 Traceback (most recent call last)",
            "\u001b[0;32m<ipython-input-22-2589bdb950cb>\u001b[0m in \u001b[0;36m<module>\u001b[0;34m()\u001b[0m\n\u001b[0;32m----> 1\u001b[0;31m \u001b[0mdbn_df\u001b[0m\u001b[0;34m[\u001b[0m\u001b[0;34m\"Date\"\u001b[0m\u001b[0;34m]\u001b[0m\u001b[0;34m=\u001b[0m\u001b[0mpd\u001b[0m\u001b[0;34m.\u001b[0m\u001b[0mto_datetime\u001b[0m\u001b[0;34m(\u001b[0m\u001b[0mdbn_df\u001b[0m\u001b[0;34m[\u001b[0m\u001b[0;34m\"Date\"\u001b[0m\u001b[0;34m]\u001b[0m\u001b[0;34m)\u001b[0m\u001b[0;34m\u001b[0m\u001b[0;34m\u001b[0m\u001b[0m\n\u001b[0m\u001b[1;32m      2\u001b[0m \u001b[0mdbn_df\u001b[0m\u001b[0;34m=\u001b[0m\u001b[0mto_numeric\u001b[0m\u001b[0;34m(\u001b[0m\u001b[0mdbn_df\u001b[0m\u001b[0;34m,\u001b[0m\u001b[0;34m\"Weight_Kg\"\u001b[0m\u001b[0;34m)\u001b[0m\u001b[0;34m\u001b[0m\u001b[0;34m\u001b[0m\u001b[0m\n\u001b[1;32m      3\u001b[0m \u001b[0mdbn_df\u001b[0m\u001b[0;34m=\u001b[0m\u001b[0mto_numeric\u001b[0m\u001b[0;34m(\u001b[0m\u001b[0mdbn_df\u001b[0m\u001b[0;34m,\u001b[0m\u001b[0;34m\"Low_Price\"\u001b[0m\u001b[0;34m)\u001b[0m\u001b[0;34m\u001b[0m\u001b[0;34m\u001b[0m\u001b[0m\n\u001b[1;32m      4\u001b[0m \u001b[0mdbn_df\u001b[0m\u001b[0;34m=\u001b[0m\u001b[0mto_numeric\u001b[0m\u001b[0;34m(\u001b[0m\u001b[0mdbn_df\u001b[0m\u001b[0;34m,\u001b[0m\u001b[0;34m\"High_Price\"\u001b[0m\u001b[0;34m)\u001b[0m\u001b[0;34m\u001b[0m\u001b[0;34m\u001b[0m\u001b[0m\n\u001b[1;32m      5\u001b[0m \u001b[0mdbn_df\u001b[0m\u001b[0;34m=\u001b[0m\u001b[0mto_numeric\u001b[0m\u001b[0;34m(\u001b[0m\u001b[0mdbn_df\u001b[0m\u001b[0;34m,\u001b[0m\u001b[0;34m\"Average_Price\"\u001b[0m\u001b[0;34m)\u001b[0m\u001b[0;34m\u001b[0m\u001b[0;34m\u001b[0m\u001b[0m\n",
            "\u001b[0;31mNameError\u001b[0m: name 'dbn_df' is not defined"
          ]
        }
      ]
    },
    {
      "cell_type": "code",
      "metadata": {
        "id": "nuFjFyqwcbv5",
        "colab_type": "code",
        "colab": {
          "base_uri": "https://localhost:8080/",
          "height": 238
        },
        "outputId": "f392fb9a-09cf-4038-e768-f99acc6b78f7"
      },
      "source": [
        "jhb_comb_df[\"date\"]=pd.to_datetime(jhb_comb_df[\"date\"])\n",
        "jhb_comb_df=rand_value(jhb_comb_df, \"total_value_sold\")\n",
        "jhb_comb_df=rand_value(jhb_comb_df, \"average\")\n",
        "jhb_comb_df=rand_value(jhb_comb_df, \"highest_price\")\n",
        "jhb_comb_df=rand_value(jhb_comb_df, \"ave_per_kg\")\n",
        "jhb_comb_df=rand_value(jhb_comb_df, \"highest_price_per_kg\")"
      ],
      "execution_count": 23,
      "outputs": [
        {
          "output_type": "error",
          "ename": "NameError",
          "evalue": "ignored",
          "traceback": [
            "\u001b[0;31m---------------------------------------------------------------------------\u001b[0m",
            "\u001b[0;31mNameError\u001b[0m                                 Traceback (most recent call last)",
            "\u001b[0;32m<ipython-input-23-74fe3c982bdb>\u001b[0m in \u001b[0;36m<module>\u001b[0;34m()\u001b[0m\n\u001b[0;32m----> 1\u001b[0;31m \u001b[0mjhb_comb_df\u001b[0m\u001b[0;34m[\u001b[0m\u001b[0;34m\"date\"\u001b[0m\u001b[0;34m]\u001b[0m\u001b[0;34m=\u001b[0m\u001b[0mpd\u001b[0m\u001b[0;34m.\u001b[0m\u001b[0mto_datetime\u001b[0m\u001b[0;34m(\u001b[0m\u001b[0mjhb_comb_df\u001b[0m\u001b[0;34m[\u001b[0m\u001b[0;34m\"date\"\u001b[0m\u001b[0;34m]\u001b[0m\u001b[0;34m)\u001b[0m\u001b[0;34m\u001b[0m\u001b[0;34m\u001b[0m\u001b[0m\n\u001b[0m\u001b[1;32m      2\u001b[0m \u001b[0mjhb_comb_df\u001b[0m\u001b[0;34m=\u001b[0m\u001b[0mrand_value\u001b[0m\u001b[0;34m(\u001b[0m\u001b[0mjhb_comb_df\u001b[0m\u001b[0;34m,\u001b[0m \u001b[0;34m\"total_value_sold\"\u001b[0m\u001b[0;34m)\u001b[0m\u001b[0;34m\u001b[0m\u001b[0;34m\u001b[0m\u001b[0m\n\u001b[1;32m      3\u001b[0m \u001b[0mjhb_comb_df\u001b[0m\u001b[0;34m=\u001b[0m\u001b[0mrand_value\u001b[0m\u001b[0;34m(\u001b[0m\u001b[0mjhb_comb_df\u001b[0m\u001b[0;34m,\u001b[0m \u001b[0;34m\"average\"\u001b[0m\u001b[0;34m)\u001b[0m\u001b[0;34m\u001b[0m\u001b[0;34m\u001b[0m\u001b[0m\n\u001b[1;32m      4\u001b[0m \u001b[0mjhb_comb_df\u001b[0m\u001b[0;34m=\u001b[0m\u001b[0mrand_value\u001b[0m\u001b[0;34m(\u001b[0m\u001b[0mjhb_comb_df\u001b[0m\u001b[0;34m,\u001b[0m \u001b[0;34m\"highest_price\"\u001b[0m\u001b[0;34m)\u001b[0m\u001b[0;34m\u001b[0m\u001b[0;34m\u001b[0m\u001b[0m\n\u001b[1;32m      5\u001b[0m \u001b[0mjhb_comb_df\u001b[0m\u001b[0;34m=\u001b[0m\u001b[0mrand_value\u001b[0m\u001b[0;34m(\u001b[0m\u001b[0mjhb_comb_df\u001b[0m\u001b[0;34m,\u001b[0m \u001b[0;34m\"ave_per_kg\"\u001b[0m\u001b[0;34m)\u001b[0m\u001b[0;34m\u001b[0m\u001b[0;34m\u001b[0m\u001b[0m\n",
            "\u001b[0;31mNameError\u001b[0m: name 'jhb_comb_df' is not defined"
          ]
        }
      ]
    },
    {
      "cell_type": "code",
      "metadata": {
        "id": "5cnamxdncg31",
        "colab_type": "code",
        "colab": {}
      },
      "source": [
        "#jhb_comb_df.info()"
      ],
      "execution_count": 24,
      "outputs": []
    },
    {
      "cell_type": "code",
      "metadata": {
        "id": "6KMgbC1VclhZ",
        "colab_type": "code",
        "colab": {
          "base_uri": "https://localhost:8080/",
          "height": 238
        },
        "outputId": "8c3fac6a-d008-4564-d8b4-79914a855f29"
      },
      "source": [
        "woolworths_df=to_numeric(woolworths_df, \"Price\")\n",
        "woolworths_df[\"Date\"]=pd.to_datetime(woolworths_df[\"Date\"])\n",
        "\n",
        "pnp_df=to_numeric(pnp_df, \"Price\")\n",
        "pnp_df[\"Date\"]=pd.to_datetime(pnp_df[\"Date\"])\n",
        "\n",
        "shoprite_df=to_numeric(shoprite_df, \"Price\")\n",
        "shoprite_df[\"Date\"]=pd.to_datetime(shoprite_df[\"Date\"])"
      ],
      "execution_count": 25,
      "outputs": [
        {
          "output_type": "error",
          "ename": "NameError",
          "evalue": "ignored",
          "traceback": [
            "\u001b[0;31m---------------------------------------------------------------------------\u001b[0m",
            "\u001b[0;31mNameError\u001b[0m                                 Traceback (most recent call last)",
            "\u001b[0;32m<ipython-input-25-a52f0f4a72c3>\u001b[0m in \u001b[0;36m<module>\u001b[0;34m()\u001b[0m\n\u001b[0;32m----> 1\u001b[0;31m \u001b[0mwoolworths_df\u001b[0m\u001b[0;34m=\u001b[0m\u001b[0mto_numeric\u001b[0m\u001b[0;34m(\u001b[0m\u001b[0mwoolworths_df\u001b[0m\u001b[0;34m,\u001b[0m \u001b[0;34m\"Price\"\u001b[0m\u001b[0;34m)\u001b[0m\u001b[0;34m\u001b[0m\u001b[0;34m\u001b[0m\u001b[0m\n\u001b[0m\u001b[1;32m      2\u001b[0m \u001b[0mwoolworths_df\u001b[0m\u001b[0;34m[\u001b[0m\u001b[0;34m\"Date\"\u001b[0m\u001b[0;34m]\u001b[0m\u001b[0;34m=\u001b[0m\u001b[0mpd\u001b[0m\u001b[0;34m.\u001b[0m\u001b[0mto_datetime\u001b[0m\u001b[0;34m(\u001b[0m\u001b[0mwoolworths_df\u001b[0m\u001b[0;34m[\u001b[0m\u001b[0;34m\"Date\"\u001b[0m\u001b[0;34m]\u001b[0m\u001b[0;34m)\u001b[0m\u001b[0;34m\u001b[0m\u001b[0;34m\u001b[0m\u001b[0m\n\u001b[1;32m      3\u001b[0m \u001b[0;34m\u001b[0m\u001b[0m\n\u001b[1;32m      4\u001b[0m \u001b[0mpnp_df\u001b[0m\u001b[0;34m=\u001b[0m\u001b[0mto_numeric\u001b[0m\u001b[0;34m(\u001b[0m\u001b[0mpnp_df\u001b[0m\u001b[0;34m,\u001b[0m \u001b[0;34m\"Price\"\u001b[0m\u001b[0;34m)\u001b[0m\u001b[0;34m\u001b[0m\u001b[0;34m\u001b[0m\u001b[0m\n\u001b[1;32m      5\u001b[0m \u001b[0mpnp_df\u001b[0m\u001b[0;34m[\u001b[0m\u001b[0;34m\"Date\"\u001b[0m\u001b[0;34m]\u001b[0m\u001b[0;34m=\u001b[0m\u001b[0mpd\u001b[0m\u001b[0;34m.\u001b[0m\u001b[0mto_datetime\u001b[0m\u001b[0;34m(\u001b[0m\u001b[0mpnp_df\u001b[0m\u001b[0;34m[\u001b[0m\u001b[0;34m\"Date\"\u001b[0m\u001b[0;34m]\u001b[0m\u001b[0;34m)\u001b[0m\u001b[0;34m\u001b[0m\u001b[0;34m\u001b[0m\u001b[0m\n",
            "\u001b[0;31mNameError\u001b[0m: name 'woolworths_df' is not defined"
          ]
        }
      ]
    },
    {
      "cell_type": "code",
      "metadata": {
        "id": "EkF8n6sOcwy6",
        "colab_type": "code",
        "colab": {
          "base_uri": "https://localhost:8080/",
          "height": 547
        },
        "outputId": "aa2a2fc4-0063-427c-eff4-922e632f4160"
      },
      "source": [
        "# Packages need\n",
        "from sqlalchemy import create_engine\n",
        "\n",
        "import urllib\n",
        "\n",
        "params = urllib.parse.quote_plus(\"DRIVER={SQL Server};SERVER=incubate-inventory-management.cnzbp4ndrpos.eu-west-1.rds.amazonaws.com,1433;DATABASE=Fresh_Produce_Market_Data;UID=admin;pwd=fXToh9AXt30Yi7dGdlI2;trusted_connection=no\")\n",
        "engine = create_engine(\"mssql+pyodbc:///?odbc_connect=%s\" % params)\n",
        "\n",
        "\n",
        "\n"
      ],
      "execution_count": 26,
      "outputs": [
        {
          "output_type": "error",
          "ename": "ModuleNotFoundError",
          "evalue": "ignored",
          "traceback": [
            "\u001b[0;31m---------------------------------------------------------------------------\u001b[0m",
            "\u001b[0;31mModuleNotFoundError\u001b[0m                       Traceback (most recent call last)",
            "\u001b[0;32m<ipython-input-26-5415fbaa8dcc>\u001b[0m in \u001b[0;36m<module>\u001b[0;34m()\u001b[0m\n\u001b[1;32m      5\u001b[0m \u001b[0;34m\u001b[0m\u001b[0m\n\u001b[1;32m      6\u001b[0m \u001b[0mparams\u001b[0m \u001b[0;34m=\u001b[0m \u001b[0murllib\u001b[0m\u001b[0;34m.\u001b[0m\u001b[0mparse\u001b[0m\u001b[0;34m.\u001b[0m\u001b[0mquote_plus\u001b[0m\u001b[0;34m(\u001b[0m\u001b[0;34m\"DRIVER={SQL Server};SERVER=incubate-inventory-management.cnzbp4ndrpos.eu-west-1.rds.amazonaws.com,1433;DATABASE=Fresh_Produce_Market_Data;UID=admin;pwd=fXToh9AXt30Yi7dGdlI2;trusted_connection=no\"\u001b[0m\u001b[0;34m)\u001b[0m\u001b[0;34m\u001b[0m\u001b[0;34m\u001b[0m\u001b[0m\n\u001b[0;32m----> 7\u001b[0;31m \u001b[0mengine\u001b[0m \u001b[0;34m=\u001b[0m \u001b[0mcreate_engine\u001b[0m\u001b[0;34m(\u001b[0m\u001b[0;34m\"mssql+pyodbc:///?odbc_connect=%s\"\u001b[0m \u001b[0;34m%\u001b[0m \u001b[0mparams\u001b[0m\u001b[0;34m)\u001b[0m\u001b[0;34m\u001b[0m\u001b[0;34m\u001b[0m\u001b[0m\n\u001b[0m\u001b[1;32m      8\u001b[0m \u001b[0;34m\u001b[0m\u001b[0m\n\u001b[1;32m      9\u001b[0m \u001b[0;34m\u001b[0m\u001b[0m\n",
            "\u001b[0;32m/usr/local/lib/python3.6/dist-packages/sqlalchemy/engine/__init__.py\u001b[0m in \u001b[0;36mcreate_engine\u001b[0;34m(*args, **kwargs)\u001b[0m\n\u001b[1;32m    498\u001b[0m     \u001b[0mstrategy\u001b[0m \u001b[0;34m=\u001b[0m \u001b[0mkwargs\u001b[0m\u001b[0;34m.\u001b[0m\u001b[0mpop\u001b[0m\u001b[0;34m(\u001b[0m\u001b[0;34m\"strategy\"\u001b[0m\u001b[0;34m,\u001b[0m \u001b[0mdefault_strategy\u001b[0m\u001b[0;34m)\u001b[0m\u001b[0;34m\u001b[0m\u001b[0;34m\u001b[0m\u001b[0m\n\u001b[1;32m    499\u001b[0m     \u001b[0mstrategy\u001b[0m \u001b[0;34m=\u001b[0m \u001b[0mstrategies\u001b[0m\u001b[0;34m.\u001b[0m\u001b[0mstrategies\u001b[0m\u001b[0;34m[\u001b[0m\u001b[0mstrategy\u001b[0m\u001b[0;34m]\u001b[0m\u001b[0;34m\u001b[0m\u001b[0;34m\u001b[0m\u001b[0m\n\u001b[0;32m--> 500\u001b[0;31m     \u001b[0;32mreturn\u001b[0m \u001b[0mstrategy\u001b[0m\u001b[0;34m.\u001b[0m\u001b[0mcreate\u001b[0m\u001b[0;34m(\u001b[0m\u001b[0;34m*\u001b[0m\u001b[0margs\u001b[0m\u001b[0;34m,\u001b[0m \u001b[0;34m**\u001b[0m\u001b[0mkwargs\u001b[0m\u001b[0;34m)\u001b[0m\u001b[0;34m\u001b[0m\u001b[0;34m\u001b[0m\u001b[0m\n\u001b[0m\u001b[1;32m    501\u001b[0m \u001b[0;34m\u001b[0m\u001b[0m\n\u001b[1;32m    502\u001b[0m \u001b[0;34m\u001b[0m\u001b[0m\n",
            "\u001b[0;32m/usr/local/lib/python3.6/dist-packages/sqlalchemy/engine/strategies.py\u001b[0m in \u001b[0;36mcreate\u001b[0;34m(self, name_or_url, **kwargs)\u001b[0m\n\u001b[1;32m     85\u001b[0m                 \u001b[0;32mif\u001b[0m \u001b[0mk\u001b[0m \u001b[0;32min\u001b[0m \u001b[0mkwargs\u001b[0m\u001b[0;34m:\u001b[0m\u001b[0;34m\u001b[0m\u001b[0;34m\u001b[0m\u001b[0m\n\u001b[1;32m     86\u001b[0m                     \u001b[0mdbapi_args\u001b[0m\u001b[0;34m[\u001b[0m\u001b[0mk\u001b[0m\u001b[0;34m]\u001b[0m \u001b[0;34m=\u001b[0m \u001b[0mpop_kwarg\u001b[0m\u001b[0;34m(\u001b[0m\u001b[0mk\u001b[0m\u001b[0;34m)\u001b[0m\u001b[0;34m\u001b[0m\u001b[0;34m\u001b[0m\u001b[0m\n\u001b[0;32m---> 87\u001b[0;31m             \u001b[0mdbapi\u001b[0m \u001b[0;34m=\u001b[0m \u001b[0mdialect_cls\u001b[0m\u001b[0;34m.\u001b[0m\u001b[0mdbapi\u001b[0m\u001b[0;34m(\u001b[0m\u001b[0;34m**\u001b[0m\u001b[0mdbapi_args\u001b[0m\u001b[0;34m)\u001b[0m\u001b[0;34m\u001b[0m\u001b[0;34m\u001b[0m\u001b[0m\n\u001b[0m\u001b[1;32m     88\u001b[0m \u001b[0;34m\u001b[0m\u001b[0m\n\u001b[1;32m     89\u001b[0m         \u001b[0mdialect_args\u001b[0m\u001b[0;34m[\u001b[0m\u001b[0;34m\"dbapi\"\u001b[0m\u001b[0;34m]\u001b[0m \u001b[0;34m=\u001b[0m \u001b[0mdbapi\u001b[0m\u001b[0;34m\u001b[0m\u001b[0;34m\u001b[0m\u001b[0m\n",
            "\u001b[0;32m/usr/local/lib/python3.6/dist-packages/sqlalchemy/connectors/pyodbc.py\u001b[0m in \u001b[0;36mdbapi\u001b[0;34m(cls)\u001b[0m\n\u001b[1;32m     36\u001b[0m     \u001b[0;34m@\u001b[0m\u001b[0mclassmethod\u001b[0m\u001b[0;34m\u001b[0m\u001b[0;34m\u001b[0m\u001b[0m\n\u001b[1;32m     37\u001b[0m     \u001b[0;32mdef\u001b[0m \u001b[0mdbapi\u001b[0m\u001b[0;34m(\u001b[0m\u001b[0mcls\u001b[0m\u001b[0;34m)\u001b[0m\u001b[0;34m:\u001b[0m\u001b[0;34m\u001b[0m\u001b[0;34m\u001b[0m\u001b[0m\n\u001b[0;32m---> 38\u001b[0;31m         \u001b[0;32mreturn\u001b[0m \u001b[0m__import__\u001b[0m\u001b[0;34m(\u001b[0m\u001b[0;34m\"pyodbc\"\u001b[0m\u001b[0;34m)\u001b[0m\u001b[0;34m\u001b[0m\u001b[0;34m\u001b[0m\u001b[0m\n\u001b[0m\u001b[1;32m     39\u001b[0m \u001b[0;34m\u001b[0m\u001b[0m\n\u001b[1;32m     40\u001b[0m     \u001b[0;32mdef\u001b[0m \u001b[0mcreate_connect_args\u001b[0m\u001b[0;34m(\u001b[0m\u001b[0mself\u001b[0m\u001b[0;34m,\u001b[0m \u001b[0murl\u001b[0m\u001b[0;34m)\u001b[0m\u001b[0;34m:\u001b[0m\u001b[0;34m\u001b[0m\u001b[0;34m\u001b[0m\u001b[0m\n",
            "\u001b[0;31mModuleNotFoundError\u001b[0m: No module named 'pyodbc'",
            "",
            "\u001b[0;31m---------------------------------------------------------------------------\u001b[0;32m\nNOTE: If your import is failing due to a missing package, you can\nmanually install dependencies using either !pip or !apt.\n\nTo view examples of installing some common dependencies, click the\n\"Open Examples\" button below.\n\u001b[0;31m---------------------------------------------------------------------------\u001b[0m\n"
          ]
        }
      ]
    },
    {
      "cell_type": "markdown",
      "metadata": {
        "id": "GLbrb_EedBlg",
        "colab_type": "text"
      },
      "source": [
        "Username = 'admin'\n",
        "\n",
        "Password = 'fXToh9AXt30Yi7dGdlI2'\n",
        "\n",
        "Host = 'incubate-inventory-management.cnzbp4ndrpos.eu-west-1.rds.amazonaws.com'\n",
        "\n",
        "Port = '1433'\n",
        "Database = 'Fresh_Produce_Market_Data'"
      ]
    },
    {
      "cell_type": "markdown",
      "metadata": {
        "id": "71NfFUHRdP3T",
        "colab_type": "text"
      },
      "source": [
        "conn = create_engine(\n",
        "    'mssql+pymssql://' +\n",
        "    Username + ':' + Password + '@' + Host + ':' + Port + '/' + Database\n",
        ")"
      ]
    },
    {
      "cell_type": "code",
      "metadata": {
        "id": "DmyRG1QtdTL7",
        "colab_type": "code",
        "colab": {
          "base_uri": "https://localhost:8080/",
          "height": 238
        },
        "outputId": "99f32c90-7430-4ac2-a2de-f7acb7062e6f"
      },
      "source": [
        "#jhb_comm_df_cleaned.to_sql('Joburg_Fresh_produce_commodity_cleaned', con=engine)\n",
        "#jhb_con_df_cleaned.to_sql('Joburg_Fresh_produce_container_cleaned', con=engine)\n",
        "#jhb_comb_df.to_sql('Joburg_Fresh_produce_combined_cleaned', con=engine)\n",
        "cpt_df.to_sql('Capetown_Fresh_produce_market_cleaned', con=engine)\n",
        "dbn_df.to_sql('Durban_Fresh_produce_market_cleaned', con=engine)\n",
        "woolworths_df.to_sql('Woolworths_Prices_cleaned', con=engine)\n",
        "pnp_df.to_sql('PickNPay_Prices_cleaned', con=engine)\n",
        "shoprite_df.to_sql('Shoprite_Prices_cleaned', con=engine)"
      ],
      "execution_count": 27,
      "outputs": [
        {
          "output_type": "error",
          "ename": "NameError",
          "evalue": "ignored",
          "traceback": [
            "\u001b[0;31m---------------------------------------------------------------------------\u001b[0m",
            "\u001b[0;31mNameError\u001b[0m                                 Traceback (most recent call last)",
            "\u001b[0;32m<ipython-input-27-99b4d16e39f3>\u001b[0m in \u001b[0;36m<module>\u001b[0;34m()\u001b[0m\n\u001b[1;32m      2\u001b[0m \u001b[0;31m#jhb_con_df_cleaned.to_sql('Joburg_Fresh_produce_container_cleaned', con=engine)\u001b[0m\u001b[0;34m\u001b[0m\u001b[0;34m\u001b[0m\u001b[0;34m\u001b[0m\u001b[0m\n\u001b[1;32m      3\u001b[0m \u001b[0;31m#jhb_comb_df.to_sql('Joburg_Fresh_produce_combined_cleaned', con=engine)\u001b[0m\u001b[0;34m\u001b[0m\u001b[0;34m\u001b[0m\u001b[0;34m\u001b[0m\u001b[0m\n\u001b[0;32m----> 4\u001b[0;31m \u001b[0mcpt_df\u001b[0m\u001b[0;34m.\u001b[0m\u001b[0mto_sql\u001b[0m\u001b[0;34m(\u001b[0m\u001b[0;34m'Capetown_Fresh_produce_market_cleaned'\u001b[0m\u001b[0;34m,\u001b[0m \u001b[0mcon\u001b[0m\u001b[0;34m=\u001b[0m\u001b[0mengine\u001b[0m\u001b[0;34m)\u001b[0m\u001b[0;34m\u001b[0m\u001b[0;34m\u001b[0m\u001b[0m\n\u001b[0m\u001b[1;32m      5\u001b[0m \u001b[0mdbn_df\u001b[0m\u001b[0;34m.\u001b[0m\u001b[0mto_sql\u001b[0m\u001b[0;34m(\u001b[0m\u001b[0;34m'Durban_Fresh_produce_market_cleaned'\u001b[0m\u001b[0;34m,\u001b[0m \u001b[0mcon\u001b[0m\u001b[0;34m=\u001b[0m\u001b[0mengine\u001b[0m\u001b[0;34m)\u001b[0m\u001b[0;34m\u001b[0m\u001b[0;34m\u001b[0m\u001b[0m\n\u001b[1;32m      6\u001b[0m \u001b[0mwoolworths_df\u001b[0m\u001b[0;34m.\u001b[0m\u001b[0mto_sql\u001b[0m\u001b[0;34m(\u001b[0m\u001b[0;34m'Woolworths_Prices_cleaned'\u001b[0m\u001b[0;34m,\u001b[0m \u001b[0mcon\u001b[0m\u001b[0;34m=\u001b[0m\u001b[0mengine\u001b[0m\u001b[0;34m)\u001b[0m\u001b[0;34m\u001b[0m\u001b[0;34m\u001b[0m\u001b[0m\n",
            "\u001b[0;31mNameError\u001b[0m: name 'cpt_df' is not defined"
          ]
        }
      ]
    },
    {
      "cell_type": "code",
      "metadata": {
        "id": "rr7XnfQ3dbZk",
        "colab_type": "code",
        "colab": {}
      },
      "source": [
        "#engine.execute(\"SELECT * FROM Joburg_Fresh_produce_commodity_cleaned\").fetchall()"
      ],
      "execution_count": 28,
      "outputs": []
    },
    {
      "cell_type": "code",
      "metadata": {
        "id": "a5CZqhq3dgTE",
        "colab_type": "code",
        "colab": {
          "base_uri": "https://localhost:8080/",
          "height": 238
        },
        "outputId": "82b3d580-7c0e-4513-f323-3b739d6ce9c7"
      },
      "source": [
        "# Check that temp table is in your MS SQL Database\n",
        "conn = pyodbc.connect(driver='{SQL Server}',\n",
        "                      host='DESKTOP-TTAV4PQ\\SQLEXPRESS',\n",
        "                      database='Fresh_Produce_Market_Data',\n",
        "                      trusted_connection='true',\n",
        "                      user='sa')"
      ],
      "execution_count": 29,
      "outputs": [
        {
          "output_type": "error",
          "ename": "NameError",
          "evalue": "ignored",
          "traceback": [
            "\u001b[0;31m---------------------------------------------------------------------------\u001b[0m",
            "\u001b[0;31mNameError\u001b[0m                                 Traceback (most recent call last)",
            "\u001b[0;32m<ipython-input-29-0fe2defd19ac>\u001b[0m in \u001b[0;36m<module>\u001b[0;34m()\u001b[0m\n\u001b[1;32m      1\u001b[0m \u001b[0;31m# Check that temp table is in your MS SQL Database\u001b[0m\u001b[0;34m\u001b[0m\u001b[0;34m\u001b[0m\u001b[0;34m\u001b[0m\u001b[0m\n\u001b[0;32m----> 2\u001b[0;31m conn = pyodbc.connect(driver='{SQL Server}',\n\u001b[0m\u001b[1;32m      3\u001b[0m                       \u001b[0mhost\u001b[0m\u001b[0;34m=\u001b[0m\u001b[0;34m'DESKTOP-TTAV4PQ\\SQLEXPRESS'\u001b[0m\u001b[0;34m,\u001b[0m\u001b[0;34m\u001b[0m\u001b[0;34m\u001b[0m\u001b[0m\n\u001b[1;32m      4\u001b[0m                       \u001b[0mdatabase\u001b[0m\u001b[0;34m=\u001b[0m\u001b[0;34m'Fresh_Produce_Market_Data'\u001b[0m\u001b[0;34m,\u001b[0m\u001b[0;34m\u001b[0m\u001b[0;34m\u001b[0m\u001b[0m\n\u001b[1;32m      5\u001b[0m                       \u001b[0mtrusted_connection\u001b[0m\u001b[0;34m=\u001b[0m\u001b[0;34m'true'\u001b[0m\u001b[0;34m,\u001b[0m\u001b[0;34m\u001b[0m\u001b[0;34m\u001b[0m\u001b[0m\n",
            "\u001b[0;31mNameError\u001b[0m: name 'pyodbc' is not defined"
          ]
        }
      ]
    },
    {
      "cell_type": "code",
      "metadata": {
        "id": "A8rKvz7qdmQq",
        "colab_type": "code",
        "colab": {
          "base_uri": "https://localhost:8080/",
          "height": 167
        },
        "outputId": "12785583-d60d-43ce-942d-305a86bc3070"
      },
      "source": [
        "cursor.execute('SELECT * from Joburg_Fresh_produce_container_cleaned')"
      ],
      "execution_count": 30,
      "outputs": [
        {
          "output_type": "error",
          "ename": "NameError",
          "evalue": "ignored",
          "traceback": [
            "\u001b[0;31m---------------------------------------------------------------------------\u001b[0m",
            "\u001b[0;31mNameError\u001b[0m                                 Traceback (most recent call last)",
            "\u001b[0;32m<ipython-input-30-31992560522c>\u001b[0m in \u001b[0;36m<module>\u001b[0;34m()\u001b[0m\n\u001b[0;32m----> 1\u001b[0;31m \u001b[0mcursor\u001b[0m\u001b[0;34m.\u001b[0m\u001b[0mexecute\u001b[0m\u001b[0;34m(\u001b[0m\u001b[0;34m'SELECT * from Joburg_Fresh_produce_container_cleaned'\u001b[0m\u001b[0;34m)\u001b[0m\u001b[0;34m\u001b[0m\u001b[0;34m\u001b[0m\u001b[0m\n\u001b[0m",
            "\u001b[0;31mNameError\u001b[0m: name 'cursor' is not defined"
          ]
        }
      ]
    },
    {
      "cell_type": "code",
      "metadata": {
        "id": "pc2ZvQN0dpyS",
        "colab_type": "code",
        "colab": {}
      },
      "source": [
        "#cursor.fetchall()"
      ],
      "execution_count": 31,
      "outputs": []
    },
    {
      "cell_type": "code",
      "metadata": {
        "id": "Mzu55wqsdtTG",
        "colab_type": "code",
        "colab": {}
      },
      "source": [
        ""
      ],
      "execution_count": null,
      "outputs": []
    },
    {
      "cell_type": "markdown",
      "metadata": {
        "id": "y62s_uP2dylr",
        "colab_type": "text"
      },
      "source": [
        "Dropping a table"
      ]
    },
    {
      "cell_type": "code",
      "metadata": {
        "id": "SEEYazfjd0Nf",
        "colab_type": "code",
        "colab": {
          "base_uri": "https://localhost:8080/",
          "height": 185
        },
        "outputId": "d8748489-8be3-4503-f7ca-454296e6bfed"
      },
      "source": [
        "sql = 'Drop TABLE Table_testing;'\n",
        "conn.execute(sql)"
      ],
      "execution_count": 32,
      "outputs": [
        {
          "output_type": "error",
          "ename": "NameError",
          "evalue": "ignored",
          "traceback": [
            "\u001b[0;31m---------------------------------------------------------------------------\u001b[0m",
            "\u001b[0;31mNameError\u001b[0m                                 Traceback (most recent call last)",
            "\u001b[0;32m<ipython-input-32-d908bc7c78fe>\u001b[0m in \u001b[0;36m<module>\u001b[0;34m()\u001b[0m\n\u001b[1;32m      1\u001b[0m \u001b[0msql\u001b[0m \u001b[0;34m=\u001b[0m \u001b[0;34m'Drop TABLE Table_testing;'\u001b[0m\u001b[0;34m\u001b[0m\u001b[0;34m\u001b[0m\u001b[0m\n\u001b[0;32m----> 2\u001b[0;31m \u001b[0mconn\u001b[0m\u001b[0;34m.\u001b[0m\u001b[0mexecute\u001b[0m\u001b[0;34m(\u001b[0m\u001b[0msql\u001b[0m\u001b[0;34m)\u001b[0m\u001b[0;34m\u001b[0m\u001b[0;34m\u001b[0m\u001b[0m\n\u001b[0m",
            "\u001b[0;31mNameError\u001b[0m: name 'conn' is not defined"
          ]
        }
      ]
    },
    {
      "cell_type": "code",
      "metadata": {
        "id": "Vr3Ztm1Pd4Pn",
        "colab_type": "code",
        "colab": {}
      },
      "source": [
        ""
      ],
      "execution_count": null,
      "outputs": []
    }
  ]
}