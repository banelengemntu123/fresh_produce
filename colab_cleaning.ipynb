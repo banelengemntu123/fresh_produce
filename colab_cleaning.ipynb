{
 "cells": [
  {
   "cell_type": "markdown",
   "metadata": {
    "colab_type": "text",
    "id": "view-in-github"
   },
   "source": [
    "<a href=\"https://colab.research.google.com/github/scmosoeu/fresh_produce/blob/master/colab_cleaning.ipynb\" target=\"_parent\"><img src=\"https://colab.research.google.com/assets/colab-badge.svg\" alt=\"Open In Colab\"/></a>"
   ]
  },
  {
   "cell_type": "markdown",
   "metadata": {
    "colab_type": "text",
    "id": "Ny1uX5yzaSt_"
   },
   "source": [
    "# 1. Introduction\n",
    "\n",
    "This notebook connects to the Fresh Produce Database on SQL, cleans the tables and save the cleaned tables in the database."
   ]
  },
  {
   "cell_type": "markdown",
   "metadata": {
    "colab_type": "text",
    "id": "om7YkJ56aPLz"
   },
   "source": []
  },
  {
   "cell_type": "code",
   "execution_count": 2,
   "metadata": {
    "colab": {
     "base_uri": "https://localhost:8080/",
     "height": 232
    },
    "colab_type": "code",
    "id": "ve-DtrumZ2vw",
    "outputId": "3ae1fd0a-c67d-4232-a765-df940c8e6790"
   },
   "outputs": [
    {
     "name": "stdout",
     "output_type": "stream",
     "text": [
      "Collecting pyodbc\n",
      "\u001b[?25l  Downloading https://files.pythonhosted.org/packages/81/0d/bb08bb16c97765244791c73e49de9fd4c24bb3ef00313aed82e5640dee5d/pyodbc-4.0.30.tar.gz (266kB)\n",
      "\u001b[K     |████████████████████████████████| 276kB 3.4MB/s \n",
      "\u001b[?25hBuilding wheels for collected packages: pyodbc\n",
      "  Building wheel for pyodbc (setup.py) ... \u001b[?25lerror\n",
      "\u001b[31m  ERROR: Failed building wheel for pyodbc\u001b[0m\n",
      "\u001b[?25h  Running setup.py clean for pyodbc\n",
      "Failed to build pyodbc\n",
      "Installing collected packages: pyodbc\n",
      "    Running setup.py install for pyodbc ... \u001b[?25l\u001b[?25herror\n",
      "\u001b[31mERROR: Command errored out with exit status 1: /usr/bin/python3 -u -c 'import sys, setuptools, tokenize; sys.argv[0] = '\"'\"'/tmp/pip-install-jkjvy9e5/pyodbc/setup.py'\"'\"'; __file__='\"'\"'/tmp/pip-install-jkjvy9e5/pyodbc/setup.py'\"'\"';f=getattr(tokenize, '\"'\"'open'\"'\"', open)(__file__);code=f.read().replace('\"'\"'\\r\\n'\"'\"', '\"'\"'\\n'\"'\"');f.close();exec(compile(code, __file__, '\"'\"'exec'\"'\"'))' install --record /tmp/pip-record-jrnfurbj/install-record.txt --single-version-externally-managed --compile Check the logs for full command output.\u001b[0m\n"
     ]
    }
   ],
   "source": [
    "!pip install pyodbc "
   ]
  },
  {
   "cell_type": "code",
   "execution_count": 3,
   "metadata": {
    "colab": {},
    "colab_type": "code",
    "id": "QZDpGnChZ7WE"
   },
   "outputs": [],
   "source": [
    "#servername: DESKTOP-TTAV4PQ\\SQLEXPRESS"
   ]
  },
  {
   "cell_type": "code",
   "execution_count": 4,
   "metadata": {
    "colab": {},
    "colab_type": "code",
    "id": "i9yrF5CvZ_xZ"
   },
   "outputs": [],
   "source": [
    "#!pip install sqlalchemy\n",
    "#!conda install pymssql\n",
    "#apt-get -qq install python-pymssql python3-pymssql"
   ]
  },
  {
   "cell_type": "code",
   "execution_count": 9,
   "metadata": {
    "colab": {},
    "colab_type": "code",
    "id": "AgEVh5L8aDmE"
   },
   "outputs": [],
   "source": [
    "#Importing modules\n",
    "import pandas as pd\n",
    "import numpy as np\n",
    "#import pyodbc"
   ]
  },
  {
   "cell_type": "code",
   "execution_count": null,
   "metadata": {
    "colab": {},
    "colab_type": "code",
    "id": "S7cG-J19aJDm"
   },
   "outputs": [],
   "source": []
  },
  {
   "cell_type": "markdown",
   "metadata": {
    "colab_type": "text",
    "id": "oe_zQ6uhaup_"
   },
   "source": [
    "## Local Connection SQL"
   ]
  },
  {
   "cell_type": "code",
   "execution_count": null,
   "metadata": {
    "colab": {},
    "colab_type": "code",
    "id": "Uvyf5C-waxLs"
   },
   "outputs": [],
   "source": []
  },
  {
   "cell_type": "markdown",
   "metadata": {
    "colab_type": "text",
    "id": "pAU-fEJSa3cT"
   },
   "source": [
    "conn = pyodbc.connect('Driver={SQL Server};' 'Server=DESKTOP-TTAV4PQ\\SQLEXPRESS;' 'Database=Fresh_Produce_Market_Data;' 'Trusted_Connection=yes;')\n",
    "\n",
    "cursor = conn.cursor()\n",
    "\n",
    "cpt_df = pd.read_sql_query('SELECT * FROM Fresh_Produce_Market_Data.dbo.Capetown_Fresh_produce_market',conn) dbn_df = pd.read_sql_query('SELECT * FROM Fresh_Produce_Market_Data.dbo.Durban_Fresh_produce_market',conn) jhb_comm_df = pd.read_sql_query('SELECT * FROM Fresh_Produce_Market_Data.dbo.Joburg_Fresh_produce_commodity_raw',conn) jhb_con_df = pd.read_sql_query('SELECT * FROM Fresh_Produce_Market_Data.dbo.Joburg_Fresh_produce_container_raw',conn) jhb_comb_df = pd.read_sql_query('SELECT * FROM Fresh_Produce_Market_Data.dbo.Joburg_Fresh_produce_product_combination_raw',conn) woolworths_df = pd.read_sql_query('SELECT * FROM Fresh_Produce_Market_Data.dbo.woolworths_Prices',conn) pnp_df = pd.read_sql_query('SELECT * FROM Fresh_Produce_Market_Data.dbo.PickNPay_Prices',conn) shoprite_df = pd.read_sql_query('SELECT * FROM Fresh_Produce_Market_Data.dbo.Shoprite_Prices',conn)\n",
    "\n",
    "#print(sql_query)\n",
    "\n",
    "#print(type(sql_query))"
   ]
  },
  {
   "cell_type": "markdown",
   "metadata": {
    "colab_type": "text",
    "id": "R2qTfV61a-e0"
   },
   "source": [
    "## Remote Connection (RDS)"
   ]
  },
  {
   "cell_type": "code",
   "execution_count": 1,
   "metadata": {
    "colab": {
     "base_uri": "https://localhost:8080/",
     "height": 238
    },
    "colab_type": "code",
    "id": "Cs6iDcGnbAAh",
    "outputId": "d0da6ecc-0d20-4056-b19a-5b2e428620ab"
   },
   "outputs": [],
   "source": [
    "# creating a connection to the remote database (RDS)\n",
    "cnxn = pyodbc.connect(\n",
    "    DRIVER='{SQL Server}',\n",
    "    SERVER=,\n",
    "    DATABASE=,\n",
    "    uid=,\n",
    "    pwd=) "
   ]
  },
  {
   "cell_type": "code",
   "execution_count": 11,
   "metadata": {
    "colab": {
     "base_uri": "https://localhost:8080/",
     "height": 238
    },
    "colab_type": "code",
    "id": "quQq8-ONbFcl",
    "outputId": "b7535dd0-0e18-486f-d704-e5280400b434"
   },
   "outputs": [
    {
     "ename": "NameError",
     "evalue": "ignored",
     "output_type": "error",
     "traceback": [
      "\u001b[0;31m---------------------------------------------------------------------------\u001b[0m",
      "\u001b[0;31mNameError\u001b[0m                                 Traceback (most recent call last)",
      "\u001b[0;32m<ipython-input-11-45e00024adde>\u001b[0m in \u001b[0;36m<module>\u001b[0;34m()\u001b[0m\n\u001b[1;32m      1\u001b[0m \u001b[0;31m#Creating the pandas dataframe to store the data imported from RDS instance:\u001b[0m\u001b[0;34m\u001b[0m\u001b[0;34m\u001b[0m\u001b[0;34m\u001b[0m\u001b[0m\n\u001b[0;32m----> 2\u001b[0;31m \u001b[0mcpt_df\u001b[0m \u001b[0;34m=\u001b[0m \u001b[0mpd\u001b[0m\u001b[0;34m.\u001b[0m\u001b[0mread_sql_query\u001b[0m\u001b[0;34m(\u001b[0m\u001b[0;34m'SELECT * FROM Fresh_Produce_Market_Data.dbo.Capetown_Fresh_produce_market'\u001b[0m\u001b[0;34m,\u001b[0m\u001b[0mcnxn\u001b[0m\u001b[0;34m)\u001b[0m\u001b[0;34m\u001b[0m\u001b[0;34m\u001b[0m\u001b[0m\n\u001b[0m\u001b[1;32m      3\u001b[0m \u001b[0mdbn_df\u001b[0m \u001b[0;34m=\u001b[0m \u001b[0mpd\u001b[0m\u001b[0;34m.\u001b[0m\u001b[0mread_sql_query\u001b[0m\u001b[0;34m(\u001b[0m\u001b[0;34m'SELECT * FROM Fresh_Produce_Market_Data.dbo.Durban_Fresh_produce_market'\u001b[0m\u001b[0;34m,\u001b[0m\u001b[0mcnxn\u001b[0m\u001b[0;34m)\u001b[0m\u001b[0;34m\u001b[0m\u001b[0;34m\u001b[0m\u001b[0m\n\u001b[1;32m      4\u001b[0m \u001b[0mjhb_comm_df\u001b[0m \u001b[0;34m=\u001b[0m \u001b[0mpd\u001b[0m\u001b[0;34m.\u001b[0m\u001b[0mread_sql_query\u001b[0m\u001b[0;34m(\u001b[0m\u001b[0;34m'SELECT * FROM Fresh_Produce_Market_Data.dbo.Joburg_Fresh_produce_commodity_raw'\u001b[0m\u001b[0;34m,\u001b[0m\u001b[0mcnxn\u001b[0m\u001b[0;34m)\u001b[0m\u001b[0;34m\u001b[0m\u001b[0;34m\u001b[0m\u001b[0m\n\u001b[1;32m      5\u001b[0m \u001b[0mjhb_con_df\u001b[0m \u001b[0;34m=\u001b[0m \u001b[0mpd\u001b[0m\u001b[0;34m.\u001b[0m\u001b[0mread_sql_query\u001b[0m\u001b[0;34m(\u001b[0m\u001b[0;34m'SELECT * FROM Fresh_Produce_Market_Data.dbo.Joburg_Fresh_produce_container_raw'\u001b[0m\u001b[0;34m,\u001b[0m\u001b[0mcnxn\u001b[0m\u001b[0;34m)\u001b[0m\u001b[0;34m\u001b[0m\u001b[0;34m\u001b[0m\u001b[0m\n",
      "\u001b[0;31mNameError\u001b[0m: name 'cnxn' is not defined"
     ]
    }
   ],
   "source": [
    "#Creating the pandas dataframe to store the data imported from RDS instance:\n",
    "cpt_df = pd.read_sql_query('SELECT * FROM Fresh_Produce_Market_Data.dbo.Capetown_Fresh_produce_market',cnxn)\n",
    "dbn_df = pd.read_sql_query('SELECT * FROM Fresh_Produce_Market_Data.dbo.Durban_Fresh_produce_market',cnxn)\n",
    "jhb_comm_df = pd.read_sql_query('SELECT * FROM Fresh_Produce_Market_Data.dbo.Joburg_Fresh_produce_commodity_raw',cnxn)\n",
    "jhb_con_df = pd.read_sql_query('SELECT * FROM Fresh_Produce_Market_Data.dbo.Joburg_Fresh_produce_container_raw',cnxn)\n",
    "jhb_comb_df = pd.read_sql_query('SELECT * FROM Fresh_Produce_Market_Data.dbo.Joburg_Fresh_produce_product_combination_raw',cnxn)\n",
    "woolworths_df = pd.read_sql_query('SELECT * FROM Fresh_Produce_Market_Data.dbo.woolworths_Prices',cnxn)\n",
    "pnp_df = pd.read_sql_query('SELECT * FROM Fresh_Produce_Market_Data.dbo.PickNPay_Prices',cnxn)\n",
    "shoprite_df = pd.read_sql_query('SELECT * FROM Fresh_Produce_Market_Data.dbo.Shoprite_Prices',cnxn)"
   ]
  },
  {
   "cell_type": "code",
   "execution_count": 12,
   "metadata": {
    "colab": {
     "base_uri": "https://localhost:8080/",
     "height": 185
    },
    "colab_type": "code",
    "id": "X7CvaN12bK_A",
    "outputId": "523ba42e-c03d-4cb1-bd3e-b2d98c822007"
   },
   "outputs": [
    {
     "ename": "NameError",
     "evalue": "ignored",
     "output_type": "error",
     "traceback": [
      "\u001b[0;31m---------------------------------------------------------------------------\u001b[0m",
      "\u001b[0;31mNameError\u001b[0m                                 Traceback (most recent call last)",
      "\u001b[0;32m<ipython-input-12-06f1c123a1c5>\u001b[0m in \u001b[0;36m<module>\u001b[0;34m()\u001b[0m\n\u001b[1;32m      1\u001b[0m \u001b[0;31m# Exploring the data\u001b[0m\u001b[0;34m\u001b[0m\u001b[0;34m\u001b[0m\u001b[0;34m\u001b[0m\u001b[0m\n\u001b[0;32m----> 2\u001b[0;31m \u001b[0mcpt_df\u001b[0m\u001b[0;34m.\u001b[0m\u001b[0minfo\u001b[0m\u001b[0;34m(\u001b[0m\u001b[0;34m)\u001b[0m\u001b[0;34m\u001b[0m\u001b[0;34m\u001b[0m\u001b[0m\n\u001b[0m",
      "\u001b[0;31mNameError\u001b[0m: name 'cpt_df' is not defined"
     ]
    }
   ],
   "source": [
    "# Exploring the data\n",
    "cpt_df.info()"
   ]
  },
  {
   "cell_type": "code",
   "execution_count": 13,
   "metadata": {
    "colab": {
     "base_uri": "https://localhost:8080/",
     "height": 203
    },
    "colab_type": "code",
    "id": "Wm1pcF40bPOK",
    "outputId": "a24fc2f8-5f06-4fcf-bb9f-84538c2920a2"
   },
   "outputs": [
    {
     "ename": "NameError",
     "evalue": "ignored",
     "output_type": "error",
     "traceback": [
      "\u001b[0;31m---------------------------------------------------------------------------\u001b[0m",
      "\u001b[0;31mNameError\u001b[0m                                 Traceback (most recent call last)",
      "\u001b[0;32m<ipython-input-13-9fcb61c8b3bd>\u001b[0m in \u001b[0;36m<module>\u001b[0;34m()\u001b[0m\n\u001b[1;32m      1\u001b[0m \u001b[0;31m#jhb_comm_df.head()\u001b[0m\u001b[0;34m\u001b[0m\u001b[0;34m\u001b[0m\u001b[0;34m\u001b[0m\u001b[0m\n\u001b[1;32m      2\u001b[0m \u001b[0;31m#jhb_con_df.head()\u001b[0m\u001b[0;34m\u001b[0m\u001b[0;34m\u001b[0m\u001b[0;34m\u001b[0m\u001b[0m\n\u001b[0;32m----> 3\u001b[0;31m \u001b[0mjhb_comb_df\u001b[0m\u001b[0;34m.\u001b[0m\u001b[0minfo\u001b[0m\u001b[0;34m(\u001b[0m\u001b[0;34m)\u001b[0m\u001b[0;34m\u001b[0m\u001b[0;34m\u001b[0m\u001b[0m\n\u001b[0m",
      "\u001b[0;31mNameError\u001b[0m: name 'jhb_comb_df' is not defined"
     ]
    }
   ],
   "source": [
    "#jhb_comm_df.head()\n",
    "#jhb_con_df.head()\n",
    "jhb_comb_df.info()"
   ]
  },
  {
   "cell_type": "markdown",
   "metadata": {
    "colab_type": "text",
    "id": "ZvJGEuBQbXu4"
   },
   "source": [
    "# Creating Functions to clean the data\n"
   ]
  },
  {
   "cell_type": "markdown",
   "metadata": {
    "colab_type": "text",
    "id": "Opw5AN2gbmNe"
   },
   "source": [
    "## The function to clean Rand Value columns  and normalise them"
   ]
  },
  {
   "cell_type": "code",
   "execution_count": 14,
   "metadata": {
    "colab": {},
    "colab_type": "code",
    "id": "5ENX3aLAbp8E"
   },
   "outputs": [],
   "source": [
    "def rand_value(df, column):\n",
    "    \"\"\"\n",
    "    Takes a dataframe and a column with rand value to be cleaned as arguments, \n",
    "    returns a dataframe, with two new columns with rand value for one day and\n",
    "    Month To Date rand value. The initial column that was added as argument is removed from the dataframe.\n",
    "    \"\"\" \n",
    "    \n",
    "    df[\"MTD_total_value_sold_(R)\"]=np.nan\n",
    "    df[\"total_value_sold_(R)\"]=np.nan\n",
    "    for i in range(len(df[column])):\n",
    "        df[\"MTD_total_value_sold_(R)\"][i]=round(float(df[column][i].split(\"R\")[-1].replace(',','')),2)\n",
    "        df[\"total_value_sold_(R)\"][i]=round(float(df[column][i].split(\"R\")[1].split(\"M\")[0].replace(\",\",\"\")),2)\n",
    "    \n",
    "    df1=df.copy()    \n",
    "    df1.drop(column,axis=1, inplace=True)\n",
    "    return df1"
   ]
  },
  {
   "cell_type": "code",
   "execution_count": 15,
   "metadata": {
    "colab": {
     "base_uri": "https://localhost:8080/",
     "height": 185
    },
    "colab_type": "code",
    "id": "yn7-YxIMb0ng",
    "outputId": "1bb4362d-6bf4-4178-cb02-b0c8b4605700"
   },
   "outputs": [
    {
     "ename": "NameError",
     "evalue": "ignored",
     "output_type": "error",
     "traceback": [
      "\u001b[0;31m---------------------------------------------------------------------------\u001b[0m",
      "\u001b[0;31mNameError\u001b[0m                                 Traceback (most recent call last)",
      "\u001b[0;32m<ipython-input-15-9bedcb8b3a0f>\u001b[0m in \u001b[0;36m<module>\u001b[0;34m()\u001b[0m\n\u001b[0;32m----> 1\u001b[0;31m \u001b[0mjhb_comm_df_cleaned\u001b[0m\u001b[0;34m=\u001b[0m\u001b[0mrand_value\u001b[0m\u001b[0;34m(\u001b[0m\u001b[0mjhb_comm_df\u001b[0m\u001b[0;34m,\u001b[0m\u001b[0;34m\"total_value_sold\"\u001b[0m\u001b[0;34m)\u001b[0m\u001b[0;34m\u001b[0m\u001b[0;34m\u001b[0m\u001b[0m\n\u001b[0m\u001b[1;32m      2\u001b[0m \u001b[0mjhb_con_df_cleaned\u001b[0m\u001b[0;34m=\u001b[0m\u001b[0mrand_value\u001b[0m\u001b[0;34m(\u001b[0m\u001b[0mjhb_con_df\u001b[0m\u001b[0;34m,\u001b[0m\u001b[0;34m\"value_sold\"\u001b[0m\u001b[0;34m)\u001b[0m\u001b[0;34m\u001b[0m\u001b[0;34m\u001b[0m\u001b[0m\n",
      "\u001b[0;31mNameError\u001b[0m: name 'jhb_comm_df' is not defined"
     ]
    }
   ],
   "source": [
    "jhb_comm_df_cleaned=rand_value(jhb_comm_df,\"total_value_sold\")\n",
    "jhb_con_df_cleaned=rand_value(jhb_con_df,\"value_sold\")"
   ]
  },
  {
   "cell_type": "code",
   "execution_count": 16,
   "metadata": {
    "colab": {
     "base_uri": "https://localhost:8080/",
     "height": 185
    },
    "colab_type": "code",
    "id": "fAV7jR59b5lg",
    "outputId": "73587fab-2271-43df-d947-f64fd0a860c1"
   },
   "outputs": [
    {
     "ename": "NameError",
     "evalue": "ignored",
     "output_type": "error",
     "traceback": [
      "\u001b[0;31m---------------------------------------------------------------------------\u001b[0m",
      "\u001b[0;31mNameError\u001b[0m                                 Traceback (most recent call last)",
      "\u001b[0;32m<ipython-input-16-2115af0c683b>\u001b[0m in \u001b[0;36m<module>\u001b[0;34m()\u001b[0m\n\u001b[0;32m----> 1\u001b[0;31m \u001b[0mjhb_comm_df_cleaned\u001b[0m\u001b[0;34m.\u001b[0m\u001b[0mhead\u001b[0m\u001b[0;34m(\u001b[0m\u001b[0;34m)\u001b[0m\u001b[0;34m\u001b[0m\u001b[0;34m\u001b[0m\u001b[0m\n\u001b[0m\u001b[1;32m      2\u001b[0m \u001b[0mjhb_con_df_cleaned\u001b[0m\u001b[0;34m.\u001b[0m\u001b[0mhead\u001b[0m\u001b[0;34m(\u001b[0m\u001b[0;34m)\u001b[0m\u001b[0;34m\u001b[0m\u001b[0;34m\u001b[0m\u001b[0m\n",
      "\u001b[0;31mNameError\u001b[0m: name 'jhb_comm_df_cleaned' is not defined"
     ]
    }
   ],
   "source": [
    "jhb_comm_df_cleaned.head()\n",
    "jhb_con_df_cleaned.head()"
   ]
  },
  {
   "cell_type": "markdown",
   "metadata": {
    "colab_type": "text",
    "id": "jivms3QWcBQM"
   },
   "source": [
    "## The function to clean quantities and weight columns simultaneuosly"
   ]
  },
  {
   "cell_type": "code",
   "execution_count": 17,
   "metadata": {
    "colab": {},
    "colab_type": "code",
    "id": "ld6y6E2PcCtr"
   },
   "outputs": [],
   "source": [
    "def sold_qty_kg(df,quatity_sold, weight_sold):\n",
    "    df[\"Total_quatity_sold\"]=np.nan\n",
    "    df[\"MTD_Total_quatity_sold\"]=np.nan\n",
    "    df[\"Total_kg_sold\"]=np.nan\n",
    "    df[\"MTD_total_kg_sold\"]=np.nan\n",
    "    for i in range(len(df[quatity_sold])):\n",
    "        df[\"Total_quatity_sold\"][i]=int(df[quatity_sold][i].split(\"M\")[0].replace(\",\",\"\"))\n",
    "        df[\"MTD_Total_quatity_sold\"][i]=int(df[quatity_sold][i].split(\":\")[-1].replace(',',''))\n",
    "        df[\"Total_kg_sold\"][i]=float(df[weight_sold][i].split(\"M\")[0].replace(\",\",\"\"))\n",
    "        df[\"MTD_total_kg_sold\"][i]=float(df[weight_sold][i].split(\":\")[-1].replace(',',''))\n",
    "    df1=df.copy()\n",
    "    df1.drop([quatity_sold,weight_sold],axis=1, inplace=True)\n",
    "    return df1"
   ]
  },
  {
   "cell_type": "code",
   "execution_count": 18,
   "metadata": {
    "colab": {
     "base_uri": "https://localhost:8080/",
     "height": 185
    },
    "colab_type": "code",
    "id": "NE2YnhbIcIyf",
    "outputId": "2964c700-11a9-459e-e425-38ddb9d30f78"
   },
   "outputs": [
    {
     "ename": "NameError",
     "evalue": "ignored",
     "output_type": "error",
     "traceback": [
      "\u001b[0;31m---------------------------------------------------------------------------\u001b[0m",
      "\u001b[0;31mNameError\u001b[0m                                 Traceback (most recent call last)",
      "\u001b[0;32m<ipython-input-18-b33717b992eb>\u001b[0m in \u001b[0;36m<module>\u001b[0;34m()\u001b[0m\n\u001b[0;32m----> 1\u001b[0;31m \u001b[0mjhb_comm_df_cleaned\u001b[0m\u001b[0;34m=\u001b[0m \u001b[0msold_qty_kg\u001b[0m\u001b[0;34m(\u001b[0m\u001b[0mjhb_comm_df_cleaned\u001b[0m\u001b[0;34m,\u001b[0m \u001b[0;34m\"total_qty_sold\"\u001b[0m\u001b[0;34m,\u001b[0m\u001b[0;34m\"total_kg_sold\"\u001b[0m\u001b[0;34m)\u001b[0m\u001b[0;34m\u001b[0m\u001b[0;34m\u001b[0m\u001b[0m\n\u001b[0m\u001b[1;32m      2\u001b[0m \u001b[0mjhb_con_df_cleaned\u001b[0m\u001b[0;34m=\u001b[0m \u001b[0msold_qty_kg\u001b[0m\u001b[0;34m(\u001b[0m\u001b[0mjhb_con_df_cleaned\u001b[0m\u001b[0;34m,\u001b[0m \u001b[0;34m\"qty_sold\"\u001b[0m\u001b[0;34m,\u001b[0m\u001b[0;34m\"kg_sold\"\u001b[0m\u001b[0;34m)\u001b[0m\u001b[0;34m\u001b[0m\u001b[0;34m\u001b[0m\u001b[0m\n",
      "\u001b[0;31mNameError\u001b[0m: name 'jhb_comm_df_cleaned' is not defined"
     ]
    }
   ],
   "source": [
    "jhb_comm_df_cleaned= sold_qty_kg(jhb_comm_df_cleaned, \"total_qty_sold\",\"total_kg_sold\")\n",
    "jhb_con_df_cleaned= sold_qty_kg(jhb_con_df_cleaned, \"qty_sold\",\"kg_sold\")"
   ]
  },
  {
   "cell_type": "code",
   "execution_count": 19,
   "metadata": {
    "colab": {
     "base_uri": "https://localhost:8080/",
     "height": 185
    },
    "colab_type": "code",
    "id": "2l595NwLcNK5",
    "outputId": "b48799fd-f00c-4b4f-fd8a-ea33fe6a0c30"
   },
   "outputs": [
    {
     "ename": "NameError",
     "evalue": "ignored",
     "output_type": "error",
     "traceback": [
      "\u001b[0;31m---------------------------------------------------------------------------\u001b[0m",
      "\u001b[0;31mNameError\u001b[0m                                 Traceback (most recent call last)",
      "\u001b[0;32m<ipython-input-19-5a98d0f8bb8e>\u001b[0m in \u001b[0;36m<module>\u001b[0;34m()\u001b[0m\n\u001b[0;32m----> 1\u001b[0;31m \u001b[0mjhb_comm_df_cleaned\u001b[0m\u001b[0;34m.\u001b[0m\u001b[0mhead\u001b[0m\u001b[0;34m(\u001b[0m\u001b[0;34m)\u001b[0m\u001b[0;34m\u001b[0m\u001b[0;34m\u001b[0m\u001b[0m\n\u001b[0m\u001b[1;32m      2\u001b[0m \u001b[0;31m#jhb_con_df_cleaned.head()\u001b[0m\u001b[0;34m\u001b[0m\u001b[0;34m\u001b[0m\u001b[0;34m\u001b[0m\u001b[0m\n",
      "\u001b[0;31mNameError\u001b[0m: name 'jhb_comm_df_cleaned' is not defined"
     ]
    }
   ],
   "source": [
    "jhb_comm_df_cleaned.head()\n",
    "#jhb_con_df_cleaned.head()\n"
   ]
  },
  {
   "cell_type": "code",
   "execution_count": 20,
   "metadata": {
    "colab": {},
    "colab_type": "code",
    "id": "3SMVN8uAcQ8s"
   },
   "outputs": [],
   "source": [
    "def to_numeric(df,column):\n",
    "    for i in range(len(df[column])):\n",
    "        df[column][i]=df[column][i].replace(\",\",\"\")\n",
    "    df[column]= pd.to_numeric(df[column])\n",
    "    return  df"
   ]
  },
  {
   "cell_type": "code",
   "execution_count": 21,
   "metadata": {
    "colab": {
     "base_uri": "https://localhost:8080/",
     "height": 238
    },
    "colab_type": "code",
    "id": "9_OTIM-XcUKN",
    "outputId": "a05a6596-aa7e-440b-af46-a06a9d13fb70"
   },
   "outputs": [
    {
     "ename": "NameError",
     "evalue": "ignored",
     "output_type": "error",
     "traceback": [
      "\u001b[0;31m---------------------------------------------------------------------------\u001b[0m",
      "\u001b[0;31mNameError\u001b[0m                                 Traceback (most recent call last)",
      "\u001b[0;32m<ipython-input-21-b554776a70db>\u001b[0m in \u001b[0;36m<module>\u001b[0;34m()\u001b[0m\n\u001b[0;32m----> 1\u001b[0;31m \u001b[0mcpt_df\u001b[0m\u001b[0;34m[\u001b[0m\u001b[0;34m\"date_updated\"\u001b[0m\u001b[0;34m]\u001b[0m\u001b[0;34m=\u001b[0m\u001b[0mpd\u001b[0m\u001b[0;34m.\u001b[0m\u001b[0mto_datetime\u001b[0m\u001b[0;34m(\u001b[0m\u001b[0mcpt_df\u001b[0m\u001b[0;34m[\u001b[0m\u001b[0;34m\"date_updated\"\u001b[0m\u001b[0;34m]\u001b[0m\u001b[0;34m)\u001b[0m\u001b[0;34m\u001b[0m\u001b[0;34m\u001b[0m\u001b[0m\n\u001b[0m\u001b[1;32m      2\u001b[0m \u001b[0mcpt_df\u001b[0m\u001b[0;34m=\u001b[0m\u001b[0mto_numeric\u001b[0m\u001b[0;34m(\u001b[0m\u001b[0mcpt_df\u001b[0m\u001b[0;34m,\u001b[0m\u001b[0;34m\"mass\"\u001b[0m\u001b[0;34m)\u001b[0m\u001b[0;34m\u001b[0m\u001b[0;34m\u001b[0m\u001b[0m\n\u001b[1;32m      3\u001b[0m \u001b[0mcpt_df\u001b[0m\u001b[0;34m=\u001b[0m\u001b[0mto_numeric\u001b[0m\u001b[0;34m(\u001b[0m\u001b[0mcpt_df\u001b[0m\u001b[0;34m,\u001b[0m \u001b[0;34m\"low_price\"\u001b[0m\u001b[0;34m)\u001b[0m\u001b[0;34m\u001b[0m\u001b[0;34m\u001b[0m\u001b[0m\n\u001b[1;32m      4\u001b[0m \u001b[0mcpt_df\u001b[0m\u001b[0;34m=\u001b[0m\u001b[0mto_numeric\u001b[0m\u001b[0;34m(\u001b[0m\u001b[0mcpt_df\u001b[0m\u001b[0;34m,\u001b[0m\u001b[0;34m\"high_price\"\u001b[0m\u001b[0;34m)\u001b[0m\u001b[0;34m\u001b[0m\u001b[0;34m\u001b[0m\u001b[0m\n\u001b[1;32m      5\u001b[0m \u001b[0mcpt_df\u001b[0m\u001b[0;34m=\u001b[0m\u001b[0mto_numeric\u001b[0m\u001b[0;34m(\u001b[0m\u001b[0mcpt_df\u001b[0m\u001b[0;34m,\u001b[0m\u001b[0;34m\"avg_price\"\u001b[0m\u001b[0;34m)\u001b[0m\u001b[0;34m\u001b[0m\u001b[0;34m\u001b[0m\u001b[0m\n",
      "\u001b[0;31mNameError\u001b[0m: name 'cpt_df' is not defined"
     ]
    }
   ],
   "source": [
    "cpt_df[\"date_updated\"]=pd.to_datetime(cpt_df[\"date_updated\"])\n",
    "cpt_df=to_numeric(cpt_df,\"mass\")\n",
    "cpt_df=to_numeric(cpt_df, \"low_price\")\n",
    "cpt_df=to_numeric(cpt_df,\"high_price\")\n",
    "cpt_df=to_numeric(cpt_df,\"avg_price\")"
   ]
  },
  {
   "cell_type": "code",
   "execution_count": 22,
   "metadata": {
    "colab": {
     "base_uri": "https://localhost:8080/",
     "height": 238
    },
    "colab_type": "code",
    "id": "XjrLMts8cXyx",
    "outputId": "326bce7c-2d46-4bdf-de92-d6fb72994f7c"
   },
   "outputs": [
    {
     "ename": "NameError",
     "evalue": "ignored",
     "output_type": "error",
     "traceback": [
      "\u001b[0;31m---------------------------------------------------------------------------\u001b[0m",
      "\u001b[0;31mNameError\u001b[0m                                 Traceback (most recent call last)",
      "\u001b[0;32m<ipython-input-22-2589bdb950cb>\u001b[0m in \u001b[0;36m<module>\u001b[0;34m()\u001b[0m\n\u001b[0;32m----> 1\u001b[0;31m \u001b[0mdbn_df\u001b[0m\u001b[0;34m[\u001b[0m\u001b[0;34m\"Date\"\u001b[0m\u001b[0;34m]\u001b[0m\u001b[0;34m=\u001b[0m\u001b[0mpd\u001b[0m\u001b[0;34m.\u001b[0m\u001b[0mto_datetime\u001b[0m\u001b[0;34m(\u001b[0m\u001b[0mdbn_df\u001b[0m\u001b[0;34m[\u001b[0m\u001b[0;34m\"Date\"\u001b[0m\u001b[0;34m]\u001b[0m\u001b[0;34m)\u001b[0m\u001b[0;34m\u001b[0m\u001b[0;34m\u001b[0m\u001b[0m\n\u001b[0m\u001b[1;32m      2\u001b[0m \u001b[0mdbn_df\u001b[0m\u001b[0;34m=\u001b[0m\u001b[0mto_numeric\u001b[0m\u001b[0;34m(\u001b[0m\u001b[0mdbn_df\u001b[0m\u001b[0;34m,\u001b[0m\u001b[0;34m\"Weight_Kg\"\u001b[0m\u001b[0;34m)\u001b[0m\u001b[0;34m\u001b[0m\u001b[0;34m\u001b[0m\u001b[0m\n\u001b[1;32m      3\u001b[0m \u001b[0mdbn_df\u001b[0m\u001b[0;34m=\u001b[0m\u001b[0mto_numeric\u001b[0m\u001b[0;34m(\u001b[0m\u001b[0mdbn_df\u001b[0m\u001b[0;34m,\u001b[0m\u001b[0;34m\"Low_Price\"\u001b[0m\u001b[0;34m)\u001b[0m\u001b[0;34m\u001b[0m\u001b[0;34m\u001b[0m\u001b[0m\n\u001b[1;32m      4\u001b[0m \u001b[0mdbn_df\u001b[0m\u001b[0;34m=\u001b[0m\u001b[0mto_numeric\u001b[0m\u001b[0;34m(\u001b[0m\u001b[0mdbn_df\u001b[0m\u001b[0;34m,\u001b[0m\u001b[0;34m\"High_Price\"\u001b[0m\u001b[0;34m)\u001b[0m\u001b[0;34m\u001b[0m\u001b[0;34m\u001b[0m\u001b[0m\n\u001b[1;32m      5\u001b[0m \u001b[0mdbn_df\u001b[0m\u001b[0;34m=\u001b[0m\u001b[0mto_numeric\u001b[0m\u001b[0;34m(\u001b[0m\u001b[0mdbn_df\u001b[0m\u001b[0;34m,\u001b[0m\u001b[0;34m\"Average_Price\"\u001b[0m\u001b[0;34m)\u001b[0m\u001b[0;34m\u001b[0m\u001b[0;34m\u001b[0m\u001b[0m\n",
      "\u001b[0;31mNameError\u001b[0m: name 'dbn_df' is not defined"
     ]
    }
   ],
   "source": [
    "dbn_df[\"Date\"]=pd.to_datetime(dbn_df[\"Date\"])\n",
    "dbn_df=to_numeric(dbn_df,\"Weight_Kg\")\n",
    "dbn_df=to_numeric(dbn_df,\"Low_Price\")\n",
    "dbn_df=to_numeric(dbn_df,\"High_Price\")\n",
    "dbn_df=to_numeric(dbn_df,\"Average_Price\")\n",
    "dbn_df=to_numeric(dbn_df,\"Sales_Total\")\n",
    "dbn_df=to_numeric(dbn_df,\"Total_Qty_Sold\")\n",
    "dbn_df=to_numeric(dbn_df,\"Total_Kg_Sold\")\n",
    "dbn_df=to_numeric(dbn_df,\"Stock_On_Hand\")\n",
    "dbn_df.head()"
   ]
  },
  {
   "cell_type": "code",
   "execution_count": 23,
   "metadata": {
    "colab": {
     "base_uri": "https://localhost:8080/",
     "height": 238
    },
    "colab_type": "code",
    "id": "nuFjFyqwcbv5",
    "outputId": "f392fb9a-09cf-4038-e768-f99acc6b78f7"
   },
   "outputs": [
    {
     "ename": "NameError",
     "evalue": "ignored",
     "output_type": "error",
     "traceback": [
      "\u001b[0;31m---------------------------------------------------------------------------\u001b[0m",
      "\u001b[0;31mNameError\u001b[0m                                 Traceback (most recent call last)",
      "\u001b[0;32m<ipython-input-23-74fe3c982bdb>\u001b[0m in \u001b[0;36m<module>\u001b[0;34m()\u001b[0m\n\u001b[0;32m----> 1\u001b[0;31m \u001b[0mjhb_comb_df\u001b[0m\u001b[0;34m[\u001b[0m\u001b[0;34m\"date\"\u001b[0m\u001b[0;34m]\u001b[0m\u001b[0;34m=\u001b[0m\u001b[0mpd\u001b[0m\u001b[0;34m.\u001b[0m\u001b[0mto_datetime\u001b[0m\u001b[0;34m(\u001b[0m\u001b[0mjhb_comb_df\u001b[0m\u001b[0;34m[\u001b[0m\u001b[0;34m\"date\"\u001b[0m\u001b[0;34m]\u001b[0m\u001b[0;34m)\u001b[0m\u001b[0;34m\u001b[0m\u001b[0;34m\u001b[0m\u001b[0m\n\u001b[0m\u001b[1;32m      2\u001b[0m \u001b[0mjhb_comb_df\u001b[0m\u001b[0;34m=\u001b[0m\u001b[0mrand_value\u001b[0m\u001b[0;34m(\u001b[0m\u001b[0mjhb_comb_df\u001b[0m\u001b[0;34m,\u001b[0m \u001b[0;34m\"total_value_sold\"\u001b[0m\u001b[0;34m)\u001b[0m\u001b[0;34m\u001b[0m\u001b[0;34m\u001b[0m\u001b[0m\n\u001b[1;32m      3\u001b[0m \u001b[0mjhb_comb_df\u001b[0m\u001b[0;34m=\u001b[0m\u001b[0mrand_value\u001b[0m\u001b[0;34m(\u001b[0m\u001b[0mjhb_comb_df\u001b[0m\u001b[0;34m,\u001b[0m \u001b[0;34m\"average\"\u001b[0m\u001b[0;34m)\u001b[0m\u001b[0;34m\u001b[0m\u001b[0;34m\u001b[0m\u001b[0m\n\u001b[1;32m      4\u001b[0m \u001b[0mjhb_comb_df\u001b[0m\u001b[0;34m=\u001b[0m\u001b[0mrand_value\u001b[0m\u001b[0;34m(\u001b[0m\u001b[0mjhb_comb_df\u001b[0m\u001b[0;34m,\u001b[0m \u001b[0;34m\"highest_price\"\u001b[0m\u001b[0;34m)\u001b[0m\u001b[0;34m\u001b[0m\u001b[0;34m\u001b[0m\u001b[0m\n\u001b[1;32m      5\u001b[0m \u001b[0mjhb_comb_df\u001b[0m\u001b[0;34m=\u001b[0m\u001b[0mrand_value\u001b[0m\u001b[0;34m(\u001b[0m\u001b[0mjhb_comb_df\u001b[0m\u001b[0;34m,\u001b[0m \u001b[0;34m\"ave_per_kg\"\u001b[0m\u001b[0;34m)\u001b[0m\u001b[0;34m\u001b[0m\u001b[0;34m\u001b[0m\u001b[0m\n",
      "\u001b[0;31mNameError\u001b[0m: name 'jhb_comb_df' is not defined"
     ]
    }
   ],
   "source": [
    "jhb_comb_df[\"date\"]=pd.to_datetime(jhb_comb_df[\"date\"])\n",
    "jhb_comb_df=rand_value(jhb_comb_df, \"total_value_sold\")\n",
    "jhb_comb_df=rand_value(jhb_comb_df, \"average\")\n",
    "jhb_comb_df=rand_value(jhb_comb_df, \"highest_price\")\n",
    "jhb_comb_df=rand_value(jhb_comb_df, \"ave_per_kg\")\n",
    "jhb_comb_df=rand_value(jhb_comb_df, \"highest_price_per_kg\")"
   ]
  },
  {
   "cell_type": "code",
   "execution_count": 24,
   "metadata": {
    "colab": {},
    "colab_type": "code",
    "id": "5cnamxdncg31"
   },
   "outputs": [],
   "source": [
    "#jhb_comb_df.info()"
   ]
  },
  {
   "cell_type": "code",
   "execution_count": 25,
   "metadata": {
    "colab": {
     "base_uri": "https://localhost:8080/",
     "height": 238
    },
    "colab_type": "code",
    "id": "6KMgbC1VclhZ",
    "outputId": "8c3fac6a-d008-4564-d8b4-79914a855f29"
   },
   "outputs": [
    {
     "ename": "NameError",
     "evalue": "ignored",
     "output_type": "error",
     "traceback": [
      "\u001b[0;31m---------------------------------------------------------------------------\u001b[0m",
      "\u001b[0;31mNameError\u001b[0m                                 Traceback (most recent call last)",
      "\u001b[0;32m<ipython-input-25-a52f0f4a72c3>\u001b[0m in \u001b[0;36m<module>\u001b[0;34m()\u001b[0m\n\u001b[0;32m----> 1\u001b[0;31m \u001b[0mwoolworths_df\u001b[0m\u001b[0;34m=\u001b[0m\u001b[0mto_numeric\u001b[0m\u001b[0;34m(\u001b[0m\u001b[0mwoolworths_df\u001b[0m\u001b[0;34m,\u001b[0m \u001b[0;34m\"Price\"\u001b[0m\u001b[0;34m)\u001b[0m\u001b[0;34m\u001b[0m\u001b[0;34m\u001b[0m\u001b[0m\n\u001b[0m\u001b[1;32m      2\u001b[0m \u001b[0mwoolworths_df\u001b[0m\u001b[0;34m[\u001b[0m\u001b[0;34m\"Date\"\u001b[0m\u001b[0;34m]\u001b[0m\u001b[0;34m=\u001b[0m\u001b[0mpd\u001b[0m\u001b[0;34m.\u001b[0m\u001b[0mto_datetime\u001b[0m\u001b[0;34m(\u001b[0m\u001b[0mwoolworths_df\u001b[0m\u001b[0;34m[\u001b[0m\u001b[0;34m\"Date\"\u001b[0m\u001b[0;34m]\u001b[0m\u001b[0;34m)\u001b[0m\u001b[0;34m\u001b[0m\u001b[0;34m\u001b[0m\u001b[0m\n\u001b[1;32m      3\u001b[0m \u001b[0;34m\u001b[0m\u001b[0m\n\u001b[1;32m      4\u001b[0m \u001b[0mpnp_df\u001b[0m\u001b[0;34m=\u001b[0m\u001b[0mto_numeric\u001b[0m\u001b[0;34m(\u001b[0m\u001b[0mpnp_df\u001b[0m\u001b[0;34m,\u001b[0m \u001b[0;34m\"Price\"\u001b[0m\u001b[0;34m)\u001b[0m\u001b[0;34m\u001b[0m\u001b[0;34m\u001b[0m\u001b[0m\n\u001b[1;32m      5\u001b[0m \u001b[0mpnp_df\u001b[0m\u001b[0;34m[\u001b[0m\u001b[0;34m\"Date\"\u001b[0m\u001b[0;34m]\u001b[0m\u001b[0;34m=\u001b[0m\u001b[0mpd\u001b[0m\u001b[0;34m.\u001b[0m\u001b[0mto_datetime\u001b[0m\u001b[0;34m(\u001b[0m\u001b[0mpnp_df\u001b[0m\u001b[0;34m[\u001b[0m\u001b[0;34m\"Date\"\u001b[0m\u001b[0;34m]\u001b[0m\u001b[0;34m)\u001b[0m\u001b[0;34m\u001b[0m\u001b[0;34m\u001b[0m\u001b[0m\n",
      "\u001b[0;31mNameError\u001b[0m: name 'woolworths_df' is not defined"
     ]
    }
   ],
   "source": [
    "woolworths_df=to_numeric(woolworths_df, \"Price\")\n",
    "woolworths_df[\"Date\"]=pd.to_datetime(woolworths_df[\"Date\"])\n",
    "\n",
    "pnp_df=to_numeric(pnp_df, \"Price\")\n",
    "pnp_df[\"Date\"]=pd.to_datetime(pnp_df[\"Date\"])\n",
    "\n",
    "shoprite_df=to_numeric(shoprite_df, \"Price\")\n",
    "shoprite_df[\"Date\"]=pd.to_datetime(shoprite_df[\"Date\"])"
   ]
  },
  {
   "cell_type": "code",
   "execution_count": 2,
   "metadata": {
    "colab": {
     "base_uri": "https://localhost:8080/",
     "height": 547
    },
    "colab_type": "code",
    "id": "EkF8n6sOcwy6",
    "outputId": "aa2a2fc4-0063-427c-eff4-922e632f4160"
   },
   "outputs": [],
   "source": [
    "# Packages need\n",
    "from sqlalchemy import create_engine\n",
    "\n",
    "import urllib\n",
    "\n",
    "params = urllib.parse.quote_plus()\n",
    "engine = create_engine(\"mssql+pyodbc:///?odbc_connect=%s\" % params)\n",
    "\n",
    "\n",
    "\n"
   ]
  },
  {
   "cell_type": "code",
   "execution_count": 27,
   "metadata": {
    "colab": {
     "base_uri": "https://localhost:8080/",
     "height": 238
    },
    "colab_type": "code",
    "id": "DmyRG1QtdTL7",
    "outputId": "99f32c90-7430-4ac2-a2de-f7acb7062e6f"
   },
   "outputs": [
    {
     "ename": "NameError",
     "evalue": "ignored",
     "output_type": "error",
     "traceback": [
      "\u001b[0;31m---------------------------------------------------------------------------\u001b[0m",
      "\u001b[0;31mNameError\u001b[0m                                 Traceback (most recent call last)",
      "\u001b[0;32m<ipython-input-27-99b4d16e39f3>\u001b[0m in \u001b[0;36m<module>\u001b[0;34m()\u001b[0m\n\u001b[1;32m      2\u001b[0m \u001b[0;31m#jhb_con_df_cleaned.to_sql('Joburg_Fresh_produce_container_cleaned', con=engine)\u001b[0m\u001b[0;34m\u001b[0m\u001b[0;34m\u001b[0m\u001b[0;34m\u001b[0m\u001b[0m\n\u001b[1;32m      3\u001b[0m \u001b[0;31m#jhb_comb_df.to_sql('Joburg_Fresh_produce_combined_cleaned', con=engine)\u001b[0m\u001b[0;34m\u001b[0m\u001b[0;34m\u001b[0m\u001b[0;34m\u001b[0m\u001b[0m\n\u001b[0;32m----> 4\u001b[0;31m \u001b[0mcpt_df\u001b[0m\u001b[0;34m.\u001b[0m\u001b[0mto_sql\u001b[0m\u001b[0;34m(\u001b[0m\u001b[0;34m'Capetown_Fresh_produce_market_cleaned'\u001b[0m\u001b[0;34m,\u001b[0m \u001b[0mcon\u001b[0m\u001b[0;34m=\u001b[0m\u001b[0mengine\u001b[0m\u001b[0;34m)\u001b[0m\u001b[0;34m\u001b[0m\u001b[0;34m\u001b[0m\u001b[0m\n\u001b[0m\u001b[1;32m      5\u001b[0m \u001b[0mdbn_df\u001b[0m\u001b[0;34m.\u001b[0m\u001b[0mto_sql\u001b[0m\u001b[0;34m(\u001b[0m\u001b[0;34m'Durban_Fresh_produce_market_cleaned'\u001b[0m\u001b[0;34m,\u001b[0m \u001b[0mcon\u001b[0m\u001b[0;34m=\u001b[0m\u001b[0mengine\u001b[0m\u001b[0;34m)\u001b[0m\u001b[0;34m\u001b[0m\u001b[0;34m\u001b[0m\u001b[0m\n\u001b[1;32m      6\u001b[0m \u001b[0mwoolworths_df\u001b[0m\u001b[0;34m.\u001b[0m\u001b[0mto_sql\u001b[0m\u001b[0;34m(\u001b[0m\u001b[0;34m'Woolworths_Prices_cleaned'\u001b[0m\u001b[0;34m,\u001b[0m \u001b[0mcon\u001b[0m\u001b[0;34m=\u001b[0m\u001b[0mengine\u001b[0m\u001b[0;34m)\u001b[0m\u001b[0;34m\u001b[0m\u001b[0;34m\u001b[0m\u001b[0m\n",
      "\u001b[0;31mNameError\u001b[0m: name 'cpt_df' is not defined"
     ]
    }
   ],
   "source": [
    "#jhb_comm_df_cleaned.to_sql('Joburg_Fresh_produce_commodity_cleaned', con=engine)\n",
    "#jhb_con_df_cleaned.to_sql('Joburg_Fresh_produce_container_cleaned', con=engine)\n",
    "#jhb_comb_df.to_sql('Joburg_Fresh_produce_combined_cleaned', con=engine)\n",
    "cpt_df.to_sql('Capetown_Fresh_produce_market_cleaned', con=engine)\n",
    "dbn_df.to_sql('Durban_Fresh_produce_market_cleaned', con=engine)\n",
    "woolworths_df.to_sql('Woolworths_Prices_cleaned', con=engine)\n",
    "pnp_df.to_sql('PickNPay_Prices_cleaned', con=engine)\n",
    "shoprite_df.to_sql('Shoprite_Prices_cleaned', con=engine)"
   ]
  },
  {
   "cell_type": "code",
   "execution_count": 28,
   "metadata": {
    "colab": {},
    "colab_type": "code",
    "id": "rr7XnfQ3dbZk"
   },
   "outputs": [],
   "source": [
    "#engine.execute(\"SELECT * FROM Joburg_Fresh_produce_commodity_cleaned\").fetchall()"
   ]
  },
  {
   "cell_type": "code",
   "execution_count": 29,
   "metadata": {
    "colab": {
     "base_uri": "https://localhost:8080/",
     "height": 238
    },
    "colab_type": "code",
    "id": "a5CZqhq3dgTE",
    "outputId": "82b3d580-7c0e-4513-f323-3b739d6ce9c7"
   },
   "outputs": [
    {
     "ename": "NameError",
     "evalue": "ignored",
     "output_type": "error",
     "traceback": [
      "\u001b[0;31m---------------------------------------------------------------------------\u001b[0m",
      "\u001b[0;31mNameError\u001b[0m                                 Traceback (most recent call last)",
      "\u001b[0;32m<ipython-input-29-0fe2defd19ac>\u001b[0m in \u001b[0;36m<module>\u001b[0;34m()\u001b[0m\n\u001b[1;32m      1\u001b[0m \u001b[0;31m# Check that temp table is in your MS SQL Database\u001b[0m\u001b[0;34m\u001b[0m\u001b[0;34m\u001b[0m\u001b[0;34m\u001b[0m\u001b[0m\n\u001b[0;32m----> 2\u001b[0;31m conn = pyodbc.connect(driver='{SQL Server}',\n\u001b[0m\u001b[1;32m      3\u001b[0m                       \u001b[0mhost\u001b[0m\u001b[0;34m=\u001b[0m\u001b[0;34m'DESKTOP-TTAV4PQ\\SQLEXPRESS'\u001b[0m\u001b[0;34m,\u001b[0m\u001b[0;34m\u001b[0m\u001b[0;34m\u001b[0m\u001b[0m\n\u001b[1;32m      4\u001b[0m                       \u001b[0mdatabase\u001b[0m\u001b[0;34m=\u001b[0m\u001b[0;34m'Fresh_Produce_Market_Data'\u001b[0m\u001b[0;34m,\u001b[0m\u001b[0;34m\u001b[0m\u001b[0;34m\u001b[0m\u001b[0m\n\u001b[1;32m      5\u001b[0m                       \u001b[0mtrusted_connection\u001b[0m\u001b[0;34m=\u001b[0m\u001b[0;34m'true'\u001b[0m\u001b[0;34m,\u001b[0m\u001b[0;34m\u001b[0m\u001b[0;34m\u001b[0m\u001b[0m\n",
      "\u001b[0;31mNameError\u001b[0m: name 'pyodbc' is not defined"
     ]
    }
   ],
   "source": [
    "# Check that temp table is in your MS SQL Database\n",
    "conn = pyodbc.connect(driver='{SQL Server}',\n",
    "                      host='DESKTOP-TTAV4PQ\\SQLEXPRESS',\n",
    "                      database='Fresh_Produce_Market_Data',\n",
    "                      trusted_connection='true',\n",
    "                      user='sa')"
   ]
  },
  {
   "cell_type": "code",
   "execution_count": 30,
   "metadata": {
    "colab": {
     "base_uri": "https://localhost:8080/",
     "height": 167
    },
    "colab_type": "code",
    "id": "A8rKvz7qdmQq",
    "outputId": "12785583-d60d-43ce-942d-305a86bc3070"
   },
   "outputs": [
    {
     "ename": "NameError",
     "evalue": "ignored",
     "output_type": "error",
     "traceback": [
      "\u001b[0;31m---------------------------------------------------------------------------\u001b[0m",
      "\u001b[0;31mNameError\u001b[0m                                 Traceback (most recent call last)",
      "\u001b[0;32m<ipython-input-30-31992560522c>\u001b[0m in \u001b[0;36m<module>\u001b[0;34m()\u001b[0m\n\u001b[0;32m----> 1\u001b[0;31m \u001b[0mcursor\u001b[0m\u001b[0;34m.\u001b[0m\u001b[0mexecute\u001b[0m\u001b[0;34m(\u001b[0m\u001b[0;34m'SELECT * from Joburg_Fresh_produce_container_cleaned'\u001b[0m\u001b[0;34m)\u001b[0m\u001b[0;34m\u001b[0m\u001b[0;34m\u001b[0m\u001b[0m\n\u001b[0m",
      "\u001b[0;31mNameError\u001b[0m: name 'cursor' is not defined"
     ]
    }
   ],
   "source": [
    "cursor.execute('SELECT * from Joburg_Fresh_produce_container_cleaned')"
   ]
  },
  {
   "cell_type": "code",
   "execution_count": 31,
   "metadata": {
    "colab": {},
    "colab_type": "code",
    "id": "pc2ZvQN0dpyS"
   },
   "outputs": [],
   "source": [
    "#cursor.fetchall()"
   ]
  },
  {
   "cell_type": "code",
   "execution_count": null,
   "metadata": {
    "colab": {},
    "colab_type": "code",
    "id": "Mzu55wqsdtTG"
   },
   "outputs": [],
   "source": []
  },
  {
   "cell_type": "markdown",
   "metadata": {
    "colab_type": "text",
    "id": "y62s_uP2dylr"
   },
   "source": [
    "Dropping a table"
   ]
  },
  {
   "cell_type": "code",
   "execution_count": 32,
   "metadata": {
    "colab": {
     "base_uri": "https://localhost:8080/",
     "height": 185
    },
    "colab_type": "code",
    "id": "SEEYazfjd0Nf",
    "outputId": "d8748489-8be3-4503-f7ca-454296e6bfed"
   },
   "outputs": [
    {
     "ename": "NameError",
     "evalue": "ignored",
     "output_type": "error",
     "traceback": [
      "\u001b[0;31m---------------------------------------------------------------------------\u001b[0m",
      "\u001b[0;31mNameError\u001b[0m                                 Traceback (most recent call last)",
      "\u001b[0;32m<ipython-input-32-d908bc7c78fe>\u001b[0m in \u001b[0;36m<module>\u001b[0;34m()\u001b[0m\n\u001b[1;32m      1\u001b[0m \u001b[0msql\u001b[0m \u001b[0;34m=\u001b[0m \u001b[0;34m'Drop TABLE Table_testing;'\u001b[0m\u001b[0;34m\u001b[0m\u001b[0;34m\u001b[0m\u001b[0m\n\u001b[0;32m----> 2\u001b[0;31m \u001b[0mconn\u001b[0m\u001b[0;34m.\u001b[0m\u001b[0mexecute\u001b[0m\u001b[0;34m(\u001b[0m\u001b[0msql\u001b[0m\u001b[0;34m)\u001b[0m\u001b[0;34m\u001b[0m\u001b[0;34m\u001b[0m\u001b[0m\n\u001b[0m",
      "\u001b[0;31mNameError\u001b[0m: name 'conn' is not defined"
     ]
    }
   ],
   "source": [
    "sql = 'Drop TABLE Table_testing;'\n",
    "conn.execute(sql)"
   ]
  },
  {
   "cell_type": "code",
   "execution_count": null,
   "metadata": {
    "colab": {},
    "colab_type": "code",
    "id": "Vr3Ztm1Pd4Pn"
   },
   "outputs": [],
   "source": []
  }
 ],
 "metadata": {
  "colab": {
   "authorship_tag": "ABX9TyO/WQh1Ijnh9gMl/iN8sLN0",
   "include_colab_link": true,
   "name": "colab-cleaning",
   "provenance": []
  },
  "kernelspec": {
   "display_name": "Python 3",
   "language": "python",
   "name": "python3"
  },
  "language_info": {
   "codemirror_mode": {
    "name": "ipython",
    "version": 3
   },
   "file_extension": ".py",
   "mimetype": "text/x-python",
   "name": "python",
   "nbconvert_exporter": "python",
   "pygments_lexer": "ipython3",
   "version": "3.7.6"
  }
 },
 "nbformat": 4,
 "nbformat_minor": 1
}
